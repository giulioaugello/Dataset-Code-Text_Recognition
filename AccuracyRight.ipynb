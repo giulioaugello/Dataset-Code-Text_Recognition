{
 "cells": [
  {
   "cell_type": "code",
   "execution_count": 1,
   "metadata": {
    "collapsed": true
   },
   "outputs": [],
   "source": [
    "import os\n",
    "import math\n",
    "\n",
    "import pandas as pd\n",
    "from numpy import arange, mean, std\n",
    "from sklearn import preprocessing\n",
    "import numpy as np"
   ]
  },
  {
   "cell_type": "code",
   "execution_count": 2,
   "outputs": [
    {
     "data": {
      "text/plain": "         AxMean     AxMed     AxStd     AxVar     AxMax     AxMin    AyMean  \\\n0     -0.955980 -1.098000  0.909562  0.827302  0.271050 -2.202000  2.796702   \n1      0.582750  0.504000  0.497610  0.247616  1.228950 -0.115950  1.239209   \n2     -1.665956 -1.339950  0.780396  0.609017 -0.553950 -2.503950  2.015613   \n3     -0.068662 -0.181500  0.477223  0.227742  0.640050 -0.667050  1.617863   \n4      0.099825  0.120000  0.297081  0.088257  0.504000 -0.463050  1.194500   \n...         ...       ...       ...       ...       ...       ...       ...   \n25620 -1.753162 -1.707077  0.092171  0.008495 -1.707077 -1.891418  1.075600   \n25621  1.156399  1.051056  0.210686  0.044388  1.472427  1.051056  0.071224   \n25622 -0.220276 -0.220276  0.000000  0.000000 -0.220276 -0.220276  0.876282   \n25623 -0.143650 -0.095764  0.095772  0.009172 -0.095764 -0.287308  0.764942   \n25624 -0.229252 -0.244217  0.029930  0.000896 -0.184357 -0.244217  1.009148   \n\n          AyMed     AyStd     AyVar  ...  PreMean  PreMed  PreStd  PreVar  \\\n0      2.635050  0.343638  0.118087  ...      1.0     1.0     0.0     0.0   \n1      1.243950  0.195806  0.038340  ...      1.0     1.0     0.0     0.0   \n2      2.050950  0.320559  0.102758  ...      1.0     1.0     0.0     0.0   \n3      1.508550  0.337742  0.114069  ...      1.0     1.0     0.0     0.0   \n4      1.156500  0.209884  0.044051  ...      1.0     1.0     0.0     0.0   \n...         ...       ...       ...  ...      ...     ...     ...     ...   \n25620  1.108521  0.065842  0.004335  ...      1.0     1.0     0.0     0.0   \n25621  0.093369  0.044289  0.001961  ...      1.0     1.0     0.0     0.0   \n25622  0.876282  0.000000  0.000000  ...      1.0     1.0     0.0     0.0   \n25623  0.735016  0.059853  0.003582  ...      1.0     1.0     0.0     0.0   \n25624  1.060623  0.102951  0.010599  ...      1.0     1.0     0.0     0.0   \n\n       PreMax  PreMin  View    User   Hand      Smartphone  \n0         1.0     1.0     w  Biagio  RIGHT        REALME 7  \n1         1.0     1.0     h  Biagio  RIGHT        REALME 7  \n2         1.0     1.0     a  Biagio  RIGHT        REALME 7  \n3         1.0     1.0     t  Biagio  RIGHT        REALME 7  \n4         1.0     1.0        Biagio  RIGHT        REALME 7  \n...       ...     ...   ...     ...    ...             ...  \n25620     1.0     1.0     a  Giulio  RIGHT  ASUS ZENFONE 3  \n25621     1.0     1.0     l  Giulio  RIGHT  ASUS ZENFONE 3  \n25622     1.0     1.0     i  Giulio  RIGHT  ASUS ZENFONE 3  \n25623     1.0     1.0     t  Giulio  RIGHT  ASUS ZENFONE 3  \n25624     1.0     1.0     y  Giulio  RIGHT  ASUS ZENFONE 3  \n\n[25625 rows x 280 columns]",
      "text/html": "<div>\n<style scoped>\n    .dataframe tbody tr th:only-of-type {\n        vertical-align: middle;\n    }\n\n    .dataframe tbody tr th {\n        vertical-align: top;\n    }\n\n    .dataframe thead th {\n        text-align: right;\n    }\n</style>\n<table border=\"1\" class=\"dataframe\">\n  <thead>\n    <tr style=\"text-align: right;\">\n      <th></th>\n      <th>AxMean</th>\n      <th>AxMed</th>\n      <th>AxStd</th>\n      <th>AxVar</th>\n      <th>AxMax</th>\n      <th>AxMin</th>\n      <th>AyMean</th>\n      <th>AyMed</th>\n      <th>AyStd</th>\n      <th>AyVar</th>\n      <th>...</th>\n      <th>PreMean</th>\n      <th>PreMed</th>\n      <th>PreStd</th>\n      <th>PreVar</th>\n      <th>PreMax</th>\n      <th>PreMin</th>\n      <th>View</th>\n      <th>User</th>\n      <th>Hand</th>\n      <th>Smartphone</th>\n    </tr>\n  </thead>\n  <tbody>\n    <tr>\n      <th>0</th>\n      <td>-0.955980</td>\n      <td>-1.098000</td>\n      <td>0.909562</td>\n      <td>0.827302</td>\n      <td>0.271050</td>\n      <td>-2.202000</td>\n      <td>2.796702</td>\n      <td>2.635050</td>\n      <td>0.343638</td>\n      <td>0.118087</td>\n      <td>...</td>\n      <td>1.0</td>\n      <td>1.0</td>\n      <td>0.0</td>\n      <td>0.0</td>\n      <td>1.0</td>\n      <td>1.0</td>\n      <td>w</td>\n      <td>Biagio</td>\n      <td>RIGHT</td>\n      <td>REALME 7</td>\n    </tr>\n    <tr>\n      <th>1</th>\n      <td>0.582750</td>\n      <td>0.504000</td>\n      <td>0.497610</td>\n      <td>0.247616</td>\n      <td>1.228950</td>\n      <td>-0.115950</td>\n      <td>1.239209</td>\n      <td>1.243950</td>\n      <td>0.195806</td>\n      <td>0.038340</td>\n      <td>...</td>\n      <td>1.0</td>\n      <td>1.0</td>\n      <td>0.0</td>\n      <td>0.0</td>\n      <td>1.0</td>\n      <td>1.0</td>\n      <td>h</td>\n      <td>Biagio</td>\n      <td>RIGHT</td>\n      <td>REALME 7</td>\n    </tr>\n    <tr>\n      <th>2</th>\n      <td>-1.665956</td>\n      <td>-1.339950</td>\n      <td>0.780396</td>\n      <td>0.609017</td>\n      <td>-0.553950</td>\n      <td>-2.503950</td>\n      <td>2.015613</td>\n      <td>2.050950</td>\n      <td>0.320559</td>\n      <td>0.102758</td>\n      <td>...</td>\n      <td>1.0</td>\n      <td>1.0</td>\n      <td>0.0</td>\n      <td>0.0</td>\n      <td>1.0</td>\n      <td>1.0</td>\n      <td>a</td>\n      <td>Biagio</td>\n      <td>RIGHT</td>\n      <td>REALME 7</td>\n    </tr>\n    <tr>\n      <th>3</th>\n      <td>-0.068662</td>\n      <td>-0.181500</td>\n      <td>0.477223</td>\n      <td>0.227742</td>\n      <td>0.640050</td>\n      <td>-0.667050</td>\n      <td>1.617863</td>\n      <td>1.508550</td>\n      <td>0.337742</td>\n      <td>0.114069</td>\n      <td>...</td>\n      <td>1.0</td>\n      <td>1.0</td>\n      <td>0.0</td>\n      <td>0.0</td>\n      <td>1.0</td>\n      <td>1.0</td>\n      <td>t</td>\n      <td>Biagio</td>\n      <td>RIGHT</td>\n      <td>REALME 7</td>\n    </tr>\n    <tr>\n      <th>4</th>\n      <td>0.099825</td>\n      <td>0.120000</td>\n      <td>0.297081</td>\n      <td>0.088257</td>\n      <td>0.504000</td>\n      <td>-0.463050</td>\n      <td>1.194500</td>\n      <td>1.156500</td>\n      <td>0.209884</td>\n      <td>0.044051</td>\n      <td>...</td>\n      <td>1.0</td>\n      <td>1.0</td>\n      <td>0.0</td>\n      <td>0.0</td>\n      <td>1.0</td>\n      <td>1.0</td>\n      <td></td>\n      <td>Biagio</td>\n      <td>RIGHT</td>\n      <td>REALME 7</td>\n    </tr>\n    <tr>\n      <th>...</th>\n      <td>...</td>\n      <td>...</td>\n      <td>...</td>\n      <td>...</td>\n      <td>...</td>\n      <td>...</td>\n      <td>...</td>\n      <td>...</td>\n      <td>...</td>\n      <td>...</td>\n      <td>...</td>\n      <td>...</td>\n      <td>...</td>\n      <td>...</td>\n      <td>...</td>\n      <td>...</td>\n      <td>...</td>\n      <td>...</td>\n      <td>...</td>\n      <td>...</td>\n      <td>...</td>\n    </tr>\n    <tr>\n      <th>25620</th>\n      <td>-1.753162</td>\n      <td>-1.707077</td>\n      <td>0.092171</td>\n      <td>0.008495</td>\n      <td>-1.707077</td>\n      <td>-1.891418</td>\n      <td>1.075600</td>\n      <td>1.108521</td>\n      <td>0.065842</td>\n      <td>0.004335</td>\n      <td>...</td>\n      <td>1.0</td>\n      <td>1.0</td>\n      <td>0.0</td>\n      <td>0.0</td>\n      <td>1.0</td>\n      <td>1.0</td>\n      <td>a</td>\n      <td>Giulio</td>\n      <td>RIGHT</td>\n      <td>ASUS ZENFONE 3</td>\n    </tr>\n    <tr>\n      <th>25621</th>\n      <td>1.156399</td>\n      <td>1.051056</td>\n      <td>0.210686</td>\n      <td>0.044388</td>\n      <td>1.472427</td>\n      <td>1.051056</td>\n      <td>0.071224</td>\n      <td>0.093369</td>\n      <td>0.044289</td>\n      <td>0.001961</td>\n      <td>...</td>\n      <td>1.0</td>\n      <td>1.0</td>\n      <td>0.0</td>\n      <td>0.0</td>\n      <td>1.0</td>\n      <td>1.0</td>\n      <td>l</td>\n      <td>Giulio</td>\n      <td>RIGHT</td>\n      <td>ASUS ZENFONE 3</td>\n    </tr>\n    <tr>\n      <th>25622</th>\n      <td>-0.220276</td>\n      <td>-0.220276</td>\n      <td>0.000000</td>\n      <td>0.000000</td>\n      <td>-0.220276</td>\n      <td>-0.220276</td>\n      <td>0.876282</td>\n      <td>0.876282</td>\n      <td>0.000000</td>\n      <td>0.000000</td>\n      <td>...</td>\n      <td>1.0</td>\n      <td>1.0</td>\n      <td>0.0</td>\n      <td>0.0</td>\n      <td>1.0</td>\n      <td>1.0</td>\n      <td>i</td>\n      <td>Giulio</td>\n      <td>RIGHT</td>\n      <td>ASUS ZENFONE 3</td>\n    </tr>\n    <tr>\n      <th>25623</th>\n      <td>-0.143650</td>\n      <td>-0.095764</td>\n      <td>0.095772</td>\n      <td>0.009172</td>\n      <td>-0.095764</td>\n      <td>-0.287308</td>\n      <td>0.764942</td>\n      <td>0.735016</td>\n      <td>0.059853</td>\n      <td>0.003582</td>\n      <td>...</td>\n      <td>1.0</td>\n      <td>1.0</td>\n      <td>0.0</td>\n      <td>0.0</td>\n      <td>1.0</td>\n      <td>1.0</td>\n      <td>t</td>\n      <td>Giulio</td>\n      <td>RIGHT</td>\n      <td>ASUS ZENFONE 3</td>\n    </tr>\n    <tr>\n      <th>25624</th>\n      <td>-0.229252</td>\n      <td>-0.244217</td>\n      <td>0.029930</td>\n      <td>0.000896</td>\n      <td>-0.184357</td>\n      <td>-0.244217</td>\n      <td>1.009148</td>\n      <td>1.060623</td>\n      <td>0.102951</td>\n      <td>0.010599</td>\n      <td>...</td>\n      <td>1.0</td>\n      <td>1.0</td>\n      <td>0.0</td>\n      <td>0.0</td>\n      <td>1.0</td>\n      <td>1.0</td>\n      <td>y</td>\n      <td>Giulio</td>\n      <td>RIGHT</td>\n      <td>ASUS ZENFONE 3</td>\n    </tr>\n  </tbody>\n</table>\n<p>25625 rows × 280 columns</p>\n</div>"
     },
     "execution_count": 2,
     "metadata": {},
     "output_type": "execute_result"
    }
   ],
   "source": [
    "# import csv\n",
    "df = pd.read_csv(\"C:\\\\Users\\\\giuli\\\\Desktop\\\\new ds\\\\merged\\\\mergedFile.csv\")\n",
    "df\n",
    "# print(df.describe())"
   ],
   "metadata": {
    "collapsed": false,
    "pycharm": {
     "name": "#%%\n"
    }
   }
  },
  {
   "cell_type": "code",
   "execution_count": 3,
   "outputs": [],
   "source": [
    "# Normalization between -1 and 1\n",
    "df_norm = df.copy()\n",
    "\n",
    "notnorm = ['View','User', 'Hand', 'Smartphone']\n",
    "min_max_scaler = preprocessing.MinMaxScaler(feature_range=(-1,1))\n",
    "\n",
    "for col in list(df_norm.columns):\n",
    "    if col in notnorm:\n",
    "        continue\n",
    "    x = df_norm[[col]].values.astype(float) # cast to float\n",
    "    x_scaled = min_max_scaler.fit_transform(x) # fit data and transform it\n",
    "    df_norm[[col]] = x_scaled"
   ],
   "metadata": {
    "collapsed": false,
    "pycharm": {
     "name": "#%%\n"
    }
   }
  },
  {
   "cell_type": "code",
   "execution_count": 4,
   "outputs": [
    {
     "data": {
      "text/plain": "         AxMean     AxMed     AxStd     AxVar     AxMax     AxMin    AyMean  \\\n0      0.035564  0.050492 -0.246425 -0.716062  0.127137 -0.053982 -0.030285   \n1      0.418963  0.425894 -0.587728 -0.915016  0.347631  0.426174 -0.401803   \n2     -0.141338 -0.006206 -0.353439 -0.790980 -0.062766 -0.123483 -0.216603   \n3      0.256653  0.265258 -0.604619 -0.921837  0.212075  0.299325 -0.311481   \n4      0.298634  0.335910 -0.753867 -0.969709  0.180758  0.346281 -0.412468   \n...         ...       ...       ...       ...       ...       ...       ...   \n25620 -0.163067 -0.092236 -0.923636 -0.997084 -0.328200  0.017506 -0.440830   \n25621  0.561896  0.554088 -0.825446 -0.984765  0.403676  0.694790 -0.680409   \n25622  0.218876  0.256172 -1.000000 -1.000000  0.014041  0.402161 -0.488374   \n25623  0.237969  0.285349 -0.920653 -0.996852  0.042701  0.386732 -0.514933   \n25624  0.216640  0.250562 -0.975203 -0.999693  0.022309  0.396651 -0.456681   \n\n          AyMed     AyStd     AyVar  ...  PreMean  PreMed  PreStd  PreVar  \\\n0     -0.040270 -0.422755 -0.833394  ...      1.0     1.0    -1.0    -1.0   \n1     -0.365685 -0.671085 -0.945907  ...      1.0     1.0    -1.0    -1.0   \n2     -0.176906 -0.461523 -0.855021  ...      1.0     1.0    -1.0    -1.0   \n3     -0.303788 -0.432660 -0.839063  ...      1.0     1.0    -1.0    -1.0   \n4     -0.386142 -0.647436 -0.937849  ...      1.0     1.0    -1.0    -1.0   \n...         ...       ...       ...  ...      ...     ...     ...     ...   \n25620 -0.397365 -0.889399 -0.993884  ...      1.0     1.0    -1.0    -1.0   \n25621 -0.634836 -0.925604 -0.997233  ...      1.0     1.0    -1.0    -1.0   \n25622 -0.451692 -1.000000 -1.000000  ...      1.0     1.0    -1.0    -1.0   \n25623 -0.484738 -0.899459 -0.994946  ...      1.0     1.0    -1.0    -1.0   \n25624 -0.408570 -0.827062 -0.985046  ...      1.0     1.0    -1.0    -1.0   \n\n       PreMax  PreMin  View    User   Hand      Smartphone  \n0         1.0     1.0     w  Biagio  RIGHT        REALME 7  \n1         1.0     1.0     h  Biagio  RIGHT        REALME 7  \n2         1.0     1.0     a  Biagio  RIGHT        REALME 7  \n3         1.0     1.0     t  Biagio  RIGHT        REALME 7  \n4         1.0     1.0        Biagio  RIGHT        REALME 7  \n...       ...     ...   ...     ...    ...             ...  \n25620     1.0     1.0     a  Giulio  RIGHT  ASUS ZENFONE 3  \n25621     1.0     1.0     l  Giulio  RIGHT  ASUS ZENFONE 3  \n25622     1.0     1.0     i  Giulio  RIGHT  ASUS ZENFONE 3  \n25623     1.0     1.0     t  Giulio  RIGHT  ASUS ZENFONE 3  \n25624     1.0     1.0     y  Giulio  RIGHT  ASUS ZENFONE 3  \n\n[25625 rows x 280 columns]",
      "text/html": "<div>\n<style scoped>\n    .dataframe tbody tr th:only-of-type {\n        vertical-align: middle;\n    }\n\n    .dataframe tbody tr th {\n        vertical-align: top;\n    }\n\n    .dataframe thead th {\n        text-align: right;\n    }\n</style>\n<table border=\"1\" class=\"dataframe\">\n  <thead>\n    <tr style=\"text-align: right;\">\n      <th></th>\n      <th>AxMean</th>\n      <th>AxMed</th>\n      <th>AxStd</th>\n      <th>AxVar</th>\n      <th>AxMax</th>\n      <th>AxMin</th>\n      <th>AyMean</th>\n      <th>AyMed</th>\n      <th>AyStd</th>\n      <th>AyVar</th>\n      <th>...</th>\n      <th>PreMean</th>\n      <th>PreMed</th>\n      <th>PreStd</th>\n      <th>PreVar</th>\n      <th>PreMax</th>\n      <th>PreMin</th>\n      <th>View</th>\n      <th>User</th>\n      <th>Hand</th>\n      <th>Smartphone</th>\n    </tr>\n  </thead>\n  <tbody>\n    <tr>\n      <th>0</th>\n      <td>0.035564</td>\n      <td>0.050492</td>\n      <td>-0.246425</td>\n      <td>-0.716062</td>\n      <td>0.127137</td>\n      <td>-0.053982</td>\n      <td>-0.030285</td>\n      <td>-0.040270</td>\n      <td>-0.422755</td>\n      <td>-0.833394</td>\n      <td>...</td>\n      <td>1.0</td>\n      <td>1.0</td>\n      <td>-1.0</td>\n      <td>-1.0</td>\n      <td>1.0</td>\n      <td>1.0</td>\n      <td>w</td>\n      <td>Biagio</td>\n      <td>RIGHT</td>\n      <td>REALME 7</td>\n    </tr>\n    <tr>\n      <th>1</th>\n      <td>0.418963</td>\n      <td>0.425894</td>\n      <td>-0.587728</td>\n      <td>-0.915016</td>\n      <td>0.347631</td>\n      <td>0.426174</td>\n      <td>-0.401803</td>\n      <td>-0.365685</td>\n      <td>-0.671085</td>\n      <td>-0.945907</td>\n      <td>...</td>\n      <td>1.0</td>\n      <td>1.0</td>\n      <td>-1.0</td>\n      <td>-1.0</td>\n      <td>1.0</td>\n      <td>1.0</td>\n      <td>h</td>\n      <td>Biagio</td>\n      <td>RIGHT</td>\n      <td>REALME 7</td>\n    </tr>\n    <tr>\n      <th>2</th>\n      <td>-0.141338</td>\n      <td>-0.006206</td>\n      <td>-0.353439</td>\n      <td>-0.790980</td>\n      <td>-0.062766</td>\n      <td>-0.123483</td>\n      <td>-0.216603</td>\n      <td>-0.176906</td>\n      <td>-0.461523</td>\n      <td>-0.855021</td>\n      <td>...</td>\n      <td>1.0</td>\n      <td>1.0</td>\n      <td>-1.0</td>\n      <td>-1.0</td>\n      <td>1.0</td>\n      <td>1.0</td>\n      <td>a</td>\n      <td>Biagio</td>\n      <td>RIGHT</td>\n      <td>REALME 7</td>\n    </tr>\n    <tr>\n      <th>3</th>\n      <td>0.256653</td>\n      <td>0.265258</td>\n      <td>-0.604619</td>\n      <td>-0.921837</td>\n      <td>0.212075</td>\n      <td>0.299325</td>\n      <td>-0.311481</td>\n      <td>-0.303788</td>\n      <td>-0.432660</td>\n      <td>-0.839063</td>\n      <td>...</td>\n      <td>1.0</td>\n      <td>1.0</td>\n      <td>-1.0</td>\n      <td>-1.0</td>\n      <td>1.0</td>\n      <td>1.0</td>\n      <td>t</td>\n      <td>Biagio</td>\n      <td>RIGHT</td>\n      <td>REALME 7</td>\n    </tr>\n    <tr>\n      <th>4</th>\n      <td>0.298634</td>\n      <td>0.335910</td>\n      <td>-0.753867</td>\n      <td>-0.969709</td>\n      <td>0.180758</td>\n      <td>0.346281</td>\n      <td>-0.412468</td>\n      <td>-0.386142</td>\n      <td>-0.647436</td>\n      <td>-0.937849</td>\n      <td>...</td>\n      <td>1.0</td>\n      <td>1.0</td>\n      <td>-1.0</td>\n      <td>-1.0</td>\n      <td>1.0</td>\n      <td>1.0</td>\n      <td></td>\n      <td>Biagio</td>\n      <td>RIGHT</td>\n      <td>REALME 7</td>\n    </tr>\n    <tr>\n      <th>...</th>\n      <td>...</td>\n      <td>...</td>\n      <td>...</td>\n      <td>...</td>\n      <td>...</td>\n      <td>...</td>\n      <td>...</td>\n      <td>...</td>\n      <td>...</td>\n      <td>...</td>\n      <td>...</td>\n      <td>...</td>\n      <td>...</td>\n      <td>...</td>\n      <td>...</td>\n      <td>...</td>\n      <td>...</td>\n      <td>...</td>\n      <td>...</td>\n      <td>...</td>\n      <td>...</td>\n    </tr>\n    <tr>\n      <th>25620</th>\n      <td>-0.163067</td>\n      <td>-0.092236</td>\n      <td>-0.923636</td>\n      <td>-0.997084</td>\n      <td>-0.328200</td>\n      <td>0.017506</td>\n      <td>-0.440830</td>\n      <td>-0.397365</td>\n      <td>-0.889399</td>\n      <td>-0.993884</td>\n      <td>...</td>\n      <td>1.0</td>\n      <td>1.0</td>\n      <td>-1.0</td>\n      <td>-1.0</td>\n      <td>1.0</td>\n      <td>1.0</td>\n      <td>a</td>\n      <td>Giulio</td>\n      <td>RIGHT</td>\n      <td>ASUS ZENFONE 3</td>\n    </tr>\n    <tr>\n      <th>25621</th>\n      <td>0.561896</td>\n      <td>0.554088</td>\n      <td>-0.825446</td>\n      <td>-0.984765</td>\n      <td>0.403676</td>\n      <td>0.694790</td>\n      <td>-0.680409</td>\n      <td>-0.634836</td>\n      <td>-0.925604</td>\n      <td>-0.997233</td>\n      <td>...</td>\n      <td>1.0</td>\n      <td>1.0</td>\n      <td>-1.0</td>\n      <td>-1.0</td>\n      <td>1.0</td>\n      <td>1.0</td>\n      <td>l</td>\n      <td>Giulio</td>\n      <td>RIGHT</td>\n      <td>ASUS ZENFONE 3</td>\n    </tr>\n    <tr>\n      <th>25622</th>\n      <td>0.218876</td>\n      <td>0.256172</td>\n      <td>-1.000000</td>\n      <td>-1.000000</td>\n      <td>0.014041</td>\n      <td>0.402161</td>\n      <td>-0.488374</td>\n      <td>-0.451692</td>\n      <td>-1.000000</td>\n      <td>-1.000000</td>\n      <td>...</td>\n      <td>1.0</td>\n      <td>1.0</td>\n      <td>-1.0</td>\n      <td>-1.0</td>\n      <td>1.0</td>\n      <td>1.0</td>\n      <td>i</td>\n      <td>Giulio</td>\n      <td>RIGHT</td>\n      <td>ASUS ZENFONE 3</td>\n    </tr>\n    <tr>\n      <th>25623</th>\n      <td>0.237969</td>\n      <td>0.285349</td>\n      <td>-0.920653</td>\n      <td>-0.996852</td>\n      <td>0.042701</td>\n      <td>0.386732</td>\n      <td>-0.514933</td>\n      <td>-0.484738</td>\n      <td>-0.899459</td>\n      <td>-0.994946</td>\n      <td>...</td>\n      <td>1.0</td>\n      <td>1.0</td>\n      <td>-1.0</td>\n      <td>-1.0</td>\n      <td>1.0</td>\n      <td>1.0</td>\n      <td>t</td>\n      <td>Giulio</td>\n      <td>RIGHT</td>\n      <td>ASUS ZENFONE 3</td>\n    </tr>\n    <tr>\n      <th>25624</th>\n      <td>0.216640</td>\n      <td>0.250562</td>\n      <td>-0.975203</td>\n      <td>-0.999693</td>\n      <td>0.022309</td>\n      <td>0.396651</td>\n      <td>-0.456681</td>\n      <td>-0.408570</td>\n      <td>-0.827062</td>\n      <td>-0.985046</td>\n      <td>...</td>\n      <td>1.0</td>\n      <td>1.0</td>\n      <td>-1.0</td>\n      <td>-1.0</td>\n      <td>1.0</td>\n      <td>1.0</td>\n      <td>y</td>\n      <td>Giulio</td>\n      <td>RIGHT</td>\n      <td>ASUS ZENFONE 3</td>\n    </tr>\n  </tbody>\n</table>\n<p>25625 rows × 280 columns</p>\n</div>"
     },
     "execution_count": 4,
     "metadata": {},
     "output_type": "execute_result"
    }
   ],
   "source": [
    "df_norm.describe()\n",
    "df = df_norm\n",
    "df"
   ],
   "metadata": {
    "collapsed": false,
    "pycharm": {
     "name": "#%%\n"
    }
   }
  },
  {
   "cell_type": "code",
   "execution_count": 5,
   "outputs": [
    {
     "data": {
      "text/plain": "         AxMean     AxMed     AxStd     AxVar     AxMax     AxMin    AyMean  \\\n0      0.035564  0.050492 -0.246425 -0.716062  0.127137 -0.053982 -0.030285   \n1      0.418963  0.425894 -0.587728 -0.915016  0.347631  0.426174 -0.401803   \n2     -0.141338 -0.006206 -0.353439 -0.790980 -0.062766 -0.123483 -0.216603   \n3      0.256653  0.265258 -0.604619 -0.921837  0.212075  0.299325 -0.311481   \n4      0.298634  0.335910 -0.753867 -0.969709  0.180758  0.346281 -0.412468   \n...         ...       ...       ...       ...       ...       ...       ...   \n25620 -0.163067 -0.092236 -0.923636 -0.997084 -0.328200  0.017506 -0.440830   \n25621  0.561896  0.554088 -0.825446 -0.984765  0.403676  0.694790 -0.680409   \n25622  0.218876  0.256172 -1.000000 -1.000000  0.014041  0.402161 -0.488374   \n25623  0.237969  0.285349 -0.920653 -0.996852  0.042701  0.386732 -0.514933   \n25624  0.216640  0.250562 -0.975203 -0.999693  0.022309  0.396651 -0.456681   \n\n          AyMed     AyStd     AyVar  ...  PreVar  PreMax  PreMin  View  \\\n0     -0.040270 -0.422755 -0.833394  ...    -1.0     1.0     1.0     w   \n1     -0.365685 -0.671085 -0.945907  ...    -1.0     1.0     1.0     h   \n2     -0.176906 -0.461523 -0.855021  ...    -1.0     1.0     1.0     a   \n3     -0.303788 -0.432660 -0.839063  ...    -1.0     1.0     1.0     t   \n4     -0.386142 -0.647436 -0.937849  ...    -1.0     1.0     1.0         \n...         ...       ...       ...  ...     ...     ...     ...   ...   \n25620 -0.397365 -0.889399 -0.993884  ...    -1.0     1.0     1.0     a   \n25621 -0.634836 -0.925604 -0.997233  ...    -1.0     1.0     1.0     l   \n25622 -0.451692 -1.000000 -1.000000  ...    -1.0     1.0     1.0     i   \n25623 -0.484738 -0.899459 -0.994946  ...    -1.0     1.0     1.0     t   \n25624 -0.408570 -0.827062 -0.985046  ...    -1.0     1.0     1.0     y   \n\n         User   Hand      Smartphone    x  y      dist  \n0      Biagio  RIGHT        REALME 7  2.0  0  1.118034  \n1      Biagio  RIGHT        REALME 7  6.5  1  5.000000  \n2      Biagio  RIGHT        REALME 7  1.5  1  0.000000  \n3      Biagio  RIGHT        REALME 7  5.0  0  3.640055  \n4      Biagio  RIGHT        REALME 7  5.0  3  4.031129  \n...       ...    ...             ...  ... ..       ...  \n25620  Giulio  RIGHT  ASUS ZENFONE 3  1.5  1  0.000000  \n25621  Giulio  RIGHT  ASUS ZENFONE 3  9.5  1  8.000000  \n25622  Giulio  RIGHT  ASUS ZENFONE 3  8.0  0  6.576473  \n25623  Giulio  RIGHT  ASUS ZENFONE 3  5.0  0  3.640055  \n25624  Giulio  RIGHT  ASUS ZENFONE 3  6.0  0  4.609772  \n\n[25625 rows x 283 columns]",
      "text/html": "<div>\n<style scoped>\n    .dataframe tbody tr th:only-of-type {\n        vertical-align: middle;\n    }\n\n    .dataframe tbody tr th {\n        vertical-align: top;\n    }\n\n    .dataframe thead th {\n        text-align: right;\n    }\n</style>\n<table border=\"1\" class=\"dataframe\">\n  <thead>\n    <tr style=\"text-align: right;\">\n      <th></th>\n      <th>AxMean</th>\n      <th>AxMed</th>\n      <th>AxStd</th>\n      <th>AxVar</th>\n      <th>AxMax</th>\n      <th>AxMin</th>\n      <th>AyMean</th>\n      <th>AyMed</th>\n      <th>AyStd</th>\n      <th>AyVar</th>\n      <th>...</th>\n      <th>PreVar</th>\n      <th>PreMax</th>\n      <th>PreMin</th>\n      <th>View</th>\n      <th>User</th>\n      <th>Hand</th>\n      <th>Smartphone</th>\n      <th>x</th>\n      <th>y</th>\n      <th>dist</th>\n    </tr>\n  </thead>\n  <tbody>\n    <tr>\n      <th>0</th>\n      <td>0.035564</td>\n      <td>0.050492</td>\n      <td>-0.246425</td>\n      <td>-0.716062</td>\n      <td>0.127137</td>\n      <td>-0.053982</td>\n      <td>-0.030285</td>\n      <td>-0.040270</td>\n      <td>-0.422755</td>\n      <td>-0.833394</td>\n      <td>...</td>\n      <td>-1.0</td>\n      <td>1.0</td>\n      <td>1.0</td>\n      <td>w</td>\n      <td>Biagio</td>\n      <td>RIGHT</td>\n      <td>REALME 7</td>\n      <td>2.0</td>\n      <td>0</td>\n      <td>1.118034</td>\n    </tr>\n    <tr>\n      <th>1</th>\n      <td>0.418963</td>\n      <td>0.425894</td>\n      <td>-0.587728</td>\n      <td>-0.915016</td>\n      <td>0.347631</td>\n      <td>0.426174</td>\n      <td>-0.401803</td>\n      <td>-0.365685</td>\n      <td>-0.671085</td>\n      <td>-0.945907</td>\n      <td>...</td>\n      <td>-1.0</td>\n      <td>1.0</td>\n      <td>1.0</td>\n      <td>h</td>\n      <td>Biagio</td>\n      <td>RIGHT</td>\n      <td>REALME 7</td>\n      <td>6.5</td>\n      <td>1</td>\n      <td>5.000000</td>\n    </tr>\n    <tr>\n      <th>2</th>\n      <td>-0.141338</td>\n      <td>-0.006206</td>\n      <td>-0.353439</td>\n      <td>-0.790980</td>\n      <td>-0.062766</td>\n      <td>-0.123483</td>\n      <td>-0.216603</td>\n      <td>-0.176906</td>\n      <td>-0.461523</td>\n      <td>-0.855021</td>\n      <td>...</td>\n      <td>-1.0</td>\n      <td>1.0</td>\n      <td>1.0</td>\n      <td>a</td>\n      <td>Biagio</td>\n      <td>RIGHT</td>\n      <td>REALME 7</td>\n      <td>1.5</td>\n      <td>1</td>\n      <td>0.000000</td>\n    </tr>\n    <tr>\n      <th>3</th>\n      <td>0.256653</td>\n      <td>0.265258</td>\n      <td>-0.604619</td>\n      <td>-0.921837</td>\n      <td>0.212075</td>\n      <td>0.299325</td>\n      <td>-0.311481</td>\n      <td>-0.303788</td>\n      <td>-0.432660</td>\n      <td>-0.839063</td>\n      <td>...</td>\n      <td>-1.0</td>\n      <td>1.0</td>\n      <td>1.0</td>\n      <td>t</td>\n      <td>Biagio</td>\n      <td>RIGHT</td>\n      <td>REALME 7</td>\n      <td>5.0</td>\n      <td>0</td>\n      <td>3.640055</td>\n    </tr>\n    <tr>\n      <th>4</th>\n      <td>0.298634</td>\n      <td>0.335910</td>\n      <td>-0.753867</td>\n      <td>-0.969709</td>\n      <td>0.180758</td>\n      <td>0.346281</td>\n      <td>-0.412468</td>\n      <td>-0.386142</td>\n      <td>-0.647436</td>\n      <td>-0.937849</td>\n      <td>...</td>\n      <td>-1.0</td>\n      <td>1.0</td>\n      <td>1.0</td>\n      <td></td>\n      <td>Biagio</td>\n      <td>RIGHT</td>\n      <td>REALME 7</td>\n      <td>5.0</td>\n      <td>3</td>\n      <td>4.031129</td>\n    </tr>\n    <tr>\n      <th>...</th>\n      <td>...</td>\n      <td>...</td>\n      <td>...</td>\n      <td>...</td>\n      <td>...</td>\n      <td>...</td>\n      <td>...</td>\n      <td>...</td>\n      <td>...</td>\n      <td>...</td>\n      <td>...</td>\n      <td>...</td>\n      <td>...</td>\n      <td>...</td>\n      <td>...</td>\n      <td>...</td>\n      <td>...</td>\n      <td>...</td>\n      <td>...</td>\n      <td>...</td>\n      <td>...</td>\n    </tr>\n    <tr>\n      <th>25620</th>\n      <td>-0.163067</td>\n      <td>-0.092236</td>\n      <td>-0.923636</td>\n      <td>-0.997084</td>\n      <td>-0.328200</td>\n      <td>0.017506</td>\n      <td>-0.440830</td>\n      <td>-0.397365</td>\n      <td>-0.889399</td>\n      <td>-0.993884</td>\n      <td>...</td>\n      <td>-1.0</td>\n      <td>1.0</td>\n      <td>1.0</td>\n      <td>a</td>\n      <td>Giulio</td>\n      <td>RIGHT</td>\n      <td>ASUS ZENFONE 3</td>\n      <td>1.5</td>\n      <td>1</td>\n      <td>0.000000</td>\n    </tr>\n    <tr>\n      <th>25621</th>\n      <td>0.561896</td>\n      <td>0.554088</td>\n      <td>-0.825446</td>\n      <td>-0.984765</td>\n      <td>0.403676</td>\n      <td>0.694790</td>\n      <td>-0.680409</td>\n      <td>-0.634836</td>\n      <td>-0.925604</td>\n      <td>-0.997233</td>\n      <td>...</td>\n      <td>-1.0</td>\n      <td>1.0</td>\n      <td>1.0</td>\n      <td>l</td>\n      <td>Giulio</td>\n      <td>RIGHT</td>\n      <td>ASUS ZENFONE 3</td>\n      <td>9.5</td>\n      <td>1</td>\n      <td>8.000000</td>\n    </tr>\n    <tr>\n      <th>25622</th>\n      <td>0.218876</td>\n      <td>0.256172</td>\n      <td>-1.000000</td>\n      <td>-1.000000</td>\n      <td>0.014041</td>\n      <td>0.402161</td>\n      <td>-0.488374</td>\n      <td>-0.451692</td>\n      <td>-1.000000</td>\n      <td>-1.000000</td>\n      <td>...</td>\n      <td>-1.0</td>\n      <td>1.0</td>\n      <td>1.0</td>\n      <td>i</td>\n      <td>Giulio</td>\n      <td>RIGHT</td>\n      <td>ASUS ZENFONE 3</td>\n      <td>8.0</td>\n      <td>0</td>\n      <td>6.576473</td>\n    </tr>\n    <tr>\n      <th>25623</th>\n      <td>0.237969</td>\n      <td>0.285349</td>\n      <td>-0.920653</td>\n      <td>-0.996852</td>\n      <td>0.042701</td>\n      <td>0.386732</td>\n      <td>-0.514933</td>\n      <td>-0.484738</td>\n      <td>-0.899459</td>\n      <td>-0.994946</td>\n      <td>...</td>\n      <td>-1.0</td>\n      <td>1.0</td>\n      <td>1.0</td>\n      <td>t</td>\n      <td>Giulio</td>\n      <td>RIGHT</td>\n      <td>ASUS ZENFONE 3</td>\n      <td>5.0</td>\n      <td>0</td>\n      <td>3.640055</td>\n    </tr>\n    <tr>\n      <th>25624</th>\n      <td>0.216640</td>\n      <td>0.250562</td>\n      <td>-0.975203</td>\n      <td>-0.999693</td>\n      <td>0.022309</td>\n      <td>0.396651</td>\n      <td>-0.456681</td>\n      <td>-0.408570</td>\n      <td>-0.827062</td>\n      <td>-0.985046</td>\n      <td>...</td>\n      <td>-1.0</td>\n      <td>1.0</td>\n      <td>1.0</td>\n      <td>y</td>\n      <td>Giulio</td>\n      <td>RIGHT</td>\n      <td>ASUS ZENFONE 3</td>\n      <td>6.0</td>\n      <td>0</td>\n      <td>4.609772</td>\n    </tr>\n  </tbody>\n</table>\n<p>25625 rows × 283 columns</p>\n</div>"
     },
     "execution_count": 5,
     "metadata": {},
     "output_type": "execute_result"
    }
   ],
   "source": [
    "# add letters\n",
    "letters = [\"a\",\"b\",\"c\",\"d\",\"e\",\"f\",\"g\",\"h\",\"i\",\"j\",\"k\",\"l\",\"m\",\"n\",\"o\",\"p\",\"q\",\"r\",\"s\",\"t\",\"u\",\"v\",\"w\",\"x\",\"y\",\"z\",\" \"]\n",
    "# add distances from left margin (xAxis) and top margin (yAxis) (start from 1)\n",
    "yAxis = [ 1,  2,  2,  1,  0,  1,  1,  1,  0,  1,  1,  1,  2,  2,  0,  0,  0,  0,  1,  0,  0,  2,  0,  2,  0,  2, 3]\n",
    "xAxis =[ 1.5,  6,  4,  3.5,  3,  4.5,  5.5, 6.5,  8,  7.5, 8.5,  9.5,  8,  7,  9,  10,  1,  4,  2.5,  5,  7,  5,  2,  3,  6,  2, 5]\n",
    "\n",
    "# pair of distances for letters\n",
    "dict_letters = {}\n",
    "for i, let in enumerate(letters):\n",
    "    dict_letters[let] = (xAxis[i], yAxis[i])\n",
    "\n",
    "center = \"a\"\n",
    "dict_dist = {}\n",
    "for let in letters:\n",
    "    dict_dist[let] = math.sqrt((dict_letters[center][0] - dict_letters[let][0])**2 + (dict_letters[center][1] - dict_letters[let][1])**2)\n",
    "\n",
    "# write in df distances and dist from center\n",
    "df.loc[:,'x'] = df.apply(lambda x: dict_letters[x['View']][0], axis=1)\n",
    "df.loc[:,'y'] = df.apply(lambda x: dict_letters[x['View']][1], axis=1)\n",
    "df.loc[:,'dist'] = df.apply(lambda x: dict_dist[x['View']], axis=1)\n",
    "df"
   ],
   "metadata": {
    "collapsed": false,
    "pycharm": {
     "name": "#%%\n"
    }
   }
  },
  {
   "cell_type": "code",
   "execution_count": 6,
   "outputs": [
    {
     "data": {
      "text/plain": "   View      dist     x  y    AxMean     AxMed     AxStd     AxVar     AxMax  \\\n0        4.031129   5.0  3  0.263204  0.296761 -0.746812 -0.953980  0.153360   \n1     a  0.000000   1.5  1 -0.158803 -0.102414 -0.562209 -0.852578 -0.165842   \n2     b  4.609772   6.0  2  0.259733  0.294619 -0.751112 -0.953407  0.142498   \n3     c  2.692582   4.0  2  0.176625  0.217678 -0.701008 -0.926940  0.089153   \n4     d  2.000000   3.5  1  0.066985  0.114844 -0.686925 -0.921824 -0.008257   \n5     e  1.802776   3.0  0 -0.023094  0.028453 -0.655597 -0.903264 -0.083387   \n6     f  3.000000   4.5  1  0.108786  0.152744 -0.727190 -0.938727  0.012964   \n7     g  4.000000   5.5  1  0.147901  0.191665 -0.720540 -0.940661  0.052033   \n8     h  5.000000   6.5  1  0.241819  0.277230 -0.748850 -0.951136  0.126884   \n9     i  6.576473   8.0  0  0.255855  0.290744 -0.740584 -0.949152  0.147189   \n10    j  6.000000   7.5  1  0.272473  0.309670 -0.755372 -0.956453  0.149772   \n11    k  7.000000   8.5  1  0.339304  0.369111 -0.727644 -0.945306  0.225544   \n12    l  8.000000   9.5  1  0.382233  0.405073 -0.638259 -0.906771  0.306763   \n13    m  6.576473   8.0  2  0.389207  0.418690 -0.707943 -0.937793  0.278708   \n14    n  5.590170   7.0  2  0.331634  0.362837 -0.743480 -0.951985  0.213202   \n15    o  7.566373   9.0  0  0.286624  0.319884 -0.733715 -0.947680  0.179723   \n16    p  8.558621  10.0  0  0.371898  0.392885 -0.601324 -0.892655  0.319657   \n17    q  1.118034   1.0  0 -0.264526 -0.198774 -0.531499 -0.839556 -0.256962   \n18    r  2.692582   4.0  0  0.069555  0.116442 -0.704776 -0.931194 -0.012913   \n19    s  1.000000   2.5  1 -0.006690  0.040577 -0.628584 -0.887011 -0.051007   \n20    t  3.640055   5.0  0  0.116050  0.163092 -0.724649 -0.940552  0.018509   \n21    u  5.590170   7.0  0  0.217092  0.254366 -0.722287 -0.941304  0.113238   \n22    v  3.640055   5.0  2  0.216043  0.255153 -0.725401 -0.945603  0.113690   \n23    w  1.118034   2.0  0 -0.123910 -0.070142 -0.526372 -0.828295 -0.125490   \n24    x  1.802776   3.0  2  0.118531  0.163655 -0.692257 -0.921865  0.037162   \n25    y  4.609772   6.0  0  0.171649  0.210967 -0.737031 -0.944728  0.064431   \n26    z  1.118034   2.0  2  0.023697  0.075727 -0.653561 -0.901157 -0.035312   \n\n       AxMin  ...  GrPitchStd  GrPitchVar  GrPitchMax  GrPitchMin   PreMean  \\\n0   0.343680  ...   -0.774955   -0.954829   -0.167063   -0.119677  0.344867   \n1  -0.113848  ...   -0.673249   -0.907875    0.282449    0.283081  0.374189   \n2   0.344963  ...   -0.827397   -0.969894   -0.172722   -0.112642  0.331312   \n3   0.239879  ...   -0.789811   -0.959105   -0.081256   -0.038746  0.361868   \n4   0.134961  ...   -0.754170   -0.944572    0.036505    0.063000  0.371255   \n5   0.042347  ...   -0.721175   -0.929613    0.131097    0.146652  0.342579   \n6   0.192386  ...   -0.774333   -0.950961   -0.018478    0.018350  0.351042   \n7   0.223479  ...   -0.791777   -0.958728   -0.042781    0.000280  0.374867   \n8   0.324900  ...   -0.816898   -0.968289   -0.146433   -0.090606  0.378174   \n9   0.335956  ...   -0.816679   -0.967333   -0.174606   -0.119239  0.362228   \n10  0.357694  ...   -0.833686   -0.973050   -0.186007   -0.125157  0.405134   \n11  0.408772  ...   -0.800661   -0.954912   -0.262451   -0.206437  0.376719   \n12  0.417367  ...   -0.745010   -0.936543   -0.322365   -0.275522  0.319872   \n13  0.442163  ...   -0.805700   -0.961176   -0.321530   -0.262477  0.388432   \n14  0.403625  ...   -0.804161   -0.960631   -0.251065   -0.193773  0.382777   \n15  0.362403  ...   -0.785088   -0.958472   -0.213353   -0.162598  0.351025   \n16  0.391443  ...   -0.697584   -0.923587   -0.308737   -0.274732  0.336231   \n17 -0.221133  ...   -0.645388   -0.888733    0.401593    0.395122  0.344465   \n18  0.141925  ...   -0.747409   -0.943475    0.035223    0.063408  0.352901   \n19  0.048894  ...   -0.738408   -0.937212    0.113424    0.131729  0.348505   \n20  0.190351  ...   -0.772339   -0.952973   -0.012277    0.025682  0.325021   \n21  0.293188  ...   -0.791973   -0.949892   -0.126995   -0.076215  0.311063   \n22  0.291929  ...   -0.823008   -0.971734   -0.123508   -0.068384  0.377762   \n23 -0.095749  ...   -0.659208   -0.906468    0.242984    0.242556  0.373852   \n24  0.184497  ...   -0.766687   -0.950972   -0.012482    0.022255  0.415190   \n25  0.256416  ...   -0.820402   -0.966527   -0.077335   -0.022922  0.332406   \n26  0.082856  ...   -0.751571   -0.944376    0.091066    0.115010  0.365227   \n\n      PreMed  PreStd  PreVar    PreMax    PreMin  \n0   0.344867    -1.0    -1.0  0.344867  0.344867  \n1   0.374189    -1.0    -1.0  0.374189  0.374189  \n2   0.331312    -1.0    -1.0  0.331312  0.331312  \n3   0.361868    -1.0    -1.0  0.361868  0.361868  \n4   0.371255    -1.0    -1.0  0.371255  0.371255  \n5   0.342579    -1.0    -1.0  0.342579  0.342579  \n6   0.351042    -1.0    -1.0  0.351042  0.351042  \n7   0.374867    -1.0    -1.0  0.374867  0.374867  \n8   0.378174    -1.0    -1.0  0.378174  0.378174  \n9   0.362228    -1.0    -1.0  0.362228  0.362228  \n10  0.405134    -1.0    -1.0  0.405134  0.405134  \n11  0.376719    -1.0    -1.0  0.376719  0.376719  \n12  0.319872    -1.0    -1.0  0.319872  0.319872  \n13  0.388432    -1.0    -1.0  0.388432  0.388432  \n14  0.382777    -1.0    -1.0  0.382777  0.382777  \n15  0.351025    -1.0    -1.0  0.351025  0.351025  \n16  0.336231    -1.0    -1.0  0.336231  0.336231  \n17  0.344465    -1.0    -1.0  0.344465  0.344465  \n18  0.352901    -1.0    -1.0  0.352901  0.352901  \n19  0.348505    -1.0    -1.0  0.348505  0.348505  \n20  0.325021    -1.0    -1.0  0.325021  0.325021  \n21  0.311063    -1.0    -1.0  0.311063  0.311063  \n22  0.377762    -1.0    -1.0  0.377762  0.377762  \n23  0.373852    -1.0    -1.0  0.373852  0.373852  \n24  0.415190    -1.0    -1.0  0.415190  0.415190  \n25  0.332406    -1.0    -1.0  0.332406  0.332406  \n26  0.365227    -1.0    -1.0  0.365227  0.365227  \n\n[27 rows x 280 columns]",
      "text/html": "<div>\n<style scoped>\n    .dataframe tbody tr th:only-of-type {\n        vertical-align: middle;\n    }\n\n    .dataframe tbody tr th {\n        vertical-align: top;\n    }\n\n    .dataframe thead th {\n        text-align: right;\n    }\n</style>\n<table border=\"1\" class=\"dataframe\">\n  <thead>\n    <tr style=\"text-align: right;\">\n      <th></th>\n      <th>View</th>\n      <th>dist</th>\n      <th>x</th>\n      <th>y</th>\n      <th>AxMean</th>\n      <th>AxMed</th>\n      <th>AxStd</th>\n      <th>AxVar</th>\n      <th>AxMax</th>\n      <th>AxMin</th>\n      <th>...</th>\n      <th>GrPitchStd</th>\n      <th>GrPitchVar</th>\n      <th>GrPitchMax</th>\n      <th>GrPitchMin</th>\n      <th>PreMean</th>\n      <th>PreMed</th>\n      <th>PreStd</th>\n      <th>PreVar</th>\n      <th>PreMax</th>\n      <th>PreMin</th>\n    </tr>\n  </thead>\n  <tbody>\n    <tr>\n      <th>0</th>\n      <td></td>\n      <td>4.031129</td>\n      <td>5.0</td>\n      <td>3</td>\n      <td>0.263204</td>\n      <td>0.296761</td>\n      <td>-0.746812</td>\n      <td>-0.953980</td>\n      <td>0.153360</td>\n      <td>0.343680</td>\n      <td>...</td>\n      <td>-0.774955</td>\n      <td>-0.954829</td>\n      <td>-0.167063</td>\n      <td>-0.119677</td>\n      <td>0.344867</td>\n      <td>0.344867</td>\n      <td>-1.0</td>\n      <td>-1.0</td>\n      <td>0.344867</td>\n      <td>0.344867</td>\n    </tr>\n    <tr>\n      <th>1</th>\n      <td>a</td>\n      <td>0.000000</td>\n      <td>1.5</td>\n      <td>1</td>\n      <td>-0.158803</td>\n      <td>-0.102414</td>\n      <td>-0.562209</td>\n      <td>-0.852578</td>\n      <td>-0.165842</td>\n      <td>-0.113848</td>\n      <td>...</td>\n      <td>-0.673249</td>\n      <td>-0.907875</td>\n      <td>0.282449</td>\n      <td>0.283081</td>\n      <td>0.374189</td>\n      <td>0.374189</td>\n      <td>-1.0</td>\n      <td>-1.0</td>\n      <td>0.374189</td>\n      <td>0.374189</td>\n    </tr>\n    <tr>\n      <th>2</th>\n      <td>b</td>\n      <td>4.609772</td>\n      <td>6.0</td>\n      <td>2</td>\n      <td>0.259733</td>\n      <td>0.294619</td>\n      <td>-0.751112</td>\n      <td>-0.953407</td>\n      <td>0.142498</td>\n      <td>0.344963</td>\n      <td>...</td>\n      <td>-0.827397</td>\n      <td>-0.969894</td>\n      <td>-0.172722</td>\n      <td>-0.112642</td>\n      <td>0.331312</td>\n      <td>0.331312</td>\n      <td>-1.0</td>\n      <td>-1.0</td>\n      <td>0.331312</td>\n      <td>0.331312</td>\n    </tr>\n    <tr>\n      <th>3</th>\n      <td>c</td>\n      <td>2.692582</td>\n      <td>4.0</td>\n      <td>2</td>\n      <td>0.176625</td>\n      <td>0.217678</td>\n      <td>-0.701008</td>\n      <td>-0.926940</td>\n      <td>0.089153</td>\n      <td>0.239879</td>\n      <td>...</td>\n      <td>-0.789811</td>\n      <td>-0.959105</td>\n      <td>-0.081256</td>\n      <td>-0.038746</td>\n      <td>0.361868</td>\n      <td>0.361868</td>\n      <td>-1.0</td>\n      <td>-1.0</td>\n      <td>0.361868</td>\n      <td>0.361868</td>\n    </tr>\n    <tr>\n      <th>4</th>\n      <td>d</td>\n      <td>2.000000</td>\n      <td>3.5</td>\n      <td>1</td>\n      <td>0.066985</td>\n      <td>0.114844</td>\n      <td>-0.686925</td>\n      <td>-0.921824</td>\n      <td>-0.008257</td>\n      <td>0.134961</td>\n      <td>...</td>\n      <td>-0.754170</td>\n      <td>-0.944572</td>\n      <td>0.036505</td>\n      <td>0.063000</td>\n      <td>0.371255</td>\n      <td>0.371255</td>\n      <td>-1.0</td>\n      <td>-1.0</td>\n      <td>0.371255</td>\n      <td>0.371255</td>\n    </tr>\n    <tr>\n      <th>5</th>\n      <td>e</td>\n      <td>1.802776</td>\n      <td>3.0</td>\n      <td>0</td>\n      <td>-0.023094</td>\n      <td>0.028453</td>\n      <td>-0.655597</td>\n      <td>-0.903264</td>\n      <td>-0.083387</td>\n      <td>0.042347</td>\n      <td>...</td>\n      <td>-0.721175</td>\n      <td>-0.929613</td>\n      <td>0.131097</td>\n      <td>0.146652</td>\n      <td>0.342579</td>\n      <td>0.342579</td>\n      <td>-1.0</td>\n      <td>-1.0</td>\n      <td>0.342579</td>\n      <td>0.342579</td>\n    </tr>\n    <tr>\n      <th>6</th>\n      <td>f</td>\n      <td>3.000000</td>\n      <td>4.5</td>\n      <td>1</td>\n      <td>0.108786</td>\n      <td>0.152744</td>\n      <td>-0.727190</td>\n      <td>-0.938727</td>\n      <td>0.012964</td>\n      <td>0.192386</td>\n      <td>...</td>\n      <td>-0.774333</td>\n      <td>-0.950961</td>\n      <td>-0.018478</td>\n      <td>0.018350</td>\n      <td>0.351042</td>\n      <td>0.351042</td>\n      <td>-1.0</td>\n      <td>-1.0</td>\n      <td>0.351042</td>\n      <td>0.351042</td>\n    </tr>\n    <tr>\n      <th>7</th>\n      <td>g</td>\n      <td>4.000000</td>\n      <td>5.5</td>\n      <td>1</td>\n      <td>0.147901</td>\n      <td>0.191665</td>\n      <td>-0.720540</td>\n      <td>-0.940661</td>\n      <td>0.052033</td>\n      <td>0.223479</td>\n      <td>...</td>\n      <td>-0.791777</td>\n      <td>-0.958728</td>\n      <td>-0.042781</td>\n      <td>0.000280</td>\n      <td>0.374867</td>\n      <td>0.374867</td>\n      <td>-1.0</td>\n      <td>-1.0</td>\n      <td>0.374867</td>\n      <td>0.374867</td>\n    </tr>\n    <tr>\n      <th>8</th>\n      <td>h</td>\n      <td>5.000000</td>\n      <td>6.5</td>\n      <td>1</td>\n      <td>0.241819</td>\n      <td>0.277230</td>\n      <td>-0.748850</td>\n      <td>-0.951136</td>\n      <td>0.126884</td>\n      <td>0.324900</td>\n      <td>...</td>\n      <td>-0.816898</td>\n      <td>-0.968289</td>\n      <td>-0.146433</td>\n      <td>-0.090606</td>\n      <td>0.378174</td>\n      <td>0.378174</td>\n      <td>-1.0</td>\n      <td>-1.0</td>\n      <td>0.378174</td>\n      <td>0.378174</td>\n    </tr>\n    <tr>\n      <th>9</th>\n      <td>i</td>\n      <td>6.576473</td>\n      <td>8.0</td>\n      <td>0</td>\n      <td>0.255855</td>\n      <td>0.290744</td>\n      <td>-0.740584</td>\n      <td>-0.949152</td>\n      <td>0.147189</td>\n      <td>0.335956</td>\n      <td>...</td>\n      <td>-0.816679</td>\n      <td>-0.967333</td>\n      <td>-0.174606</td>\n      <td>-0.119239</td>\n      <td>0.362228</td>\n      <td>0.362228</td>\n      <td>-1.0</td>\n      <td>-1.0</td>\n      <td>0.362228</td>\n      <td>0.362228</td>\n    </tr>\n    <tr>\n      <th>10</th>\n      <td>j</td>\n      <td>6.000000</td>\n      <td>7.5</td>\n      <td>1</td>\n      <td>0.272473</td>\n      <td>0.309670</td>\n      <td>-0.755372</td>\n      <td>-0.956453</td>\n      <td>0.149772</td>\n      <td>0.357694</td>\n      <td>...</td>\n      <td>-0.833686</td>\n      <td>-0.973050</td>\n      <td>-0.186007</td>\n      <td>-0.125157</td>\n      <td>0.405134</td>\n      <td>0.405134</td>\n      <td>-1.0</td>\n      <td>-1.0</td>\n      <td>0.405134</td>\n      <td>0.405134</td>\n    </tr>\n    <tr>\n      <th>11</th>\n      <td>k</td>\n      <td>7.000000</td>\n      <td>8.5</td>\n      <td>1</td>\n      <td>0.339304</td>\n      <td>0.369111</td>\n      <td>-0.727644</td>\n      <td>-0.945306</td>\n      <td>0.225544</td>\n      <td>0.408772</td>\n      <td>...</td>\n      <td>-0.800661</td>\n      <td>-0.954912</td>\n      <td>-0.262451</td>\n      <td>-0.206437</td>\n      <td>0.376719</td>\n      <td>0.376719</td>\n      <td>-1.0</td>\n      <td>-1.0</td>\n      <td>0.376719</td>\n      <td>0.376719</td>\n    </tr>\n    <tr>\n      <th>12</th>\n      <td>l</td>\n      <td>8.000000</td>\n      <td>9.5</td>\n      <td>1</td>\n      <td>0.382233</td>\n      <td>0.405073</td>\n      <td>-0.638259</td>\n      <td>-0.906771</td>\n      <td>0.306763</td>\n      <td>0.417367</td>\n      <td>...</td>\n      <td>-0.745010</td>\n      <td>-0.936543</td>\n      <td>-0.322365</td>\n      <td>-0.275522</td>\n      <td>0.319872</td>\n      <td>0.319872</td>\n      <td>-1.0</td>\n      <td>-1.0</td>\n      <td>0.319872</td>\n      <td>0.319872</td>\n    </tr>\n    <tr>\n      <th>13</th>\n      <td>m</td>\n      <td>6.576473</td>\n      <td>8.0</td>\n      <td>2</td>\n      <td>0.389207</td>\n      <td>0.418690</td>\n      <td>-0.707943</td>\n      <td>-0.937793</td>\n      <td>0.278708</td>\n      <td>0.442163</td>\n      <td>...</td>\n      <td>-0.805700</td>\n      <td>-0.961176</td>\n      <td>-0.321530</td>\n      <td>-0.262477</td>\n      <td>0.388432</td>\n      <td>0.388432</td>\n      <td>-1.0</td>\n      <td>-1.0</td>\n      <td>0.388432</td>\n      <td>0.388432</td>\n    </tr>\n    <tr>\n      <th>14</th>\n      <td>n</td>\n      <td>5.590170</td>\n      <td>7.0</td>\n      <td>2</td>\n      <td>0.331634</td>\n      <td>0.362837</td>\n      <td>-0.743480</td>\n      <td>-0.951985</td>\n      <td>0.213202</td>\n      <td>0.403625</td>\n      <td>...</td>\n      <td>-0.804161</td>\n      <td>-0.960631</td>\n      <td>-0.251065</td>\n      <td>-0.193773</td>\n      <td>0.382777</td>\n      <td>0.382777</td>\n      <td>-1.0</td>\n      <td>-1.0</td>\n      <td>0.382777</td>\n      <td>0.382777</td>\n    </tr>\n    <tr>\n      <th>15</th>\n      <td>o</td>\n      <td>7.566373</td>\n      <td>9.0</td>\n      <td>0</td>\n      <td>0.286624</td>\n      <td>0.319884</td>\n      <td>-0.733715</td>\n      <td>-0.947680</td>\n      <td>0.179723</td>\n      <td>0.362403</td>\n      <td>...</td>\n      <td>-0.785088</td>\n      <td>-0.958472</td>\n      <td>-0.213353</td>\n      <td>-0.162598</td>\n      <td>0.351025</td>\n      <td>0.351025</td>\n      <td>-1.0</td>\n      <td>-1.0</td>\n      <td>0.351025</td>\n      <td>0.351025</td>\n    </tr>\n    <tr>\n      <th>16</th>\n      <td>p</td>\n      <td>8.558621</td>\n      <td>10.0</td>\n      <td>0</td>\n      <td>0.371898</td>\n      <td>0.392885</td>\n      <td>-0.601324</td>\n      <td>-0.892655</td>\n      <td>0.319657</td>\n      <td>0.391443</td>\n      <td>...</td>\n      <td>-0.697584</td>\n      <td>-0.923587</td>\n      <td>-0.308737</td>\n      <td>-0.274732</td>\n      <td>0.336231</td>\n      <td>0.336231</td>\n      <td>-1.0</td>\n      <td>-1.0</td>\n      <td>0.336231</td>\n      <td>0.336231</td>\n    </tr>\n    <tr>\n      <th>17</th>\n      <td>q</td>\n      <td>1.118034</td>\n      <td>1.0</td>\n      <td>0</td>\n      <td>-0.264526</td>\n      <td>-0.198774</td>\n      <td>-0.531499</td>\n      <td>-0.839556</td>\n      <td>-0.256962</td>\n      <td>-0.221133</td>\n      <td>...</td>\n      <td>-0.645388</td>\n      <td>-0.888733</td>\n      <td>0.401593</td>\n      <td>0.395122</td>\n      <td>0.344465</td>\n      <td>0.344465</td>\n      <td>-1.0</td>\n      <td>-1.0</td>\n      <td>0.344465</td>\n      <td>0.344465</td>\n    </tr>\n    <tr>\n      <th>18</th>\n      <td>r</td>\n      <td>2.692582</td>\n      <td>4.0</td>\n      <td>0</td>\n      <td>0.069555</td>\n      <td>0.116442</td>\n      <td>-0.704776</td>\n      <td>-0.931194</td>\n      <td>-0.012913</td>\n      <td>0.141925</td>\n      <td>...</td>\n      <td>-0.747409</td>\n      <td>-0.943475</td>\n      <td>0.035223</td>\n      <td>0.063408</td>\n      <td>0.352901</td>\n      <td>0.352901</td>\n      <td>-1.0</td>\n      <td>-1.0</td>\n      <td>0.352901</td>\n      <td>0.352901</td>\n    </tr>\n    <tr>\n      <th>19</th>\n      <td>s</td>\n      <td>1.000000</td>\n      <td>2.5</td>\n      <td>1</td>\n      <td>-0.006690</td>\n      <td>0.040577</td>\n      <td>-0.628584</td>\n      <td>-0.887011</td>\n      <td>-0.051007</td>\n      <td>0.048894</td>\n      <td>...</td>\n      <td>-0.738408</td>\n      <td>-0.937212</td>\n      <td>0.113424</td>\n      <td>0.131729</td>\n      <td>0.348505</td>\n      <td>0.348505</td>\n      <td>-1.0</td>\n      <td>-1.0</td>\n      <td>0.348505</td>\n      <td>0.348505</td>\n    </tr>\n    <tr>\n      <th>20</th>\n      <td>t</td>\n      <td>3.640055</td>\n      <td>5.0</td>\n      <td>0</td>\n      <td>0.116050</td>\n      <td>0.163092</td>\n      <td>-0.724649</td>\n      <td>-0.940552</td>\n      <td>0.018509</td>\n      <td>0.190351</td>\n      <td>...</td>\n      <td>-0.772339</td>\n      <td>-0.952973</td>\n      <td>-0.012277</td>\n      <td>0.025682</td>\n      <td>0.325021</td>\n      <td>0.325021</td>\n      <td>-1.0</td>\n      <td>-1.0</td>\n      <td>0.325021</td>\n      <td>0.325021</td>\n    </tr>\n    <tr>\n      <th>21</th>\n      <td>u</td>\n      <td>5.590170</td>\n      <td>7.0</td>\n      <td>0</td>\n      <td>0.217092</td>\n      <td>0.254366</td>\n      <td>-0.722287</td>\n      <td>-0.941304</td>\n      <td>0.113238</td>\n      <td>0.293188</td>\n      <td>...</td>\n      <td>-0.791973</td>\n      <td>-0.949892</td>\n      <td>-0.126995</td>\n      <td>-0.076215</td>\n      <td>0.311063</td>\n      <td>0.311063</td>\n      <td>-1.0</td>\n      <td>-1.0</td>\n      <td>0.311063</td>\n      <td>0.311063</td>\n    </tr>\n    <tr>\n      <th>22</th>\n      <td>v</td>\n      <td>3.640055</td>\n      <td>5.0</td>\n      <td>2</td>\n      <td>0.216043</td>\n      <td>0.255153</td>\n      <td>-0.725401</td>\n      <td>-0.945603</td>\n      <td>0.113690</td>\n      <td>0.291929</td>\n      <td>...</td>\n      <td>-0.823008</td>\n      <td>-0.971734</td>\n      <td>-0.123508</td>\n      <td>-0.068384</td>\n      <td>0.377762</td>\n      <td>0.377762</td>\n      <td>-1.0</td>\n      <td>-1.0</td>\n      <td>0.377762</td>\n      <td>0.377762</td>\n    </tr>\n    <tr>\n      <th>23</th>\n      <td>w</td>\n      <td>1.118034</td>\n      <td>2.0</td>\n      <td>0</td>\n      <td>-0.123910</td>\n      <td>-0.070142</td>\n      <td>-0.526372</td>\n      <td>-0.828295</td>\n      <td>-0.125490</td>\n      <td>-0.095749</td>\n      <td>...</td>\n      <td>-0.659208</td>\n      <td>-0.906468</td>\n      <td>0.242984</td>\n      <td>0.242556</td>\n      <td>0.373852</td>\n      <td>0.373852</td>\n      <td>-1.0</td>\n      <td>-1.0</td>\n      <td>0.373852</td>\n      <td>0.373852</td>\n    </tr>\n    <tr>\n      <th>24</th>\n      <td>x</td>\n      <td>1.802776</td>\n      <td>3.0</td>\n      <td>2</td>\n      <td>0.118531</td>\n      <td>0.163655</td>\n      <td>-0.692257</td>\n      <td>-0.921865</td>\n      <td>0.037162</td>\n      <td>0.184497</td>\n      <td>...</td>\n      <td>-0.766687</td>\n      <td>-0.950972</td>\n      <td>-0.012482</td>\n      <td>0.022255</td>\n      <td>0.415190</td>\n      <td>0.415190</td>\n      <td>-1.0</td>\n      <td>-1.0</td>\n      <td>0.415190</td>\n      <td>0.415190</td>\n    </tr>\n    <tr>\n      <th>25</th>\n      <td>y</td>\n      <td>4.609772</td>\n      <td>6.0</td>\n      <td>0</td>\n      <td>0.171649</td>\n      <td>0.210967</td>\n      <td>-0.737031</td>\n      <td>-0.944728</td>\n      <td>0.064431</td>\n      <td>0.256416</td>\n      <td>...</td>\n      <td>-0.820402</td>\n      <td>-0.966527</td>\n      <td>-0.077335</td>\n      <td>-0.022922</td>\n      <td>0.332406</td>\n      <td>0.332406</td>\n      <td>-1.0</td>\n      <td>-1.0</td>\n      <td>0.332406</td>\n      <td>0.332406</td>\n    </tr>\n    <tr>\n      <th>26</th>\n      <td>z</td>\n      <td>1.118034</td>\n      <td>2.0</td>\n      <td>2</td>\n      <td>0.023697</td>\n      <td>0.075727</td>\n      <td>-0.653561</td>\n      <td>-0.901157</td>\n      <td>-0.035312</td>\n      <td>0.082856</td>\n      <td>...</td>\n      <td>-0.751571</td>\n      <td>-0.944376</td>\n      <td>0.091066</td>\n      <td>0.115010</td>\n      <td>0.365227</td>\n      <td>0.365227</td>\n      <td>-1.0</td>\n      <td>-1.0</td>\n      <td>0.365227</td>\n      <td>0.365227</td>\n    </tr>\n  </tbody>\n</table>\n<p>27 rows × 280 columns</p>\n</div>"
     },
     "execution_count": 6,
     "metadata": {},
     "output_type": "execute_result"
    }
   ],
   "source": [
    "# Group dataset by letter/distance\n",
    "\n",
    "# mean = mean of the rows with the same View and distances\n",
    "df_mean = df.groupby(['View','dist','x','y'], as_index=False).agg('mean')\n",
    "df_mean"
   ],
   "metadata": {
    "collapsed": false,
    "pycharm": {
     "name": "#%%\n"
    }
   }
  },
  {
   "cell_type": "code",
   "execution_count": 7,
   "outputs": [],
   "source": [
    "import matplotlib.pyplot as plt\n",
    "import seaborn as sns"
   ],
   "metadata": {
    "collapsed": false,
    "pycharm": {
     "name": "#%%\n"
    }
   }
  },
  {
   "cell_type": "code",
   "execution_count": 8,
   "outputs": [
    {
     "name": "stdout",
     "output_type": "stream",
     "text": [
      "5.0 3.0\n",
      "5.0 3.5\n",
      "5.0 4.0\n",
      "5.0 4.5\n",
      "5.0 5.0\n",
      "5.0 5.5\n",
      "5.0 6.0\n",
      "5.0 6.5\n",
      "5.0 7.0\n"
     ]
    },
    {
     "data": {
      "text/plain": "   View      dist     x  y    AxMean     AxMed     AxStd     AxVar     AxMax  \\\n0        4.031129   5.0  3  0.263204  0.296761 -0.746812 -0.953980  0.153360   \n1     a  0.000000   1.5  1 -0.158803 -0.102414 -0.562209 -0.852578 -0.165842   \n2     b  4.609772   6.0  2  0.259733  0.294619 -0.751112 -0.953407  0.142498   \n3     c  2.692582   4.0  2  0.176625  0.217678 -0.701008 -0.926940  0.089153   \n4     d  2.000000   3.5  1  0.066985  0.114844 -0.686925 -0.921824 -0.008257   \n5     e  1.802776   3.0  0 -0.023094  0.028453 -0.655597 -0.903264 -0.083387   \n6     f  3.000000   4.5  1  0.108786  0.152744 -0.727190 -0.938727  0.012964   \n7     g  4.000000   5.5  1  0.147901  0.191665 -0.720540 -0.940661  0.052033   \n8     h  5.000000   6.5  1  0.241819  0.277230 -0.748850 -0.951136  0.126884   \n9     i  6.576473   8.0  0  0.255855  0.290744 -0.740584 -0.949152  0.147189   \n10    j  6.000000   7.5  1  0.272473  0.309670 -0.755372 -0.956453  0.149772   \n11    k  7.000000   8.5  1  0.339304  0.369111 -0.727644 -0.945306  0.225544   \n12    l  8.000000   9.5  1  0.382233  0.405073 -0.638259 -0.906771  0.306763   \n13    m  6.576473   8.0  2  0.389207  0.418690 -0.707943 -0.937793  0.278708   \n14    n  5.590170   7.0  2  0.331634  0.362837 -0.743480 -0.951985  0.213202   \n15    o  7.566373   9.0  0  0.286624  0.319884 -0.733715 -0.947680  0.179723   \n16    p  8.558621  10.0  0  0.371898  0.392885 -0.601324 -0.892655  0.319657   \n17    q  1.118034   1.0  0 -0.264526 -0.198774 -0.531499 -0.839556 -0.256962   \n18    r  2.692582   4.0  0  0.069555  0.116442 -0.704776 -0.931194 -0.012913   \n19    s  1.000000   2.5  1 -0.006690  0.040577 -0.628584 -0.887011 -0.051007   \n20    t  3.640055   5.0  0  0.116050  0.163092 -0.724649 -0.940552  0.018509   \n21    u  5.590170   7.0  0  0.217092  0.254366 -0.722287 -0.941304  0.113238   \n22    v  3.640055   5.0  2  0.216043  0.255153 -0.725401 -0.945603  0.113690   \n23    w  1.118034   2.0  0 -0.123910 -0.070142 -0.526372 -0.828295 -0.125490   \n24    x  1.802776   3.0  2  0.118531  0.163655 -0.692257 -0.921865  0.037162   \n25    y  4.609772   6.0  0  0.171649  0.210967 -0.737031 -0.944728  0.064431   \n26    z  1.118034   2.0  2  0.023697  0.075727 -0.653561 -0.901157 -0.035312   \n27       4.031129   3.0  3  0.263204  0.296761 -0.746812 -0.953980  0.153360   \n28       4.031129   3.5  3  0.263204  0.296761 -0.746812 -0.953980  0.153360   \n29       4.031129   4.0  3  0.263204  0.296761 -0.746812 -0.953980  0.153360   \n30       4.031129   4.5  3  0.263204  0.296761 -0.746812 -0.953980  0.153360   \n31       4.031129   5.5  3  0.263204  0.296761 -0.746812 -0.953980  0.153360   \n32       4.031129   6.0  3  0.263204  0.296761 -0.746812 -0.953980  0.153360   \n33       4.031129   6.5  3  0.263204  0.296761 -0.746812 -0.953980  0.153360   \n34       4.031129   7.0  3  0.263204  0.296761 -0.746812 -0.953980  0.153360   \n\n       AxMin  ...  GrPitchStd  GrPitchVar  GrPitchMax  GrPitchMin   PreMean  \\\n0   0.343680  ...   -0.774955   -0.954829   -0.167063   -0.119677  0.344867   \n1  -0.113848  ...   -0.673249   -0.907875    0.282449    0.283081  0.374189   \n2   0.344963  ...   -0.827397   -0.969894   -0.172722   -0.112642  0.331312   \n3   0.239879  ...   -0.789811   -0.959105   -0.081256   -0.038746  0.361868   \n4   0.134961  ...   -0.754170   -0.944572    0.036505    0.063000  0.371255   \n5   0.042347  ...   -0.721175   -0.929613    0.131097    0.146652  0.342579   \n6   0.192386  ...   -0.774333   -0.950961   -0.018478    0.018350  0.351042   \n7   0.223479  ...   -0.791777   -0.958728   -0.042781    0.000280  0.374867   \n8   0.324900  ...   -0.816898   -0.968289   -0.146433   -0.090606  0.378174   \n9   0.335956  ...   -0.816679   -0.967333   -0.174606   -0.119239  0.362228   \n10  0.357694  ...   -0.833686   -0.973050   -0.186007   -0.125157  0.405134   \n11  0.408772  ...   -0.800661   -0.954912   -0.262451   -0.206437  0.376719   \n12  0.417367  ...   -0.745010   -0.936543   -0.322365   -0.275522  0.319872   \n13  0.442163  ...   -0.805700   -0.961176   -0.321530   -0.262477  0.388432   \n14  0.403625  ...   -0.804161   -0.960631   -0.251065   -0.193773  0.382777   \n15  0.362403  ...   -0.785088   -0.958472   -0.213353   -0.162598  0.351025   \n16  0.391443  ...   -0.697584   -0.923587   -0.308737   -0.274732  0.336231   \n17 -0.221133  ...   -0.645388   -0.888733    0.401593    0.395122  0.344465   \n18  0.141925  ...   -0.747409   -0.943475    0.035223    0.063408  0.352901   \n19  0.048894  ...   -0.738408   -0.937212    0.113424    0.131729  0.348505   \n20  0.190351  ...   -0.772339   -0.952973   -0.012277    0.025682  0.325021   \n21  0.293188  ...   -0.791973   -0.949892   -0.126995   -0.076215  0.311063   \n22  0.291929  ...   -0.823008   -0.971734   -0.123508   -0.068384  0.377762   \n23 -0.095749  ...   -0.659208   -0.906468    0.242984    0.242556  0.373852   \n24  0.184497  ...   -0.766687   -0.950972   -0.012482    0.022255  0.415190   \n25  0.256416  ...   -0.820402   -0.966527   -0.077335   -0.022922  0.332406   \n26  0.082856  ...   -0.751571   -0.944376    0.091066    0.115010  0.365227   \n27  0.343680  ...   -0.774955   -0.954829   -0.167063   -0.119677  0.344867   \n28  0.343680  ...   -0.774955   -0.954829   -0.167063   -0.119677  0.344867   \n29  0.343680  ...   -0.774955   -0.954829   -0.167063   -0.119677  0.344867   \n30  0.343680  ...   -0.774955   -0.954829   -0.167063   -0.119677  0.344867   \n31  0.343680  ...   -0.774955   -0.954829   -0.167063   -0.119677  0.344867   \n32  0.343680  ...   -0.774955   -0.954829   -0.167063   -0.119677  0.344867   \n33  0.343680  ...   -0.774955   -0.954829   -0.167063   -0.119677  0.344867   \n34  0.343680  ...   -0.774955   -0.954829   -0.167063   -0.119677  0.344867   \n\n      PreMed  PreStd  PreVar    PreMax    PreMin  \n0   0.344867    -1.0    -1.0  0.344867  0.344867  \n1   0.374189    -1.0    -1.0  0.374189  0.374189  \n2   0.331312    -1.0    -1.0  0.331312  0.331312  \n3   0.361868    -1.0    -1.0  0.361868  0.361868  \n4   0.371255    -1.0    -1.0  0.371255  0.371255  \n5   0.342579    -1.0    -1.0  0.342579  0.342579  \n6   0.351042    -1.0    -1.0  0.351042  0.351042  \n7   0.374867    -1.0    -1.0  0.374867  0.374867  \n8   0.378174    -1.0    -1.0  0.378174  0.378174  \n9   0.362228    -1.0    -1.0  0.362228  0.362228  \n10  0.405134    -1.0    -1.0  0.405134  0.405134  \n11  0.376719    -1.0    -1.0  0.376719  0.376719  \n12  0.319872    -1.0    -1.0  0.319872  0.319872  \n13  0.388432    -1.0    -1.0  0.388432  0.388432  \n14  0.382777    -1.0    -1.0  0.382777  0.382777  \n15  0.351025    -1.0    -1.0  0.351025  0.351025  \n16  0.336231    -1.0    -1.0  0.336231  0.336231  \n17  0.344465    -1.0    -1.0  0.344465  0.344465  \n18  0.352901    -1.0    -1.0  0.352901  0.352901  \n19  0.348505    -1.0    -1.0  0.348505  0.348505  \n20  0.325021    -1.0    -1.0  0.325021  0.325021  \n21  0.311063    -1.0    -1.0  0.311063  0.311063  \n22  0.377762    -1.0    -1.0  0.377762  0.377762  \n23  0.373852    -1.0    -1.0  0.373852  0.373852  \n24  0.415190    -1.0    -1.0  0.415190  0.415190  \n25  0.332406    -1.0    -1.0  0.332406  0.332406  \n26  0.365227    -1.0    -1.0  0.365227  0.365227  \n27  0.344867    -1.0    -1.0  0.344867  0.344867  \n28  0.344867    -1.0    -1.0  0.344867  0.344867  \n29  0.344867    -1.0    -1.0  0.344867  0.344867  \n30  0.344867    -1.0    -1.0  0.344867  0.344867  \n31  0.344867    -1.0    -1.0  0.344867  0.344867  \n32  0.344867    -1.0    -1.0  0.344867  0.344867  \n33  0.344867    -1.0    -1.0  0.344867  0.344867  \n34  0.344867    -1.0    -1.0  0.344867  0.344867  \n\n[35 rows x 280 columns]",
      "text/html": "<div>\n<style scoped>\n    .dataframe tbody tr th:only-of-type {\n        vertical-align: middle;\n    }\n\n    .dataframe tbody tr th {\n        vertical-align: top;\n    }\n\n    .dataframe thead th {\n        text-align: right;\n    }\n</style>\n<table border=\"1\" class=\"dataframe\">\n  <thead>\n    <tr style=\"text-align: right;\">\n      <th></th>\n      <th>View</th>\n      <th>dist</th>\n      <th>x</th>\n      <th>y</th>\n      <th>AxMean</th>\n      <th>AxMed</th>\n      <th>AxStd</th>\n      <th>AxVar</th>\n      <th>AxMax</th>\n      <th>AxMin</th>\n      <th>...</th>\n      <th>GrPitchStd</th>\n      <th>GrPitchVar</th>\n      <th>GrPitchMax</th>\n      <th>GrPitchMin</th>\n      <th>PreMean</th>\n      <th>PreMed</th>\n      <th>PreStd</th>\n      <th>PreVar</th>\n      <th>PreMax</th>\n      <th>PreMin</th>\n    </tr>\n  </thead>\n  <tbody>\n    <tr>\n      <th>0</th>\n      <td></td>\n      <td>4.031129</td>\n      <td>5.0</td>\n      <td>3</td>\n      <td>0.263204</td>\n      <td>0.296761</td>\n      <td>-0.746812</td>\n      <td>-0.953980</td>\n      <td>0.153360</td>\n      <td>0.343680</td>\n      <td>...</td>\n      <td>-0.774955</td>\n      <td>-0.954829</td>\n      <td>-0.167063</td>\n      <td>-0.119677</td>\n      <td>0.344867</td>\n      <td>0.344867</td>\n      <td>-1.0</td>\n      <td>-1.0</td>\n      <td>0.344867</td>\n      <td>0.344867</td>\n    </tr>\n    <tr>\n      <th>1</th>\n      <td>a</td>\n      <td>0.000000</td>\n      <td>1.5</td>\n      <td>1</td>\n      <td>-0.158803</td>\n      <td>-0.102414</td>\n      <td>-0.562209</td>\n      <td>-0.852578</td>\n      <td>-0.165842</td>\n      <td>-0.113848</td>\n      <td>...</td>\n      <td>-0.673249</td>\n      <td>-0.907875</td>\n      <td>0.282449</td>\n      <td>0.283081</td>\n      <td>0.374189</td>\n      <td>0.374189</td>\n      <td>-1.0</td>\n      <td>-1.0</td>\n      <td>0.374189</td>\n      <td>0.374189</td>\n    </tr>\n    <tr>\n      <th>2</th>\n      <td>b</td>\n      <td>4.609772</td>\n      <td>6.0</td>\n      <td>2</td>\n      <td>0.259733</td>\n      <td>0.294619</td>\n      <td>-0.751112</td>\n      <td>-0.953407</td>\n      <td>0.142498</td>\n      <td>0.344963</td>\n      <td>...</td>\n      <td>-0.827397</td>\n      <td>-0.969894</td>\n      <td>-0.172722</td>\n      <td>-0.112642</td>\n      <td>0.331312</td>\n      <td>0.331312</td>\n      <td>-1.0</td>\n      <td>-1.0</td>\n      <td>0.331312</td>\n      <td>0.331312</td>\n    </tr>\n    <tr>\n      <th>3</th>\n      <td>c</td>\n      <td>2.692582</td>\n      <td>4.0</td>\n      <td>2</td>\n      <td>0.176625</td>\n      <td>0.217678</td>\n      <td>-0.701008</td>\n      <td>-0.926940</td>\n      <td>0.089153</td>\n      <td>0.239879</td>\n      <td>...</td>\n      <td>-0.789811</td>\n      <td>-0.959105</td>\n      <td>-0.081256</td>\n      <td>-0.038746</td>\n      <td>0.361868</td>\n      <td>0.361868</td>\n      <td>-1.0</td>\n      <td>-1.0</td>\n      <td>0.361868</td>\n      <td>0.361868</td>\n    </tr>\n    <tr>\n      <th>4</th>\n      <td>d</td>\n      <td>2.000000</td>\n      <td>3.5</td>\n      <td>1</td>\n      <td>0.066985</td>\n      <td>0.114844</td>\n      <td>-0.686925</td>\n      <td>-0.921824</td>\n      <td>-0.008257</td>\n      <td>0.134961</td>\n      <td>...</td>\n      <td>-0.754170</td>\n      <td>-0.944572</td>\n      <td>0.036505</td>\n      <td>0.063000</td>\n      <td>0.371255</td>\n      <td>0.371255</td>\n      <td>-1.0</td>\n      <td>-1.0</td>\n      <td>0.371255</td>\n      <td>0.371255</td>\n    </tr>\n    <tr>\n      <th>5</th>\n      <td>e</td>\n      <td>1.802776</td>\n      <td>3.0</td>\n      <td>0</td>\n      <td>-0.023094</td>\n      <td>0.028453</td>\n      <td>-0.655597</td>\n      <td>-0.903264</td>\n      <td>-0.083387</td>\n      <td>0.042347</td>\n      <td>...</td>\n      <td>-0.721175</td>\n      <td>-0.929613</td>\n      <td>0.131097</td>\n      <td>0.146652</td>\n      <td>0.342579</td>\n      <td>0.342579</td>\n      <td>-1.0</td>\n      <td>-1.0</td>\n      <td>0.342579</td>\n      <td>0.342579</td>\n    </tr>\n    <tr>\n      <th>6</th>\n      <td>f</td>\n      <td>3.000000</td>\n      <td>4.5</td>\n      <td>1</td>\n      <td>0.108786</td>\n      <td>0.152744</td>\n      <td>-0.727190</td>\n      <td>-0.938727</td>\n      <td>0.012964</td>\n      <td>0.192386</td>\n      <td>...</td>\n      <td>-0.774333</td>\n      <td>-0.950961</td>\n      <td>-0.018478</td>\n      <td>0.018350</td>\n      <td>0.351042</td>\n      <td>0.351042</td>\n      <td>-1.0</td>\n      <td>-1.0</td>\n      <td>0.351042</td>\n      <td>0.351042</td>\n    </tr>\n    <tr>\n      <th>7</th>\n      <td>g</td>\n      <td>4.000000</td>\n      <td>5.5</td>\n      <td>1</td>\n      <td>0.147901</td>\n      <td>0.191665</td>\n      <td>-0.720540</td>\n      <td>-0.940661</td>\n      <td>0.052033</td>\n      <td>0.223479</td>\n      <td>...</td>\n      <td>-0.791777</td>\n      <td>-0.958728</td>\n      <td>-0.042781</td>\n      <td>0.000280</td>\n      <td>0.374867</td>\n      <td>0.374867</td>\n      <td>-1.0</td>\n      <td>-1.0</td>\n      <td>0.374867</td>\n      <td>0.374867</td>\n    </tr>\n    <tr>\n      <th>8</th>\n      <td>h</td>\n      <td>5.000000</td>\n      <td>6.5</td>\n      <td>1</td>\n      <td>0.241819</td>\n      <td>0.277230</td>\n      <td>-0.748850</td>\n      <td>-0.951136</td>\n      <td>0.126884</td>\n      <td>0.324900</td>\n      <td>...</td>\n      <td>-0.816898</td>\n      <td>-0.968289</td>\n      <td>-0.146433</td>\n      <td>-0.090606</td>\n      <td>0.378174</td>\n      <td>0.378174</td>\n      <td>-1.0</td>\n      <td>-1.0</td>\n      <td>0.378174</td>\n      <td>0.378174</td>\n    </tr>\n    <tr>\n      <th>9</th>\n      <td>i</td>\n      <td>6.576473</td>\n      <td>8.0</td>\n      <td>0</td>\n      <td>0.255855</td>\n      <td>0.290744</td>\n      <td>-0.740584</td>\n      <td>-0.949152</td>\n      <td>0.147189</td>\n      <td>0.335956</td>\n      <td>...</td>\n      <td>-0.816679</td>\n      <td>-0.967333</td>\n      <td>-0.174606</td>\n      <td>-0.119239</td>\n      <td>0.362228</td>\n      <td>0.362228</td>\n      <td>-1.0</td>\n      <td>-1.0</td>\n      <td>0.362228</td>\n      <td>0.362228</td>\n    </tr>\n    <tr>\n      <th>10</th>\n      <td>j</td>\n      <td>6.000000</td>\n      <td>7.5</td>\n      <td>1</td>\n      <td>0.272473</td>\n      <td>0.309670</td>\n      <td>-0.755372</td>\n      <td>-0.956453</td>\n      <td>0.149772</td>\n      <td>0.357694</td>\n      <td>...</td>\n      <td>-0.833686</td>\n      <td>-0.973050</td>\n      <td>-0.186007</td>\n      <td>-0.125157</td>\n      <td>0.405134</td>\n      <td>0.405134</td>\n      <td>-1.0</td>\n      <td>-1.0</td>\n      <td>0.405134</td>\n      <td>0.405134</td>\n    </tr>\n    <tr>\n      <th>11</th>\n      <td>k</td>\n      <td>7.000000</td>\n      <td>8.5</td>\n      <td>1</td>\n      <td>0.339304</td>\n      <td>0.369111</td>\n      <td>-0.727644</td>\n      <td>-0.945306</td>\n      <td>0.225544</td>\n      <td>0.408772</td>\n      <td>...</td>\n      <td>-0.800661</td>\n      <td>-0.954912</td>\n      <td>-0.262451</td>\n      <td>-0.206437</td>\n      <td>0.376719</td>\n      <td>0.376719</td>\n      <td>-1.0</td>\n      <td>-1.0</td>\n      <td>0.376719</td>\n      <td>0.376719</td>\n    </tr>\n    <tr>\n      <th>12</th>\n      <td>l</td>\n      <td>8.000000</td>\n      <td>9.5</td>\n      <td>1</td>\n      <td>0.382233</td>\n      <td>0.405073</td>\n      <td>-0.638259</td>\n      <td>-0.906771</td>\n      <td>0.306763</td>\n      <td>0.417367</td>\n      <td>...</td>\n      <td>-0.745010</td>\n      <td>-0.936543</td>\n      <td>-0.322365</td>\n      <td>-0.275522</td>\n      <td>0.319872</td>\n      <td>0.319872</td>\n      <td>-1.0</td>\n      <td>-1.0</td>\n      <td>0.319872</td>\n      <td>0.319872</td>\n    </tr>\n    <tr>\n      <th>13</th>\n      <td>m</td>\n      <td>6.576473</td>\n      <td>8.0</td>\n      <td>2</td>\n      <td>0.389207</td>\n      <td>0.418690</td>\n      <td>-0.707943</td>\n      <td>-0.937793</td>\n      <td>0.278708</td>\n      <td>0.442163</td>\n      <td>...</td>\n      <td>-0.805700</td>\n      <td>-0.961176</td>\n      <td>-0.321530</td>\n      <td>-0.262477</td>\n      <td>0.388432</td>\n      <td>0.388432</td>\n      <td>-1.0</td>\n      <td>-1.0</td>\n      <td>0.388432</td>\n      <td>0.388432</td>\n    </tr>\n    <tr>\n      <th>14</th>\n      <td>n</td>\n      <td>5.590170</td>\n      <td>7.0</td>\n      <td>2</td>\n      <td>0.331634</td>\n      <td>0.362837</td>\n      <td>-0.743480</td>\n      <td>-0.951985</td>\n      <td>0.213202</td>\n      <td>0.403625</td>\n      <td>...</td>\n      <td>-0.804161</td>\n      <td>-0.960631</td>\n      <td>-0.251065</td>\n      <td>-0.193773</td>\n      <td>0.382777</td>\n      <td>0.382777</td>\n      <td>-1.0</td>\n      <td>-1.0</td>\n      <td>0.382777</td>\n      <td>0.382777</td>\n    </tr>\n    <tr>\n      <th>15</th>\n      <td>o</td>\n      <td>7.566373</td>\n      <td>9.0</td>\n      <td>0</td>\n      <td>0.286624</td>\n      <td>0.319884</td>\n      <td>-0.733715</td>\n      <td>-0.947680</td>\n      <td>0.179723</td>\n      <td>0.362403</td>\n      <td>...</td>\n      <td>-0.785088</td>\n      <td>-0.958472</td>\n      <td>-0.213353</td>\n      <td>-0.162598</td>\n      <td>0.351025</td>\n      <td>0.351025</td>\n      <td>-1.0</td>\n      <td>-1.0</td>\n      <td>0.351025</td>\n      <td>0.351025</td>\n    </tr>\n    <tr>\n      <th>16</th>\n      <td>p</td>\n      <td>8.558621</td>\n      <td>10.0</td>\n      <td>0</td>\n      <td>0.371898</td>\n      <td>0.392885</td>\n      <td>-0.601324</td>\n      <td>-0.892655</td>\n      <td>0.319657</td>\n      <td>0.391443</td>\n      <td>...</td>\n      <td>-0.697584</td>\n      <td>-0.923587</td>\n      <td>-0.308737</td>\n      <td>-0.274732</td>\n      <td>0.336231</td>\n      <td>0.336231</td>\n      <td>-1.0</td>\n      <td>-1.0</td>\n      <td>0.336231</td>\n      <td>0.336231</td>\n    </tr>\n    <tr>\n      <th>17</th>\n      <td>q</td>\n      <td>1.118034</td>\n      <td>1.0</td>\n      <td>0</td>\n      <td>-0.264526</td>\n      <td>-0.198774</td>\n      <td>-0.531499</td>\n      <td>-0.839556</td>\n      <td>-0.256962</td>\n      <td>-0.221133</td>\n      <td>...</td>\n      <td>-0.645388</td>\n      <td>-0.888733</td>\n      <td>0.401593</td>\n      <td>0.395122</td>\n      <td>0.344465</td>\n      <td>0.344465</td>\n      <td>-1.0</td>\n      <td>-1.0</td>\n      <td>0.344465</td>\n      <td>0.344465</td>\n    </tr>\n    <tr>\n      <th>18</th>\n      <td>r</td>\n      <td>2.692582</td>\n      <td>4.0</td>\n      <td>0</td>\n      <td>0.069555</td>\n      <td>0.116442</td>\n      <td>-0.704776</td>\n      <td>-0.931194</td>\n      <td>-0.012913</td>\n      <td>0.141925</td>\n      <td>...</td>\n      <td>-0.747409</td>\n      <td>-0.943475</td>\n      <td>0.035223</td>\n      <td>0.063408</td>\n      <td>0.352901</td>\n      <td>0.352901</td>\n      <td>-1.0</td>\n      <td>-1.0</td>\n      <td>0.352901</td>\n      <td>0.352901</td>\n    </tr>\n    <tr>\n      <th>19</th>\n      <td>s</td>\n      <td>1.000000</td>\n      <td>2.5</td>\n      <td>1</td>\n      <td>-0.006690</td>\n      <td>0.040577</td>\n      <td>-0.628584</td>\n      <td>-0.887011</td>\n      <td>-0.051007</td>\n      <td>0.048894</td>\n      <td>...</td>\n      <td>-0.738408</td>\n      <td>-0.937212</td>\n      <td>0.113424</td>\n      <td>0.131729</td>\n      <td>0.348505</td>\n      <td>0.348505</td>\n      <td>-1.0</td>\n      <td>-1.0</td>\n      <td>0.348505</td>\n      <td>0.348505</td>\n    </tr>\n    <tr>\n      <th>20</th>\n      <td>t</td>\n      <td>3.640055</td>\n      <td>5.0</td>\n      <td>0</td>\n      <td>0.116050</td>\n      <td>0.163092</td>\n      <td>-0.724649</td>\n      <td>-0.940552</td>\n      <td>0.018509</td>\n      <td>0.190351</td>\n      <td>...</td>\n      <td>-0.772339</td>\n      <td>-0.952973</td>\n      <td>-0.012277</td>\n      <td>0.025682</td>\n      <td>0.325021</td>\n      <td>0.325021</td>\n      <td>-1.0</td>\n      <td>-1.0</td>\n      <td>0.325021</td>\n      <td>0.325021</td>\n    </tr>\n    <tr>\n      <th>21</th>\n      <td>u</td>\n      <td>5.590170</td>\n      <td>7.0</td>\n      <td>0</td>\n      <td>0.217092</td>\n      <td>0.254366</td>\n      <td>-0.722287</td>\n      <td>-0.941304</td>\n      <td>0.113238</td>\n      <td>0.293188</td>\n      <td>...</td>\n      <td>-0.791973</td>\n      <td>-0.949892</td>\n      <td>-0.126995</td>\n      <td>-0.076215</td>\n      <td>0.311063</td>\n      <td>0.311063</td>\n      <td>-1.0</td>\n      <td>-1.0</td>\n      <td>0.311063</td>\n      <td>0.311063</td>\n    </tr>\n    <tr>\n      <th>22</th>\n      <td>v</td>\n      <td>3.640055</td>\n      <td>5.0</td>\n      <td>2</td>\n      <td>0.216043</td>\n      <td>0.255153</td>\n      <td>-0.725401</td>\n      <td>-0.945603</td>\n      <td>0.113690</td>\n      <td>0.291929</td>\n      <td>...</td>\n      <td>-0.823008</td>\n      <td>-0.971734</td>\n      <td>-0.123508</td>\n      <td>-0.068384</td>\n      <td>0.377762</td>\n      <td>0.377762</td>\n      <td>-1.0</td>\n      <td>-1.0</td>\n      <td>0.377762</td>\n      <td>0.377762</td>\n    </tr>\n    <tr>\n      <th>23</th>\n      <td>w</td>\n      <td>1.118034</td>\n      <td>2.0</td>\n      <td>0</td>\n      <td>-0.123910</td>\n      <td>-0.070142</td>\n      <td>-0.526372</td>\n      <td>-0.828295</td>\n      <td>-0.125490</td>\n      <td>-0.095749</td>\n      <td>...</td>\n      <td>-0.659208</td>\n      <td>-0.906468</td>\n      <td>0.242984</td>\n      <td>0.242556</td>\n      <td>0.373852</td>\n      <td>0.373852</td>\n      <td>-1.0</td>\n      <td>-1.0</td>\n      <td>0.373852</td>\n      <td>0.373852</td>\n    </tr>\n    <tr>\n      <th>24</th>\n      <td>x</td>\n      <td>1.802776</td>\n      <td>3.0</td>\n      <td>2</td>\n      <td>0.118531</td>\n      <td>0.163655</td>\n      <td>-0.692257</td>\n      <td>-0.921865</td>\n      <td>0.037162</td>\n      <td>0.184497</td>\n      <td>...</td>\n      <td>-0.766687</td>\n      <td>-0.950972</td>\n      <td>-0.012482</td>\n      <td>0.022255</td>\n      <td>0.415190</td>\n      <td>0.415190</td>\n      <td>-1.0</td>\n      <td>-1.0</td>\n      <td>0.415190</td>\n      <td>0.415190</td>\n    </tr>\n    <tr>\n      <th>25</th>\n      <td>y</td>\n      <td>4.609772</td>\n      <td>6.0</td>\n      <td>0</td>\n      <td>0.171649</td>\n      <td>0.210967</td>\n      <td>-0.737031</td>\n      <td>-0.944728</td>\n      <td>0.064431</td>\n      <td>0.256416</td>\n      <td>...</td>\n      <td>-0.820402</td>\n      <td>-0.966527</td>\n      <td>-0.077335</td>\n      <td>-0.022922</td>\n      <td>0.332406</td>\n      <td>0.332406</td>\n      <td>-1.0</td>\n      <td>-1.0</td>\n      <td>0.332406</td>\n      <td>0.332406</td>\n    </tr>\n    <tr>\n      <th>26</th>\n      <td>z</td>\n      <td>1.118034</td>\n      <td>2.0</td>\n      <td>2</td>\n      <td>0.023697</td>\n      <td>0.075727</td>\n      <td>-0.653561</td>\n      <td>-0.901157</td>\n      <td>-0.035312</td>\n      <td>0.082856</td>\n      <td>...</td>\n      <td>-0.751571</td>\n      <td>-0.944376</td>\n      <td>0.091066</td>\n      <td>0.115010</td>\n      <td>0.365227</td>\n      <td>0.365227</td>\n      <td>-1.0</td>\n      <td>-1.0</td>\n      <td>0.365227</td>\n      <td>0.365227</td>\n    </tr>\n    <tr>\n      <th>27</th>\n      <td></td>\n      <td>4.031129</td>\n      <td>3.0</td>\n      <td>3</td>\n      <td>0.263204</td>\n      <td>0.296761</td>\n      <td>-0.746812</td>\n      <td>-0.953980</td>\n      <td>0.153360</td>\n      <td>0.343680</td>\n      <td>...</td>\n      <td>-0.774955</td>\n      <td>-0.954829</td>\n      <td>-0.167063</td>\n      <td>-0.119677</td>\n      <td>0.344867</td>\n      <td>0.344867</td>\n      <td>-1.0</td>\n      <td>-1.0</td>\n      <td>0.344867</td>\n      <td>0.344867</td>\n    </tr>\n    <tr>\n      <th>28</th>\n      <td></td>\n      <td>4.031129</td>\n      <td>3.5</td>\n      <td>3</td>\n      <td>0.263204</td>\n      <td>0.296761</td>\n      <td>-0.746812</td>\n      <td>-0.953980</td>\n      <td>0.153360</td>\n      <td>0.343680</td>\n      <td>...</td>\n      <td>-0.774955</td>\n      <td>-0.954829</td>\n      <td>-0.167063</td>\n      <td>-0.119677</td>\n      <td>0.344867</td>\n      <td>0.344867</td>\n      <td>-1.0</td>\n      <td>-1.0</td>\n      <td>0.344867</td>\n      <td>0.344867</td>\n    </tr>\n    <tr>\n      <th>29</th>\n      <td></td>\n      <td>4.031129</td>\n      <td>4.0</td>\n      <td>3</td>\n      <td>0.263204</td>\n      <td>0.296761</td>\n      <td>-0.746812</td>\n      <td>-0.953980</td>\n      <td>0.153360</td>\n      <td>0.343680</td>\n      <td>...</td>\n      <td>-0.774955</td>\n      <td>-0.954829</td>\n      <td>-0.167063</td>\n      <td>-0.119677</td>\n      <td>0.344867</td>\n      <td>0.344867</td>\n      <td>-1.0</td>\n      <td>-1.0</td>\n      <td>0.344867</td>\n      <td>0.344867</td>\n    </tr>\n    <tr>\n      <th>30</th>\n      <td></td>\n      <td>4.031129</td>\n      <td>4.5</td>\n      <td>3</td>\n      <td>0.263204</td>\n      <td>0.296761</td>\n      <td>-0.746812</td>\n      <td>-0.953980</td>\n      <td>0.153360</td>\n      <td>0.343680</td>\n      <td>...</td>\n      <td>-0.774955</td>\n      <td>-0.954829</td>\n      <td>-0.167063</td>\n      <td>-0.119677</td>\n      <td>0.344867</td>\n      <td>0.344867</td>\n      <td>-1.0</td>\n      <td>-1.0</td>\n      <td>0.344867</td>\n      <td>0.344867</td>\n    </tr>\n    <tr>\n      <th>31</th>\n      <td></td>\n      <td>4.031129</td>\n      <td>5.5</td>\n      <td>3</td>\n      <td>0.263204</td>\n      <td>0.296761</td>\n      <td>-0.746812</td>\n      <td>-0.953980</td>\n      <td>0.153360</td>\n      <td>0.343680</td>\n      <td>...</td>\n      <td>-0.774955</td>\n      <td>-0.954829</td>\n      <td>-0.167063</td>\n      <td>-0.119677</td>\n      <td>0.344867</td>\n      <td>0.344867</td>\n      <td>-1.0</td>\n      <td>-1.0</td>\n      <td>0.344867</td>\n      <td>0.344867</td>\n    </tr>\n    <tr>\n      <th>32</th>\n      <td></td>\n      <td>4.031129</td>\n      <td>6.0</td>\n      <td>3</td>\n      <td>0.263204</td>\n      <td>0.296761</td>\n      <td>-0.746812</td>\n      <td>-0.953980</td>\n      <td>0.153360</td>\n      <td>0.343680</td>\n      <td>...</td>\n      <td>-0.774955</td>\n      <td>-0.954829</td>\n      <td>-0.167063</td>\n      <td>-0.119677</td>\n      <td>0.344867</td>\n      <td>0.344867</td>\n      <td>-1.0</td>\n      <td>-1.0</td>\n      <td>0.344867</td>\n      <td>0.344867</td>\n    </tr>\n    <tr>\n      <th>33</th>\n      <td></td>\n      <td>4.031129</td>\n      <td>6.5</td>\n      <td>3</td>\n      <td>0.263204</td>\n      <td>0.296761</td>\n      <td>-0.746812</td>\n      <td>-0.953980</td>\n      <td>0.153360</td>\n      <td>0.343680</td>\n      <td>...</td>\n      <td>-0.774955</td>\n      <td>-0.954829</td>\n      <td>-0.167063</td>\n      <td>-0.119677</td>\n      <td>0.344867</td>\n      <td>0.344867</td>\n      <td>-1.0</td>\n      <td>-1.0</td>\n      <td>0.344867</td>\n      <td>0.344867</td>\n    </tr>\n    <tr>\n      <th>34</th>\n      <td></td>\n      <td>4.031129</td>\n      <td>7.0</td>\n      <td>3</td>\n      <td>0.263204</td>\n      <td>0.296761</td>\n      <td>-0.746812</td>\n      <td>-0.953980</td>\n      <td>0.153360</td>\n      <td>0.343680</td>\n      <td>...</td>\n      <td>-0.774955</td>\n      <td>-0.954829</td>\n      <td>-0.167063</td>\n      <td>-0.119677</td>\n      <td>0.344867</td>\n      <td>0.344867</td>\n      <td>-1.0</td>\n      <td>-1.0</td>\n      <td>0.344867</td>\n      <td>0.344867</td>\n    </tr>\n  </tbody>\n</table>\n<p>35 rows × 280 columns</p>\n</div>"
     },
     "execution_count": 8,
     "metadata": {},
     "output_type": "execute_result"
    }
   ],
   "source": [
    "# PREPARE A DATAFRAME FOR HEATMAPS: MULTIPLY SPACES TO SHOW MULTIPLE BLOCKS\n",
    "\n",
    "df_heat = df_mean.copy()\n",
    "\n",
    "# Duplicate spaces\n",
    "space_x = df_heat['x'][0]\n",
    "row = df_heat.iloc[[0],]\n",
    "SPACEBAR_LEN = 9\n",
    "BLOCK_SIZE = 0.5\n",
    "for i in range(SPACEBAR_LEN):\n",
    "    new_block = space_x - (SPACEBAR_LEN - 1) / 2 * BLOCK_SIZE + i * BLOCK_SIZE\n",
    "    print(space_x, new_block)\n",
    "    if new_block == space_x:\n",
    "        continue\n",
    "\n",
    "    # append the other rows for spacebar draw\n",
    "    df_heat = df_heat.append(df_heat.loc[[0] * 1].assign(**{'x': new_block}), ignore_index=True) # 1 is the number of repeats\n",
    "\n",
    "df_heat"
   ],
   "metadata": {
    "collapsed": false,
    "pycharm": {
     "name": "#%%\n"
    }
   }
  },
  {
   "cell_type": "code",
   "execution_count": 9,
   "outputs": [
    {
     "data": {
      "text/plain": "<AxesSubplot:title={'center':'Title'}, xlabel='x', ylabel='y'>"
     },
     "execution_count": 9,
     "metadata": {},
     "output_type": "execute_result"
    },
    {
     "data": {
      "text/plain": "<Figure size 720x216 with 2 Axes>",
      "image/png": "[encoded data removed]"
     },
     "metadata": {
      "needs_background": "light"
     },
     "output_type": "display_data"
    }
   ],
   "source": [
    "#HEATMAP - INTERACTIVE\n",
    "\n",
    "labz = [\n",
    "    ['q','','w','','e','','r','','t','','y','','u','','i','','o','','p'],\n",
    "    ['','a','','s','','d','','f','','g','','h','','j','','k','','l',''],\n",
    "    ['','','z','','x','','c','','v','','b','','n','','m','','','',''],\n",
    "    ['','','','','','','','','space','','','','','','','','','','']\n",
    "]\n",
    "\n",
    "# in pivot: 'y' is the index of rows, 'x' index of columns and 'dist' the value\n",
    "_ = df_heat.pivot('y', 'x', 'dist') # <--- Change here 'dist' to the column you want\n",
    "plt.figure(figsize=(10,3))\n",
    "plt.axis('off')\n",
    "plt.title(\"Title\")\n",
    "sns.heatmap(_, annot=labz, fmt='', square=True, cbar_kws = dict(use_gridspec=False,location=\"bottom\"))"
   ],
   "metadata": {
    "collapsed": false,
    "pycharm": {
     "name": "#%%\n"
    }
   }
  },
  {
   "cell_type": "code",
   "execution_count": 10,
   "outputs": [],
   "source": [
    "#HEATMAP - GEN FILES\n",
    "\n",
    "take_out = ['x', 'y', 'dist', 'View']\n",
    "\n",
    "for col in df_heat.columns:\n",
    "    if col in take_out:\n",
    "        continue\n",
    "    _ = df_heat.pivot('y', 'x', col) # col takes all values of letters\n",
    "    plt.figure(figsize=(15,8))\n",
    "    plt.axis('off')\n",
    "    plt.title(\"Heatmap: \" + col)\n",
    "    sns.heatmap(_, annot=labz, fmt='', square=True, cbar_kws = dict(use_gridspec=False,location=\"bottom\"))\n",
    "    # plt.savefig(\"C:\\\\Users\\\\giuli\\\\Desktop\\\\ds\\\\merged\\\\png\\\\\" + col + \"_heat.png\")\n",
    "    plt.savefig(\"C:\\\\Users\\\\giuli\\\\Desktop\\\\image finale\\\\heatmap inizali\\\\\" + col + \"_heat.png\", bbox_inches='tight')\n",
    "    plt.close()"
   ],
   "metadata": {
    "collapsed": false,
    "pycharm": {
     "name": "#%%\n"
    }
   }
  },
  {
   "cell_type": "code",
   "execution_count": 10,
   "outputs": [],
   "source": [
    "from sklearn.model_selection import StratifiedShuffleSplit, GridSearchCV\n",
    "from matplotlib import pyplot\n",
    "from sklearn.ensemble import RandomForestClassifier\n",
    "from sklearn.naive_bayes import GaussianNB\n",
    "from sklearn.svm import SVC\n",
    "from sklearn.tree import DecisionTreeClassifier\n",
    "from sklearn.ensemble import AdaBoostClassifier, GradientBoostingClassifier\n",
    "from sklearn.linear_model import LogisticRegression\n",
    "from sklearn.neighbors import KNeighborsClassifier\n",
    "from sklearn import metrics\n",
    "from sklearn.model_selection import GridSearchCV"
   ],
   "metadata": {
    "collapsed": false,
    "pycharm": {
     "name": "#%%\n"
    }
   }
  },
  {
   "cell_type": "code",
   "execution_count": 11,
   "outputs": [],
   "source": [
    "# compare machine learning algorithms\n",
    "\n",
    "models = []\n",
    "models.append(('RFC', \"RandomForestClassifier\", RandomForestClassifier(n_estimators = 100, random_state = 42)))\n",
    "models.append(('NB', \"GaussianNB\", GaussianNB()))\n",
    "models.append(('SVM', \"SVC\", SVC(C=1.0, kernel='linear', gamma='auto', random_state=42)))\n",
    "models.append(('CART', \"DecisionTreeClassifier\", DecisionTreeClassifier(random_state=42)))\n",
    "models.append(('ADA', \"AdaBoostClassifier\", AdaBoostClassifier(n_estimators=100, learning_rate=0.1)))\n",
    "models.append(('LR', \"LogisticRegression\", LogisticRegression(solver='liblinear', random_state = 42)))\n",
    "models.append(('KNN', \"KNeighborsClassifier\", KNeighborsClassifier(weights='distance', n_neighbors=30, n_jobs=-1)))"
   ],
   "metadata": {
    "collapsed": false,
    "pycharm": {
     "name": "#%%\n"
    }
   }
  },
  {
   "cell_type": "code",
   "execution_count": 12,
   "outputs": [
    {
     "name": "stdout",
     "output_type": "stream",
     "text": [
      "(25625, 276) (25625,)\n",
      "Train: 17937 17937 Test: 7688 7688\n",
      "{' ': 1228, 'a': 464, 'b': 109, 'c': 216, 'd': 213, 'e': 785, 'f': 127, 'g': 131, 'h': 232, 'i': 530, 'j': 104, 'k': 111, 'l': 261, 'm': 152, 'n': 352, 'o': 425, 'p': 187, 'q': 100, 'r': 295, 's': 328, 't': 431, 'u': 267, 'v': 101, 'w': 134, 'x': 104, 'y': 175, 'z': 126}\n",
      "RFC: 37.760000\n",
      "NB: 13.980000\n",
      "SVM: 37.930000\n",
      "CART: 23.390000\n",
      "ADA: 24.520000\n",
      "LR: 36.490000\n",
      "KNN: 34.160000\n"
     ]
    }
   ],
   "source": [
    "features = df.drop(['View','User','Hand', 'Smartphone', 'x', 'y','dist'], axis=1)\n",
    "feature_list = list(features.columns)\n",
    "\n",
    "# Convert to numpy array\n",
    "labels = np.array(df['View'])\n",
    "features = np.array(features)\n",
    "\n",
    "# print(features)\n",
    "# print(labels)\n",
    "\n",
    "print(features.shape, labels.shape)\n",
    "\n",
    "sss = StratifiedShuffleSplit(n_splits=1, test_size=0.3, random_state=0)\n",
    "for train_index, test_index in sss.split(features, labels):\n",
    "    X_train, X_test = features[train_index], features[test_index]\n",
    "    y_train, y_test = labels[train_index], labels[test_index]\n",
    "\n",
    "print(\"Train:\", len(X_train), len(y_train), \"Test:\", len(X_test), len(y_test))\n",
    "\n",
    "# print number of occurrences for each letters\n",
    "a, b = np.unique(y_test, return_counts=True)\n",
    "print(dict(zip(a, b)))\n",
    "\n",
    "# evaluate each model in turn\n",
    "results = []\n",
    "names = []\n",
    "hue = []\n",
    "predictions = []\n",
    "\n",
    "y_pred_result = []\n",
    "\n",
    "for name, full_name, model in models:\n",
    "\n",
    "    model.fit(X_train, y_train)\n",
    "    y_pred = model.predict(X_test)\n",
    "    accuracy = round(metrics.accuracy_score(y_test, y_pred) * 100, 2)\n",
    "\n",
    "    y_pred_result.append(y_pred)\n",
    "    predictions.append((full_name, y_pred))\n",
    "    results.append(accuracy)\n",
    "    names.append(name)\n",
    "    hue.append(full_name + \": \" + str(accuracy) + \"%\")\n",
    "\n",
    "    print('%s: %f' % (name, accuracy))"
   ],
   "metadata": {
    "collapsed": false,
    "pycharm": {
     "name": "#%%\n"
    }
   }
  },
  {
   "cell_type": "code",
   "execution_count": 16,
   "outputs": [],
   "source": [
    "# plot ACCURACY of ML Algorithm\n",
    "\n",
    "graphData = pd.DataFrame({'names':names,'results':results, 'algorithm':hue})\n",
    "fig = pyplot.figure(figsize=(24,14), dpi=100)\n",
    "pyplot.title('Accuracy', fontweight='bold')\n",
    "plt_bar = sns.barplot(x='names', y='results', data=graphData, hue='algorithm', dodge=False)\n",
    "pyplot.xlabel(\"algorithm\", fontsize=10)\n",
    "pyplot.ylabel(\"accuracy\", fontweight='bold', fontsize=10)\n",
    "plt.yticks(np.arange(0, 105, 5), fontsize=15)\n",
    "plt.xticks(fontsize=17)\n",
    "plt.setp(plt_bar.get_legend().get_texts(), fontsize='15') # for legend text\n",
    "plt.setp(plt_bar.get_legend().get_title(), fontsize='16', fontweight='bold') # for legend title\n",
    "pyplot.savefig(\"C:\\\\Users\\\\giuli\\\\Desktop\\\\image finale\\\\\" + \"accuracy.png\",\n",
    "               bbox_inches='tight')\n",
    "# pyplot.show()\n",
    "pyplot.close()"
   ],
   "metadata": {
    "collapsed": false,
    "pycharm": {
     "name": "#%%\n"
    }
   }
  },
  {
   "cell_type": "code",
   "execution_count": null,
   "outputs": [],
   "source": [
    "# mod = AdaBoostClassifier()\n",
    "# # define the grid of values to search\n",
    "# grid = dict()\n",
    "# grid['n_estimators'] = [10, 50, 100, 500]\n",
    "# grid['learning_rate'] = [0.0001, 0.001, 0.01, 0.1, 1.0]\n",
    "# grid['algorithm'] = ['SAMME', 'SAMME.R']\n",
    "# # define the evaluation procedure\n",
    "# # define the grid search procedure\n",
    "# grid_search = GridSearchCV(estimator=mod, param_grid=grid, n_jobs=-1, cv=sss, scoring='accuracy')\n",
    "# # execute the grid search\n",
    "# grid_result = grid_search.fit(X_train, y_train)\n",
    "# # summarize the best score and configuration\n",
    "# print(\"Best: %f using %s\" % (grid_result.best_score_, grid_result.best_params_))\n",
    "\n",
    "# mod = SVC(probability=True, shrinking=False, gamma='auto', decision_function_shape='ovo', C=1.0, kernel='linear', random_state=42)\n",
    "# # define the grid of values to search\n",
    "# grid = dict()\n",
    "# # grid['C'] = [0.001, 0.01, 0.1, 1.0]\n",
    "# # grid['kernel'] = ['linear', 'rbf', 'sigmoid', 'poly']\n",
    "# # grid['degree'] = [3, 4, 5]\n",
    "# # grid['gamma'] = ['auto', 'scale']\n",
    "# # grid['shrinking'] = [True, False]\n",
    "# # grid['probability'] = [True, False]\n",
    "# # grid['decision_function_shape'] = ['ovo', 'ovr']\n",
    "# grid['break_ties'] = [True, False]\n",
    "# # define the evaluation procedure\n",
    "# # define the grid search procedure\n",
    "# grid_search = GridSearchCV(estimator=mod, param_grid=grid, n_jobs=-1, cv=sss, scoring='accuracy')\n",
    "# # execute the grid search\n",
    "# grid_result = grid_search.fit(X_train, y_train)\n",
    "# # summarize the best score and configuration\n",
    "# print(\"Best: %f using %s\" % (grid_result.best_score_, grid_result.best_params_))\n",
    "\n",
    "# mod = LogisticRegression(random_state=42, multi_class='auto')\n",
    "# # define the grid of values to search\n",
    "# grid = dict()\n",
    "# grid['C'] = [0.001, 0.01, 0.1, 1.0]\n",
    "# grid['solver'] = ['linear', 'newton-cg', 'lbfgs', 'saga']\n",
    "# # define the evaluation procedure\n",
    "# # define the grid search procedure\n",
    "# grid_search = GridSearchCV(estimator=mod, param_grid=grid, n_jobs=-1, cv=sss, scoring='accuracy')\n",
    "# # execute the grid search\n",
    "# grid_result = grid_search.fit(X_train, y_train)\n",
    "# # summarize the best score and configuration\n",
    "# print(\"Best: %f using %s\" % (grid_result.best_score_, grid_result.best_params_))\n",
    "\n",
    "# mod = DecisionTreeClassifier(random_state=42)\n",
    "# # define the grid of values to search\n",
    "# grid = dict()\n",
    "# grid['splitter'] = ['best', 'random']\n",
    "# grid['max_features'] = ['auto', 'sqrt', 'log2', None]\n",
    "# # define the evaluation procedure\n",
    "# # define the grid search procedure\n",
    "# grid_search = GridSearchCV(estimator=mod, param_grid=grid, n_jobs=-1, cv=sss, scoring='accuracy')\n",
    "# # execute the grid search\n",
    "# grid_result = grid_search.fit(X_train, y_train)\n",
    "# # summarize the best score and configuration\n",
    "# print(\"Best: %f using %s\" % (grid_result.best_score_, grid_result.best_params_))\n",
    "\n",
    "# mod = KNeighborsClassifier(n_jobs=-1)\n",
    "# # define the grid of values to search\n",
    "# grid = dict()\n",
    "# grid['n_neighbors'] = [5, 6, 7, 8, 9, 10, 11, 12, 13, 14, 15, 16, 17, 18, 19, 20,\n",
    "#                        21, 22, 23, 24, 25, 26, 27, 28, 29, 30, 31]\n",
    "# grid['weights'] = ['uniform', 'distance']\n",
    "# grid['algorithm'] = ['auto', 'ball_tree', 'kd_tree', 'brute']\n",
    "# # define the evaluation procedure\n",
    "# # define the grid search procedure\n",
    "# grid_search = GridSearchCV(estimator=mod, param_grid=grid, n_jobs=-1, cv=sss, scoring='accuracy')\n",
    "# # execute the grid search\n",
    "# grid_result = grid_search.fit(X_train, y_train)\n",
    "# # summarize the best score and configuration\n",
    "# print(\"Best: %f using %s\" % (grid_result.best_score_, grid_result.best_params_))"
   ],
   "metadata": {
    "collapsed": false,
    "pycharm": {
     "name": "#%%\n"
    }
   }
  },
  {
   "cell_type": "code",
   "execution_count": 29,
   "outputs": [
    {
     "data": {
      "text/plain": "<Figure size 1728x1008 with 1 Axes>",
      "image/png": "[encoded data removed]"
     },
     "metadata": {
      "needs_background": "light"
     },
     "output_type": "display_data"
    }
   ],
   "source": [
    "# mod = RandomForestClassifier(random_state=42)\n",
    "# # define the grid of values to search\n",
    "# grid = dict()\n",
    "# grid['n_estimators'] = [10, 50, 100, 500]\n",
    "# grid['min_samples_leaf'] = [1, 75]\n",
    "# # define the evaluation procedure\n",
    "# # define the grid search procedure\n",
    "# grid_search = GridSearchCV(estimator=mod, param_grid=grid, n_jobs=-1, cv=sss, scoring='accuracy')\n",
    "# # execute the grid search\n",
    "# grid_result = grid_search.fit(X_train, y_train)\n",
    "# # summarize the best score and configuration\n",
    "# print(\"Best: %f using %s\" % (grid_result.best_score_, grid_result.best_params_))"
   ],
   "metadata": {
    "collapsed": false,
    "pycharm": {
     "name": "#%%\n"
    }
   }
  },
  {
   "cell_type": "code",
   "execution_count": 17,
   "outputs": [],
   "source": [
    "from sklearn.metrics import confusion_matrix\n",
    "from sklearn.metrics import classification_report, f1_score"
   ],
   "metadata": {
    "collapsed": false,
    "pycharm": {
     "name": "#%%\n"
    }
   }
  },
  {
   "cell_type": "code",
   "execution_count": 19,
   "outputs": [],
   "source": [
    "\n",
    "idx = [17, 23, 1, 5, 19, 26, 18, 4, 24, 20, 6, 3, 25, 7, 22, 0, 21, 8, 2, 9, 10, 14, 15, 11, 13, 16, 12]\n",
    "\n",
    "labels_order = a[idx]\n",
    "\n",
    "ticklabels = [i for i in \"QWAESZRDXTFCYGV UHBIJNOKMPL\"]\n",
    "zip_labels = list(zip(idx, ticklabels))"
   ],
   "metadata": {
    "collapsed": false,
    "pycharm": {
     "name": "#%%\n"
    }
   }
  },
  {
   "cell_type": "code",
   "execution_count": 20,
   "outputs": [
    {
     "name": "stdout",
     "output_type": "stream",
     "text": [
      "RandomForestClassifier\n",
      "GaussianNB\n",
      "SVC\n",
      "DecisionTreeClassifier\n",
      "AdaBoostClassifier\n",
      "LogisticRegression\n",
      "KNeighborsClassifier\n"
     ]
    }
   ],
   "source": [
    "# plot CONFUSION MATRIX not scaled\n",
    "\n",
    "copy_conf = []\n",
    "\n",
    "for name, prediction in predictions:\n",
    "\n",
    "    c, d = np.unique(prediction, return_counts=True)\n",
    "    # print(dict(zip(c, d)))\n",
    "\n",
    "    conf_matrix = confusion_matrix(y_test, prediction, labels=labels_order)\n",
    "\n",
    "    copy_conf.append((name, conf_matrix))\n",
    "\n",
    "    print(name)\n",
    "\n",
    "    # number of letters for each rows\n",
    "    # print(name, list(map(sum, conf_matrix)))\n",
    "\n",
    "    # number of letters for each columns\n",
    "    # print(name, [sum(conf_matrix[:,i]) for i in range(27)])\n",
    "\n",
    "    df_cm = pd.DataFrame(conf_matrix, index = idx, columns = idx)\n",
    "\n",
    "    plt.figure(figsize = (24,14), dpi=100)\n",
    "    sns.set(font_scale=1)\n",
    "\n",
    "    sns.heatmap(df_cm, annot=True, yticklabels=zip_labels, xticklabels=ticklabels, annot_kws={\"fontsize\":10})\n",
    "\n",
    "    plt.title(\"confusion_matrix: \" + name, fontweight='bold')\n",
    "    plt.ylabel(\"actual\", fontweight='bold')\n",
    "    plt.xlabel(\"predicted\", fontweight='bold')\n",
    "\n",
    "    plt.savefig(\"C:\\\\Users\\\\giuli\\\\Desktop\\\\image finale\\\\confusion_matrix\\\\non scalati\\\\\" + name +\n",
    "                \"_confusion_matrix.png\", bbox_inches='tight')\n",
    "\n",
    "    plt.close()"
   ],
   "metadata": {
    "collapsed": false,
    "pycharm": {
     "name": "#%%\n"
    }
   }
  },
  {
   "cell_type": "code",
   "execution_count": 21,
   "outputs": [],
   "source": [
    "# plot CONFUSION MATRIX scaled\n",
    "\n",
    "copy_conf_scaled = []\n",
    "\n",
    "for name, prediction in predictions:\n",
    "\n",
    "    c, d = np.unique(prediction, return_counts=True)\n",
    "    # print(dict(zip(c, d)))\n",
    "\n",
    "    conf_matrix = confusion_matrix(y_test, prediction, labels=labels_order)\n",
    "\n",
    "    conf_scaled = (conf_matrix.astype(float)/conf_matrix.astype(float).sum(axis=1)[:, np.newaxis]) * 100\n",
    "\n",
    "    copy_conf_scaled.append((name, conf_scaled))\n",
    "\n",
    "    # print(name, list(map(sum, conf_scaled)))\n",
    "\n",
    "    df_cm = pd.DataFrame(conf_scaled, index = idx, columns = idx)\n",
    "\n",
    "    plt.figure(figsize = (24,14), dpi=100)\n",
    "    sns.set(font_scale=1)\n",
    "\n",
    "    sns.heatmap(df_cm, annot=True, yticklabels=zip_labels, xticklabels=ticklabels, annot_kws={\"fontsize\":10})\n",
    "\n",
    "    plt.title(\"confusion_matrix: \" + name, fontweight='bold')\n",
    "    plt.ylabel(\"actual\", fontweight='bold')\n",
    "    plt.xlabel(\"predicted\", fontweight='bold')\n",
    "\n",
    "    plt.savefig(\"C:\\\\Users\\\\giuli\\\\Desktop\\\\image finale\\\\confusion_matrix\\\\scalati\\\\\" + name +\n",
    "                \"_confusion_matrix.png\", bbox_inches='tight')\n",
    "\n",
    "    plt.close()"
   ],
   "metadata": {
    "collapsed": false,
    "pycharm": {
     "name": "#%%\n"
    }
   }
  },
  {
   "cell_type": "code",
   "execution_count": 22,
   "outputs": [
    {
     "name": "stderr",
     "output_type": "stream",
     "text": [
      "C:\\Users\\giuli\\AppData\\Local\\Temp/ipykernel_15932/1748257599.py:7: VisibleDeprecationWarning: Creating an ndarray from ragged nested sequences (which is a list-or-tuple of lists-or-tuples-or ndarrays with different lengths or shapes) is deprecated. If you meant to do this, you must specify 'dtype=object' when creating the ndarray.\n",
      "  nArr2D = np.array(copy_conf)\n"
     ]
    }
   ],
   "source": [
    "# keyboard = [('q', 0), ('w', 1), ('a', 1), ('e', 2), ('s', 2), ('z', 2), ('r', 3), ('d', 3), ('x', 3), ('t', 4), ('f', 4),\n",
    "#             ('c', 4), ('y', 5), ('g', 5), ('v', 5), (' ', 5), ('u', 6), ('h', 6), ('b', 6), ('i', 7), ('j', 7), ('n', 7),\n",
    "#             ('o', 8), ('k', 8), ('m', 8), ('p', 9), ('l', 9)]\n",
    "\n",
    "# distances of each letter from the others\n",
    "\n",
    "nArr2D = np.array(copy_conf)\n",
    "keyboard_q = [0, 1, 1, 2, 2, 2, 3, 3, 3, 4, 4, 4, 5, 5, 5, 4, 6, 6, 6, 7, 7, 7, 8, 8, 8, 9, 9]\n",
    "keyboard_w = [1, 0, 1, 1, 1, 2, 2, 2, 2, 3, 3, 3, 4, 4, 4, 3, 5, 5, 5, 6, 6, 6, 7, 7, 7, 8, 8]\n",
    "keyboard_a = [1, 1, 0, 2, 1, 1, 3, 2, 2, 4, 3, 3, 5, 4, 4, 3, 6, 5, 5, 7, 6, 6, 8, 7, 7, 9, 8]\n",
    "keyboard_e = [2, 1, 2, 0, 1, 2, 1, 1, 2, 2, 2, 2, 3, 3, 3, 3, 4, 4, 4, 5, 5, 5, 6, 6, 6, 7, 7]\n",
    "keyboard_s = [2, 1, 1, 1, 0, 1, 2, 1, 1, 3, 2, 2, 4, 3, 3, 2, 5, 4, 4, 6, 5, 5, 7, 6, 6, 8, 7]\n",
    "keyboard_z = [2, 2, 1, 2, 1, 0, 2, 1, 1, 3, 2, 2, 4, 3, 3, 2, 5, 4, 4, 6, 5, 5, 7, 6, 6, 8, 7]\n",
    "keyboard_r = [3, 2, 3, 1, 2, 2, 0, 1, 2, 1, 1, 2, 2, 2, 2, 3, 3, 3, 3, 4, 4, 4, 5, 5, 5, 6, 6]\n",
    "keyboard_d = [3, 2, 2, 1, 1, 1, 1, 0, 1, 2, 1, 1, 3, 2, 2, 2, 4, 3, 3, 5, 4, 4, 6, 5, 5, 7, 6]\n",
    "keyboard_x = [3, 2, 2, 2, 1, 1, 2, 1, 0, 2, 1, 1, 3, 2, 2, 1, 4, 3, 3, 5, 4, 4, 6, 5, 5, 7, 6]\n",
    "keyboard_t = [4, 3, 4, 2, 3, 3, 1, 2, 2, 0, 1, 2, 1, 1, 2, 3, 2, 2, 2, 3, 3, 3, 4, 4, 4, 5, 5]\n",
    "keyboard_f = [4, 3, 3, 2, 2, 2, 1, 1, 1, 1, 0, 1, 2, 1, 1, 2, 3, 2, 2, 4, 3, 3, 5, 4, 4, 6, 5]\n",
    "keyboard_c = [4, 3, 3, 2, 2, 2, 2, 1, 1, 2, 1, 0, 2, 1, 1, 1, 3, 2, 2, 4, 3, 3, 5, 4, 4, 6, 5]\n",
    "keyboard_y = [5, 4, 5, 3, 4, 4, 2, 3, 3, 1, 2, 2, 0, 1, 2, 3, 1, 1, 2, 2, 2, 2, 3, 3, 3, 4, 4]\n",
    "keyboard_g = [5, 4, 4, 3, 3, 3, 2, 2, 2, 1, 1, 1, 1, 0, 1, 2, 2, 1, 1, 3, 2, 2, 4, 3, 3, 5, 4]\n",
    "keyboard_v = [5, 4, 4, 3, 3, 3, 2, 2, 2, 2, 1, 1, 2, 1, 0, 1, 2, 1, 1, 3, 2, 2, 4, 3, 3, 5, 4]\n",
    "keyboard_  = [4, 3, 3, 3, 2, 2, 3, 2, 1, 3, 2, 1, 3, 2, 1, 0, 3, 2, 1, 3, 2, 1, 3, 2, 2, 4, 3]\n",
    "keyboard_u = [6, 5, 6, 4, 5, 5, 3, 4, 4, 2, 3, 3, 1, 2, 2, 3, 0, 1, 2, 1, 1, 2, 2, 2, 2, 3, 3]\n",
    "keyboard_h = [6, 5, 5, 4, 4, 4, 3, 3, 3, 2, 2, 2, 1, 1, 1, 2, 1, 0, 1, 2, 1, 1, 3, 2, 2, 4, 3]\n",
    "keyboard_b = [6, 5, 5, 4, 4, 4, 3, 3, 3, 2, 2, 2, 2, 1, 1, 1, 2, 1, 0, 2, 1, 1, 3, 2, 2, 4, 3]\n",
    "keyboard_i = [7, 6, 7, 5, 6, 6, 4, 5, 5, 3, 4, 4, 2, 3, 3, 3, 1, 2, 2, 0, 1, 2, 1, 1, 2, 2, 2]\n",
    "keyboard_j = [7, 6, 6, 5, 5, 5, 4, 4, 4, 3, 3, 3, 2, 2, 2, 2, 1, 1, 1, 1, 0, 1, 2, 1, 1, 3, 2]\n",
    "keyboard_n = [7, 6, 6, 5, 5, 5, 4, 4, 4, 3, 3, 3, 2, 2, 2, 1, 2, 1, 1, 2, 1, 0, 2, 1, 1, 3, 2]\n",
    "keyboard_o = [8, 7, 8, 6, 7, 7, 5, 6, 6, 4, 5, 5, 3, 4, 4, 3, 2, 3, 3, 1, 2, 2, 0, 1, 2, 1, 1]\n",
    "keyboard_k = [8, 7, 7, 6, 6, 6, 5, 5, 5, 4, 4, 4, 3, 3, 3, 2, 2, 2, 2, 1, 1, 1, 1, 0, 1, 2, 1]\n",
    "keyboard_m = [8, 7, 7, 6, 6, 6, 5, 5, 5, 4, 4, 4, 3, 3, 3, 2, 2, 2, 2, 2, 1, 1, 2, 1, 0, 2, 1]\n",
    "keyboard_p = [9, 8, 9, 7, 8, 8, 6, 7, 7, 5, 6, 6, 4, 5, 5, 4, 3, 4, 4, 2, 3, 3, 1, 2, 2, 0, 1]\n",
    "keyboard_l = [9, 8, 8, 7, 7, 7, 6, 6, 6, 5, 5, 5, 4, 4, 4, 3, 3, 3, 3, 2, 2, 2, 1, 1, 1, 1, 0]\n",
    "\n",
    "\n",
    "keyboard = [keyboard_q, keyboard_w, keyboard_a, keyboard_e, keyboard_s, keyboard_z, keyboard_r, keyboard_d, keyboard_x,\n",
    "            keyboard_t, keyboard_f, keyboard_c, keyboard_y, keyboard_g, keyboard_v, keyboard_, keyboard_u, keyboard_h,\n",
    "            keyboard_b, keyboard_i, keyboard_j, keyboard_n, keyboard_o, keyboard_k, keyboard_m, keyboard_p, keyboard_l]"
   ],
   "metadata": {
    "collapsed": false,
    "pycharm": {
     "name": "#%%\n"
    }
   }
  },
  {
   "cell_type": "code",
   "execution_count": 23,
   "outputs": [],
   "source": [
    "# create new matrix with distance\n",
    "\n",
    "def matrix_distance(m_distance):\n",
    "    actual = 0\n",
    "    row_conf = 0\n",
    "    new_matrix = []\n",
    "    matrix_to_return = []\n",
    "    indexes = []\n",
    "    summ = []\n",
    "\n",
    "    for name, c_matrix in m_distance:\n",
    "        for keyb in keyboard:\n",
    "            for i in range(0, max(keyb)+1):\n",
    "                for j in keyb:\n",
    "                    if i == j:\n",
    "                        indexes.append(actual)\n",
    "                    actual += 1\n",
    "\n",
    "                # print(indexes)\n",
    "                sum_values = sum(c_matrix[row_conf][indexes])\n",
    "                summ.append(sum_values)\n",
    "                indexes = []\n",
    "                actual = 0\n",
    "            row_conf += 1\n",
    "\n",
    "            new_matrix.append(summ)\n",
    "            summ = []\n",
    "\n",
    "        matrix_to_return.append((name, new_matrix))\n",
    "        new_matrix = []\n",
    "        row_conf = 0\n",
    "\n",
    "    return matrix_to_return\n",
    "\n",
    "\n",
    "# print(matrix_distance(copy_conf))"
   ],
   "metadata": {
    "collapsed": false,
    "pycharm": {
     "name": "#%%\n"
    }
   }
  },
  {
   "cell_type": "code",
   "execution_count": 25,
   "outputs": [],
   "source": [
    "# create plot of matrix with distance\n",
    "\n",
    "def create_plot_distance(copy_matrix, path_file):\n",
    "\n",
    "    for name_alg, matrix in matrix_distance(copy_matrix):\n",
    "\n",
    "        conf_matrix_distance = pd.DataFrame(matrix, index = idx, columns = range(0, 10))\n",
    "\n",
    "        plt.figure(figsize = (24,14), dpi=100)\n",
    "        sns.set(font_scale=1)\n",
    "\n",
    "        sns.heatmap(conf_matrix_distance, annot=True, yticklabels=zip_labels, xticklabels=range(0, 10), annot_kws={\"fontsize\":10}, fmt='.0f')\n",
    "\n",
    "        plt.title(name_alg + \"_distance\", fontweight='bold')\n",
    "        plt.ylabel(\"actual\", fontweight='bold')\n",
    "        plt.xlabel(\"distance\", fontweight='bold')\n",
    "\n",
    "        plt.savefig(\"C:\\\\Users\\\\giuli\\\\Desktop\\\\image finale\\\\confusion_matrix\\\\\" + path_file + \"\\\\\" + name_alg +\n",
    "                        \"_distance.png\", bbox_inches='tight')\n",
    "\n",
    "        plt.close()"
   ],
   "metadata": {
    "collapsed": false,
    "pycharm": {
     "name": "#%%\n"
    }
   }
  },
  {
   "cell_type": "code",
   "execution_count": 26,
   "outputs": [],
   "source": [
    "create_plot_distance(copy_conf, \"distanze non scalate\")\n",
    "create_plot_distance(copy_conf_scaled, \"distanze scalate\")"
   ],
   "metadata": {
    "collapsed": false,
    "pycharm": {
     "name": "#%%\n"
    }
   }
  },
  {
   "cell_type": "code",
   "execution_count": 19,
   "outputs": [
    {
     "name": "stdout",
     "output_type": "stream",
     "text": [
      "RandomForestClassifier\n",
      "GaussianNB\n",
      "SVC\n"
     ]
    },
    {
     "name": "stderr",
     "output_type": "stream",
     "text": [
      "c:\\users\\giuli\\desktop\\pythontesi\\venv\\lib\\site-packages\\sklearn\\metrics\\_classification.py:1248: UndefinedMetricWarning: Precision and F-score are ill-defined and being set to 0.0 in labels with no predicted samples. Use `zero_division` parameter to control this behavior.\n",
      "  _warn_prf(average, modifier, msg_start, len(result))\n",
      "c:\\users\\giuli\\desktop\\pythontesi\\venv\\lib\\site-packages\\sklearn\\metrics\\_classification.py:1248: UndefinedMetricWarning: Precision and F-score are ill-defined and being set to 0.0 in labels with no predicted samples. Use `zero_division` parameter to control this behavior.\n",
      "  _warn_prf(average, modifier, msg_start, len(result))\n",
      "c:\\users\\giuli\\desktop\\pythontesi\\venv\\lib\\site-packages\\sklearn\\metrics\\_classification.py:1248: UndefinedMetricWarning: Precision and F-score are ill-defined and being set to 0.0 in labels with no predicted samples. Use `zero_division` parameter to control this behavior.\n",
      "  _warn_prf(average, modifier, msg_start, len(result))\n"
     ]
    },
    {
     "name": "stdout",
     "output_type": "stream",
     "text": [
      "DecisionTreeClassifier\n",
      "AdaBoostClassifier\n"
     ]
    },
    {
     "name": "stderr",
     "output_type": "stream",
     "text": [
      "c:\\users\\giuli\\desktop\\pythontesi\\venv\\lib\\site-packages\\sklearn\\metrics\\_classification.py:1248: UndefinedMetricWarning: Precision and F-score are ill-defined and being set to 0.0 in labels with no predicted samples. Use `zero_division` parameter to control this behavior.\n",
      "  _warn_prf(average, modifier, msg_start, len(result))\n",
      "c:\\users\\giuli\\desktop\\pythontesi\\venv\\lib\\site-packages\\sklearn\\metrics\\_classification.py:1248: UndefinedMetricWarning: Precision and F-score are ill-defined and being set to 0.0 in labels with no predicted samples. Use `zero_division` parameter to control this behavior.\n",
      "  _warn_prf(average, modifier, msg_start, len(result))\n",
      "c:\\users\\giuli\\desktop\\pythontesi\\venv\\lib\\site-packages\\sklearn\\metrics\\_classification.py:1248: UndefinedMetricWarning: Precision and F-score are ill-defined and being set to 0.0 in labels with no predicted samples. Use `zero_division` parameter to control this behavior.\n",
      "  _warn_prf(average, modifier, msg_start, len(result))\n"
     ]
    },
    {
     "name": "stdout",
     "output_type": "stream",
     "text": [
      "LogisticRegression\n"
     ]
    },
    {
     "name": "stderr",
     "output_type": "stream",
     "text": [
      "c:\\users\\giuli\\desktop\\pythontesi\\venv\\lib\\site-packages\\sklearn\\metrics\\_classification.py:1248: UndefinedMetricWarning: Precision and F-score are ill-defined and being set to 0.0 in labels with no predicted samples. Use `zero_division` parameter to control this behavior.\n",
      "  _warn_prf(average, modifier, msg_start, len(result))\n",
      "c:\\users\\giuli\\desktop\\pythontesi\\venv\\lib\\site-packages\\sklearn\\metrics\\_classification.py:1248: UndefinedMetricWarning: Precision and F-score are ill-defined and being set to 0.0 in labels with no predicted samples. Use `zero_division` parameter to control this behavior.\n",
      "  _warn_prf(average, modifier, msg_start, len(result))\n",
      "c:\\users\\giuli\\desktop\\pythontesi\\venv\\lib\\site-packages\\sklearn\\metrics\\_classification.py:1248: UndefinedMetricWarning: Precision and F-score are ill-defined and being set to 0.0 in labels with no predicted samples. Use `zero_division` parameter to control this behavior.\n",
      "  _warn_prf(average, modifier, msg_start, len(result))\n"
     ]
    },
    {
     "name": "stdout",
     "output_type": "stream",
     "text": [
      "KNeighborsClassifier\n"
     ]
    }
   ],
   "source": [
    "# plot F1-SCORE, PRECISION and RECALL\n",
    "\n",
    "alphabet = [' ', 'a', 'b', 'c', 'd', 'e', 'f', 'g', 'h', 'i', 'j', 'k', 'l', 'm', 'n', 'o', 'p',\n",
    "            'q', 'r', 's', 't', 'u', 'v', 'w', 'x', 'y', 'z']\n",
    "\n",
    "# set width of bars\n",
    "bar_width = 0.25\n",
    "\n",
    "for name, prediction in predictions:\n",
    "    print(name)\n",
    "    report = classification_report(y_test, prediction, output_dict=True)\n",
    "    data_report = pd.DataFrame(report).transpose()\n",
    "    precision = round(data_report.loc[:, 'precision'], 2)\n",
    "    recall = round(data_report.loc[:, 'recall'], 2)\n",
    "    f_score = round(data_report.loc[:, 'f1-score'], 2)\n",
    "    prec = precision.head(27)\n",
    "    rec = recall.head(27)\n",
    "    f = f_score.head(27)\n",
    "\n",
    "    # print(name, f1_score(y_test, prediction, average=None))\n",
    "\n",
    "    # Set position of bar on X axis\n",
    "    r1 = np.arange(27)\n",
    "    r2 = [xindex + bar_width for xindex in r1]\n",
    "    r3 = [xindex + bar_width for xindex in r2]\n",
    "\n",
    "    # Make the plot\n",
    "    plt.figure(figsize = (24,14), dpi=100)\n",
    "    plt.bar(r1, prec, width=bar_width, edgecolor='white', label='precision')\n",
    "    plt.bar(r2, rec, width=bar_width, edgecolor='white', label='recall')\n",
    "    plt.bar(r3, f, width=bar_width, edgecolor='white', label='f1-score')\n",
    "\n",
    "    # Add xticks and yticks on the middle of the group bars\n",
    "    # plt.xlabel('labels', fontweight='bold')\n",
    "    plt.title(\"Precision, Recall, F1 Score: \" + name, fontweight='bold')\n",
    "    plt.yticks(np.arange(0, 1.05, 0.05), fontsize=15)\n",
    "    plt.xticks([r + bar_width for r in range(27)], alphabet, fontsize=20)\n",
    "\n",
    "    # create legend, save graphic\n",
    "    plt.legend(prop={\"size\":20})\n",
    "\n",
    "    plt.savefig(\"C:\\\\Users\\\\giuli\\\\Desktop\\\\image finale\\\\f_score\\\\\" + name + \"_f_score.png\",\n",
    "                bbox_inches='tight')\n",
    "    plt.close()"
   ],
   "metadata": {
    "collapsed": false,
    "pycharm": {
     "name": "#%%\n"
    }
   }
  }
 ],
 "metadata": {
  "kernelspec": {
   "display_name": "Python 3",
   "language": "python",
   "name": "python3"
  },
  "language_info": {
   "codemirror_mode": {
    "name": "ipython",
    "version": 2
   },
   "file_extension": ".py",
   "mimetype": "text/x-python",
   "name": "python",
   "nbconvert_exporter": "python",
   "pygments_lexer": "ipython2",
   "version": "2.7.6"
  }
 },
 "nbformat": 4,
 "nbformat_minor": 0
}