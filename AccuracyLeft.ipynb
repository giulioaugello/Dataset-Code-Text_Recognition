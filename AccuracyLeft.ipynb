{
 "cells": [
  {
   "cell_type": "code",
   "execution_count": 1,
   "metadata": {
    "collapsed": true
   },
   "outputs": [],
   "source": [
    "import os\n",
    "import math\n",
    "\n",
    "import pandas as pd\n",
    "from numpy import arange, mean, std\n",
    "from sklearn import preprocessing\n",
    "import numpy as np"
   ]
  },
  {
   "cell_type": "code",
   "execution_count": 2,
   "outputs": [
    {
     "data": {
      "text/plain": "         AxMean     AxMed     AxStd     AxVar     AxMax     AxMin    AyMean  \\\n0      0.137554  0.064636  0.356773  0.127287  1.051056 -0.110138  2.961190   \n1      0.590167  0.679947  0.403956  0.163180  1.103729 -0.134079  2.469620   \n2      0.331192  0.325607  0.397967  0.158378  1.027115  0.009567  2.721668   \n3     -0.447721 -0.495605  0.349624  0.122237  0.090973 -0.988815  2.018710   \n4      0.395437  0.402222  0.179063  0.032064  0.622482  0.074219  1.259748   \n...         ...       ...       ...       ...       ...       ...       ...   \n16757  0.292690  0.304062  0.022743  0.000517  0.304062  0.258575  0.882263   \n16758 -0.699108 -0.713470  0.028725  0.000825 -0.656021 -0.713470  1.756138   \n16759 -1.127679 -1.065430  0.085239  0.007266 -1.065430 -1.221054  1.631400   \n16760  0.440536  0.440536  0.000000  0.000000  0.440536  0.440536  1.857895   \n16761  2.084554  2.202667  0.204578  0.041852  2.202667  1.848328  3.555389   \n\n          AyMed     AyStd     AyVar  ...  PreMean  PreMed  PreStd  PreVar  \\\n0      3.021484  0.322891  0.104259  ...      1.0     1.0     0.0     0.0   \n1      2.303223  0.459437  0.211083  ...      1.0     1.0     0.0     0.0   \n2      2.700653  0.293869  0.086359  ...      1.0     1.0     0.0     0.0   \n3      2.047043  0.283701  0.080486  ...      1.0     1.0     0.0     0.0   \n4      1.280899  0.191081  0.036512  ...      1.0     1.0     0.0     0.0   \n...         ...       ...       ...  ...      ...     ...     ...     ...   \n16757  0.871490  0.021545  0.000464  ...      1.0     1.0     0.0     0.0   \n16758  1.903381  0.294487  0.086723  ...      1.0     1.0     0.0     0.0   \n16759  1.620865  0.014425  0.000208  ...      1.0     1.0     0.0     0.0   \n16760  1.857895  0.000000  0.000000  ...      1.0     1.0     0.0     0.0   \n16761  3.971985  0.721565  0.520655  ...      1.0     1.0     0.0     0.0   \n\n       PreMax  PreMin  View    User  Hand  Smartphone  \n0         1.0     1.0     t  Chiara  LEFT    REALME 7  \n1         1.0     1.0     h  Chiara  LEFT    REALME 7  \n2         1.0     1.0     e  Chiara  LEFT    REALME 7  \n3         1.0     1.0        Chiara  LEFT    REALME 7  \n4         1.0     1.0     r  Chiara  LEFT    REALME 7  \n...       ...     ...   ...     ...   ...         ...  \n16757     1.0     1.0        Chiara  LEFT    REALME 7  \n16758     1.0     1.0     z  Chiara  LEFT    REALME 7  \n16759     1.0     1.0     a  Chiara  LEFT    REALME 7  \n16760     1.0     1.0     c  Chiara  LEFT    REALME 7  \n16761     1.0     1.0     k  Chiara  LEFT    REALME 7  \n\n[16762 rows x 280 columns]",
      "text/html": "<div>\n<style scoped>\n    .dataframe tbody tr th:only-of-type {\n        vertical-align: middle;\n    }\n\n    .dataframe tbody tr th {\n        vertical-align: top;\n    }\n\n    .dataframe thead th {\n        text-align: right;\n    }\n</style>\n<table border=\"1\" class=\"dataframe\">\n  <thead>\n    <tr style=\"text-align: right;\">\n      <th></th>\n      <th>AxMean</th>\n      <th>AxMed</th>\n      <th>AxStd</th>\n      <th>AxVar</th>\n      <th>AxMax</th>\n      <th>AxMin</th>\n      <th>AyMean</th>\n      <th>AyMed</th>\n      <th>AyStd</th>\n      <th>AyVar</th>\n      <th>...</th>\n      <th>PreMean</th>\n      <th>PreMed</th>\n      <th>PreStd</th>\n      <th>PreVar</th>\n      <th>PreMax</th>\n      <th>PreMin</th>\n      <th>View</th>\n      <th>User</th>\n      <th>Hand</th>\n      <th>Smartphone</th>\n    </tr>\n  </thead>\n  <tbody>\n    <tr>\n      <th>0</th>\n      <td>0.137554</td>\n      <td>0.064636</td>\n      <td>0.356773</td>\n      <td>0.127287</td>\n      <td>1.051056</td>\n      <td>-0.110138</td>\n      <td>2.961190</td>\n      <td>3.021484</td>\n      <td>0.322891</td>\n      <td>0.104259</td>\n      <td>...</td>\n      <td>1.0</td>\n      <td>1.0</td>\n      <td>0.0</td>\n      <td>0.0</td>\n      <td>1.0</td>\n      <td>1.0</td>\n      <td>t</td>\n      <td>Chiara</td>\n      <td>LEFT</td>\n      <td>REALME 7</td>\n    </tr>\n    <tr>\n      <th>1</th>\n      <td>0.590167</td>\n      <td>0.679947</td>\n      <td>0.403956</td>\n      <td>0.163180</td>\n      <td>1.103729</td>\n      <td>-0.134079</td>\n      <td>2.469620</td>\n      <td>2.303223</td>\n      <td>0.459437</td>\n      <td>0.211083</td>\n      <td>...</td>\n      <td>1.0</td>\n      <td>1.0</td>\n      <td>0.0</td>\n      <td>0.0</td>\n      <td>1.0</td>\n      <td>1.0</td>\n      <td>h</td>\n      <td>Chiara</td>\n      <td>LEFT</td>\n      <td>REALME 7</td>\n    </tr>\n    <tr>\n      <th>2</th>\n      <td>0.331192</td>\n      <td>0.325607</td>\n      <td>0.397967</td>\n      <td>0.158378</td>\n      <td>1.027115</td>\n      <td>0.009567</td>\n      <td>2.721668</td>\n      <td>2.700653</td>\n      <td>0.293869</td>\n      <td>0.086359</td>\n      <td>...</td>\n      <td>1.0</td>\n      <td>1.0</td>\n      <td>0.0</td>\n      <td>0.0</td>\n      <td>1.0</td>\n      <td>1.0</td>\n      <td>e</td>\n      <td>Chiara</td>\n      <td>LEFT</td>\n      <td>REALME 7</td>\n    </tr>\n    <tr>\n      <th>3</th>\n      <td>-0.447721</td>\n      <td>-0.495605</td>\n      <td>0.349624</td>\n      <td>0.122237</td>\n      <td>0.090973</td>\n      <td>-0.988815</td>\n      <td>2.018710</td>\n      <td>2.047043</td>\n      <td>0.283701</td>\n      <td>0.080486</td>\n      <td>...</td>\n      <td>1.0</td>\n      <td>1.0</td>\n      <td>0.0</td>\n      <td>0.0</td>\n      <td>1.0</td>\n      <td>1.0</td>\n      <td></td>\n      <td>Chiara</td>\n      <td>LEFT</td>\n      <td>REALME 7</td>\n    </tr>\n    <tr>\n      <th>4</th>\n      <td>0.395437</td>\n      <td>0.402222</td>\n      <td>0.179063</td>\n      <td>0.032064</td>\n      <td>0.622482</td>\n      <td>0.074219</td>\n      <td>1.259748</td>\n      <td>1.280899</td>\n      <td>0.191081</td>\n      <td>0.036512</td>\n      <td>...</td>\n      <td>1.0</td>\n      <td>1.0</td>\n      <td>0.0</td>\n      <td>0.0</td>\n      <td>1.0</td>\n      <td>1.0</td>\n      <td>r</td>\n      <td>Chiara</td>\n      <td>LEFT</td>\n      <td>REALME 7</td>\n    </tr>\n    <tr>\n      <th>...</th>\n      <td>...</td>\n      <td>...</td>\n      <td>...</td>\n      <td>...</td>\n      <td>...</td>\n      <td>...</td>\n      <td>...</td>\n      <td>...</td>\n      <td>...</td>\n      <td>...</td>\n      <td>...</td>\n      <td>...</td>\n      <td>...</td>\n      <td>...</td>\n      <td>...</td>\n      <td>...</td>\n      <td>...</td>\n      <td>...</td>\n      <td>...</td>\n      <td>...</td>\n      <td>...</td>\n    </tr>\n    <tr>\n      <th>16757</th>\n      <td>0.292690</td>\n      <td>0.304062</td>\n      <td>0.022743</td>\n      <td>0.000517</td>\n      <td>0.304062</td>\n      <td>0.258575</td>\n      <td>0.882263</td>\n      <td>0.871490</td>\n      <td>0.021545</td>\n      <td>0.000464</td>\n      <td>...</td>\n      <td>1.0</td>\n      <td>1.0</td>\n      <td>0.0</td>\n      <td>0.0</td>\n      <td>1.0</td>\n      <td>1.0</td>\n      <td></td>\n      <td>Chiara</td>\n      <td>LEFT</td>\n      <td>REALME 7</td>\n    </tr>\n    <tr>\n      <th>16758</th>\n      <td>-0.699108</td>\n      <td>-0.713470</td>\n      <td>0.028725</td>\n      <td>0.000825</td>\n      <td>-0.656021</td>\n      <td>-0.713470</td>\n      <td>1.756138</td>\n      <td>1.903381</td>\n      <td>0.294487</td>\n      <td>0.086723</td>\n      <td>...</td>\n      <td>1.0</td>\n      <td>1.0</td>\n      <td>0.0</td>\n      <td>0.0</td>\n      <td>1.0</td>\n      <td>1.0</td>\n      <td>z</td>\n      <td>Chiara</td>\n      <td>LEFT</td>\n      <td>REALME 7</td>\n    </tr>\n    <tr>\n      <th>16759</th>\n      <td>-1.127679</td>\n      <td>-1.065430</td>\n      <td>0.085239</td>\n      <td>0.007266</td>\n      <td>-1.065430</td>\n      <td>-1.221054</td>\n      <td>1.631400</td>\n      <td>1.620865</td>\n      <td>0.014425</td>\n      <td>0.000208</td>\n      <td>...</td>\n      <td>1.0</td>\n      <td>1.0</td>\n      <td>0.0</td>\n      <td>0.0</td>\n      <td>1.0</td>\n      <td>1.0</td>\n      <td>a</td>\n      <td>Chiara</td>\n      <td>LEFT</td>\n      <td>REALME 7</td>\n    </tr>\n    <tr>\n      <th>16760</th>\n      <td>0.440536</td>\n      <td>0.440536</td>\n      <td>0.000000</td>\n      <td>0.000000</td>\n      <td>0.440536</td>\n      <td>0.440536</td>\n      <td>1.857895</td>\n      <td>1.857895</td>\n      <td>0.000000</td>\n      <td>0.000000</td>\n      <td>...</td>\n      <td>1.0</td>\n      <td>1.0</td>\n      <td>0.0</td>\n      <td>0.0</td>\n      <td>1.0</td>\n      <td>1.0</td>\n      <td>c</td>\n      <td>Chiara</td>\n      <td>LEFT</td>\n      <td>REALME 7</td>\n    </tr>\n    <tr>\n      <th>16761</th>\n      <td>2.084554</td>\n      <td>2.202667</td>\n      <td>0.204578</td>\n      <td>0.041852</td>\n      <td>2.202667</td>\n      <td>1.848328</td>\n      <td>3.555389</td>\n      <td>3.971985</td>\n      <td>0.721565</td>\n      <td>0.520655</td>\n      <td>...</td>\n      <td>1.0</td>\n      <td>1.0</td>\n      <td>0.0</td>\n      <td>0.0</td>\n      <td>1.0</td>\n      <td>1.0</td>\n      <td>k</td>\n      <td>Chiara</td>\n      <td>LEFT</td>\n      <td>REALME 7</td>\n    </tr>\n  </tbody>\n</table>\n<p>16762 rows × 280 columns</p>\n</div>"
     },
     "execution_count": 2,
     "metadata": {},
     "output_type": "execute_result"
    }
   ],
   "source": [
    "# import csv\n",
    "df = pd.read_csv(\"C:\\\\Users\\\\giuli\\\\Desktop\\\\ds Left\\\\merged\\\\mergedFileLeft.csv\")\n",
    "df\n",
    "# print(df.describe())"
   ],
   "metadata": {
    "collapsed": false,
    "pycharm": {
     "name": "#%%\n"
    }
   }
  },
  {
   "cell_type": "code",
   "execution_count": 3,
   "outputs": [],
   "source": [
    "# Normalization between -1 and 1\n",
    "df_norm = df.copy()\n",
    "\n",
    "notnorm = ['View','User', 'Hand', 'Smartphone']\n",
    "min_max_scaler = preprocessing.MinMaxScaler(feature_range=(-1,1))\n",
    "\n",
    "for col in list(df_norm.columns):\n",
    "    if col in notnorm:\n",
    "        continue\n",
    "    x = df_norm[[col]].values.astype(float) # cast to float\n",
    "    x_scaled = min_max_scaler.fit_transform(x) # fit data and transform it\n",
    "    df_norm[[col]] = x_scaled"
   ],
   "metadata": {
    "collapsed": false,
    "pycharm": {
     "name": "#%%\n"
    }
   }
  },
  {
   "cell_type": "code",
   "execution_count": 4,
   "outputs": [
    {
     "data": {
      "text/plain": "         AxMean     AxMed     AxStd     AxVar     AxMax     AxMin    AyMean  \\\n0     -0.132653 -0.147185 -0.603221 -0.921283  0.032926 -0.109151  0.273847   \n1     -0.021683 -0.003086 -0.550748 -0.899086  0.045203 -0.114663  0.140869   \n2     -0.085178 -0.086068 -0.557407 -0.902056  0.027346 -0.081589  0.209052   \n3     -0.276150 -0.278387 -0.611171 -0.924406 -0.190848 -0.311467  0.018891   \n4     -0.069426 -0.068126 -0.800858 -0.980171 -0.066965 -0.066703 -0.186420   \n...         ...       ...       ...       ...       ...       ...       ...   \n16757 -0.094617 -0.091114 -0.974706 -0.999680 -0.141182 -0.024254 -0.288535   \n16758 -0.337784 -0.329409 -0.968054 -0.999490 -0.364956 -0.248069 -0.052138   \n16759 -0.442860 -0.411833 -0.905203 -0.995507 -0.460381 -0.364941 -0.085882   \n16760 -0.058369 -0.059153 -1.000000 -1.000000 -0.109373  0.017642 -0.024612   \n16761  0.344708  0.353518 -0.772482 -0.974118  0.301341  0.341788  0.434587   \n\n          AyMed     AyStd     AyVar  ...  PreMean  PreMed  PreStd  PreVar  \\\n0      0.271777 -0.630290 -0.931657  ...     -1.0    -1.0    -1.0    -1.0   \n1      0.087105 -0.473945 -0.861633  ...     -1.0    -1.0    -1.0    -1.0   \n2      0.189288 -0.663520 -0.943391  ...     -1.0    -1.0    -1.0    -1.0   \n3      0.021238 -0.675163 -0.947240  ...     -1.0    -1.0    -1.0    -1.0   \n4     -0.175745 -0.781213 -0.976066  ...     -1.0    -1.0    -1.0    -1.0   \n...         ...       ...       ...  ...      ...     ...     ...     ...   \n16757 -0.281008 -0.975331 -0.999696  ...     -1.0    -1.0    -1.0    -1.0   \n16758 -0.015699 -0.662813 -0.943152  ...     -1.0    -1.0    -1.0    -1.0   \n16759 -0.088337 -0.983483 -0.999864  ...     -1.0    -1.0    -1.0    -1.0   \n16760 -0.027394 -1.000000 -1.000000  ...     -1.0    -1.0    -1.0    -1.0   \n16761  0.516161 -0.173809 -0.658705  ...     -1.0    -1.0    -1.0    -1.0   \n\n       PreMax  PreMin  View    User  Hand  Smartphone  \n0        -1.0    -1.0     t  Chiara  LEFT    REALME 7  \n1        -1.0    -1.0     h  Chiara  LEFT    REALME 7  \n2        -1.0    -1.0     e  Chiara  LEFT    REALME 7  \n3        -1.0    -1.0        Chiara  LEFT    REALME 7  \n4        -1.0    -1.0     r  Chiara  LEFT    REALME 7  \n...       ...     ...   ...     ...   ...         ...  \n16757    -1.0    -1.0        Chiara  LEFT    REALME 7  \n16758    -1.0    -1.0     z  Chiara  LEFT    REALME 7  \n16759    -1.0    -1.0     a  Chiara  LEFT    REALME 7  \n16760    -1.0    -1.0     c  Chiara  LEFT    REALME 7  \n16761    -1.0    -1.0     k  Chiara  LEFT    REALME 7  \n\n[16762 rows x 280 columns]",
      "text/html": "<div>\n<style scoped>\n    .dataframe tbody tr th:only-of-type {\n        vertical-align: middle;\n    }\n\n    .dataframe tbody tr th {\n        vertical-align: top;\n    }\n\n    .dataframe thead th {\n        text-align: right;\n    }\n</style>\n<table border=\"1\" class=\"dataframe\">\n  <thead>\n    <tr style=\"text-align: right;\">\n      <th></th>\n      <th>AxMean</th>\n      <th>AxMed</th>\n      <th>AxStd</th>\n      <th>AxVar</th>\n      <th>AxMax</th>\n      <th>AxMin</th>\n      <th>AyMean</th>\n      <th>AyMed</th>\n      <th>AyStd</th>\n      <th>AyVar</th>\n      <th>...</th>\n      <th>PreMean</th>\n      <th>PreMed</th>\n      <th>PreStd</th>\n      <th>PreVar</th>\n      <th>PreMax</th>\n      <th>PreMin</th>\n      <th>View</th>\n      <th>User</th>\n      <th>Hand</th>\n      <th>Smartphone</th>\n    </tr>\n  </thead>\n  <tbody>\n    <tr>\n      <th>0</th>\n      <td>-0.132653</td>\n      <td>-0.147185</td>\n      <td>-0.603221</td>\n      <td>-0.921283</td>\n      <td>0.032926</td>\n      <td>-0.109151</td>\n      <td>0.273847</td>\n      <td>0.271777</td>\n      <td>-0.630290</td>\n      <td>-0.931657</td>\n      <td>...</td>\n      <td>-1.0</td>\n      <td>-1.0</td>\n      <td>-1.0</td>\n      <td>-1.0</td>\n      <td>-1.0</td>\n      <td>-1.0</td>\n      <td>t</td>\n      <td>Chiara</td>\n      <td>LEFT</td>\n      <td>REALME 7</td>\n    </tr>\n    <tr>\n      <th>1</th>\n      <td>-0.021683</td>\n      <td>-0.003086</td>\n      <td>-0.550748</td>\n      <td>-0.899086</td>\n      <td>0.045203</td>\n      <td>-0.114663</td>\n      <td>0.140869</td>\n      <td>0.087105</td>\n      <td>-0.473945</td>\n      <td>-0.861633</td>\n      <td>...</td>\n      <td>-1.0</td>\n      <td>-1.0</td>\n      <td>-1.0</td>\n      <td>-1.0</td>\n      <td>-1.0</td>\n      <td>-1.0</td>\n      <td>h</td>\n      <td>Chiara</td>\n      <td>LEFT</td>\n      <td>REALME 7</td>\n    </tr>\n    <tr>\n      <th>2</th>\n      <td>-0.085178</td>\n      <td>-0.086068</td>\n      <td>-0.557407</td>\n      <td>-0.902056</td>\n      <td>0.027346</td>\n      <td>-0.081589</td>\n      <td>0.209052</td>\n      <td>0.189288</td>\n      <td>-0.663520</td>\n      <td>-0.943391</td>\n      <td>...</td>\n      <td>-1.0</td>\n      <td>-1.0</td>\n      <td>-1.0</td>\n      <td>-1.0</td>\n      <td>-1.0</td>\n      <td>-1.0</td>\n      <td>e</td>\n      <td>Chiara</td>\n      <td>LEFT</td>\n      <td>REALME 7</td>\n    </tr>\n    <tr>\n      <th>3</th>\n      <td>-0.276150</td>\n      <td>-0.278387</td>\n      <td>-0.611171</td>\n      <td>-0.924406</td>\n      <td>-0.190848</td>\n      <td>-0.311467</td>\n      <td>0.018891</td>\n      <td>0.021238</td>\n      <td>-0.675163</td>\n      <td>-0.947240</td>\n      <td>...</td>\n      <td>-1.0</td>\n      <td>-1.0</td>\n      <td>-1.0</td>\n      <td>-1.0</td>\n      <td>-1.0</td>\n      <td>-1.0</td>\n      <td></td>\n      <td>Chiara</td>\n      <td>LEFT</td>\n      <td>REALME 7</td>\n    </tr>\n    <tr>\n      <th>4</th>\n      <td>-0.069426</td>\n      <td>-0.068126</td>\n      <td>-0.800858</td>\n      <td>-0.980171</td>\n      <td>-0.066965</td>\n      <td>-0.066703</td>\n      <td>-0.186420</td>\n      <td>-0.175745</td>\n      <td>-0.781213</td>\n      <td>-0.976066</td>\n      <td>...</td>\n      <td>-1.0</td>\n      <td>-1.0</td>\n      <td>-1.0</td>\n      <td>-1.0</td>\n      <td>-1.0</td>\n      <td>-1.0</td>\n      <td>r</td>\n      <td>Chiara</td>\n      <td>LEFT</td>\n      <td>REALME 7</td>\n    </tr>\n    <tr>\n      <th>...</th>\n      <td>...</td>\n      <td>...</td>\n      <td>...</td>\n      <td>...</td>\n      <td>...</td>\n      <td>...</td>\n      <td>...</td>\n      <td>...</td>\n      <td>...</td>\n      <td>...</td>\n      <td>...</td>\n      <td>...</td>\n      <td>...</td>\n      <td>...</td>\n      <td>...</td>\n      <td>...</td>\n      <td>...</td>\n      <td>...</td>\n      <td>...</td>\n      <td>...</td>\n      <td>...</td>\n    </tr>\n    <tr>\n      <th>16757</th>\n      <td>-0.094617</td>\n      <td>-0.091114</td>\n      <td>-0.974706</td>\n      <td>-0.999680</td>\n      <td>-0.141182</td>\n      <td>-0.024254</td>\n      <td>-0.288535</td>\n      <td>-0.281008</td>\n      <td>-0.975331</td>\n      <td>-0.999696</td>\n      <td>...</td>\n      <td>-1.0</td>\n      <td>-1.0</td>\n      <td>-1.0</td>\n      <td>-1.0</td>\n      <td>-1.0</td>\n      <td>-1.0</td>\n      <td></td>\n      <td>Chiara</td>\n      <td>LEFT</td>\n      <td>REALME 7</td>\n    </tr>\n    <tr>\n      <th>16758</th>\n      <td>-0.337784</td>\n      <td>-0.329409</td>\n      <td>-0.968054</td>\n      <td>-0.999490</td>\n      <td>-0.364956</td>\n      <td>-0.248069</td>\n      <td>-0.052138</td>\n      <td>-0.015699</td>\n      <td>-0.662813</td>\n      <td>-0.943152</td>\n      <td>...</td>\n      <td>-1.0</td>\n      <td>-1.0</td>\n      <td>-1.0</td>\n      <td>-1.0</td>\n      <td>-1.0</td>\n      <td>-1.0</td>\n      <td>z</td>\n      <td>Chiara</td>\n      <td>LEFT</td>\n      <td>REALME 7</td>\n    </tr>\n    <tr>\n      <th>16759</th>\n      <td>-0.442860</td>\n      <td>-0.411833</td>\n      <td>-0.905203</td>\n      <td>-0.995507</td>\n      <td>-0.460381</td>\n      <td>-0.364941</td>\n      <td>-0.085882</td>\n      <td>-0.088337</td>\n      <td>-0.983483</td>\n      <td>-0.999864</td>\n      <td>...</td>\n      <td>-1.0</td>\n      <td>-1.0</td>\n      <td>-1.0</td>\n      <td>-1.0</td>\n      <td>-1.0</td>\n      <td>-1.0</td>\n      <td>a</td>\n      <td>Chiara</td>\n      <td>LEFT</td>\n      <td>REALME 7</td>\n    </tr>\n    <tr>\n      <th>16760</th>\n      <td>-0.058369</td>\n      <td>-0.059153</td>\n      <td>-1.000000</td>\n      <td>-1.000000</td>\n      <td>-0.109373</td>\n      <td>0.017642</td>\n      <td>-0.024612</td>\n      <td>-0.027394</td>\n      <td>-1.000000</td>\n      <td>-1.000000</td>\n      <td>...</td>\n      <td>-1.0</td>\n      <td>-1.0</td>\n      <td>-1.0</td>\n      <td>-1.0</td>\n      <td>-1.0</td>\n      <td>-1.0</td>\n      <td>c</td>\n      <td>Chiara</td>\n      <td>LEFT</td>\n      <td>REALME 7</td>\n    </tr>\n    <tr>\n      <th>16761</th>\n      <td>0.344708</td>\n      <td>0.353518</td>\n      <td>-0.772482</td>\n      <td>-0.974118</td>\n      <td>0.301341</td>\n      <td>0.341788</td>\n      <td>0.434587</td>\n      <td>0.516161</td>\n      <td>-0.173809</td>\n      <td>-0.658705</td>\n      <td>...</td>\n      <td>-1.0</td>\n      <td>-1.0</td>\n      <td>-1.0</td>\n      <td>-1.0</td>\n      <td>-1.0</td>\n      <td>-1.0</td>\n      <td>k</td>\n      <td>Chiara</td>\n      <td>LEFT</td>\n      <td>REALME 7</td>\n    </tr>\n  </tbody>\n</table>\n<p>16762 rows × 280 columns</p>\n</div>"
     },
     "execution_count": 4,
     "metadata": {},
     "output_type": "execute_result"
    }
   ],
   "source": [
    "df_norm.describe()\n",
    "df = df_norm\n",
    "df"
   ],
   "metadata": {
    "collapsed": false,
    "pycharm": {
     "name": "#%%\n"
    }
   }
  },
  {
   "cell_type": "code",
   "execution_count": 5,
   "outputs": [
    {
     "data": {
      "text/plain": "         AxMean     AxMed     AxStd     AxVar     AxMax     AxMin    AyMean  \\\n0     -0.132653 -0.147185 -0.603221 -0.921283  0.032926 -0.109151  0.273847   \n1     -0.021683 -0.003086 -0.550748 -0.899086  0.045203 -0.114663  0.140869   \n2     -0.085178 -0.086068 -0.557407 -0.902056  0.027346 -0.081589  0.209052   \n3     -0.276150 -0.278387 -0.611171 -0.924406 -0.190848 -0.311467  0.018891   \n4     -0.069426 -0.068126 -0.800858 -0.980171 -0.066965 -0.066703 -0.186420   \n...         ...       ...       ...       ...       ...       ...       ...   \n16757 -0.094617 -0.091114 -0.974706 -0.999680 -0.141182 -0.024254 -0.288535   \n16758 -0.337784 -0.329409 -0.968054 -0.999490 -0.364956 -0.248069 -0.052138   \n16759 -0.442860 -0.411833 -0.905203 -0.995507 -0.460381 -0.364941 -0.085882   \n16760 -0.058369 -0.059153 -1.000000 -1.000000 -0.109373  0.017642 -0.024612   \n16761  0.344708  0.353518 -0.772482 -0.974118  0.301341  0.341788  0.434587   \n\n          AyMed     AyStd     AyVar  ...  PreVar  PreMax  PreMin  View  \\\n0      0.271777 -0.630290 -0.931657  ...    -1.0    -1.0    -1.0     t   \n1      0.087105 -0.473945 -0.861633  ...    -1.0    -1.0    -1.0     h   \n2      0.189288 -0.663520 -0.943391  ...    -1.0    -1.0    -1.0     e   \n3      0.021238 -0.675163 -0.947240  ...    -1.0    -1.0    -1.0         \n4     -0.175745 -0.781213 -0.976066  ...    -1.0    -1.0    -1.0     r   \n...         ...       ...       ...  ...     ...     ...     ...   ...   \n16757 -0.281008 -0.975331 -0.999696  ...    -1.0    -1.0    -1.0         \n16758 -0.015699 -0.662813 -0.943152  ...    -1.0    -1.0    -1.0     z   \n16759 -0.088337 -0.983483 -0.999864  ...    -1.0    -1.0    -1.0     a   \n16760 -0.027394 -1.000000 -1.000000  ...    -1.0    -1.0    -1.0     c   \n16761  0.516161 -0.173809 -0.658705  ...    -1.0    -1.0    -1.0     k   \n\n         User  Hand  Smartphone    x  y      dist  \n0      Chiara  LEFT    REALME 7  5.0  0  3.640055  \n1      Chiara  LEFT    REALME 7  6.5  1  5.000000  \n2      Chiara  LEFT    REALME 7  3.0  0  1.802776  \n3      Chiara  LEFT    REALME 7  5.0  3  4.031129  \n4      Chiara  LEFT    REALME 7  4.0  0  2.692582  \n...       ...   ...         ...  ... ..       ...  \n16757  Chiara  LEFT    REALME 7  5.0  3  4.031129  \n16758  Chiara  LEFT    REALME 7  2.0  2  1.118034  \n16759  Chiara  LEFT    REALME 7  1.5  1  0.000000  \n16760  Chiara  LEFT    REALME 7  4.0  2  2.692582  \n16761  Chiara  LEFT    REALME 7  8.5  1  7.000000  \n\n[16762 rows x 283 columns]",
      "text/html": "<div>\n<style scoped>\n    .dataframe tbody tr th:only-of-type {\n        vertical-align: middle;\n    }\n\n    .dataframe tbody tr th {\n        vertical-align: top;\n    }\n\n    .dataframe thead th {\n        text-align: right;\n    }\n</style>\n<table border=\"1\" class=\"dataframe\">\n  <thead>\n    <tr style=\"text-align: right;\">\n      <th></th>\n      <th>AxMean</th>\n      <th>AxMed</th>\n      <th>AxStd</th>\n      <th>AxVar</th>\n      <th>AxMax</th>\n      <th>AxMin</th>\n      <th>AyMean</th>\n      <th>AyMed</th>\n      <th>AyStd</th>\n      <th>AyVar</th>\n      <th>...</th>\n      <th>PreVar</th>\n      <th>PreMax</th>\n      <th>PreMin</th>\n      <th>View</th>\n      <th>User</th>\n      <th>Hand</th>\n      <th>Smartphone</th>\n      <th>x</th>\n      <th>y</th>\n      <th>dist</th>\n    </tr>\n  </thead>\n  <tbody>\n    <tr>\n      <th>0</th>\n      <td>-0.132653</td>\n      <td>-0.147185</td>\n      <td>-0.603221</td>\n      <td>-0.921283</td>\n      <td>0.032926</td>\n      <td>-0.109151</td>\n      <td>0.273847</td>\n      <td>0.271777</td>\n      <td>-0.630290</td>\n      <td>-0.931657</td>\n      <td>...</td>\n      <td>-1.0</td>\n      <td>-1.0</td>\n      <td>-1.0</td>\n      <td>t</td>\n      <td>Chiara</td>\n      <td>LEFT</td>\n      <td>REALME 7</td>\n      <td>5.0</td>\n      <td>0</td>\n      <td>3.640055</td>\n    </tr>\n    <tr>\n      <th>1</th>\n      <td>-0.021683</td>\n      <td>-0.003086</td>\n      <td>-0.550748</td>\n      <td>-0.899086</td>\n      <td>0.045203</td>\n      <td>-0.114663</td>\n      <td>0.140869</td>\n      <td>0.087105</td>\n      <td>-0.473945</td>\n      <td>-0.861633</td>\n      <td>...</td>\n      <td>-1.0</td>\n      <td>-1.0</td>\n      <td>-1.0</td>\n      <td>h</td>\n      <td>Chiara</td>\n      <td>LEFT</td>\n      <td>REALME 7</td>\n      <td>6.5</td>\n      <td>1</td>\n      <td>5.000000</td>\n    </tr>\n    <tr>\n      <th>2</th>\n      <td>-0.085178</td>\n      <td>-0.086068</td>\n      <td>-0.557407</td>\n      <td>-0.902056</td>\n      <td>0.027346</td>\n      <td>-0.081589</td>\n      <td>0.209052</td>\n      <td>0.189288</td>\n      <td>-0.663520</td>\n      <td>-0.943391</td>\n      <td>...</td>\n      <td>-1.0</td>\n      <td>-1.0</td>\n      <td>-1.0</td>\n      <td>e</td>\n      <td>Chiara</td>\n      <td>LEFT</td>\n      <td>REALME 7</td>\n      <td>3.0</td>\n      <td>0</td>\n      <td>1.802776</td>\n    </tr>\n    <tr>\n      <th>3</th>\n      <td>-0.276150</td>\n      <td>-0.278387</td>\n      <td>-0.611171</td>\n      <td>-0.924406</td>\n      <td>-0.190848</td>\n      <td>-0.311467</td>\n      <td>0.018891</td>\n      <td>0.021238</td>\n      <td>-0.675163</td>\n      <td>-0.947240</td>\n      <td>...</td>\n      <td>-1.0</td>\n      <td>-1.0</td>\n      <td>-1.0</td>\n      <td></td>\n      <td>Chiara</td>\n      <td>LEFT</td>\n      <td>REALME 7</td>\n      <td>5.0</td>\n      <td>3</td>\n      <td>4.031129</td>\n    </tr>\n    <tr>\n      <th>4</th>\n      <td>-0.069426</td>\n      <td>-0.068126</td>\n      <td>-0.800858</td>\n      <td>-0.980171</td>\n      <td>-0.066965</td>\n      <td>-0.066703</td>\n      <td>-0.186420</td>\n      <td>-0.175745</td>\n      <td>-0.781213</td>\n      <td>-0.976066</td>\n      <td>...</td>\n      <td>-1.0</td>\n      <td>-1.0</td>\n      <td>-1.0</td>\n      <td>r</td>\n      <td>Chiara</td>\n      <td>LEFT</td>\n      <td>REALME 7</td>\n      <td>4.0</td>\n      <td>0</td>\n      <td>2.692582</td>\n    </tr>\n    <tr>\n      <th>...</th>\n      <td>...</td>\n      <td>...</td>\n      <td>...</td>\n      <td>...</td>\n      <td>...</td>\n      <td>...</td>\n      <td>...</td>\n      <td>...</td>\n      <td>...</td>\n      <td>...</td>\n      <td>...</td>\n      <td>...</td>\n      <td>...</td>\n      <td>...</td>\n      <td>...</td>\n      <td>...</td>\n      <td>...</td>\n      <td>...</td>\n      <td>...</td>\n      <td>...</td>\n      <td>...</td>\n    </tr>\n    <tr>\n      <th>16757</th>\n      <td>-0.094617</td>\n      <td>-0.091114</td>\n      <td>-0.974706</td>\n      <td>-0.999680</td>\n      <td>-0.141182</td>\n      <td>-0.024254</td>\n      <td>-0.288535</td>\n      <td>-0.281008</td>\n      <td>-0.975331</td>\n      <td>-0.999696</td>\n      <td>...</td>\n      <td>-1.0</td>\n      <td>-1.0</td>\n      <td>-1.0</td>\n      <td></td>\n      <td>Chiara</td>\n      <td>LEFT</td>\n      <td>REALME 7</td>\n      <td>5.0</td>\n      <td>3</td>\n      <td>4.031129</td>\n    </tr>\n    <tr>\n      <th>16758</th>\n      <td>-0.337784</td>\n      <td>-0.329409</td>\n      <td>-0.968054</td>\n      <td>-0.999490</td>\n      <td>-0.364956</td>\n      <td>-0.248069</td>\n      <td>-0.052138</td>\n      <td>-0.015699</td>\n      <td>-0.662813</td>\n      <td>-0.943152</td>\n      <td>...</td>\n      <td>-1.0</td>\n      <td>-1.0</td>\n      <td>-1.0</td>\n      <td>z</td>\n      <td>Chiara</td>\n      <td>LEFT</td>\n      <td>REALME 7</td>\n      <td>2.0</td>\n      <td>2</td>\n      <td>1.118034</td>\n    </tr>\n    <tr>\n      <th>16759</th>\n      <td>-0.442860</td>\n      <td>-0.411833</td>\n      <td>-0.905203</td>\n      <td>-0.995507</td>\n      <td>-0.460381</td>\n      <td>-0.364941</td>\n      <td>-0.085882</td>\n      <td>-0.088337</td>\n      <td>-0.983483</td>\n      <td>-0.999864</td>\n      <td>...</td>\n      <td>-1.0</td>\n      <td>-1.0</td>\n      <td>-1.0</td>\n      <td>a</td>\n      <td>Chiara</td>\n      <td>LEFT</td>\n      <td>REALME 7</td>\n      <td>1.5</td>\n      <td>1</td>\n      <td>0.000000</td>\n    </tr>\n    <tr>\n      <th>16760</th>\n      <td>-0.058369</td>\n      <td>-0.059153</td>\n      <td>-1.000000</td>\n      <td>-1.000000</td>\n      <td>-0.109373</td>\n      <td>0.017642</td>\n      <td>-0.024612</td>\n      <td>-0.027394</td>\n      <td>-1.000000</td>\n      <td>-1.000000</td>\n      <td>...</td>\n      <td>-1.0</td>\n      <td>-1.0</td>\n      <td>-1.0</td>\n      <td>c</td>\n      <td>Chiara</td>\n      <td>LEFT</td>\n      <td>REALME 7</td>\n      <td>4.0</td>\n      <td>2</td>\n      <td>2.692582</td>\n    </tr>\n    <tr>\n      <th>16761</th>\n      <td>0.344708</td>\n      <td>0.353518</td>\n      <td>-0.772482</td>\n      <td>-0.974118</td>\n      <td>0.301341</td>\n      <td>0.341788</td>\n      <td>0.434587</td>\n      <td>0.516161</td>\n      <td>-0.173809</td>\n      <td>-0.658705</td>\n      <td>...</td>\n      <td>-1.0</td>\n      <td>-1.0</td>\n      <td>-1.0</td>\n      <td>k</td>\n      <td>Chiara</td>\n      <td>LEFT</td>\n      <td>REALME 7</td>\n      <td>8.5</td>\n      <td>1</td>\n      <td>7.000000</td>\n    </tr>\n  </tbody>\n</table>\n<p>16762 rows × 283 columns</p>\n</div>"
     },
     "execution_count": 5,
     "metadata": {},
     "output_type": "execute_result"
    }
   ],
   "source": [
    "# add letters\n",
    "letters = [\"a\",\"b\",\"c\",\"d\",\"e\",\"f\",\"g\",\"h\",\"i\",\"j\",\"k\",\"l\",\"m\",\"n\",\"o\",\"p\",\"q\",\"r\",\"s\",\"t\",\"u\",\"v\",\"w\",\"x\",\"y\",\"z\",\" \"]\n",
    "# add distances from left margin (xAxis) and top margin (yAxis) (start from 1)\n",
    "yAxis = [ 1,  2,  2,  1,  0,  1,  1,  1,  0,  1,  1,  1,  2,  2,  0,  0,  0,  0,  1,  0,  0,  2,  0,  2,  0,  2, 3]\n",
    "xAxis =[ 1.5,  6,  4,  3.5,  3,  4.5,  5.5, 6.5,  8,  7.5, 8.5,  9.5,  8,  7,  9,  10,  1,  4,  2.5,  5,  7,  5,  2,  3,  6,  2, 5]\n",
    "\n",
    "# pair of distances for letters\n",
    "dict_letters = {}\n",
    "for i, let in enumerate(letters):\n",
    "    dict_letters[let] = (xAxis[i], yAxis[i])\n",
    "\n",
    "center = \"a\"\n",
    "dict_dist = {}\n",
    "for let in letters:\n",
    "    dict_dist[let] = math.sqrt((dict_letters[center][0] - dict_letters[let][0])**2 + (dict_letters[center][1] - dict_letters[let][1])**2)\n",
    "\n",
    "# write in df distances and dist from center\n",
    "df.loc[:,'x'] = df.apply(lambda x: dict_letters[x['View']][0], axis=1)\n",
    "df.loc[:,'y'] = df.apply(lambda x: dict_letters[x['View']][1], axis=1)\n",
    "df.loc[:,'dist'] = df.apply(lambda x: dict_dist[x['View']], axis=1)\n",
    "df"
   ],
   "metadata": {
    "collapsed": false,
    "pycharm": {
     "name": "#%%\n"
    }
   }
  },
  {
   "cell_type": "code",
   "execution_count": 6,
   "outputs": [
    {
     "data": {
      "text/plain": "   View      dist     x  y    AxMean     AxMed     AxStd     AxVar     AxMax  \\\n0        4.031129   5.0  3 -0.159617 -0.154432 -0.821499 -0.968070 -0.166154   \n1     a  0.000000   1.5  1 -0.442607 -0.414158 -0.674681 -0.909059 -0.411576   \n2     b  4.609772   6.0  2  0.033203  0.023504 -0.788821 -0.954436  0.030797   \n3     c  2.692582   4.0  2 -0.110353 -0.109572 -0.829623 -0.968095 -0.119691   \n4     d  2.000000   3.5  1 -0.171691 -0.166162 -0.843684 -0.974481 -0.181909   \n5     e  1.802776   3.0  0 -0.219282 -0.213487 -0.830212 -0.972243 -0.222810   \n6     f  3.000000   4.5  1 -0.110754 -0.111648 -0.824161 -0.969190 -0.118787   \n7     g  4.000000   5.5  1 -0.017499 -0.022905 -0.832367 -0.971224 -0.030099   \n8     h  5.000000   6.5  1  0.102653  0.091987 -0.794797 -0.960715  0.092600   \n9     i  6.576473   8.0  0  0.289857  0.268957 -0.735985 -0.930639  0.286954   \n10    j  6.000000   7.5  1  0.203782  0.183908 -0.744169 -0.937484  0.204834   \n11    k  7.000000   8.5  1  0.290610  0.274432 -0.714272 -0.921840  0.291558   \n12    l  8.000000   9.5  1  0.362521  0.333457 -0.607098 -0.864886  0.392674   \n13    m  6.576473   8.0  2  0.208654  0.184352 -0.710656 -0.917444  0.220686   \n14    n  5.590170   7.0  2  0.068592  0.053889 -0.773316 -0.948108  0.071762   \n15    o  7.566373   9.0  0  0.371027  0.345269 -0.653884 -0.892367  0.387984   \n16    p  8.558621  10.0  0  0.514173  0.485435 -0.541115 -0.809638  0.547359   \n17    q  1.118034   1.0  0 -0.491990 -0.460261 -0.645030 -0.902022 -0.451546   \n18    r  2.692582   4.0  0 -0.095784 -0.095631 -0.827752 -0.972050 -0.104678   \n19    s  1.000000   2.5  1 -0.253098 -0.239868 -0.801915 -0.961876 -0.254747   \n20    t  3.640055   5.0  0 -0.017209 -0.025598 -0.784171 -0.955580 -0.016020   \n21    u  5.590170   7.0  0  0.189590  0.171600 -0.762683 -0.944200  0.187224   \n22    v  3.640055   5.0  2 -0.026683 -0.029301 -0.804434 -0.964422 -0.034225   \n23    w  1.118034   2.0  0 -0.290480 -0.277180 -0.811823 -0.964282 -0.290284   \n24    x  1.802776   3.0  2 -0.161558 -0.153478 -0.790553 -0.957638 -0.158937   \n25    y  4.609772   6.0  0  0.108119  0.095498 -0.829017 -0.967917  0.091622   \n26    z  1.118034   2.0  2 -0.318231 -0.302339 -0.740874 -0.939725 -0.302288   \n\n       AxMin  ...  GrPitchStd  GrPitchVar  GrPitchMax  GrPitchMin  PreMean  \\\n0  -0.121125  ...   -0.800410   -0.964268    0.145335    0.183078     -1.0   \n1  -0.427211  ...   -0.625560   -0.894337    0.422748    0.442984     -1.0   \n2   0.058167  ...   -0.754772   -0.945768   -0.026646   -0.001717     -1.0   \n3  -0.071302  ...   -0.734215   -0.938614    0.108551    0.135588     -1.0   \n4  -0.127884  ...   -0.738169   -0.943789    0.158329    0.187836     -1.0   \n5  -0.173440  ...   -0.747517   -0.947119    0.197392    0.228557     -1.0   \n6  -0.072111  ...   -0.755293   -0.951283    0.088726    0.117399     -1.0   \n7   0.015641  ...   -0.781298   -0.958011    0.022183    0.052845     -1.0   \n8   0.121151  ...   -0.762427   -0.950764   -0.083734   -0.060005     -1.0   \n9   0.288349  ...   -0.725372   -0.934015   -0.264608   -0.252564     -1.0   \n10  0.210062  ...   -0.750580   -0.942825   -0.176624   -0.156995     -1.0   \n11  0.282225  ...   -0.718983   -0.931762   -0.249039   -0.237900     -1.0   \n12  0.333926  ...   -0.716321   -0.932508   -0.342132   -0.334865     -1.0   \n13  0.208433  ...   -0.757747   -0.946598   -0.205375   -0.186145     -1.0   \n14  0.090965  ...   -0.797187   -0.962993   -0.068985   -0.039082     -1.0   \n15  0.349645  ...   -0.710925   -0.931444   -0.341413   -0.335645     -1.0   \n16  0.456878  ...   -0.633513   -0.889970   -0.451970   -0.462430     -1.0   \n17 -0.483028  ...   -0.593257   -0.880001    0.473229    0.488232     -1.0   \n18 -0.057278  ...   -0.758218   -0.949282    0.084262    0.113292     -1.0   \n19 -0.216863  ...   -0.686286   -0.922792    0.247783    0.272937     -1.0   \n20  0.009953  ...   -0.752453   -0.946405    0.008669    0.033927     -1.0   \n21  0.202541  ...   -0.728503   -0.938528   -0.168419   -0.152817     -1.0   \n22  0.001689  ...   -0.794487   -0.961904    0.030610    0.063340     -1.0   \n23 -0.248117  ...   -0.689123   -0.922525    0.275227    0.301285     -1.0   \n24 -0.130475  ...   -0.721780   -0.938717    0.149529    0.175831     -1.0   \n25  0.137070  ...   -0.788343   -0.958688   -0.103080   -0.075300     -1.0   \n26 -0.293202  ...   -0.642970   -0.898474    0.307220    0.326634     -1.0   \n\n    PreMed  PreStd  PreVar  PreMax  PreMin  \n0     -1.0    -1.0    -1.0    -1.0    -1.0  \n1     -1.0    -1.0    -1.0    -1.0    -1.0  \n2     -1.0    -1.0    -1.0    -1.0    -1.0  \n3     -1.0    -1.0    -1.0    -1.0    -1.0  \n4     -1.0    -1.0    -1.0    -1.0    -1.0  \n5     -1.0    -1.0    -1.0    -1.0    -1.0  \n6     -1.0    -1.0    -1.0    -1.0    -1.0  \n7     -1.0    -1.0    -1.0    -1.0    -1.0  \n8     -1.0    -1.0    -1.0    -1.0    -1.0  \n9     -1.0    -1.0    -1.0    -1.0    -1.0  \n10    -1.0    -1.0    -1.0    -1.0    -1.0  \n11    -1.0    -1.0    -1.0    -1.0    -1.0  \n12    -1.0    -1.0    -1.0    -1.0    -1.0  \n13    -1.0    -1.0    -1.0    -1.0    -1.0  \n14    -1.0    -1.0    -1.0    -1.0    -1.0  \n15    -1.0    -1.0    -1.0    -1.0    -1.0  \n16    -1.0    -1.0    -1.0    -1.0    -1.0  \n17    -1.0    -1.0    -1.0    -1.0    -1.0  \n18    -1.0    -1.0    -1.0    -1.0    -1.0  \n19    -1.0    -1.0    -1.0    -1.0    -1.0  \n20    -1.0    -1.0    -1.0    -1.0    -1.0  \n21    -1.0    -1.0    -1.0    -1.0    -1.0  \n22    -1.0    -1.0    -1.0    -1.0    -1.0  \n23    -1.0    -1.0    -1.0    -1.0    -1.0  \n24    -1.0    -1.0    -1.0    -1.0    -1.0  \n25    -1.0    -1.0    -1.0    -1.0    -1.0  \n26    -1.0    -1.0    -1.0    -1.0    -1.0  \n\n[27 rows x 280 columns]",
      "text/html": "<div>\n<style scoped>\n    .dataframe tbody tr th:only-of-type {\n        vertical-align: middle;\n    }\n\n    .dataframe tbody tr th {\n        vertical-align: top;\n    }\n\n    .dataframe thead th {\n        text-align: right;\n    }\n</style>\n<table border=\"1\" class=\"dataframe\">\n  <thead>\n    <tr style=\"text-align: right;\">\n      <th></th>\n      <th>View</th>\n      <th>dist</th>\n      <th>x</th>\n      <th>y</th>\n      <th>AxMean</th>\n      <th>AxMed</th>\n      <th>AxStd</th>\n      <th>AxVar</th>\n      <th>AxMax</th>\n      <th>AxMin</th>\n      <th>...</th>\n      <th>GrPitchStd</th>\n      <th>GrPitchVar</th>\n      <th>GrPitchMax</th>\n      <th>GrPitchMin</th>\n      <th>PreMean</th>\n      <th>PreMed</th>\n      <th>PreStd</th>\n      <th>PreVar</th>\n      <th>PreMax</th>\n      <th>PreMin</th>\n    </tr>\n  </thead>\n  <tbody>\n    <tr>\n      <th>0</th>\n      <td></td>\n      <td>4.031129</td>\n      <td>5.0</td>\n      <td>3</td>\n      <td>-0.159617</td>\n      <td>-0.154432</td>\n      <td>-0.821499</td>\n      <td>-0.968070</td>\n      <td>-0.166154</td>\n      <td>-0.121125</td>\n      <td>...</td>\n      <td>-0.800410</td>\n      <td>-0.964268</td>\n      <td>0.145335</td>\n      <td>0.183078</td>\n      <td>-1.0</td>\n      <td>-1.0</td>\n      <td>-1.0</td>\n      <td>-1.0</td>\n      <td>-1.0</td>\n      <td>-1.0</td>\n    </tr>\n    <tr>\n      <th>1</th>\n      <td>a</td>\n      <td>0.000000</td>\n      <td>1.5</td>\n      <td>1</td>\n      <td>-0.442607</td>\n      <td>-0.414158</td>\n      <td>-0.674681</td>\n      <td>-0.909059</td>\n      <td>-0.411576</td>\n      <td>-0.427211</td>\n      <td>...</td>\n      <td>-0.625560</td>\n      <td>-0.894337</td>\n      <td>0.422748</td>\n      <td>0.442984</td>\n      <td>-1.0</td>\n      <td>-1.0</td>\n      <td>-1.0</td>\n      <td>-1.0</td>\n      <td>-1.0</td>\n      <td>-1.0</td>\n    </tr>\n    <tr>\n      <th>2</th>\n      <td>b</td>\n      <td>4.609772</td>\n      <td>6.0</td>\n      <td>2</td>\n      <td>0.033203</td>\n      <td>0.023504</td>\n      <td>-0.788821</td>\n      <td>-0.954436</td>\n      <td>0.030797</td>\n      <td>0.058167</td>\n      <td>...</td>\n      <td>-0.754772</td>\n      <td>-0.945768</td>\n      <td>-0.026646</td>\n      <td>-0.001717</td>\n      <td>-1.0</td>\n      <td>-1.0</td>\n      <td>-1.0</td>\n      <td>-1.0</td>\n      <td>-1.0</td>\n      <td>-1.0</td>\n    </tr>\n    <tr>\n      <th>3</th>\n      <td>c</td>\n      <td>2.692582</td>\n      <td>4.0</td>\n      <td>2</td>\n      <td>-0.110353</td>\n      <td>-0.109572</td>\n      <td>-0.829623</td>\n      <td>-0.968095</td>\n      <td>-0.119691</td>\n      <td>-0.071302</td>\n      <td>...</td>\n      <td>-0.734215</td>\n      <td>-0.938614</td>\n      <td>0.108551</td>\n      <td>0.135588</td>\n      <td>-1.0</td>\n      <td>-1.0</td>\n      <td>-1.0</td>\n      <td>-1.0</td>\n      <td>-1.0</td>\n      <td>-1.0</td>\n    </tr>\n    <tr>\n      <th>4</th>\n      <td>d</td>\n      <td>2.000000</td>\n      <td>3.5</td>\n      <td>1</td>\n      <td>-0.171691</td>\n      <td>-0.166162</td>\n      <td>-0.843684</td>\n      <td>-0.974481</td>\n      <td>-0.181909</td>\n      <td>-0.127884</td>\n      <td>...</td>\n      <td>-0.738169</td>\n      <td>-0.943789</td>\n      <td>0.158329</td>\n      <td>0.187836</td>\n      <td>-1.0</td>\n      <td>-1.0</td>\n      <td>-1.0</td>\n      <td>-1.0</td>\n      <td>-1.0</td>\n      <td>-1.0</td>\n    </tr>\n    <tr>\n      <th>5</th>\n      <td>e</td>\n      <td>1.802776</td>\n      <td>3.0</td>\n      <td>0</td>\n      <td>-0.219282</td>\n      <td>-0.213487</td>\n      <td>-0.830212</td>\n      <td>-0.972243</td>\n      <td>-0.222810</td>\n      <td>-0.173440</td>\n      <td>...</td>\n      <td>-0.747517</td>\n      <td>-0.947119</td>\n      <td>0.197392</td>\n      <td>0.228557</td>\n      <td>-1.0</td>\n      <td>-1.0</td>\n      <td>-1.0</td>\n      <td>-1.0</td>\n      <td>-1.0</td>\n      <td>-1.0</td>\n    </tr>\n    <tr>\n      <th>6</th>\n      <td>f</td>\n      <td>3.000000</td>\n      <td>4.5</td>\n      <td>1</td>\n      <td>-0.110754</td>\n      <td>-0.111648</td>\n      <td>-0.824161</td>\n      <td>-0.969190</td>\n      <td>-0.118787</td>\n      <td>-0.072111</td>\n      <td>...</td>\n      <td>-0.755293</td>\n      <td>-0.951283</td>\n      <td>0.088726</td>\n      <td>0.117399</td>\n      <td>-1.0</td>\n      <td>-1.0</td>\n      <td>-1.0</td>\n      <td>-1.0</td>\n      <td>-1.0</td>\n      <td>-1.0</td>\n    </tr>\n    <tr>\n      <th>7</th>\n      <td>g</td>\n      <td>4.000000</td>\n      <td>5.5</td>\n      <td>1</td>\n      <td>-0.017499</td>\n      <td>-0.022905</td>\n      <td>-0.832367</td>\n      <td>-0.971224</td>\n      <td>-0.030099</td>\n      <td>0.015641</td>\n      <td>...</td>\n      <td>-0.781298</td>\n      <td>-0.958011</td>\n      <td>0.022183</td>\n      <td>0.052845</td>\n      <td>-1.0</td>\n      <td>-1.0</td>\n      <td>-1.0</td>\n      <td>-1.0</td>\n      <td>-1.0</td>\n      <td>-1.0</td>\n    </tr>\n    <tr>\n      <th>8</th>\n      <td>h</td>\n      <td>5.000000</td>\n      <td>6.5</td>\n      <td>1</td>\n      <td>0.102653</td>\n      <td>0.091987</td>\n      <td>-0.794797</td>\n      <td>-0.960715</td>\n      <td>0.092600</td>\n      <td>0.121151</td>\n      <td>...</td>\n      <td>-0.762427</td>\n      <td>-0.950764</td>\n      <td>-0.083734</td>\n      <td>-0.060005</td>\n      <td>-1.0</td>\n      <td>-1.0</td>\n      <td>-1.0</td>\n      <td>-1.0</td>\n      <td>-1.0</td>\n      <td>-1.0</td>\n    </tr>\n    <tr>\n      <th>9</th>\n      <td>i</td>\n      <td>6.576473</td>\n      <td>8.0</td>\n      <td>0</td>\n      <td>0.289857</td>\n      <td>0.268957</td>\n      <td>-0.735985</td>\n      <td>-0.930639</td>\n      <td>0.286954</td>\n      <td>0.288349</td>\n      <td>...</td>\n      <td>-0.725372</td>\n      <td>-0.934015</td>\n      <td>-0.264608</td>\n      <td>-0.252564</td>\n      <td>-1.0</td>\n      <td>-1.0</td>\n      <td>-1.0</td>\n      <td>-1.0</td>\n      <td>-1.0</td>\n      <td>-1.0</td>\n    </tr>\n    <tr>\n      <th>10</th>\n      <td>j</td>\n      <td>6.000000</td>\n      <td>7.5</td>\n      <td>1</td>\n      <td>0.203782</td>\n      <td>0.183908</td>\n      <td>-0.744169</td>\n      <td>-0.937484</td>\n      <td>0.204834</td>\n      <td>0.210062</td>\n      <td>...</td>\n      <td>-0.750580</td>\n      <td>-0.942825</td>\n      <td>-0.176624</td>\n      <td>-0.156995</td>\n      <td>-1.0</td>\n      <td>-1.0</td>\n      <td>-1.0</td>\n      <td>-1.0</td>\n      <td>-1.0</td>\n      <td>-1.0</td>\n    </tr>\n    <tr>\n      <th>11</th>\n      <td>k</td>\n      <td>7.000000</td>\n      <td>8.5</td>\n      <td>1</td>\n      <td>0.290610</td>\n      <td>0.274432</td>\n      <td>-0.714272</td>\n      <td>-0.921840</td>\n      <td>0.291558</td>\n      <td>0.282225</td>\n      <td>...</td>\n      <td>-0.718983</td>\n      <td>-0.931762</td>\n      <td>-0.249039</td>\n      <td>-0.237900</td>\n      <td>-1.0</td>\n      <td>-1.0</td>\n      <td>-1.0</td>\n      <td>-1.0</td>\n      <td>-1.0</td>\n      <td>-1.0</td>\n    </tr>\n    <tr>\n      <th>12</th>\n      <td>l</td>\n      <td>8.000000</td>\n      <td>9.5</td>\n      <td>1</td>\n      <td>0.362521</td>\n      <td>0.333457</td>\n      <td>-0.607098</td>\n      <td>-0.864886</td>\n      <td>0.392674</td>\n      <td>0.333926</td>\n      <td>...</td>\n      <td>-0.716321</td>\n      <td>-0.932508</td>\n      <td>-0.342132</td>\n      <td>-0.334865</td>\n      <td>-1.0</td>\n      <td>-1.0</td>\n      <td>-1.0</td>\n      <td>-1.0</td>\n      <td>-1.0</td>\n      <td>-1.0</td>\n    </tr>\n    <tr>\n      <th>13</th>\n      <td>m</td>\n      <td>6.576473</td>\n      <td>8.0</td>\n      <td>2</td>\n      <td>0.208654</td>\n      <td>0.184352</td>\n      <td>-0.710656</td>\n      <td>-0.917444</td>\n      <td>0.220686</td>\n      <td>0.208433</td>\n      <td>...</td>\n      <td>-0.757747</td>\n      <td>-0.946598</td>\n      <td>-0.205375</td>\n      <td>-0.186145</td>\n      <td>-1.0</td>\n      <td>-1.0</td>\n      <td>-1.0</td>\n      <td>-1.0</td>\n      <td>-1.0</td>\n      <td>-1.0</td>\n    </tr>\n    <tr>\n      <th>14</th>\n      <td>n</td>\n      <td>5.590170</td>\n      <td>7.0</td>\n      <td>2</td>\n      <td>0.068592</td>\n      <td>0.053889</td>\n      <td>-0.773316</td>\n      <td>-0.948108</td>\n      <td>0.071762</td>\n      <td>0.090965</td>\n      <td>...</td>\n      <td>-0.797187</td>\n      <td>-0.962993</td>\n      <td>-0.068985</td>\n      <td>-0.039082</td>\n      <td>-1.0</td>\n      <td>-1.0</td>\n      <td>-1.0</td>\n      <td>-1.0</td>\n      <td>-1.0</td>\n      <td>-1.0</td>\n    </tr>\n    <tr>\n      <th>15</th>\n      <td>o</td>\n      <td>7.566373</td>\n      <td>9.0</td>\n      <td>0</td>\n      <td>0.371027</td>\n      <td>0.345269</td>\n      <td>-0.653884</td>\n      <td>-0.892367</td>\n      <td>0.387984</td>\n      <td>0.349645</td>\n      <td>...</td>\n      <td>-0.710925</td>\n      <td>-0.931444</td>\n      <td>-0.341413</td>\n      <td>-0.335645</td>\n      <td>-1.0</td>\n      <td>-1.0</td>\n      <td>-1.0</td>\n      <td>-1.0</td>\n      <td>-1.0</td>\n      <td>-1.0</td>\n    </tr>\n    <tr>\n      <th>16</th>\n      <td>p</td>\n      <td>8.558621</td>\n      <td>10.0</td>\n      <td>0</td>\n      <td>0.514173</td>\n      <td>0.485435</td>\n      <td>-0.541115</td>\n      <td>-0.809638</td>\n      <td>0.547359</td>\n      <td>0.456878</td>\n      <td>...</td>\n      <td>-0.633513</td>\n      <td>-0.889970</td>\n      <td>-0.451970</td>\n      <td>-0.462430</td>\n      <td>-1.0</td>\n      <td>-1.0</td>\n      <td>-1.0</td>\n      <td>-1.0</td>\n      <td>-1.0</td>\n      <td>-1.0</td>\n    </tr>\n    <tr>\n      <th>17</th>\n      <td>q</td>\n      <td>1.118034</td>\n      <td>1.0</td>\n      <td>0</td>\n      <td>-0.491990</td>\n      <td>-0.460261</td>\n      <td>-0.645030</td>\n      <td>-0.902022</td>\n      <td>-0.451546</td>\n      <td>-0.483028</td>\n      <td>...</td>\n      <td>-0.593257</td>\n      <td>-0.880001</td>\n      <td>0.473229</td>\n      <td>0.488232</td>\n      <td>-1.0</td>\n      <td>-1.0</td>\n      <td>-1.0</td>\n      <td>-1.0</td>\n      <td>-1.0</td>\n      <td>-1.0</td>\n    </tr>\n    <tr>\n      <th>18</th>\n      <td>r</td>\n      <td>2.692582</td>\n      <td>4.0</td>\n      <td>0</td>\n      <td>-0.095784</td>\n      <td>-0.095631</td>\n      <td>-0.827752</td>\n      <td>-0.972050</td>\n      <td>-0.104678</td>\n      <td>-0.057278</td>\n      <td>...</td>\n      <td>-0.758218</td>\n      <td>-0.949282</td>\n      <td>0.084262</td>\n      <td>0.113292</td>\n      <td>-1.0</td>\n      <td>-1.0</td>\n      <td>-1.0</td>\n      <td>-1.0</td>\n      <td>-1.0</td>\n      <td>-1.0</td>\n    </tr>\n    <tr>\n      <th>19</th>\n      <td>s</td>\n      <td>1.000000</td>\n      <td>2.5</td>\n      <td>1</td>\n      <td>-0.253098</td>\n      <td>-0.239868</td>\n      <td>-0.801915</td>\n      <td>-0.961876</td>\n      <td>-0.254747</td>\n      <td>-0.216863</td>\n      <td>...</td>\n      <td>-0.686286</td>\n      <td>-0.922792</td>\n      <td>0.247783</td>\n      <td>0.272937</td>\n      <td>-1.0</td>\n      <td>-1.0</td>\n      <td>-1.0</td>\n      <td>-1.0</td>\n      <td>-1.0</td>\n      <td>-1.0</td>\n    </tr>\n    <tr>\n      <th>20</th>\n      <td>t</td>\n      <td>3.640055</td>\n      <td>5.0</td>\n      <td>0</td>\n      <td>-0.017209</td>\n      <td>-0.025598</td>\n      <td>-0.784171</td>\n      <td>-0.955580</td>\n      <td>-0.016020</td>\n      <td>0.009953</td>\n      <td>...</td>\n      <td>-0.752453</td>\n      <td>-0.946405</td>\n      <td>0.008669</td>\n      <td>0.033927</td>\n      <td>-1.0</td>\n      <td>-1.0</td>\n      <td>-1.0</td>\n      <td>-1.0</td>\n      <td>-1.0</td>\n      <td>-1.0</td>\n    </tr>\n    <tr>\n      <th>21</th>\n      <td>u</td>\n      <td>5.590170</td>\n      <td>7.0</td>\n      <td>0</td>\n      <td>0.189590</td>\n      <td>0.171600</td>\n      <td>-0.762683</td>\n      <td>-0.944200</td>\n      <td>0.187224</td>\n      <td>0.202541</td>\n      <td>...</td>\n      <td>-0.728503</td>\n      <td>-0.938528</td>\n      <td>-0.168419</td>\n      <td>-0.152817</td>\n      <td>-1.0</td>\n      <td>-1.0</td>\n      <td>-1.0</td>\n      <td>-1.0</td>\n      <td>-1.0</td>\n      <td>-1.0</td>\n    </tr>\n    <tr>\n      <th>22</th>\n      <td>v</td>\n      <td>3.640055</td>\n      <td>5.0</td>\n      <td>2</td>\n      <td>-0.026683</td>\n      <td>-0.029301</td>\n      <td>-0.804434</td>\n      <td>-0.964422</td>\n      <td>-0.034225</td>\n      <td>0.001689</td>\n      <td>...</td>\n      <td>-0.794487</td>\n      <td>-0.961904</td>\n      <td>0.030610</td>\n      <td>0.063340</td>\n      <td>-1.0</td>\n      <td>-1.0</td>\n      <td>-1.0</td>\n      <td>-1.0</td>\n      <td>-1.0</td>\n      <td>-1.0</td>\n    </tr>\n    <tr>\n      <th>23</th>\n      <td>w</td>\n      <td>1.118034</td>\n      <td>2.0</td>\n      <td>0</td>\n      <td>-0.290480</td>\n      <td>-0.277180</td>\n      <td>-0.811823</td>\n      <td>-0.964282</td>\n      <td>-0.290284</td>\n      <td>-0.248117</td>\n      <td>...</td>\n      <td>-0.689123</td>\n      <td>-0.922525</td>\n      <td>0.275227</td>\n      <td>0.301285</td>\n      <td>-1.0</td>\n      <td>-1.0</td>\n      <td>-1.0</td>\n      <td>-1.0</td>\n      <td>-1.0</td>\n      <td>-1.0</td>\n    </tr>\n    <tr>\n      <th>24</th>\n      <td>x</td>\n      <td>1.802776</td>\n      <td>3.0</td>\n      <td>2</td>\n      <td>-0.161558</td>\n      <td>-0.153478</td>\n      <td>-0.790553</td>\n      <td>-0.957638</td>\n      <td>-0.158937</td>\n      <td>-0.130475</td>\n      <td>...</td>\n      <td>-0.721780</td>\n      <td>-0.938717</td>\n      <td>0.149529</td>\n      <td>0.175831</td>\n      <td>-1.0</td>\n      <td>-1.0</td>\n      <td>-1.0</td>\n      <td>-1.0</td>\n      <td>-1.0</td>\n      <td>-1.0</td>\n    </tr>\n    <tr>\n      <th>25</th>\n      <td>y</td>\n      <td>4.609772</td>\n      <td>6.0</td>\n      <td>0</td>\n      <td>0.108119</td>\n      <td>0.095498</td>\n      <td>-0.829017</td>\n      <td>-0.967917</td>\n      <td>0.091622</td>\n      <td>0.137070</td>\n      <td>...</td>\n      <td>-0.788343</td>\n      <td>-0.958688</td>\n      <td>-0.103080</td>\n      <td>-0.075300</td>\n      <td>-1.0</td>\n      <td>-1.0</td>\n      <td>-1.0</td>\n      <td>-1.0</td>\n      <td>-1.0</td>\n      <td>-1.0</td>\n    </tr>\n    <tr>\n      <th>26</th>\n      <td>z</td>\n      <td>1.118034</td>\n      <td>2.0</td>\n      <td>2</td>\n      <td>-0.318231</td>\n      <td>-0.302339</td>\n      <td>-0.740874</td>\n      <td>-0.939725</td>\n      <td>-0.302288</td>\n      <td>-0.293202</td>\n      <td>...</td>\n      <td>-0.642970</td>\n      <td>-0.898474</td>\n      <td>0.307220</td>\n      <td>0.326634</td>\n      <td>-1.0</td>\n      <td>-1.0</td>\n      <td>-1.0</td>\n      <td>-1.0</td>\n      <td>-1.0</td>\n      <td>-1.0</td>\n    </tr>\n  </tbody>\n</table>\n<p>27 rows × 280 columns</p>\n</div>"
     },
     "execution_count": 6,
     "metadata": {},
     "output_type": "execute_result"
    }
   ],
   "source": [
    "# Group dataset by letter/distance\n",
    "\n",
    "# mean = mean of the rows with the same View and distances\n",
    "df_mean = df.groupby(['View','dist','x','y'], as_index=False).agg('mean')\n",
    "df_mean"
   ],
   "metadata": {
    "collapsed": false,
    "pycharm": {
     "name": "#%%\n"
    }
   }
  },
  {
   "cell_type": "code",
   "execution_count": 7,
   "outputs": [],
   "source": [
    "import matplotlib.pyplot as plt\n",
    "import seaborn as sns"
   ],
   "metadata": {
    "collapsed": false,
    "pycharm": {
     "name": "#%%\n"
    }
   }
  },
  {
   "cell_type": "code",
   "execution_count": 8,
   "outputs": [
    {
     "name": "stdout",
     "output_type": "stream",
     "text": [
      "5.0 3.0\n",
      "5.0 3.5\n",
      "5.0 4.0\n",
      "5.0 4.5\n",
      "5.0 5.0\n",
      "5.0 5.5\n",
      "5.0 6.0\n",
      "5.0 6.5\n",
      "5.0 7.0\n"
     ]
    },
    {
     "data": {
      "text/plain": "   View      dist     x  y    AxMean     AxMed     AxStd     AxVar     AxMax  \\\n0        4.031129   5.0  3 -0.159617 -0.154432 -0.821499 -0.968070 -0.166154   \n1     a  0.000000   1.5  1 -0.442607 -0.414158 -0.674681 -0.909059 -0.411576   \n2     b  4.609772   6.0  2  0.033203  0.023504 -0.788821 -0.954436  0.030797   \n3     c  2.692582   4.0  2 -0.110353 -0.109572 -0.829623 -0.968095 -0.119691   \n4     d  2.000000   3.5  1 -0.171691 -0.166162 -0.843684 -0.974481 -0.181909   \n5     e  1.802776   3.0  0 -0.219282 -0.213487 -0.830212 -0.972243 -0.222810   \n6     f  3.000000   4.5  1 -0.110754 -0.111648 -0.824161 -0.969190 -0.118787   \n7     g  4.000000   5.5  1 -0.017499 -0.022905 -0.832367 -0.971224 -0.030099   \n8     h  5.000000   6.5  1  0.102653  0.091987 -0.794797 -0.960715  0.092600   \n9     i  6.576473   8.0  0  0.289857  0.268957 -0.735985 -0.930639  0.286954   \n10    j  6.000000   7.5  1  0.203782  0.183908 -0.744169 -0.937484  0.204834   \n11    k  7.000000   8.5  1  0.290610  0.274432 -0.714272 -0.921840  0.291558   \n12    l  8.000000   9.5  1  0.362521  0.333457 -0.607098 -0.864886  0.392674   \n13    m  6.576473   8.0  2  0.208654  0.184352 -0.710656 -0.917444  0.220686   \n14    n  5.590170   7.0  2  0.068592  0.053889 -0.773316 -0.948108  0.071762   \n15    o  7.566373   9.0  0  0.371027  0.345269 -0.653884 -0.892367  0.387984   \n16    p  8.558621  10.0  0  0.514173  0.485435 -0.541115 -0.809638  0.547359   \n17    q  1.118034   1.0  0 -0.491990 -0.460261 -0.645030 -0.902022 -0.451546   \n18    r  2.692582   4.0  0 -0.095784 -0.095631 -0.827752 -0.972050 -0.104678   \n19    s  1.000000   2.5  1 -0.253098 -0.239868 -0.801915 -0.961876 -0.254747   \n20    t  3.640055   5.0  0 -0.017209 -0.025598 -0.784171 -0.955580 -0.016020   \n21    u  5.590170   7.0  0  0.189590  0.171600 -0.762683 -0.944200  0.187224   \n22    v  3.640055   5.0  2 -0.026683 -0.029301 -0.804434 -0.964422 -0.034225   \n23    w  1.118034   2.0  0 -0.290480 -0.277180 -0.811823 -0.964282 -0.290284   \n24    x  1.802776   3.0  2 -0.161558 -0.153478 -0.790553 -0.957638 -0.158937   \n25    y  4.609772   6.0  0  0.108119  0.095498 -0.829017 -0.967917  0.091622   \n26    z  1.118034   2.0  2 -0.318231 -0.302339 -0.740874 -0.939725 -0.302288   \n27       4.031129   3.0  3 -0.159617 -0.154432 -0.821499 -0.968070 -0.166154   \n28       4.031129   3.5  3 -0.159617 -0.154432 -0.821499 -0.968070 -0.166154   \n29       4.031129   4.0  3 -0.159617 -0.154432 -0.821499 -0.968070 -0.166154   \n30       4.031129   4.5  3 -0.159617 -0.154432 -0.821499 -0.968070 -0.166154   \n31       4.031129   5.5  3 -0.159617 -0.154432 -0.821499 -0.968070 -0.166154   \n32       4.031129   6.0  3 -0.159617 -0.154432 -0.821499 -0.968070 -0.166154   \n33       4.031129   6.5  3 -0.159617 -0.154432 -0.821499 -0.968070 -0.166154   \n34       4.031129   7.0  3 -0.159617 -0.154432 -0.821499 -0.968070 -0.166154   \n\n       AxMin  ...  GrPitchStd  GrPitchVar  GrPitchMax  GrPitchMin  PreMean  \\\n0  -0.121125  ...   -0.800410   -0.964268    0.145335    0.183078     -1.0   \n1  -0.427211  ...   -0.625560   -0.894337    0.422748    0.442984     -1.0   \n2   0.058167  ...   -0.754772   -0.945768   -0.026646   -0.001717     -1.0   \n3  -0.071302  ...   -0.734215   -0.938614    0.108551    0.135588     -1.0   \n4  -0.127884  ...   -0.738169   -0.943789    0.158329    0.187836     -1.0   \n5  -0.173440  ...   -0.747517   -0.947119    0.197392    0.228557     -1.0   \n6  -0.072111  ...   -0.755293   -0.951283    0.088726    0.117399     -1.0   \n7   0.015641  ...   -0.781298   -0.958011    0.022183    0.052845     -1.0   \n8   0.121151  ...   -0.762427   -0.950764   -0.083734   -0.060005     -1.0   \n9   0.288349  ...   -0.725372   -0.934015   -0.264608   -0.252564     -1.0   \n10  0.210062  ...   -0.750580   -0.942825   -0.176624   -0.156995     -1.0   \n11  0.282225  ...   -0.718983   -0.931762   -0.249039   -0.237900     -1.0   \n12  0.333926  ...   -0.716321   -0.932508   -0.342132   -0.334865     -1.0   \n13  0.208433  ...   -0.757747   -0.946598   -0.205375   -0.186145     -1.0   \n14  0.090965  ...   -0.797187   -0.962993   -0.068985   -0.039082     -1.0   \n15  0.349645  ...   -0.710925   -0.931444   -0.341413   -0.335645     -1.0   \n16  0.456878  ...   -0.633513   -0.889970   -0.451970   -0.462430     -1.0   \n17 -0.483028  ...   -0.593257   -0.880001    0.473229    0.488232     -1.0   \n18 -0.057278  ...   -0.758218   -0.949282    0.084262    0.113292     -1.0   \n19 -0.216863  ...   -0.686286   -0.922792    0.247783    0.272937     -1.0   \n20  0.009953  ...   -0.752453   -0.946405    0.008669    0.033927     -1.0   \n21  0.202541  ...   -0.728503   -0.938528   -0.168419   -0.152817     -1.0   \n22  0.001689  ...   -0.794487   -0.961904    0.030610    0.063340     -1.0   \n23 -0.248117  ...   -0.689123   -0.922525    0.275227    0.301285     -1.0   \n24 -0.130475  ...   -0.721780   -0.938717    0.149529    0.175831     -1.0   \n25  0.137070  ...   -0.788343   -0.958688   -0.103080   -0.075300     -1.0   \n26 -0.293202  ...   -0.642970   -0.898474    0.307220    0.326634     -1.0   \n27 -0.121125  ...   -0.800410   -0.964268    0.145335    0.183078     -1.0   \n28 -0.121125  ...   -0.800410   -0.964268    0.145335    0.183078     -1.0   \n29 -0.121125  ...   -0.800410   -0.964268    0.145335    0.183078     -1.0   \n30 -0.121125  ...   -0.800410   -0.964268    0.145335    0.183078     -1.0   \n31 -0.121125  ...   -0.800410   -0.964268    0.145335    0.183078     -1.0   \n32 -0.121125  ...   -0.800410   -0.964268    0.145335    0.183078     -1.0   \n33 -0.121125  ...   -0.800410   -0.964268    0.145335    0.183078     -1.0   \n34 -0.121125  ...   -0.800410   -0.964268    0.145335    0.183078     -1.0   \n\n    PreMed  PreStd  PreVar  PreMax  PreMin  \n0     -1.0    -1.0    -1.0    -1.0    -1.0  \n1     -1.0    -1.0    -1.0    -1.0    -1.0  \n2     -1.0    -1.0    -1.0    -1.0    -1.0  \n3     -1.0    -1.0    -1.0    -1.0    -1.0  \n4     -1.0    -1.0    -1.0    -1.0    -1.0  \n5     -1.0    -1.0    -1.0    -1.0    -1.0  \n6     -1.0    -1.0    -1.0    -1.0    -1.0  \n7     -1.0    -1.0    -1.0    -1.0    -1.0  \n8     -1.0    -1.0    -1.0    -1.0    -1.0  \n9     -1.0    -1.0    -1.0    -1.0    -1.0  \n10    -1.0    -1.0    -1.0    -1.0    -1.0  \n11    -1.0    -1.0    -1.0    -1.0    -1.0  \n12    -1.0    -1.0    -1.0    -1.0    -1.0  \n13    -1.0    -1.0    -1.0    -1.0    -1.0  \n14    -1.0    -1.0    -1.0    -1.0    -1.0  \n15    -1.0    -1.0    -1.0    -1.0    -1.0  \n16    -1.0    -1.0    -1.0    -1.0    -1.0  \n17    -1.0    -1.0    -1.0    -1.0    -1.0  \n18    -1.0    -1.0    -1.0    -1.0    -1.0  \n19    -1.0    -1.0    -1.0    -1.0    -1.0  \n20    -1.0    -1.0    -1.0    -1.0    -1.0  \n21    -1.0    -1.0    -1.0    -1.0    -1.0  \n22    -1.0    -1.0    -1.0    -1.0    -1.0  \n23    -1.0    -1.0    -1.0    -1.0    -1.0  \n24    -1.0    -1.0    -1.0    -1.0    -1.0  \n25    -1.0    -1.0    -1.0    -1.0    -1.0  \n26    -1.0    -1.0    -1.0    -1.0    -1.0  \n27    -1.0    -1.0    -1.0    -1.0    -1.0  \n28    -1.0    -1.0    -1.0    -1.0    -1.0  \n29    -1.0    -1.0    -1.0    -1.0    -1.0  \n30    -1.0    -1.0    -1.0    -1.0    -1.0  \n31    -1.0    -1.0    -1.0    -1.0    -1.0  \n32    -1.0    -1.0    -1.0    -1.0    -1.0  \n33    -1.0    -1.0    -1.0    -1.0    -1.0  \n34    -1.0    -1.0    -1.0    -1.0    -1.0  \n\n[35 rows x 280 columns]",
      "text/html": "<div>\n<style scoped>\n    .dataframe tbody tr th:only-of-type {\n        vertical-align: middle;\n    }\n\n    .dataframe tbody tr th {\n        vertical-align: top;\n    }\n\n    .dataframe thead th {\n        text-align: right;\n    }\n</style>\n<table border=\"1\" class=\"dataframe\">\n  <thead>\n    <tr style=\"text-align: right;\">\n      <th></th>\n      <th>View</th>\n      <th>dist</th>\n      <th>x</th>\n      <th>y</th>\n      <th>AxMean</th>\n      <th>AxMed</th>\n      <th>AxStd</th>\n      <th>AxVar</th>\n      <th>AxMax</th>\n      <th>AxMin</th>\n      <th>...</th>\n      <th>GrPitchStd</th>\n      <th>GrPitchVar</th>\n      <th>GrPitchMax</th>\n      <th>GrPitchMin</th>\n      <th>PreMean</th>\n      <th>PreMed</th>\n      <th>PreStd</th>\n      <th>PreVar</th>\n      <th>PreMax</th>\n      <th>PreMin</th>\n    </tr>\n  </thead>\n  <tbody>\n    <tr>\n      <th>0</th>\n      <td></td>\n      <td>4.031129</td>\n      <td>5.0</td>\n      <td>3</td>\n      <td>-0.159617</td>\n      <td>-0.154432</td>\n      <td>-0.821499</td>\n      <td>-0.968070</td>\n      <td>-0.166154</td>\n      <td>-0.121125</td>\n      <td>...</td>\n      <td>-0.800410</td>\n      <td>-0.964268</td>\n      <td>0.145335</td>\n      <td>0.183078</td>\n      <td>-1.0</td>\n      <td>-1.0</td>\n      <td>-1.0</td>\n      <td>-1.0</td>\n      <td>-1.0</td>\n      <td>-1.0</td>\n    </tr>\n    <tr>\n      <th>1</th>\n      <td>a</td>\n      <td>0.000000</td>\n      <td>1.5</td>\n      <td>1</td>\n      <td>-0.442607</td>\n      <td>-0.414158</td>\n      <td>-0.674681</td>\n      <td>-0.909059</td>\n      <td>-0.411576</td>\n      <td>-0.427211</td>\n      <td>...</td>\n      <td>-0.625560</td>\n      <td>-0.894337</td>\n      <td>0.422748</td>\n      <td>0.442984</td>\n      <td>-1.0</td>\n      <td>-1.0</td>\n      <td>-1.0</td>\n      <td>-1.0</td>\n      <td>-1.0</td>\n      <td>-1.0</td>\n    </tr>\n    <tr>\n      <th>2</th>\n      <td>b</td>\n      <td>4.609772</td>\n      <td>6.0</td>\n      <td>2</td>\n      <td>0.033203</td>\n      <td>0.023504</td>\n      <td>-0.788821</td>\n      <td>-0.954436</td>\n      <td>0.030797</td>\n      <td>0.058167</td>\n      <td>...</td>\n      <td>-0.754772</td>\n      <td>-0.945768</td>\n      <td>-0.026646</td>\n      <td>-0.001717</td>\n      <td>-1.0</td>\n      <td>-1.0</td>\n      <td>-1.0</td>\n      <td>-1.0</td>\n      <td>-1.0</td>\n      <td>-1.0</td>\n    </tr>\n    <tr>\n      <th>3</th>\n      <td>c</td>\n      <td>2.692582</td>\n      <td>4.0</td>\n      <td>2</td>\n      <td>-0.110353</td>\n      <td>-0.109572</td>\n      <td>-0.829623</td>\n      <td>-0.968095</td>\n      <td>-0.119691</td>\n      <td>-0.071302</td>\n      <td>...</td>\n      <td>-0.734215</td>\n      <td>-0.938614</td>\n      <td>0.108551</td>\n      <td>0.135588</td>\n      <td>-1.0</td>\n      <td>-1.0</td>\n      <td>-1.0</td>\n      <td>-1.0</td>\n      <td>-1.0</td>\n      <td>-1.0</td>\n    </tr>\n    <tr>\n      <th>4</th>\n      <td>d</td>\n      <td>2.000000</td>\n      <td>3.5</td>\n      <td>1</td>\n      <td>-0.171691</td>\n      <td>-0.166162</td>\n      <td>-0.843684</td>\n      <td>-0.974481</td>\n      <td>-0.181909</td>\n      <td>-0.127884</td>\n      <td>...</td>\n      <td>-0.738169</td>\n      <td>-0.943789</td>\n      <td>0.158329</td>\n      <td>0.187836</td>\n      <td>-1.0</td>\n      <td>-1.0</td>\n      <td>-1.0</td>\n      <td>-1.0</td>\n      <td>-1.0</td>\n      <td>-1.0</td>\n    </tr>\n    <tr>\n      <th>5</th>\n      <td>e</td>\n      <td>1.802776</td>\n      <td>3.0</td>\n      <td>0</td>\n      <td>-0.219282</td>\n      <td>-0.213487</td>\n      <td>-0.830212</td>\n      <td>-0.972243</td>\n      <td>-0.222810</td>\n      <td>-0.173440</td>\n      <td>...</td>\n      <td>-0.747517</td>\n      <td>-0.947119</td>\n      <td>0.197392</td>\n      <td>0.228557</td>\n      <td>-1.0</td>\n      <td>-1.0</td>\n      <td>-1.0</td>\n      <td>-1.0</td>\n      <td>-1.0</td>\n      <td>-1.0</td>\n    </tr>\n    <tr>\n      <th>6</th>\n      <td>f</td>\n      <td>3.000000</td>\n      <td>4.5</td>\n      <td>1</td>\n      <td>-0.110754</td>\n      <td>-0.111648</td>\n      <td>-0.824161</td>\n      <td>-0.969190</td>\n      <td>-0.118787</td>\n      <td>-0.072111</td>\n      <td>...</td>\n      <td>-0.755293</td>\n      <td>-0.951283</td>\n      <td>0.088726</td>\n      <td>0.117399</td>\n      <td>-1.0</td>\n      <td>-1.0</td>\n      <td>-1.0</td>\n      <td>-1.0</td>\n      <td>-1.0</td>\n      <td>-1.0</td>\n    </tr>\n    <tr>\n      <th>7</th>\n      <td>g</td>\n      <td>4.000000</td>\n      <td>5.5</td>\n      <td>1</td>\n      <td>-0.017499</td>\n      <td>-0.022905</td>\n      <td>-0.832367</td>\n      <td>-0.971224</td>\n      <td>-0.030099</td>\n      <td>0.015641</td>\n      <td>...</td>\n      <td>-0.781298</td>\n      <td>-0.958011</td>\n      <td>0.022183</td>\n      <td>0.052845</td>\n      <td>-1.0</td>\n      <td>-1.0</td>\n      <td>-1.0</td>\n      <td>-1.0</td>\n      <td>-1.0</td>\n      <td>-1.0</td>\n    </tr>\n    <tr>\n      <th>8</th>\n      <td>h</td>\n      <td>5.000000</td>\n      <td>6.5</td>\n      <td>1</td>\n      <td>0.102653</td>\n      <td>0.091987</td>\n      <td>-0.794797</td>\n      <td>-0.960715</td>\n      <td>0.092600</td>\n      <td>0.121151</td>\n      <td>...</td>\n      <td>-0.762427</td>\n      <td>-0.950764</td>\n      <td>-0.083734</td>\n      <td>-0.060005</td>\n      <td>-1.0</td>\n      <td>-1.0</td>\n      <td>-1.0</td>\n      <td>-1.0</td>\n      <td>-1.0</td>\n      <td>-1.0</td>\n    </tr>\n    <tr>\n      <th>9</th>\n      <td>i</td>\n      <td>6.576473</td>\n      <td>8.0</td>\n      <td>0</td>\n      <td>0.289857</td>\n      <td>0.268957</td>\n      <td>-0.735985</td>\n      <td>-0.930639</td>\n      <td>0.286954</td>\n      <td>0.288349</td>\n      <td>...</td>\n      <td>-0.725372</td>\n      <td>-0.934015</td>\n      <td>-0.264608</td>\n      <td>-0.252564</td>\n      <td>-1.0</td>\n      <td>-1.0</td>\n      <td>-1.0</td>\n      <td>-1.0</td>\n      <td>-1.0</td>\n      <td>-1.0</td>\n    </tr>\n    <tr>\n      <th>10</th>\n      <td>j</td>\n      <td>6.000000</td>\n      <td>7.5</td>\n      <td>1</td>\n      <td>0.203782</td>\n      <td>0.183908</td>\n      <td>-0.744169</td>\n      <td>-0.937484</td>\n      <td>0.204834</td>\n      <td>0.210062</td>\n      <td>...</td>\n      <td>-0.750580</td>\n      <td>-0.942825</td>\n      <td>-0.176624</td>\n      <td>-0.156995</td>\n      <td>-1.0</td>\n      <td>-1.0</td>\n      <td>-1.0</td>\n      <td>-1.0</td>\n      <td>-1.0</td>\n      <td>-1.0</td>\n    </tr>\n    <tr>\n      <th>11</th>\n      <td>k</td>\n      <td>7.000000</td>\n      <td>8.5</td>\n      <td>1</td>\n      <td>0.290610</td>\n      <td>0.274432</td>\n      <td>-0.714272</td>\n      <td>-0.921840</td>\n      <td>0.291558</td>\n      <td>0.282225</td>\n      <td>...</td>\n      <td>-0.718983</td>\n      <td>-0.931762</td>\n      <td>-0.249039</td>\n      <td>-0.237900</td>\n      <td>-1.0</td>\n      <td>-1.0</td>\n      <td>-1.0</td>\n      <td>-1.0</td>\n      <td>-1.0</td>\n      <td>-1.0</td>\n    </tr>\n    <tr>\n      <th>12</th>\n      <td>l</td>\n      <td>8.000000</td>\n      <td>9.5</td>\n      <td>1</td>\n      <td>0.362521</td>\n      <td>0.333457</td>\n      <td>-0.607098</td>\n      <td>-0.864886</td>\n      <td>0.392674</td>\n      <td>0.333926</td>\n      <td>...</td>\n      <td>-0.716321</td>\n      <td>-0.932508</td>\n      <td>-0.342132</td>\n      <td>-0.334865</td>\n      <td>-1.0</td>\n      <td>-1.0</td>\n      <td>-1.0</td>\n      <td>-1.0</td>\n      <td>-1.0</td>\n      <td>-1.0</td>\n    </tr>\n    <tr>\n      <th>13</th>\n      <td>m</td>\n      <td>6.576473</td>\n      <td>8.0</td>\n      <td>2</td>\n      <td>0.208654</td>\n      <td>0.184352</td>\n      <td>-0.710656</td>\n      <td>-0.917444</td>\n      <td>0.220686</td>\n      <td>0.208433</td>\n      <td>...</td>\n      <td>-0.757747</td>\n      <td>-0.946598</td>\n      <td>-0.205375</td>\n      <td>-0.186145</td>\n      <td>-1.0</td>\n      <td>-1.0</td>\n      <td>-1.0</td>\n      <td>-1.0</td>\n      <td>-1.0</td>\n      <td>-1.0</td>\n    </tr>\n    <tr>\n      <th>14</th>\n      <td>n</td>\n      <td>5.590170</td>\n      <td>7.0</td>\n      <td>2</td>\n      <td>0.068592</td>\n      <td>0.053889</td>\n      <td>-0.773316</td>\n      <td>-0.948108</td>\n      <td>0.071762</td>\n      <td>0.090965</td>\n      <td>...</td>\n      <td>-0.797187</td>\n      <td>-0.962993</td>\n      <td>-0.068985</td>\n      <td>-0.039082</td>\n      <td>-1.0</td>\n      <td>-1.0</td>\n      <td>-1.0</td>\n      <td>-1.0</td>\n      <td>-1.0</td>\n      <td>-1.0</td>\n    </tr>\n    <tr>\n      <th>15</th>\n      <td>o</td>\n      <td>7.566373</td>\n      <td>9.0</td>\n      <td>0</td>\n      <td>0.371027</td>\n      <td>0.345269</td>\n      <td>-0.653884</td>\n      <td>-0.892367</td>\n      <td>0.387984</td>\n      <td>0.349645</td>\n      <td>...</td>\n      <td>-0.710925</td>\n      <td>-0.931444</td>\n      <td>-0.341413</td>\n      <td>-0.335645</td>\n      <td>-1.0</td>\n      <td>-1.0</td>\n      <td>-1.0</td>\n      <td>-1.0</td>\n      <td>-1.0</td>\n      <td>-1.0</td>\n    </tr>\n    <tr>\n      <th>16</th>\n      <td>p</td>\n      <td>8.558621</td>\n      <td>10.0</td>\n      <td>0</td>\n      <td>0.514173</td>\n      <td>0.485435</td>\n      <td>-0.541115</td>\n      <td>-0.809638</td>\n      <td>0.547359</td>\n      <td>0.456878</td>\n      <td>...</td>\n      <td>-0.633513</td>\n      <td>-0.889970</td>\n      <td>-0.451970</td>\n      <td>-0.462430</td>\n      <td>-1.0</td>\n      <td>-1.0</td>\n      <td>-1.0</td>\n      <td>-1.0</td>\n      <td>-1.0</td>\n      <td>-1.0</td>\n    </tr>\n    <tr>\n      <th>17</th>\n      <td>q</td>\n      <td>1.118034</td>\n      <td>1.0</td>\n      <td>0</td>\n      <td>-0.491990</td>\n      <td>-0.460261</td>\n      <td>-0.645030</td>\n      <td>-0.902022</td>\n      <td>-0.451546</td>\n      <td>-0.483028</td>\n      <td>...</td>\n      <td>-0.593257</td>\n      <td>-0.880001</td>\n      <td>0.473229</td>\n      <td>0.488232</td>\n      <td>-1.0</td>\n      <td>-1.0</td>\n      <td>-1.0</td>\n      <td>-1.0</td>\n      <td>-1.0</td>\n      <td>-1.0</td>\n    </tr>\n    <tr>\n      <th>18</th>\n      <td>r</td>\n      <td>2.692582</td>\n      <td>4.0</td>\n      <td>0</td>\n      <td>-0.095784</td>\n      <td>-0.095631</td>\n      <td>-0.827752</td>\n      <td>-0.972050</td>\n      <td>-0.104678</td>\n      <td>-0.057278</td>\n      <td>...</td>\n      <td>-0.758218</td>\n      <td>-0.949282</td>\n      <td>0.084262</td>\n      <td>0.113292</td>\n      <td>-1.0</td>\n      <td>-1.0</td>\n      <td>-1.0</td>\n      <td>-1.0</td>\n      <td>-1.0</td>\n      <td>-1.0</td>\n    </tr>\n    <tr>\n      <th>19</th>\n      <td>s</td>\n      <td>1.000000</td>\n      <td>2.5</td>\n      <td>1</td>\n      <td>-0.253098</td>\n      <td>-0.239868</td>\n      <td>-0.801915</td>\n      <td>-0.961876</td>\n      <td>-0.254747</td>\n      <td>-0.216863</td>\n      <td>...</td>\n      <td>-0.686286</td>\n      <td>-0.922792</td>\n      <td>0.247783</td>\n      <td>0.272937</td>\n      <td>-1.0</td>\n      <td>-1.0</td>\n      <td>-1.0</td>\n      <td>-1.0</td>\n      <td>-1.0</td>\n      <td>-1.0</td>\n    </tr>\n    <tr>\n      <th>20</th>\n      <td>t</td>\n      <td>3.640055</td>\n      <td>5.0</td>\n      <td>0</td>\n      <td>-0.017209</td>\n      <td>-0.025598</td>\n      <td>-0.784171</td>\n      <td>-0.955580</td>\n      <td>-0.016020</td>\n      <td>0.009953</td>\n      <td>...</td>\n      <td>-0.752453</td>\n      <td>-0.946405</td>\n      <td>0.008669</td>\n      <td>0.033927</td>\n      <td>-1.0</td>\n      <td>-1.0</td>\n      <td>-1.0</td>\n      <td>-1.0</td>\n      <td>-1.0</td>\n      <td>-1.0</td>\n    </tr>\n    <tr>\n      <th>21</th>\n      <td>u</td>\n      <td>5.590170</td>\n      <td>7.0</td>\n      <td>0</td>\n      <td>0.189590</td>\n      <td>0.171600</td>\n      <td>-0.762683</td>\n      <td>-0.944200</td>\n      <td>0.187224</td>\n      <td>0.202541</td>\n      <td>...</td>\n      <td>-0.728503</td>\n      <td>-0.938528</td>\n      <td>-0.168419</td>\n      <td>-0.152817</td>\n      <td>-1.0</td>\n      <td>-1.0</td>\n      <td>-1.0</td>\n      <td>-1.0</td>\n      <td>-1.0</td>\n      <td>-1.0</td>\n    </tr>\n    <tr>\n      <th>22</th>\n      <td>v</td>\n      <td>3.640055</td>\n      <td>5.0</td>\n      <td>2</td>\n      <td>-0.026683</td>\n      <td>-0.029301</td>\n      <td>-0.804434</td>\n      <td>-0.964422</td>\n      <td>-0.034225</td>\n      <td>0.001689</td>\n      <td>...</td>\n      <td>-0.794487</td>\n      <td>-0.961904</td>\n      <td>0.030610</td>\n      <td>0.063340</td>\n      <td>-1.0</td>\n      <td>-1.0</td>\n      <td>-1.0</td>\n      <td>-1.0</td>\n      <td>-1.0</td>\n      <td>-1.0</td>\n    </tr>\n    <tr>\n      <th>23</th>\n      <td>w</td>\n      <td>1.118034</td>\n      <td>2.0</td>\n      <td>0</td>\n      <td>-0.290480</td>\n      <td>-0.277180</td>\n      <td>-0.811823</td>\n      <td>-0.964282</td>\n      <td>-0.290284</td>\n      <td>-0.248117</td>\n      <td>...</td>\n      <td>-0.689123</td>\n      <td>-0.922525</td>\n      <td>0.275227</td>\n      <td>0.301285</td>\n      <td>-1.0</td>\n      <td>-1.0</td>\n      <td>-1.0</td>\n      <td>-1.0</td>\n      <td>-1.0</td>\n      <td>-1.0</td>\n    </tr>\n    <tr>\n      <th>24</th>\n      <td>x</td>\n      <td>1.802776</td>\n      <td>3.0</td>\n      <td>2</td>\n      <td>-0.161558</td>\n      <td>-0.153478</td>\n      <td>-0.790553</td>\n      <td>-0.957638</td>\n      <td>-0.158937</td>\n      <td>-0.130475</td>\n      <td>...</td>\n      <td>-0.721780</td>\n      <td>-0.938717</td>\n      <td>0.149529</td>\n      <td>0.175831</td>\n      <td>-1.0</td>\n      <td>-1.0</td>\n      <td>-1.0</td>\n      <td>-1.0</td>\n      <td>-1.0</td>\n      <td>-1.0</td>\n    </tr>\n    <tr>\n      <th>25</th>\n      <td>y</td>\n      <td>4.609772</td>\n      <td>6.0</td>\n      <td>0</td>\n      <td>0.108119</td>\n      <td>0.095498</td>\n      <td>-0.829017</td>\n      <td>-0.967917</td>\n      <td>0.091622</td>\n      <td>0.137070</td>\n      <td>...</td>\n      <td>-0.788343</td>\n      <td>-0.958688</td>\n      <td>-0.103080</td>\n      <td>-0.075300</td>\n      <td>-1.0</td>\n      <td>-1.0</td>\n      <td>-1.0</td>\n      <td>-1.0</td>\n      <td>-1.0</td>\n      <td>-1.0</td>\n    </tr>\n    <tr>\n      <th>26</th>\n      <td>z</td>\n      <td>1.118034</td>\n      <td>2.0</td>\n      <td>2</td>\n      <td>-0.318231</td>\n      <td>-0.302339</td>\n      <td>-0.740874</td>\n      <td>-0.939725</td>\n      <td>-0.302288</td>\n      <td>-0.293202</td>\n      <td>...</td>\n      <td>-0.642970</td>\n      <td>-0.898474</td>\n      <td>0.307220</td>\n      <td>0.326634</td>\n      <td>-1.0</td>\n      <td>-1.0</td>\n      <td>-1.0</td>\n      <td>-1.0</td>\n      <td>-1.0</td>\n      <td>-1.0</td>\n    </tr>\n    <tr>\n      <th>27</th>\n      <td></td>\n      <td>4.031129</td>\n      <td>3.0</td>\n      <td>3</td>\n      <td>-0.159617</td>\n      <td>-0.154432</td>\n      <td>-0.821499</td>\n      <td>-0.968070</td>\n      <td>-0.166154</td>\n      <td>-0.121125</td>\n      <td>...</td>\n      <td>-0.800410</td>\n      <td>-0.964268</td>\n      <td>0.145335</td>\n      <td>0.183078</td>\n      <td>-1.0</td>\n      <td>-1.0</td>\n      <td>-1.0</td>\n      <td>-1.0</td>\n      <td>-1.0</td>\n      <td>-1.0</td>\n    </tr>\n    <tr>\n      <th>28</th>\n      <td></td>\n      <td>4.031129</td>\n      <td>3.5</td>\n      <td>3</td>\n      <td>-0.159617</td>\n      <td>-0.154432</td>\n      <td>-0.821499</td>\n      <td>-0.968070</td>\n      <td>-0.166154</td>\n      <td>-0.121125</td>\n      <td>...</td>\n      <td>-0.800410</td>\n      <td>-0.964268</td>\n      <td>0.145335</td>\n      <td>0.183078</td>\n      <td>-1.0</td>\n      <td>-1.0</td>\n      <td>-1.0</td>\n      <td>-1.0</td>\n      <td>-1.0</td>\n      <td>-1.0</td>\n    </tr>\n    <tr>\n      <th>29</th>\n      <td></td>\n      <td>4.031129</td>\n      <td>4.0</td>\n      <td>3</td>\n      <td>-0.159617</td>\n      <td>-0.154432</td>\n      <td>-0.821499</td>\n      <td>-0.968070</td>\n      <td>-0.166154</td>\n      <td>-0.121125</td>\n      <td>...</td>\n      <td>-0.800410</td>\n      <td>-0.964268</td>\n      <td>0.145335</td>\n      <td>0.183078</td>\n      <td>-1.0</td>\n      <td>-1.0</td>\n      <td>-1.0</td>\n      <td>-1.0</td>\n      <td>-1.0</td>\n      <td>-1.0</td>\n    </tr>\n    <tr>\n      <th>30</th>\n      <td></td>\n      <td>4.031129</td>\n      <td>4.5</td>\n      <td>3</td>\n      <td>-0.159617</td>\n      <td>-0.154432</td>\n      <td>-0.821499</td>\n      <td>-0.968070</td>\n      <td>-0.166154</td>\n      <td>-0.121125</td>\n      <td>...</td>\n      <td>-0.800410</td>\n      <td>-0.964268</td>\n      <td>0.145335</td>\n      <td>0.183078</td>\n      <td>-1.0</td>\n      <td>-1.0</td>\n      <td>-1.0</td>\n      <td>-1.0</td>\n      <td>-1.0</td>\n      <td>-1.0</td>\n    </tr>\n    <tr>\n      <th>31</th>\n      <td></td>\n      <td>4.031129</td>\n      <td>5.5</td>\n      <td>3</td>\n      <td>-0.159617</td>\n      <td>-0.154432</td>\n      <td>-0.821499</td>\n      <td>-0.968070</td>\n      <td>-0.166154</td>\n      <td>-0.121125</td>\n      <td>...</td>\n      <td>-0.800410</td>\n      <td>-0.964268</td>\n      <td>0.145335</td>\n      <td>0.183078</td>\n      <td>-1.0</td>\n      <td>-1.0</td>\n      <td>-1.0</td>\n      <td>-1.0</td>\n      <td>-1.0</td>\n      <td>-1.0</td>\n    </tr>\n    <tr>\n      <th>32</th>\n      <td></td>\n      <td>4.031129</td>\n      <td>6.0</td>\n      <td>3</td>\n      <td>-0.159617</td>\n      <td>-0.154432</td>\n      <td>-0.821499</td>\n      <td>-0.968070</td>\n      <td>-0.166154</td>\n      <td>-0.121125</td>\n      <td>...</td>\n      <td>-0.800410</td>\n      <td>-0.964268</td>\n      <td>0.145335</td>\n      <td>0.183078</td>\n      <td>-1.0</td>\n      <td>-1.0</td>\n      <td>-1.0</td>\n      <td>-1.0</td>\n      <td>-1.0</td>\n      <td>-1.0</td>\n    </tr>\n    <tr>\n      <th>33</th>\n      <td></td>\n      <td>4.031129</td>\n      <td>6.5</td>\n      <td>3</td>\n      <td>-0.159617</td>\n      <td>-0.154432</td>\n      <td>-0.821499</td>\n      <td>-0.968070</td>\n      <td>-0.166154</td>\n      <td>-0.121125</td>\n      <td>...</td>\n      <td>-0.800410</td>\n      <td>-0.964268</td>\n      <td>0.145335</td>\n      <td>0.183078</td>\n      <td>-1.0</td>\n      <td>-1.0</td>\n      <td>-1.0</td>\n      <td>-1.0</td>\n      <td>-1.0</td>\n      <td>-1.0</td>\n    </tr>\n    <tr>\n      <th>34</th>\n      <td></td>\n      <td>4.031129</td>\n      <td>7.0</td>\n      <td>3</td>\n      <td>-0.159617</td>\n      <td>-0.154432</td>\n      <td>-0.821499</td>\n      <td>-0.968070</td>\n      <td>-0.166154</td>\n      <td>-0.121125</td>\n      <td>...</td>\n      <td>-0.800410</td>\n      <td>-0.964268</td>\n      <td>0.145335</td>\n      <td>0.183078</td>\n      <td>-1.0</td>\n      <td>-1.0</td>\n      <td>-1.0</td>\n      <td>-1.0</td>\n      <td>-1.0</td>\n      <td>-1.0</td>\n    </tr>\n  </tbody>\n</table>\n<p>35 rows × 280 columns</p>\n</div>"
     },
     "execution_count": 8,
     "metadata": {},
     "output_type": "execute_result"
    }
   ],
   "source": [
    "# PREPARE A DATAFRAME FOR HEATMAPS: MULTIPLY SPACES TO SHOW MULTIPLE BLOCKS\n",
    "\n",
    "df_heat = df_mean.copy()\n",
    "\n",
    "# Duplicate spaces\n",
    "space_x = df_heat['x'][0]\n",
    "row = df_heat.iloc[[0],]\n",
    "SPACEBAR_LEN = 9\n",
    "BLOCK_SIZE = 0.5\n",
    "for i in range(SPACEBAR_LEN):\n",
    "    new_block = space_x - (SPACEBAR_LEN - 1) / 2 * BLOCK_SIZE + i * BLOCK_SIZE\n",
    "    print(space_x, new_block)\n",
    "    if new_block == space_x:\n",
    "        continue\n",
    "\n",
    "    # append the other rows for spacebar draw\n",
    "    df_heat = df_heat.append(df_heat.loc[[0] * 1].assign(**{'x': new_block}), ignore_index=True) # 1 is the number of repeats\n",
    "\n",
    "df_heat"
   ],
   "metadata": {
    "collapsed": false,
    "pycharm": {
     "name": "#%%\n"
    }
   }
  },
  {
   "cell_type": "code",
   "execution_count": 9,
   "outputs": [
    {
     "data": {
      "text/plain": "<AxesSubplot:title={'center':'Title'}, xlabel='x', ylabel='y'>"
     },
     "execution_count": 9,
     "metadata": {},
     "output_type": "execute_result"
    },
    {
     "data": {
      "text/plain": "<Figure size 720x216 with 2 Axes>",
      "image/png": "[encoded data removed]"
     },
     "metadata": {
      "needs_background": "light"
     },
     "output_type": "display_data"
    }
   ],
   "source": [
    "#HEATMAP - INTERACTIVE\n",
    "\n",
    "labz = [\n",
    "    ['q','','w','','e','','r','','t','','y','','u','','i','','o','','p'],\n",
    "    ['','a','','s','','d','','f','','g','','h','','j','','k','','l',''],\n",
    "    ['','','z','','x','','c','','v','','b','','n','','m','','','',''],\n",
    "    ['','','','','','','','','space','','','','','','','','','','']\n",
    "]\n",
    "\n",
    "# in pivot: 'y' is the index of rows, 'x' index of columns and 'dist' the value\n",
    "_ = df_heat.pivot('y', 'x', 'dist') # <--- Change here 'dist' to the column you want\n",
    "plt.figure(figsize=(10,3))\n",
    "plt.axis('off')\n",
    "plt.title(\"Title\")\n",
    "sns.heatmap(_, annot=labz, fmt='', square=True, cbar_kws = dict(use_gridspec=False,location=\"bottom\"))"
   ],
   "metadata": {
    "collapsed": false,
    "pycharm": {
     "name": "#%%\n"
    }
   }
  },
  {
   "cell_type": "code",
   "execution_count": 13,
   "outputs": [],
   "source": [
    "#HEATMAP - GEN FILES\n",
    "\n",
    "take_out = ['x', 'y', 'dist', 'View']\n",
    "\n",
    "for col in df_heat.columns:\n",
    "    if col in take_out:\n",
    "        continue\n",
    "    _ = df_heat.pivot('y', 'x', col) # col takes all values of letters\n",
    "    plt.figure(figsize=(15,8))\n",
    "    plt.axis('off')\n",
    "    plt.title(\"Heatmap: \" + col)\n",
    "    sns.heatmap(_, annot=labz, fmt='', square=True, cbar_kws = dict(use_gridspec=False,location=\"bottom\"))\n",
    "    plt.savefig(\"C:\\\\Users\\\\giuli\\\\Desktop\\\\imageLeft\\\\heatmap\\\\\" + col + \"_heat.png\", bbox_inches='tight')\n",
    "    plt.close()"
   ],
   "metadata": {
    "collapsed": false,
    "pycharm": {
     "name": "#%%\n"
    }
   }
  },
  {
   "cell_type": "code",
   "execution_count": 12,
   "outputs": [],
   "source": [
    "from sklearn.model_selection import StratifiedShuffleSplit, GridSearchCV\n",
    "from matplotlib import pyplot\n",
    "from sklearn.ensemble import RandomForestClassifier\n",
    "from sklearn.naive_bayes import GaussianNB\n",
    "from sklearn.svm import SVC\n",
    "from sklearn.tree import DecisionTreeClassifier\n",
    "from sklearn.ensemble import AdaBoostClassifier, GradientBoostingClassifier\n",
    "from sklearn.linear_model import LogisticRegression\n",
    "from sklearn.neighbors import KNeighborsClassifier\n",
    "from sklearn import metrics\n",
    "from sklearn.model_selection import GridSearchCV"
   ],
   "metadata": {
    "collapsed": false,
    "pycharm": {
     "name": "#%%\n"
    }
   }
  },
  {
   "cell_type": "code",
   "execution_count": 13,
   "outputs": [],
   "source": [
    "# compare machine learning algorithms\n",
    "\n",
    "models = []\n",
    "models.append(('RFC', \"RandomForestClassifier\", RandomForestClassifier(n_estimators = 100, random_state = 42)))\n",
    "models.append(('NB', \"GaussianNB\", GaussianNB()))\n",
    "models.append(('SVM', \"SVC\", SVC(C=1.0, kernel='linear', gamma='auto', random_state=42)))\n",
    "models.append(('CART', \"DecisionTreeClassifier\", DecisionTreeClassifier(random_state=42)))\n",
    "models.append(('ADA', \"AdaBoostClassifier\", AdaBoostClassifier(n_estimators=500, learning_rate=0.1)))\n",
    "models.append(('LR', \"LogisticRegression\", LogisticRegression(solver='liblinear', random_state = 42)))\n",
    "models.append(('KNN', \"KNeighborsClassifier\", KNeighborsClassifier(weights='distance', n_neighbors=30, n_jobs=-1)))"
   ],
   "metadata": {
    "collapsed": false,
    "pycharm": {
     "name": "#%%\n"
    }
   }
  },
  {
   "cell_type": "code",
   "execution_count": 14,
   "outputs": [
    {
     "name": "stdout",
     "output_type": "stream",
     "text": [
      "(16762, 276) (16762,)\n",
      "Train: 11733 11733 Test: 5029 5029\n",
      "{' ': 812, 'a': 312, 'b': 70, 'c': 137, 'd': 137, 'e': 503, 'f': 89, 'g': 82, 'h': 151, 'i': 362, 'j': 69, 'k': 67, 'l': 149, 'm': 96, 'n': 238, 'o': 284, 'p': 123, 'q': 61, 'r': 198, 's': 219, 't': 290, 'u': 177, 'v': 70, 'w': 81, 'x': 65, 'y': 104, 'z': 83}\n",
      "RFC: 39.430000\n",
      "NB: 26.650000\n",
      "SVM: 41.360000\n",
      "CART: 25.670000\n",
      "ADA: 18.450000\n",
      "LR: 40.370000\n",
      "KNN: 37.070000\n"
     ]
    }
   ],
   "source": [
    "features = df.drop(['View','User','Hand', 'Smartphone', 'x', 'y','dist'], axis=1)\n",
    "feature_list = list(features.columns)\n",
    "\n",
    "# Convert to numpy array\n",
    "labels = np.array(df['View'])\n",
    "features = np.array(features)\n",
    "\n",
    "# print(features)\n",
    "# print(labels)\n",
    "\n",
    "print(features.shape, labels.shape)\n",
    "\n",
    "sss = StratifiedShuffleSplit(n_splits=1, test_size=0.3, random_state=0)\n",
    "for train_index, test_index in sss.split(features, labels):\n",
    "    X_train, X_test = features[train_index], features[test_index]\n",
    "    y_train, y_test = labels[train_index], labels[test_index]\n",
    "\n",
    "print(\"Train:\", len(X_train), len(y_train), \"Test:\", len(X_test), len(y_test))\n",
    "\n",
    "# print number of occurrences for each letters\n",
    "a, b = np.unique(y_test, return_counts=True)\n",
    "print(dict(zip(a, b)))\n",
    "\n",
    "# evaluate each model in turn\n",
    "results = []\n",
    "names = []\n",
    "hue = []\n",
    "predictions = []\n",
    "\n",
    "y_pred_result = []\n",
    "\n",
    "for name, full_name, model in models:\n",
    "\n",
    "    model.fit(X_train, y_train)\n",
    "    y_pred = model.predict(X_test)\n",
    "    accuracy = round(metrics.accuracy_score(y_test, y_pred) * 100, 2)\n",
    "\n",
    "    y_pred_result.append(y_pred)\n",
    "    predictions.append((full_name, y_pred))\n",
    "    results.append(accuracy)\n",
    "    names.append(name)\n",
    "    hue.append(full_name + \": \" + str(accuracy) + \"%\")\n",
    "\n",
    "    print('%s: %f' % (name, accuracy))"
   ],
   "metadata": {
    "collapsed": false,
    "pycharm": {
     "name": "#%%\n"
    }
   }
  },
  {
   "cell_type": "code",
   "execution_count": 16,
   "outputs": [],
   "source": [
    "# plot ACCURACY of ML Algorithm\n",
    "\n",
    "graphData = pd.DataFrame({'names':names,'results':results, 'algorithm':hue})\n",
    "fig = pyplot.figure(figsize=(24,14), dpi=100)\n",
    "pyplot.title('Accuracy', fontweight='bold')\n",
    "plt_bar = sns.barplot(x='names', y='results', data=graphData, hue='algorithm', dodge=False)\n",
    "pyplot.xlabel(\"algorithm\", fontweight='bold')\n",
    "pyplot.ylabel(\"accuracy\", fontweight='bold')\n",
    "plt.yticks(np.arange(0, 105, 5), fontsize=15)\n",
    "plt.xticks(fontsize=17)\n",
    "plt.setp(plt_bar.get_legend().get_texts(), fontsize='15') # for legend text\n",
    "plt.setp(plt_bar.get_legend().get_title(), fontsize='16', fontweight='bold') # for legend title\n",
    "pyplot.savefig(\"C:\\\\Users\\\\giuli\\\\Desktop\\\\imageLeft\\\\\" + \"accuracyLeft.png\",\n",
    "               bbox_inches='tight')\n",
    "# pyplot.show()\n",
    "pyplot.close()"
   ],
   "metadata": {
    "collapsed": false,
    "pycharm": {
     "name": "#%%\n"
    }
   }
  },
  {
   "cell_type": "code",
   "execution_count": null,
   "outputs": [],
   "source": [
    "# mod = AdaBoostClassifier()\n",
    "# # define the grid of values to search\n",
    "# grid = dict()\n",
    "# grid['n_estimators'] = [10, 50, 100, 500]\n",
    "# grid['learning_rate'] = [0.0001, 0.001, 0.01, 0.1, 1.0]\n",
    "# grid['algorithm'] = ['SAMME', 'SAMME.R']\n",
    "# # define the evaluation procedure\n",
    "# # define the grid search procedure\n",
    "# grid_search = GridSearchCV(estimator=mod, param_grid=grid, n_jobs=-1, cv=sss, scoring='accuracy')\n",
    "# # execute the grid search\n",
    "# grid_result = grid_search.fit(X_train, y_train)\n",
    "# # summarize the best score and configuration\n",
    "# print(\"Best: %f using %s\" % (grid_result.best_score_, grid_result.best_params_))\n",
    "\n",
    "# mod = SVC(probability=True, shrinking=False, gamma='auto', decision_function_shape='ovo', C=1.0, kernel='linear', random_state=42)\n",
    "# # define the grid of values to search\n",
    "# grid = dict()\n",
    "# # grid['C'] = [0.001, 0.01, 0.1, 1.0]\n",
    "# # grid['kernel'] = ['linear', 'rbf', 'sigmoid', 'poly']\n",
    "# # grid['degree'] = [3, 4, 5]\n",
    "# # grid['gamma'] = ['auto', 'scale']\n",
    "# # grid['shrinking'] = [True, False]\n",
    "# # grid['probability'] = [True, False]\n",
    "# # grid['decision_function_shape'] = ['ovo', 'ovr']\n",
    "# grid['break_ties'] = [True, False]\n",
    "# # define the evaluation procedure\n",
    "# # define the grid search procedure\n",
    "# grid_search = GridSearchCV(estimator=mod, param_grid=grid, n_jobs=-1, cv=sss, scoring='accuracy')\n",
    "# # execute the grid search\n",
    "# grid_result = grid_search.fit(X_train, y_train)\n",
    "# # summarize the best score and configuration\n",
    "# print(\"Best: %f using %s\" % (grid_result.best_score_, grid_result.best_params_))\n",
    "\n",
    "# mod = LogisticRegression(random_state=42, multi_class='auto')\n",
    "# # define the grid of values to search\n",
    "# grid = dict()\n",
    "# grid['C'] = [0.001, 0.01, 0.1, 1.0]\n",
    "# grid['solver'] = ['linear', 'newton-cg', 'lbfgs', 'saga']\n",
    "# # define the evaluation procedure\n",
    "# # define the grid search procedure\n",
    "# grid_search = GridSearchCV(estimator=mod, param_grid=grid, n_jobs=-1, cv=sss, scoring='accuracy')\n",
    "# # execute the grid search\n",
    "# grid_result = grid_search.fit(X_train, y_train)\n",
    "# # summarize the best score and configuration\n",
    "# print(\"Best: %f using %s\" % (grid_result.best_score_, grid_result.best_params_))\n",
    "\n",
    "# mod = DecisionTreeClassifier(random_state=42)\n",
    "# # define the grid of values to search\n",
    "# grid = dict()\n",
    "# grid['splitter'] = ['best', 'random']\n",
    "# grid['max_features'] = ['auto', 'sqrt', 'log2', None]\n",
    "# # define the evaluation procedure\n",
    "# # define the grid search procedure\n",
    "# grid_search = GridSearchCV(estimator=mod, param_grid=grid, n_jobs=-1, cv=sss, scoring='accuracy')\n",
    "# # execute the grid search\n",
    "# grid_result = grid_search.fit(X_train, y_train)\n",
    "# # summarize the best score and configuration\n",
    "# print(\"Best: %f using %s\" % (grid_result.best_score_, grid_result.best_params_))\n",
    "\n",
    "# mod = KNeighborsClassifier(n_jobs=-1)\n",
    "# # define the grid of values to search\n",
    "# grid = dict()\n",
    "# grid['n_neighbors'] = [5, 6, 7, 8, 9, 10, 11, 12, 13, 14, 15, 16, 17, 18, 19, 20,\n",
    "#                        21, 22, 23, 24, 25, 26, 27, 28, 29, 30, 31]\n",
    "# grid['weights'] = ['uniform', 'distance']\n",
    "# grid['algorithm'] = ['auto', 'ball_tree', 'kd_tree', 'brute']\n",
    "# # define the evaluation procedure\n",
    "# # define the grid search procedure\n",
    "# grid_search = GridSearchCV(estimator=mod, param_grid=grid, n_jobs=-1, cv=sss, scoring='accuracy')\n",
    "# # execute the grid search\n",
    "# grid_result = grid_search.fit(X_train, y_train)\n",
    "# # summarize the best score and configuration\n",
    "# print(\"Best: %f using %s\" % (grid_result.best_score_, grid_result.best_params_))"
   ],
   "metadata": {
    "collapsed": false,
    "pycharm": {
     "name": "#%%\n"
    }
   }
  },
  {
   "cell_type": "code",
   "execution_count": 29,
   "outputs": [
    {
     "data": {
      "text/plain": "<Figure size 1728x1008 with 1 Axes>",
      "image/png": "[encoded data removed]"
     },
     "metadata": {
      "needs_background": "light"
     },
     "output_type": "display_data"
    }
   ],
   "source": [
    "# mod = RandomForestClassifier(random_state=42)\n",
    "# # define the grid of values to search\n",
    "# grid = dict()\n",
    "# grid['n_estimators'] = [10, 50, 100, 500]\n",
    "# grid['min_samples_leaf'] = [1, 75]\n",
    "# # define the evaluation procedure\n",
    "# # define the grid search procedure\n",
    "# grid_search = GridSearchCV(estimator=mod, param_grid=grid, n_jobs=-1, cv=sss, scoring='accuracy')\n",
    "# # execute the grid search\n",
    "# grid_result = grid_search.fit(X_train, y_train)\n",
    "# # summarize the best score and configuration\n",
    "# print(\"Best: %f using %s\" % (grid_result.best_score_, grid_result.best_params_))"
   ],
   "metadata": {
    "collapsed": false,
    "pycharm": {
     "name": "#%%\n"
    }
   }
  },
  {
   "cell_type": "code",
   "execution_count": 17,
   "outputs": [],
   "source": [
    "from sklearn.metrics import confusion_matrix\n",
    "from sklearn.metrics import classification_report, f1_score"
   ],
   "metadata": {
    "collapsed": false,
    "pycharm": {
     "name": "#%%\n"
    }
   }
  },
  {
   "cell_type": "code",
   "execution_count": 17,
   "outputs": [],
   "source": [
    "\n",
    "idx = [17, 23, 1, 5, 19, 26, 18, 4, 24, 20, 6, 3, 25, 7, 22, 0, 21, 8, 2, 9, 10, 14, 15, 11, 13, 16, 12]\n",
    "\n",
    "labels_order = a[idx]\n",
    "\n",
    "ticklabels = [i for i in \"QWAESZRDXTFCYGV UHBIJNOKMPL\"]\n",
    "zip_labels = list(zip(idx, ticklabels))"
   ],
   "metadata": {
    "collapsed": false,
    "pycharm": {
     "name": "#%%\n"
    }
   }
  },
  {
   "cell_type": "code",
   "execution_count": 24,
   "outputs": [
    {
     "name": "stdout",
     "output_type": "stream",
     "text": [
      "RandomForestClassifier\n",
      "GaussianNB\n",
      "SVC\n",
      "DecisionTreeClassifier\n",
      "AdaBoostClassifier\n",
      "LogisticRegression\n",
      "KNeighborsClassifier\n"
     ]
    }
   ],
   "source": [
    "# plot CONFUSION MATRIX not scaled\n",
    "\n",
    "copy_conf = []\n",
    "\n",
    "for name, prediction in predictions:\n",
    "\n",
    "    c, d = np.unique(prediction, return_counts=True)\n",
    "    # print(dict(zip(c, d)))\n",
    "\n",
    "    conf_matrix = confusion_matrix(y_test, prediction, labels=labels_order)\n",
    "\n",
    "    copy_conf.append((name, conf_matrix))\n",
    "\n",
    "    print(name)\n",
    "\n",
    "    # number of letters for each rows\n",
    "    # print(name, list(map(sum, conf_matrix)))\n",
    "\n",
    "    # number of letters for each columns\n",
    "    # print(name, [sum(conf_matrix[:,i]) for i in range(27)])\n",
    "\n",
    "    df_cm = pd.DataFrame(conf_matrix, index = idx, columns = idx)\n",
    "\n",
    "    plt.figure(figsize = (24,14), dpi=100)\n",
    "    sns.set(font_scale=1)\n",
    "\n",
    "    sns.heatmap(df_cm, annot=True, yticklabels=zip_labels, xticklabels=ticklabels, annot_kws={\"fontsize\":10})\n",
    "\n",
    "    plt.title(\"confusion_matrix: \" + name, fontweight='bold')\n",
    "    plt.ylabel(\"actual\", fontweight='bold')\n",
    "    plt.xlabel(\"predicted\", fontweight='bold')\n",
    "\n",
    "    plt.savefig(\"C:\\\\Users\\\\giuli\\\\Desktop\\\\imageLeft\\\\confusion_matrix\\\\non scalati\\\\\" + name +\n",
    "                \"_confusion_matrix.png\", bbox_inches='tight')\n",
    "\n",
    "    plt.close()"
   ],
   "metadata": {
    "collapsed": false,
    "pycharm": {
     "name": "#%%\n"
    }
   }
  },
  {
   "cell_type": "code",
   "execution_count": 19,
   "outputs": [],
   "source": [
    "# plot CONFUSION MATRIX scaled\n",
    "\n",
    "copy_conf_scaled = []\n",
    "\n",
    "for name, prediction in predictions:\n",
    "\n",
    "    c, d = np.unique(prediction, return_counts=True)\n",
    "    # print(dict(zip(c, d)))\n",
    "\n",
    "    conf_matrix = confusion_matrix(y_test, prediction, labels=labels_order)\n",
    "\n",
    "    conf_scaled = (conf_matrix.astype(float)/conf_matrix.astype(float).sum(axis=1)[:, np.newaxis]) * 100\n",
    "\n",
    "    copy_conf_scaled.append((name, conf_scaled))\n",
    "\n",
    "    # print(name, list(map(sum, conf_scaled)))\n",
    "\n",
    "    df_cm = pd.DataFrame(conf_scaled, index = idx, columns = idx)\n",
    "\n",
    "    plt.figure(figsize = (24,14), dpi=100)\n",
    "    sns.set(font_scale=1)\n",
    "\n",
    "    sns.heatmap(df_cm, annot=True, yticklabels=zip_labels, xticklabels=ticklabels, annot_kws={\"fontsize\":10})\n",
    "\n",
    "    plt.title(\"confusion_matrix: \" + name, fontweight='bold')\n",
    "    plt.ylabel(\"actual\", fontweight='bold')\n",
    "    plt.xlabel(\"predicted\", fontweight='bold')\n",
    "\n",
    "    plt.savefig(\"C:\\\\Users\\\\giuli\\\\Desktop\\\\imageLeft\\\\confusion_matrix\\\\scalati\\\\\" + name +\n",
    "                \"_confusion_matrix.png\", bbox_inches='tight')\n",
    "\n",
    "    plt.close()"
   ],
   "metadata": {
    "collapsed": false,
    "pycharm": {
     "name": "#%%\n"
    }
   }
  },
  {
   "cell_type": "code",
   "execution_count": 20,
   "outputs": [
    {
     "name": "stderr",
     "output_type": "stream",
     "text": [
      "C:\\Users\\giuli\\AppData\\Local\\Temp/ipykernel_3936/1748257599.py:7: VisibleDeprecationWarning: Creating an ndarray from ragged nested sequences (which is a list-or-tuple of lists-or-tuples-or ndarrays with different lengths or shapes) is deprecated. If you meant to do this, you must specify 'dtype=object' when creating the ndarray.\n",
      "  nArr2D = np.array(copy_conf)\n"
     ]
    }
   ],
   "source": [
    "# keyboard = [('q', 0), ('w', 1), ('a', 1), ('e', 2), ('s', 2), ('z', 2), ('r', 3), ('d', 3), ('x', 3), ('t', 4), ('f', 4),\n",
    "#             ('c', 4), ('y', 5), ('g', 5), ('v', 5), (' ', 5), ('u', 6), ('h', 6), ('b', 6), ('i', 7), ('j', 7), ('n', 7),\n",
    "#             ('o', 8), ('k', 8), ('m', 8), ('p', 9), ('l', 9)]\n",
    "\n",
    "# distances of each letter from the others\n",
    "\n",
    "nArr2D = np.array(copy_conf)\n",
    "keyboard_q = [0, 1, 1, 2, 2, 2, 3, 3, 3, 4, 4, 4, 5, 5, 5, 4, 6, 6, 6, 7, 7, 7, 8, 8, 8, 9, 9]\n",
    "keyboard_w = [1, 0, 1, 1, 1, 2, 2, 2, 2, 3, 3, 3, 4, 4, 4, 3, 5, 5, 5, 6, 6, 6, 7, 7, 7, 8, 8]\n",
    "keyboard_a = [1, 1, 0, 2, 1, 1, 3, 2, 2, 4, 3, 3, 5, 4, 4, 3, 6, 5, 5, 7, 6, 6, 8, 7, 7, 9, 8]\n",
    "keyboard_e = [2, 1, 2, 0, 1, 2, 1, 1, 2, 2, 2, 2, 3, 3, 3, 3, 4, 4, 4, 5, 5, 5, 6, 6, 6, 7, 7]\n",
    "keyboard_s = [2, 1, 1, 1, 0, 1, 2, 1, 1, 3, 2, 2, 4, 3, 3, 2, 5, 4, 4, 6, 5, 5, 7, 6, 6, 8, 7]\n",
    "keyboard_z = [2, 2, 1, 2, 1, 0, 2, 1, 1, 3, 2, 2, 4, 3, 3, 2, 5, 4, 4, 6, 5, 5, 7, 6, 6, 8, 7]\n",
    "keyboard_r = [3, 2, 3, 1, 2, 2, 0, 1, 2, 1, 1, 2, 2, 2, 2, 3, 3, 3, 3, 4, 4, 4, 5, 5, 5, 6, 6]\n",
    "keyboard_d = [3, 2, 2, 1, 1, 1, 1, 0, 1, 2, 1, 1, 3, 2, 2, 2, 4, 3, 3, 5, 4, 4, 6, 5, 5, 7, 6]\n",
    "keyboard_x = [3, 2, 2, 2, 1, 1, 2, 1, 0, 2, 1, 1, 3, 2, 2, 1, 4, 3, 3, 5, 4, 4, 6, 5, 5, 7, 6]\n",
    "keyboard_t = [4, 3, 4, 2, 3, 3, 1, 2, 2, 0, 1, 2, 1, 1, 2, 3, 2, 2, 2, 3, 3, 3, 4, 4, 4, 5, 5]\n",
    "keyboard_f = [4, 3, 3, 2, 2, 2, 1, 1, 1, 1, 0, 1, 2, 1, 1, 2, 3, 2, 2, 4, 3, 3, 5, 4, 4, 6, 5]\n",
    "keyboard_c = [4, 3, 3, 2, 2, 2, 2, 1, 1, 2, 1, 0, 2, 1, 1, 1, 3, 2, 2, 4, 3, 3, 5, 4, 4, 6, 5]\n",
    "keyboard_y = [5, 4, 5, 3, 4, 4, 2, 3, 3, 1, 2, 2, 0, 1, 2, 3, 1, 1, 2, 2, 2, 2, 3, 3, 3, 4, 4]\n",
    "keyboard_g = [5, 4, 4, 3, 3, 3, 2, 2, 2, 1, 1, 1, 1, 0, 1, 2, 2, 1, 1, 3, 2, 2, 4, 3, 3, 5, 4]\n",
    "keyboard_v = [5, 4, 4, 3, 3, 3, 2, 2, 2, 2, 1, 1, 2, 1, 0, 1, 2, 1, 1, 3, 2, 2, 4, 3, 3, 5, 4]\n",
    "keyboard_  = [4, 3, 3, 3, 2, 2, 3, 2, 1, 3, 2, 1, 3, 2, 1, 0, 3, 2, 1, 3, 2, 1, 3, 2, 2, 4, 3]\n",
    "keyboard_u = [6, 5, 6, 4, 5, 5, 3, 4, 4, 2, 3, 3, 1, 2, 2, 3, 0, 1, 2, 1, 1, 2, 2, 2, 2, 3, 3]\n",
    "keyboard_h = [6, 5, 5, 4, 4, 4, 3, 3, 3, 2, 2, 2, 1, 1, 1, 2, 1, 0, 1, 2, 1, 1, 3, 2, 2, 4, 3]\n",
    "keyboard_b = [6, 5, 5, 4, 4, 4, 3, 3, 3, 2, 2, 2, 2, 1, 1, 1, 2, 1, 0, 2, 1, 1, 3, 2, 2, 4, 3]\n",
    "keyboard_i = [7, 6, 7, 5, 6, 6, 4, 5, 5, 3, 4, 4, 2, 3, 3, 3, 1, 2, 2, 0, 1, 2, 1, 1, 2, 2, 2]\n",
    "keyboard_j = [7, 6, 6, 5, 5, 5, 4, 4, 4, 3, 3, 3, 2, 2, 2, 2, 1, 1, 1, 1, 0, 1, 2, 1, 1, 3, 2]\n",
    "keyboard_n = [7, 6, 6, 5, 5, 5, 4, 4, 4, 3, 3, 3, 2, 2, 2, 1, 2, 1, 1, 2, 1, 0, 2, 1, 1, 3, 2]\n",
    "keyboard_o = [8, 7, 8, 6, 7, 7, 5, 6, 6, 4, 5, 5, 3, 4, 4, 3, 2, 3, 3, 1, 2, 2, 0, 1, 2, 1, 1]\n",
    "keyboard_k = [8, 7, 7, 6, 6, 6, 5, 5, 5, 4, 4, 4, 3, 3, 3, 2, 2, 2, 2, 1, 1, 1, 1, 0, 1, 2, 1]\n",
    "keyboard_m = [8, 7, 7, 6, 6, 6, 5, 5, 5, 4, 4, 4, 3, 3, 3, 2, 2, 2, 2, 2, 1, 1, 2, 1, 0, 2, 1]\n",
    "keyboard_p = [9, 8, 9, 7, 8, 8, 6, 7, 7, 5, 6, 6, 4, 5, 5, 4, 3, 4, 4, 2, 3, 3, 1, 2, 2, 0, 1]\n",
    "keyboard_l = [9, 8, 8, 7, 7, 7, 6, 6, 6, 5, 5, 5, 4, 4, 4, 3, 3, 3, 3, 2, 2, 2, 1, 1, 1, 1, 0]\n",
    "\n",
    "\n",
    "keyboard = [keyboard_q, keyboard_w, keyboard_a, keyboard_e, keyboard_s, keyboard_z, keyboard_r, keyboard_d, keyboard_x,\n",
    "            keyboard_t, keyboard_f, keyboard_c, keyboard_y, keyboard_g, keyboard_v, keyboard_, keyboard_u, keyboard_h,\n",
    "            keyboard_b, keyboard_i, keyboard_j, keyboard_n, keyboard_o, keyboard_k, keyboard_m, keyboard_p, keyboard_l]"
   ],
   "metadata": {
    "collapsed": false,
    "pycharm": {
     "name": "#%%\n"
    }
   }
  },
  {
   "cell_type": "code",
   "execution_count": 21,
   "outputs": [],
   "source": [
    "# create new matrix with distance\n",
    "\n",
    "def matrix_distance(m_distance):\n",
    "    actual = 0\n",
    "    row_conf = 0\n",
    "    new_matrix = []\n",
    "    matrix_to_return = []\n",
    "    indexes = []\n",
    "    summ = []\n",
    "\n",
    "    for name, c_matrix in m_distance:\n",
    "        for keyb in keyboard:\n",
    "            for i in range(0, max(keyb)+1):\n",
    "                for j in keyb:\n",
    "                    if i == j:\n",
    "                        indexes.append(actual)\n",
    "                    actual += 1\n",
    "\n",
    "                # print(indexes)\n",
    "                sum_values = sum(c_matrix[row_conf][indexes])\n",
    "                summ.append(sum_values)\n",
    "                indexes = []\n",
    "                actual = 0\n",
    "            row_conf += 1\n",
    "\n",
    "            new_matrix.append(summ)\n",
    "            summ = []\n",
    "\n",
    "        matrix_to_return.append((name, new_matrix))\n",
    "        new_matrix = []\n",
    "        row_conf = 0\n",
    "\n",
    "    return matrix_to_return\n",
    "\n",
    "\n",
    "# print(matrix_distance(copy_conf))"
   ],
   "metadata": {
    "collapsed": false,
    "pycharm": {
     "name": "#%%\n"
    }
   }
  },
  {
   "cell_type": "code",
   "execution_count": 22,
   "outputs": [],
   "source": [
    "# create plot of matrix with distance\n",
    "\n",
    "def create_plot_distance(copy_matrix, path_file):\n",
    "\n",
    "    for name_alg, matrix in matrix_distance(copy_matrix):\n",
    "\n",
    "        conf_matrix_distance = pd.DataFrame(matrix, index = idx, columns = range(0, 10))\n",
    "\n",
    "        plt.figure(figsize = (24,14), dpi=100)\n",
    "        sns.set(font_scale=1)\n",
    "\n",
    "        sns.heatmap(conf_matrix_distance, annot=True, yticklabels=zip_labels, xticklabels=range(0, 10), annot_kws={\"fontsize\":10}, fmt='.0f')\n",
    "\n",
    "        plt.title(name_alg + \"_distance\", fontweight='bold')\n",
    "        plt.ylabel(\"actual\", fontweight='bold')\n",
    "        plt.xlabel(\"distance\", fontweight='bold')\n",
    "\n",
    "        plt.savefig(\"C:\\\\Users\\\\giuli\\\\Desktop\\\\imageLeft\\\\confusion_matrix\\\\\" + path_file + \"\\\\\" + name_alg +\n",
    "                        \"_distance.png\", bbox_inches='tight')\n",
    "\n",
    "        plt.close()"
   ],
   "metadata": {
    "collapsed": false,
    "pycharm": {
     "name": "#%%\n"
    }
   }
  },
  {
   "cell_type": "code",
   "execution_count": 23,
   "outputs": [],
   "source": [
    "create_plot_distance(copy_conf, \"distanze non scalate\")\n",
    "create_plot_distance(copy_conf_scaled, \"distanze scalate\")"
   ],
   "metadata": {
    "collapsed": false,
    "pycharm": {
     "name": "#%%\n"
    }
   }
  },
  {
   "cell_type": "code",
   "execution_count": 20,
   "outputs": [
    {
     "name": "stdout",
     "output_type": "stream",
     "text": [
      "RandomForestClassifier\n"
     ]
    },
    {
     "name": "stderr",
     "output_type": "stream",
     "text": [
      "c:\\users\\giuli\\desktop\\pythontesi\\venv\\lib\\site-packages\\sklearn\\metrics\\_classification.py:1248: UndefinedMetricWarning: Precision and F-score are ill-defined and being set to 0.0 in labels with no predicted samples. Use `zero_division` parameter to control this behavior.\n",
      "  _warn_prf(average, modifier, msg_start, len(result))\n",
      "c:\\users\\giuli\\desktop\\pythontesi\\venv\\lib\\site-packages\\sklearn\\metrics\\_classification.py:1248: UndefinedMetricWarning: Precision and F-score are ill-defined and being set to 0.0 in labels with no predicted samples. Use `zero_division` parameter to control this behavior.\n",
      "  _warn_prf(average, modifier, msg_start, len(result))\n",
      "c:\\users\\giuli\\desktop\\pythontesi\\venv\\lib\\site-packages\\sklearn\\metrics\\_classification.py:1248: UndefinedMetricWarning: Precision and F-score are ill-defined and being set to 0.0 in labels with no predicted samples. Use `zero_division` parameter to control this behavior.\n",
      "  _warn_prf(average, modifier, msg_start, len(result))\n"
     ]
    },
    {
     "name": "stdout",
     "output_type": "stream",
     "text": [
      "GaussianNB\n",
      "SVC\n"
     ]
    },
    {
     "name": "stderr",
     "output_type": "stream",
     "text": [
      "c:\\users\\giuli\\desktop\\pythontesi\\venv\\lib\\site-packages\\sklearn\\metrics\\_classification.py:1248: UndefinedMetricWarning: Precision and F-score are ill-defined and being set to 0.0 in labels with no predicted samples. Use `zero_division` parameter to control this behavior.\n",
      "  _warn_prf(average, modifier, msg_start, len(result))\n",
      "c:\\users\\giuli\\desktop\\pythontesi\\venv\\lib\\site-packages\\sklearn\\metrics\\_classification.py:1248: UndefinedMetricWarning: Precision and F-score are ill-defined and being set to 0.0 in labels with no predicted samples. Use `zero_division` parameter to control this behavior.\n",
      "  _warn_prf(average, modifier, msg_start, len(result))\n",
      "c:\\users\\giuli\\desktop\\pythontesi\\venv\\lib\\site-packages\\sklearn\\metrics\\_classification.py:1248: UndefinedMetricWarning: Precision and F-score are ill-defined and being set to 0.0 in labels with no predicted samples. Use `zero_division` parameter to control this behavior.\n",
      "  _warn_prf(average, modifier, msg_start, len(result))\n"
     ]
    },
    {
     "name": "stdout",
     "output_type": "stream",
     "text": [
      "DecisionTreeClassifier\n",
      "AdaBoostClassifier\n"
     ]
    },
    {
     "name": "stderr",
     "output_type": "stream",
     "text": [
      "c:\\users\\giuli\\desktop\\pythontesi\\venv\\lib\\site-packages\\sklearn\\metrics\\_classification.py:1248: UndefinedMetricWarning: Precision and F-score are ill-defined and being set to 0.0 in labels with no predicted samples. Use `zero_division` parameter to control this behavior.\n",
      "  _warn_prf(average, modifier, msg_start, len(result))\n",
      "c:\\users\\giuli\\desktop\\pythontesi\\venv\\lib\\site-packages\\sklearn\\metrics\\_classification.py:1248: UndefinedMetricWarning: Precision and F-score are ill-defined and being set to 0.0 in labels with no predicted samples. Use `zero_division` parameter to control this behavior.\n",
      "  _warn_prf(average, modifier, msg_start, len(result))\n",
      "c:\\users\\giuli\\desktop\\pythontesi\\venv\\lib\\site-packages\\sklearn\\metrics\\_classification.py:1248: UndefinedMetricWarning: Precision and F-score are ill-defined and being set to 0.0 in labels with no predicted samples. Use `zero_division` parameter to control this behavior.\n",
      "  _warn_prf(average, modifier, msg_start, len(result))\n"
     ]
    },
    {
     "name": "stdout",
     "output_type": "stream",
     "text": [
      "LogisticRegression\n",
      "KNeighborsClassifier\n"
     ]
    },
    {
     "name": "stderr",
     "output_type": "stream",
     "text": [
      "c:\\users\\giuli\\desktop\\pythontesi\\venv\\lib\\site-packages\\sklearn\\metrics\\_classification.py:1248: UndefinedMetricWarning: Precision and F-score are ill-defined and being set to 0.0 in labels with no predicted samples. Use `zero_division` parameter to control this behavior.\n",
      "  _warn_prf(average, modifier, msg_start, len(result))\n",
      "c:\\users\\giuli\\desktop\\pythontesi\\venv\\lib\\site-packages\\sklearn\\metrics\\_classification.py:1248: UndefinedMetricWarning: Precision and F-score are ill-defined and being set to 0.0 in labels with no predicted samples. Use `zero_division` parameter to control this behavior.\n",
      "  _warn_prf(average, modifier, msg_start, len(result))\n",
      "c:\\users\\giuli\\desktop\\pythontesi\\venv\\lib\\site-packages\\sklearn\\metrics\\_classification.py:1248: UndefinedMetricWarning: Precision and F-score are ill-defined and being set to 0.0 in labels with no predicted samples. Use `zero_division` parameter to control this behavior.\n",
      "  _warn_prf(average, modifier, msg_start, len(result))\n"
     ]
    }
   ],
   "source": [
    "# plot F1-SCORE, PRECISION and RECALL\n",
    "\n",
    "alphabet = [' ', 'a', 'b', 'c', 'd', 'e', 'f', 'g', 'h', 'i', 'j', 'k', 'l', 'm', 'n', 'o', 'p',\n",
    "            'q', 'r', 's', 't', 'u', 'v', 'w', 'x', 'y', 'z']\n",
    "\n",
    "# set width of bars\n",
    "bar_width = 0.25\n",
    "\n",
    "for name, prediction in predictions:\n",
    "    print(name)\n",
    "    report = classification_report(y_test, prediction, output_dict=True)\n",
    "    data_report = pd.DataFrame(report).transpose()\n",
    "    precision = round(data_report.loc[:, 'precision'], 2)\n",
    "    recall = round(data_report.loc[:, 'recall'], 2)\n",
    "    f_score = round(data_report.loc[:, 'f1-score'], 2)\n",
    "    prec = precision.head(27)\n",
    "    rec = recall.head(27)\n",
    "    f = f_score.head(27)\n",
    "\n",
    "    # print(name, f1_score(y_test, prediction, average=None))\n",
    "\n",
    "    # Set position of bar on X axis\n",
    "    r1 = np.arange(27)\n",
    "    r2 = [xindex + bar_width for xindex in r1]\n",
    "    r3 = [xindex + bar_width for xindex in r2]\n",
    "\n",
    "    # Make the plot\n",
    "    plt.figure(figsize = (24,14), dpi=100)\n",
    "    plt.bar(r1, prec, width=bar_width, edgecolor='white', label='precision')\n",
    "    plt.bar(r2, rec, width=bar_width, edgecolor='white', label='recall')\n",
    "    plt.bar(r3, f, width=bar_width, edgecolor='white', label='f1-score')\n",
    "\n",
    "    # Add xticks and yticks on the middle of the group bars\n",
    "    # plt.xlabel('labels', fontweight='bold')\n",
    "    plt.title(\"Precision, Recall, F1 Score: \" + name, fontweight='bold')\n",
    "    plt.yticks(np.arange(0, 1.05, 0.05), fontsize=15)\n",
    "    plt.xticks([r + bar_width for r in range(27)], alphabet, fontsize=20)\n",
    "\n",
    "    # create legend, save graphic\n",
    "    plt.legend(prop={\"size\":20})\n",
    "\n",
    "    plt.savefig(\"C:\\\\Users\\\\giuli\\\\Desktop\\\\imageLeft\\\\f_score\\\\\" + name + \"_f_score.png\",\n",
    "                bbox_inches='tight')\n",
    "    plt.close()"
   ],
   "metadata": {
    "collapsed": false,
    "pycharm": {
     "name": "#%%\n"
    }
   }
  }
 ],
 "metadata": {
  "kernelspec": {
   "display_name": "Python 3",
   "language": "python",
   "name": "python3"
  },
  "language_info": {
   "codemirror_mode": {
    "name": "ipython",
    "version": 2
   },
   "file_extension": ".py",
   "mimetype": "text/x-python",
   "name": "python",
   "nbconvert_exporter": "python",
   "pygments_lexer": "ipython2",
   "version": "2.7.6"
  }
 },
 "nbformat": 4,
 "nbformat_minor": 0
}