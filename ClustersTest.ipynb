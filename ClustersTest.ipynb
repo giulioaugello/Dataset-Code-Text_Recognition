{
 "cells": [
  {
   "cell_type": "code",
   "execution_count": 1,
   "outputs": [],
   "source": [
    "import os\n",
    "import math\n",
    "\n",
    "import pandas as pd\n",
    "from numpy import arange, mean, std\n",
    "from sklearn import preprocessing\n",
    "import numpy as np\n",
    "\n",
    "import json"
   ],
   "metadata": {
    "collapsed": false,
    "pycharm": {
     "name": "#%%\n"
    }
   }
  },
  {
   "cell_type": "code",
   "execution_count": 2,
   "outputs": [
    {
     "data": {
      "text/plain": "         AxMean     AxMed     AxStd     AxVar     AxMax     AxMin    AyMean  \\\n0     -0.955980 -1.098000  0.909562  0.827302  0.271050 -2.202000  2.796702   \n1      0.582750  0.504000  0.497610  0.247616  1.228950 -0.115950  1.239209   \n2     -1.665956 -1.339950  0.780396  0.609017 -0.553950 -2.503950  2.015613   \n3     -0.068662 -0.181500  0.477223  0.227742  0.640050 -0.667050  1.617863   \n4      0.099825  0.120000  0.297081  0.088257  0.504000 -0.463050  1.194500   \n...         ...       ...       ...       ...       ...       ...       ...   \n25620 -1.753162 -1.707077  0.092171  0.008495 -1.707077 -1.891418  1.075600   \n25621  1.156399  1.051056  0.210686  0.044388  1.472427  1.051056  0.071224   \n25622 -0.220276 -0.220276  0.000000  0.000000 -0.220276 -0.220276  0.876282   \n25623 -0.143650 -0.095764  0.095772  0.009172 -0.095764 -0.287308  0.764942   \n25624 -0.229252 -0.244217  0.029930  0.000896 -0.184357 -0.244217  1.009148   \n\n          AyMed     AyStd     AyVar  ...  PreMean  PreMed  PreStd  PreVar  \\\n0      2.635050  0.343638  0.118087  ...      1.0     1.0     0.0     0.0   \n1      1.243950  0.195806  0.038340  ...      1.0     1.0     0.0     0.0   \n2      2.050950  0.320559  0.102758  ...      1.0     1.0     0.0     0.0   \n3      1.508550  0.337742  0.114069  ...      1.0     1.0     0.0     0.0   \n4      1.156500  0.209884  0.044051  ...      1.0     1.0     0.0     0.0   \n...         ...       ...       ...  ...      ...     ...     ...     ...   \n25620  1.108521  0.065842  0.004335  ...      1.0     1.0     0.0     0.0   \n25621  0.093369  0.044289  0.001961  ...      1.0     1.0     0.0     0.0   \n25622  0.876282  0.000000  0.000000  ...      1.0     1.0     0.0     0.0   \n25623  0.735016  0.059853  0.003582  ...      1.0     1.0     0.0     0.0   \n25624  1.060623  0.102951  0.010599  ...      1.0     1.0     0.0     0.0   \n\n       PreMax  PreMin  View    User   Hand      Smartphone  \n0         1.0     1.0     w  Biagio  RIGHT        REALME 7  \n1         1.0     1.0     h  Biagio  RIGHT        REALME 7  \n2         1.0     1.0     a  Biagio  RIGHT        REALME 7  \n3         1.0     1.0     t  Biagio  RIGHT        REALME 7  \n4         1.0     1.0        Biagio  RIGHT        REALME 7  \n...       ...     ...   ...     ...    ...             ...  \n25620     1.0     1.0     a  Giulio  RIGHT  ASUS ZENFONE 3  \n25621     1.0     1.0     l  Giulio  RIGHT  ASUS ZENFONE 3  \n25622     1.0     1.0     i  Giulio  RIGHT  ASUS ZENFONE 3  \n25623     1.0     1.0     t  Giulio  RIGHT  ASUS ZENFONE 3  \n25624     1.0     1.0     y  Giulio  RIGHT  ASUS ZENFONE 3  \n\n[25625 rows x 280 columns]",
      "text/html": "<div>\n<style scoped>\n    .dataframe tbody tr th:only-of-type {\n        vertical-align: middle;\n    }\n\n    .dataframe tbody tr th {\n        vertical-align: top;\n    }\n\n    .dataframe thead th {\n        text-align: right;\n    }\n</style>\n<table border=\"1\" class=\"dataframe\">\n  <thead>\n    <tr style=\"text-align: right;\">\n      <th></th>\n      <th>AxMean</th>\n      <th>AxMed</th>\n      <th>AxStd</th>\n      <th>AxVar</th>\n      <th>AxMax</th>\n      <th>AxMin</th>\n      <th>AyMean</th>\n      <th>AyMed</th>\n      <th>AyStd</th>\n      <th>AyVar</th>\n      <th>...</th>\n      <th>PreMean</th>\n      <th>PreMed</th>\n      <th>PreStd</th>\n      <th>PreVar</th>\n      <th>PreMax</th>\n      <th>PreMin</th>\n      <th>View</th>\n      <th>User</th>\n      <th>Hand</th>\n      <th>Smartphone</th>\n    </tr>\n  </thead>\n  <tbody>\n    <tr>\n      <th>0</th>\n      <td>-0.955980</td>\n      <td>-1.098000</td>\n      <td>0.909562</td>\n      <td>0.827302</td>\n      <td>0.271050</td>\n      <td>-2.202000</td>\n      <td>2.796702</td>\n      <td>2.635050</td>\n      <td>0.343638</td>\n      <td>0.118087</td>\n      <td>...</td>\n      <td>1.0</td>\n      <td>1.0</td>\n      <td>0.0</td>\n      <td>0.0</td>\n      <td>1.0</td>\n      <td>1.0</td>\n      <td>w</td>\n      <td>Biagio</td>\n      <td>RIGHT</td>\n      <td>REALME 7</td>\n    </tr>\n    <tr>\n      <th>1</th>\n      <td>0.582750</td>\n      <td>0.504000</td>\n      <td>0.497610</td>\n      <td>0.247616</td>\n      <td>1.228950</td>\n      <td>-0.115950</td>\n      <td>1.239209</td>\n      <td>1.243950</td>\n      <td>0.195806</td>\n      <td>0.038340</td>\n      <td>...</td>\n      <td>1.0</td>\n      <td>1.0</td>\n      <td>0.0</td>\n      <td>0.0</td>\n      <td>1.0</td>\n      <td>1.0</td>\n      <td>h</td>\n      <td>Biagio</td>\n      <td>RIGHT</td>\n      <td>REALME 7</td>\n    </tr>\n    <tr>\n      <th>2</th>\n      <td>-1.665956</td>\n      <td>-1.339950</td>\n      <td>0.780396</td>\n      <td>0.609017</td>\n      <td>-0.553950</td>\n      <td>-2.503950</td>\n      <td>2.015613</td>\n      <td>2.050950</td>\n      <td>0.320559</td>\n      <td>0.102758</td>\n      <td>...</td>\n      <td>1.0</td>\n      <td>1.0</td>\n      <td>0.0</td>\n      <td>0.0</td>\n      <td>1.0</td>\n      <td>1.0</td>\n      <td>a</td>\n      <td>Biagio</td>\n      <td>RIGHT</td>\n      <td>REALME 7</td>\n    </tr>\n    <tr>\n      <th>3</th>\n      <td>-0.068662</td>\n      <td>-0.181500</td>\n      <td>0.477223</td>\n      <td>0.227742</td>\n      <td>0.640050</td>\n      <td>-0.667050</td>\n      <td>1.617863</td>\n      <td>1.508550</td>\n      <td>0.337742</td>\n      <td>0.114069</td>\n      <td>...</td>\n      <td>1.0</td>\n      <td>1.0</td>\n      <td>0.0</td>\n      <td>0.0</td>\n      <td>1.0</td>\n      <td>1.0</td>\n      <td>t</td>\n      <td>Biagio</td>\n      <td>RIGHT</td>\n      <td>REALME 7</td>\n    </tr>\n    <tr>\n      <th>4</th>\n      <td>0.099825</td>\n      <td>0.120000</td>\n      <td>0.297081</td>\n      <td>0.088257</td>\n      <td>0.504000</td>\n      <td>-0.463050</td>\n      <td>1.194500</td>\n      <td>1.156500</td>\n      <td>0.209884</td>\n      <td>0.044051</td>\n      <td>...</td>\n      <td>1.0</td>\n      <td>1.0</td>\n      <td>0.0</td>\n      <td>0.0</td>\n      <td>1.0</td>\n      <td>1.0</td>\n      <td></td>\n      <td>Biagio</td>\n      <td>RIGHT</td>\n      <td>REALME 7</td>\n    </tr>\n    <tr>\n      <th>...</th>\n      <td>...</td>\n      <td>...</td>\n      <td>...</td>\n      <td>...</td>\n      <td>...</td>\n      <td>...</td>\n      <td>...</td>\n      <td>...</td>\n      <td>...</td>\n      <td>...</td>\n      <td>...</td>\n      <td>...</td>\n      <td>...</td>\n      <td>...</td>\n      <td>...</td>\n      <td>...</td>\n      <td>...</td>\n      <td>...</td>\n      <td>...</td>\n      <td>...</td>\n      <td>...</td>\n    </tr>\n    <tr>\n      <th>25620</th>\n      <td>-1.753162</td>\n      <td>-1.707077</td>\n      <td>0.092171</td>\n      <td>0.008495</td>\n      <td>-1.707077</td>\n      <td>-1.891418</td>\n      <td>1.075600</td>\n      <td>1.108521</td>\n      <td>0.065842</td>\n      <td>0.004335</td>\n      <td>...</td>\n      <td>1.0</td>\n      <td>1.0</td>\n      <td>0.0</td>\n      <td>0.0</td>\n      <td>1.0</td>\n      <td>1.0</td>\n      <td>a</td>\n      <td>Giulio</td>\n      <td>RIGHT</td>\n      <td>ASUS ZENFONE 3</td>\n    </tr>\n    <tr>\n      <th>25621</th>\n      <td>1.156399</td>\n      <td>1.051056</td>\n      <td>0.210686</td>\n      <td>0.044388</td>\n      <td>1.472427</td>\n      <td>1.051056</td>\n      <td>0.071224</td>\n      <td>0.093369</td>\n      <td>0.044289</td>\n      <td>0.001961</td>\n      <td>...</td>\n      <td>1.0</td>\n      <td>1.0</td>\n      <td>0.0</td>\n      <td>0.0</td>\n      <td>1.0</td>\n      <td>1.0</td>\n      <td>l</td>\n      <td>Giulio</td>\n      <td>RIGHT</td>\n      <td>ASUS ZENFONE 3</td>\n    </tr>\n    <tr>\n      <th>25622</th>\n      <td>-0.220276</td>\n      <td>-0.220276</td>\n      <td>0.000000</td>\n      <td>0.000000</td>\n      <td>-0.220276</td>\n      <td>-0.220276</td>\n      <td>0.876282</td>\n      <td>0.876282</td>\n      <td>0.000000</td>\n      <td>0.000000</td>\n      <td>...</td>\n      <td>1.0</td>\n      <td>1.0</td>\n      <td>0.0</td>\n      <td>0.0</td>\n      <td>1.0</td>\n      <td>1.0</td>\n      <td>i</td>\n      <td>Giulio</td>\n      <td>RIGHT</td>\n      <td>ASUS ZENFONE 3</td>\n    </tr>\n    <tr>\n      <th>25623</th>\n      <td>-0.143650</td>\n      <td>-0.095764</td>\n      <td>0.095772</td>\n      <td>0.009172</td>\n      <td>-0.095764</td>\n      <td>-0.287308</td>\n      <td>0.764942</td>\n      <td>0.735016</td>\n      <td>0.059853</td>\n      <td>0.003582</td>\n      <td>...</td>\n      <td>1.0</td>\n      <td>1.0</td>\n      <td>0.0</td>\n      <td>0.0</td>\n      <td>1.0</td>\n      <td>1.0</td>\n      <td>t</td>\n      <td>Giulio</td>\n      <td>RIGHT</td>\n      <td>ASUS ZENFONE 3</td>\n    </tr>\n    <tr>\n      <th>25624</th>\n      <td>-0.229252</td>\n      <td>-0.244217</td>\n      <td>0.029930</td>\n      <td>0.000896</td>\n      <td>-0.184357</td>\n      <td>-0.244217</td>\n      <td>1.009148</td>\n      <td>1.060623</td>\n      <td>0.102951</td>\n      <td>0.010599</td>\n      <td>...</td>\n      <td>1.0</td>\n      <td>1.0</td>\n      <td>0.0</td>\n      <td>0.0</td>\n      <td>1.0</td>\n      <td>1.0</td>\n      <td>y</td>\n      <td>Giulio</td>\n      <td>RIGHT</td>\n      <td>ASUS ZENFONE 3</td>\n    </tr>\n  </tbody>\n</table>\n<p>25625 rows × 280 columns</p>\n</div>"
     },
     "execution_count": 2,
     "metadata": {},
     "output_type": "execute_result"
    }
   ],
   "source": [
    "# import csv\n",
    "df = pd.read_csv(\"C:\\\\Users\\\\giuli\\\\Desktop\\\\new ds\\\\merged\\\\mergedFile.csv\")\n",
    "df\n",
    "# print(df.describe())"
   ],
   "metadata": {
    "collapsed": false,
    "pycharm": {
     "name": "#%%\n"
    }
   }
  },
  {
   "cell_type": "code",
   "execution_count": 3,
   "outputs": [],
   "source": [
    "# Normalization between -1 and 1\n",
    "df_norm = df.copy()\n",
    "\n",
    "notnorm = ['View','User', 'Hand', 'Smartphone']\n",
    "min_max_scaler = preprocessing.MinMaxScaler(feature_range=(-1,1))\n",
    "\n",
    "for col in list(df_norm.columns):\n",
    "    if col in notnorm:\n",
    "        continue\n",
    "    x = df_norm[[col]].values.astype(float) # cast to float\n",
    "    x_scaled = min_max_scaler.fit_transform(x) # fit data and transform it\n",
    "    df_norm[[col]] = x_scaled"
   ],
   "metadata": {
    "collapsed": false,
    "pycharm": {
     "name": "#%%\n"
    }
   }
  },
  {
   "cell_type": "code",
   "execution_count": 4,
   "outputs": [
    {
     "data": {
      "text/plain": "         AxMean     AxMed     AxStd     AxVar     AxMax     AxMin    AyMean  \\\n0      0.035564  0.050492 -0.246425 -0.716062  0.127137 -0.053982 -0.030285   \n1      0.418963  0.425894 -0.587728 -0.915016  0.347631  0.426174 -0.401803   \n2     -0.141338 -0.006206 -0.353439 -0.790980 -0.062766 -0.123483 -0.216603   \n3      0.256653  0.265258 -0.604619 -0.921837  0.212075  0.299325 -0.311481   \n4      0.298634  0.335910 -0.753867 -0.969709  0.180758  0.346281 -0.412468   \n...         ...       ...       ...       ...       ...       ...       ...   \n25620 -0.163067 -0.092236 -0.923636 -0.997084 -0.328200  0.017506 -0.440830   \n25621  0.561896  0.554088 -0.825446 -0.984765  0.403676  0.694790 -0.680409   \n25622  0.218876  0.256172 -1.000000 -1.000000  0.014041  0.402161 -0.488374   \n25623  0.237969  0.285349 -0.920653 -0.996852  0.042701  0.386732 -0.514933   \n25624  0.216640  0.250562 -0.975203 -0.999693  0.022309  0.396651 -0.456681   \n\n          AyMed     AyStd     AyVar  ...  PreMean  PreMed  PreStd  PreVar  \\\n0     -0.040270 -0.422755 -0.833394  ...      1.0     1.0    -1.0    -1.0   \n1     -0.365685 -0.671085 -0.945907  ...      1.0     1.0    -1.0    -1.0   \n2     -0.176906 -0.461523 -0.855021  ...      1.0     1.0    -1.0    -1.0   \n3     -0.303788 -0.432660 -0.839063  ...      1.0     1.0    -1.0    -1.0   \n4     -0.386142 -0.647436 -0.937849  ...      1.0     1.0    -1.0    -1.0   \n...         ...       ...       ...  ...      ...     ...     ...     ...   \n25620 -0.397365 -0.889399 -0.993884  ...      1.0     1.0    -1.0    -1.0   \n25621 -0.634836 -0.925604 -0.997233  ...      1.0     1.0    -1.0    -1.0   \n25622 -0.451692 -1.000000 -1.000000  ...      1.0     1.0    -1.0    -1.0   \n25623 -0.484738 -0.899459 -0.994946  ...      1.0     1.0    -1.0    -1.0   \n25624 -0.408570 -0.827062 -0.985046  ...      1.0     1.0    -1.0    -1.0   \n\n       PreMax  PreMin  View    User   Hand      Smartphone  \n0         1.0     1.0     w  Biagio  RIGHT        REALME 7  \n1         1.0     1.0     h  Biagio  RIGHT        REALME 7  \n2         1.0     1.0     a  Biagio  RIGHT        REALME 7  \n3         1.0     1.0     t  Biagio  RIGHT        REALME 7  \n4         1.0     1.0        Biagio  RIGHT        REALME 7  \n...       ...     ...   ...     ...    ...             ...  \n25620     1.0     1.0     a  Giulio  RIGHT  ASUS ZENFONE 3  \n25621     1.0     1.0     l  Giulio  RIGHT  ASUS ZENFONE 3  \n25622     1.0     1.0     i  Giulio  RIGHT  ASUS ZENFONE 3  \n25623     1.0     1.0     t  Giulio  RIGHT  ASUS ZENFONE 3  \n25624     1.0     1.0     y  Giulio  RIGHT  ASUS ZENFONE 3  \n\n[25625 rows x 280 columns]",
      "text/html": "<div>\n<style scoped>\n    .dataframe tbody tr th:only-of-type {\n        vertical-align: middle;\n    }\n\n    .dataframe tbody tr th {\n        vertical-align: top;\n    }\n\n    .dataframe thead th {\n        text-align: right;\n    }\n</style>\n<table border=\"1\" class=\"dataframe\">\n  <thead>\n    <tr style=\"text-align: right;\">\n      <th></th>\n      <th>AxMean</th>\n      <th>AxMed</th>\n      <th>AxStd</th>\n      <th>AxVar</th>\n      <th>AxMax</th>\n      <th>AxMin</th>\n      <th>AyMean</th>\n      <th>AyMed</th>\n      <th>AyStd</th>\n      <th>AyVar</th>\n      <th>...</th>\n      <th>PreMean</th>\n      <th>PreMed</th>\n      <th>PreStd</th>\n      <th>PreVar</th>\n      <th>PreMax</th>\n      <th>PreMin</th>\n      <th>View</th>\n      <th>User</th>\n      <th>Hand</th>\n      <th>Smartphone</th>\n    </tr>\n  </thead>\n  <tbody>\n    <tr>\n      <th>0</th>\n      <td>0.035564</td>\n      <td>0.050492</td>\n      <td>-0.246425</td>\n      <td>-0.716062</td>\n      <td>0.127137</td>\n      <td>-0.053982</td>\n      <td>-0.030285</td>\n      <td>-0.040270</td>\n      <td>-0.422755</td>\n      <td>-0.833394</td>\n      <td>...</td>\n      <td>1.0</td>\n      <td>1.0</td>\n      <td>-1.0</td>\n      <td>-1.0</td>\n      <td>1.0</td>\n      <td>1.0</td>\n      <td>w</td>\n      <td>Biagio</td>\n      <td>RIGHT</td>\n      <td>REALME 7</td>\n    </tr>\n    <tr>\n      <th>1</th>\n      <td>0.418963</td>\n      <td>0.425894</td>\n      <td>-0.587728</td>\n      <td>-0.915016</td>\n      <td>0.347631</td>\n      <td>0.426174</td>\n      <td>-0.401803</td>\n      <td>-0.365685</td>\n      <td>-0.671085</td>\n      <td>-0.945907</td>\n      <td>...</td>\n      <td>1.0</td>\n      <td>1.0</td>\n      <td>-1.0</td>\n      <td>-1.0</td>\n      <td>1.0</td>\n      <td>1.0</td>\n      <td>h</td>\n      <td>Biagio</td>\n      <td>RIGHT</td>\n      <td>REALME 7</td>\n    </tr>\n    <tr>\n      <th>2</th>\n      <td>-0.141338</td>\n      <td>-0.006206</td>\n      <td>-0.353439</td>\n      <td>-0.790980</td>\n      <td>-0.062766</td>\n      <td>-0.123483</td>\n      <td>-0.216603</td>\n      <td>-0.176906</td>\n      <td>-0.461523</td>\n      <td>-0.855021</td>\n      <td>...</td>\n      <td>1.0</td>\n      <td>1.0</td>\n      <td>-1.0</td>\n      <td>-1.0</td>\n      <td>1.0</td>\n      <td>1.0</td>\n      <td>a</td>\n      <td>Biagio</td>\n      <td>RIGHT</td>\n      <td>REALME 7</td>\n    </tr>\n    <tr>\n      <th>3</th>\n      <td>0.256653</td>\n      <td>0.265258</td>\n      <td>-0.604619</td>\n      <td>-0.921837</td>\n      <td>0.212075</td>\n      <td>0.299325</td>\n      <td>-0.311481</td>\n      <td>-0.303788</td>\n      <td>-0.432660</td>\n      <td>-0.839063</td>\n      <td>...</td>\n      <td>1.0</td>\n      <td>1.0</td>\n      <td>-1.0</td>\n      <td>-1.0</td>\n      <td>1.0</td>\n      <td>1.0</td>\n      <td>t</td>\n      <td>Biagio</td>\n      <td>RIGHT</td>\n      <td>REALME 7</td>\n    </tr>\n    <tr>\n      <th>4</th>\n      <td>0.298634</td>\n      <td>0.335910</td>\n      <td>-0.753867</td>\n      <td>-0.969709</td>\n      <td>0.180758</td>\n      <td>0.346281</td>\n      <td>-0.412468</td>\n      <td>-0.386142</td>\n      <td>-0.647436</td>\n      <td>-0.937849</td>\n      <td>...</td>\n      <td>1.0</td>\n      <td>1.0</td>\n      <td>-1.0</td>\n      <td>-1.0</td>\n      <td>1.0</td>\n      <td>1.0</td>\n      <td></td>\n      <td>Biagio</td>\n      <td>RIGHT</td>\n      <td>REALME 7</td>\n    </tr>\n    <tr>\n      <th>...</th>\n      <td>...</td>\n      <td>...</td>\n      <td>...</td>\n      <td>...</td>\n      <td>...</td>\n      <td>...</td>\n      <td>...</td>\n      <td>...</td>\n      <td>...</td>\n      <td>...</td>\n      <td>...</td>\n      <td>...</td>\n      <td>...</td>\n      <td>...</td>\n      <td>...</td>\n      <td>...</td>\n      <td>...</td>\n      <td>...</td>\n      <td>...</td>\n      <td>...</td>\n      <td>...</td>\n    </tr>\n    <tr>\n      <th>25620</th>\n      <td>-0.163067</td>\n      <td>-0.092236</td>\n      <td>-0.923636</td>\n      <td>-0.997084</td>\n      <td>-0.328200</td>\n      <td>0.017506</td>\n      <td>-0.440830</td>\n      <td>-0.397365</td>\n      <td>-0.889399</td>\n      <td>-0.993884</td>\n      <td>...</td>\n      <td>1.0</td>\n      <td>1.0</td>\n      <td>-1.0</td>\n      <td>-1.0</td>\n      <td>1.0</td>\n      <td>1.0</td>\n      <td>a</td>\n      <td>Giulio</td>\n      <td>RIGHT</td>\n      <td>ASUS ZENFONE 3</td>\n    </tr>\n    <tr>\n      <th>25621</th>\n      <td>0.561896</td>\n      <td>0.554088</td>\n      <td>-0.825446</td>\n      <td>-0.984765</td>\n      <td>0.403676</td>\n      <td>0.694790</td>\n      <td>-0.680409</td>\n      <td>-0.634836</td>\n      <td>-0.925604</td>\n      <td>-0.997233</td>\n      <td>...</td>\n      <td>1.0</td>\n      <td>1.0</td>\n      <td>-1.0</td>\n      <td>-1.0</td>\n      <td>1.0</td>\n      <td>1.0</td>\n      <td>l</td>\n      <td>Giulio</td>\n      <td>RIGHT</td>\n      <td>ASUS ZENFONE 3</td>\n    </tr>\n    <tr>\n      <th>25622</th>\n      <td>0.218876</td>\n      <td>0.256172</td>\n      <td>-1.000000</td>\n      <td>-1.000000</td>\n      <td>0.014041</td>\n      <td>0.402161</td>\n      <td>-0.488374</td>\n      <td>-0.451692</td>\n      <td>-1.000000</td>\n      <td>-1.000000</td>\n      <td>...</td>\n      <td>1.0</td>\n      <td>1.0</td>\n      <td>-1.0</td>\n      <td>-1.0</td>\n      <td>1.0</td>\n      <td>1.0</td>\n      <td>i</td>\n      <td>Giulio</td>\n      <td>RIGHT</td>\n      <td>ASUS ZENFONE 3</td>\n    </tr>\n    <tr>\n      <th>25623</th>\n      <td>0.237969</td>\n      <td>0.285349</td>\n      <td>-0.920653</td>\n      <td>-0.996852</td>\n      <td>0.042701</td>\n      <td>0.386732</td>\n      <td>-0.514933</td>\n      <td>-0.484738</td>\n      <td>-0.899459</td>\n      <td>-0.994946</td>\n      <td>...</td>\n      <td>1.0</td>\n      <td>1.0</td>\n      <td>-1.0</td>\n      <td>-1.0</td>\n      <td>1.0</td>\n      <td>1.0</td>\n      <td>t</td>\n      <td>Giulio</td>\n      <td>RIGHT</td>\n      <td>ASUS ZENFONE 3</td>\n    </tr>\n    <tr>\n      <th>25624</th>\n      <td>0.216640</td>\n      <td>0.250562</td>\n      <td>-0.975203</td>\n      <td>-0.999693</td>\n      <td>0.022309</td>\n      <td>0.396651</td>\n      <td>-0.456681</td>\n      <td>-0.408570</td>\n      <td>-0.827062</td>\n      <td>-0.985046</td>\n      <td>...</td>\n      <td>1.0</td>\n      <td>1.0</td>\n      <td>-1.0</td>\n      <td>-1.0</td>\n      <td>1.0</td>\n      <td>1.0</td>\n      <td>y</td>\n      <td>Giulio</td>\n      <td>RIGHT</td>\n      <td>ASUS ZENFONE 3</td>\n    </tr>\n  </tbody>\n</table>\n<p>25625 rows × 280 columns</p>\n</div>"
     },
     "execution_count": 4,
     "metadata": {},
     "output_type": "execute_result"
    }
   ],
   "source": [
    "df_norm.describe()\n",
    "df = df_norm\n",
    "df"
   ],
   "metadata": {
    "collapsed": false,
    "pycharm": {
     "name": "#%%\n"
    }
   }
  },
  {
   "cell_type": "code",
   "execution_count": 5,
   "outputs": [
    {
     "data": {
      "text/plain": "         AxMean     AxMed     AxStd     AxVar     AxMax     AxMin    AyMean  \\\n0      0.035564  0.050492 -0.246425 -0.716062  0.127137 -0.053982 -0.030285   \n1      0.418963  0.425894 -0.587728 -0.915016  0.347631  0.426174 -0.401803   \n2     -0.141338 -0.006206 -0.353439 -0.790980 -0.062766 -0.123483 -0.216603   \n3      0.256653  0.265258 -0.604619 -0.921837  0.212075  0.299325 -0.311481   \n4      0.298634  0.335910 -0.753867 -0.969709  0.180758  0.346281 -0.412468   \n...         ...       ...       ...       ...       ...       ...       ...   \n25620 -0.163067 -0.092236 -0.923636 -0.997084 -0.328200  0.017506 -0.440830   \n25621  0.561896  0.554088 -0.825446 -0.984765  0.403676  0.694790 -0.680409   \n25622  0.218876  0.256172 -1.000000 -1.000000  0.014041  0.402161 -0.488374   \n25623  0.237969  0.285349 -0.920653 -0.996852  0.042701  0.386732 -0.514933   \n25624  0.216640  0.250562 -0.975203 -0.999693  0.022309  0.396651 -0.456681   \n\n          AyMed     AyStd     AyVar  ...  PreVar  PreMax  PreMin  View  \\\n0     -0.040270 -0.422755 -0.833394  ...    -1.0     1.0     1.0     w   \n1     -0.365685 -0.671085 -0.945907  ...    -1.0     1.0     1.0     h   \n2     -0.176906 -0.461523 -0.855021  ...    -1.0     1.0     1.0     a   \n3     -0.303788 -0.432660 -0.839063  ...    -1.0     1.0     1.0     t   \n4     -0.386142 -0.647436 -0.937849  ...    -1.0     1.0     1.0         \n...         ...       ...       ...  ...     ...     ...     ...   ...   \n25620 -0.397365 -0.889399 -0.993884  ...    -1.0     1.0     1.0     a   \n25621 -0.634836 -0.925604 -0.997233  ...    -1.0     1.0     1.0     l   \n25622 -0.451692 -1.000000 -1.000000  ...    -1.0     1.0     1.0     i   \n25623 -0.484738 -0.899459 -0.994946  ...    -1.0     1.0     1.0     t   \n25624 -0.408570 -0.827062 -0.985046  ...    -1.0     1.0     1.0     y   \n\n         User   Hand      Smartphone    x  y      dist  \n0      Biagio  RIGHT        REALME 7  2.0  0  1.118034  \n1      Biagio  RIGHT        REALME 7  6.5  1  5.000000  \n2      Biagio  RIGHT        REALME 7  1.5  1  0.000000  \n3      Biagio  RIGHT        REALME 7  5.0  0  3.640055  \n4      Biagio  RIGHT        REALME 7  5.0  3  4.031129  \n...       ...    ...             ...  ... ..       ...  \n25620  Giulio  RIGHT  ASUS ZENFONE 3  1.5  1  0.000000  \n25621  Giulio  RIGHT  ASUS ZENFONE 3  9.5  1  8.000000  \n25622  Giulio  RIGHT  ASUS ZENFONE 3  8.0  0  6.576473  \n25623  Giulio  RIGHT  ASUS ZENFONE 3  5.0  0  3.640055  \n25624  Giulio  RIGHT  ASUS ZENFONE 3  6.0  0  4.609772  \n\n[25625 rows x 283 columns]",
      "text/html": "<div>\n<style scoped>\n    .dataframe tbody tr th:only-of-type {\n        vertical-align: middle;\n    }\n\n    .dataframe tbody tr th {\n        vertical-align: top;\n    }\n\n    .dataframe thead th {\n        text-align: right;\n    }\n</style>\n<table border=\"1\" class=\"dataframe\">\n  <thead>\n    <tr style=\"text-align: right;\">\n      <th></th>\n      <th>AxMean</th>\n      <th>AxMed</th>\n      <th>AxStd</th>\n      <th>AxVar</th>\n      <th>AxMax</th>\n      <th>AxMin</th>\n      <th>AyMean</th>\n      <th>AyMed</th>\n      <th>AyStd</th>\n      <th>AyVar</th>\n      <th>...</th>\n      <th>PreVar</th>\n      <th>PreMax</th>\n      <th>PreMin</th>\n      <th>View</th>\n      <th>User</th>\n      <th>Hand</th>\n      <th>Smartphone</th>\n      <th>x</th>\n      <th>y</th>\n      <th>dist</th>\n    </tr>\n  </thead>\n  <tbody>\n    <tr>\n      <th>0</th>\n      <td>0.035564</td>\n      <td>0.050492</td>\n      <td>-0.246425</td>\n      <td>-0.716062</td>\n      <td>0.127137</td>\n      <td>-0.053982</td>\n      <td>-0.030285</td>\n      <td>-0.040270</td>\n      <td>-0.422755</td>\n      <td>-0.833394</td>\n      <td>...</td>\n      <td>-1.0</td>\n      <td>1.0</td>\n      <td>1.0</td>\n      <td>w</td>\n      <td>Biagio</td>\n      <td>RIGHT</td>\n      <td>REALME 7</td>\n      <td>2.0</td>\n      <td>0</td>\n      <td>1.118034</td>\n    </tr>\n    <tr>\n      <th>1</th>\n      <td>0.418963</td>\n      <td>0.425894</td>\n      <td>-0.587728</td>\n      <td>-0.915016</td>\n      <td>0.347631</td>\n      <td>0.426174</td>\n      <td>-0.401803</td>\n      <td>-0.365685</td>\n      <td>-0.671085</td>\n      <td>-0.945907</td>\n      <td>...</td>\n      <td>-1.0</td>\n      <td>1.0</td>\n      <td>1.0</td>\n      <td>h</td>\n      <td>Biagio</td>\n      <td>RIGHT</td>\n      <td>REALME 7</td>\n      <td>6.5</td>\n      <td>1</td>\n      <td>5.000000</td>\n    </tr>\n    <tr>\n      <th>2</th>\n      <td>-0.141338</td>\n      <td>-0.006206</td>\n      <td>-0.353439</td>\n      <td>-0.790980</td>\n      <td>-0.062766</td>\n      <td>-0.123483</td>\n      <td>-0.216603</td>\n      <td>-0.176906</td>\n      <td>-0.461523</td>\n      <td>-0.855021</td>\n      <td>...</td>\n      <td>-1.0</td>\n      <td>1.0</td>\n      <td>1.0</td>\n      <td>a</td>\n      <td>Biagio</td>\n      <td>RIGHT</td>\n      <td>REALME 7</td>\n      <td>1.5</td>\n      <td>1</td>\n      <td>0.000000</td>\n    </tr>\n    <tr>\n      <th>3</th>\n      <td>0.256653</td>\n      <td>0.265258</td>\n      <td>-0.604619</td>\n      <td>-0.921837</td>\n      <td>0.212075</td>\n      <td>0.299325</td>\n      <td>-0.311481</td>\n      <td>-0.303788</td>\n      <td>-0.432660</td>\n      <td>-0.839063</td>\n      <td>...</td>\n      <td>-1.0</td>\n      <td>1.0</td>\n      <td>1.0</td>\n      <td>t</td>\n      <td>Biagio</td>\n      <td>RIGHT</td>\n      <td>REALME 7</td>\n      <td>5.0</td>\n      <td>0</td>\n      <td>3.640055</td>\n    </tr>\n    <tr>\n      <th>4</th>\n      <td>0.298634</td>\n      <td>0.335910</td>\n      <td>-0.753867</td>\n      <td>-0.969709</td>\n      <td>0.180758</td>\n      <td>0.346281</td>\n      <td>-0.412468</td>\n      <td>-0.386142</td>\n      <td>-0.647436</td>\n      <td>-0.937849</td>\n      <td>...</td>\n      <td>-1.0</td>\n      <td>1.0</td>\n      <td>1.0</td>\n      <td></td>\n      <td>Biagio</td>\n      <td>RIGHT</td>\n      <td>REALME 7</td>\n      <td>5.0</td>\n      <td>3</td>\n      <td>4.031129</td>\n    </tr>\n    <tr>\n      <th>...</th>\n      <td>...</td>\n      <td>...</td>\n      <td>...</td>\n      <td>...</td>\n      <td>...</td>\n      <td>...</td>\n      <td>...</td>\n      <td>...</td>\n      <td>...</td>\n      <td>...</td>\n      <td>...</td>\n      <td>...</td>\n      <td>...</td>\n      <td>...</td>\n      <td>...</td>\n      <td>...</td>\n      <td>...</td>\n      <td>...</td>\n      <td>...</td>\n      <td>...</td>\n      <td>...</td>\n    </tr>\n    <tr>\n      <th>25620</th>\n      <td>-0.163067</td>\n      <td>-0.092236</td>\n      <td>-0.923636</td>\n      <td>-0.997084</td>\n      <td>-0.328200</td>\n      <td>0.017506</td>\n      <td>-0.440830</td>\n      <td>-0.397365</td>\n      <td>-0.889399</td>\n      <td>-0.993884</td>\n      <td>...</td>\n      <td>-1.0</td>\n      <td>1.0</td>\n      <td>1.0</td>\n      <td>a</td>\n      <td>Giulio</td>\n      <td>RIGHT</td>\n      <td>ASUS ZENFONE 3</td>\n      <td>1.5</td>\n      <td>1</td>\n      <td>0.000000</td>\n    </tr>\n    <tr>\n      <th>25621</th>\n      <td>0.561896</td>\n      <td>0.554088</td>\n      <td>-0.825446</td>\n      <td>-0.984765</td>\n      <td>0.403676</td>\n      <td>0.694790</td>\n      <td>-0.680409</td>\n      <td>-0.634836</td>\n      <td>-0.925604</td>\n      <td>-0.997233</td>\n      <td>...</td>\n      <td>-1.0</td>\n      <td>1.0</td>\n      <td>1.0</td>\n      <td>l</td>\n      <td>Giulio</td>\n      <td>RIGHT</td>\n      <td>ASUS ZENFONE 3</td>\n      <td>9.5</td>\n      <td>1</td>\n      <td>8.000000</td>\n    </tr>\n    <tr>\n      <th>25622</th>\n      <td>0.218876</td>\n      <td>0.256172</td>\n      <td>-1.000000</td>\n      <td>-1.000000</td>\n      <td>0.014041</td>\n      <td>0.402161</td>\n      <td>-0.488374</td>\n      <td>-0.451692</td>\n      <td>-1.000000</td>\n      <td>-1.000000</td>\n      <td>...</td>\n      <td>-1.0</td>\n      <td>1.0</td>\n      <td>1.0</td>\n      <td>i</td>\n      <td>Giulio</td>\n      <td>RIGHT</td>\n      <td>ASUS ZENFONE 3</td>\n      <td>8.0</td>\n      <td>0</td>\n      <td>6.576473</td>\n    </tr>\n    <tr>\n      <th>25623</th>\n      <td>0.237969</td>\n      <td>0.285349</td>\n      <td>-0.920653</td>\n      <td>-0.996852</td>\n      <td>0.042701</td>\n      <td>0.386732</td>\n      <td>-0.514933</td>\n      <td>-0.484738</td>\n      <td>-0.899459</td>\n      <td>-0.994946</td>\n      <td>...</td>\n      <td>-1.0</td>\n      <td>1.0</td>\n      <td>1.0</td>\n      <td>t</td>\n      <td>Giulio</td>\n      <td>RIGHT</td>\n      <td>ASUS ZENFONE 3</td>\n      <td>5.0</td>\n      <td>0</td>\n      <td>3.640055</td>\n    </tr>\n    <tr>\n      <th>25624</th>\n      <td>0.216640</td>\n      <td>0.250562</td>\n      <td>-0.975203</td>\n      <td>-0.999693</td>\n      <td>0.022309</td>\n      <td>0.396651</td>\n      <td>-0.456681</td>\n      <td>-0.408570</td>\n      <td>-0.827062</td>\n      <td>-0.985046</td>\n      <td>...</td>\n      <td>-1.0</td>\n      <td>1.0</td>\n      <td>1.0</td>\n      <td>y</td>\n      <td>Giulio</td>\n      <td>RIGHT</td>\n      <td>ASUS ZENFONE 3</td>\n      <td>6.0</td>\n      <td>0</td>\n      <td>4.609772</td>\n    </tr>\n  </tbody>\n</table>\n<p>25625 rows × 283 columns</p>\n</div>"
     },
     "execution_count": 5,
     "metadata": {},
     "output_type": "execute_result"
    }
   ],
   "source": [
    "# add letters\n",
    "letters = [\"a\",\"b\",\"c\",\"d\",\"e\",\"f\",\"g\",\"h\",\"i\",\"j\",\"k\",\"l\",\"m\",\"n\",\"o\",\"p\",\"q\",\"r\",\"s\",\"t\",\"u\",\"v\",\"w\",\"x\",\"y\",\"z\",\" \"]\n",
    "# add distances from left margin (xAxis) and top margin (yAxis) (start from 1)\n",
    "yAxis = [ 1,  2,  2,  1,  0,  1,  1,  1,  0,  1,  1,  1,  2,  2,  0,  0,  0,  0,  1,  0,  0,  2,  0,  2,  0,  2, 3]\n",
    "xAxis =[ 1.5,  6,  4,  3.5,  3,  4.5,  5.5, 6.5,  8,  7.5, 8.5,  9.5,  8,  7,  9,  10,  1,  4,  2.5,  5,  7,  5,  2,  3,  6,  2, 5]\n",
    "\n",
    "# pair of distances for letters\n",
    "dict_letters = {}\n",
    "for i, let in enumerate(letters):\n",
    "    dict_letters[let] = (xAxis[i], yAxis[i])\n",
    "\n",
    "center = \"a\"\n",
    "dict_dist = {}\n",
    "for let in letters:\n",
    "    dict_dist[let] = math.sqrt((dict_letters[center][0] - dict_letters[let][0])**2 + (dict_letters[center][1] - dict_letters[let][1])**2)\n",
    "\n",
    "# write in df distances and dist from center\n",
    "df.loc[:,'x'] = df.apply(lambda x: dict_letters[x['View']][0], axis=1)\n",
    "df.loc[:,'y'] = df.apply(lambda x: dict_letters[x['View']][1], axis=1)\n",
    "df.loc[:,'dist'] = df.apply(lambda x: dict_dist[x['View']], axis=1)\n",
    "df"
   ],
   "metadata": {
    "collapsed": false,
    "pycharm": {
     "name": "#%%\n"
    }
   }
  },
  {
   "cell_type": "code",
   "execution_count": 6,
   "outputs": [
    {
     "data": {
      "text/plain": "   View      dist     x  y    AxMean     AxMed     AxStd     AxVar     AxMax  \\\n0        4.031129   5.0  3  0.263204  0.296761 -0.746812 -0.953980  0.153360   \n1     a  0.000000   1.5  1 -0.158803 -0.102414 -0.562209 -0.852578 -0.165842   \n2     b  4.609772   6.0  2  0.259733  0.294619 -0.751112 -0.953407  0.142498   \n3     c  2.692582   4.0  2  0.176625  0.217678 -0.701008 -0.926940  0.089153   \n4     d  2.000000   3.5  1  0.066985  0.114844 -0.686925 -0.921824 -0.008257   \n5     e  1.802776   3.0  0 -0.023094  0.028453 -0.655597 -0.903264 -0.083387   \n6     f  3.000000   4.5  1  0.108786  0.152744 -0.727190 -0.938727  0.012964   \n7     g  4.000000   5.5  1  0.147901  0.191665 -0.720540 -0.940661  0.052033   \n8     h  5.000000   6.5  1  0.241819  0.277230 -0.748850 -0.951136  0.126884   \n9     i  6.576473   8.0  0  0.255855  0.290744 -0.740584 -0.949152  0.147189   \n10    j  6.000000   7.5  1  0.272473  0.309670 -0.755372 -0.956453  0.149772   \n11    k  7.000000   8.5  1  0.339304  0.369111 -0.727644 -0.945306  0.225544   \n12    l  8.000000   9.5  1  0.382233  0.405073 -0.638259 -0.906771  0.306763   \n13    m  6.576473   8.0  2  0.389207  0.418690 -0.707943 -0.937793  0.278708   \n14    n  5.590170   7.0  2  0.331634  0.362837 -0.743480 -0.951985  0.213202   \n15    o  7.566373   9.0  0  0.286624  0.319884 -0.733715 -0.947680  0.179723   \n16    p  8.558621  10.0  0  0.371898  0.392885 -0.601324 -0.892655  0.319657   \n17    q  1.118034   1.0  0 -0.264526 -0.198774 -0.531499 -0.839556 -0.256962   \n18    r  2.692582   4.0  0  0.069555  0.116442 -0.704776 -0.931194 -0.012913   \n19    s  1.000000   2.5  1 -0.006690  0.040577 -0.628584 -0.887011 -0.051007   \n20    t  3.640055   5.0  0  0.116050  0.163092 -0.724649 -0.940552  0.018509   \n21    u  5.590170   7.0  0  0.217092  0.254366 -0.722287 -0.941304  0.113238   \n22    v  3.640055   5.0  2  0.216043  0.255153 -0.725401 -0.945603  0.113690   \n23    w  1.118034   2.0  0 -0.123910 -0.070142 -0.526372 -0.828295 -0.125490   \n24    x  1.802776   3.0  2  0.118531  0.163655 -0.692257 -0.921865  0.037162   \n25    y  4.609772   6.0  0  0.171649  0.210967 -0.737031 -0.944728  0.064431   \n26    z  1.118034   2.0  2  0.023697  0.075727 -0.653561 -0.901157 -0.035312   \n\n       AxMin  ...  GrPitchStd  GrPitchVar  GrPitchMax  GrPitchMin   PreMean  \\\n0   0.343680  ...   -0.774955   -0.954829   -0.167063   -0.119677  0.344867   \n1  -0.113848  ...   -0.673249   -0.907875    0.282449    0.283081  0.374189   \n2   0.344963  ...   -0.827397   -0.969894   -0.172722   -0.112642  0.331312   \n3   0.239879  ...   -0.789811   -0.959105   -0.081256   -0.038746  0.361868   \n4   0.134961  ...   -0.754170   -0.944572    0.036505    0.063000  0.371255   \n5   0.042347  ...   -0.721175   -0.929613    0.131097    0.146652  0.342579   \n6   0.192386  ...   -0.774333   -0.950961   -0.018478    0.018350  0.351042   \n7   0.223479  ...   -0.791777   -0.958728   -0.042781    0.000280  0.374867   \n8   0.324900  ...   -0.816898   -0.968289   -0.146433   -0.090606  0.378174   \n9   0.335956  ...   -0.816679   -0.967333   -0.174606   -0.119239  0.362228   \n10  0.357694  ...   -0.833686   -0.973050   -0.186007   -0.125157  0.405134   \n11  0.408772  ...   -0.800661   -0.954912   -0.262451   -0.206437  0.376719   \n12  0.417367  ...   -0.745010   -0.936543   -0.322365   -0.275522  0.319872   \n13  0.442163  ...   -0.805700   -0.961176   -0.321530   -0.262477  0.388432   \n14  0.403625  ...   -0.804161   -0.960631   -0.251065   -0.193773  0.382777   \n15  0.362403  ...   -0.785088   -0.958472   -0.213353   -0.162598  0.351025   \n16  0.391443  ...   -0.697584   -0.923587   -0.308737   -0.274732  0.336231   \n17 -0.221133  ...   -0.645388   -0.888733    0.401593    0.395122  0.344465   \n18  0.141925  ...   -0.747409   -0.943475    0.035223    0.063408  0.352901   \n19  0.048894  ...   -0.738408   -0.937212    0.113424    0.131729  0.348505   \n20  0.190351  ...   -0.772339   -0.952973   -0.012277    0.025682  0.325021   \n21  0.293188  ...   -0.791973   -0.949892   -0.126995   -0.076215  0.311063   \n22  0.291929  ...   -0.823008   -0.971734   -0.123508   -0.068384  0.377762   \n23 -0.095749  ...   -0.659208   -0.906468    0.242984    0.242556  0.373852   \n24  0.184497  ...   -0.766687   -0.950972   -0.012482    0.022255  0.415190   \n25  0.256416  ...   -0.820402   -0.966527   -0.077335   -0.022922  0.332406   \n26  0.082856  ...   -0.751571   -0.944376    0.091066    0.115010  0.365227   \n\n      PreMed  PreStd  PreVar    PreMax    PreMin  \n0   0.344867    -1.0    -1.0  0.344867  0.344867  \n1   0.374189    -1.0    -1.0  0.374189  0.374189  \n2   0.331312    -1.0    -1.0  0.331312  0.331312  \n3   0.361868    -1.0    -1.0  0.361868  0.361868  \n4   0.371255    -1.0    -1.0  0.371255  0.371255  \n5   0.342579    -1.0    -1.0  0.342579  0.342579  \n6   0.351042    -1.0    -1.0  0.351042  0.351042  \n7   0.374867    -1.0    -1.0  0.374867  0.374867  \n8   0.378174    -1.0    -1.0  0.378174  0.378174  \n9   0.362228    -1.0    -1.0  0.362228  0.362228  \n10  0.405134    -1.0    -1.0  0.405134  0.405134  \n11  0.376719    -1.0    -1.0  0.376719  0.376719  \n12  0.319872    -1.0    -1.0  0.319872  0.319872  \n13  0.388432    -1.0    -1.0  0.388432  0.388432  \n14  0.382777    -1.0    -1.0  0.382777  0.382777  \n15  0.351025    -1.0    -1.0  0.351025  0.351025  \n16  0.336231    -1.0    -1.0  0.336231  0.336231  \n17  0.344465    -1.0    -1.0  0.344465  0.344465  \n18  0.352901    -1.0    -1.0  0.352901  0.352901  \n19  0.348505    -1.0    -1.0  0.348505  0.348505  \n20  0.325021    -1.0    -1.0  0.325021  0.325021  \n21  0.311063    -1.0    -1.0  0.311063  0.311063  \n22  0.377762    -1.0    -1.0  0.377762  0.377762  \n23  0.373852    -1.0    -1.0  0.373852  0.373852  \n24  0.415190    -1.0    -1.0  0.415190  0.415190  \n25  0.332406    -1.0    -1.0  0.332406  0.332406  \n26  0.365227    -1.0    -1.0  0.365227  0.365227  \n\n[27 rows x 280 columns]",
      "text/html": "<div>\n<style scoped>\n    .dataframe tbody tr th:only-of-type {\n        vertical-align: middle;\n    }\n\n    .dataframe tbody tr th {\n        vertical-align: top;\n    }\n\n    .dataframe thead th {\n        text-align: right;\n    }\n</style>\n<table border=\"1\" class=\"dataframe\">\n  <thead>\n    <tr style=\"text-align: right;\">\n      <th></th>\n      <th>View</th>\n      <th>dist</th>\n      <th>x</th>\n      <th>y</th>\n      <th>AxMean</th>\n      <th>AxMed</th>\n      <th>AxStd</th>\n      <th>AxVar</th>\n      <th>AxMax</th>\n      <th>AxMin</th>\n      <th>...</th>\n      <th>GrPitchStd</th>\n      <th>GrPitchVar</th>\n      <th>GrPitchMax</th>\n      <th>GrPitchMin</th>\n      <th>PreMean</th>\n      <th>PreMed</th>\n      <th>PreStd</th>\n      <th>PreVar</th>\n      <th>PreMax</th>\n      <th>PreMin</th>\n    </tr>\n  </thead>\n  <tbody>\n    <tr>\n      <th>0</th>\n      <td></td>\n      <td>4.031129</td>\n      <td>5.0</td>\n      <td>3</td>\n      <td>0.263204</td>\n      <td>0.296761</td>\n      <td>-0.746812</td>\n      <td>-0.953980</td>\n      <td>0.153360</td>\n      <td>0.343680</td>\n      <td>...</td>\n      <td>-0.774955</td>\n      <td>-0.954829</td>\n      <td>-0.167063</td>\n      <td>-0.119677</td>\n      <td>0.344867</td>\n      <td>0.344867</td>\n      <td>-1.0</td>\n      <td>-1.0</td>\n      <td>0.344867</td>\n      <td>0.344867</td>\n    </tr>\n    <tr>\n      <th>1</th>\n      <td>a</td>\n      <td>0.000000</td>\n      <td>1.5</td>\n      <td>1</td>\n      <td>-0.158803</td>\n      <td>-0.102414</td>\n      <td>-0.562209</td>\n      <td>-0.852578</td>\n      <td>-0.165842</td>\n      <td>-0.113848</td>\n      <td>...</td>\n      <td>-0.673249</td>\n      <td>-0.907875</td>\n      <td>0.282449</td>\n      <td>0.283081</td>\n      <td>0.374189</td>\n      <td>0.374189</td>\n      <td>-1.0</td>\n      <td>-1.0</td>\n      <td>0.374189</td>\n      <td>0.374189</td>\n    </tr>\n    <tr>\n      <th>2</th>\n      <td>b</td>\n      <td>4.609772</td>\n      <td>6.0</td>\n      <td>2</td>\n      <td>0.259733</td>\n      <td>0.294619</td>\n      <td>-0.751112</td>\n      <td>-0.953407</td>\n      <td>0.142498</td>\n      <td>0.344963</td>\n      <td>...</td>\n      <td>-0.827397</td>\n      <td>-0.969894</td>\n      <td>-0.172722</td>\n      <td>-0.112642</td>\n      <td>0.331312</td>\n      <td>0.331312</td>\n      <td>-1.0</td>\n      <td>-1.0</td>\n      <td>0.331312</td>\n      <td>0.331312</td>\n    </tr>\n    <tr>\n      <th>3</th>\n      <td>c</td>\n      <td>2.692582</td>\n      <td>4.0</td>\n      <td>2</td>\n      <td>0.176625</td>\n      <td>0.217678</td>\n      <td>-0.701008</td>\n      <td>-0.926940</td>\n      <td>0.089153</td>\n      <td>0.239879</td>\n      <td>...</td>\n      <td>-0.789811</td>\n      <td>-0.959105</td>\n      <td>-0.081256</td>\n      <td>-0.038746</td>\n      <td>0.361868</td>\n      <td>0.361868</td>\n      <td>-1.0</td>\n      <td>-1.0</td>\n      <td>0.361868</td>\n      <td>0.361868</td>\n    </tr>\n    <tr>\n      <th>4</th>\n      <td>d</td>\n      <td>2.000000</td>\n      <td>3.5</td>\n      <td>1</td>\n      <td>0.066985</td>\n      <td>0.114844</td>\n      <td>-0.686925</td>\n      <td>-0.921824</td>\n      <td>-0.008257</td>\n      <td>0.134961</td>\n      <td>...</td>\n      <td>-0.754170</td>\n      <td>-0.944572</td>\n      <td>0.036505</td>\n      <td>0.063000</td>\n      <td>0.371255</td>\n      <td>0.371255</td>\n      <td>-1.0</td>\n      <td>-1.0</td>\n      <td>0.371255</td>\n      <td>0.371255</td>\n    </tr>\n    <tr>\n      <th>5</th>\n      <td>e</td>\n      <td>1.802776</td>\n      <td>3.0</td>\n      <td>0</td>\n      <td>-0.023094</td>\n      <td>0.028453</td>\n      <td>-0.655597</td>\n      <td>-0.903264</td>\n      <td>-0.083387</td>\n      <td>0.042347</td>\n      <td>...</td>\n      <td>-0.721175</td>\n      <td>-0.929613</td>\n      <td>0.131097</td>\n      <td>0.146652</td>\n      <td>0.342579</td>\n      <td>0.342579</td>\n      <td>-1.0</td>\n      <td>-1.0</td>\n      <td>0.342579</td>\n      <td>0.342579</td>\n    </tr>\n    <tr>\n      <th>6</th>\n      <td>f</td>\n      <td>3.000000</td>\n      <td>4.5</td>\n      <td>1</td>\n      <td>0.108786</td>\n      <td>0.152744</td>\n      <td>-0.727190</td>\n      <td>-0.938727</td>\n      <td>0.012964</td>\n      <td>0.192386</td>\n      <td>...</td>\n      <td>-0.774333</td>\n      <td>-0.950961</td>\n      <td>-0.018478</td>\n      <td>0.018350</td>\n      <td>0.351042</td>\n      <td>0.351042</td>\n      <td>-1.0</td>\n      <td>-1.0</td>\n      <td>0.351042</td>\n      <td>0.351042</td>\n    </tr>\n    <tr>\n      <th>7</th>\n      <td>g</td>\n      <td>4.000000</td>\n      <td>5.5</td>\n      <td>1</td>\n      <td>0.147901</td>\n      <td>0.191665</td>\n      <td>-0.720540</td>\n      <td>-0.940661</td>\n      <td>0.052033</td>\n      <td>0.223479</td>\n      <td>...</td>\n      <td>-0.791777</td>\n      <td>-0.958728</td>\n      <td>-0.042781</td>\n      <td>0.000280</td>\n      <td>0.374867</td>\n      <td>0.374867</td>\n      <td>-1.0</td>\n      <td>-1.0</td>\n      <td>0.374867</td>\n      <td>0.374867</td>\n    </tr>\n    <tr>\n      <th>8</th>\n      <td>h</td>\n      <td>5.000000</td>\n      <td>6.5</td>\n      <td>1</td>\n      <td>0.241819</td>\n      <td>0.277230</td>\n      <td>-0.748850</td>\n      <td>-0.951136</td>\n      <td>0.126884</td>\n      <td>0.324900</td>\n      <td>...</td>\n      <td>-0.816898</td>\n      <td>-0.968289</td>\n      <td>-0.146433</td>\n      <td>-0.090606</td>\n      <td>0.378174</td>\n      <td>0.378174</td>\n      <td>-1.0</td>\n      <td>-1.0</td>\n      <td>0.378174</td>\n      <td>0.378174</td>\n    </tr>\n    <tr>\n      <th>9</th>\n      <td>i</td>\n      <td>6.576473</td>\n      <td>8.0</td>\n      <td>0</td>\n      <td>0.255855</td>\n      <td>0.290744</td>\n      <td>-0.740584</td>\n      <td>-0.949152</td>\n      <td>0.147189</td>\n      <td>0.335956</td>\n      <td>...</td>\n      <td>-0.816679</td>\n      <td>-0.967333</td>\n      <td>-0.174606</td>\n      <td>-0.119239</td>\n      <td>0.362228</td>\n      <td>0.362228</td>\n      <td>-1.0</td>\n      <td>-1.0</td>\n      <td>0.362228</td>\n      <td>0.362228</td>\n    </tr>\n    <tr>\n      <th>10</th>\n      <td>j</td>\n      <td>6.000000</td>\n      <td>7.5</td>\n      <td>1</td>\n      <td>0.272473</td>\n      <td>0.309670</td>\n      <td>-0.755372</td>\n      <td>-0.956453</td>\n      <td>0.149772</td>\n      <td>0.357694</td>\n      <td>...</td>\n      <td>-0.833686</td>\n      <td>-0.973050</td>\n      <td>-0.186007</td>\n      <td>-0.125157</td>\n      <td>0.405134</td>\n      <td>0.405134</td>\n      <td>-1.0</td>\n      <td>-1.0</td>\n      <td>0.405134</td>\n      <td>0.405134</td>\n    </tr>\n    <tr>\n      <th>11</th>\n      <td>k</td>\n      <td>7.000000</td>\n      <td>8.5</td>\n      <td>1</td>\n      <td>0.339304</td>\n      <td>0.369111</td>\n      <td>-0.727644</td>\n      <td>-0.945306</td>\n      <td>0.225544</td>\n      <td>0.408772</td>\n      <td>...</td>\n      <td>-0.800661</td>\n      <td>-0.954912</td>\n      <td>-0.262451</td>\n      <td>-0.206437</td>\n      <td>0.376719</td>\n      <td>0.376719</td>\n      <td>-1.0</td>\n      <td>-1.0</td>\n      <td>0.376719</td>\n      <td>0.376719</td>\n    </tr>\n    <tr>\n      <th>12</th>\n      <td>l</td>\n      <td>8.000000</td>\n      <td>9.5</td>\n      <td>1</td>\n      <td>0.382233</td>\n      <td>0.405073</td>\n      <td>-0.638259</td>\n      <td>-0.906771</td>\n      <td>0.306763</td>\n      <td>0.417367</td>\n      <td>...</td>\n      <td>-0.745010</td>\n      <td>-0.936543</td>\n      <td>-0.322365</td>\n      <td>-0.275522</td>\n      <td>0.319872</td>\n      <td>0.319872</td>\n      <td>-1.0</td>\n      <td>-1.0</td>\n      <td>0.319872</td>\n      <td>0.319872</td>\n    </tr>\n    <tr>\n      <th>13</th>\n      <td>m</td>\n      <td>6.576473</td>\n      <td>8.0</td>\n      <td>2</td>\n      <td>0.389207</td>\n      <td>0.418690</td>\n      <td>-0.707943</td>\n      <td>-0.937793</td>\n      <td>0.278708</td>\n      <td>0.442163</td>\n      <td>...</td>\n      <td>-0.805700</td>\n      <td>-0.961176</td>\n      <td>-0.321530</td>\n      <td>-0.262477</td>\n      <td>0.388432</td>\n      <td>0.388432</td>\n      <td>-1.0</td>\n      <td>-1.0</td>\n      <td>0.388432</td>\n      <td>0.388432</td>\n    </tr>\n    <tr>\n      <th>14</th>\n      <td>n</td>\n      <td>5.590170</td>\n      <td>7.0</td>\n      <td>2</td>\n      <td>0.331634</td>\n      <td>0.362837</td>\n      <td>-0.743480</td>\n      <td>-0.951985</td>\n      <td>0.213202</td>\n      <td>0.403625</td>\n      <td>...</td>\n      <td>-0.804161</td>\n      <td>-0.960631</td>\n      <td>-0.251065</td>\n      <td>-0.193773</td>\n      <td>0.382777</td>\n      <td>0.382777</td>\n      <td>-1.0</td>\n      <td>-1.0</td>\n      <td>0.382777</td>\n      <td>0.382777</td>\n    </tr>\n    <tr>\n      <th>15</th>\n      <td>o</td>\n      <td>7.566373</td>\n      <td>9.0</td>\n      <td>0</td>\n      <td>0.286624</td>\n      <td>0.319884</td>\n      <td>-0.733715</td>\n      <td>-0.947680</td>\n      <td>0.179723</td>\n      <td>0.362403</td>\n      <td>...</td>\n      <td>-0.785088</td>\n      <td>-0.958472</td>\n      <td>-0.213353</td>\n      <td>-0.162598</td>\n      <td>0.351025</td>\n      <td>0.351025</td>\n      <td>-1.0</td>\n      <td>-1.0</td>\n      <td>0.351025</td>\n      <td>0.351025</td>\n    </tr>\n    <tr>\n      <th>16</th>\n      <td>p</td>\n      <td>8.558621</td>\n      <td>10.0</td>\n      <td>0</td>\n      <td>0.371898</td>\n      <td>0.392885</td>\n      <td>-0.601324</td>\n      <td>-0.892655</td>\n      <td>0.319657</td>\n      <td>0.391443</td>\n      <td>...</td>\n      <td>-0.697584</td>\n      <td>-0.923587</td>\n      <td>-0.308737</td>\n      <td>-0.274732</td>\n      <td>0.336231</td>\n      <td>0.336231</td>\n      <td>-1.0</td>\n      <td>-1.0</td>\n      <td>0.336231</td>\n      <td>0.336231</td>\n    </tr>\n    <tr>\n      <th>17</th>\n      <td>q</td>\n      <td>1.118034</td>\n      <td>1.0</td>\n      <td>0</td>\n      <td>-0.264526</td>\n      <td>-0.198774</td>\n      <td>-0.531499</td>\n      <td>-0.839556</td>\n      <td>-0.256962</td>\n      <td>-0.221133</td>\n      <td>...</td>\n      <td>-0.645388</td>\n      <td>-0.888733</td>\n      <td>0.401593</td>\n      <td>0.395122</td>\n      <td>0.344465</td>\n      <td>0.344465</td>\n      <td>-1.0</td>\n      <td>-1.0</td>\n      <td>0.344465</td>\n      <td>0.344465</td>\n    </tr>\n    <tr>\n      <th>18</th>\n      <td>r</td>\n      <td>2.692582</td>\n      <td>4.0</td>\n      <td>0</td>\n      <td>0.069555</td>\n      <td>0.116442</td>\n      <td>-0.704776</td>\n      <td>-0.931194</td>\n      <td>-0.012913</td>\n      <td>0.141925</td>\n      <td>...</td>\n      <td>-0.747409</td>\n      <td>-0.943475</td>\n      <td>0.035223</td>\n      <td>0.063408</td>\n      <td>0.352901</td>\n      <td>0.352901</td>\n      <td>-1.0</td>\n      <td>-1.0</td>\n      <td>0.352901</td>\n      <td>0.352901</td>\n    </tr>\n    <tr>\n      <th>19</th>\n      <td>s</td>\n      <td>1.000000</td>\n      <td>2.5</td>\n      <td>1</td>\n      <td>-0.006690</td>\n      <td>0.040577</td>\n      <td>-0.628584</td>\n      <td>-0.887011</td>\n      <td>-0.051007</td>\n      <td>0.048894</td>\n      <td>...</td>\n      <td>-0.738408</td>\n      <td>-0.937212</td>\n      <td>0.113424</td>\n      <td>0.131729</td>\n      <td>0.348505</td>\n      <td>0.348505</td>\n      <td>-1.0</td>\n      <td>-1.0</td>\n      <td>0.348505</td>\n      <td>0.348505</td>\n    </tr>\n    <tr>\n      <th>20</th>\n      <td>t</td>\n      <td>3.640055</td>\n      <td>5.0</td>\n      <td>0</td>\n      <td>0.116050</td>\n      <td>0.163092</td>\n      <td>-0.724649</td>\n      <td>-0.940552</td>\n      <td>0.018509</td>\n      <td>0.190351</td>\n      <td>...</td>\n      <td>-0.772339</td>\n      <td>-0.952973</td>\n      <td>-0.012277</td>\n      <td>0.025682</td>\n      <td>0.325021</td>\n      <td>0.325021</td>\n      <td>-1.0</td>\n      <td>-1.0</td>\n      <td>0.325021</td>\n      <td>0.325021</td>\n    </tr>\n    <tr>\n      <th>21</th>\n      <td>u</td>\n      <td>5.590170</td>\n      <td>7.0</td>\n      <td>0</td>\n      <td>0.217092</td>\n      <td>0.254366</td>\n      <td>-0.722287</td>\n      <td>-0.941304</td>\n      <td>0.113238</td>\n      <td>0.293188</td>\n      <td>...</td>\n      <td>-0.791973</td>\n      <td>-0.949892</td>\n      <td>-0.126995</td>\n      <td>-0.076215</td>\n      <td>0.311063</td>\n      <td>0.311063</td>\n      <td>-1.0</td>\n      <td>-1.0</td>\n      <td>0.311063</td>\n      <td>0.311063</td>\n    </tr>\n    <tr>\n      <th>22</th>\n      <td>v</td>\n      <td>3.640055</td>\n      <td>5.0</td>\n      <td>2</td>\n      <td>0.216043</td>\n      <td>0.255153</td>\n      <td>-0.725401</td>\n      <td>-0.945603</td>\n      <td>0.113690</td>\n      <td>0.291929</td>\n      <td>...</td>\n      <td>-0.823008</td>\n      <td>-0.971734</td>\n      <td>-0.123508</td>\n      <td>-0.068384</td>\n      <td>0.377762</td>\n      <td>0.377762</td>\n      <td>-1.0</td>\n      <td>-1.0</td>\n      <td>0.377762</td>\n      <td>0.377762</td>\n    </tr>\n    <tr>\n      <th>23</th>\n      <td>w</td>\n      <td>1.118034</td>\n      <td>2.0</td>\n      <td>0</td>\n      <td>-0.123910</td>\n      <td>-0.070142</td>\n      <td>-0.526372</td>\n      <td>-0.828295</td>\n      <td>-0.125490</td>\n      <td>-0.095749</td>\n      <td>...</td>\n      <td>-0.659208</td>\n      <td>-0.906468</td>\n      <td>0.242984</td>\n      <td>0.242556</td>\n      <td>0.373852</td>\n      <td>0.373852</td>\n      <td>-1.0</td>\n      <td>-1.0</td>\n      <td>0.373852</td>\n      <td>0.373852</td>\n    </tr>\n    <tr>\n      <th>24</th>\n      <td>x</td>\n      <td>1.802776</td>\n      <td>3.0</td>\n      <td>2</td>\n      <td>0.118531</td>\n      <td>0.163655</td>\n      <td>-0.692257</td>\n      <td>-0.921865</td>\n      <td>0.037162</td>\n      <td>0.184497</td>\n      <td>...</td>\n      <td>-0.766687</td>\n      <td>-0.950972</td>\n      <td>-0.012482</td>\n      <td>0.022255</td>\n      <td>0.415190</td>\n      <td>0.415190</td>\n      <td>-1.0</td>\n      <td>-1.0</td>\n      <td>0.415190</td>\n      <td>0.415190</td>\n    </tr>\n    <tr>\n      <th>25</th>\n      <td>y</td>\n      <td>4.609772</td>\n      <td>6.0</td>\n      <td>0</td>\n      <td>0.171649</td>\n      <td>0.210967</td>\n      <td>-0.737031</td>\n      <td>-0.944728</td>\n      <td>0.064431</td>\n      <td>0.256416</td>\n      <td>...</td>\n      <td>-0.820402</td>\n      <td>-0.966527</td>\n      <td>-0.077335</td>\n      <td>-0.022922</td>\n      <td>0.332406</td>\n      <td>0.332406</td>\n      <td>-1.0</td>\n      <td>-1.0</td>\n      <td>0.332406</td>\n      <td>0.332406</td>\n    </tr>\n    <tr>\n      <th>26</th>\n      <td>z</td>\n      <td>1.118034</td>\n      <td>2.0</td>\n      <td>2</td>\n      <td>0.023697</td>\n      <td>0.075727</td>\n      <td>-0.653561</td>\n      <td>-0.901157</td>\n      <td>-0.035312</td>\n      <td>0.082856</td>\n      <td>...</td>\n      <td>-0.751571</td>\n      <td>-0.944376</td>\n      <td>0.091066</td>\n      <td>0.115010</td>\n      <td>0.365227</td>\n      <td>0.365227</td>\n      <td>-1.0</td>\n      <td>-1.0</td>\n      <td>0.365227</td>\n      <td>0.365227</td>\n    </tr>\n  </tbody>\n</table>\n<p>27 rows × 280 columns</p>\n</div>"
     },
     "execution_count": 6,
     "metadata": {},
     "output_type": "execute_result"
    }
   ],
   "source": [
    "# Group dataset by letter/distance\n",
    "\n",
    "# mean = mean of the rows with the same View and distances\n",
    "df_mean = df.groupby(['View','dist','x','y'], as_index=False).agg('mean')\n",
    "df_mean"
   ],
   "metadata": {
    "collapsed": false,
    "pycharm": {
     "name": "#%%\n"
    }
   }
  },
  {
   "cell_type": "code",
   "execution_count": 3,
   "outputs": [],
   "source": [
    "import matplotlib.pyplot as plt\n",
    "import seaborn as sns"
   ],
   "metadata": {
    "collapsed": false,
    "pycharm": {
     "name": "#%%\n"
    }
   }
  },
  {
   "cell_type": "code",
   "execution_count": 8,
   "outputs": [
    {
     "name": "stdout",
     "output_type": "stream",
     "text": [
      "5.0 3.0\n",
      "5.0 3.5\n",
      "5.0 4.0\n",
      "5.0 4.5\n",
      "5.0 5.0\n",
      "5.0 5.5\n",
      "5.0 6.0\n",
      "5.0 6.5\n",
      "5.0 7.0\n"
     ]
    },
    {
     "data": {
      "text/plain": "   View      dist     x  y    AxMean     AxMed     AxStd     AxVar     AxMax  \\\n0        4.031129   5.0  3  0.263204  0.296761 -0.746812 -0.953980  0.153360   \n1     a  0.000000   1.5  1 -0.158803 -0.102414 -0.562209 -0.852578 -0.165842   \n2     b  4.609772   6.0  2  0.259733  0.294619 -0.751112 -0.953407  0.142498   \n3     c  2.692582   4.0  2  0.176625  0.217678 -0.701008 -0.926940  0.089153   \n4     d  2.000000   3.5  1  0.066985  0.114844 -0.686925 -0.921824 -0.008257   \n5     e  1.802776   3.0  0 -0.023094  0.028453 -0.655597 -0.903264 -0.083387   \n6     f  3.000000   4.5  1  0.108786  0.152744 -0.727190 -0.938727  0.012964   \n7     g  4.000000   5.5  1  0.147901  0.191665 -0.720540 -0.940661  0.052033   \n8     h  5.000000   6.5  1  0.241819  0.277230 -0.748850 -0.951136  0.126884   \n9     i  6.576473   8.0  0  0.255855  0.290744 -0.740584 -0.949152  0.147189   \n10    j  6.000000   7.5  1  0.272473  0.309670 -0.755372 -0.956453  0.149772   \n11    k  7.000000   8.5  1  0.339304  0.369111 -0.727644 -0.945306  0.225544   \n12    l  8.000000   9.5  1  0.382233  0.405073 -0.638259 -0.906771  0.306763   \n13    m  6.576473   8.0  2  0.389207  0.418690 -0.707943 -0.937793  0.278708   \n14    n  5.590170   7.0  2  0.331634  0.362837 -0.743480 -0.951985  0.213202   \n15    o  7.566373   9.0  0  0.286624  0.319884 -0.733715 -0.947680  0.179723   \n16    p  8.558621  10.0  0  0.371898  0.392885 -0.601324 -0.892655  0.319657   \n17    q  1.118034   1.0  0 -0.264526 -0.198774 -0.531499 -0.839556 -0.256962   \n18    r  2.692582   4.0  0  0.069555  0.116442 -0.704776 -0.931194 -0.012913   \n19    s  1.000000   2.5  1 -0.006690  0.040577 -0.628584 -0.887011 -0.051007   \n20    t  3.640055   5.0  0  0.116050  0.163092 -0.724649 -0.940552  0.018509   \n21    u  5.590170   7.0  0  0.217092  0.254366 -0.722287 -0.941304  0.113238   \n22    v  3.640055   5.0  2  0.216043  0.255153 -0.725401 -0.945603  0.113690   \n23    w  1.118034   2.0  0 -0.123910 -0.070142 -0.526372 -0.828295 -0.125490   \n24    x  1.802776   3.0  2  0.118531  0.163655 -0.692257 -0.921865  0.037162   \n25    y  4.609772   6.0  0  0.171649  0.210967 -0.737031 -0.944728  0.064431   \n26    z  1.118034   2.0  2  0.023697  0.075727 -0.653561 -0.901157 -0.035312   \n27       4.031129   3.0  3  0.263204  0.296761 -0.746812 -0.953980  0.153360   \n28       4.031129   3.5  3  0.263204  0.296761 -0.746812 -0.953980  0.153360   \n29       4.031129   4.0  3  0.263204  0.296761 -0.746812 -0.953980  0.153360   \n30       4.031129   4.5  3  0.263204  0.296761 -0.746812 -0.953980  0.153360   \n31       4.031129   5.5  3  0.263204  0.296761 -0.746812 -0.953980  0.153360   \n32       4.031129   6.0  3  0.263204  0.296761 -0.746812 -0.953980  0.153360   \n33       4.031129   6.5  3  0.263204  0.296761 -0.746812 -0.953980  0.153360   \n34       4.031129   7.0  3  0.263204  0.296761 -0.746812 -0.953980  0.153360   \n\n       AxMin  ...  GrPitchStd  GrPitchVar  GrPitchMax  GrPitchMin   PreMean  \\\n0   0.343680  ...   -0.774955   -0.954829   -0.167063   -0.119677  0.344867   \n1  -0.113848  ...   -0.673249   -0.907875    0.282449    0.283081  0.374189   \n2   0.344963  ...   -0.827397   -0.969894   -0.172722   -0.112642  0.331312   \n3   0.239879  ...   -0.789811   -0.959105   -0.081256   -0.038746  0.361868   \n4   0.134961  ...   -0.754170   -0.944572    0.036505    0.063000  0.371255   \n5   0.042347  ...   -0.721175   -0.929613    0.131097    0.146652  0.342579   \n6   0.192386  ...   -0.774333   -0.950961   -0.018478    0.018350  0.351042   \n7   0.223479  ...   -0.791777   -0.958728   -0.042781    0.000280  0.374867   \n8   0.324900  ...   -0.816898   -0.968289   -0.146433   -0.090606  0.378174   \n9   0.335956  ...   -0.816679   -0.967333   -0.174606   -0.119239  0.362228   \n10  0.357694  ...   -0.833686   -0.973050   -0.186007   -0.125157  0.405134   \n11  0.408772  ...   -0.800661   -0.954912   -0.262451   -0.206437  0.376719   \n12  0.417367  ...   -0.745010   -0.936543   -0.322365   -0.275522  0.319872   \n13  0.442163  ...   -0.805700   -0.961176   -0.321530   -0.262477  0.388432   \n14  0.403625  ...   -0.804161   -0.960631   -0.251065   -0.193773  0.382777   \n15  0.362403  ...   -0.785088   -0.958472   -0.213353   -0.162598  0.351025   \n16  0.391443  ...   -0.697584   -0.923587   -0.308737   -0.274732  0.336231   \n17 -0.221133  ...   -0.645388   -0.888733    0.401593    0.395122  0.344465   \n18  0.141925  ...   -0.747409   -0.943475    0.035223    0.063408  0.352901   \n19  0.048894  ...   -0.738408   -0.937212    0.113424    0.131729  0.348505   \n20  0.190351  ...   -0.772339   -0.952973   -0.012277    0.025682  0.325021   \n21  0.293188  ...   -0.791973   -0.949892   -0.126995   -0.076215  0.311063   \n22  0.291929  ...   -0.823008   -0.971734   -0.123508   -0.068384  0.377762   \n23 -0.095749  ...   -0.659208   -0.906468    0.242984    0.242556  0.373852   \n24  0.184497  ...   -0.766687   -0.950972   -0.012482    0.022255  0.415190   \n25  0.256416  ...   -0.820402   -0.966527   -0.077335   -0.022922  0.332406   \n26  0.082856  ...   -0.751571   -0.944376    0.091066    0.115010  0.365227   \n27  0.343680  ...   -0.774955   -0.954829   -0.167063   -0.119677  0.344867   \n28  0.343680  ...   -0.774955   -0.954829   -0.167063   -0.119677  0.344867   \n29  0.343680  ...   -0.774955   -0.954829   -0.167063   -0.119677  0.344867   \n30  0.343680  ...   -0.774955   -0.954829   -0.167063   -0.119677  0.344867   \n31  0.343680  ...   -0.774955   -0.954829   -0.167063   -0.119677  0.344867   \n32  0.343680  ...   -0.774955   -0.954829   -0.167063   -0.119677  0.344867   \n33  0.343680  ...   -0.774955   -0.954829   -0.167063   -0.119677  0.344867   \n34  0.343680  ...   -0.774955   -0.954829   -0.167063   -0.119677  0.344867   \n\n      PreMed  PreStd  PreVar    PreMax    PreMin  \n0   0.344867    -1.0    -1.0  0.344867  0.344867  \n1   0.374189    -1.0    -1.0  0.374189  0.374189  \n2   0.331312    -1.0    -1.0  0.331312  0.331312  \n3   0.361868    -1.0    -1.0  0.361868  0.361868  \n4   0.371255    -1.0    -1.0  0.371255  0.371255  \n5   0.342579    -1.0    -1.0  0.342579  0.342579  \n6   0.351042    -1.0    -1.0  0.351042  0.351042  \n7   0.374867    -1.0    -1.0  0.374867  0.374867  \n8   0.378174    -1.0    -1.0  0.378174  0.378174  \n9   0.362228    -1.0    -1.0  0.362228  0.362228  \n10  0.405134    -1.0    -1.0  0.405134  0.405134  \n11  0.376719    -1.0    -1.0  0.376719  0.376719  \n12  0.319872    -1.0    -1.0  0.319872  0.319872  \n13  0.388432    -1.0    -1.0  0.388432  0.388432  \n14  0.382777    -1.0    -1.0  0.382777  0.382777  \n15  0.351025    -1.0    -1.0  0.351025  0.351025  \n16  0.336231    -1.0    -1.0  0.336231  0.336231  \n17  0.344465    -1.0    -1.0  0.344465  0.344465  \n18  0.352901    -1.0    -1.0  0.352901  0.352901  \n19  0.348505    -1.0    -1.0  0.348505  0.348505  \n20  0.325021    -1.0    -1.0  0.325021  0.325021  \n21  0.311063    -1.0    -1.0  0.311063  0.311063  \n22  0.377762    -1.0    -1.0  0.377762  0.377762  \n23  0.373852    -1.0    -1.0  0.373852  0.373852  \n24  0.415190    -1.0    -1.0  0.415190  0.415190  \n25  0.332406    -1.0    -1.0  0.332406  0.332406  \n26  0.365227    -1.0    -1.0  0.365227  0.365227  \n27  0.344867    -1.0    -1.0  0.344867  0.344867  \n28  0.344867    -1.0    -1.0  0.344867  0.344867  \n29  0.344867    -1.0    -1.0  0.344867  0.344867  \n30  0.344867    -1.0    -1.0  0.344867  0.344867  \n31  0.344867    -1.0    -1.0  0.344867  0.344867  \n32  0.344867    -1.0    -1.0  0.344867  0.344867  \n33  0.344867    -1.0    -1.0  0.344867  0.344867  \n34  0.344867    -1.0    -1.0  0.344867  0.344867  \n\n[35 rows x 280 columns]",
      "text/html": "<div>\n<style scoped>\n    .dataframe tbody tr th:only-of-type {\n        vertical-align: middle;\n    }\n\n    .dataframe tbody tr th {\n        vertical-align: top;\n    }\n\n    .dataframe thead th {\n        text-align: right;\n    }\n</style>\n<table border=\"1\" class=\"dataframe\">\n  <thead>\n    <tr style=\"text-align: right;\">\n      <th></th>\n      <th>View</th>\n      <th>dist</th>\n      <th>x</th>\n      <th>y</th>\n      <th>AxMean</th>\n      <th>AxMed</th>\n      <th>AxStd</th>\n      <th>AxVar</th>\n      <th>AxMax</th>\n      <th>AxMin</th>\n      <th>...</th>\n      <th>GrPitchStd</th>\n      <th>GrPitchVar</th>\n      <th>GrPitchMax</th>\n      <th>GrPitchMin</th>\n      <th>PreMean</th>\n      <th>PreMed</th>\n      <th>PreStd</th>\n      <th>PreVar</th>\n      <th>PreMax</th>\n      <th>PreMin</th>\n    </tr>\n  </thead>\n  <tbody>\n    <tr>\n      <th>0</th>\n      <td></td>\n      <td>4.031129</td>\n      <td>5.0</td>\n      <td>3</td>\n      <td>0.263204</td>\n      <td>0.296761</td>\n      <td>-0.746812</td>\n      <td>-0.953980</td>\n      <td>0.153360</td>\n      <td>0.343680</td>\n      <td>...</td>\n      <td>-0.774955</td>\n      <td>-0.954829</td>\n      <td>-0.167063</td>\n      <td>-0.119677</td>\n      <td>0.344867</td>\n      <td>0.344867</td>\n      <td>-1.0</td>\n      <td>-1.0</td>\n      <td>0.344867</td>\n      <td>0.344867</td>\n    </tr>\n    <tr>\n      <th>1</th>\n      <td>a</td>\n      <td>0.000000</td>\n      <td>1.5</td>\n      <td>1</td>\n      <td>-0.158803</td>\n      <td>-0.102414</td>\n      <td>-0.562209</td>\n      <td>-0.852578</td>\n      <td>-0.165842</td>\n      <td>-0.113848</td>\n      <td>...</td>\n      <td>-0.673249</td>\n      <td>-0.907875</td>\n      <td>0.282449</td>\n      <td>0.283081</td>\n      <td>0.374189</td>\n      <td>0.374189</td>\n      <td>-1.0</td>\n      <td>-1.0</td>\n      <td>0.374189</td>\n      <td>0.374189</td>\n    </tr>\n    <tr>\n      <th>2</th>\n      <td>b</td>\n      <td>4.609772</td>\n      <td>6.0</td>\n      <td>2</td>\n      <td>0.259733</td>\n      <td>0.294619</td>\n      <td>-0.751112</td>\n      <td>-0.953407</td>\n      <td>0.142498</td>\n      <td>0.344963</td>\n      <td>...</td>\n      <td>-0.827397</td>\n      <td>-0.969894</td>\n      <td>-0.172722</td>\n      <td>-0.112642</td>\n      <td>0.331312</td>\n      <td>0.331312</td>\n      <td>-1.0</td>\n      <td>-1.0</td>\n      <td>0.331312</td>\n      <td>0.331312</td>\n    </tr>\n    <tr>\n      <th>3</th>\n      <td>c</td>\n      <td>2.692582</td>\n      <td>4.0</td>\n      <td>2</td>\n      <td>0.176625</td>\n      <td>0.217678</td>\n      <td>-0.701008</td>\n      <td>-0.926940</td>\n      <td>0.089153</td>\n      <td>0.239879</td>\n      <td>...</td>\n      <td>-0.789811</td>\n      <td>-0.959105</td>\n      <td>-0.081256</td>\n      <td>-0.038746</td>\n      <td>0.361868</td>\n      <td>0.361868</td>\n      <td>-1.0</td>\n      <td>-1.0</td>\n      <td>0.361868</td>\n      <td>0.361868</td>\n    </tr>\n    <tr>\n      <th>4</th>\n      <td>d</td>\n      <td>2.000000</td>\n      <td>3.5</td>\n      <td>1</td>\n      <td>0.066985</td>\n      <td>0.114844</td>\n      <td>-0.686925</td>\n      <td>-0.921824</td>\n      <td>-0.008257</td>\n      <td>0.134961</td>\n      <td>...</td>\n      <td>-0.754170</td>\n      <td>-0.944572</td>\n      <td>0.036505</td>\n      <td>0.063000</td>\n      <td>0.371255</td>\n      <td>0.371255</td>\n      <td>-1.0</td>\n      <td>-1.0</td>\n      <td>0.371255</td>\n      <td>0.371255</td>\n    </tr>\n    <tr>\n      <th>5</th>\n      <td>e</td>\n      <td>1.802776</td>\n      <td>3.0</td>\n      <td>0</td>\n      <td>-0.023094</td>\n      <td>0.028453</td>\n      <td>-0.655597</td>\n      <td>-0.903264</td>\n      <td>-0.083387</td>\n      <td>0.042347</td>\n      <td>...</td>\n      <td>-0.721175</td>\n      <td>-0.929613</td>\n      <td>0.131097</td>\n      <td>0.146652</td>\n      <td>0.342579</td>\n      <td>0.342579</td>\n      <td>-1.0</td>\n      <td>-1.0</td>\n      <td>0.342579</td>\n      <td>0.342579</td>\n    </tr>\n    <tr>\n      <th>6</th>\n      <td>f</td>\n      <td>3.000000</td>\n      <td>4.5</td>\n      <td>1</td>\n      <td>0.108786</td>\n      <td>0.152744</td>\n      <td>-0.727190</td>\n      <td>-0.938727</td>\n      <td>0.012964</td>\n      <td>0.192386</td>\n      <td>...</td>\n      <td>-0.774333</td>\n      <td>-0.950961</td>\n      <td>-0.018478</td>\n      <td>0.018350</td>\n      <td>0.351042</td>\n      <td>0.351042</td>\n      <td>-1.0</td>\n      <td>-1.0</td>\n      <td>0.351042</td>\n      <td>0.351042</td>\n    </tr>\n    <tr>\n      <th>7</th>\n      <td>g</td>\n      <td>4.000000</td>\n      <td>5.5</td>\n      <td>1</td>\n      <td>0.147901</td>\n      <td>0.191665</td>\n      <td>-0.720540</td>\n      <td>-0.940661</td>\n      <td>0.052033</td>\n      <td>0.223479</td>\n      <td>...</td>\n      <td>-0.791777</td>\n      <td>-0.958728</td>\n      <td>-0.042781</td>\n      <td>0.000280</td>\n      <td>0.374867</td>\n      <td>0.374867</td>\n      <td>-1.0</td>\n      <td>-1.0</td>\n      <td>0.374867</td>\n      <td>0.374867</td>\n    </tr>\n    <tr>\n      <th>8</th>\n      <td>h</td>\n      <td>5.000000</td>\n      <td>6.5</td>\n      <td>1</td>\n      <td>0.241819</td>\n      <td>0.277230</td>\n      <td>-0.748850</td>\n      <td>-0.951136</td>\n      <td>0.126884</td>\n      <td>0.324900</td>\n      <td>...</td>\n      <td>-0.816898</td>\n      <td>-0.968289</td>\n      <td>-0.146433</td>\n      <td>-0.090606</td>\n      <td>0.378174</td>\n      <td>0.378174</td>\n      <td>-1.0</td>\n      <td>-1.0</td>\n      <td>0.378174</td>\n      <td>0.378174</td>\n    </tr>\n    <tr>\n      <th>9</th>\n      <td>i</td>\n      <td>6.576473</td>\n      <td>8.0</td>\n      <td>0</td>\n      <td>0.255855</td>\n      <td>0.290744</td>\n      <td>-0.740584</td>\n      <td>-0.949152</td>\n      <td>0.147189</td>\n      <td>0.335956</td>\n      <td>...</td>\n      <td>-0.816679</td>\n      <td>-0.967333</td>\n      <td>-0.174606</td>\n      <td>-0.119239</td>\n      <td>0.362228</td>\n      <td>0.362228</td>\n      <td>-1.0</td>\n      <td>-1.0</td>\n      <td>0.362228</td>\n      <td>0.362228</td>\n    </tr>\n    <tr>\n      <th>10</th>\n      <td>j</td>\n      <td>6.000000</td>\n      <td>7.5</td>\n      <td>1</td>\n      <td>0.272473</td>\n      <td>0.309670</td>\n      <td>-0.755372</td>\n      <td>-0.956453</td>\n      <td>0.149772</td>\n      <td>0.357694</td>\n      <td>...</td>\n      <td>-0.833686</td>\n      <td>-0.973050</td>\n      <td>-0.186007</td>\n      <td>-0.125157</td>\n      <td>0.405134</td>\n      <td>0.405134</td>\n      <td>-1.0</td>\n      <td>-1.0</td>\n      <td>0.405134</td>\n      <td>0.405134</td>\n    </tr>\n    <tr>\n      <th>11</th>\n      <td>k</td>\n      <td>7.000000</td>\n      <td>8.5</td>\n      <td>1</td>\n      <td>0.339304</td>\n      <td>0.369111</td>\n      <td>-0.727644</td>\n      <td>-0.945306</td>\n      <td>0.225544</td>\n      <td>0.408772</td>\n      <td>...</td>\n      <td>-0.800661</td>\n      <td>-0.954912</td>\n      <td>-0.262451</td>\n      <td>-0.206437</td>\n      <td>0.376719</td>\n      <td>0.376719</td>\n      <td>-1.0</td>\n      <td>-1.0</td>\n      <td>0.376719</td>\n      <td>0.376719</td>\n    </tr>\n    <tr>\n      <th>12</th>\n      <td>l</td>\n      <td>8.000000</td>\n      <td>9.5</td>\n      <td>1</td>\n      <td>0.382233</td>\n      <td>0.405073</td>\n      <td>-0.638259</td>\n      <td>-0.906771</td>\n      <td>0.306763</td>\n      <td>0.417367</td>\n      <td>...</td>\n      <td>-0.745010</td>\n      <td>-0.936543</td>\n      <td>-0.322365</td>\n      <td>-0.275522</td>\n      <td>0.319872</td>\n      <td>0.319872</td>\n      <td>-1.0</td>\n      <td>-1.0</td>\n      <td>0.319872</td>\n      <td>0.319872</td>\n    </tr>\n    <tr>\n      <th>13</th>\n      <td>m</td>\n      <td>6.576473</td>\n      <td>8.0</td>\n      <td>2</td>\n      <td>0.389207</td>\n      <td>0.418690</td>\n      <td>-0.707943</td>\n      <td>-0.937793</td>\n      <td>0.278708</td>\n      <td>0.442163</td>\n      <td>...</td>\n      <td>-0.805700</td>\n      <td>-0.961176</td>\n      <td>-0.321530</td>\n      <td>-0.262477</td>\n      <td>0.388432</td>\n      <td>0.388432</td>\n      <td>-1.0</td>\n      <td>-1.0</td>\n      <td>0.388432</td>\n      <td>0.388432</td>\n    </tr>\n    <tr>\n      <th>14</th>\n      <td>n</td>\n      <td>5.590170</td>\n      <td>7.0</td>\n      <td>2</td>\n      <td>0.331634</td>\n      <td>0.362837</td>\n      <td>-0.743480</td>\n      <td>-0.951985</td>\n      <td>0.213202</td>\n      <td>0.403625</td>\n      <td>...</td>\n      <td>-0.804161</td>\n      <td>-0.960631</td>\n      <td>-0.251065</td>\n      <td>-0.193773</td>\n      <td>0.382777</td>\n      <td>0.382777</td>\n      <td>-1.0</td>\n      <td>-1.0</td>\n      <td>0.382777</td>\n      <td>0.382777</td>\n    </tr>\n    <tr>\n      <th>15</th>\n      <td>o</td>\n      <td>7.566373</td>\n      <td>9.0</td>\n      <td>0</td>\n      <td>0.286624</td>\n      <td>0.319884</td>\n      <td>-0.733715</td>\n      <td>-0.947680</td>\n      <td>0.179723</td>\n      <td>0.362403</td>\n      <td>...</td>\n      <td>-0.785088</td>\n      <td>-0.958472</td>\n      <td>-0.213353</td>\n      <td>-0.162598</td>\n      <td>0.351025</td>\n      <td>0.351025</td>\n      <td>-1.0</td>\n      <td>-1.0</td>\n      <td>0.351025</td>\n      <td>0.351025</td>\n    </tr>\n    <tr>\n      <th>16</th>\n      <td>p</td>\n      <td>8.558621</td>\n      <td>10.0</td>\n      <td>0</td>\n      <td>0.371898</td>\n      <td>0.392885</td>\n      <td>-0.601324</td>\n      <td>-0.892655</td>\n      <td>0.319657</td>\n      <td>0.391443</td>\n      <td>...</td>\n      <td>-0.697584</td>\n      <td>-0.923587</td>\n      <td>-0.308737</td>\n      <td>-0.274732</td>\n      <td>0.336231</td>\n      <td>0.336231</td>\n      <td>-1.0</td>\n      <td>-1.0</td>\n      <td>0.336231</td>\n      <td>0.336231</td>\n    </tr>\n    <tr>\n      <th>17</th>\n      <td>q</td>\n      <td>1.118034</td>\n      <td>1.0</td>\n      <td>0</td>\n      <td>-0.264526</td>\n      <td>-0.198774</td>\n      <td>-0.531499</td>\n      <td>-0.839556</td>\n      <td>-0.256962</td>\n      <td>-0.221133</td>\n      <td>...</td>\n      <td>-0.645388</td>\n      <td>-0.888733</td>\n      <td>0.401593</td>\n      <td>0.395122</td>\n      <td>0.344465</td>\n      <td>0.344465</td>\n      <td>-1.0</td>\n      <td>-1.0</td>\n      <td>0.344465</td>\n      <td>0.344465</td>\n    </tr>\n    <tr>\n      <th>18</th>\n      <td>r</td>\n      <td>2.692582</td>\n      <td>4.0</td>\n      <td>0</td>\n      <td>0.069555</td>\n      <td>0.116442</td>\n      <td>-0.704776</td>\n      <td>-0.931194</td>\n      <td>-0.012913</td>\n      <td>0.141925</td>\n      <td>...</td>\n      <td>-0.747409</td>\n      <td>-0.943475</td>\n      <td>0.035223</td>\n      <td>0.063408</td>\n      <td>0.352901</td>\n      <td>0.352901</td>\n      <td>-1.0</td>\n      <td>-1.0</td>\n      <td>0.352901</td>\n      <td>0.352901</td>\n    </tr>\n    <tr>\n      <th>19</th>\n      <td>s</td>\n      <td>1.000000</td>\n      <td>2.5</td>\n      <td>1</td>\n      <td>-0.006690</td>\n      <td>0.040577</td>\n      <td>-0.628584</td>\n      <td>-0.887011</td>\n      <td>-0.051007</td>\n      <td>0.048894</td>\n      <td>...</td>\n      <td>-0.738408</td>\n      <td>-0.937212</td>\n      <td>0.113424</td>\n      <td>0.131729</td>\n      <td>0.348505</td>\n      <td>0.348505</td>\n      <td>-1.0</td>\n      <td>-1.0</td>\n      <td>0.348505</td>\n      <td>0.348505</td>\n    </tr>\n    <tr>\n      <th>20</th>\n      <td>t</td>\n      <td>3.640055</td>\n      <td>5.0</td>\n      <td>0</td>\n      <td>0.116050</td>\n      <td>0.163092</td>\n      <td>-0.724649</td>\n      <td>-0.940552</td>\n      <td>0.018509</td>\n      <td>0.190351</td>\n      <td>...</td>\n      <td>-0.772339</td>\n      <td>-0.952973</td>\n      <td>-0.012277</td>\n      <td>0.025682</td>\n      <td>0.325021</td>\n      <td>0.325021</td>\n      <td>-1.0</td>\n      <td>-1.0</td>\n      <td>0.325021</td>\n      <td>0.325021</td>\n    </tr>\n    <tr>\n      <th>21</th>\n      <td>u</td>\n      <td>5.590170</td>\n      <td>7.0</td>\n      <td>0</td>\n      <td>0.217092</td>\n      <td>0.254366</td>\n      <td>-0.722287</td>\n      <td>-0.941304</td>\n      <td>0.113238</td>\n      <td>0.293188</td>\n      <td>...</td>\n      <td>-0.791973</td>\n      <td>-0.949892</td>\n      <td>-0.126995</td>\n      <td>-0.076215</td>\n      <td>0.311063</td>\n      <td>0.311063</td>\n      <td>-1.0</td>\n      <td>-1.0</td>\n      <td>0.311063</td>\n      <td>0.311063</td>\n    </tr>\n    <tr>\n      <th>22</th>\n      <td>v</td>\n      <td>3.640055</td>\n      <td>5.0</td>\n      <td>2</td>\n      <td>0.216043</td>\n      <td>0.255153</td>\n      <td>-0.725401</td>\n      <td>-0.945603</td>\n      <td>0.113690</td>\n      <td>0.291929</td>\n      <td>...</td>\n      <td>-0.823008</td>\n      <td>-0.971734</td>\n      <td>-0.123508</td>\n      <td>-0.068384</td>\n      <td>0.377762</td>\n      <td>0.377762</td>\n      <td>-1.0</td>\n      <td>-1.0</td>\n      <td>0.377762</td>\n      <td>0.377762</td>\n    </tr>\n    <tr>\n      <th>23</th>\n      <td>w</td>\n      <td>1.118034</td>\n      <td>2.0</td>\n      <td>0</td>\n      <td>-0.123910</td>\n      <td>-0.070142</td>\n      <td>-0.526372</td>\n      <td>-0.828295</td>\n      <td>-0.125490</td>\n      <td>-0.095749</td>\n      <td>...</td>\n      <td>-0.659208</td>\n      <td>-0.906468</td>\n      <td>0.242984</td>\n      <td>0.242556</td>\n      <td>0.373852</td>\n      <td>0.373852</td>\n      <td>-1.0</td>\n      <td>-1.0</td>\n      <td>0.373852</td>\n      <td>0.373852</td>\n    </tr>\n    <tr>\n      <th>24</th>\n      <td>x</td>\n      <td>1.802776</td>\n      <td>3.0</td>\n      <td>2</td>\n      <td>0.118531</td>\n      <td>0.163655</td>\n      <td>-0.692257</td>\n      <td>-0.921865</td>\n      <td>0.037162</td>\n      <td>0.184497</td>\n      <td>...</td>\n      <td>-0.766687</td>\n      <td>-0.950972</td>\n      <td>-0.012482</td>\n      <td>0.022255</td>\n      <td>0.415190</td>\n      <td>0.415190</td>\n      <td>-1.0</td>\n      <td>-1.0</td>\n      <td>0.415190</td>\n      <td>0.415190</td>\n    </tr>\n    <tr>\n      <th>25</th>\n      <td>y</td>\n      <td>4.609772</td>\n      <td>6.0</td>\n      <td>0</td>\n      <td>0.171649</td>\n      <td>0.210967</td>\n      <td>-0.737031</td>\n      <td>-0.944728</td>\n      <td>0.064431</td>\n      <td>0.256416</td>\n      <td>...</td>\n      <td>-0.820402</td>\n      <td>-0.966527</td>\n      <td>-0.077335</td>\n      <td>-0.022922</td>\n      <td>0.332406</td>\n      <td>0.332406</td>\n      <td>-1.0</td>\n      <td>-1.0</td>\n      <td>0.332406</td>\n      <td>0.332406</td>\n    </tr>\n    <tr>\n      <th>26</th>\n      <td>z</td>\n      <td>1.118034</td>\n      <td>2.0</td>\n      <td>2</td>\n      <td>0.023697</td>\n      <td>0.075727</td>\n      <td>-0.653561</td>\n      <td>-0.901157</td>\n      <td>-0.035312</td>\n      <td>0.082856</td>\n      <td>...</td>\n      <td>-0.751571</td>\n      <td>-0.944376</td>\n      <td>0.091066</td>\n      <td>0.115010</td>\n      <td>0.365227</td>\n      <td>0.365227</td>\n      <td>-1.0</td>\n      <td>-1.0</td>\n      <td>0.365227</td>\n      <td>0.365227</td>\n    </tr>\n    <tr>\n      <th>27</th>\n      <td></td>\n      <td>4.031129</td>\n      <td>3.0</td>\n      <td>3</td>\n      <td>0.263204</td>\n      <td>0.296761</td>\n      <td>-0.746812</td>\n      <td>-0.953980</td>\n      <td>0.153360</td>\n      <td>0.343680</td>\n      <td>...</td>\n      <td>-0.774955</td>\n      <td>-0.954829</td>\n      <td>-0.167063</td>\n      <td>-0.119677</td>\n      <td>0.344867</td>\n      <td>0.344867</td>\n      <td>-1.0</td>\n      <td>-1.0</td>\n      <td>0.344867</td>\n      <td>0.344867</td>\n    </tr>\n    <tr>\n      <th>28</th>\n      <td></td>\n      <td>4.031129</td>\n      <td>3.5</td>\n      <td>3</td>\n      <td>0.263204</td>\n      <td>0.296761</td>\n      <td>-0.746812</td>\n      <td>-0.953980</td>\n      <td>0.153360</td>\n      <td>0.343680</td>\n      <td>...</td>\n      <td>-0.774955</td>\n      <td>-0.954829</td>\n      <td>-0.167063</td>\n      <td>-0.119677</td>\n      <td>0.344867</td>\n      <td>0.344867</td>\n      <td>-1.0</td>\n      <td>-1.0</td>\n      <td>0.344867</td>\n      <td>0.344867</td>\n    </tr>\n    <tr>\n      <th>29</th>\n      <td></td>\n      <td>4.031129</td>\n      <td>4.0</td>\n      <td>3</td>\n      <td>0.263204</td>\n      <td>0.296761</td>\n      <td>-0.746812</td>\n      <td>-0.953980</td>\n      <td>0.153360</td>\n      <td>0.343680</td>\n      <td>...</td>\n      <td>-0.774955</td>\n      <td>-0.954829</td>\n      <td>-0.167063</td>\n      <td>-0.119677</td>\n      <td>0.344867</td>\n      <td>0.344867</td>\n      <td>-1.0</td>\n      <td>-1.0</td>\n      <td>0.344867</td>\n      <td>0.344867</td>\n    </tr>\n    <tr>\n      <th>30</th>\n      <td></td>\n      <td>4.031129</td>\n      <td>4.5</td>\n      <td>3</td>\n      <td>0.263204</td>\n      <td>0.296761</td>\n      <td>-0.746812</td>\n      <td>-0.953980</td>\n      <td>0.153360</td>\n      <td>0.343680</td>\n      <td>...</td>\n      <td>-0.774955</td>\n      <td>-0.954829</td>\n      <td>-0.167063</td>\n      <td>-0.119677</td>\n      <td>0.344867</td>\n      <td>0.344867</td>\n      <td>-1.0</td>\n      <td>-1.0</td>\n      <td>0.344867</td>\n      <td>0.344867</td>\n    </tr>\n    <tr>\n      <th>31</th>\n      <td></td>\n      <td>4.031129</td>\n      <td>5.5</td>\n      <td>3</td>\n      <td>0.263204</td>\n      <td>0.296761</td>\n      <td>-0.746812</td>\n      <td>-0.953980</td>\n      <td>0.153360</td>\n      <td>0.343680</td>\n      <td>...</td>\n      <td>-0.774955</td>\n      <td>-0.954829</td>\n      <td>-0.167063</td>\n      <td>-0.119677</td>\n      <td>0.344867</td>\n      <td>0.344867</td>\n      <td>-1.0</td>\n      <td>-1.0</td>\n      <td>0.344867</td>\n      <td>0.344867</td>\n    </tr>\n    <tr>\n      <th>32</th>\n      <td></td>\n      <td>4.031129</td>\n      <td>6.0</td>\n      <td>3</td>\n      <td>0.263204</td>\n      <td>0.296761</td>\n      <td>-0.746812</td>\n      <td>-0.953980</td>\n      <td>0.153360</td>\n      <td>0.343680</td>\n      <td>...</td>\n      <td>-0.774955</td>\n      <td>-0.954829</td>\n      <td>-0.167063</td>\n      <td>-0.119677</td>\n      <td>0.344867</td>\n      <td>0.344867</td>\n      <td>-1.0</td>\n      <td>-1.0</td>\n      <td>0.344867</td>\n      <td>0.344867</td>\n    </tr>\n    <tr>\n      <th>33</th>\n      <td></td>\n      <td>4.031129</td>\n      <td>6.5</td>\n      <td>3</td>\n      <td>0.263204</td>\n      <td>0.296761</td>\n      <td>-0.746812</td>\n      <td>-0.953980</td>\n      <td>0.153360</td>\n      <td>0.343680</td>\n      <td>...</td>\n      <td>-0.774955</td>\n      <td>-0.954829</td>\n      <td>-0.167063</td>\n      <td>-0.119677</td>\n      <td>0.344867</td>\n      <td>0.344867</td>\n      <td>-1.0</td>\n      <td>-1.0</td>\n      <td>0.344867</td>\n      <td>0.344867</td>\n    </tr>\n    <tr>\n      <th>34</th>\n      <td></td>\n      <td>4.031129</td>\n      <td>7.0</td>\n      <td>3</td>\n      <td>0.263204</td>\n      <td>0.296761</td>\n      <td>-0.746812</td>\n      <td>-0.953980</td>\n      <td>0.153360</td>\n      <td>0.343680</td>\n      <td>...</td>\n      <td>-0.774955</td>\n      <td>-0.954829</td>\n      <td>-0.167063</td>\n      <td>-0.119677</td>\n      <td>0.344867</td>\n      <td>0.344867</td>\n      <td>-1.0</td>\n      <td>-1.0</td>\n      <td>0.344867</td>\n      <td>0.344867</td>\n    </tr>\n  </tbody>\n</table>\n<p>35 rows × 280 columns</p>\n</div>"
     },
     "execution_count": 8,
     "metadata": {},
     "output_type": "execute_result"
    }
   ],
   "source": [
    "# PREPARE A DATAFRAME FOR HEATMAPS: MULTIPLY SPACES TO SHOW MULTIPLE BLOCKS\n",
    "\n",
    "df_heat = df_mean.copy()\n",
    "\n",
    "# Duplicate spaces\n",
    "space_x = df_heat['x'][0]\n",
    "row = df_heat.iloc[[0],]\n",
    "SPACEBAR_LEN = 9\n",
    "BLOCK_SIZE = 0.5\n",
    "for i in range(SPACEBAR_LEN):\n",
    "    new_block = space_x - (SPACEBAR_LEN - 1) / 2 * BLOCK_SIZE + i * BLOCK_SIZE\n",
    "    print(space_x, new_block)\n",
    "    if new_block == space_x:\n",
    "        continue\n",
    "\n",
    "    # append the other rows for spacebar draw\n",
    "    df_heat = df_heat.append(df_heat.loc[[0] * 1].assign(**{'x': new_block}), ignore_index=True) # 1 is the number of repeats\n",
    "\n",
    "df_heat"
   ],
   "metadata": {
    "collapsed": false,
    "pycharm": {
     "name": "#%%\n"
    }
   }
  },
  {
   "cell_type": "code",
   "execution_count": 9,
   "outputs": [
    {
     "data": {
      "text/plain": "<AxesSubplot:title={'center':'Title'}, xlabel='x', ylabel='y'>"
     },
     "execution_count": 9,
     "metadata": {},
     "output_type": "execute_result"
    },
    {
     "data": {
      "text/plain": "<Figure size 720x216 with 2 Axes>",
      "image/png": "[encoded data removed]"
     },
     "metadata": {
      "needs_background": "light"
     },
     "output_type": "display_data"
    }
   ],
   "source": [
    "#HEATMAP - INTERACTIVE\n",
    "\n",
    "labz = [\n",
    "    ['q','','w','','e','','r','','t','','y','','u','','i','','o','','p'],\n",
    "    ['','a','','s','','d','','f','','g','','h','','j','','k','','l',''],\n",
    "    ['','','z','','x','','c','','v','','b','','n','','m','','','',''],\n",
    "    ['','','','','','','','','space','','','','','','','','','','']\n",
    "]\n",
    "\n",
    "# in pivot: 'y' is the index of rows, 'x' index of columns and 'dist' the value\n",
    "_ = df_heat.pivot('y', 'x', 'dist') # <--- Change here 'dist' to the column you want\n",
    "plt.figure(figsize=(10,3))\n",
    "plt.axis('off')\n",
    "plt.title(\"Title\")\n",
    "sns.heatmap(_, annot=labz, fmt='', square=True, cbar_kws = dict(use_gridspec=False,location=\"bottom\"))\n"
   ],
   "metadata": {
    "collapsed": false,
    "pycharm": {
     "name": "#%%\n"
    }
   }
  },
  {
   "cell_type": "code",
   "execution_count": 10,
   "outputs": [],
   "source": [
    "from sklearn.cluster import KMeans\n",
    "from sklearn.metrics import silhouette_score\n",
    "from numpy import unique\n",
    "from numpy import where"
   ],
   "metadata": {
    "collapsed": false,
    "pycharm": {
     "name": "#%%\n"
    }
   }
  },
  {
   "cell_type": "code",
   "execution_count": 11,
   "outputs": [],
   "source": [
    "# X_prova = df\n",
    "# X_prova = X_prova.loc[X_prova['View'] == 'a']\n",
    "#\n",
    "# X_prova = X_prova.mean(axis=0)\n",
    "# X_prova"
   ],
   "metadata": {
    "collapsed": false,
    "pycharm": {
     "name": "#%%\n"
    }
   }
  },
  {
   "cell_type": "code",
   "execution_count": 11,
   "outputs": [
    {
     "data": {
      "text/plain": "   View     x  y      dist\n0         5.0  3  4.031129\n1     a   1.5  1  0.000000\n2     b   6.0  2  4.609772\n3     c   4.0  2  2.692582\n4     d   3.5  1  2.000000\n5     e   3.0  0  1.802776\n6     f   4.5  1  3.000000\n7     g   5.5  1  4.000000\n8     h   6.5  1  5.000000\n9     i   8.0  0  6.576473\n10    j   7.5  1  6.000000\n11    k   8.5  1  7.000000\n12    l   9.5  1  8.000000\n13    m   8.0  2  6.576473\n14    n   7.0  2  5.590170\n15    o   9.0  0  7.566373\n16    p  10.0  0  8.558621\n17    q   1.0  0  1.118034\n18    r   4.0  0  2.692582\n19    s   2.5  1  1.000000\n20    t   5.0  0  3.640055\n21    u   7.0  0  5.590170\n22    v   5.0  2  3.640055\n23    w   2.0  0  1.118034\n24    x   3.0  2  1.802776\n25    y   6.0  0  4.609772\n26    z   2.0  2  1.118034",
      "text/html": "<div>\n<style scoped>\n    .dataframe tbody tr th:only-of-type {\n        vertical-align: middle;\n    }\n\n    .dataframe tbody tr th {\n        vertical-align: top;\n    }\n\n    .dataframe thead th {\n        text-align: right;\n    }\n</style>\n<table border=\"1\" class=\"dataframe\">\n  <thead>\n    <tr style=\"text-align: right;\">\n      <th></th>\n      <th>View</th>\n      <th>x</th>\n      <th>y</th>\n      <th>dist</th>\n    </tr>\n  </thead>\n  <tbody>\n    <tr>\n      <th>0</th>\n      <td></td>\n      <td>5.0</td>\n      <td>3</td>\n      <td>4.031129</td>\n    </tr>\n    <tr>\n      <th>1</th>\n      <td>a</td>\n      <td>1.5</td>\n      <td>1</td>\n      <td>0.000000</td>\n    </tr>\n    <tr>\n      <th>2</th>\n      <td>b</td>\n      <td>6.0</td>\n      <td>2</td>\n      <td>4.609772</td>\n    </tr>\n    <tr>\n      <th>3</th>\n      <td>c</td>\n      <td>4.0</td>\n      <td>2</td>\n      <td>2.692582</td>\n    </tr>\n    <tr>\n      <th>4</th>\n      <td>d</td>\n      <td>3.5</td>\n      <td>1</td>\n      <td>2.000000</td>\n    </tr>\n    <tr>\n      <th>5</th>\n      <td>e</td>\n      <td>3.0</td>\n      <td>0</td>\n      <td>1.802776</td>\n    </tr>\n    <tr>\n      <th>6</th>\n      <td>f</td>\n      <td>4.5</td>\n      <td>1</td>\n      <td>3.000000</td>\n    </tr>\n    <tr>\n      <th>7</th>\n      <td>g</td>\n      <td>5.5</td>\n      <td>1</td>\n      <td>4.000000</td>\n    </tr>\n    <tr>\n      <th>8</th>\n      <td>h</td>\n      <td>6.5</td>\n      <td>1</td>\n      <td>5.000000</td>\n    </tr>\n    <tr>\n      <th>9</th>\n      <td>i</td>\n      <td>8.0</td>\n      <td>0</td>\n      <td>6.576473</td>\n    </tr>\n    <tr>\n      <th>10</th>\n      <td>j</td>\n      <td>7.5</td>\n      <td>1</td>\n      <td>6.000000</td>\n    </tr>\n    <tr>\n      <th>11</th>\n      <td>k</td>\n      <td>8.5</td>\n      <td>1</td>\n      <td>7.000000</td>\n    </tr>\n    <tr>\n      <th>12</th>\n      <td>l</td>\n      <td>9.5</td>\n      <td>1</td>\n      <td>8.000000</td>\n    </tr>\n    <tr>\n      <th>13</th>\n      <td>m</td>\n      <td>8.0</td>\n      <td>2</td>\n      <td>6.576473</td>\n    </tr>\n    <tr>\n      <th>14</th>\n      <td>n</td>\n      <td>7.0</td>\n      <td>2</td>\n      <td>5.590170</td>\n    </tr>\n    <tr>\n      <th>15</th>\n      <td>o</td>\n      <td>9.0</td>\n      <td>0</td>\n      <td>7.566373</td>\n    </tr>\n    <tr>\n      <th>16</th>\n      <td>p</td>\n      <td>10.0</td>\n      <td>0</td>\n      <td>8.558621</td>\n    </tr>\n    <tr>\n      <th>17</th>\n      <td>q</td>\n      <td>1.0</td>\n      <td>0</td>\n      <td>1.118034</td>\n    </tr>\n    <tr>\n      <th>18</th>\n      <td>r</td>\n      <td>4.0</td>\n      <td>0</td>\n      <td>2.692582</td>\n    </tr>\n    <tr>\n      <th>19</th>\n      <td>s</td>\n      <td>2.5</td>\n      <td>1</td>\n      <td>1.000000</td>\n    </tr>\n    <tr>\n      <th>20</th>\n      <td>t</td>\n      <td>5.0</td>\n      <td>0</td>\n      <td>3.640055</td>\n    </tr>\n    <tr>\n      <th>21</th>\n      <td>u</td>\n      <td>7.0</td>\n      <td>0</td>\n      <td>5.590170</td>\n    </tr>\n    <tr>\n      <th>22</th>\n      <td>v</td>\n      <td>5.0</td>\n      <td>2</td>\n      <td>3.640055</td>\n    </tr>\n    <tr>\n      <th>23</th>\n      <td>w</td>\n      <td>2.0</td>\n      <td>0</td>\n      <td>1.118034</td>\n    </tr>\n    <tr>\n      <th>24</th>\n      <td>x</td>\n      <td>3.0</td>\n      <td>2</td>\n      <td>1.802776</td>\n    </tr>\n    <tr>\n      <th>25</th>\n      <td>y</td>\n      <td>6.0</td>\n      <td>0</td>\n      <td>4.609772</td>\n    </tr>\n    <tr>\n      <th>26</th>\n      <td>z</td>\n      <td>2.0</td>\n      <td>2</td>\n      <td>1.118034</td>\n    </tr>\n  </tbody>\n</table>\n</div>"
     },
     "execution_count": 11,
     "metadata": {},
     "output_type": "execute_result"
    }
   ],
   "source": [
    "df_kmeans = df.drop(['User','Hand', 'Smartphone'], axis=1)\n",
    "\n",
    "df_kmeans = df_kmeans.groupby(['View', 'x', 'y','dist'], as_index=False).agg('mean')\n",
    "\n",
    "col_heat = df_kmeans[['View', 'x', 'y','dist']]\n",
    "\n",
    "df_kmeans = df_kmeans.drop(['View', 'x', 'y','dist'], axis=1)\n",
    "\n",
    "col_heat"
   ],
   "metadata": {
    "collapsed": false,
    "pycharm": {
     "name": "#%%\n"
    }
   }
  },
  {
   "cell_type": "code",
   "execution_count": 12,
   "outputs": [
    {
     "data": {
      "text/plain": "      AxMean     AxMed     AxStd     AxVar     AxMax     AxMin    AyMean  \\\n0   0.263204  0.296761 -0.746812 -0.953980  0.153360  0.343680 -0.507447   \n1  -0.158803 -0.102414 -0.562209 -0.852578 -0.165842 -0.113848 -0.234660   \n2   0.259733  0.294619 -0.751112 -0.953407  0.142498  0.344963 -0.506305   \n3   0.176625  0.217678 -0.701008 -0.926940  0.089153  0.239879 -0.404577   \n4   0.066985  0.114844 -0.686925 -0.921824 -0.008257  0.134961 -0.348168   \n5  -0.023094  0.028453 -0.655597 -0.903264 -0.083387  0.042347 -0.296238   \n6   0.108786  0.152744 -0.727190 -0.938727  0.012964  0.192386 -0.396401   \n7   0.147901  0.191665 -0.720540 -0.940661  0.052033  0.223479 -0.398625   \n8   0.241819  0.277230 -0.748850 -0.951136  0.126884  0.324900 -0.465565   \n9   0.255855  0.290744 -0.740584 -0.949152  0.147189  0.335956 -0.465007   \n10  0.272473  0.309670 -0.755372 -0.956453  0.149772  0.357694 -0.492424   \n11  0.339304  0.369111 -0.727644 -0.945306  0.225544  0.408772 -0.530960   \n12  0.382233  0.405073 -0.638259 -0.906771  0.306763  0.417367 -0.565082   \n13  0.389207  0.418690 -0.707943 -0.937793  0.278708  0.442163 -0.560402   \n14  0.331634  0.362837 -0.743480 -0.951985  0.213202  0.403625 -0.524797   \n15  0.286624  0.319884 -0.733715 -0.947680  0.179723  0.362403 -0.507918   \n16  0.371898  0.392885 -0.601324 -0.892655  0.319657  0.391443 -0.552836   \n17 -0.264526 -0.198774 -0.531499 -0.839556 -0.256962 -0.221133 -0.170879   \n18  0.069555  0.116442 -0.704776 -0.931194 -0.012913  0.141925 -0.338983   \n19 -0.006690  0.040577 -0.628584 -0.887011 -0.051007  0.048894 -0.308278   \n20  0.116050  0.163092 -0.724649 -0.940552  0.018509  0.190351 -0.358875   \n21  0.217092  0.254366 -0.722287 -0.941304  0.113238  0.293188 -0.424082   \n22  0.216043  0.255153 -0.725401 -0.945603  0.113690  0.291929 -0.453722   \n23 -0.123910 -0.070142 -0.526372 -0.828295 -0.125490 -0.095749 -0.231138   \n24  0.118531  0.163655 -0.692257 -0.921865  0.037162  0.184497 -0.382948   \n25  0.171649  0.210967 -0.737031 -0.944728  0.064431  0.256416 -0.398311   \n26  0.023697  0.075727 -0.653561 -0.901157 -0.035312  0.082856 -0.349327   \n\n       AyMed     AyStd     AyVar  ...  18_clusters  19_clusters  20_clusters  \\\n0  -0.466096 -0.555879 -0.866969  ...            0           15           17   \n1  -0.202731 -0.603997 -0.869020  ...            3           11            9   \n2  -0.466443 -0.580694 -0.877838  ...            9            6           19   \n3  -0.365525 -0.625791 -0.899569  ...            6            8            3   \n4  -0.311645 -0.650226 -0.905596  ...            1            9            1   \n5  -0.262081 -0.631631 -0.881300  ...            7            1            0   \n6  -0.358659 -0.640366 -0.900159  ...            2            2           16   \n7  -0.360468 -0.649557 -0.911469  ...            6            8            3   \n8  -0.426631 -0.629509 -0.897018  ...            8           16            5   \n9  -0.425490 -0.595868 -0.885682  ...            8           16            5   \n10 -0.453700 -0.608163 -0.886457  ...            9            6            7   \n11 -0.489295 -0.574641 -0.873019  ...            4            4            6   \n12 -0.523286 -0.512567 -0.834984  ...            5            7            4   \n13 -0.521567 -0.558690 -0.860855  ...           10           12            2   \n14 -0.484514 -0.585450 -0.879560  ...           13           13           14   \n15 -0.466982 -0.566158 -0.870126  ...            4            4            6   \n16 -0.511715 -0.491184 -0.820666  ...            5            7            4   \n17 -0.139916 -0.575706 -0.856849  ...           12           10            8   \n18 -0.304436 -0.651400 -0.902042  ...            1            9            1   \n19 -0.275428 -0.620917 -0.877623  ...            7            1            0   \n20 -0.322308 -0.643578 -0.903812  ...            2           18           15   \n21 -0.386030 -0.599192 -0.882400  ...           17            3           10   \n22 -0.412242 -0.579564 -0.879983  ...           16            5           12   \n23 -0.198499 -0.554283 -0.833840  ...            3           11            9   \n24 -0.345763 -0.643770 -0.900187  ...           15           17           18   \n25 -0.361996 -0.643631 -0.899368  ...           11            0           11   \n26 -0.315506 -0.639081 -0.885823  ...           14           14           13   \n\n    21_clusters  22_clusters  23_clusters  24_clusters  25_clusters  \\\n0            15            9           10            4           20   \n1             6            1            1            9            8   \n2            19            2            8           12           13   \n3             1            8            6           22           22   \n4             4            4            9            2            0   \n5             8           10            3           18           17   \n6             3           16           15            0           12   \n7             1            8           22           11           10   \n8             5            5            7            7            9   \n9             5            5            7            7           24   \n10           11           19            4           19            4   \n11            2            6            0           23           23   \n12           14            3           13            1           21   \n13            9            0           19           20           11   \n14           17           17            2            8           18   \n15            2            6            0            6            6   \n16           14           21           20            5           19   \n17           16           11           14           10            2   \n18            4            4            9            2            0   \n19           20           20           21           21            5   \n20           18           18           18            3            3   \n21           13           12           16           14           16   \n22            7           15            5           13            1   \n23            6            1            1            9            8   \n24           10            7           11           15            7   \n25           12           13           17           17           15   \n26            0           14           12           16           14   \n\n    26_clusters  27_clusters  \n0             4           17  \n1            25           25  \n2            15            1  \n3            20           11  \n4             5            0  \n5             3           14  \n6             0            5  \n7            13            8  \n8             6           23  \n9            24            2  \n10            2           10  \n11           23           24  \n12           21           20  \n13           10           16  \n14           19           19  \n15           22            4  \n16            7           12  \n17           11            9  \n18            5           26  \n19            8            7  \n20           16           13  \n21           17            3  \n22           18           21  \n23            1           22  \n24           12            6  \n25           14           18  \n26            9           15  \n\n[27 rows x 303 columns]",
      "text/html": "<div>\n<style scoped>\n    .dataframe tbody tr th:only-of-type {\n        vertical-align: middle;\n    }\n\n    .dataframe tbody tr th {\n        vertical-align: top;\n    }\n\n    .dataframe thead th {\n        text-align: right;\n    }\n</style>\n<table border=\"1\" class=\"dataframe\">\n  <thead>\n    <tr style=\"text-align: right;\">\n      <th></th>\n      <th>AxMean</th>\n      <th>AxMed</th>\n      <th>AxStd</th>\n      <th>AxVar</th>\n      <th>AxMax</th>\n      <th>AxMin</th>\n      <th>AyMean</th>\n      <th>AyMed</th>\n      <th>AyStd</th>\n      <th>AyVar</th>\n      <th>...</th>\n      <th>18_clusters</th>\n      <th>19_clusters</th>\n      <th>20_clusters</th>\n      <th>21_clusters</th>\n      <th>22_clusters</th>\n      <th>23_clusters</th>\n      <th>24_clusters</th>\n      <th>25_clusters</th>\n      <th>26_clusters</th>\n      <th>27_clusters</th>\n    </tr>\n  </thead>\n  <tbody>\n    <tr>\n      <th>0</th>\n      <td>0.263204</td>\n      <td>0.296761</td>\n      <td>-0.746812</td>\n      <td>-0.953980</td>\n      <td>0.153360</td>\n      <td>0.343680</td>\n      <td>-0.507447</td>\n      <td>-0.466096</td>\n      <td>-0.555879</td>\n      <td>-0.866969</td>\n      <td>...</td>\n      <td>0</td>\n      <td>15</td>\n      <td>17</td>\n      <td>15</td>\n      <td>9</td>\n      <td>10</td>\n      <td>4</td>\n      <td>20</td>\n      <td>4</td>\n      <td>17</td>\n    </tr>\n    <tr>\n      <th>1</th>\n      <td>-0.158803</td>\n      <td>-0.102414</td>\n      <td>-0.562209</td>\n      <td>-0.852578</td>\n      <td>-0.165842</td>\n      <td>-0.113848</td>\n      <td>-0.234660</td>\n      <td>-0.202731</td>\n      <td>-0.603997</td>\n      <td>-0.869020</td>\n      <td>...</td>\n      <td>3</td>\n      <td>11</td>\n      <td>9</td>\n      <td>6</td>\n      <td>1</td>\n      <td>1</td>\n      <td>9</td>\n      <td>8</td>\n      <td>25</td>\n      <td>25</td>\n    </tr>\n    <tr>\n      <th>2</th>\n      <td>0.259733</td>\n      <td>0.294619</td>\n      <td>-0.751112</td>\n      <td>-0.953407</td>\n      <td>0.142498</td>\n      <td>0.344963</td>\n      <td>-0.506305</td>\n      <td>-0.466443</td>\n      <td>-0.580694</td>\n      <td>-0.877838</td>\n      <td>...</td>\n      <td>9</td>\n      <td>6</td>\n      <td>19</td>\n      <td>19</td>\n      <td>2</td>\n      <td>8</td>\n      <td>12</td>\n      <td>13</td>\n      <td>15</td>\n      <td>1</td>\n    </tr>\n    <tr>\n      <th>3</th>\n      <td>0.176625</td>\n      <td>0.217678</td>\n      <td>-0.701008</td>\n      <td>-0.926940</td>\n      <td>0.089153</td>\n      <td>0.239879</td>\n      <td>-0.404577</td>\n      <td>-0.365525</td>\n      <td>-0.625791</td>\n      <td>-0.899569</td>\n      <td>...</td>\n      <td>6</td>\n      <td>8</td>\n      <td>3</td>\n      <td>1</td>\n      <td>8</td>\n      <td>6</td>\n      <td>22</td>\n      <td>22</td>\n      <td>20</td>\n      <td>11</td>\n    </tr>\n    <tr>\n      <th>4</th>\n      <td>0.066985</td>\n      <td>0.114844</td>\n      <td>-0.686925</td>\n      <td>-0.921824</td>\n      <td>-0.008257</td>\n      <td>0.134961</td>\n      <td>-0.348168</td>\n      <td>-0.311645</td>\n      <td>-0.650226</td>\n      <td>-0.905596</td>\n      <td>...</td>\n      <td>1</td>\n      <td>9</td>\n      <td>1</td>\n      <td>4</td>\n      <td>4</td>\n      <td>9</td>\n      <td>2</td>\n      <td>0</td>\n      <td>5</td>\n      <td>0</td>\n    </tr>\n    <tr>\n      <th>5</th>\n      <td>-0.023094</td>\n      <td>0.028453</td>\n      <td>-0.655597</td>\n      <td>-0.903264</td>\n      <td>-0.083387</td>\n      <td>0.042347</td>\n      <td>-0.296238</td>\n      <td>-0.262081</td>\n      <td>-0.631631</td>\n      <td>-0.881300</td>\n      <td>...</td>\n      <td>7</td>\n      <td>1</td>\n      <td>0</td>\n      <td>8</td>\n      <td>10</td>\n      <td>3</td>\n      <td>18</td>\n      <td>17</td>\n      <td>3</td>\n      <td>14</td>\n    </tr>\n    <tr>\n      <th>6</th>\n      <td>0.108786</td>\n      <td>0.152744</td>\n      <td>-0.727190</td>\n      <td>-0.938727</td>\n      <td>0.012964</td>\n      <td>0.192386</td>\n      <td>-0.396401</td>\n      <td>-0.358659</td>\n      <td>-0.640366</td>\n      <td>-0.900159</td>\n      <td>...</td>\n      <td>2</td>\n      <td>2</td>\n      <td>16</td>\n      <td>3</td>\n      <td>16</td>\n      <td>15</td>\n      <td>0</td>\n      <td>12</td>\n      <td>0</td>\n      <td>5</td>\n    </tr>\n    <tr>\n      <th>7</th>\n      <td>0.147901</td>\n      <td>0.191665</td>\n      <td>-0.720540</td>\n      <td>-0.940661</td>\n      <td>0.052033</td>\n      <td>0.223479</td>\n      <td>-0.398625</td>\n      <td>-0.360468</td>\n      <td>-0.649557</td>\n      <td>-0.911469</td>\n      <td>...</td>\n      <td>6</td>\n      <td>8</td>\n      <td>3</td>\n      <td>1</td>\n      <td>8</td>\n      <td>22</td>\n      <td>11</td>\n      <td>10</td>\n      <td>13</td>\n      <td>8</td>\n    </tr>\n    <tr>\n      <th>8</th>\n      <td>0.241819</td>\n      <td>0.277230</td>\n      <td>-0.748850</td>\n      <td>-0.951136</td>\n      <td>0.126884</td>\n      <td>0.324900</td>\n      <td>-0.465565</td>\n      <td>-0.426631</td>\n      <td>-0.629509</td>\n      <td>-0.897018</td>\n      <td>...</td>\n      <td>8</td>\n      <td>16</td>\n      <td>5</td>\n      <td>5</td>\n      <td>5</td>\n      <td>7</td>\n      <td>7</td>\n      <td>9</td>\n      <td>6</td>\n      <td>23</td>\n    </tr>\n    <tr>\n      <th>9</th>\n      <td>0.255855</td>\n      <td>0.290744</td>\n      <td>-0.740584</td>\n      <td>-0.949152</td>\n      <td>0.147189</td>\n      <td>0.335956</td>\n      <td>-0.465007</td>\n      <td>-0.425490</td>\n      <td>-0.595868</td>\n      <td>-0.885682</td>\n      <td>...</td>\n      <td>8</td>\n      <td>16</td>\n      <td>5</td>\n      <td>5</td>\n      <td>5</td>\n      <td>7</td>\n      <td>7</td>\n      <td>24</td>\n      <td>24</td>\n      <td>2</td>\n    </tr>\n    <tr>\n      <th>10</th>\n      <td>0.272473</td>\n      <td>0.309670</td>\n      <td>-0.755372</td>\n      <td>-0.956453</td>\n      <td>0.149772</td>\n      <td>0.357694</td>\n      <td>-0.492424</td>\n      <td>-0.453700</td>\n      <td>-0.608163</td>\n      <td>-0.886457</td>\n      <td>...</td>\n      <td>9</td>\n      <td>6</td>\n      <td>7</td>\n      <td>11</td>\n      <td>19</td>\n      <td>4</td>\n      <td>19</td>\n      <td>4</td>\n      <td>2</td>\n      <td>10</td>\n    </tr>\n    <tr>\n      <th>11</th>\n      <td>0.339304</td>\n      <td>0.369111</td>\n      <td>-0.727644</td>\n      <td>-0.945306</td>\n      <td>0.225544</td>\n      <td>0.408772</td>\n      <td>-0.530960</td>\n      <td>-0.489295</td>\n      <td>-0.574641</td>\n      <td>-0.873019</td>\n      <td>...</td>\n      <td>4</td>\n      <td>4</td>\n      <td>6</td>\n      <td>2</td>\n      <td>6</td>\n      <td>0</td>\n      <td>23</td>\n      <td>23</td>\n      <td>23</td>\n      <td>24</td>\n    </tr>\n    <tr>\n      <th>12</th>\n      <td>0.382233</td>\n      <td>0.405073</td>\n      <td>-0.638259</td>\n      <td>-0.906771</td>\n      <td>0.306763</td>\n      <td>0.417367</td>\n      <td>-0.565082</td>\n      <td>-0.523286</td>\n      <td>-0.512567</td>\n      <td>-0.834984</td>\n      <td>...</td>\n      <td>5</td>\n      <td>7</td>\n      <td>4</td>\n      <td>14</td>\n      <td>3</td>\n      <td>13</td>\n      <td>1</td>\n      <td>21</td>\n      <td>21</td>\n      <td>20</td>\n    </tr>\n    <tr>\n      <th>13</th>\n      <td>0.389207</td>\n      <td>0.418690</td>\n      <td>-0.707943</td>\n      <td>-0.937793</td>\n      <td>0.278708</td>\n      <td>0.442163</td>\n      <td>-0.560402</td>\n      <td>-0.521567</td>\n      <td>-0.558690</td>\n      <td>-0.860855</td>\n      <td>...</td>\n      <td>10</td>\n      <td>12</td>\n      <td>2</td>\n      <td>9</td>\n      <td>0</td>\n      <td>19</td>\n      <td>20</td>\n      <td>11</td>\n      <td>10</td>\n      <td>16</td>\n    </tr>\n    <tr>\n      <th>14</th>\n      <td>0.331634</td>\n      <td>0.362837</td>\n      <td>-0.743480</td>\n      <td>-0.951985</td>\n      <td>0.213202</td>\n      <td>0.403625</td>\n      <td>-0.524797</td>\n      <td>-0.484514</td>\n      <td>-0.585450</td>\n      <td>-0.879560</td>\n      <td>...</td>\n      <td>13</td>\n      <td>13</td>\n      <td>14</td>\n      <td>17</td>\n      <td>17</td>\n      <td>2</td>\n      <td>8</td>\n      <td>18</td>\n      <td>19</td>\n      <td>19</td>\n    </tr>\n    <tr>\n      <th>15</th>\n      <td>0.286624</td>\n      <td>0.319884</td>\n      <td>-0.733715</td>\n      <td>-0.947680</td>\n      <td>0.179723</td>\n      <td>0.362403</td>\n      <td>-0.507918</td>\n      <td>-0.466982</td>\n      <td>-0.566158</td>\n      <td>-0.870126</td>\n      <td>...</td>\n      <td>4</td>\n      <td>4</td>\n      <td>6</td>\n      <td>2</td>\n      <td>6</td>\n      <td>0</td>\n      <td>6</td>\n      <td>6</td>\n      <td>22</td>\n      <td>4</td>\n    </tr>\n    <tr>\n      <th>16</th>\n      <td>0.371898</td>\n      <td>0.392885</td>\n      <td>-0.601324</td>\n      <td>-0.892655</td>\n      <td>0.319657</td>\n      <td>0.391443</td>\n      <td>-0.552836</td>\n      <td>-0.511715</td>\n      <td>-0.491184</td>\n      <td>-0.820666</td>\n      <td>...</td>\n      <td>5</td>\n      <td>7</td>\n      <td>4</td>\n      <td>14</td>\n      <td>21</td>\n      <td>20</td>\n      <td>5</td>\n      <td>19</td>\n      <td>7</td>\n      <td>12</td>\n    </tr>\n    <tr>\n      <th>17</th>\n      <td>-0.264526</td>\n      <td>-0.198774</td>\n      <td>-0.531499</td>\n      <td>-0.839556</td>\n      <td>-0.256962</td>\n      <td>-0.221133</td>\n      <td>-0.170879</td>\n      <td>-0.139916</td>\n      <td>-0.575706</td>\n      <td>-0.856849</td>\n      <td>...</td>\n      <td>12</td>\n      <td>10</td>\n      <td>8</td>\n      <td>16</td>\n      <td>11</td>\n      <td>14</td>\n      <td>10</td>\n      <td>2</td>\n      <td>11</td>\n      <td>9</td>\n    </tr>\n    <tr>\n      <th>18</th>\n      <td>0.069555</td>\n      <td>0.116442</td>\n      <td>-0.704776</td>\n      <td>-0.931194</td>\n      <td>-0.012913</td>\n      <td>0.141925</td>\n      <td>-0.338983</td>\n      <td>-0.304436</td>\n      <td>-0.651400</td>\n      <td>-0.902042</td>\n      <td>...</td>\n      <td>1</td>\n      <td>9</td>\n      <td>1</td>\n      <td>4</td>\n      <td>4</td>\n      <td>9</td>\n      <td>2</td>\n      <td>0</td>\n      <td>5</td>\n      <td>26</td>\n    </tr>\n    <tr>\n      <th>19</th>\n      <td>-0.006690</td>\n      <td>0.040577</td>\n      <td>-0.628584</td>\n      <td>-0.887011</td>\n      <td>-0.051007</td>\n      <td>0.048894</td>\n      <td>-0.308278</td>\n      <td>-0.275428</td>\n      <td>-0.620917</td>\n      <td>-0.877623</td>\n      <td>...</td>\n      <td>7</td>\n      <td>1</td>\n      <td>0</td>\n      <td>20</td>\n      <td>20</td>\n      <td>21</td>\n      <td>21</td>\n      <td>5</td>\n      <td>8</td>\n      <td>7</td>\n    </tr>\n    <tr>\n      <th>20</th>\n      <td>0.116050</td>\n      <td>0.163092</td>\n      <td>-0.724649</td>\n      <td>-0.940552</td>\n      <td>0.018509</td>\n      <td>0.190351</td>\n      <td>-0.358875</td>\n      <td>-0.322308</td>\n      <td>-0.643578</td>\n      <td>-0.903812</td>\n      <td>...</td>\n      <td>2</td>\n      <td>18</td>\n      <td>15</td>\n      <td>18</td>\n      <td>18</td>\n      <td>18</td>\n      <td>3</td>\n      <td>3</td>\n      <td>16</td>\n      <td>13</td>\n    </tr>\n    <tr>\n      <th>21</th>\n      <td>0.217092</td>\n      <td>0.254366</td>\n      <td>-0.722287</td>\n      <td>-0.941304</td>\n      <td>0.113238</td>\n      <td>0.293188</td>\n      <td>-0.424082</td>\n      <td>-0.386030</td>\n      <td>-0.599192</td>\n      <td>-0.882400</td>\n      <td>...</td>\n      <td>17</td>\n      <td>3</td>\n      <td>10</td>\n      <td>13</td>\n      <td>12</td>\n      <td>16</td>\n      <td>14</td>\n      <td>16</td>\n      <td>17</td>\n      <td>3</td>\n    </tr>\n    <tr>\n      <th>22</th>\n      <td>0.216043</td>\n      <td>0.255153</td>\n      <td>-0.725401</td>\n      <td>-0.945603</td>\n      <td>0.113690</td>\n      <td>0.291929</td>\n      <td>-0.453722</td>\n      <td>-0.412242</td>\n      <td>-0.579564</td>\n      <td>-0.879983</td>\n      <td>...</td>\n      <td>16</td>\n      <td>5</td>\n      <td>12</td>\n      <td>7</td>\n      <td>15</td>\n      <td>5</td>\n      <td>13</td>\n      <td>1</td>\n      <td>18</td>\n      <td>21</td>\n    </tr>\n    <tr>\n      <th>23</th>\n      <td>-0.123910</td>\n      <td>-0.070142</td>\n      <td>-0.526372</td>\n      <td>-0.828295</td>\n      <td>-0.125490</td>\n      <td>-0.095749</td>\n      <td>-0.231138</td>\n      <td>-0.198499</td>\n      <td>-0.554283</td>\n      <td>-0.833840</td>\n      <td>...</td>\n      <td>3</td>\n      <td>11</td>\n      <td>9</td>\n      <td>6</td>\n      <td>1</td>\n      <td>1</td>\n      <td>9</td>\n      <td>8</td>\n      <td>1</td>\n      <td>22</td>\n    </tr>\n    <tr>\n      <th>24</th>\n      <td>0.118531</td>\n      <td>0.163655</td>\n      <td>-0.692257</td>\n      <td>-0.921865</td>\n      <td>0.037162</td>\n      <td>0.184497</td>\n      <td>-0.382948</td>\n      <td>-0.345763</td>\n      <td>-0.643770</td>\n      <td>-0.900187</td>\n      <td>...</td>\n      <td>15</td>\n      <td>17</td>\n      <td>18</td>\n      <td>10</td>\n      <td>7</td>\n      <td>11</td>\n      <td>15</td>\n      <td>7</td>\n      <td>12</td>\n      <td>6</td>\n    </tr>\n    <tr>\n      <th>25</th>\n      <td>0.171649</td>\n      <td>0.210967</td>\n      <td>-0.737031</td>\n      <td>-0.944728</td>\n      <td>0.064431</td>\n      <td>0.256416</td>\n      <td>-0.398311</td>\n      <td>-0.361996</td>\n      <td>-0.643631</td>\n      <td>-0.899368</td>\n      <td>...</td>\n      <td>11</td>\n      <td>0</td>\n      <td>11</td>\n      <td>12</td>\n      <td>13</td>\n      <td>17</td>\n      <td>17</td>\n      <td>15</td>\n      <td>14</td>\n      <td>18</td>\n    </tr>\n    <tr>\n      <th>26</th>\n      <td>0.023697</td>\n      <td>0.075727</td>\n      <td>-0.653561</td>\n      <td>-0.901157</td>\n      <td>-0.035312</td>\n      <td>0.082856</td>\n      <td>-0.349327</td>\n      <td>-0.315506</td>\n      <td>-0.639081</td>\n      <td>-0.885823</td>\n      <td>...</td>\n      <td>14</td>\n      <td>14</td>\n      <td>13</td>\n      <td>0</td>\n      <td>14</td>\n      <td>12</td>\n      <td>16</td>\n      <td>14</td>\n      <td>9</td>\n      <td>15</td>\n    </tr>\n  </tbody>\n</table>\n<p>27 rows × 303 columns</p>\n</div>"
     },
     "execution_count": 12,
     "metadata": {},
     "output_type": "execute_result"
    }
   ],
   "source": [
    "clusters = []\n",
    "test = []\n",
    "\n",
    "for k in range(1, 28):\n",
    "\n",
    "    model_kmeans = KMeans(n_clusters=k)\n",
    "    # fit the model\n",
    "    model_kmeans.fit(df_kmeans)\n",
    "    train_labels = model_kmeans.labels_\n",
    "    # assign a cluster to each example\n",
    "    test_labels = model_kmeans.predict(df_kmeans)\n",
    "\n",
    "    df_kmeans[str(k) + '_clusters'] = test_labels\n",
    "    col_heat[str(k) + '_clusters'] = test_labels\n",
    "\n",
    "    test.append(test_labels)\n",
    "\n",
    "    # retrieve unique clusters\n",
    "    cluster = unique(test_labels)\n",
    "    clusters.append(cluster)\n",
    "\n",
    "\n",
    "\n",
    "col_heat.to_csv(r'C:\\Users\\giuli\\Desktop\\col_heat.csv', index = False, header=True)\n",
    "\n",
    "df_kmeans"
   ],
   "metadata": {
    "collapsed": false,
    "pycharm": {
     "name": "#%%\n"
    }
   }
  },
  {
   "cell_type": "code",
   "execution_count": 13,
   "outputs": [],
   "source": [
    "df_kmeans.index = col_heat.index\n",
    "\n",
    "df_kmeans[['View', 'x', 'y', 'dist']] = col_heat[['View', 'x', 'y', 'dist']]\n",
    "\n",
    "# df_kmeans"
   ],
   "metadata": {
    "collapsed": false,
    "pycharm": {
     "name": "#%%\n"
    }
   }
  },
  {
   "cell_type": "code",
   "execution_count": 14,
   "outputs": [
    {
     "name": "stdout",
     "output_type": "stream",
     "text": [
      "5.0 3.0\n",
      "5.0 3.5\n",
      "5.0 4.0\n",
      "5.0 4.5\n",
      "5.0 5.0\n",
      "5.0 5.5\n",
      "5.0 6.0\n",
      "5.0 6.5\n",
      "5.0 7.0\n"
     ]
    },
    {
     "data": {
      "text/plain": "   View     x  y      dist  1_clusters  2_clusters  3_clusters  4_clusters  \\\n0         5.0  3  4.031129           0           0           1           0   \n1     a   1.5  1  0.000000           0           1           2           2   \n2     b   6.0  2  4.609772           0           0           1           0   \n3     c   4.0  2  2.692582           0           0           1           3   \n4     d   3.5  1  2.000000           0           1           0           1   \n5     e   3.0  0  1.802776           0           1           0           1   \n6     f   4.5  1  3.000000           0           0           0           3   \n7     g   5.5  1  4.000000           0           0           1           3   \n8     h   6.5  1  5.000000           0           0           1           0   \n9     i   8.0  0  6.576473           0           0           1           0   \n10    j   7.5  1  6.000000           0           0           1           0   \n11    k   8.5  1  7.000000           0           0           1           0   \n12    l   9.5  1  8.000000           0           0           1           0   \n13    m   8.0  2  6.576473           0           0           1           0   \n14    n   7.0  2  5.590170           0           0           1           0   \n15    o   9.0  0  7.566373           0           0           1           0   \n16    p  10.0  0  8.558621           0           0           1           0   \n17    q   1.0  0  1.118034           0           1           2           2   \n18    r   4.0  0  2.692582           0           1           0           1   \n19    s   2.5  1  1.000000           0           1           0           1   \n20    t   5.0  0  3.640055           0           0           0           3   \n21    u   7.0  0  5.590170           0           0           1           0   \n22    v   5.0  2  3.640055           0           0           1           0   \n23    w   2.0  0  1.118034           0           1           2           2   \n24    x   3.0  2  1.802776           0           0           0           3   \n25    y   6.0  0  4.609772           0           0           1           3   \n26    z   2.0  2  1.118034           0           1           0           1   \n27        3.0  3  4.031129           0           0           1           0   \n28        3.5  3  4.031129           0           0           1           0   \n29        4.0  3  4.031129           0           0           1           0   \n30        4.5  3  4.031129           0           0           1           0   \n31        5.5  3  4.031129           0           0           1           0   \n32        6.0  3  4.031129           0           0           1           0   \n33        6.5  3  4.031129           0           0           1           0   \n34        7.0  3  4.031129           0           0           1           0   \n\n    5_clusters  6_clusters  ...  18_clusters  19_clusters  20_clusters  \\\n0            0           2  ...            0           15           17   \n1            3           4  ...            3           11            9   \n2            0           2  ...            9            6           19   \n3            1           5  ...            6            8            3   \n4            2           0  ...            1            9            1   \n5            2           0  ...            7            1            0   \n6            1           3  ...            2            2           16   \n7            1           5  ...            6            8            3   \n8            0           2  ...            8           16            5   \n9            0           2  ...            8           16            5   \n10           0           2  ...            9            6            7   \n11           4           1  ...            4            4            6   \n12           4           1  ...            5            7            4   \n13           4           1  ...           10           12            2   \n14           0           2  ...           13           13           14   \n15           4           1  ...            4            4            6   \n16           4           1  ...            5            7            4   \n17           3           4  ...           12           10            8   \n18           2           0  ...            1            9            1   \n19           2           0  ...            7            1            0   \n20           1           3  ...            2           18           15   \n21           0           2  ...           17            3           10   \n22           0           2  ...           16            5           12   \n23           3           4  ...            3           11            9   \n24           1           3  ...           15           17           18   \n25           1           5  ...           11            0           11   \n26           2           0  ...           14           14           13   \n27           0           2  ...            0           15           17   \n28           0           2  ...            0           15           17   \n29           0           2  ...            0           15           17   \n30           0           2  ...            0           15           17   \n31           0           2  ...            0           15           17   \n32           0           2  ...            0           15           17   \n33           0           2  ...            0           15           17   \n34           0           2  ...            0           15           17   \n\n    21_clusters  22_clusters  23_clusters  24_clusters  25_clusters  \\\n0            15            9           10            4           20   \n1             6            1            1            9            8   \n2            19            2            8           12           13   \n3             1            8            6           22           22   \n4             4            4            9            2            0   \n5             8           10            3           18           17   \n6             3           16           15            0           12   \n7             1            8           22           11           10   \n8             5            5            7            7            9   \n9             5            5            7            7           24   \n10           11           19            4           19            4   \n11            2            6            0           23           23   \n12           14            3           13            1           21   \n13            9            0           19           20           11   \n14           17           17            2            8           18   \n15            2            6            0            6            6   \n16           14           21           20            5           19   \n17           16           11           14           10            2   \n18            4            4            9            2            0   \n19           20           20           21           21            5   \n20           18           18           18            3            3   \n21           13           12           16           14           16   \n22            7           15            5           13            1   \n23            6            1            1            9            8   \n24           10            7           11           15            7   \n25           12           13           17           17           15   \n26            0           14           12           16           14   \n27           15            9           10            4           20   \n28           15            9           10            4           20   \n29           15            9           10            4           20   \n30           15            9           10            4           20   \n31           15            9           10            4           20   \n32           15            9           10            4           20   \n33           15            9           10            4           20   \n34           15            9           10            4           20   \n\n    26_clusters  27_clusters  \n0             4           17  \n1            25           25  \n2            15            1  \n3            20           11  \n4             5            0  \n5             3           14  \n6             0            5  \n7            13            8  \n8             6           23  \n9            24            2  \n10            2           10  \n11           23           24  \n12           21           20  \n13           10           16  \n14           19           19  \n15           22            4  \n16            7           12  \n17           11            9  \n18            5           26  \n19            8            7  \n20           16           13  \n21           17            3  \n22           18           21  \n23            1           22  \n24           12            6  \n25           14           18  \n26            9           15  \n27            4           17  \n28            4           17  \n29            4           17  \n30            4           17  \n31            4           17  \n32            4           17  \n33            4           17  \n34            4           17  \n\n[35 rows x 31 columns]",
      "text/html": "<div>\n<style scoped>\n    .dataframe tbody tr th:only-of-type {\n        vertical-align: middle;\n    }\n\n    .dataframe tbody tr th {\n        vertical-align: top;\n    }\n\n    .dataframe thead th {\n        text-align: right;\n    }\n</style>\n<table border=\"1\" class=\"dataframe\">\n  <thead>\n    <tr style=\"text-align: right;\">\n      <th></th>\n      <th>View</th>\n      <th>x</th>\n      <th>y</th>\n      <th>dist</th>\n      <th>1_clusters</th>\n      <th>2_clusters</th>\n      <th>3_clusters</th>\n      <th>4_clusters</th>\n      <th>5_clusters</th>\n      <th>6_clusters</th>\n      <th>...</th>\n      <th>18_clusters</th>\n      <th>19_clusters</th>\n      <th>20_clusters</th>\n      <th>21_clusters</th>\n      <th>22_clusters</th>\n      <th>23_clusters</th>\n      <th>24_clusters</th>\n      <th>25_clusters</th>\n      <th>26_clusters</th>\n      <th>27_clusters</th>\n    </tr>\n  </thead>\n  <tbody>\n    <tr>\n      <th>0</th>\n      <td></td>\n      <td>5.0</td>\n      <td>3</td>\n      <td>4.031129</td>\n      <td>0</td>\n      <td>0</td>\n      <td>1</td>\n      <td>0</td>\n      <td>0</td>\n      <td>2</td>\n      <td>...</td>\n      <td>0</td>\n      <td>15</td>\n      <td>17</td>\n      <td>15</td>\n      <td>9</td>\n      <td>10</td>\n      <td>4</td>\n      <td>20</td>\n      <td>4</td>\n      <td>17</td>\n    </tr>\n    <tr>\n      <th>1</th>\n      <td>a</td>\n      <td>1.5</td>\n      <td>1</td>\n      <td>0.000000</td>\n      <td>0</td>\n      <td>1</td>\n      <td>2</td>\n      <td>2</td>\n      <td>3</td>\n      <td>4</td>\n      <td>...</td>\n      <td>3</td>\n      <td>11</td>\n      <td>9</td>\n      <td>6</td>\n      <td>1</td>\n      <td>1</td>\n      <td>9</td>\n      <td>8</td>\n      <td>25</td>\n      <td>25</td>\n    </tr>\n    <tr>\n      <th>2</th>\n      <td>b</td>\n      <td>6.0</td>\n      <td>2</td>\n      <td>4.609772</td>\n      <td>0</td>\n      <td>0</td>\n      <td>1</td>\n      <td>0</td>\n      <td>0</td>\n      <td>2</td>\n      <td>...</td>\n      <td>9</td>\n      <td>6</td>\n      <td>19</td>\n      <td>19</td>\n      <td>2</td>\n      <td>8</td>\n      <td>12</td>\n      <td>13</td>\n      <td>15</td>\n      <td>1</td>\n    </tr>\n    <tr>\n      <th>3</th>\n      <td>c</td>\n      <td>4.0</td>\n      <td>2</td>\n      <td>2.692582</td>\n      <td>0</td>\n      <td>0</td>\n      <td>1</td>\n      <td>3</td>\n      <td>1</td>\n      <td>5</td>\n      <td>...</td>\n      <td>6</td>\n      <td>8</td>\n      <td>3</td>\n      <td>1</td>\n      <td>8</td>\n      <td>6</td>\n      <td>22</td>\n      <td>22</td>\n      <td>20</td>\n      <td>11</td>\n    </tr>\n    <tr>\n      <th>4</th>\n      <td>d</td>\n      <td>3.5</td>\n      <td>1</td>\n      <td>2.000000</td>\n      <td>0</td>\n      <td>1</td>\n      <td>0</td>\n      <td>1</td>\n      <td>2</td>\n      <td>0</td>\n      <td>...</td>\n      <td>1</td>\n      <td>9</td>\n      <td>1</td>\n      <td>4</td>\n      <td>4</td>\n      <td>9</td>\n      <td>2</td>\n      <td>0</td>\n      <td>5</td>\n      <td>0</td>\n    </tr>\n    <tr>\n      <th>5</th>\n      <td>e</td>\n      <td>3.0</td>\n      <td>0</td>\n      <td>1.802776</td>\n      <td>0</td>\n      <td>1</td>\n      <td>0</td>\n      <td>1</td>\n      <td>2</td>\n      <td>0</td>\n      <td>...</td>\n      <td>7</td>\n      <td>1</td>\n      <td>0</td>\n      <td>8</td>\n      <td>10</td>\n      <td>3</td>\n      <td>18</td>\n      <td>17</td>\n      <td>3</td>\n      <td>14</td>\n    </tr>\n    <tr>\n      <th>6</th>\n      <td>f</td>\n      <td>4.5</td>\n      <td>1</td>\n      <td>3.000000</td>\n      <td>0</td>\n      <td>0</td>\n      <td>0</td>\n      <td>3</td>\n      <td>1</td>\n      <td>3</td>\n      <td>...</td>\n      <td>2</td>\n      <td>2</td>\n      <td>16</td>\n      <td>3</td>\n      <td>16</td>\n      <td>15</td>\n      <td>0</td>\n      <td>12</td>\n      <td>0</td>\n      <td>5</td>\n    </tr>\n    <tr>\n      <th>7</th>\n      <td>g</td>\n      <td>5.5</td>\n      <td>1</td>\n      <td>4.000000</td>\n      <td>0</td>\n      <td>0</td>\n      <td>1</td>\n      <td>3</td>\n      <td>1</td>\n      <td>5</td>\n      <td>...</td>\n      <td>6</td>\n      <td>8</td>\n      <td>3</td>\n      <td>1</td>\n      <td>8</td>\n      <td>22</td>\n      <td>11</td>\n      <td>10</td>\n      <td>13</td>\n      <td>8</td>\n    </tr>\n    <tr>\n      <th>8</th>\n      <td>h</td>\n      <td>6.5</td>\n      <td>1</td>\n      <td>5.000000</td>\n      <td>0</td>\n      <td>0</td>\n      <td>1</td>\n      <td>0</td>\n      <td>0</td>\n      <td>2</td>\n      <td>...</td>\n      <td>8</td>\n      <td>16</td>\n      <td>5</td>\n      <td>5</td>\n      <td>5</td>\n      <td>7</td>\n      <td>7</td>\n      <td>9</td>\n      <td>6</td>\n      <td>23</td>\n    </tr>\n    <tr>\n      <th>9</th>\n      <td>i</td>\n      <td>8.0</td>\n      <td>0</td>\n      <td>6.576473</td>\n      <td>0</td>\n      <td>0</td>\n      <td>1</td>\n      <td>0</td>\n      <td>0</td>\n      <td>2</td>\n      <td>...</td>\n      <td>8</td>\n      <td>16</td>\n      <td>5</td>\n      <td>5</td>\n      <td>5</td>\n      <td>7</td>\n      <td>7</td>\n      <td>24</td>\n      <td>24</td>\n      <td>2</td>\n    </tr>\n    <tr>\n      <th>10</th>\n      <td>j</td>\n      <td>7.5</td>\n      <td>1</td>\n      <td>6.000000</td>\n      <td>0</td>\n      <td>0</td>\n      <td>1</td>\n      <td>0</td>\n      <td>0</td>\n      <td>2</td>\n      <td>...</td>\n      <td>9</td>\n      <td>6</td>\n      <td>7</td>\n      <td>11</td>\n      <td>19</td>\n      <td>4</td>\n      <td>19</td>\n      <td>4</td>\n      <td>2</td>\n      <td>10</td>\n    </tr>\n    <tr>\n      <th>11</th>\n      <td>k</td>\n      <td>8.5</td>\n      <td>1</td>\n      <td>7.000000</td>\n      <td>0</td>\n      <td>0</td>\n      <td>1</td>\n      <td>0</td>\n      <td>4</td>\n      <td>1</td>\n      <td>...</td>\n      <td>4</td>\n      <td>4</td>\n      <td>6</td>\n      <td>2</td>\n      <td>6</td>\n      <td>0</td>\n      <td>23</td>\n      <td>23</td>\n      <td>23</td>\n      <td>24</td>\n    </tr>\n    <tr>\n      <th>12</th>\n      <td>l</td>\n      <td>9.5</td>\n      <td>1</td>\n      <td>8.000000</td>\n      <td>0</td>\n      <td>0</td>\n      <td>1</td>\n      <td>0</td>\n      <td>4</td>\n      <td>1</td>\n      <td>...</td>\n      <td>5</td>\n      <td>7</td>\n      <td>4</td>\n      <td>14</td>\n      <td>3</td>\n      <td>13</td>\n      <td>1</td>\n      <td>21</td>\n      <td>21</td>\n      <td>20</td>\n    </tr>\n    <tr>\n      <th>13</th>\n      <td>m</td>\n      <td>8.0</td>\n      <td>2</td>\n      <td>6.576473</td>\n      <td>0</td>\n      <td>0</td>\n      <td>1</td>\n      <td>0</td>\n      <td>4</td>\n      <td>1</td>\n      <td>...</td>\n      <td>10</td>\n      <td>12</td>\n      <td>2</td>\n      <td>9</td>\n      <td>0</td>\n      <td>19</td>\n      <td>20</td>\n      <td>11</td>\n      <td>10</td>\n      <td>16</td>\n    </tr>\n    <tr>\n      <th>14</th>\n      <td>n</td>\n      <td>7.0</td>\n      <td>2</td>\n      <td>5.590170</td>\n      <td>0</td>\n      <td>0</td>\n      <td>1</td>\n      <td>0</td>\n      <td>0</td>\n      <td>2</td>\n      <td>...</td>\n      <td>13</td>\n      <td>13</td>\n      <td>14</td>\n      <td>17</td>\n      <td>17</td>\n      <td>2</td>\n      <td>8</td>\n      <td>18</td>\n      <td>19</td>\n      <td>19</td>\n    </tr>\n    <tr>\n      <th>15</th>\n      <td>o</td>\n      <td>9.0</td>\n      <td>0</td>\n      <td>7.566373</td>\n      <td>0</td>\n      <td>0</td>\n      <td>1</td>\n      <td>0</td>\n      <td>4</td>\n      <td>1</td>\n      <td>...</td>\n      <td>4</td>\n      <td>4</td>\n      <td>6</td>\n      <td>2</td>\n      <td>6</td>\n      <td>0</td>\n      <td>6</td>\n      <td>6</td>\n      <td>22</td>\n      <td>4</td>\n    </tr>\n    <tr>\n      <th>16</th>\n      <td>p</td>\n      <td>10.0</td>\n      <td>0</td>\n      <td>8.558621</td>\n      <td>0</td>\n      <td>0</td>\n      <td>1</td>\n      <td>0</td>\n      <td>4</td>\n      <td>1</td>\n      <td>...</td>\n      <td>5</td>\n      <td>7</td>\n      <td>4</td>\n      <td>14</td>\n      <td>21</td>\n      <td>20</td>\n      <td>5</td>\n      <td>19</td>\n      <td>7</td>\n      <td>12</td>\n    </tr>\n    <tr>\n      <th>17</th>\n      <td>q</td>\n      <td>1.0</td>\n      <td>0</td>\n      <td>1.118034</td>\n      <td>0</td>\n      <td>1</td>\n      <td>2</td>\n      <td>2</td>\n      <td>3</td>\n      <td>4</td>\n      <td>...</td>\n      <td>12</td>\n      <td>10</td>\n      <td>8</td>\n      <td>16</td>\n      <td>11</td>\n      <td>14</td>\n      <td>10</td>\n      <td>2</td>\n      <td>11</td>\n      <td>9</td>\n    </tr>\n    <tr>\n      <th>18</th>\n      <td>r</td>\n      <td>4.0</td>\n      <td>0</td>\n      <td>2.692582</td>\n      <td>0</td>\n      <td>1</td>\n      <td>0</td>\n      <td>1</td>\n      <td>2</td>\n      <td>0</td>\n      <td>...</td>\n      <td>1</td>\n      <td>9</td>\n      <td>1</td>\n      <td>4</td>\n      <td>4</td>\n      <td>9</td>\n      <td>2</td>\n      <td>0</td>\n      <td>5</td>\n      <td>26</td>\n    </tr>\n    <tr>\n      <th>19</th>\n      <td>s</td>\n      <td>2.5</td>\n      <td>1</td>\n      <td>1.000000</td>\n      <td>0</td>\n      <td>1</td>\n      <td>0</td>\n      <td>1</td>\n      <td>2</td>\n      <td>0</td>\n      <td>...</td>\n      <td>7</td>\n      <td>1</td>\n      <td>0</td>\n      <td>20</td>\n      <td>20</td>\n      <td>21</td>\n      <td>21</td>\n      <td>5</td>\n      <td>8</td>\n      <td>7</td>\n    </tr>\n    <tr>\n      <th>20</th>\n      <td>t</td>\n      <td>5.0</td>\n      <td>0</td>\n      <td>3.640055</td>\n      <td>0</td>\n      <td>0</td>\n      <td>0</td>\n      <td>3</td>\n      <td>1</td>\n      <td>3</td>\n      <td>...</td>\n      <td>2</td>\n      <td>18</td>\n      <td>15</td>\n      <td>18</td>\n      <td>18</td>\n      <td>18</td>\n      <td>3</td>\n      <td>3</td>\n      <td>16</td>\n      <td>13</td>\n    </tr>\n    <tr>\n      <th>21</th>\n      <td>u</td>\n      <td>7.0</td>\n      <td>0</td>\n      <td>5.590170</td>\n      <td>0</td>\n      <td>0</td>\n      <td>1</td>\n      <td>0</td>\n      <td>0</td>\n      <td>2</td>\n      <td>...</td>\n      <td>17</td>\n      <td>3</td>\n      <td>10</td>\n      <td>13</td>\n      <td>12</td>\n      <td>16</td>\n      <td>14</td>\n      <td>16</td>\n      <td>17</td>\n      <td>3</td>\n    </tr>\n    <tr>\n      <th>22</th>\n      <td>v</td>\n      <td>5.0</td>\n      <td>2</td>\n      <td>3.640055</td>\n      <td>0</td>\n      <td>0</td>\n      <td>1</td>\n      <td>0</td>\n      <td>0</td>\n      <td>2</td>\n      <td>...</td>\n      <td>16</td>\n      <td>5</td>\n      <td>12</td>\n      <td>7</td>\n      <td>15</td>\n      <td>5</td>\n      <td>13</td>\n      <td>1</td>\n      <td>18</td>\n      <td>21</td>\n    </tr>\n    <tr>\n      <th>23</th>\n      <td>w</td>\n      <td>2.0</td>\n      <td>0</td>\n      <td>1.118034</td>\n      <td>0</td>\n      <td>1</td>\n      <td>2</td>\n      <td>2</td>\n      <td>3</td>\n      <td>4</td>\n      <td>...</td>\n      <td>3</td>\n      <td>11</td>\n      <td>9</td>\n      <td>6</td>\n      <td>1</td>\n      <td>1</td>\n      <td>9</td>\n      <td>8</td>\n      <td>1</td>\n      <td>22</td>\n    </tr>\n    <tr>\n      <th>24</th>\n      <td>x</td>\n      <td>3.0</td>\n      <td>2</td>\n      <td>1.802776</td>\n      <td>0</td>\n      <td>0</td>\n      <td>0</td>\n      <td>3</td>\n      <td>1</td>\n      <td>3</td>\n      <td>...</td>\n      <td>15</td>\n      <td>17</td>\n      <td>18</td>\n      <td>10</td>\n      <td>7</td>\n      <td>11</td>\n      <td>15</td>\n      <td>7</td>\n      <td>12</td>\n      <td>6</td>\n    </tr>\n    <tr>\n      <th>25</th>\n      <td>y</td>\n      <td>6.0</td>\n      <td>0</td>\n      <td>4.609772</td>\n      <td>0</td>\n      <td>0</td>\n      <td>1</td>\n      <td>3</td>\n      <td>1</td>\n      <td>5</td>\n      <td>...</td>\n      <td>11</td>\n      <td>0</td>\n      <td>11</td>\n      <td>12</td>\n      <td>13</td>\n      <td>17</td>\n      <td>17</td>\n      <td>15</td>\n      <td>14</td>\n      <td>18</td>\n    </tr>\n    <tr>\n      <th>26</th>\n      <td>z</td>\n      <td>2.0</td>\n      <td>2</td>\n      <td>1.118034</td>\n      <td>0</td>\n      <td>1</td>\n      <td>0</td>\n      <td>1</td>\n      <td>2</td>\n      <td>0</td>\n      <td>...</td>\n      <td>14</td>\n      <td>14</td>\n      <td>13</td>\n      <td>0</td>\n      <td>14</td>\n      <td>12</td>\n      <td>16</td>\n      <td>14</td>\n      <td>9</td>\n      <td>15</td>\n    </tr>\n    <tr>\n      <th>27</th>\n      <td></td>\n      <td>3.0</td>\n      <td>3</td>\n      <td>4.031129</td>\n      <td>0</td>\n      <td>0</td>\n      <td>1</td>\n      <td>0</td>\n      <td>0</td>\n      <td>2</td>\n      <td>...</td>\n      <td>0</td>\n      <td>15</td>\n      <td>17</td>\n      <td>15</td>\n      <td>9</td>\n      <td>10</td>\n      <td>4</td>\n      <td>20</td>\n      <td>4</td>\n      <td>17</td>\n    </tr>\n    <tr>\n      <th>28</th>\n      <td></td>\n      <td>3.5</td>\n      <td>3</td>\n      <td>4.031129</td>\n      <td>0</td>\n      <td>0</td>\n      <td>1</td>\n      <td>0</td>\n      <td>0</td>\n      <td>2</td>\n      <td>...</td>\n      <td>0</td>\n      <td>15</td>\n      <td>17</td>\n      <td>15</td>\n      <td>9</td>\n      <td>10</td>\n      <td>4</td>\n      <td>20</td>\n      <td>4</td>\n      <td>17</td>\n    </tr>\n    <tr>\n      <th>29</th>\n      <td></td>\n      <td>4.0</td>\n      <td>3</td>\n      <td>4.031129</td>\n      <td>0</td>\n      <td>0</td>\n      <td>1</td>\n      <td>0</td>\n      <td>0</td>\n      <td>2</td>\n      <td>...</td>\n      <td>0</td>\n      <td>15</td>\n      <td>17</td>\n      <td>15</td>\n      <td>9</td>\n      <td>10</td>\n      <td>4</td>\n      <td>20</td>\n      <td>4</td>\n      <td>17</td>\n    </tr>\n    <tr>\n      <th>30</th>\n      <td></td>\n      <td>4.5</td>\n      <td>3</td>\n      <td>4.031129</td>\n      <td>0</td>\n      <td>0</td>\n      <td>1</td>\n      <td>0</td>\n      <td>0</td>\n      <td>2</td>\n      <td>...</td>\n      <td>0</td>\n      <td>15</td>\n      <td>17</td>\n      <td>15</td>\n      <td>9</td>\n      <td>10</td>\n      <td>4</td>\n      <td>20</td>\n      <td>4</td>\n      <td>17</td>\n    </tr>\n    <tr>\n      <th>31</th>\n      <td></td>\n      <td>5.5</td>\n      <td>3</td>\n      <td>4.031129</td>\n      <td>0</td>\n      <td>0</td>\n      <td>1</td>\n      <td>0</td>\n      <td>0</td>\n      <td>2</td>\n      <td>...</td>\n      <td>0</td>\n      <td>15</td>\n      <td>17</td>\n      <td>15</td>\n      <td>9</td>\n      <td>10</td>\n      <td>4</td>\n      <td>20</td>\n      <td>4</td>\n      <td>17</td>\n    </tr>\n    <tr>\n      <th>32</th>\n      <td></td>\n      <td>6.0</td>\n      <td>3</td>\n      <td>4.031129</td>\n      <td>0</td>\n      <td>0</td>\n      <td>1</td>\n      <td>0</td>\n      <td>0</td>\n      <td>2</td>\n      <td>...</td>\n      <td>0</td>\n      <td>15</td>\n      <td>17</td>\n      <td>15</td>\n      <td>9</td>\n      <td>10</td>\n      <td>4</td>\n      <td>20</td>\n      <td>4</td>\n      <td>17</td>\n    </tr>\n    <tr>\n      <th>33</th>\n      <td></td>\n      <td>6.5</td>\n      <td>3</td>\n      <td>4.031129</td>\n      <td>0</td>\n      <td>0</td>\n      <td>1</td>\n      <td>0</td>\n      <td>0</td>\n      <td>2</td>\n      <td>...</td>\n      <td>0</td>\n      <td>15</td>\n      <td>17</td>\n      <td>15</td>\n      <td>9</td>\n      <td>10</td>\n      <td>4</td>\n      <td>20</td>\n      <td>4</td>\n      <td>17</td>\n    </tr>\n    <tr>\n      <th>34</th>\n      <td></td>\n      <td>7.0</td>\n      <td>3</td>\n      <td>4.031129</td>\n      <td>0</td>\n      <td>0</td>\n      <td>1</td>\n      <td>0</td>\n      <td>0</td>\n      <td>2</td>\n      <td>...</td>\n      <td>0</td>\n      <td>15</td>\n      <td>17</td>\n      <td>15</td>\n      <td>9</td>\n      <td>10</td>\n      <td>4</td>\n      <td>20</td>\n      <td>4</td>\n      <td>17</td>\n    </tr>\n  </tbody>\n</table>\n<p>35 rows × 31 columns</p>\n</div>"
     },
     "execution_count": 14,
     "metadata": {},
     "output_type": "execute_result"
    }
   ],
   "source": [
    "SPACEBAR_LEN = 9\n",
    "BLOCK_SIZE = 0.5\n",
    "space_x_k = col_heat['x'][0]\n",
    "\n",
    "for i in range(SPACEBAR_LEN):\n",
    "    new_block_k = space_x_k - (SPACEBAR_LEN - 1) / 2 * BLOCK_SIZE + i * BLOCK_SIZE\n",
    "    print(space_x_k, new_block_k)\n",
    "    if new_block_k == space_x_k:\n",
    "        continue\n",
    "\n",
    "    # append the other rows for spacebar draw\n",
    "    col_heat = col_heat.append(col_heat.loc[[0] * 1].assign(**{'x': new_block_k}), ignore_index=True)\n",
    "\n",
    "col_heat"
   ],
   "metadata": {
    "collapsed": false,
    "pycharm": {
     "name": "#%%\n"
    }
   }
  },
  {
   "cell_type": "code",
   "execution_count": 15,
   "outputs": [],
   "source": [
    "# Create heatmap of KMeans\n",
    "\n",
    "take_out = ['x', 'y', 'dist', 'View']\n",
    "\n",
    "for col in col_heat.columns:\n",
    "    if col in take_out:\n",
    "        continue\n",
    "    name_split = col.split(\"_\")\n",
    "    n_cluster = int(name_split[0])\n",
    "    _ = col_heat.pivot('y', 'x', col) # col takes all values of letters\n",
    "    plt.figure(figsize=(24,14))\n",
    "    plt.axis('off')\n",
    "    plt.title(\"Heatmap: \" + col)\n",
    "    sns.heatmap(_, annot=labz, fmt='', square=True, cbar_kws = dict(use_gridspec=False, location=\"bottom\", ticks=range(0, n_cluster+1)))\n",
    "    plt.savefig(\"C:\\\\Users\\\\giuli\\\\Desktop\\\\cluster_new_ds\\\\\" + col + \"_heat.png\", bbox_inches='tight')\n",
    "    plt.close()"
   ],
   "metadata": {
    "collapsed": false,
    "pycharm": {
     "name": "#%%\n"
    }
   }
  },
  {
   "cell_type": "code",
   "execution_count": 16,
   "outputs": [
    {
     "data": {
      "text/plain": "   View  1_clusters  2_clusters  3_clusters  4_clusters  5_clusters  \\\n0                 0           0           1           0           0   \n1     a           0           1           2           2           3   \n2     b           0           0           1           0           0   \n3     c           0           0           1           3           1   \n4     d           0           1           0           1           2   \n5     e           0           1           0           1           2   \n6     f           0           0           0           3           1   \n7     g           0           0           1           3           1   \n8     h           0           0           1           0           0   \n9     i           0           0           1           0           0   \n10    j           0           0           1           0           0   \n11    k           0           0           1           0           4   \n12    l           0           0           1           0           4   \n13    m           0           0           1           0           4   \n14    n           0           0           1           0           0   \n15    o           0           0           1           0           4   \n16    p           0           0           1           0           4   \n17    q           0           1           2           2           3   \n18    r           0           1           0           1           2   \n19    s           0           1           0           1           2   \n20    t           0           0           0           3           1   \n21    u           0           0           1           0           0   \n22    v           0           0           1           0           0   \n23    w           0           1           2           2           3   \n24    x           0           0           0           3           1   \n25    y           0           0           1           3           1   \n26    z           0           1           0           1           2   \n\n    6_clusters  7_clusters  8_clusters  9_clusters  ...  18_clusters  \\\n0            2           2           7           5  ...            0   \n1            4           4           5           2  ...            3   \n2            2           2           0           3  ...            9   \n3            5           1           4           6  ...            6   \n4            0           0           3           1  ...            1   \n5            0           0           3           8  ...            7   \n6            3           5           1           0  ...            2   \n7            5           1           4           6  ...            6   \n8            2           2           0           3  ...            8   \n9            2           2           0           3  ...            8   \n10           2           2           0           3  ...            9   \n11           1           3           2           4  ...            4   \n12           1           3           2           4  ...            5   \n13           1           3           2           4  ...           10   \n14           2           2           0           3  ...           13   \n15           1           3           2           4  ...            4   \n16           1           3           2           4  ...            5   \n17           4           6           6           7  ...           12   \n18           0           0           3           1  ...            1   \n19           0           0           3           8  ...            7   \n20           3           5           1           0  ...            2   \n21           2           2           0           3  ...           17   \n22           2           2           7           5  ...           16   \n23           4           4           5           2  ...            3   \n24           3           5           1           0  ...           15   \n25           5           1           4           6  ...           11   \n26           0           0           3           1  ...           14   \n\n    19_clusters  20_clusters  21_clusters  22_clusters  23_clusters  \\\n0            15           17           15            9           10   \n1            11            9            6            1            1   \n2             6           19           19            2            8   \n3             8            3            1            8            6   \n4             9            1            4            4            9   \n5             1            0            8           10            3   \n6             2           16            3           16           15   \n7             8            3            1            8           22   \n8            16            5            5            5            7   \n9            16            5            5            5            7   \n10            6            7           11           19            4   \n11            4            6            2            6            0   \n12            7            4           14            3           13   \n13           12            2            9            0           19   \n14           13           14           17           17            2   \n15            4            6            2            6            0   \n16            7            4           14           21           20   \n17           10            8           16           11           14   \n18            9            1            4            4            9   \n19            1            0           20           20           21   \n20           18           15           18           18           18   \n21            3           10           13           12           16   \n22            5           12            7           15            5   \n23           11            9            6            1            1   \n24           17           18           10            7           11   \n25            0           11           12           13           17   \n26           14           13            0           14           12   \n\n    24_clusters  25_clusters  26_clusters  27_clusters  \n0             4           20            4           17  \n1             9            8           25           25  \n2            12           13           15            1  \n3            22           22           20           11  \n4             2            0            5            0  \n5            18           17            3           14  \n6             0           12            0            5  \n7            11           10           13            8  \n8             7            9            6           23  \n9             7           24           24            2  \n10           19            4            2           10  \n11           23           23           23           24  \n12            1           21           21           20  \n13           20           11           10           16  \n14            8           18           19           19  \n15            6            6           22            4  \n16            5           19            7           12  \n17           10            2           11            9  \n18            2            0            5           26  \n19           21            5            8            7  \n20            3            3           16           13  \n21           14           16           17            3  \n22           13            1           18           21  \n23            9            8            1           22  \n24           15            7           12            6  \n25           17           15           14           18  \n26           16           14            9           15  \n\n[27 rows x 28 columns]",
      "text/html": "<div>\n<style scoped>\n    .dataframe tbody tr th:only-of-type {\n        vertical-align: middle;\n    }\n\n    .dataframe tbody tr th {\n        vertical-align: top;\n    }\n\n    .dataframe thead th {\n        text-align: right;\n    }\n</style>\n<table border=\"1\" class=\"dataframe\">\n  <thead>\n    <tr style=\"text-align: right;\">\n      <th></th>\n      <th>View</th>\n      <th>1_clusters</th>\n      <th>2_clusters</th>\n      <th>3_clusters</th>\n      <th>4_clusters</th>\n      <th>5_clusters</th>\n      <th>6_clusters</th>\n      <th>7_clusters</th>\n      <th>8_clusters</th>\n      <th>9_clusters</th>\n      <th>...</th>\n      <th>18_clusters</th>\n      <th>19_clusters</th>\n      <th>20_clusters</th>\n      <th>21_clusters</th>\n      <th>22_clusters</th>\n      <th>23_clusters</th>\n      <th>24_clusters</th>\n      <th>25_clusters</th>\n      <th>26_clusters</th>\n      <th>27_clusters</th>\n    </tr>\n  </thead>\n  <tbody>\n    <tr>\n      <th>0</th>\n      <td></td>\n      <td>0</td>\n      <td>0</td>\n      <td>1</td>\n      <td>0</td>\n      <td>0</td>\n      <td>2</td>\n      <td>2</td>\n      <td>7</td>\n      <td>5</td>\n      <td>...</td>\n      <td>0</td>\n      <td>15</td>\n      <td>17</td>\n      <td>15</td>\n      <td>9</td>\n      <td>10</td>\n      <td>4</td>\n      <td>20</td>\n      <td>4</td>\n      <td>17</td>\n    </tr>\n    <tr>\n      <th>1</th>\n      <td>a</td>\n      <td>0</td>\n      <td>1</td>\n      <td>2</td>\n      <td>2</td>\n      <td>3</td>\n      <td>4</td>\n      <td>4</td>\n      <td>5</td>\n      <td>2</td>\n      <td>...</td>\n      <td>3</td>\n      <td>11</td>\n      <td>9</td>\n      <td>6</td>\n      <td>1</td>\n      <td>1</td>\n      <td>9</td>\n      <td>8</td>\n      <td>25</td>\n      <td>25</td>\n    </tr>\n    <tr>\n      <th>2</th>\n      <td>b</td>\n      <td>0</td>\n      <td>0</td>\n      <td>1</td>\n      <td>0</td>\n      <td>0</td>\n      <td>2</td>\n      <td>2</td>\n      <td>0</td>\n      <td>3</td>\n      <td>...</td>\n      <td>9</td>\n      <td>6</td>\n      <td>19</td>\n      <td>19</td>\n      <td>2</td>\n      <td>8</td>\n      <td>12</td>\n      <td>13</td>\n      <td>15</td>\n      <td>1</td>\n    </tr>\n    <tr>\n      <th>3</th>\n      <td>c</td>\n      <td>0</td>\n      <td>0</td>\n      <td>1</td>\n      <td>3</td>\n      <td>1</td>\n      <td>5</td>\n      <td>1</td>\n      <td>4</td>\n      <td>6</td>\n      <td>...</td>\n      <td>6</td>\n      <td>8</td>\n      <td>3</td>\n      <td>1</td>\n      <td>8</td>\n      <td>6</td>\n      <td>22</td>\n      <td>22</td>\n      <td>20</td>\n      <td>11</td>\n    </tr>\n    <tr>\n      <th>4</th>\n      <td>d</td>\n      <td>0</td>\n      <td>1</td>\n      <td>0</td>\n      <td>1</td>\n      <td>2</td>\n      <td>0</td>\n      <td>0</td>\n      <td>3</td>\n      <td>1</td>\n      <td>...</td>\n      <td>1</td>\n      <td>9</td>\n      <td>1</td>\n      <td>4</td>\n      <td>4</td>\n      <td>9</td>\n      <td>2</td>\n      <td>0</td>\n      <td>5</td>\n      <td>0</td>\n    </tr>\n    <tr>\n      <th>5</th>\n      <td>e</td>\n      <td>0</td>\n      <td>1</td>\n      <td>0</td>\n      <td>1</td>\n      <td>2</td>\n      <td>0</td>\n      <td>0</td>\n      <td>3</td>\n      <td>8</td>\n      <td>...</td>\n      <td>7</td>\n      <td>1</td>\n      <td>0</td>\n      <td>8</td>\n      <td>10</td>\n      <td>3</td>\n      <td>18</td>\n      <td>17</td>\n      <td>3</td>\n      <td>14</td>\n    </tr>\n    <tr>\n      <th>6</th>\n      <td>f</td>\n      <td>0</td>\n      <td>0</td>\n      <td>0</td>\n      <td>3</td>\n      <td>1</td>\n      <td>3</td>\n      <td>5</td>\n      <td>1</td>\n      <td>0</td>\n      <td>...</td>\n      <td>2</td>\n      <td>2</td>\n      <td>16</td>\n      <td>3</td>\n      <td>16</td>\n      <td>15</td>\n      <td>0</td>\n      <td>12</td>\n      <td>0</td>\n      <td>5</td>\n    </tr>\n    <tr>\n      <th>7</th>\n      <td>g</td>\n      <td>0</td>\n      <td>0</td>\n      <td>1</td>\n      <td>3</td>\n      <td>1</td>\n      <td>5</td>\n      <td>1</td>\n      <td>4</td>\n      <td>6</td>\n      <td>...</td>\n      <td>6</td>\n      <td>8</td>\n      <td>3</td>\n      <td>1</td>\n      <td>8</td>\n      <td>22</td>\n      <td>11</td>\n      <td>10</td>\n      <td>13</td>\n      <td>8</td>\n    </tr>\n    <tr>\n      <th>8</th>\n      <td>h</td>\n      <td>0</td>\n      <td>0</td>\n      <td>1</td>\n      <td>0</td>\n      <td>0</td>\n      <td>2</td>\n      <td>2</td>\n      <td>0</td>\n      <td>3</td>\n      <td>...</td>\n      <td>8</td>\n      <td>16</td>\n      <td>5</td>\n      <td>5</td>\n      <td>5</td>\n      <td>7</td>\n      <td>7</td>\n      <td>9</td>\n      <td>6</td>\n      <td>23</td>\n    </tr>\n    <tr>\n      <th>9</th>\n      <td>i</td>\n      <td>0</td>\n      <td>0</td>\n      <td>1</td>\n      <td>0</td>\n      <td>0</td>\n      <td>2</td>\n      <td>2</td>\n      <td>0</td>\n      <td>3</td>\n      <td>...</td>\n      <td>8</td>\n      <td>16</td>\n      <td>5</td>\n      <td>5</td>\n      <td>5</td>\n      <td>7</td>\n      <td>7</td>\n      <td>24</td>\n      <td>24</td>\n      <td>2</td>\n    </tr>\n    <tr>\n      <th>10</th>\n      <td>j</td>\n      <td>0</td>\n      <td>0</td>\n      <td>1</td>\n      <td>0</td>\n      <td>0</td>\n      <td>2</td>\n      <td>2</td>\n      <td>0</td>\n      <td>3</td>\n      <td>...</td>\n      <td>9</td>\n      <td>6</td>\n      <td>7</td>\n      <td>11</td>\n      <td>19</td>\n      <td>4</td>\n      <td>19</td>\n      <td>4</td>\n      <td>2</td>\n      <td>10</td>\n    </tr>\n    <tr>\n      <th>11</th>\n      <td>k</td>\n      <td>0</td>\n      <td>0</td>\n      <td>1</td>\n      <td>0</td>\n      <td>4</td>\n      <td>1</td>\n      <td>3</td>\n      <td>2</td>\n      <td>4</td>\n      <td>...</td>\n      <td>4</td>\n      <td>4</td>\n      <td>6</td>\n      <td>2</td>\n      <td>6</td>\n      <td>0</td>\n      <td>23</td>\n      <td>23</td>\n      <td>23</td>\n      <td>24</td>\n    </tr>\n    <tr>\n      <th>12</th>\n      <td>l</td>\n      <td>0</td>\n      <td>0</td>\n      <td>1</td>\n      <td>0</td>\n      <td>4</td>\n      <td>1</td>\n      <td>3</td>\n      <td>2</td>\n      <td>4</td>\n      <td>...</td>\n      <td>5</td>\n      <td>7</td>\n      <td>4</td>\n      <td>14</td>\n      <td>3</td>\n      <td>13</td>\n      <td>1</td>\n      <td>21</td>\n      <td>21</td>\n      <td>20</td>\n    </tr>\n    <tr>\n      <th>13</th>\n      <td>m</td>\n      <td>0</td>\n      <td>0</td>\n      <td>1</td>\n      <td>0</td>\n      <td>4</td>\n      <td>1</td>\n      <td>3</td>\n      <td>2</td>\n      <td>4</td>\n      <td>...</td>\n      <td>10</td>\n      <td>12</td>\n      <td>2</td>\n      <td>9</td>\n      <td>0</td>\n      <td>19</td>\n      <td>20</td>\n      <td>11</td>\n      <td>10</td>\n      <td>16</td>\n    </tr>\n    <tr>\n      <th>14</th>\n      <td>n</td>\n      <td>0</td>\n      <td>0</td>\n      <td>1</td>\n      <td>0</td>\n      <td>0</td>\n      <td>2</td>\n      <td>2</td>\n      <td>0</td>\n      <td>3</td>\n      <td>...</td>\n      <td>13</td>\n      <td>13</td>\n      <td>14</td>\n      <td>17</td>\n      <td>17</td>\n      <td>2</td>\n      <td>8</td>\n      <td>18</td>\n      <td>19</td>\n      <td>19</td>\n    </tr>\n    <tr>\n      <th>15</th>\n      <td>o</td>\n      <td>0</td>\n      <td>0</td>\n      <td>1</td>\n      <td>0</td>\n      <td>4</td>\n      <td>1</td>\n      <td>3</td>\n      <td>2</td>\n      <td>4</td>\n      <td>...</td>\n      <td>4</td>\n      <td>4</td>\n      <td>6</td>\n      <td>2</td>\n      <td>6</td>\n      <td>0</td>\n      <td>6</td>\n      <td>6</td>\n      <td>22</td>\n      <td>4</td>\n    </tr>\n    <tr>\n      <th>16</th>\n      <td>p</td>\n      <td>0</td>\n      <td>0</td>\n      <td>1</td>\n      <td>0</td>\n      <td>4</td>\n      <td>1</td>\n      <td>3</td>\n      <td>2</td>\n      <td>4</td>\n      <td>...</td>\n      <td>5</td>\n      <td>7</td>\n      <td>4</td>\n      <td>14</td>\n      <td>21</td>\n      <td>20</td>\n      <td>5</td>\n      <td>19</td>\n      <td>7</td>\n      <td>12</td>\n    </tr>\n    <tr>\n      <th>17</th>\n      <td>q</td>\n      <td>0</td>\n      <td>1</td>\n      <td>2</td>\n      <td>2</td>\n      <td>3</td>\n      <td>4</td>\n      <td>6</td>\n      <td>6</td>\n      <td>7</td>\n      <td>...</td>\n      <td>12</td>\n      <td>10</td>\n      <td>8</td>\n      <td>16</td>\n      <td>11</td>\n      <td>14</td>\n      <td>10</td>\n      <td>2</td>\n      <td>11</td>\n      <td>9</td>\n    </tr>\n    <tr>\n      <th>18</th>\n      <td>r</td>\n      <td>0</td>\n      <td>1</td>\n      <td>0</td>\n      <td>1</td>\n      <td>2</td>\n      <td>0</td>\n      <td>0</td>\n      <td>3</td>\n      <td>1</td>\n      <td>...</td>\n      <td>1</td>\n      <td>9</td>\n      <td>1</td>\n      <td>4</td>\n      <td>4</td>\n      <td>9</td>\n      <td>2</td>\n      <td>0</td>\n      <td>5</td>\n      <td>26</td>\n    </tr>\n    <tr>\n      <th>19</th>\n      <td>s</td>\n      <td>0</td>\n      <td>1</td>\n      <td>0</td>\n      <td>1</td>\n      <td>2</td>\n      <td>0</td>\n      <td>0</td>\n      <td>3</td>\n      <td>8</td>\n      <td>...</td>\n      <td>7</td>\n      <td>1</td>\n      <td>0</td>\n      <td>20</td>\n      <td>20</td>\n      <td>21</td>\n      <td>21</td>\n      <td>5</td>\n      <td>8</td>\n      <td>7</td>\n    </tr>\n    <tr>\n      <th>20</th>\n      <td>t</td>\n      <td>0</td>\n      <td>0</td>\n      <td>0</td>\n      <td>3</td>\n      <td>1</td>\n      <td>3</td>\n      <td>5</td>\n      <td>1</td>\n      <td>0</td>\n      <td>...</td>\n      <td>2</td>\n      <td>18</td>\n      <td>15</td>\n      <td>18</td>\n      <td>18</td>\n      <td>18</td>\n      <td>3</td>\n      <td>3</td>\n      <td>16</td>\n      <td>13</td>\n    </tr>\n    <tr>\n      <th>21</th>\n      <td>u</td>\n      <td>0</td>\n      <td>0</td>\n      <td>1</td>\n      <td>0</td>\n      <td>0</td>\n      <td>2</td>\n      <td>2</td>\n      <td>0</td>\n      <td>3</td>\n      <td>...</td>\n      <td>17</td>\n      <td>3</td>\n      <td>10</td>\n      <td>13</td>\n      <td>12</td>\n      <td>16</td>\n      <td>14</td>\n      <td>16</td>\n      <td>17</td>\n      <td>3</td>\n    </tr>\n    <tr>\n      <th>22</th>\n      <td>v</td>\n      <td>0</td>\n      <td>0</td>\n      <td>1</td>\n      <td>0</td>\n      <td>0</td>\n      <td>2</td>\n      <td>2</td>\n      <td>7</td>\n      <td>5</td>\n      <td>...</td>\n      <td>16</td>\n      <td>5</td>\n      <td>12</td>\n      <td>7</td>\n      <td>15</td>\n      <td>5</td>\n      <td>13</td>\n      <td>1</td>\n      <td>18</td>\n      <td>21</td>\n    </tr>\n    <tr>\n      <th>23</th>\n      <td>w</td>\n      <td>0</td>\n      <td>1</td>\n      <td>2</td>\n      <td>2</td>\n      <td>3</td>\n      <td>4</td>\n      <td>4</td>\n      <td>5</td>\n      <td>2</td>\n      <td>...</td>\n      <td>3</td>\n      <td>11</td>\n      <td>9</td>\n      <td>6</td>\n      <td>1</td>\n      <td>1</td>\n      <td>9</td>\n      <td>8</td>\n      <td>1</td>\n      <td>22</td>\n    </tr>\n    <tr>\n      <th>24</th>\n      <td>x</td>\n      <td>0</td>\n      <td>0</td>\n      <td>0</td>\n      <td>3</td>\n      <td>1</td>\n      <td>3</td>\n      <td>5</td>\n      <td>1</td>\n      <td>0</td>\n      <td>...</td>\n      <td>15</td>\n      <td>17</td>\n      <td>18</td>\n      <td>10</td>\n      <td>7</td>\n      <td>11</td>\n      <td>15</td>\n      <td>7</td>\n      <td>12</td>\n      <td>6</td>\n    </tr>\n    <tr>\n      <th>25</th>\n      <td>y</td>\n      <td>0</td>\n      <td>0</td>\n      <td>1</td>\n      <td>3</td>\n      <td>1</td>\n      <td>5</td>\n      <td>1</td>\n      <td>4</td>\n      <td>6</td>\n      <td>...</td>\n      <td>11</td>\n      <td>0</td>\n      <td>11</td>\n      <td>12</td>\n      <td>13</td>\n      <td>17</td>\n      <td>17</td>\n      <td>15</td>\n      <td>14</td>\n      <td>18</td>\n    </tr>\n    <tr>\n      <th>26</th>\n      <td>z</td>\n      <td>0</td>\n      <td>1</td>\n      <td>0</td>\n      <td>1</td>\n      <td>2</td>\n      <td>0</td>\n      <td>0</td>\n      <td>3</td>\n      <td>1</td>\n      <td>...</td>\n      <td>14</td>\n      <td>14</td>\n      <td>13</td>\n      <td>0</td>\n      <td>14</td>\n      <td>12</td>\n      <td>16</td>\n      <td>14</td>\n      <td>9</td>\n      <td>15</td>\n    </tr>\n  </tbody>\n</table>\n<p>27 rows × 28 columns</p>\n</div>"
     },
     "execution_count": 16,
     "metadata": {},
     "output_type": "execute_result"
    }
   ],
   "source": [
    "# df = pd.merge(df, col_heat, how=\"left\", on=[\"View\"])\n",
    "col_heat_base = col_heat\n",
    "\n",
    "col_heat_base = col_heat_base.iloc[:-8, :] #remove rows for creation of spacebar\n",
    "col_heat_base = col_heat_base.drop(['x', 'y','dist'], axis=1)\n",
    "col_heat_base.to_csv(r'C:\\Users\\giuli\\Desktop\\col_heat_base.csv', index = False, header=True)\n",
    "col_heat_base"
   ],
   "metadata": {
    "collapsed": false,
    "pycharm": {
     "name": "#%%\n"
    }
   }
  },
  {
   "cell_type": "code",
   "execution_count": 17,
   "outputs": [],
   "source": [
    "dict_col_heat_base = {}\n",
    "\n",
    "dict_col_heat_base['View'] = col_heat_base['View'].tolist()\n",
    "for i in range(1, 28):\n",
    "    dict_col_heat_base[str(i) + '_clusters'] = col_heat_base[str(i) + '_clusters'].tolist()\n",
    "\n",
    "path_col_heat_base = 'C:\\\\Users\\\\giuli\\\\Desktop\\\\PythonTesi\\\\jsonFile\\\\col_heat_base.json'\n",
    "\n",
    "# Creat json and save to file\n",
    "json_col_heat_base = json.dumps(dict_col_heat_base, indent=4)\n",
    "with open(path_col_heat_base, 'w') as file:\n",
    "    file.write(json_col_heat_base)"
   ],
   "metadata": {
    "collapsed": false,
    "pycharm": {
     "name": "#%%\n"
    }
   }
  },
  {
   "cell_type": "code",
   "execution_count": 18,
   "outputs": [
    {
     "data": {
      "text/plain": "         AxMean     AxMed     AxStd     AxVar     AxMax     AxMin    AyMean  \\\n0      0.035564  0.050492 -0.246425 -0.716062  0.127137 -0.053982 -0.030285   \n1      0.418963  0.425894 -0.587728 -0.915016  0.347631  0.426174 -0.401803   \n2     -0.141338 -0.006206 -0.353439 -0.790980 -0.062766 -0.123483 -0.216603   \n3      0.256653  0.265258 -0.604619 -0.921837  0.212075  0.299325 -0.311481   \n4      0.298634  0.335910 -0.753867 -0.969709  0.180758  0.346281 -0.412468   \n...         ...       ...       ...       ...       ...       ...       ...   \n25620 -0.163067 -0.092236 -0.923636 -0.997084 -0.328200  0.017506 -0.440830   \n25621  0.561896  0.554088 -0.825446 -0.984765  0.403676  0.694790 -0.680409   \n25622  0.218876  0.256172 -1.000000 -1.000000  0.014041  0.402161 -0.488374   \n25623  0.237969  0.285349 -0.920653 -0.996852  0.042701  0.386732 -0.514933   \n25624  0.216640  0.250562 -0.975203 -0.999693  0.022309  0.396651 -0.456681   \n\n          AyMed     AyStd     AyVar  ...  18_clusters  19_clusters  \\\n0     -0.040270 -0.422755 -0.833394  ...            3           11   \n1     -0.365685 -0.671085 -0.945907  ...            8           16   \n2     -0.176906 -0.461523 -0.855021  ...            3           11   \n3     -0.303788 -0.432660 -0.839063  ...            2           18   \n4     -0.386142 -0.647436 -0.937849  ...            0           15   \n...         ...       ...       ...  ...          ...          ...   \n25620 -0.397365 -0.889399 -0.993884  ...            3           11   \n25621 -0.634836 -0.925604 -0.997233  ...            5            7   \n25622 -0.451692 -1.000000 -1.000000  ...            8           16   \n25623 -0.484738 -0.899459 -0.994946  ...            2           18   \n25624 -0.408570 -0.827062 -0.985046  ...           11            0   \n\n       20_clusters  21_clusters  22_clusters  23_clusters  24_clusters  \\\n0                9            6            1            1            9   \n1                5            5            5            7            7   \n2                9            6            1            1            9   \n3               15           18           18           18            3   \n4               17           15            9           10            4   \n...            ...          ...          ...          ...          ...   \n25620            9            6            1            1            9   \n25621            4           14            3           13            1   \n25622            5            5            5            7            7   \n25623           15           18           18           18            3   \n25624           11           12           13           17           17   \n\n       25_clusters  26_clusters  27_clusters  \n0                8            1           22  \n1                9            6           23  \n2                8           25           25  \n3                3           16           13  \n4               20            4           17  \n...            ...          ...          ...  \n25620            8           25           25  \n25621           21           21           20  \n25622           24           24            2  \n25623            3           16           13  \n25624           15           14           18  \n\n[25625 rows x 310 columns]",
      "text/html": "<div>\n<style scoped>\n    .dataframe tbody tr th:only-of-type {\n        vertical-align: middle;\n    }\n\n    .dataframe tbody tr th {\n        vertical-align: top;\n    }\n\n    .dataframe thead th {\n        text-align: right;\n    }\n</style>\n<table border=\"1\" class=\"dataframe\">\n  <thead>\n    <tr style=\"text-align: right;\">\n      <th></th>\n      <th>AxMean</th>\n      <th>AxMed</th>\n      <th>AxStd</th>\n      <th>AxVar</th>\n      <th>AxMax</th>\n      <th>AxMin</th>\n      <th>AyMean</th>\n      <th>AyMed</th>\n      <th>AyStd</th>\n      <th>AyVar</th>\n      <th>...</th>\n      <th>18_clusters</th>\n      <th>19_clusters</th>\n      <th>20_clusters</th>\n      <th>21_clusters</th>\n      <th>22_clusters</th>\n      <th>23_clusters</th>\n      <th>24_clusters</th>\n      <th>25_clusters</th>\n      <th>26_clusters</th>\n      <th>27_clusters</th>\n    </tr>\n  </thead>\n  <tbody>\n    <tr>\n      <th>0</th>\n      <td>0.035564</td>\n      <td>0.050492</td>\n      <td>-0.246425</td>\n      <td>-0.716062</td>\n      <td>0.127137</td>\n      <td>-0.053982</td>\n      <td>-0.030285</td>\n      <td>-0.040270</td>\n      <td>-0.422755</td>\n      <td>-0.833394</td>\n      <td>...</td>\n      <td>3</td>\n      <td>11</td>\n      <td>9</td>\n      <td>6</td>\n      <td>1</td>\n      <td>1</td>\n      <td>9</td>\n      <td>8</td>\n      <td>1</td>\n      <td>22</td>\n    </tr>\n    <tr>\n      <th>1</th>\n      <td>0.418963</td>\n      <td>0.425894</td>\n      <td>-0.587728</td>\n      <td>-0.915016</td>\n      <td>0.347631</td>\n      <td>0.426174</td>\n      <td>-0.401803</td>\n      <td>-0.365685</td>\n      <td>-0.671085</td>\n      <td>-0.945907</td>\n      <td>...</td>\n      <td>8</td>\n      <td>16</td>\n      <td>5</td>\n      <td>5</td>\n      <td>5</td>\n      <td>7</td>\n      <td>7</td>\n      <td>9</td>\n      <td>6</td>\n      <td>23</td>\n    </tr>\n    <tr>\n      <th>2</th>\n      <td>-0.141338</td>\n      <td>-0.006206</td>\n      <td>-0.353439</td>\n      <td>-0.790980</td>\n      <td>-0.062766</td>\n      <td>-0.123483</td>\n      <td>-0.216603</td>\n      <td>-0.176906</td>\n      <td>-0.461523</td>\n      <td>-0.855021</td>\n      <td>...</td>\n      <td>3</td>\n      <td>11</td>\n      <td>9</td>\n      <td>6</td>\n      <td>1</td>\n      <td>1</td>\n      <td>9</td>\n      <td>8</td>\n      <td>25</td>\n      <td>25</td>\n    </tr>\n    <tr>\n      <th>3</th>\n      <td>0.256653</td>\n      <td>0.265258</td>\n      <td>-0.604619</td>\n      <td>-0.921837</td>\n      <td>0.212075</td>\n      <td>0.299325</td>\n      <td>-0.311481</td>\n      <td>-0.303788</td>\n      <td>-0.432660</td>\n      <td>-0.839063</td>\n      <td>...</td>\n      <td>2</td>\n      <td>18</td>\n      <td>15</td>\n      <td>18</td>\n      <td>18</td>\n      <td>18</td>\n      <td>3</td>\n      <td>3</td>\n      <td>16</td>\n      <td>13</td>\n    </tr>\n    <tr>\n      <th>4</th>\n      <td>0.298634</td>\n      <td>0.335910</td>\n      <td>-0.753867</td>\n      <td>-0.969709</td>\n      <td>0.180758</td>\n      <td>0.346281</td>\n      <td>-0.412468</td>\n      <td>-0.386142</td>\n      <td>-0.647436</td>\n      <td>-0.937849</td>\n      <td>...</td>\n      <td>0</td>\n      <td>15</td>\n      <td>17</td>\n      <td>15</td>\n      <td>9</td>\n      <td>10</td>\n      <td>4</td>\n      <td>20</td>\n      <td>4</td>\n      <td>17</td>\n    </tr>\n    <tr>\n      <th>...</th>\n      <td>...</td>\n      <td>...</td>\n      <td>...</td>\n      <td>...</td>\n      <td>...</td>\n      <td>...</td>\n      <td>...</td>\n      <td>...</td>\n      <td>...</td>\n      <td>...</td>\n      <td>...</td>\n      <td>...</td>\n      <td>...</td>\n      <td>...</td>\n      <td>...</td>\n      <td>...</td>\n      <td>...</td>\n      <td>...</td>\n      <td>...</td>\n      <td>...</td>\n      <td>...</td>\n    </tr>\n    <tr>\n      <th>25620</th>\n      <td>-0.163067</td>\n      <td>-0.092236</td>\n      <td>-0.923636</td>\n      <td>-0.997084</td>\n      <td>-0.328200</td>\n      <td>0.017506</td>\n      <td>-0.440830</td>\n      <td>-0.397365</td>\n      <td>-0.889399</td>\n      <td>-0.993884</td>\n      <td>...</td>\n      <td>3</td>\n      <td>11</td>\n      <td>9</td>\n      <td>6</td>\n      <td>1</td>\n      <td>1</td>\n      <td>9</td>\n      <td>8</td>\n      <td>25</td>\n      <td>25</td>\n    </tr>\n    <tr>\n      <th>25621</th>\n      <td>0.561896</td>\n      <td>0.554088</td>\n      <td>-0.825446</td>\n      <td>-0.984765</td>\n      <td>0.403676</td>\n      <td>0.694790</td>\n      <td>-0.680409</td>\n      <td>-0.634836</td>\n      <td>-0.925604</td>\n      <td>-0.997233</td>\n      <td>...</td>\n      <td>5</td>\n      <td>7</td>\n      <td>4</td>\n      <td>14</td>\n      <td>3</td>\n      <td>13</td>\n      <td>1</td>\n      <td>21</td>\n      <td>21</td>\n      <td>20</td>\n    </tr>\n    <tr>\n      <th>25622</th>\n      <td>0.218876</td>\n      <td>0.256172</td>\n      <td>-1.000000</td>\n      <td>-1.000000</td>\n      <td>0.014041</td>\n      <td>0.402161</td>\n      <td>-0.488374</td>\n      <td>-0.451692</td>\n      <td>-1.000000</td>\n      <td>-1.000000</td>\n      <td>...</td>\n      <td>8</td>\n      <td>16</td>\n      <td>5</td>\n      <td>5</td>\n      <td>5</td>\n      <td>7</td>\n      <td>7</td>\n      <td>24</td>\n      <td>24</td>\n      <td>2</td>\n    </tr>\n    <tr>\n      <th>25623</th>\n      <td>0.237969</td>\n      <td>0.285349</td>\n      <td>-0.920653</td>\n      <td>-0.996852</td>\n      <td>0.042701</td>\n      <td>0.386732</td>\n      <td>-0.514933</td>\n      <td>-0.484738</td>\n      <td>-0.899459</td>\n      <td>-0.994946</td>\n      <td>...</td>\n      <td>2</td>\n      <td>18</td>\n      <td>15</td>\n      <td>18</td>\n      <td>18</td>\n      <td>18</td>\n      <td>3</td>\n      <td>3</td>\n      <td>16</td>\n      <td>13</td>\n    </tr>\n    <tr>\n      <th>25624</th>\n      <td>0.216640</td>\n      <td>0.250562</td>\n      <td>-0.975203</td>\n      <td>-0.999693</td>\n      <td>0.022309</td>\n      <td>0.396651</td>\n      <td>-0.456681</td>\n      <td>-0.408570</td>\n      <td>-0.827062</td>\n      <td>-0.985046</td>\n      <td>...</td>\n      <td>11</td>\n      <td>0</td>\n      <td>11</td>\n      <td>12</td>\n      <td>13</td>\n      <td>17</td>\n      <td>17</td>\n      <td>15</td>\n      <td>14</td>\n      <td>18</td>\n    </tr>\n  </tbody>\n</table>\n<p>25625 rows × 310 columns</p>\n</div>"
     },
     "execution_count": 18,
     "metadata": {},
     "output_type": "execute_result"
    }
   ],
   "source": [
    "#aggiunge al df le colonne dei cluster\n",
    "\n",
    "df_clus = df\n",
    "\n",
    "df_clus = pd.merge(df_clus, col_heat_base, how=\"left\", on=[\"View\"])\n",
    "\n",
    "df_clus.to_csv(r'C:\\Users\\giuli\\Desktop\\df_clus.csv', index = False, header=True)\n",
    "\n",
    "# df = df_clus\n",
    "#\n",
    "# df\n",
    "\n",
    "df_clus"
   ],
   "metadata": {
    "collapsed": false,
    "pycharm": {
     "name": "#%%\n"
    }
   }
  },
  {
   "cell_type": "code",
   "execution_count": 19,
   "outputs": [
    {
     "data": {
      "text/plain": "         AxMean     AxMed     AxStd     AxVar     AxMax     AxMin    AyMean  \\\n0      0.035564  0.050492 -0.246425 -0.716062  0.127137 -0.053982 -0.030285   \n1      0.418963  0.425894 -0.587728 -0.915016  0.347631  0.426174 -0.401803   \n2     -0.141338 -0.006206 -0.353439 -0.790980 -0.062766 -0.123483 -0.216603   \n3      0.256653  0.265258 -0.604619 -0.921837  0.212075  0.299325 -0.311481   \n4      0.298634  0.335910 -0.753867 -0.969709  0.180758  0.346281 -0.412468   \n...         ...       ...       ...       ...       ...       ...       ...   \n25620 -0.163067 -0.092236 -0.923636 -0.997084 -0.328200  0.017506 -0.440830   \n25621  0.561896  0.554088 -0.825446 -0.984765  0.403676  0.694790 -0.680409   \n25622  0.218876  0.256172 -1.000000 -1.000000  0.014041  0.402161 -0.488374   \n25623  0.237969  0.285349 -0.920653 -0.996852  0.042701  0.386732 -0.514933   \n25624  0.216640  0.250562 -0.975203 -0.999693  0.022309  0.396651 -0.456681   \n\n          AyMed     AyStd     AyVar  ...  PreVar  PreMax  PreMin  View  \\\n0     -0.040270 -0.422755 -0.833394  ...    -1.0     1.0     1.0     w   \n1     -0.365685 -0.671085 -0.945907  ...    -1.0     1.0     1.0     h   \n2     -0.176906 -0.461523 -0.855021  ...    -1.0     1.0     1.0     a   \n3     -0.303788 -0.432660 -0.839063  ...    -1.0     1.0     1.0     t   \n4     -0.386142 -0.647436 -0.937849  ...    -1.0     1.0     1.0         \n...         ...       ...       ...  ...     ...     ...     ...   ...   \n25620 -0.397365 -0.889399 -0.993884  ...    -1.0     1.0     1.0     a   \n25621 -0.634836 -0.925604 -0.997233  ...    -1.0     1.0     1.0     l   \n25622 -0.451692 -1.000000 -1.000000  ...    -1.0     1.0     1.0     i   \n25623 -0.484738 -0.899459 -0.994946  ...    -1.0     1.0     1.0     t   \n25624 -0.408570 -0.827062 -0.985046  ...    -1.0     1.0     1.0     y   \n\n         User   Hand      Smartphone    x  y      dist  \n0      Biagio  RIGHT        REALME 7  2.0  0  1.118034  \n1      Biagio  RIGHT        REALME 7  6.5  1  5.000000  \n2      Biagio  RIGHT        REALME 7  1.5  1  0.000000  \n3      Biagio  RIGHT        REALME 7  5.0  0  3.640055  \n4      Biagio  RIGHT        REALME 7  5.0  3  4.031129  \n...       ...    ...             ...  ... ..       ...  \n25620  Giulio  RIGHT  ASUS ZENFONE 3  1.5  1  0.000000  \n25621  Giulio  RIGHT  ASUS ZENFONE 3  9.5  1  8.000000  \n25622  Giulio  RIGHT  ASUS ZENFONE 3  8.0  0  6.576473  \n25623  Giulio  RIGHT  ASUS ZENFONE 3  5.0  0  3.640055  \n25624  Giulio  RIGHT  ASUS ZENFONE 3  6.0  0  4.609772  \n\n[25625 rows x 283 columns]",
      "text/html": "<div>\n<style scoped>\n    .dataframe tbody tr th:only-of-type {\n        vertical-align: middle;\n    }\n\n    .dataframe tbody tr th {\n        vertical-align: top;\n    }\n\n    .dataframe thead th {\n        text-align: right;\n    }\n</style>\n<table border=\"1\" class=\"dataframe\">\n  <thead>\n    <tr style=\"text-align: right;\">\n      <th></th>\n      <th>AxMean</th>\n      <th>AxMed</th>\n      <th>AxStd</th>\n      <th>AxVar</th>\n      <th>AxMax</th>\n      <th>AxMin</th>\n      <th>AyMean</th>\n      <th>AyMed</th>\n      <th>AyStd</th>\n      <th>AyVar</th>\n      <th>...</th>\n      <th>PreVar</th>\n      <th>PreMax</th>\n      <th>PreMin</th>\n      <th>View</th>\n      <th>User</th>\n      <th>Hand</th>\n      <th>Smartphone</th>\n      <th>x</th>\n      <th>y</th>\n      <th>dist</th>\n    </tr>\n  </thead>\n  <tbody>\n    <tr>\n      <th>0</th>\n      <td>0.035564</td>\n      <td>0.050492</td>\n      <td>-0.246425</td>\n      <td>-0.716062</td>\n      <td>0.127137</td>\n      <td>-0.053982</td>\n      <td>-0.030285</td>\n      <td>-0.040270</td>\n      <td>-0.422755</td>\n      <td>-0.833394</td>\n      <td>...</td>\n      <td>-1.0</td>\n      <td>1.0</td>\n      <td>1.0</td>\n      <td>w</td>\n      <td>Biagio</td>\n      <td>RIGHT</td>\n      <td>REALME 7</td>\n      <td>2.0</td>\n      <td>0</td>\n      <td>1.118034</td>\n    </tr>\n    <tr>\n      <th>1</th>\n      <td>0.418963</td>\n      <td>0.425894</td>\n      <td>-0.587728</td>\n      <td>-0.915016</td>\n      <td>0.347631</td>\n      <td>0.426174</td>\n      <td>-0.401803</td>\n      <td>-0.365685</td>\n      <td>-0.671085</td>\n      <td>-0.945907</td>\n      <td>...</td>\n      <td>-1.0</td>\n      <td>1.0</td>\n      <td>1.0</td>\n      <td>h</td>\n      <td>Biagio</td>\n      <td>RIGHT</td>\n      <td>REALME 7</td>\n      <td>6.5</td>\n      <td>1</td>\n      <td>5.000000</td>\n    </tr>\n    <tr>\n      <th>2</th>\n      <td>-0.141338</td>\n      <td>-0.006206</td>\n      <td>-0.353439</td>\n      <td>-0.790980</td>\n      <td>-0.062766</td>\n      <td>-0.123483</td>\n      <td>-0.216603</td>\n      <td>-0.176906</td>\n      <td>-0.461523</td>\n      <td>-0.855021</td>\n      <td>...</td>\n      <td>-1.0</td>\n      <td>1.0</td>\n      <td>1.0</td>\n      <td>a</td>\n      <td>Biagio</td>\n      <td>RIGHT</td>\n      <td>REALME 7</td>\n      <td>1.5</td>\n      <td>1</td>\n      <td>0.000000</td>\n    </tr>\n    <tr>\n      <th>3</th>\n      <td>0.256653</td>\n      <td>0.265258</td>\n      <td>-0.604619</td>\n      <td>-0.921837</td>\n      <td>0.212075</td>\n      <td>0.299325</td>\n      <td>-0.311481</td>\n      <td>-0.303788</td>\n      <td>-0.432660</td>\n      <td>-0.839063</td>\n      <td>...</td>\n      <td>-1.0</td>\n      <td>1.0</td>\n      <td>1.0</td>\n      <td>t</td>\n      <td>Biagio</td>\n      <td>RIGHT</td>\n      <td>REALME 7</td>\n      <td>5.0</td>\n      <td>0</td>\n      <td>3.640055</td>\n    </tr>\n    <tr>\n      <th>4</th>\n      <td>0.298634</td>\n      <td>0.335910</td>\n      <td>-0.753867</td>\n      <td>-0.969709</td>\n      <td>0.180758</td>\n      <td>0.346281</td>\n      <td>-0.412468</td>\n      <td>-0.386142</td>\n      <td>-0.647436</td>\n      <td>-0.937849</td>\n      <td>...</td>\n      <td>-1.0</td>\n      <td>1.0</td>\n      <td>1.0</td>\n      <td></td>\n      <td>Biagio</td>\n      <td>RIGHT</td>\n      <td>REALME 7</td>\n      <td>5.0</td>\n      <td>3</td>\n      <td>4.031129</td>\n    </tr>\n    <tr>\n      <th>...</th>\n      <td>...</td>\n      <td>...</td>\n      <td>...</td>\n      <td>...</td>\n      <td>...</td>\n      <td>...</td>\n      <td>...</td>\n      <td>...</td>\n      <td>...</td>\n      <td>...</td>\n      <td>...</td>\n      <td>...</td>\n      <td>...</td>\n      <td>...</td>\n      <td>...</td>\n      <td>...</td>\n      <td>...</td>\n      <td>...</td>\n      <td>...</td>\n      <td>...</td>\n      <td>...</td>\n    </tr>\n    <tr>\n      <th>25620</th>\n      <td>-0.163067</td>\n      <td>-0.092236</td>\n      <td>-0.923636</td>\n      <td>-0.997084</td>\n      <td>-0.328200</td>\n      <td>0.017506</td>\n      <td>-0.440830</td>\n      <td>-0.397365</td>\n      <td>-0.889399</td>\n      <td>-0.993884</td>\n      <td>...</td>\n      <td>-1.0</td>\n      <td>1.0</td>\n      <td>1.0</td>\n      <td>a</td>\n      <td>Giulio</td>\n      <td>RIGHT</td>\n      <td>ASUS ZENFONE 3</td>\n      <td>1.5</td>\n      <td>1</td>\n      <td>0.000000</td>\n    </tr>\n    <tr>\n      <th>25621</th>\n      <td>0.561896</td>\n      <td>0.554088</td>\n      <td>-0.825446</td>\n      <td>-0.984765</td>\n      <td>0.403676</td>\n      <td>0.694790</td>\n      <td>-0.680409</td>\n      <td>-0.634836</td>\n      <td>-0.925604</td>\n      <td>-0.997233</td>\n      <td>...</td>\n      <td>-1.0</td>\n      <td>1.0</td>\n      <td>1.0</td>\n      <td>l</td>\n      <td>Giulio</td>\n      <td>RIGHT</td>\n      <td>ASUS ZENFONE 3</td>\n      <td>9.5</td>\n      <td>1</td>\n      <td>8.000000</td>\n    </tr>\n    <tr>\n      <th>25622</th>\n      <td>0.218876</td>\n      <td>0.256172</td>\n      <td>-1.000000</td>\n      <td>-1.000000</td>\n      <td>0.014041</td>\n      <td>0.402161</td>\n      <td>-0.488374</td>\n      <td>-0.451692</td>\n      <td>-1.000000</td>\n      <td>-1.000000</td>\n      <td>...</td>\n      <td>-1.0</td>\n      <td>1.0</td>\n      <td>1.0</td>\n      <td>i</td>\n      <td>Giulio</td>\n      <td>RIGHT</td>\n      <td>ASUS ZENFONE 3</td>\n      <td>8.0</td>\n      <td>0</td>\n      <td>6.576473</td>\n    </tr>\n    <tr>\n      <th>25623</th>\n      <td>0.237969</td>\n      <td>0.285349</td>\n      <td>-0.920653</td>\n      <td>-0.996852</td>\n      <td>0.042701</td>\n      <td>0.386732</td>\n      <td>-0.514933</td>\n      <td>-0.484738</td>\n      <td>-0.899459</td>\n      <td>-0.994946</td>\n      <td>...</td>\n      <td>-1.0</td>\n      <td>1.0</td>\n      <td>1.0</td>\n      <td>t</td>\n      <td>Giulio</td>\n      <td>RIGHT</td>\n      <td>ASUS ZENFONE 3</td>\n      <td>5.0</td>\n      <td>0</td>\n      <td>3.640055</td>\n    </tr>\n    <tr>\n      <th>25624</th>\n      <td>0.216640</td>\n      <td>0.250562</td>\n      <td>-0.975203</td>\n      <td>-0.999693</td>\n      <td>0.022309</td>\n      <td>0.396651</td>\n      <td>-0.456681</td>\n      <td>-0.408570</td>\n      <td>-0.827062</td>\n      <td>-0.985046</td>\n      <td>...</td>\n      <td>-1.0</td>\n      <td>1.0</td>\n      <td>1.0</td>\n      <td>y</td>\n      <td>Giulio</td>\n      <td>RIGHT</td>\n      <td>ASUS ZENFONE 3</td>\n      <td>6.0</td>\n      <td>0</td>\n      <td>4.609772</td>\n    </tr>\n  </tbody>\n</table>\n<p>25625 rows × 283 columns</p>\n</div>"
     },
     "execution_count": 19,
     "metadata": {},
     "output_type": "execute_result"
    }
   ],
   "source": [
    "df_clus1 = df_clus\n",
    "labels_cluster = []\n",
    "\n",
    "dict_labels = {}\n",
    "\n",
    "for i in range(2, 28):\n",
    "    # save all columns of clusters\n",
    "    labels_cluster.append(df_clus1[str(i) + '_clusters'])\n",
    "    dict_labels[str(i) + '_clusters'] = df_clus1[str(i) + '_clusters'].tolist()\n",
    "\n",
    "df_clus1 = df_clus1.iloc[:, :-27]\n",
    "\n",
    "df_clus1\n",
    "# labels_cluster\n"
   ],
   "metadata": {
    "collapsed": false,
    "pycharm": {
     "name": "#%%\n"
    }
   }
  },
  {
   "cell_type": "code",
   "execution_count": 20,
   "outputs": [],
   "source": [
    "from sklearn.model_selection import StratifiedShuffleSplit, GridSearchCV\n",
    "from matplotlib import pyplot\n",
    "from sklearn.ensemble import RandomForestClassifier\n",
    "from sklearn.naive_bayes import GaussianNB\n",
    "from sklearn.svm import SVC\n",
    "from sklearn.tree import DecisionTreeClassifier\n",
    "from sklearn.ensemble import AdaBoostClassifier, GradientBoostingClassifier\n",
    "from sklearn.linear_model import LogisticRegression\n",
    "from sklearn.neighbors import KNeighborsClassifier\n",
    "from sklearn import metrics\n",
    "from sklearn.model_selection import GridSearchCV"
   ],
   "metadata": {
    "collapsed": false,
    "pycharm": {
     "name": "#%%\n"
    }
   }
  },
  {
   "cell_type": "code",
   "execution_count": 33,
   "outputs": [],
   "source": [
    "# compare machine learning algorithms\n",
    "\n",
    "models = []\n",
    "models.append(('RFC', \"RandomForestClassifier\", RandomForestClassifier(n_estimators = 100, random_state = 42)))\n",
    "models.append(('NB', \"GaussianNB\", GaussianNB()))\n",
    "models.append(('SVM', \"SVC\", SVC(C=1.0, kernel='linear', gamma='auto', random_state=42)))\n",
    "models.append(('CART', \"DecisionTreeClassifier\", DecisionTreeClassifier(random_state=42)))\n",
    "models.append(('ADA', \"AdaBoostClassifier\", AdaBoostClassifier(n_estimators=100, learning_rate=0.1)))\n",
    "models.append(('LR', \"LogisticRegression\", LogisticRegression(solver='liblinear', random_state = 42)))\n",
    "models.append(('KNN', \"KNeighborsClassifier\", KNeighborsClassifier(weights='distance', n_neighbors=30, n_jobs=-1)))"
   ],
   "metadata": {
    "collapsed": false,
    "pycharm": {
     "name": "#%%\n"
    }
   }
  },
  {
   "cell_type": "code",
   "execution_count": 34,
   "outputs": [],
   "source": [
    "# Compare clusters accuracy\n",
    "\n",
    "features = df_clus1.drop(['View','User','Hand', 'Smartphone', 'x', 'y','dist'], axis=1)\n",
    "feature_list = list(features.columns)\n",
    "\n",
    "# Convert to numpy array\n",
    "features = np.array(features)"
   ],
   "metadata": {
    "collapsed": false,
    "pycharm": {
     "name": "#%%\n"
    }
   }
  },
  {
   "cell_type": "code",
   "execution_count": 35,
   "outputs": [],
   "source": [
    "RFC = []\n",
    "NB = []\n",
    "SVM = []\n",
    "CART = []\n",
    "ADA = []\n",
    "LR = []\n",
    "KNN = []"
   ],
   "metadata": {
    "collapsed": false,
    "pycharm": {
     "name": "#%%\n"
    }
   }
  },
  {
   "cell_type": "code",
   "execution_count": 36,
   "outputs": [
    {
     "name": "stdout",
     "output_type": "stream",
     "text": [
      "(25625, 276) (25625,)\n",
      "Train: 17937 17937 Test: 7688 7688\n",
      "{0: 5243, 1: 2445}\n",
      "RFC: 92.250000\n",
      "NB: 82.970000\n",
      "SVM: 91.620000\n",
      "CART: 87.640000\n",
      "ADA: 89.370000\n",
      "LR: 91.610000\n",
      "KNN: 90.540000\n",
      "(25625, 276) (25625,)\n",
      "Train: 17937 17937 Test: 7688 7688\n",
      "{0: 2408, 1: 4582, 2: 698}\n",
      "RFC: 87.370000\n",
      "NB: 75.000000\n",
      "SVM: 86.490000\n",
      "CART: 79.270000\n",
      "ADA: 79.760000\n",
      "LR: 85.280000\n",
      "KNN: 85.510000\n",
      "(25625, 276) (25625,)\n",
      "Train: 17937 17937 Test: 7688 7688\n",
      "{0: 4060, 1: 1746, 2: 699, 3: 1183}\n",
      "RFC: 79.790000\n",
      "NB: 65.010000\n",
      "SVM: 78.510000\n",
      "CART: 70.950000\n",
      "ADA: 71.360000\n",
      "LR: 77.600000\n",
      "KNN: 77.240000\n",
      "(25625, 276) (25625,)\n",
      "Train: 17937 17937 Test: 7688 7688\n",
      "{0: 2924, 1: 1183, 2: 1746, 3: 699, 4: 1136}\n",
      "RFC: 70.190000\n",
      "NB: 45.950000\n",
      "SVM: 67.570000\n",
      "CART: 57.820000\n",
      "ADA: 56.400000\n",
      "LR: 66.530000\n",
      "KNN: 65.910000\n",
      "(25625, 276) (25625,)\n",
      "Train: 17937 17937 Test: 7688 7688\n",
      "{0: 1746, 1: 1136, 2: 2924, 3: 662, 4: 698, 5: 522}\n",
      "RFC: 68.430000\n",
      "NB: 43.910000\n",
      "SVM: 66.770000\n",
      "CART: 55.060000\n",
      "ADA: 56.050000\n",
      "LR: 65.700000\n",
      "KNN: 64.670000\n",
      "(25625, 276) (25625,)\n",
      "Train: 17937 17937 Test: 7688 7688\n",
      "{0: 1746, 1: 522, 2: 2924, 3: 1136, 4: 598, 5: 662, 6: 100}\n",
      "RFC: 67.100000\n",
      "NB: 39.790000\n",
      "SVM: 66.000000\n",
      "CART: 54.020000\n",
      "ADA: 55.370000\n",
      "LR: 64.660000\n",
      "KNN: 63.760000\n",
      "(25625, 276) (25625,)\n",
      "Train: 17937 17937 Test: 7688 7688\n",
      "{0: 1595, 1: 662, 2: 1136, 3: 1746, 4: 522, 5: 598, 6: 100, 7: 1329}\n",
      "RFC: 60.940000\n",
      "NB: 38.030000\n",
      "SVM: 59.090000\n",
      "CART: 46.610000\n",
      "ADA: 38.540000\n",
      "LR: 57.490000\n",
      "KNN: 56.100000\n",
      "(25625, 276) (25625,)\n",
      "Train: 17937 17937 Test: 7688 7688\n",
      "{0: 662, 1: 634, 2: 598, 3: 1595, 4: 1136, 5: 1329, 6: 522, 7: 100, 8: 1112}\n",
      "RFC: 55.230000\n",
      "NB: 35.120000\n",
      "SVM: 53.730000\n",
      "CART: 40.890000\n",
      "ADA: 34.820000\n",
      "LR: 51.380000\n",
      "KNN: 50.590000\n",
      "(25625, 276) (25625,)\n",
      "Train: 17937 17937 Test: 7688 7688\n",
      "{0: 448, 1: 522, 2: 1595, 3: 662, 4: 634, 5: 1329, 6: 598, 7: 1112, 8: 100, 9: 688}\n",
      "RFC: 53.320000\n",
      "NB: 27.640000\n",
      "SVM: 52.460000\n",
      "CART: 38.840000\n",
      "ADA: 33.400000\n",
      "LR: 50.300000\n",
      "KNN: 48.350000\n",
      "(25625, 276) (25625,)\n",
      "Train: 17937 17937 Test: 7688 7688\n",
      "{0: 565, 1: 688, 2: 662, 3: 522, 4: 634, 5: 1329, 6: 598, 7: 1112, 8: 449, 9: 100, 10: 1029}\n",
      "RFC: 48.860000\n",
      "NB: 26.890000\n",
      "SVM: 48.620000\n",
      "CART: 36.070000\n",
      "ADA: 32.090000\n",
      "LR: 46.480000\n",
      "KNN: 44.710000\n",
      "(25625, 276) (25625,)\n",
      "Train: 17937 17937 Test: 7688 7688\n",
      "{0: 598, 1: 634, 2: 1029, 3: 662, 4: 175, 5: 688, 6: 1112, 7: 565, 8: 1329, 9: 449, 10: 100, 11: 347}\n",
      "RFC: 49.660000\n",
      "NB: 24.820000\n",
      "SVM: 49.080000\n",
      "CART: 35.540000\n",
      "ADA: 33.780000\n",
      "LR: 47.030000\n",
      "KNN: 45.150000\n",
      "(25625, 276) (25625,)\n",
      "Train: 17937 17937 Test: 7688 7688\n",
      "{0: 1029, 1: 352, 2: 634, 3: 688, 4: 449, 5: 1112, 6: 662, 7: 347, 8: 1329, 9: 598, 10: 100, 11: 175, 12: 213}\n",
      "RFC: 48.880000\n",
      "NB: 22.910000\n",
      "SVM: 47.870000\n",
      "CART: 34.570000\n",
      "ADA: 32.100000\n",
      "LR: 45.710000\n",
      "KNN: 44.320000\n",
      "(25625, 276) (25625,)\n",
      "Train: 17937 17937 Test: 7688 7688\n",
      "{0: 1029, 1: 1112, 2: 662, 3: 347, 4: 152, 5: 213, 6: 634, 7: 449, 8: 1329, 9: 598, 10: 100, 11: 352, 12: 175, 13: 536}\n",
      "RFC: 48.580000\n",
      "NB: 21.800000\n",
      "SVM: 48.230000\n",
      "CART: 33.820000\n",
      "ADA: 29.620000\n",
      "LR: 46.450000\n",
      "KNN: 44.300000\n",
      "(25625, 276) (25625,)\n",
      "Train: 17937 17937 Test: 7688 7688\n",
      "{0: 100, 1: 634, 2: 347, 3: 598, 4: 1029, 5: 1112, 6: 536, 7: 558, 8: 449, 9: 213, 10: 1329, 11: 175, 12: 352, 13: 152, 14: 104}\n",
      "RFC: 49.100000\n",
      "NB: 19.150000\n",
      "SVM: 48.020000\n",
      "CART: 34.000000\n",
      "ADA: 30.150000\n",
      "LR: 45.590000\n",
      "KNN: 45.070000\n",
      "(25625, 276) (25625,)\n",
      "Train: 17937 17937 Test: 7688 7688\n",
      "{0: 100, 1: 213, 2: 1029, 3: 352, 4: 634, 5: 598, 6: 1228, 7: 347, 8: 1112, 9: 558, 10: 536, 11: 449, 12: 152, 13: 175, 14: 104, 15: 101}\n",
      "RFC: 48.230000\n",
      "NB: 20.600000\n",
      "SVM: 48.140000\n",
      "CART: 33.120000\n",
      "ADA: 31.180000\n",
      "LR: 45.790000\n",
      "KNN: 44.450000\n",
      "(25625, 276) (25625,)\n",
      "Train: 17937 17937 Test: 7688 7688\n",
      "{0: 175, 1: 508, 2: 347, 3: 536, 4: 213, 5: 449, 6: 558, 7: 1029, 8: 1112, 9: 100, 10: 598, 11: 352, 12: 1228, 13: 152, 14: 101, 15: 104, 16: 126}\n",
      "RFC: 47.180000\n",
      "NB: 20.160000\n",
      "SVM: 46.770000\n",
      "CART: 32.670000\n",
      "ADA: 31.870000\n",
      "LR: 44.330000\n",
      "KNN: 43.180000\n",
      "(25625, 276) (25625,)\n",
      "Train: 17937 17937 Test: 7688 7688\n",
      "{0: 1228, 1: 508, 2: 558, 3: 598, 4: 536, 5: 448, 6: 347, 7: 1112, 8: 763, 9: 213, 10: 152, 11: 175, 12: 100, 13: 352, 14: 126, 15: 104, 16: 101, 17: 267}\n",
      "RFC: 45.270000\n",
      "NB: 17.990000\n",
      "SVM: 44.750000\n",
      "CART: 31.360000\n",
      "ADA: 30.220000\n",
      "LR: 43.130000\n",
      "KNN: 41.830000\n",
      "(25625, 276) (25625,)\n",
      "Train: 17937 17937 Test: 7688 7688\n",
      "{0: 175, 1: 1112, 2: 127, 3: 267, 4: 536, 5: 101, 6: 213, 7: 448, 8: 347, 9: 508, 10: 100, 11: 598, 12: 152, 13: 352, 14: 126, 15: 1228, 16: 763, 17: 104, 18: 431}\n",
      "RFC: 44.980000\n",
      "NB: 19.910000\n",
      "SVM: 45.580000\n",
      "CART: 29.860000\n",
      "ADA: 29.510000\n",
      "LR: 43.220000\n",
      "KNN: 41.600000\n",
      "(25625, 276) (25625,)\n",
      "Train: 17937 17937 Test: 7688 7688\n",
      "{0: 1112, 1: 508, 2: 152, 3: 347, 4: 448, 5: 763, 6: 536, 7: 104, 8: 100, 9: 598, 10: 267, 11: 175, 12: 101, 13: 126, 14: 352, 15: 431, 16: 127, 17: 1228, 18: 104, 19: 109}\n",
      "RFC: 44.690000\n",
      "NB: 19.290000\n",
      "SVM: 44.690000\n",
      "CART: 30.720000\n",
      "ADA: 29.670000\n",
      "LR: 42.490000\n",
      "KNN: 41.650000\n",
      "(25625, 276) (25625,)\n",
      "Train: 17937 17937 Test: 7688 7688\n",
      "{0: 126, 1: 347, 2: 535, 3: 127, 4: 508, 5: 763, 6: 598, 7: 101, 8: 785, 9: 152, 10: 104, 11: 104, 12: 175, 13: 267, 14: 448, 15: 1228, 16: 100, 17: 352, 18: 431, 19: 109, 20: 328}\n",
      "RFC: 41.880000\n",
      "NB: 17.550000\n",
      "SVM: 41.640000\n",
      "CART: 27.220000\n",
      "ADA: 25.350000\n",
      "LR: 39.820000\n",
      "KNN: 38.490000\n",
      "(25625, 276) (25625,)\n",
      "Train: 17937 17937 Test: 7688 7688\n",
      "{0: 152, 1: 598, 2: 109, 3: 261, 4: 508, 5: 763, 6: 535, 7: 104, 8: 347, 9: 1228, 10: 785, 11: 100, 12: 267, 13: 175, 14: 126, 15: 101, 16: 127, 17: 352, 18: 431, 19: 104, 20: 328, 21: 187}\n",
      "RFC: 40.950000\n",
      "NB: 16.010000\n",
      "SVM: 40.860000\n",
      "CART: 26.260000\n",
      "ADA: 26.370000\n",
      "LR: 39.070000\n",
      "KNN: 37.460000\n",
      "(25625, 276) (25625,)\n",
      "Train: 17937 17937 Test: 7688 7688\n",
      "{0: 535, 1: 598, 2: 352, 3: 785, 4: 104, 5: 101, 6: 216, 7: 763, 8: 109, 9: 508, 10: 1228, 11: 104, 12: 126, 13: 261, 14: 100, 15: 127, 16: 267, 17: 175, 18: 431, 19: 152, 20: 187, 21: 328, 22: 131}\n",
      "RFC: 39.700000\n",
      "NB: 13.320000\n",
      "SVM: 40.270000\n",
      "CART: 26.350000\n",
      "ADA: 25.810000\n",
      "LR: 38.070000\n",
      "KNN: 37.140000\n",
      "(25625, 276) (25625,)\n",
      "Train: 17937 17937 Test: 7688 7688\n",
      "{0: 127, 1: 261, 2: 508, 3: 431, 4: 1228, 5: 187, 6: 425, 7: 763, 8: 352, 9: 598, 10: 100, 11: 131, 12: 108, 13: 101, 14: 267, 15: 104, 16: 126, 17: 175, 18: 785, 19: 104, 20: 152, 21: 328, 22: 216, 23: 111}\n",
      "RFC: 40.060000\n",
      "NB: 13.280000\n",
      "SVM: 40.340000\n",
      "CART: 26.460000\n",
      "ADA: 25.480000\n",
      "LR: 38.460000\n",
      "KNN: 37.370000\n",
      "(25625, 276) (25625,)\n",
      "Train: 17937 17937 Test: 7688 7688\n",
      "{0: 508, 1: 101, 2: 100, 3: 431, 4: 104, 5: 328, 6: 425, 7: 104, 8: 598, 9: 232, 10: 131, 11: 152, 12: 127, 13: 109, 14: 126, 15: 175, 16: 267, 17: 785, 18: 352, 19: 187, 20: 1228, 21: 261, 22: 216, 23: 111, 24: 530}\n",
      "RFC: 38.630000\n",
      "NB: 14.890000\n",
      "SVM: 39.220000\n",
      "CART: 25.200000\n",
      "ADA: 25.140000\n",
      "LR: 37.300000\n",
      "KNN: 35.520000\n",
      "(25625, 276) (25625,)\n",
      "Train: 17937 17937 Test: 7688 7688\n",
      "{0: 127, 1: 134, 2: 104, 3: 785, 4: 1228, 5: 508, 6: 232, 7: 187, 8: 328, 9: 126, 10: 152, 11: 100, 12: 104, 13: 131, 14: 175, 15: 109, 16: 431, 17: 267, 18: 101, 19: 352, 20: 216, 21: 261, 22: 425, 23: 111, 24: 530, 25: 464}\n",
      "RFC: 37.590000\n",
      "NB: 13.740000\n",
      "SVM: 38.090000\n",
      "CART: 24.010000\n",
      "ADA: 23.930000\n",
      "LR: 36.620000\n",
      "KNN: 34.990000\n",
      "(25625, 276) (25625,)\n",
      "Train: 17937 17937 Test: 7688 7688\n",
      "{0: 213, 1: 109, 2: 530, 3: 267, 4: 425, 5: 127, 6: 104, 7: 328, 8: 131, 9: 100, 10: 104, 11: 216, 12: 187, 13: 431, 14: 785, 15: 126, 16: 152, 17: 1228, 18: 175, 19: 352, 20: 261, 21: 101, 22: 134, 23: 232, 24: 111, 25: 464, 26: 295}\n",
      "RFC: 37.230000\n",
      "NB: 13.010000\n",
      "SVM: 37.330000\n",
      "CART: 23.360000\n",
      "ADA: 25.360000\n",
      "LR: 35.810000\n",
      "KNN: 34.200000\n"
     ]
    }
   ],
   "source": [
    "for idx, label in enumerate(labels_cluster):\n",
    "\n",
    "    labels = label\n",
    "\n",
    "    # print(features)\n",
    "    # print(labels)\n",
    "\n",
    "    print(features.shape, labels.shape)\n",
    "\n",
    "    # train test split\n",
    "    sss = StratifiedShuffleSplit(n_splits=1, test_size=0.3, random_state=0)\n",
    "    for train_index, test_index in sss.split(features, labels):\n",
    "        X_train, X_test = features[train_index], features[test_index]\n",
    "        y_train, y_test = labels[train_index], labels[test_index]\n",
    "\n",
    "    print(\"Train:\", len(X_train), len(y_train), \"Test:\", len(X_test), len(y_test))\n",
    "\n",
    "\n",
    "\n",
    "    # print number of occurrences for each letters\n",
    "    a, b = np.unique(y_test, return_counts=True)\n",
    "    print(dict(zip(a, b)))\n",
    "\n",
    "    # evaluate each model in turn\n",
    "    results = []\n",
    "    names = []\n",
    "    hue = []\n",
    "    predictions = []\n",
    "\n",
    "    y_pred_result = []\n",
    "\n",
    "    for name, full_name, model in models:\n",
    "\n",
    "        model.fit(X_train, y_train)\n",
    "        y_pred = model.predict(X_test)\n",
    "        accuracy = round(metrics.accuracy_score(y_test, y_pred) * 100, 2)\n",
    "\n",
    "        if name == 'RFC':\n",
    "            RFC.append(accuracy)\n",
    "        elif name == 'NB':\n",
    "            NB.append(accuracy)\n",
    "        elif name == 'SVM':\n",
    "            SVM.append(accuracy)\n",
    "        elif name == 'CART':\n",
    "            CART.append(accuracy)\n",
    "        elif name == 'ADA':\n",
    "            ADA.append(accuracy)\n",
    "        elif name == 'LR':\n",
    "            LR.append(accuracy)\n",
    "        elif name == 'KNN':\n",
    "            KNN.append(accuracy)\n",
    "\n",
    "        y_pred_result.append(y_pred)\n",
    "        predictions.append((full_name, y_pred))\n",
    "        results.append(accuracy)\n",
    "        names.append(name)\n",
    "        hue.append(full_name + \": \" + str(accuracy) + \"%\")\n",
    "\n",
    "        print('%s: %f' % (name, accuracy))\n",
    "\n",
    "        # print(y_pred)\n",
    "        # print(len(y_pred))\n",
    "\n",
    "\n",
    "    # plot ACCURACY of ML Algorithm\n",
    "    #\n",
    "    # graphData = pd.DataFrame({'names':names,'results':results, 'algorithm':hue})\n",
    "    # fig = pyplot.figure(figsize=(24,14), dpi=80)\n",
    "    # pyplot.title(str(idx+2) + ' Clusters Accuracy', fontweight='bold')\n",
    "    # plt_bar = sns.barplot(x='names', y='results', data=graphData, hue='algorithm', dodge=False)\n",
    "    # pyplot.xlabel(\"algorithm\", fontweight='bold')\n",
    "    # pyplot.ylabel(\"accuracy\", fontweight='bold')\n",
    "    # plt.yticks(np.arange(0, 105, 5))\n",
    "    # plt.setp(plt_bar.get_legend().get_texts(), fontsize='15') # for legend text\n",
    "    # plt.setp(plt_bar.get_legend().get_title(), fontsize='16', fontweight='bold') # for legend title\n",
    "    # pyplot.savefig(\"C:\\\\Users\\\\giuli\\\\Desktop\\\\image\\\\clusters_accuracy\\\\\" + str(idx+2) + \"_clusters_accuracy.png\",\n",
    "    #                bbox_inches='tight')\n",
    "    # # pyplot.show()\n",
    "    # pyplot.close()"
   ],
   "metadata": {
    "collapsed": false,
    "pycharm": {
     "name": "#%%\n"
    }
   }
  },
  {
   "cell_type": "code",
   "execution_count": 37,
   "outputs": [],
   "source": [
    "# set width of bars\n",
    "bar_width = 0.12\n",
    "xtick_distance = 0.35\n",
    "\n",
    "# Set position of bar on X axis\n",
    "r1 = np.arange(26)\n",
    "r2 = [xindex + bar_width for xindex in r1]\n",
    "r3 = [xindex + bar_width for xindex in r2]\n",
    "r4 = [xindex + bar_width for xindex in r3]\n",
    "r5 = [xindex + bar_width for xindex in r4]\n",
    "r6 = [xindex + bar_width for xindex in r5]\n",
    "r7 = [xindex + bar_width for xindex in r6]\n",
    "\n",
    "# Make the plot of all clusters\n",
    "plt.figure(figsize = (60,16), dpi=100)\n",
    "plt.bar(r1, RFC, width=bar_width, edgecolor='white', label='RandomForestClassifier')\n",
    "plt.bar(r2, NB, width=bar_width, edgecolor='white', label='GaussianNB')\n",
    "plt.bar(r3, SVM, width=bar_width, edgecolor='white', label='SVC')\n",
    "plt.bar(r4, CART, width=bar_width, edgecolor='white', label='DecisionTreeClassifier')\n",
    "plt.bar(r5, ADA, width=bar_width, edgecolor='white', label='AdaBoostClassifier')\n",
    "plt.bar(r6, LR, width=bar_width, edgecolor='white', label='LogisticRegression')\n",
    "plt.bar(r7, KNN, width=bar_width, edgecolor='white', label='KNeighborsClassifier')\n",
    "\n",
    "# Add xticks and yticks on the middle of the group bars\n",
    "plt.xlabel('clusters', fontweight='bold', fontsize=20)\n",
    "plt.title(\"Clusters Accuracy\", fontweight='bold', fontsize=20)\n",
    "plt.yticks(np.arange(0, 105, 5), fontsize=20)\n",
    "# plt.xticks(np.arange(0, 3, 1), range(2, 5))\n",
    "plt.xticks([r + xtick_distance for r in range(26)], range(2, 28), fontsize=20)\n",
    "# create legend, save graphic\n",
    "plt.legend(prop={\"size\":25})\n",
    "\n",
    "plt.savefig(\"C:\\\\Users\\\\giuli\\\\Desktop\\\\image\\\\\" + \"accuracy_clusters_bar.png\",\n",
    "                bbox_inches='tight')\n",
    "plt.close()"
   ],
   "metadata": {
    "collapsed": false,
    "pycharm": {
     "name": "#%%\n"
    }
   }
  },
  {
   "cell_type": "code",
   "execution_count": 38,
   "outputs": [],
   "source": [
    "# set width of bars\n",
    "bar_width = 0.10\n",
    "xtick_distance = 0.30\n",
    "\n",
    "# Set position of bar on X axis\n",
    "r1 = np.arange(13)\n",
    "r2 = [xindex + bar_width for xindex in r1]\n",
    "r3 = [xindex + bar_width for xindex in r2]\n",
    "r4 = [xindex + bar_width for xindex in r3]\n",
    "r5 = [xindex + bar_width for xindex in r4]\n",
    "r6 = [xindex + bar_width for xindex in r5]\n",
    "r7 = [xindex + bar_width for xindex in r6]\n",
    "\n",
    "# Make plot of first part of clusters\n",
    "plt.figure(figsize = (24, 10), dpi=100)\n",
    "plt.bar(r1, RFC[:13], width=bar_width, edgecolor='white', label='RandomForestClassifier')\n",
    "plt.bar(r2, NB[:13], width=bar_width, edgecolor='white', label='GaussianNB')\n",
    "plt.bar(r3, SVM[:13], width=bar_width, edgecolor='white', label='SVC')\n",
    "plt.bar(r4, CART[:13], width=bar_width, edgecolor='white', label='DecisionTreeClassifier')\n",
    "plt.bar(r5, ADA[:13], width=bar_width, edgecolor='white', label='AdaBoostClassifier')\n",
    "plt.bar(r6, LR[:13], width=bar_width, edgecolor='white', label='LogisticRegression')\n",
    "plt.bar(r7, KNN[:13], width=bar_width, edgecolor='white', label='KNeighborsClassifier')\n",
    "\n",
    "# Add xticks and yticks on the middle of the group bars\n",
    "plt.xlabel('clusters', fontweight='bold')\n",
    "plt.title(\"Clusters Accuracy\", fontweight='bold')\n",
    "plt.yticks(np.arange(0, 105, 5))\n",
    "# plt.xticks(np.arange(0, 3, 1), range(2, 5))\n",
    "plt.xticks([r + xtick_distance for r in range(13)], range(2, 15))\n",
    "# create legend, save graphic\n",
    "plt.legend(prop={\"size\":12})\n",
    "\n",
    "plt.savefig(\"C:\\\\Users\\\\giuli\\\\Desktop\\\\image\\\\\" + \"accuracy_clusters_bar_first.png\",\n",
    "                bbox_inches='tight')\n",
    "plt.close()\n",
    "\n",
    "\n",
    "# Make plot of second part of clusters\n",
    "plt.figure(figsize = (24, 10), dpi=100)\n",
    "plt.bar(r1, RFC[13:], width=bar_width, edgecolor='white', label='RandomForestClassifier')\n",
    "plt.bar(r2, NB[13:], width=bar_width, edgecolor='white', label='GaussianNB')\n",
    "plt.bar(r3, SVM[13:], width=bar_width, edgecolor='white', label='SVC')\n",
    "plt.bar(r4, CART[13:], width=bar_width, edgecolor='white', label='DecisionTreeClassifier')\n",
    "plt.bar(r5, ADA[13:], width=bar_width, edgecolor='white', label='AdaBoostClassifier')\n",
    "plt.bar(r6, LR[13:], width=bar_width, edgecolor='white', label='LogisticRegression')\n",
    "plt.bar(r7, KNN[13:], width=bar_width, edgecolor='white', label='KNeighborsClassifier')\n",
    "\n",
    "# Add xticks and yticks on the middle of the group bars\n",
    "plt.xlabel('clusters', fontweight='bold')\n",
    "plt.title(\"Clusters Accuracy\", fontweight='bold')\n",
    "plt.yticks(np.arange(0, 105, 5))\n",
    "# plt.xticks(np.arange(0, 3, 1), range(2, 5))\n",
    "plt.xticks([r + xtick_distance for r in range(13)], range(15, 28))\n",
    "# create legend, save graphic\n",
    "plt.legend(prop={\"size\":12})\n",
    "\n",
    "plt.savefig(\"C:\\\\Users\\\\giuli\\\\Desktop\\\\image\\\\\" + \"accuracy_clusters_bar_second.png\",\n",
    "                bbox_inches='tight')\n",
    "plt.close()"
   ],
   "metadata": {
    "collapsed": false,
    "pycharm": {
     "name": "#%%\n"
    }
   }
  },
  {
   "cell_type": "code",
   "execution_count": 39,
   "outputs": [],
   "source": [
    "path_accuracy_clusters = 'C:\\\\Users\\\\giuli\\\\Desktop\\\\PythonTesi\\\\jsonFile\\\\accuracy_clusters.json'\n",
    "\n",
    "dict_ = {'RFC': RFC, 'NB': NB, 'SVM': SVM, 'CART': CART, 'ADA': ADA, 'LR': LR, 'KNN': KNN}\n",
    "\n",
    "# Creat json and save to file\n",
    "json_accuracy = json.dumps(dict_, indent=4)\n",
    "with open(path_accuracy_clusters, 'w') as file:\n",
    "    file.write(json_accuracy)"
   ],
   "metadata": {
    "collapsed": false,
    "pycharm": {
     "name": "#%%\n"
    }
   }
  },
  {
   "cell_type": "code",
   "execution_count": 24,
   "outputs": [],
   "source": [
    "path_labels_clusters = 'C:\\\\Users\\\\giuli\\\\Desktop\\\\PythonTesi\\\\jsonFile\\\\labels_clusters.json'\n",
    "\n",
    "json_labels = json.dumps(dict_labels, indent=4)\n",
    "with open(path_labels_clusters, 'w') as file:\n",
    "    file.write(json_labels)"
   ],
   "metadata": {
    "collapsed": false,
    "pycharm": {
     "name": "#%%\n"
    }
   }
  },
  {
   "cell_type": "code",
   "execution_count": 25,
   "outputs": [
    {
     "data": {
      "text/plain": "       2_clusters  3_clusters  4_clusters  5_clusters  6_clusters  7_clusters  \\\n0               1           2           2           3           4           4   \n1               0           1           0           0           2           2   \n2               1           2           2           3           4           4   \n3               0           0           3           1           3           5   \n4               0           1           0           0           2           2   \n...           ...         ...         ...         ...         ...         ...   \n25620           1           2           2           3           4           4   \n25621           0           1           0           4           1           3   \n25622           0           1           0           0           2           2   \n25623           0           0           3           1           3           5   \n25624           0           1           3           1           5           1   \n\n       8_clusters  9_clusters  10_clusters  11_clusters  ...  18_clusters  \\\n0               5           2            6            6  ...            3   \n1               0           3            2           10  ...            8   \n2               5           2            6            6  ...            3   \n3               1           0            3            2  ...            2   \n4               7           5            5            5  ...            0   \n...           ...         ...          ...          ...  ...          ...   \n25620           5           2            6            6  ...            3   \n25621           2           4            0            8  ...            5   \n25622           0           3            2           10  ...            8   \n25623           1           0            3            2  ...            2   \n25624           4           6            1            3  ...           11   \n\n       19_clusters  20_clusters  21_clusters  22_clusters  23_clusters  \\\n0               11            9            6            1            1   \n1               16            5            5            5            7   \n2               11            9            6            1            1   \n3               18           15           18           18           18   \n4               15           17           15            9           10   \n...            ...          ...          ...          ...          ...   \n25620           11            9            6            1            1   \n25621            7            4           14            3           13   \n25622           16            5            5            5            7   \n25623           18           15           18           18           18   \n25624            0           11           12           13           17   \n\n       24_clusters  25_clusters  26_clusters  27_clusters  \n0                9            8            1           22  \n1                7            9            6           23  \n2                9            8           25           25  \n3                3            3           16           13  \n4                4           20            4           17  \n...            ...          ...          ...          ...  \n25620            9            8           25           25  \n25621            1           21           21           20  \n25622            7           24           24            2  \n25623            3            3           16           13  \n25624           17           15           14           18  \n\n[25625 rows x 26 columns]",
      "text/html": "<div>\n<style scoped>\n    .dataframe tbody tr th:only-of-type {\n        vertical-align: middle;\n    }\n\n    .dataframe tbody tr th {\n        vertical-align: top;\n    }\n\n    .dataframe thead th {\n        text-align: right;\n    }\n</style>\n<table border=\"1\" class=\"dataframe\">\n  <thead>\n    <tr style=\"text-align: right;\">\n      <th></th>\n      <th>2_clusters</th>\n      <th>3_clusters</th>\n      <th>4_clusters</th>\n      <th>5_clusters</th>\n      <th>6_clusters</th>\n      <th>7_clusters</th>\n      <th>8_clusters</th>\n      <th>9_clusters</th>\n      <th>10_clusters</th>\n      <th>11_clusters</th>\n      <th>...</th>\n      <th>18_clusters</th>\n      <th>19_clusters</th>\n      <th>20_clusters</th>\n      <th>21_clusters</th>\n      <th>22_clusters</th>\n      <th>23_clusters</th>\n      <th>24_clusters</th>\n      <th>25_clusters</th>\n      <th>26_clusters</th>\n      <th>27_clusters</th>\n    </tr>\n  </thead>\n  <tbody>\n    <tr>\n      <th>0</th>\n      <td>1</td>\n      <td>2</td>\n      <td>2</td>\n      <td>3</td>\n      <td>4</td>\n      <td>4</td>\n      <td>5</td>\n      <td>2</td>\n      <td>6</td>\n      <td>6</td>\n      <td>...</td>\n      <td>3</td>\n      <td>11</td>\n      <td>9</td>\n      <td>6</td>\n      <td>1</td>\n      <td>1</td>\n      <td>9</td>\n      <td>8</td>\n      <td>1</td>\n      <td>22</td>\n    </tr>\n    <tr>\n      <th>1</th>\n      <td>0</td>\n      <td>1</td>\n      <td>0</td>\n      <td>0</td>\n      <td>2</td>\n      <td>2</td>\n      <td>0</td>\n      <td>3</td>\n      <td>2</td>\n      <td>10</td>\n      <td>...</td>\n      <td>8</td>\n      <td>16</td>\n      <td>5</td>\n      <td>5</td>\n      <td>5</td>\n      <td>7</td>\n      <td>7</td>\n      <td>9</td>\n      <td>6</td>\n      <td>23</td>\n    </tr>\n    <tr>\n      <th>2</th>\n      <td>1</td>\n      <td>2</td>\n      <td>2</td>\n      <td>3</td>\n      <td>4</td>\n      <td>4</td>\n      <td>5</td>\n      <td>2</td>\n      <td>6</td>\n      <td>6</td>\n      <td>...</td>\n      <td>3</td>\n      <td>11</td>\n      <td>9</td>\n      <td>6</td>\n      <td>1</td>\n      <td>1</td>\n      <td>9</td>\n      <td>8</td>\n      <td>25</td>\n      <td>25</td>\n    </tr>\n    <tr>\n      <th>3</th>\n      <td>0</td>\n      <td>0</td>\n      <td>3</td>\n      <td>1</td>\n      <td>3</td>\n      <td>5</td>\n      <td>1</td>\n      <td>0</td>\n      <td>3</td>\n      <td>2</td>\n      <td>...</td>\n      <td>2</td>\n      <td>18</td>\n      <td>15</td>\n      <td>18</td>\n      <td>18</td>\n      <td>18</td>\n      <td>3</td>\n      <td>3</td>\n      <td>16</td>\n      <td>13</td>\n    </tr>\n    <tr>\n      <th>4</th>\n      <td>0</td>\n      <td>1</td>\n      <td>0</td>\n      <td>0</td>\n      <td>2</td>\n      <td>2</td>\n      <td>7</td>\n      <td>5</td>\n      <td>5</td>\n      <td>5</td>\n      <td>...</td>\n      <td>0</td>\n      <td>15</td>\n      <td>17</td>\n      <td>15</td>\n      <td>9</td>\n      <td>10</td>\n      <td>4</td>\n      <td>20</td>\n      <td>4</td>\n      <td>17</td>\n    </tr>\n    <tr>\n      <th>...</th>\n      <td>...</td>\n      <td>...</td>\n      <td>...</td>\n      <td>...</td>\n      <td>...</td>\n      <td>...</td>\n      <td>...</td>\n      <td>...</td>\n      <td>...</td>\n      <td>...</td>\n      <td>...</td>\n      <td>...</td>\n      <td>...</td>\n      <td>...</td>\n      <td>...</td>\n      <td>...</td>\n      <td>...</td>\n      <td>...</td>\n      <td>...</td>\n      <td>...</td>\n      <td>...</td>\n    </tr>\n    <tr>\n      <th>25620</th>\n      <td>1</td>\n      <td>2</td>\n      <td>2</td>\n      <td>3</td>\n      <td>4</td>\n      <td>4</td>\n      <td>5</td>\n      <td>2</td>\n      <td>6</td>\n      <td>6</td>\n      <td>...</td>\n      <td>3</td>\n      <td>11</td>\n      <td>9</td>\n      <td>6</td>\n      <td>1</td>\n      <td>1</td>\n      <td>9</td>\n      <td>8</td>\n      <td>25</td>\n      <td>25</td>\n    </tr>\n    <tr>\n      <th>25621</th>\n      <td>0</td>\n      <td>1</td>\n      <td>0</td>\n      <td>4</td>\n      <td>1</td>\n      <td>3</td>\n      <td>2</td>\n      <td>4</td>\n      <td>0</td>\n      <td>8</td>\n      <td>...</td>\n      <td>5</td>\n      <td>7</td>\n      <td>4</td>\n      <td>14</td>\n      <td>3</td>\n      <td>13</td>\n      <td>1</td>\n      <td>21</td>\n      <td>21</td>\n      <td>20</td>\n    </tr>\n    <tr>\n      <th>25622</th>\n      <td>0</td>\n      <td>1</td>\n      <td>0</td>\n      <td>0</td>\n      <td>2</td>\n      <td>2</td>\n      <td>0</td>\n      <td>3</td>\n      <td>2</td>\n      <td>10</td>\n      <td>...</td>\n      <td>8</td>\n      <td>16</td>\n      <td>5</td>\n      <td>5</td>\n      <td>5</td>\n      <td>7</td>\n      <td>7</td>\n      <td>24</td>\n      <td>24</td>\n      <td>2</td>\n    </tr>\n    <tr>\n      <th>25623</th>\n      <td>0</td>\n      <td>0</td>\n      <td>3</td>\n      <td>1</td>\n      <td>3</td>\n      <td>5</td>\n      <td>1</td>\n      <td>0</td>\n      <td>3</td>\n      <td>2</td>\n      <td>...</td>\n      <td>2</td>\n      <td>18</td>\n      <td>15</td>\n      <td>18</td>\n      <td>18</td>\n      <td>18</td>\n      <td>3</td>\n      <td>3</td>\n      <td>16</td>\n      <td>13</td>\n    </tr>\n    <tr>\n      <th>25624</th>\n      <td>0</td>\n      <td>1</td>\n      <td>3</td>\n      <td>1</td>\n      <td>5</td>\n      <td>1</td>\n      <td>4</td>\n      <td>6</td>\n      <td>1</td>\n      <td>3</td>\n      <td>...</td>\n      <td>11</td>\n      <td>0</td>\n      <td>11</td>\n      <td>12</td>\n      <td>13</td>\n      <td>17</td>\n      <td>17</td>\n      <td>15</td>\n      <td>14</td>\n      <td>18</td>\n    </tr>\n  </tbody>\n</table>\n<p>25625 rows × 26 columns</p>\n</div>"
     },
     "execution_count": 25,
     "metadata": {},
     "output_type": "execute_result"
    }
   ],
   "source": [
    "df_labels_clusters = pd.read_json('C:\\\\Users\\\\giuli\\\\Desktop\\\\PythonTesi\\\\jsonFile\\\\labels_clusters.json')\n",
    "df_labels_clusters\n",
    "# f = open('C:\\\\Users\\\\giuli\\\\Desktop\\\\PythonTesi\\\\jsonFile\\\\accuracy_clusters.json', )\n",
    "# data = json.load(f)\n",
    "# RRR = []\n",
    "# for i in data['RFC']:\n",
    "#     RFC.append(i)\n",
    "# for i in data['NB']:\n",
    "#     NB.append(i)\n",
    "# for i in data['SVM']:\n",
    "#     SVM.append(i)\n",
    "# for i in data['CART']:\n",
    "#     CART.append(i)\n",
    "# for i in data['ADA']:\n",
    "#     ADA.append(i)\n",
    "# for i in data['LR']:\n",
    "#     LR.append(i)\n",
    "# for i in data['KNN']:\n",
    "#     KNN.append(i)\n",
    "#\n",
    "# f.close()\n",
    "# print(RFC)"
   ],
   "metadata": {
    "collapsed": false,
    "pycharm": {
     "name": "#%%\n"
    }
   }
  },
  {
   "cell_type": "code",
   "execution_count": 2,
   "outputs": [
    {
     "data": {
      "text/plain": "      RFC     NB    SVM   CART    ADA     LR    KNN\n0   92.25  82.97  91.62  87.64  89.37  91.61  90.54\n1   87.37  75.00  86.49  79.27  79.76  85.28  85.51\n2   79.79  65.01  78.51  70.95  71.36  77.60  77.24\n3   70.19  45.95  67.57  57.82  56.40  66.53  65.91\n4   68.43  43.91  66.77  55.06  56.05  65.70  64.67\n5   67.10  39.79  66.00  54.02  55.37  64.66  63.76\n6   60.94  38.03  59.09  46.61  38.54  57.49  56.10\n7   55.23  35.12  53.73  40.89  34.82  51.38  50.59\n8   53.32  27.64  52.46  38.84  33.40  50.30  48.35\n9   48.86  26.89  48.62  36.07  32.09  46.48  44.71\n10  49.66  24.82  49.08  35.54  33.78  47.03  45.15\n11  48.88  22.91  47.87  34.57  32.10  45.71  44.32\n12  48.58  21.80  48.23  33.82  29.62  46.45  44.30\n13  49.10  19.15  48.02  34.00  30.15  45.59  45.07\n14  48.23  20.60  48.14  33.12  31.18  45.79  44.45\n15  47.18  20.16  46.77  32.67  31.87  44.33  43.18\n16  45.27  17.99  44.75  31.36  30.22  43.13  41.83\n17  44.98  19.91  45.58  29.86  29.51  43.22  41.60\n18  44.69  19.29  44.69  30.72  29.67  42.49  41.65\n19  41.88  17.55  41.64  27.22  25.35  39.82  38.49\n20  40.95  16.01  40.86  26.26  26.37  39.07  37.46\n21  39.70  13.32  40.27  26.35  25.81  38.07  37.14\n22  40.06  13.28  40.34  26.46  25.48  38.46  37.37\n23  38.63  14.89  39.22  25.20  25.14  37.30  35.52\n24  37.59  13.74  38.09  24.01  23.93  36.62  34.99\n25  37.23  13.01  37.33  23.36  25.36  35.81  34.20",
      "text/html": "<div>\n<style scoped>\n    .dataframe tbody tr th:only-of-type {\n        vertical-align: middle;\n    }\n\n    .dataframe tbody tr th {\n        vertical-align: top;\n    }\n\n    .dataframe thead th {\n        text-align: right;\n    }\n</style>\n<table border=\"1\" class=\"dataframe\">\n  <thead>\n    <tr style=\"text-align: right;\">\n      <th></th>\n      <th>RFC</th>\n      <th>NB</th>\n      <th>SVM</th>\n      <th>CART</th>\n      <th>ADA</th>\n      <th>LR</th>\n      <th>KNN</th>\n    </tr>\n  </thead>\n  <tbody>\n    <tr>\n      <th>0</th>\n      <td>92.25</td>\n      <td>82.97</td>\n      <td>91.62</td>\n      <td>87.64</td>\n      <td>89.37</td>\n      <td>91.61</td>\n      <td>90.54</td>\n    </tr>\n    <tr>\n      <th>1</th>\n      <td>87.37</td>\n      <td>75.00</td>\n      <td>86.49</td>\n      <td>79.27</td>\n      <td>79.76</td>\n      <td>85.28</td>\n      <td>85.51</td>\n    </tr>\n    <tr>\n      <th>2</th>\n      <td>79.79</td>\n      <td>65.01</td>\n      <td>78.51</td>\n      <td>70.95</td>\n      <td>71.36</td>\n      <td>77.60</td>\n      <td>77.24</td>\n    </tr>\n    <tr>\n      <th>3</th>\n      <td>70.19</td>\n      <td>45.95</td>\n      <td>67.57</td>\n      <td>57.82</td>\n      <td>56.40</td>\n      <td>66.53</td>\n      <td>65.91</td>\n    </tr>\n    <tr>\n      <th>4</th>\n      <td>68.43</td>\n      <td>43.91</td>\n      <td>66.77</td>\n      <td>55.06</td>\n      <td>56.05</td>\n      <td>65.70</td>\n      <td>64.67</td>\n    </tr>\n    <tr>\n      <th>5</th>\n      <td>67.10</td>\n      <td>39.79</td>\n      <td>66.00</td>\n      <td>54.02</td>\n      <td>55.37</td>\n      <td>64.66</td>\n      <td>63.76</td>\n    </tr>\n    <tr>\n      <th>6</th>\n      <td>60.94</td>\n      <td>38.03</td>\n      <td>59.09</td>\n      <td>46.61</td>\n      <td>38.54</td>\n      <td>57.49</td>\n      <td>56.10</td>\n    </tr>\n    <tr>\n      <th>7</th>\n      <td>55.23</td>\n      <td>35.12</td>\n      <td>53.73</td>\n      <td>40.89</td>\n      <td>34.82</td>\n      <td>51.38</td>\n      <td>50.59</td>\n    </tr>\n    <tr>\n      <th>8</th>\n      <td>53.32</td>\n      <td>27.64</td>\n      <td>52.46</td>\n      <td>38.84</td>\n      <td>33.40</td>\n      <td>50.30</td>\n      <td>48.35</td>\n    </tr>\n    <tr>\n      <th>9</th>\n      <td>48.86</td>\n      <td>26.89</td>\n      <td>48.62</td>\n      <td>36.07</td>\n      <td>32.09</td>\n      <td>46.48</td>\n      <td>44.71</td>\n    </tr>\n    <tr>\n      <th>10</th>\n      <td>49.66</td>\n      <td>24.82</td>\n      <td>49.08</td>\n      <td>35.54</td>\n      <td>33.78</td>\n      <td>47.03</td>\n      <td>45.15</td>\n    </tr>\n    <tr>\n      <th>11</th>\n      <td>48.88</td>\n      <td>22.91</td>\n      <td>47.87</td>\n      <td>34.57</td>\n      <td>32.10</td>\n      <td>45.71</td>\n      <td>44.32</td>\n    </tr>\n    <tr>\n      <th>12</th>\n      <td>48.58</td>\n      <td>21.80</td>\n      <td>48.23</td>\n      <td>33.82</td>\n      <td>29.62</td>\n      <td>46.45</td>\n      <td>44.30</td>\n    </tr>\n    <tr>\n      <th>13</th>\n      <td>49.10</td>\n      <td>19.15</td>\n      <td>48.02</td>\n      <td>34.00</td>\n      <td>30.15</td>\n      <td>45.59</td>\n      <td>45.07</td>\n    </tr>\n    <tr>\n      <th>14</th>\n      <td>48.23</td>\n      <td>20.60</td>\n      <td>48.14</td>\n      <td>33.12</td>\n      <td>31.18</td>\n      <td>45.79</td>\n      <td>44.45</td>\n    </tr>\n    <tr>\n      <th>15</th>\n      <td>47.18</td>\n      <td>20.16</td>\n      <td>46.77</td>\n      <td>32.67</td>\n      <td>31.87</td>\n      <td>44.33</td>\n      <td>43.18</td>\n    </tr>\n    <tr>\n      <th>16</th>\n      <td>45.27</td>\n      <td>17.99</td>\n      <td>44.75</td>\n      <td>31.36</td>\n      <td>30.22</td>\n      <td>43.13</td>\n      <td>41.83</td>\n    </tr>\n    <tr>\n      <th>17</th>\n      <td>44.98</td>\n      <td>19.91</td>\n      <td>45.58</td>\n      <td>29.86</td>\n      <td>29.51</td>\n      <td>43.22</td>\n      <td>41.60</td>\n    </tr>\n    <tr>\n      <th>18</th>\n      <td>44.69</td>\n      <td>19.29</td>\n      <td>44.69</td>\n      <td>30.72</td>\n      <td>29.67</td>\n      <td>42.49</td>\n      <td>41.65</td>\n    </tr>\n    <tr>\n      <th>19</th>\n      <td>41.88</td>\n      <td>17.55</td>\n      <td>41.64</td>\n      <td>27.22</td>\n      <td>25.35</td>\n      <td>39.82</td>\n      <td>38.49</td>\n    </tr>\n    <tr>\n      <th>20</th>\n      <td>40.95</td>\n      <td>16.01</td>\n      <td>40.86</td>\n      <td>26.26</td>\n      <td>26.37</td>\n      <td>39.07</td>\n      <td>37.46</td>\n    </tr>\n    <tr>\n      <th>21</th>\n      <td>39.70</td>\n      <td>13.32</td>\n      <td>40.27</td>\n      <td>26.35</td>\n      <td>25.81</td>\n      <td>38.07</td>\n      <td>37.14</td>\n    </tr>\n    <tr>\n      <th>22</th>\n      <td>40.06</td>\n      <td>13.28</td>\n      <td>40.34</td>\n      <td>26.46</td>\n      <td>25.48</td>\n      <td>38.46</td>\n      <td>37.37</td>\n    </tr>\n    <tr>\n      <th>23</th>\n      <td>38.63</td>\n      <td>14.89</td>\n      <td>39.22</td>\n      <td>25.20</td>\n      <td>25.14</td>\n      <td>37.30</td>\n      <td>35.52</td>\n    </tr>\n    <tr>\n      <th>24</th>\n      <td>37.59</td>\n      <td>13.74</td>\n      <td>38.09</td>\n      <td>24.01</td>\n      <td>23.93</td>\n      <td>36.62</td>\n      <td>34.99</td>\n    </tr>\n    <tr>\n      <th>25</th>\n      <td>37.23</td>\n      <td>13.01</td>\n      <td>37.33</td>\n      <td>23.36</td>\n      <td>25.36</td>\n      <td>35.81</td>\n      <td>34.20</td>\n    </tr>\n  </tbody>\n</table>\n</div>"
     },
     "execution_count": 2,
     "metadata": {},
     "output_type": "execute_result"
    }
   ],
   "source": [
    "df_accuracy_clusters = pd.read_json('C:\\\\Users\\\\giuli\\\\Desktop\\\\PythonTesi\\\\jsonFile\\\\accuracy_clusters.json')\n",
    "\n",
    "df_accuracy_clusters\n"
   ],
   "metadata": {
    "collapsed": false,
    "pycharm": {
     "name": "#%%\n"
    }
   }
  },
  {
   "cell_type": "code",
   "execution_count": 7,
   "outputs": [],
   "source": [
    "# Grafico a linee accuracy clusters\n",
    "\n",
    "x_line = np.linspace(2, 27, 26)\n",
    "y = df_accuracy_clusters\n",
    "\n",
    "plt.figure(figsize=(30,18))\n",
    "\n",
    "plt.plot(x_line, y, marker=\"x\")\n",
    "plt.yticks(fontsize=16)\n",
    "plt.xticks(np.linspace(2, 27, 26), range(2, 28), fontsize=18)\n",
    "\n",
    "plt.legend(['RandomForestClassifier', 'GaussianNB', 'SVC', 'DecisionTreeClassifier', 'AdaBoostClassifier',\n",
    "            'LogisticRegression', 'KNeighborsClassifier'], loc='upper right', prop={\"size\":20})\n",
    "\n",
    "plt.ylabel(\"Accuracy\", fontsize=\"10\")\n",
    "plt.xlabel(\"Clusters\", fontsize=\"10\")\n",
    "\n",
    "plt.savefig(\"C:\\\\Users\\\\giuli\\\\Desktop\\\\image\\\\\" + \"line_graph_clusters.png\",\n",
    "                bbox_inches='tight')\n",
    "\n",
    "plt.close()"
   ],
   "metadata": {
    "collapsed": false,
    "pycharm": {
     "name": "#%%\n"
    }
   }
  }
 ],
 "metadata": {
  "kernelspec": {
   "display_name": "Python 3",
   "language": "python",
   "name": "python3"
  },
  "language_info": {
   "codemirror_mode": {
    "name": "ipython",
    "version": 2
   },
   "file_extension": ".py",
   "mimetype": "text/x-python",
   "name": "python",
   "nbconvert_exporter": "python",
   "pygments_lexer": "ipython2",
   "version": "2.7.6"
  }
 },
 "nbformat": 4,
 "nbformat_minor": 0
}