{
 "cells": [
  {
   "cell_type": "code",
   "execution_count": 2,
   "outputs": [],
   "source": [
    "import os\n",
    "import math\n",
    "\n",
    "import pandas as pd\n",
    "from numpy import arange, mean, std\n",
    "from sklearn import preprocessing\n",
    "import numpy as np\n",
    "\n",
    "import json"
   ],
   "metadata": {
    "collapsed": false,
    "pycharm": {
     "name": "#%%\n"
    }
   }
  },
  {
   "cell_type": "code",
   "execution_count": 2,
   "outputs": [
    {
     "data": {
      "text/plain": "         AxMean     AxMed     AxStd     AxVar     AxMax     AxMin    AyMean  \\\n0      0.137554  0.064636  0.356773  0.127287  1.051056 -0.110138  2.961190   \n1      0.590167  0.679947  0.403956  0.163180  1.103729 -0.134079  2.469620   \n2      0.331192  0.325607  0.397967  0.158378  1.027115  0.009567  2.721668   \n3     -0.447721 -0.495605  0.349624  0.122237  0.090973 -0.988815  2.018710   \n4      0.395437  0.402222  0.179063  0.032064  0.622482  0.074219  1.259748   \n...         ...       ...       ...       ...       ...       ...       ...   \n16757  0.292690  0.304062  0.022743  0.000517  0.304062  0.258575  0.882263   \n16758 -0.699108 -0.713470  0.028725  0.000825 -0.656021 -0.713470  1.756138   \n16759 -1.127679 -1.065430  0.085239  0.007266 -1.065430 -1.221054  1.631400   \n16760  0.440536  0.440536  0.000000  0.000000  0.440536  0.440536  1.857895   \n16761  2.084554  2.202667  0.204578  0.041852  2.202667  1.848328  3.555389   \n\n          AyMed     AyStd     AyVar  ...  PreMean  PreMed  PreStd  PreVar  \\\n0      3.021484  0.322891  0.104259  ...      1.0     1.0     0.0     0.0   \n1      2.303223  0.459437  0.211083  ...      1.0     1.0     0.0     0.0   \n2      2.700653  0.293869  0.086359  ...      1.0     1.0     0.0     0.0   \n3      2.047043  0.283701  0.080486  ...      1.0     1.0     0.0     0.0   \n4      1.280899  0.191081  0.036512  ...      1.0     1.0     0.0     0.0   \n...         ...       ...       ...  ...      ...     ...     ...     ...   \n16757  0.871490  0.021545  0.000464  ...      1.0     1.0     0.0     0.0   \n16758  1.903381  0.294487  0.086723  ...      1.0     1.0     0.0     0.0   \n16759  1.620865  0.014425  0.000208  ...      1.0     1.0     0.0     0.0   \n16760  1.857895  0.000000  0.000000  ...      1.0     1.0     0.0     0.0   \n16761  3.971985  0.721565  0.520655  ...      1.0     1.0     0.0     0.0   \n\n       PreMax  PreMin  View    User  Hand  Smartphone  \n0         1.0     1.0     t  Chiara  LEFT    REALME 7  \n1         1.0     1.0     h  Chiara  LEFT    REALME 7  \n2         1.0     1.0     e  Chiara  LEFT    REALME 7  \n3         1.0     1.0        Chiara  LEFT    REALME 7  \n4         1.0     1.0     r  Chiara  LEFT    REALME 7  \n...       ...     ...   ...     ...   ...         ...  \n16757     1.0     1.0        Chiara  LEFT    REALME 7  \n16758     1.0     1.0     z  Chiara  LEFT    REALME 7  \n16759     1.0     1.0     a  Chiara  LEFT    REALME 7  \n16760     1.0     1.0     c  Chiara  LEFT    REALME 7  \n16761     1.0     1.0     k  Chiara  LEFT    REALME 7  \n\n[16762 rows x 280 columns]",
      "text/html": "<div>\n<style scoped>\n    .dataframe tbody tr th:only-of-type {\n        vertical-align: middle;\n    }\n\n    .dataframe tbody tr th {\n        vertical-align: top;\n    }\n\n    .dataframe thead th {\n        text-align: right;\n    }\n</style>\n<table border=\"1\" class=\"dataframe\">\n  <thead>\n    <tr style=\"text-align: right;\">\n      <th></th>\n      <th>AxMean</th>\n      <th>AxMed</th>\n      <th>AxStd</th>\n      <th>AxVar</th>\n      <th>AxMax</th>\n      <th>AxMin</th>\n      <th>AyMean</th>\n      <th>AyMed</th>\n      <th>AyStd</th>\n      <th>AyVar</th>\n      <th>...</th>\n      <th>PreMean</th>\n      <th>PreMed</th>\n      <th>PreStd</th>\n      <th>PreVar</th>\n      <th>PreMax</th>\n      <th>PreMin</th>\n      <th>View</th>\n      <th>User</th>\n      <th>Hand</th>\n      <th>Smartphone</th>\n    </tr>\n  </thead>\n  <tbody>\n    <tr>\n      <th>0</th>\n      <td>0.137554</td>\n      <td>0.064636</td>\n      <td>0.356773</td>\n      <td>0.127287</td>\n      <td>1.051056</td>\n      <td>-0.110138</td>\n      <td>2.961190</td>\n      <td>3.021484</td>\n      <td>0.322891</td>\n      <td>0.104259</td>\n      <td>...</td>\n      <td>1.0</td>\n      <td>1.0</td>\n      <td>0.0</td>\n      <td>0.0</td>\n      <td>1.0</td>\n      <td>1.0</td>\n      <td>t</td>\n      <td>Chiara</td>\n      <td>LEFT</td>\n      <td>REALME 7</td>\n    </tr>\n    <tr>\n      <th>1</th>\n      <td>0.590167</td>\n      <td>0.679947</td>\n      <td>0.403956</td>\n      <td>0.163180</td>\n      <td>1.103729</td>\n      <td>-0.134079</td>\n      <td>2.469620</td>\n      <td>2.303223</td>\n      <td>0.459437</td>\n      <td>0.211083</td>\n      <td>...</td>\n      <td>1.0</td>\n      <td>1.0</td>\n      <td>0.0</td>\n      <td>0.0</td>\n      <td>1.0</td>\n      <td>1.0</td>\n      <td>h</td>\n      <td>Chiara</td>\n      <td>LEFT</td>\n      <td>REALME 7</td>\n    </tr>\n    <tr>\n      <th>2</th>\n      <td>0.331192</td>\n      <td>0.325607</td>\n      <td>0.397967</td>\n      <td>0.158378</td>\n      <td>1.027115</td>\n      <td>0.009567</td>\n      <td>2.721668</td>\n      <td>2.700653</td>\n      <td>0.293869</td>\n      <td>0.086359</td>\n      <td>...</td>\n      <td>1.0</td>\n      <td>1.0</td>\n      <td>0.0</td>\n      <td>0.0</td>\n      <td>1.0</td>\n      <td>1.0</td>\n      <td>e</td>\n      <td>Chiara</td>\n      <td>LEFT</td>\n      <td>REALME 7</td>\n    </tr>\n    <tr>\n      <th>3</th>\n      <td>-0.447721</td>\n      <td>-0.495605</td>\n      <td>0.349624</td>\n      <td>0.122237</td>\n      <td>0.090973</td>\n      <td>-0.988815</td>\n      <td>2.018710</td>\n      <td>2.047043</td>\n      <td>0.283701</td>\n      <td>0.080486</td>\n      <td>...</td>\n      <td>1.0</td>\n      <td>1.0</td>\n      <td>0.0</td>\n      <td>0.0</td>\n      <td>1.0</td>\n      <td>1.0</td>\n      <td></td>\n      <td>Chiara</td>\n      <td>LEFT</td>\n      <td>REALME 7</td>\n    </tr>\n    <tr>\n      <th>4</th>\n      <td>0.395437</td>\n      <td>0.402222</td>\n      <td>0.179063</td>\n      <td>0.032064</td>\n      <td>0.622482</td>\n      <td>0.074219</td>\n      <td>1.259748</td>\n      <td>1.280899</td>\n      <td>0.191081</td>\n      <td>0.036512</td>\n      <td>...</td>\n      <td>1.0</td>\n      <td>1.0</td>\n      <td>0.0</td>\n      <td>0.0</td>\n      <td>1.0</td>\n      <td>1.0</td>\n      <td>r</td>\n      <td>Chiara</td>\n      <td>LEFT</td>\n      <td>REALME 7</td>\n    </tr>\n    <tr>\n      <th>...</th>\n      <td>...</td>\n      <td>...</td>\n      <td>...</td>\n      <td>...</td>\n      <td>...</td>\n      <td>...</td>\n      <td>...</td>\n      <td>...</td>\n      <td>...</td>\n      <td>...</td>\n      <td>...</td>\n      <td>...</td>\n      <td>...</td>\n      <td>...</td>\n      <td>...</td>\n      <td>...</td>\n      <td>...</td>\n      <td>...</td>\n      <td>...</td>\n      <td>...</td>\n      <td>...</td>\n    </tr>\n    <tr>\n      <th>16757</th>\n      <td>0.292690</td>\n      <td>0.304062</td>\n      <td>0.022743</td>\n      <td>0.000517</td>\n      <td>0.304062</td>\n      <td>0.258575</td>\n      <td>0.882263</td>\n      <td>0.871490</td>\n      <td>0.021545</td>\n      <td>0.000464</td>\n      <td>...</td>\n      <td>1.0</td>\n      <td>1.0</td>\n      <td>0.0</td>\n      <td>0.0</td>\n      <td>1.0</td>\n      <td>1.0</td>\n      <td></td>\n      <td>Chiara</td>\n      <td>LEFT</td>\n      <td>REALME 7</td>\n    </tr>\n    <tr>\n      <th>16758</th>\n      <td>-0.699108</td>\n      <td>-0.713470</td>\n      <td>0.028725</td>\n      <td>0.000825</td>\n      <td>-0.656021</td>\n      <td>-0.713470</td>\n      <td>1.756138</td>\n      <td>1.903381</td>\n      <td>0.294487</td>\n      <td>0.086723</td>\n      <td>...</td>\n      <td>1.0</td>\n      <td>1.0</td>\n      <td>0.0</td>\n      <td>0.0</td>\n      <td>1.0</td>\n      <td>1.0</td>\n      <td>z</td>\n      <td>Chiara</td>\n      <td>LEFT</td>\n      <td>REALME 7</td>\n    </tr>\n    <tr>\n      <th>16759</th>\n      <td>-1.127679</td>\n      <td>-1.065430</td>\n      <td>0.085239</td>\n      <td>0.007266</td>\n      <td>-1.065430</td>\n      <td>-1.221054</td>\n      <td>1.631400</td>\n      <td>1.620865</td>\n      <td>0.014425</td>\n      <td>0.000208</td>\n      <td>...</td>\n      <td>1.0</td>\n      <td>1.0</td>\n      <td>0.0</td>\n      <td>0.0</td>\n      <td>1.0</td>\n      <td>1.0</td>\n      <td>a</td>\n      <td>Chiara</td>\n      <td>LEFT</td>\n      <td>REALME 7</td>\n    </tr>\n    <tr>\n      <th>16760</th>\n      <td>0.440536</td>\n      <td>0.440536</td>\n      <td>0.000000</td>\n      <td>0.000000</td>\n      <td>0.440536</td>\n      <td>0.440536</td>\n      <td>1.857895</td>\n      <td>1.857895</td>\n      <td>0.000000</td>\n      <td>0.000000</td>\n      <td>...</td>\n      <td>1.0</td>\n      <td>1.0</td>\n      <td>0.0</td>\n      <td>0.0</td>\n      <td>1.0</td>\n      <td>1.0</td>\n      <td>c</td>\n      <td>Chiara</td>\n      <td>LEFT</td>\n      <td>REALME 7</td>\n    </tr>\n    <tr>\n      <th>16761</th>\n      <td>2.084554</td>\n      <td>2.202667</td>\n      <td>0.204578</td>\n      <td>0.041852</td>\n      <td>2.202667</td>\n      <td>1.848328</td>\n      <td>3.555389</td>\n      <td>3.971985</td>\n      <td>0.721565</td>\n      <td>0.520655</td>\n      <td>...</td>\n      <td>1.0</td>\n      <td>1.0</td>\n      <td>0.0</td>\n      <td>0.0</td>\n      <td>1.0</td>\n      <td>1.0</td>\n      <td>k</td>\n      <td>Chiara</td>\n      <td>LEFT</td>\n      <td>REALME 7</td>\n    </tr>\n  </tbody>\n</table>\n<p>16762 rows × 280 columns</p>\n</div>"
     },
     "execution_count": 2,
     "metadata": {},
     "output_type": "execute_result"
    }
   ],
   "source": [
    "# import csv\n",
    "df = pd.read_csv(\"C:\\\\Users\\\\giuli\\\\Desktop\\\\ds Left\\\\merged\\\\mergedFileLeft.csv\")\n",
    "df\n",
    "# print(df.describe())"
   ],
   "metadata": {
    "collapsed": false,
    "pycharm": {
     "name": "#%%\n"
    }
   }
  },
  {
   "cell_type": "code",
   "execution_count": 3,
   "outputs": [],
   "source": [
    "# Normalization between -1 and 1\n",
    "df_norm = df.copy()\n",
    "\n",
    "notnorm = ['View','User', 'Hand', 'Smartphone']\n",
    "min_max_scaler = preprocessing.MinMaxScaler(feature_range=(-1,1))\n",
    "\n",
    "for col in list(df_norm.columns):\n",
    "    if col in notnorm:\n",
    "        continue\n",
    "    x = df_norm[[col]].values.astype(float) # cast to float\n",
    "    x_scaled = min_max_scaler.fit_transform(x) # fit data and transform it\n",
    "    df_norm[[col]] = x_scaled"
   ],
   "metadata": {
    "collapsed": false,
    "pycharm": {
     "name": "#%%\n"
    }
   }
  },
  {
   "cell_type": "code",
   "execution_count": 4,
   "outputs": [
    {
     "data": {
      "text/plain": "         AxMean     AxMed     AxStd     AxVar     AxMax     AxMin    AyMean  \\\n0     -0.132653 -0.147185 -0.603221 -0.921283  0.032926 -0.109151  0.273847   \n1     -0.021683 -0.003086 -0.550748 -0.899086  0.045203 -0.114663  0.140869   \n2     -0.085178 -0.086068 -0.557407 -0.902056  0.027346 -0.081589  0.209052   \n3     -0.276150 -0.278387 -0.611171 -0.924406 -0.190848 -0.311467  0.018891   \n4     -0.069426 -0.068126 -0.800858 -0.980171 -0.066965 -0.066703 -0.186420   \n...         ...       ...       ...       ...       ...       ...       ...   \n16757 -0.094617 -0.091114 -0.974706 -0.999680 -0.141182 -0.024254 -0.288535   \n16758 -0.337784 -0.329409 -0.968054 -0.999490 -0.364956 -0.248069 -0.052138   \n16759 -0.442860 -0.411833 -0.905203 -0.995507 -0.460381 -0.364941 -0.085882   \n16760 -0.058369 -0.059153 -1.000000 -1.000000 -0.109373  0.017642 -0.024612   \n16761  0.344708  0.353518 -0.772482 -0.974118  0.301341  0.341788  0.434587   \n\n          AyMed     AyStd     AyVar  ...  PreMean  PreMed  PreStd  PreVar  \\\n0      0.271777 -0.630290 -0.931657  ...     -1.0    -1.0    -1.0    -1.0   \n1      0.087105 -0.473945 -0.861633  ...     -1.0    -1.0    -1.0    -1.0   \n2      0.189288 -0.663520 -0.943391  ...     -1.0    -1.0    -1.0    -1.0   \n3      0.021238 -0.675163 -0.947240  ...     -1.0    -1.0    -1.0    -1.0   \n4     -0.175745 -0.781213 -0.976066  ...     -1.0    -1.0    -1.0    -1.0   \n...         ...       ...       ...  ...      ...     ...     ...     ...   \n16757 -0.281008 -0.975331 -0.999696  ...     -1.0    -1.0    -1.0    -1.0   \n16758 -0.015699 -0.662813 -0.943152  ...     -1.0    -1.0    -1.0    -1.0   \n16759 -0.088337 -0.983483 -0.999864  ...     -1.0    -1.0    -1.0    -1.0   \n16760 -0.027394 -1.000000 -1.000000  ...     -1.0    -1.0    -1.0    -1.0   \n16761  0.516161 -0.173809 -0.658705  ...     -1.0    -1.0    -1.0    -1.0   \n\n       PreMax  PreMin  View    User  Hand  Smartphone  \n0        -1.0    -1.0     t  Chiara  LEFT    REALME 7  \n1        -1.0    -1.0     h  Chiara  LEFT    REALME 7  \n2        -1.0    -1.0     e  Chiara  LEFT    REALME 7  \n3        -1.0    -1.0        Chiara  LEFT    REALME 7  \n4        -1.0    -1.0     r  Chiara  LEFT    REALME 7  \n...       ...     ...   ...     ...   ...         ...  \n16757    -1.0    -1.0        Chiara  LEFT    REALME 7  \n16758    -1.0    -1.0     z  Chiara  LEFT    REALME 7  \n16759    -1.0    -1.0     a  Chiara  LEFT    REALME 7  \n16760    -1.0    -1.0     c  Chiara  LEFT    REALME 7  \n16761    -1.0    -1.0     k  Chiara  LEFT    REALME 7  \n\n[16762 rows x 280 columns]",
      "text/html": "<div>\n<style scoped>\n    .dataframe tbody tr th:only-of-type {\n        vertical-align: middle;\n    }\n\n    .dataframe tbody tr th {\n        vertical-align: top;\n    }\n\n    .dataframe thead th {\n        text-align: right;\n    }\n</style>\n<table border=\"1\" class=\"dataframe\">\n  <thead>\n    <tr style=\"text-align: right;\">\n      <th></th>\n      <th>AxMean</th>\n      <th>AxMed</th>\n      <th>AxStd</th>\n      <th>AxVar</th>\n      <th>AxMax</th>\n      <th>AxMin</th>\n      <th>AyMean</th>\n      <th>AyMed</th>\n      <th>AyStd</th>\n      <th>AyVar</th>\n      <th>...</th>\n      <th>PreMean</th>\n      <th>PreMed</th>\n      <th>PreStd</th>\n      <th>PreVar</th>\n      <th>PreMax</th>\n      <th>PreMin</th>\n      <th>View</th>\n      <th>User</th>\n      <th>Hand</th>\n      <th>Smartphone</th>\n    </tr>\n  </thead>\n  <tbody>\n    <tr>\n      <th>0</th>\n      <td>-0.132653</td>\n      <td>-0.147185</td>\n      <td>-0.603221</td>\n      <td>-0.921283</td>\n      <td>0.032926</td>\n      <td>-0.109151</td>\n      <td>0.273847</td>\n      <td>0.271777</td>\n      <td>-0.630290</td>\n      <td>-0.931657</td>\n      <td>...</td>\n      <td>-1.0</td>\n      <td>-1.0</td>\n      <td>-1.0</td>\n      <td>-1.0</td>\n      <td>-1.0</td>\n      <td>-1.0</td>\n      <td>t</td>\n      <td>Chiara</td>\n      <td>LEFT</td>\n      <td>REALME 7</td>\n    </tr>\n    <tr>\n      <th>1</th>\n      <td>-0.021683</td>\n      <td>-0.003086</td>\n      <td>-0.550748</td>\n      <td>-0.899086</td>\n      <td>0.045203</td>\n      <td>-0.114663</td>\n      <td>0.140869</td>\n      <td>0.087105</td>\n      <td>-0.473945</td>\n      <td>-0.861633</td>\n      <td>...</td>\n      <td>-1.0</td>\n      <td>-1.0</td>\n      <td>-1.0</td>\n      <td>-1.0</td>\n      <td>-1.0</td>\n      <td>-1.0</td>\n      <td>h</td>\n      <td>Chiara</td>\n      <td>LEFT</td>\n      <td>REALME 7</td>\n    </tr>\n    <tr>\n      <th>2</th>\n      <td>-0.085178</td>\n      <td>-0.086068</td>\n      <td>-0.557407</td>\n      <td>-0.902056</td>\n      <td>0.027346</td>\n      <td>-0.081589</td>\n      <td>0.209052</td>\n      <td>0.189288</td>\n      <td>-0.663520</td>\n      <td>-0.943391</td>\n      <td>...</td>\n      <td>-1.0</td>\n      <td>-1.0</td>\n      <td>-1.0</td>\n      <td>-1.0</td>\n      <td>-1.0</td>\n      <td>-1.0</td>\n      <td>e</td>\n      <td>Chiara</td>\n      <td>LEFT</td>\n      <td>REALME 7</td>\n    </tr>\n    <tr>\n      <th>3</th>\n      <td>-0.276150</td>\n      <td>-0.278387</td>\n      <td>-0.611171</td>\n      <td>-0.924406</td>\n      <td>-0.190848</td>\n      <td>-0.311467</td>\n      <td>0.018891</td>\n      <td>0.021238</td>\n      <td>-0.675163</td>\n      <td>-0.947240</td>\n      <td>...</td>\n      <td>-1.0</td>\n      <td>-1.0</td>\n      <td>-1.0</td>\n      <td>-1.0</td>\n      <td>-1.0</td>\n      <td>-1.0</td>\n      <td></td>\n      <td>Chiara</td>\n      <td>LEFT</td>\n      <td>REALME 7</td>\n    </tr>\n    <tr>\n      <th>4</th>\n      <td>-0.069426</td>\n      <td>-0.068126</td>\n      <td>-0.800858</td>\n      <td>-0.980171</td>\n      <td>-0.066965</td>\n      <td>-0.066703</td>\n      <td>-0.186420</td>\n      <td>-0.175745</td>\n      <td>-0.781213</td>\n      <td>-0.976066</td>\n      <td>...</td>\n      <td>-1.0</td>\n      <td>-1.0</td>\n      <td>-1.0</td>\n      <td>-1.0</td>\n      <td>-1.0</td>\n      <td>-1.0</td>\n      <td>r</td>\n      <td>Chiara</td>\n      <td>LEFT</td>\n      <td>REALME 7</td>\n    </tr>\n    <tr>\n      <th>...</th>\n      <td>...</td>\n      <td>...</td>\n      <td>...</td>\n      <td>...</td>\n      <td>...</td>\n      <td>...</td>\n      <td>...</td>\n      <td>...</td>\n      <td>...</td>\n      <td>...</td>\n      <td>...</td>\n      <td>...</td>\n      <td>...</td>\n      <td>...</td>\n      <td>...</td>\n      <td>...</td>\n      <td>...</td>\n      <td>...</td>\n      <td>...</td>\n      <td>...</td>\n      <td>...</td>\n    </tr>\n    <tr>\n      <th>16757</th>\n      <td>-0.094617</td>\n      <td>-0.091114</td>\n      <td>-0.974706</td>\n      <td>-0.999680</td>\n      <td>-0.141182</td>\n      <td>-0.024254</td>\n      <td>-0.288535</td>\n      <td>-0.281008</td>\n      <td>-0.975331</td>\n      <td>-0.999696</td>\n      <td>...</td>\n      <td>-1.0</td>\n      <td>-1.0</td>\n      <td>-1.0</td>\n      <td>-1.0</td>\n      <td>-1.0</td>\n      <td>-1.0</td>\n      <td></td>\n      <td>Chiara</td>\n      <td>LEFT</td>\n      <td>REALME 7</td>\n    </tr>\n    <tr>\n      <th>16758</th>\n      <td>-0.337784</td>\n      <td>-0.329409</td>\n      <td>-0.968054</td>\n      <td>-0.999490</td>\n      <td>-0.364956</td>\n      <td>-0.248069</td>\n      <td>-0.052138</td>\n      <td>-0.015699</td>\n      <td>-0.662813</td>\n      <td>-0.943152</td>\n      <td>...</td>\n      <td>-1.0</td>\n      <td>-1.0</td>\n      <td>-1.0</td>\n      <td>-1.0</td>\n      <td>-1.0</td>\n      <td>-1.0</td>\n      <td>z</td>\n      <td>Chiara</td>\n      <td>LEFT</td>\n      <td>REALME 7</td>\n    </tr>\n    <tr>\n      <th>16759</th>\n      <td>-0.442860</td>\n      <td>-0.411833</td>\n      <td>-0.905203</td>\n      <td>-0.995507</td>\n      <td>-0.460381</td>\n      <td>-0.364941</td>\n      <td>-0.085882</td>\n      <td>-0.088337</td>\n      <td>-0.983483</td>\n      <td>-0.999864</td>\n      <td>...</td>\n      <td>-1.0</td>\n      <td>-1.0</td>\n      <td>-1.0</td>\n      <td>-1.0</td>\n      <td>-1.0</td>\n      <td>-1.0</td>\n      <td>a</td>\n      <td>Chiara</td>\n      <td>LEFT</td>\n      <td>REALME 7</td>\n    </tr>\n    <tr>\n      <th>16760</th>\n      <td>-0.058369</td>\n      <td>-0.059153</td>\n      <td>-1.000000</td>\n      <td>-1.000000</td>\n      <td>-0.109373</td>\n      <td>0.017642</td>\n      <td>-0.024612</td>\n      <td>-0.027394</td>\n      <td>-1.000000</td>\n      <td>-1.000000</td>\n      <td>...</td>\n      <td>-1.0</td>\n      <td>-1.0</td>\n      <td>-1.0</td>\n      <td>-1.0</td>\n      <td>-1.0</td>\n      <td>-1.0</td>\n      <td>c</td>\n      <td>Chiara</td>\n      <td>LEFT</td>\n      <td>REALME 7</td>\n    </tr>\n    <tr>\n      <th>16761</th>\n      <td>0.344708</td>\n      <td>0.353518</td>\n      <td>-0.772482</td>\n      <td>-0.974118</td>\n      <td>0.301341</td>\n      <td>0.341788</td>\n      <td>0.434587</td>\n      <td>0.516161</td>\n      <td>-0.173809</td>\n      <td>-0.658705</td>\n      <td>...</td>\n      <td>-1.0</td>\n      <td>-1.0</td>\n      <td>-1.0</td>\n      <td>-1.0</td>\n      <td>-1.0</td>\n      <td>-1.0</td>\n      <td>k</td>\n      <td>Chiara</td>\n      <td>LEFT</td>\n      <td>REALME 7</td>\n    </tr>\n  </tbody>\n</table>\n<p>16762 rows × 280 columns</p>\n</div>"
     },
     "execution_count": 4,
     "metadata": {},
     "output_type": "execute_result"
    }
   ],
   "source": [
    "df_norm.describe()\n",
    "df = df_norm\n",
    "df"
   ],
   "metadata": {
    "collapsed": false,
    "pycharm": {
     "name": "#%%\n"
    }
   }
  },
  {
   "cell_type": "code",
   "execution_count": 5,
   "outputs": [
    {
     "data": {
      "text/plain": "         AxMean     AxMed     AxStd     AxVar     AxMax     AxMin    AyMean  \\\n0     -0.132653 -0.147185 -0.603221 -0.921283  0.032926 -0.109151  0.273847   \n1     -0.021683 -0.003086 -0.550748 -0.899086  0.045203 -0.114663  0.140869   \n2     -0.085178 -0.086068 -0.557407 -0.902056  0.027346 -0.081589  0.209052   \n3     -0.276150 -0.278387 -0.611171 -0.924406 -0.190848 -0.311467  0.018891   \n4     -0.069426 -0.068126 -0.800858 -0.980171 -0.066965 -0.066703 -0.186420   \n...         ...       ...       ...       ...       ...       ...       ...   \n16757 -0.094617 -0.091114 -0.974706 -0.999680 -0.141182 -0.024254 -0.288535   \n16758 -0.337784 -0.329409 -0.968054 -0.999490 -0.364956 -0.248069 -0.052138   \n16759 -0.442860 -0.411833 -0.905203 -0.995507 -0.460381 -0.364941 -0.085882   \n16760 -0.058369 -0.059153 -1.000000 -1.000000 -0.109373  0.017642 -0.024612   \n16761  0.344708  0.353518 -0.772482 -0.974118  0.301341  0.341788  0.434587   \n\n          AyMed     AyStd     AyVar  ...  PreVar  PreMax  PreMin  View  \\\n0      0.271777 -0.630290 -0.931657  ...    -1.0    -1.0    -1.0     t   \n1      0.087105 -0.473945 -0.861633  ...    -1.0    -1.0    -1.0     h   \n2      0.189288 -0.663520 -0.943391  ...    -1.0    -1.0    -1.0     e   \n3      0.021238 -0.675163 -0.947240  ...    -1.0    -1.0    -1.0         \n4     -0.175745 -0.781213 -0.976066  ...    -1.0    -1.0    -1.0     r   \n...         ...       ...       ...  ...     ...     ...     ...   ...   \n16757 -0.281008 -0.975331 -0.999696  ...    -1.0    -1.0    -1.0         \n16758 -0.015699 -0.662813 -0.943152  ...    -1.0    -1.0    -1.0     z   \n16759 -0.088337 -0.983483 -0.999864  ...    -1.0    -1.0    -1.0     a   \n16760 -0.027394 -1.000000 -1.000000  ...    -1.0    -1.0    -1.0     c   \n16761  0.516161 -0.173809 -0.658705  ...    -1.0    -1.0    -1.0     k   \n\n         User  Hand  Smartphone    x  y      dist  \n0      Chiara  LEFT    REALME 7  5.0  0  3.640055  \n1      Chiara  LEFT    REALME 7  6.5  1  5.000000  \n2      Chiara  LEFT    REALME 7  3.0  0  1.802776  \n3      Chiara  LEFT    REALME 7  5.0  3  4.031129  \n4      Chiara  LEFT    REALME 7  4.0  0  2.692582  \n...       ...   ...         ...  ... ..       ...  \n16757  Chiara  LEFT    REALME 7  5.0  3  4.031129  \n16758  Chiara  LEFT    REALME 7  2.0  2  1.118034  \n16759  Chiara  LEFT    REALME 7  1.5  1  0.000000  \n16760  Chiara  LEFT    REALME 7  4.0  2  2.692582  \n16761  Chiara  LEFT    REALME 7  8.5  1  7.000000  \n\n[16762 rows x 283 columns]",
      "text/html": "<div>\n<style scoped>\n    .dataframe tbody tr th:only-of-type {\n        vertical-align: middle;\n    }\n\n    .dataframe tbody tr th {\n        vertical-align: top;\n    }\n\n    .dataframe thead th {\n        text-align: right;\n    }\n</style>\n<table border=\"1\" class=\"dataframe\">\n  <thead>\n    <tr style=\"text-align: right;\">\n      <th></th>\n      <th>AxMean</th>\n      <th>AxMed</th>\n      <th>AxStd</th>\n      <th>AxVar</th>\n      <th>AxMax</th>\n      <th>AxMin</th>\n      <th>AyMean</th>\n      <th>AyMed</th>\n      <th>AyStd</th>\n      <th>AyVar</th>\n      <th>...</th>\n      <th>PreVar</th>\n      <th>PreMax</th>\n      <th>PreMin</th>\n      <th>View</th>\n      <th>User</th>\n      <th>Hand</th>\n      <th>Smartphone</th>\n      <th>x</th>\n      <th>y</th>\n      <th>dist</th>\n    </tr>\n  </thead>\n  <tbody>\n    <tr>\n      <th>0</th>\n      <td>-0.132653</td>\n      <td>-0.147185</td>\n      <td>-0.603221</td>\n      <td>-0.921283</td>\n      <td>0.032926</td>\n      <td>-0.109151</td>\n      <td>0.273847</td>\n      <td>0.271777</td>\n      <td>-0.630290</td>\n      <td>-0.931657</td>\n      <td>...</td>\n      <td>-1.0</td>\n      <td>-1.0</td>\n      <td>-1.0</td>\n      <td>t</td>\n      <td>Chiara</td>\n      <td>LEFT</td>\n      <td>REALME 7</td>\n      <td>5.0</td>\n      <td>0</td>\n      <td>3.640055</td>\n    </tr>\n    <tr>\n      <th>1</th>\n      <td>-0.021683</td>\n      <td>-0.003086</td>\n      <td>-0.550748</td>\n      <td>-0.899086</td>\n      <td>0.045203</td>\n      <td>-0.114663</td>\n      <td>0.140869</td>\n      <td>0.087105</td>\n      <td>-0.473945</td>\n      <td>-0.861633</td>\n      <td>...</td>\n      <td>-1.0</td>\n      <td>-1.0</td>\n      <td>-1.0</td>\n      <td>h</td>\n      <td>Chiara</td>\n      <td>LEFT</td>\n      <td>REALME 7</td>\n      <td>6.5</td>\n      <td>1</td>\n      <td>5.000000</td>\n    </tr>\n    <tr>\n      <th>2</th>\n      <td>-0.085178</td>\n      <td>-0.086068</td>\n      <td>-0.557407</td>\n      <td>-0.902056</td>\n      <td>0.027346</td>\n      <td>-0.081589</td>\n      <td>0.209052</td>\n      <td>0.189288</td>\n      <td>-0.663520</td>\n      <td>-0.943391</td>\n      <td>...</td>\n      <td>-1.0</td>\n      <td>-1.0</td>\n      <td>-1.0</td>\n      <td>e</td>\n      <td>Chiara</td>\n      <td>LEFT</td>\n      <td>REALME 7</td>\n      <td>3.0</td>\n      <td>0</td>\n      <td>1.802776</td>\n    </tr>\n    <tr>\n      <th>3</th>\n      <td>-0.276150</td>\n      <td>-0.278387</td>\n      <td>-0.611171</td>\n      <td>-0.924406</td>\n      <td>-0.190848</td>\n      <td>-0.311467</td>\n      <td>0.018891</td>\n      <td>0.021238</td>\n      <td>-0.675163</td>\n      <td>-0.947240</td>\n      <td>...</td>\n      <td>-1.0</td>\n      <td>-1.0</td>\n      <td>-1.0</td>\n      <td></td>\n      <td>Chiara</td>\n      <td>LEFT</td>\n      <td>REALME 7</td>\n      <td>5.0</td>\n      <td>3</td>\n      <td>4.031129</td>\n    </tr>\n    <tr>\n      <th>4</th>\n      <td>-0.069426</td>\n      <td>-0.068126</td>\n      <td>-0.800858</td>\n      <td>-0.980171</td>\n      <td>-0.066965</td>\n      <td>-0.066703</td>\n      <td>-0.186420</td>\n      <td>-0.175745</td>\n      <td>-0.781213</td>\n      <td>-0.976066</td>\n      <td>...</td>\n      <td>-1.0</td>\n      <td>-1.0</td>\n      <td>-1.0</td>\n      <td>r</td>\n      <td>Chiara</td>\n      <td>LEFT</td>\n      <td>REALME 7</td>\n      <td>4.0</td>\n      <td>0</td>\n      <td>2.692582</td>\n    </tr>\n    <tr>\n      <th>...</th>\n      <td>...</td>\n      <td>...</td>\n      <td>...</td>\n      <td>...</td>\n      <td>...</td>\n      <td>...</td>\n      <td>...</td>\n      <td>...</td>\n      <td>...</td>\n      <td>...</td>\n      <td>...</td>\n      <td>...</td>\n      <td>...</td>\n      <td>...</td>\n      <td>...</td>\n      <td>...</td>\n      <td>...</td>\n      <td>...</td>\n      <td>...</td>\n      <td>...</td>\n      <td>...</td>\n    </tr>\n    <tr>\n      <th>16757</th>\n      <td>-0.094617</td>\n      <td>-0.091114</td>\n      <td>-0.974706</td>\n      <td>-0.999680</td>\n      <td>-0.141182</td>\n      <td>-0.024254</td>\n      <td>-0.288535</td>\n      <td>-0.281008</td>\n      <td>-0.975331</td>\n      <td>-0.999696</td>\n      <td>...</td>\n      <td>-1.0</td>\n      <td>-1.0</td>\n      <td>-1.0</td>\n      <td></td>\n      <td>Chiara</td>\n      <td>LEFT</td>\n      <td>REALME 7</td>\n      <td>5.0</td>\n      <td>3</td>\n      <td>4.031129</td>\n    </tr>\n    <tr>\n      <th>16758</th>\n      <td>-0.337784</td>\n      <td>-0.329409</td>\n      <td>-0.968054</td>\n      <td>-0.999490</td>\n      <td>-0.364956</td>\n      <td>-0.248069</td>\n      <td>-0.052138</td>\n      <td>-0.015699</td>\n      <td>-0.662813</td>\n      <td>-0.943152</td>\n      <td>...</td>\n      <td>-1.0</td>\n      <td>-1.0</td>\n      <td>-1.0</td>\n      <td>z</td>\n      <td>Chiara</td>\n      <td>LEFT</td>\n      <td>REALME 7</td>\n      <td>2.0</td>\n      <td>2</td>\n      <td>1.118034</td>\n    </tr>\n    <tr>\n      <th>16759</th>\n      <td>-0.442860</td>\n      <td>-0.411833</td>\n      <td>-0.905203</td>\n      <td>-0.995507</td>\n      <td>-0.460381</td>\n      <td>-0.364941</td>\n      <td>-0.085882</td>\n      <td>-0.088337</td>\n      <td>-0.983483</td>\n      <td>-0.999864</td>\n      <td>...</td>\n      <td>-1.0</td>\n      <td>-1.0</td>\n      <td>-1.0</td>\n      <td>a</td>\n      <td>Chiara</td>\n      <td>LEFT</td>\n      <td>REALME 7</td>\n      <td>1.5</td>\n      <td>1</td>\n      <td>0.000000</td>\n    </tr>\n    <tr>\n      <th>16760</th>\n      <td>-0.058369</td>\n      <td>-0.059153</td>\n      <td>-1.000000</td>\n      <td>-1.000000</td>\n      <td>-0.109373</td>\n      <td>0.017642</td>\n      <td>-0.024612</td>\n      <td>-0.027394</td>\n      <td>-1.000000</td>\n      <td>-1.000000</td>\n      <td>...</td>\n      <td>-1.0</td>\n      <td>-1.0</td>\n      <td>-1.0</td>\n      <td>c</td>\n      <td>Chiara</td>\n      <td>LEFT</td>\n      <td>REALME 7</td>\n      <td>4.0</td>\n      <td>2</td>\n      <td>2.692582</td>\n    </tr>\n    <tr>\n      <th>16761</th>\n      <td>0.344708</td>\n      <td>0.353518</td>\n      <td>-0.772482</td>\n      <td>-0.974118</td>\n      <td>0.301341</td>\n      <td>0.341788</td>\n      <td>0.434587</td>\n      <td>0.516161</td>\n      <td>-0.173809</td>\n      <td>-0.658705</td>\n      <td>...</td>\n      <td>-1.0</td>\n      <td>-1.0</td>\n      <td>-1.0</td>\n      <td>k</td>\n      <td>Chiara</td>\n      <td>LEFT</td>\n      <td>REALME 7</td>\n      <td>8.5</td>\n      <td>1</td>\n      <td>7.000000</td>\n    </tr>\n  </tbody>\n</table>\n<p>16762 rows × 283 columns</p>\n</div>"
     },
     "execution_count": 5,
     "metadata": {},
     "output_type": "execute_result"
    }
   ],
   "source": [
    "# add letters\n",
    "letters = [\"a\",\"b\",\"c\",\"d\",\"e\",\"f\",\"g\",\"h\",\"i\",\"j\",\"k\",\"l\",\"m\",\"n\",\"o\",\"p\",\"q\",\"r\",\"s\",\"t\",\"u\",\"v\",\"w\",\"x\",\"y\",\"z\",\" \"]\n",
    "# add distances from left margin (xAxis) and top margin (yAxis) (start from 1)\n",
    "yAxis = [ 1,  2,  2,  1,  0,  1,  1,  1,  0,  1,  1,  1,  2,  2,  0,  0,  0,  0,  1,  0,  0,  2,  0,  2,  0,  2, 3]\n",
    "xAxis =[ 1.5,  6,  4,  3.5,  3,  4.5,  5.5, 6.5,  8,  7.5, 8.5,  9.5,  8,  7,  9,  10,  1,  4,  2.5,  5,  7,  5,  2,  3,  6,  2, 5]\n",
    "\n",
    "# pair of distances for letters\n",
    "dict_letters = {}\n",
    "for i, let in enumerate(letters):\n",
    "    dict_letters[let] = (xAxis[i], yAxis[i])\n",
    "\n",
    "center = \"a\"\n",
    "dict_dist = {}\n",
    "for let in letters:\n",
    "    dict_dist[let] = math.sqrt((dict_letters[center][0] - dict_letters[let][0])**2 + (dict_letters[center][1] - dict_letters[let][1])**2)\n",
    "\n",
    "# write in df distances and dist from center\n",
    "df.loc[:,'x'] = df.apply(lambda x: dict_letters[x['View']][0], axis=1)\n",
    "df.loc[:,'y'] = df.apply(lambda x: dict_letters[x['View']][1], axis=1)\n",
    "df.loc[:,'dist'] = df.apply(lambda x: dict_dist[x['View']], axis=1)\n",
    "df"
   ],
   "metadata": {
    "collapsed": false,
    "pycharm": {
     "name": "#%%\n"
    }
   }
  },
  {
   "cell_type": "code",
   "execution_count": 6,
   "outputs": [
    {
     "data": {
      "text/plain": "   View      dist     x  y    AxMean     AxMed     AxStd     AxVar     AxMax  \\\n0        4.031129   5.0  3 -0.159617 -0.154432 -0.821499 -0.968070 -0.166154   \n1     a  0.000000   1.5  1 -0.442607 -0.414158 -0.674681 -0.909059 -0.411576   \n2     b  4.609772   6.0  2  0.033203  0.023504 -0.788821 -0.954436  0.030797   \n3     c  2.692582   4.0  2 -0.110353 -0.109572 -0.829623 -0.968095 -0.119691   \n4     d  2.000000   3.5  1 -0.171691 -0.166162 -0.843684 -0.974481 -0.181909   \n5     e  1.802776   3.0  0 -0.219282 -0.213487 -0.830212 -0.972243 -0.222810   \n6     f  3.000000   4.5  1 -0.110754 -0.111648 -0.824161 -0.969190 -0.118787   \n7     g  4.000000   5.5  1 -0.017499 -0.022905 -0.832367 -0.971224 -0.030099   \n8     h  5.000000   6.5  1  0.102653  0.091987 -0.794797 -0.960715  0.092600   \n9     i  6.576473   8.0  0  0.289857  0.268957 -0.735985 -0.930639  0.286954   \n10    j  6.000000   7.5  1  0.203782  0.183908 -0.744169 -0.937484  0.204834   \n11    k  7.000000   8.5  1  0.290610  0.274432 -0.714272 -0.921840  0.291558   \n12    l  8.000000   9.5  1  0.362521  0.333457 -0.607098 -0.864886  0.392674   \n13    m  6.576473   8.0  2  0.208654  0.184352 -0.710656 -0.917444  0.220686   \n14    n  5.590170   7.0  2  0.068592  0.053889 -0.773316 -0.948108  0.071762   \n15    o  7.566373   9.0  0  0.371027  0.345269 -0.653884 -0.892367  0.387984   \n16    p  8.558621  10.0  0  0.514173  0.485435 -0.541115 -0.809638  0.547359   \n17    q  1.118034   1.0  0 -0.491990 -0.460261 -0.645030 -0.902022 -0.451546   \n18    r  2.692582   4.0  0 -0.095784 -0.095631 -0.827752 -0.972050 -0.104678   \n19    s  1.000000   2.5  1 -0.253098 -0.239868 -0.801915 -0.961876 -0.254747   \n20    t  3.640055   5.0  0 -0.017209 -0.025598 -0.784171 -0.955580 -0.016020   \n21    u  5.590170   7.0  0  0.189590  0.171600 -0.762683 -0.944200  0.187224   \n22    v  3.640055   5.0  2 -0.026683 -0.029301 -0.804434 -0.964422 -0.034225   \n23    w  1.118034   2.0  0 -0.290480 -0.277180 -0.811823 -0.964282 -0.290284   \n24    x  1.802776   3.0  2 -0.161558 -0.153478 -0.790553 -0.957638 -0.158937   \n25    y  4.609772   6.0  0  0.108119  0.095498 -0.829017 -0.967917  0.091622   \n26    z  1.118034   2.0  2 -0.318231 -0.302339 -0.740874 -0.939725 -0.302288   \n\n       AxMin  ...  GrPitchStd  GrPitchVar  GrPitchMax  GrPitchMin  PreMean  \\\n0  -0.121125  ...   -0.800410   -0.964268    0.145335    0.183078     -1.0   \n1  -0.427211  ...   -0.625560   -0.894337    0.422748    0.442984     -1.0   \n2   0.058167  ...   -0.754772   -0.945768   -0.026646   -0.001717     -1.0   \n3  -0.071302  ...   -0.734215   -0.938614    0.108551    0.135588     -1.0   \n4  -0.127884  ...   -0.738169   -0.943789    0.158329    0.187836     -1.0   \n5  -0.173440  ...   -0.747517   -0.947119    0.197392    0.228557     -1.0   \n6  -0.072111  ...   -0.755293   -0.951283    0.088726    0.117399     -1.0   \n7   0.015641  ...   -0.781298   -0.958011    0.022183    0.052845     -1.0   \n8   0.121151  ...   -0.762427   -0.950764   -0.083734   -0.060005     -1.0   \n9   0.288349  ...   -0.725372   -0.934015   -0.264608   -0.252564     -1.0   \n10  0.210062  ...   -0.750580   -0.942825   -0.176624   -0.156995     -1.0   \n11  0.282225  ...   -0.718983   -0.931762   -0.249039   -0.237900     -1.0   \n12  0.333926  ...   -0.716321   -0.932508   -0.342132   -0.334865     -1.0   \n13  0.208433  ...   -0.757747   -0.946598   -0.205375   -0.186145     -1.0   \n14  0.090965  ...   -0.797187   -0.962993   -0.068985   -0.039082     -1.0   \n15  0.349645  ...   -0.710925   -0.931444   -0.341413   -0.335645     -1.0   \n16  0.456878  ...   -0.633513   -0.889970   -0.451970   -0.462430     -1.0   \n17 -0.483028  ...   -0.593257   -0.880001    0.473229    0.488232     -1.0   \n18 -0.057278  ...   -0.758218   -0.949282    0.084262    0.113292     -1.0   \n19 -0.216863  ...   -0.686286   -0.922792    0.247783    0.272937     -1.0   \n20  0.009953  ...   -0.752453   -0.946405    0.008669    0.033927     -1.0   \n21  0.202541  ...   -0.728503   -0.938528   -0.168419   -0.152817     -1.0   \n22  0.001689  ...   -0.794487   -0.961904    0.030610    0.063340     -1.0   \n23 -0.248117  ...   -0.689123   -0.922525    0.275227    0.301285     -1.0   \n24 -0.130475  ...   -0.721780   -0.938717    0.149529    0.175831     -1.0   \n25  0.137070  ...   -0.788343   -0.958688   -0.103080   -0.075300     -1.0   \n26 -0.293202  ...   -0.642970   -0.898474    0.307220    0.326634     -1.0   \n\n    PreMed  PreStd  PreVar  PreMax  PreMin  \n0     -1.0    -1.0    -1.0    -1.0    -1.0  \n1     -1.0    -1.0    -1.0    -1.0    -1.0  \n2     -1.0    -1.0    -1.0    -1.0    -1.0  \n3     -1.0    -1.0    -1.0    -1.0    -1.0  \n4     -1.0    -1.0    -1.0    -1.0    -1.0  \n5     -1.0    -1.0    -1.0    -1.0    -1.0  \n6     -1.0    -1.0    -1.0    -1.0    -1.0  \n7     -1.0    -1.0    -1.0    -1.0    -1.0  \n8     -1.0    -1.0    -1.0    -1.0    -1.0  \n9     -1.0    -1.0    -1.0    -1.0    -1.0  \n10    -1.0    -1.0    -1.0    -1.0    -1.0  \n11    -1.0    -1.0    -1.0    -1.0    -1.0  \n12    -1.0    -1.0    -1.0    -1.0    -1.0  \n13    -1.0    -1.0    -1.0    -1.0    -1.0  \n14    -1.0    -1.0    -1.0    -1.0    -1.0  \n15    -1.0    -1.0    -1.0    -1.0    -1.0  \n16    -1.0    -1.0    -1.0    -1.0    -1.0  \n17    -1.0    -1.0    -1.0    -1.0    -1.0  \n18    -1.0    -1.0    -1.0    -1.0    -1.0  \n19    -1.0    -1.0    -1.0    -1.0    -1.0  \n20    -1.0    -1.0    -1.0    -1.0    -1.0  \n21    -1.0    -1.0    -1.0    -1.0    -1.0  \n22    -1.0    -1.0    -1.0    -1.0    -1.0  \n23    -1.0    -1.0    -1.0    -1.0    -1.0  \n24    -1.0    -1.0    -1.0    -1.0    -1.0  \n25    -1.0    -1.0    -1.0    -1.0    -1.0  \n26    -1.0    -1.0    -1.0    -1.0    -1.0  \n\n[27 rows x 280 columns]",
      "text/html": "<div>\n<style scoped>\n    .dataframe tbody tr th:only-of-type {\n        vertical-align: middle;\n    }\n\n    .dataframe tbody tr th {\n        vertical-align: top;\n    }\n\n    .dataframe thead th {\n        text-align: right;\n    }\n</style>\n<table border=\"1\" class=\"dataframe\">\n  <thead>\n    <tr style=\"text-align: right;\">\n      <th></th>\n      <th>View</th>\n      <th>dist</th>\n      <th>x</th>\n      <th>y</th>\n      <th>AxMean</th>\n      <th>AxMed</th>\n      <th>AxStd</th>\n      <th>AxVar</th>\n      <th>AxMax</th>\n      <th>AxMin</th>\n      <th>...</th>\n      <th>GrPitchStd</th>\n      <th>GrPitchVar</th>\n      <th>GrPitchMax</th>\n      <th>GrPitchMin</th>\n      <th>PreMean</th>\n      <th>PreMed</th>\n      <th>PreStd</th>\n      <th>PreVar</th>\n      <th>PreMax</th>\n      <th>PreMin</th>\n    </tr>\n  </thead>\n  <tbody>\n    <tr>\n      <th>0</th>\n      <td></td>\n      <td>4.031129</td>\n      <td>5.0</td>\n      <td>3</td>\n      <td>-0.159617</td>\n      <td>-0.154432</td>\n      <td>-0.821499</td>\n      <td>-0.968070</td>\n      <td>-0.166154</td>\n      <td>-0.121125</td>\n      <td>...</td>\n      <td>-0.800410</td>\n      <td>-0.964268</td>\n      <td>0.145335</td>\n      <td>0.183078</td>\n      <td>-1.0</td>\n      <td>-1.0</td>\n      <td>-1.0</td>\n      <td>-1.0</td>\n      <td>-1.0</td>\n      <td>-1.0</td>\n    </tr>\n    <tr>\n      <th>1</th>\n      <td>a</td>\n      <td>0.000000</td>\n      <td>1.5</td>\n      <td>1</td>\n      <td>-0.442607</td>\n      <td>-0.414158</td>\n      <td>-0.674681</td>\n      <td>-0.909059</td>\n      <td>-0.411576</td>\n      <td>-0.427211</td>\n      <td>...</td>\n      <td>-0.625560</td>\n      <td>-0.894337</td>\n      <td>0.422748</td>\n      <td>0.442984</td>\n      <td>-1.0</td>\n      <td>-1.0</td>\n      <td>-1.0</td>\n      <td>-1.0</td>\n      <td>-1.0</td>\n      <td>-1.0</td>\n    </tr>\n    <tr>\n      <th>2</th>\n      <td>b</td>\n      <td>4.609772</td>\n      <td>6.0</td>\n      <td>2</td>\n      <td>0.033203</td>\n      <td>0.023504</td>\n      <td>-0.788821</td>\n      <td>-0.954436</td>\n      <td>0.030797</td>\n      <td>0.058167</td>\n      <td>...</td>\n      <td>-0.754772</td>\n      <td>-0.945768</td>\n      <td>-0.026646</td>\n      <td>-0.001717</td>\n      <td>-1.0</td>\n      <td>-1.0</td>\n      <td>-1.0</td>\n      <td>-1.0</td>\n      <td>-1.0</td>\n      <td>-1.0</td>\n    </tr>\n    <tr>\n      <th>3</th>\n      <td>c</td>\n      <td>2.692582</td>\n      <td>4.0</td>\n      <td>2</td>\n      <td>-0.110353</td>\n      <td>-0.109572</td>\n      <td>-0.829623</td>\n      <td>-0.968095</td>\n      <td>-0.119691</td>\n      <td>-0.071302</td>\n      <td>...</td>\n      <td>-0.734215</td>\n      <td>-0.938614</td>\n      <td>0.108551</td>\n      <td>0.135588</td>\n      <td>-1.0</td>\n      <td>-1.0</td>\n      <td>-1.0</td>\n      <td>-1.0</td>\n      <td>-1.0</td>\n      <td>-1.0</td>\n    </tr>\n    <tr>\n      <th>4</th>\n      <td>d</td>\n      <td>2.000000</td>\n      <td>3.5</td>\n      <td>1</td>\n      <td>-0.171691</td>\n      <td>-0.166162</td>\n      <td>-0.843684</td>\n      <td>-0.974481</td>\n      <td>-0.181909</td>\n      <td>-0.127884</td>\n      <td>...</td>\n      <td>-0.738169</td>\n      <td>-0.943789</td>\n      <td>0.158329</td>\n      <td>0.187836</td>\n      <td>-1.0</td>\n      <td>-1.0</td>\n      <td>-1.0</td>\n      <td>-1.0</td>\n      <td>-1.0</td>\n      <td>-1.0</td>\n    </tr>\n    <tr>\n      <th>5</th>\n      <td>e</td>\n      <td>1.802776</td>\n      <td>3.0</td>\n      <td>0</td>\n      <td>-0.219282</td>\n      <td>-0.213487</td>\n      <td>-0.830212</td>\n      <td>-0.972243</td>\n      <td>-0.222810</td>\n      <td>-0.173440</td>\n      <td>...</td>\n      <td>-0.747517</td>\n      <td>-0.947119</td>\n      <td>0.197392</td>\n      <td>0.228557</td>\n      <td>-1.0</td>\n      <td>-1.0</td>\n      <td>-1.0</td>\n      <td>-1.0</td>\n      <td>-1.0</td>\n      <td>-1.0</td>\n    </tr>\n    <tr>\n      <th>6</th>\n      <td>f</td>\n      <td>3.000000</td>\n      <td>4.5</td>\n      <td>1</td>\n      <td>-0.110754</td>\n      <td>-0.111648</td>\n      <td>-0.824161</td>\n      <td>-0.969190</td>\n      <td>-0.118787</td>\n      <td>-0.072111</td>\n      <td>...</td>\n      <td>-0.755293</td>\n      <td>-0.951283</td>\n      <td>0.088726</td>\n      <td>0.117399</td>\n      <td>-1.0</td>\n      <td>-1.0</td>\n      <td>-1.0</td>\n      <td>-1.0</td>\n      <td>-1.0</td>\n      <td>-1.0</td>\n    </tr>\n    <tr>\n      <th>7</th>\n      <td>g</td>\n      <td>4.000000</td>\n      <td>5.5</td>\n      <td>1</td>\n      <td>-0.017499</td>\n      <td>-0.022905</td>\n      <td>-0.832367</td>\n      <td>-0.971224</td>\n      <td>-0.030099</td>\n      <td>0.015641</td>\n      <td>...</td>\n      <td>-0.781298</td>\n      <td>-0.958011</td>\n      <td>0.022183</td>\n      <td>0.052845</td>\n      <td>-1.0</td>\n      <td>-1.0</td>\n      <td>-1.0</td>\n      <td>-1.0</td>\n      <td>-1.0</td>\n      <td>-1.0</td>\n    </tr>\n    <tr>\n      <th>8</th>\n      <td>h</td>\n      <td>5.000000</td>\n      <td>6.5</td>\n      <td>1</td>\n      <td>0.102653</td>\n      <td>0.091987</td>\n      <td>-0.794797</td>\n      <td>-0.960715</td>\n      <td>0.092600</td>\n      <td>0.121151</td>\n      <td>...</td>\n      <td>-0.762427</td>\n      <td>-0.950764</td>\n      <td>-0.083734</td>\n      <td>-0.060005</td>\n      <td>-1.0</td>\n      <td>-1.0</td>\n      <td>-1.0</td>\n      <td>-1.0</td>\n      <td>-1.0</td>\n      <td>-1.0</td>\n    </tr>\n    <tr>\n      <th>9</th>\n      <td>i</td>\n      <td>6.576473</td>\n      <td>8.0</td>\n      <td>0</td>\n      <td>0.289857</td>\n      <td>0.268957</td>\n      <td>-0.735985</td>\n      <td>-0.930639</td>\n      <td>0.286954</td>\n      <td>0.288349</td>\n      <td>...</td>\n      <td>-0.725372</td>\n      <td>-0.934015</td>\n      <td>-0.264608</td>\n      <td>-0.252564</td>\n      <td>-1.0</td>\n      <td>-1.0</td>\n      <td>-1.0</td>\n      <td>-1.0</td>\n      <td>-1.0</td>\n      <td>-1.0</td>\n    </tr>\n    <tr>\n      <th>10</th>\n      <td>j</td>\n      <td>6.000000</td>\n      <td>7.5</td>\n      <td>1</td>\n      <td>0.203782</td>\n      <td>0.183908</td>\n      <td>-0.744169</td>\n      <td>-0.937484</td>\n      <td>0.204834</td>\n      <td>0.210062</td>\n      <td>...</td>\n      <td>-0.750580</td>\n      <td>-0.942825</td>\n      <td>-0.176624</td>\n      <td>-0.156995</td>\n      <td>-1.0</td>\n      <td>-1.0</td>\n      <td>-1.0</td>\n      <td>-1.0</td>\n      <td>-1.0</td>\n      <td>-1.0</td>\n    </tr>\n    <tr>\n      <th>11</th>\n      <td>k</td>\n      <td>7.000000</td>\n      <td>8.5</td>\n      <td>1</td>\n      <td>0.290610</td>\n      <td>0.274432</td>\n      <td>-0.714272</td>\n      <td>-0.921840</td>\n      <td>0.291558</td>\n      <td>0.282225</td>\n      <td>...</td>\n      <td>-0.718983</td>\n      <td>-0.931762</td>\n      <td>-0.249039</td>\n      <td>-0.237900</td>\n      <td>-1.0</td>\n      <td>-1.0</td>\n      <td>-1.0</td>\n      <td>-1.0</td>\n      <td>-1.0</td>\n      <td>-1.0</td>\n    </tr>\n    <tr>\n      <th>12</th>\n      <td>l</td>\n      <td>8.000000</td>\n      <td>9.5</td>\n      <td>1</td>\n      <td>0.362521</td>\n      <td>0.333457</td>\n      <td>-0.607098</td>\n      <td>-0.864886</td>\n      <td>0.392674</td>\n      <td>0.333926</td>\n      <td>...</td>\n      <td>-0.716321</td>\n      <td>-0.932508</td>\n      <td>-0.342132</td>\n      <td>-0.334865</td>\n      <td>-1.0</td>\n      <td>-1.0</td>\n      <td>-1.0</td>\n      <td>-1.0</td>\n      <td>-1.0</td>\n      <td>-1.0</td>\n    </tr>\n    <tr>\n      <th>13</th>\n      <td>m</td>\n      <td>6.576473</td>\n      <td>8.0</td>\n      <td>2</td>\n      <td>0.208654</td>\n      <td>0.184352</td>\n      <td>-0.710656</td>\n      <td>-0.917444</td>\n      <td>0.220686</td>\n      <td>0.208433</td>\n      <td>...</td>\n      <td>-0.757747</td>\n      <td>-0.946598</td>\n      <td>-0.205375</td>\n      <td>-0.186145</td>\n      <td>-1.0</td>\n      <td>-1.0</td>\n      <td>-1.0</td>\n      <td>-1.0</td>\n      <td>-1.0</td>\n      <td>-1.0</td>\n    </tr>\n    <tr>\n      <th>14</th>\n      <td>n</td>\n      <td>5.590170</td>\n      <td>7.0</td>\n      <td>2</td>\n      <td>0.068592</td>\n      <td>0.053889</td>\n      <td>-0.773316</td>\n      <td>-0.948108</td>\n      <td>0.071762</td>\n      <td>0.090965</td>\n      <td>...</td>\n      <td>-0.797187</td>\n      <td>-0.962993</td>\n      <td>-0.068985</td>\n      <td>-0.039082</td>\n      <td>-1.0</td>\n      <td>-1.0</td>\n      <td>-1.0</td>\n      <td>-1.0</td>\n      <td>-1.0</td>\n      <td>-1.0</td>\n    </tr>\n    <tr>\n      <th>15</th>\n      <td>o</td>\n      <td>7.566373</td>\n      <td>9.0</td>\n      <td>0</td>\n      <td>0.371027</td>\n      <td>0.345269</td>\n      <td>-0.653884</td>\n      <td>-0.892367</td>\n      <td>0.387984</td>\n      <td>0.349645</td>\n      <td>...</td>\n      <td>-0.710925</td>\n      <td>-0.931444</td>\n      <td>-0.341413</td>\n      <td>-0.335645</td>\n      <td>-1.0</td>\n      <td>-1.0</td>\n      <td>-1.0</td>\n      <td>-1.0</td>\n      <td>-1.0</td>\n      <td>-1.0</td>\n    </tr>\n    <tr>\n      <th>16</th>\n      <td>p</td>\n      <td>8.558621</td>\n      <td>10.0</td>\n      <td>0</td>\n      <td>0.514173</td>\n      <td>0.485435</td>\n      <td>-0.541115</td>\n      <td>-0.809638</td>\n      <td>0.547359</td>\n      <td>0.456878</td>\n      <td>...</td>\n      <td>-0.633513</td>\n      <td>-0.889970</td>\n      <td>-0.451970</td>\n      <td>-0.462430</td>\n      <td>-1.0</td>\n      <td>-1.0</td>\n      <td>-1.0</td>\n      <td>-1.0</td>\n      <td>-1.0</td>\n      <td>-1.0</td>\n    </tr>\n    <tr>\n      <th>17</th>\n      <td>q</td>\n      <td>1.118034</td>\n      <td>1.0</td>\n      <td>0</td>\n      <td>-0.491990</td>\n      <td>-0.460261</td>\n      <td>-0.645030</td>\n      <td>-0.902022</td>\n      <td>-0.451546</td>\n      <td>-0.483028</td>\n      <td>...</td>\n      <td>-0.593257</td>\n      <td>-0.880001</td>\n      <td>0.473229</td>\n      <td>0.488232</td>\n      <td>-1.0</td>\n      <td>-1.0</td>\n      <td>-1.0</td>\n      <td>-1.0</td>\n      <td>-1.0</td>\n      <td>-1.0</td>\n    </tr>\n    <tr>\n      <th>18</th>\n      <td>r</td>\n      <td>2.692582</td>\n      <td>4.0</td>\n      <td>0</td>\n      <td>-0.095784</td>\n      <td>-0.095631</td>\n      <td>-0.827752</td>\n      <td>-0.972050</td>\n      <td>-0.104678</td>\n      <td>-0.057278</td>\n      <td>...</td>\n      <td>-0.758218</td>\n      <td>-0.949282</td>\n      <td>0.084262</td>\n      <td>0.113292</td>\n      <td>-1.0</td>\n      <td>-1.0</td>\n      <td>-1.0</td>\n      <td>-1.0</td>\n      <td>-1.0</td>\n      <td>-1.0</td>\n    </tr>\n    <tr>\n      <th>19</th>\n      <td>s</td>\n      <td>1.000000</td>\n      <td>2.5</td>\n      <td>1</td>\n      <td>-0.253098</td>\n      <td>-0.239868</td>\n      <td>-0.801915</td>\n      <td>-0.961876</td>\n      <td>-0.254747</td>\n      <td>-0.216863</td>\n      <td>...</td>\n      <td>-0.686286</td>\n      <td>-0.922792</td>\n      <td>0.247783</td>\n      <td>0.272937</td>\n      <td>-1.0</td>\n      <td>-1.0</td>\n      <td>-1.0</td>\n      <td>-1.0</td>\n      <td>-1.0</td>\n      <td>-1.0</td>\n    </tr>\n    <tr>\n      <th>20</th>\n      <td>t</td>\n      <td>3.640055</td>\n      <td>5.0</td>\n      <td>0</td>\n      <td>-0.017209</td>\n      <td>-0.025598</td>\n      <td>-0.784171</td>\n      <td>-0.955580</td>\n      <td>-0.016020</td>\n      <td>0.009953</td>\n      <td>...</td>\n      <td>-0.752453</td>\n      <td>-0.946405</td>\n      <td>0.008669</td>\n      <td>0.033927</td>\n      <td>-1.0</td>\n      <td>-1.0</td>\n      <td>-1.0</td>\n      <td>-1.0</td>\n      <td>-1.0</td>\n      <td>-1.0</td>\n    </tr>\n    <tr>\n      <th>21</th>\n      <td>u</td>\n      <td>5.590170</td>\n      <td>7.0</td>\n      <td>0</td>\n      <td>0.189590</td>\n      <td>0.171600</td>\n      <td>-0.762683</td>\n      <td>-0.944200</td>\n      <td>0.187224</td>\n      <td>0.202541</td>\n      <td>...</td>\n      <td>-0.728503</td>\n      <td>-0.938528</td>\n      <td>-0.168419</td>\n      <td>-0.152817</td>\n      <td>-1.0</td>\n      <td>-1.0</td>\n      <td>-1.0</td>\n      <td>-1.0</td>\n      <td>-1.0</td>\n      <td>-1.0</td>\n    </tr>\n    <tr>\n      <th>22</th>\n      <td>v</td>\n      <td>3.640055</td>\n      <td>5.0</td>\n      <td>2</td>\n      <td>-0.026683</td>\n      <td>-0.029301</td>\n      <td>-0.804434</td>\n      <td>-0.964422</td>\n      <td>-0.034225</td>\n      <td>0.001689</td>\n      <td>...</td>\n      <td>-0.794487</td>\n      <td>-0.961904</td>\n      <td>0.030610</td>\n      <td>0.063340</td>\n      <td>-1.0</td>\n      <td>-1.0</td>\n      <td>-1.0</td>\n      <td>-1.0</td>\n      <td>-1.0</td>\n      <td>-1.0</td>\n    </tr>\n    <tr>\n      <th>23</th>\n      <td>w</td>\n      <td>1.118034</td>\n      <td>2.0</td>\n      <td>0</td>\n      <td>-0.290480</td>\n      <td>-0.277180</td>\n      <td>-0.811823</td>\n      <td>-0.964282</td>\n      <td>-0.290284</td>\n      <td>-0.248117</td>\n      <td>...</td>\n      <td>-0.689123</td>\n      <td>-0.922525</td>\n      <td>0.275227</td>\n      <td>0.301285</td>\n      <td>-1.0</td>\n      <td>-1.0</td>\n      <td>-1.0</td>\n      <td>-1.0</td>\n      <td>-1.0</td>\n      <td>-1.0</td>\n    </tr>\n    <tr>\n      <th>24</th>\n      <td>x</td>\n      <td>1.802776</td>\n      <td>3.0</td>\n      <td>2</td>\n      <td>-0.161558</td>\n      <td>-0.153478</td>\n      <td>-0.790553</td>\n      <td>-0.957638</td>\n      <td>-0.158937</td>\n      <td>-0.130475</td>\n      <td>...</td>\n      <td>-0.721780</td>\n      <td>-0.938717</td>\n      <td>0.149529</td>\n      <td>0.175831</td>\n      <td>-1.0</td>\n      <td>-1.0</td>\n      <td>-1.0</td>\n      <td>-1.0</td>\n      <td>-1.0</td>\n      <td>-1.0</td>\n    </tr>\n    <tr>\n      <th>25</th>\n      <td>y</td>\n      <td>4.609772</td>\n      <td>6.0</td>\n      <td>0</td>\n      <td>0.108119</td>\n      <td>0.095498</td>\n      <td>-0.829017</td>\n      <td>-0.967917</td>\n      <td>0.091622</td>\n      <td>0.137070</td>\n      <td>...</td>\n      <td>-0.788343</td>\n      <td>-0.958688</td>\n      <td>-0.103080</td>\n      <td>-0.075300</td>\n      <td>-1.0</td>\n      <td>-1.0</td>\n      <td>-1.0</td>\n      <td>-1.0</td>\n      <td>-1.0</td>\n      <td>-1.0</td>\n    </tr>\n    <tr>\n      <th>26</th>\n      <td>z</td>\n      <td>1.118034</td>\n      <td>2.0</td>\n      <td>2</td>\n      <td>-0.318231</td>\n      <td>-0.302339</td>\n      <td>-0.740874</td>\n      <td>-0.939725</td>\n      <td>-0.302288</td>\n      <td>-0.293202</td>\n      <td>...</td>\n      <td>-0.642970</td>\n      <td>-0.898474</td>\n      <td>0.307220</td>\n      <td>0.326634</td>\n      <td>-1.0</td>\n      <td>-1.0</td>\n      <td>-1.0</td>\n      <td>-1.0</td>\n      <td>-1.0</td>\n      <td>-1.0</td>\n    </tr>\n  </tbody>\n</table>\n<p>27 rows × 280 columns</p>\n</div>"
     },
     "execution_count": 6,
     "metadata": {},
     "output_type": "execute_result"
    }
   ],
   "source": [
    "# Group dataset by letter/distance\n",
    "\n",
    "# mean = mean of the rows with the same View and distances\n",
    "df_mean = df.groupby(['View','dist','x','y'], as_index=False).agg('mean')\n",
    "df_mean"
   ],
   "metadata": {
    "collapsed": false,
    "pycharm": {
     "name": "#%%\n"
    }
   }
  },
  {
   "cell_type": "code",
   "execution_count": 3,
   "outputs": [],
   "source": [
    "import matplotlib.pyplot as plt\n",
    "import seaborn as sns"
   ],
   "metadata": {
    "collapsed": false,
    "pycharm": {
     "name": "#%%\n"
    }
   }
  },
  {
   "cell_type": "code",
   "execution_count": 8,
   "outputs": [
    {
     "name": "stdout",
     "output_type": "stream",
     "text": [
      "5.0 3.0\n",
      "5.0 3.5\n",
      "5.0 4.0\n",
      "5.0 4.5\n",
      "5.0 5.0\n",
      "5.0 5.5\n",
      "5.0 6.0\n",
      "5.0 6.5\n",
      "5.0 7.0\n"
     ]
    },
    {
     "data": {
      "text/plain": "   View      dist     x  y    AxMean     AxMed     AxStd     AxVar     AxMax  \\\n0        4.031129   5.0  3 -0.159617 -0.154432 -0.821499 -0.968070 -0.166154   \n1     a  0.000000   1.5  1 -0.442607 -0.414158 -0.674681 -0.909059 -0.411576   \n2     b  4.609772   6.0  2  0.033203  0.023504 -0.788821 -0.954436  0.030797   \n3     c  2.692582   4.0  2 -0.110353 -0.109572 -0.829623 -0.968095 -0.119691   \n4     d  2.000000   3.5  1 -0.171691 -0.166162 -0.843684 -0.974481 -0.181909   \n5     e  1.802776   3.0  0 -0.219282 -0.213487 -0.830212 -0.972243 -0.222810   \n6     f  3.000000   4.5  1 -0.110754 -0.111648 -0.824161 -0.969190 -0.118787   \n7     g  4.000000   5.5  1 -0.017499 -0.022905 -0.832367 -0.971224 -0.030099   \n8     h  5.000000   6.5  1  0.102653  0.091987 -0.794797 -0.960715  0.092600   \n9     i  6.576473   8.0  0  0.289857  0.268957 -0.735985 -0.930639  0.286954   \n10    j  6.000000   7.5  1  0.203782  0.183908 -0.744169 -0.937484  0.204834   \n11    k  7.000000   8.5  1  0.290610  0.274432 -0.714272 -0.921840  0.291558   \n12    l  8.000000   9.5  1  0.362521  0.333457 -0.607098 -0.864886  0.392674   \n13    m  6.576473   8.0  2  0.208654  0.184352 -0.710656 -0.917444  0.220686   \n14    n  5.590170   7.0  2  0.068592  0.053889 -0.773316 -0.948108  0.071762   \n15    o  7.566373   9.0  0  0.371027  0.345269 -0.653884 -0.892367  0.387984   \n16    p  8.558621  10.0  0  0.514173  0.485435 -0.541115 -0.809638  0.547359   \n17    q  1.118034   1.0  0 -0.491990 -0.460261 -0.645030 -0.902022 -0.451546   \n18    r  2.692582   4.0  0 -0.095784 -0.095631 -0.827752 -0.972050 -0.104678   \n19    s  1.000000   2.5  1 -0.253098 -0.239868 -0.801915 -0.961876 -0.254747   \n20    t  3.640055   5.0  0 -0.017209 -0.025598 -0.784171 -0.955580 -0.016020   \n21    u  5.590170   7.0  0  0.189590  0.171600 -0.762683 -0.944200  0.187224   \n22    v  3.640055   5.0  2 -0.026683 -0.029301 -0.804434 -0.964422 -0.034225   \n23    w  1.118034   2.0  0 -0.290480 -0.277180 -0.811823 -0.964282 -0.290284   \n24    x  1.802776   3.0  2 -0.161558 -0.153478 -0.790553 -0.957638 -0.158937   \n25    y  4.609772   6.0  0  0.108119  0.095498 -0.829017 -0.967917  0.091622   \n26    z  1.118034   2.0  2 -0.318231 -0.302339 -0.740874 -0.939725 -0.302288   \n27       4.031129   3.0  3 -0.159617 -0.154432 -0.821499 -0.968070 -0.166154   \n28       4.031129   3.5  3 -0.159617 -0.154432 -0.821499 -0.968070 -0.166154   \n29       4.031129   4.0  3 -0.159617 -0.154432 -0.821499 -0.968070 -0.166154   \n30       4.031129   4.5  3 -0.159617 -0.154432 -0.821499 -0.968070 -0.166154   \n31       4.031129   5.5  3 -0.159617 -0.154432 -0.821499 -0.968070 -0.166154   \n32       4.031129   6.0  3 -0.159617 -0.154432 -0.821499 -0.968070 -0.166154   \n33       4.031129   6.5  3 -0.159617 -0.154432 -0.821499 -0.968070 -0.166154   \n34       4.031129   7.0  3 -0.159617 -0.154432 -0.821499 -0.968070 -0.166154   \n\n       AxMin  ...  GrPitchStd  GrPitchVar  GrPitchMax  GrPitchMin  PreMean  \\\n0  -0.121125  ...   -0.800410   -0.964268    0.145335    0.183078     -1.0   \n1  -0.427211  ...   -0.625560   -0.894337    0.422748    0.442984     -1.0   \n2   0.058167  ...   -0.754772   -0.945768   -0.026646   -0.001717     -1.0   \n3  -0.071302  ...   -0.734215   -0.938614    0.108551    0.135588     -1.0   \n4  -0.127884  ...   -0.738169   -0.943789    0.158329    0.187836     -1.0   \n5  -0.173440  ...   -0.747517   -0.947119    0.197392    0.228557     -1.0   \n6  -0.072111  ...   -0.755293   -0.951283    0.088726    0.117399     -1.0   \n7   0.015641  ...   -0.781298   -0.958011    0.022183    0.052845     -1.0   \n8   0.121151  ...   -0.762427   -0.950764   -0.083734   -0.060005     -1.0   \n9   0.288349  ...   -0.725372   -0.934015   -0.264608   -0.252564     -1.0   \n10  0.210062  ...   -0.750580   -0.942825   -0.176624   -0.156995     -1.0   \n11  0.282225  ...   -0.718983   -0.931762   -0.249039   -0.237900     -1.0   \n12  0.333926  ...   -0.716321   -0.932508   -0.342132   -0.334865     -1.0   \n13  0.208433  ...   -0.757747   -0.946598   -0.205375   -0.186145     -1.0   \n14  0.090965  ...   -0.797187   -0.962993   -0.068985   -0.039082     -1.0   \n15  0.349645  ...   -0.710925   -0.931444   -0.341413   -0.335645     -1.0   \n16  0.456878  ...   -0.633513   -0.889970   -0.451970   -0.462430     -1.0   \n17 -0.483028  ...   -0.593257   -0.880001    0.473229    0.488232     -1.0   \n18 -0.057278  ...   -0.758218   -0.949282    0.084262    0.113292     -1.0   \n19 -0.216863  ...   -0.686286   -0.922792    0.247783    0.272937     -1.0   \n20  0.009953  ...   -0.752453   -0.946405    0.008669    0.033927     -1.0   \n21  0.202541  ...   -0.728503   -0.938528   -0.168419   -0.152817     -1.0   \n22  0.001689  ...   -0.794487   -0.961904    0.030610    0.063340     -1.0   \n23 -0.248117  ...   -0.689123   -0.922525    0.275227    0.301285     -1.0   \n24 -0.130475  ...   -0.721780   -0.938717    0.149529    0.175831     -1.0   \n25  0.137070  ...   -0.788343   -0.958688   -0.103080   -0.075300     -1.0   \n26 -0.293202  ...   -0.642970   -0.898474    0.307220    0.326634     -1.0   \n27 -0.121125  ...   -0.800410   -0.964268    0.145335    0.183078     -1.0   \n28 -0.121125  ...   -0.800410   -0.964268    0.145335    0.183078     -1.0   \n29 -0.121125  ...   -0.800410   -0.964268    0.145335    0.183078     -1.0   \n30 -0.121125  ...   -0.800410   -0.964268    0.145335    0.183078     -1.0   \n31 -0.121125  ...   -0.800410   -0.964268    0.145335    0.183078     -1.0   \n32 -0.121125  ...   -0.800410   -0.964268    0.145335    0.183078     -1.0   \n33 -0.121125  ...   -0.800410   -0.964268    0.145335    0.183078     -1.0   \n34 -0.121125  ...   -0.800410   -0.964268    0.145335    0.183078     -1.0   \n\n    PreMed  PreStd  PreVar  PreMax  PreMin  \n0     -1.0    -1.0    -1.0    -1.0    -1.0  \n1     -1.0    -1.0    -1.0    -1.0    -1.0  \n2     -1.0    -1.0    -1.0    -1.0    -1.0  \n3     -1.0    -1.0    -1.0    -1.0    -1.0  \n4     -1.0    -1.0    -1.0    -1.0    -1.0  \n5     -1.0    -1.0    -1.0    -1.0    -1.0  \n6     -1.0    -1.0    -1.0    -1.0    -1.0  \n7     -1.0    -1.0    -1.0    -1.0    -1.0  \n8     -1.0    -1.0    -1.0    -1.0    -1.0  \n9     -1.0    -1.0    -1.0    -1.0    -1.0  \n10    -1.0    -1.0    -1.0    -1.0    -1.0  \n11    -1.0    -1.0    -1.0    -1.0    -1.0  \n12    -1.0    -1.0    -1.0    -1.0    -1.0  \n13    -1.0    -1.0    -1.0    -1.0    -1.0  \n14    -1.0    -1.0    -1.0    -1.0    -1.0  \n15    -1.0    -1.0    -1.0    -1.0    -1.0  \n16    -1.0    -1.0    -1.0    -1.0    -1.0  \n17    -1.0    -1.0    -1.0    -1.0    -1.0  \n18    -1.0    -1.0    -1.0    -1.0    -1.0  \n19    -1.0    -1.0    -1.0    -1.0    -1.0  \n20    -1.0    -1.0    -1.0    -1.0    -1.0  \n21    -1.0    -1.0    -1.0    -1.0    -1.0  \n22    -1.0    -1.0    -1.0    -1.0    -1.0  \n23    -1.0    -1.0    -1.0    -1.0    -1.0  \n24    -1.0    -1.0    -1.0    -1.0    -1.0  \n25    -1.0    -1.0    -1.0    -1.0    -1.0  \n26    -1.0    -1.0    -1.0    -1.0    -1.0  \n27    -1.0    -1.0    -1.0    -1.0    -1.0  \n28    -1.0    -1.0    -1.0    -1.0    -1.0  \n29    -1.0    -1.0    -1.0    -1.0    -1.0  \n30    -1.0    -1.0    -1.0    -1.0    -1.0  \n31    -1.0    -1.0    -1.0    -1.0    -1.0  \n32    -1.0    -1.0    -1.0    -1.0    -1.0  \n33    -1.0    -1.0    -1.0    -1.0    -1.0  \n34    -1.0    -1.0    -1.0    -1.0    -1.0  \n\n[35 rows x 280 columns]",
      "text/html": "<div>\n<style scoped>\n    .dataframe tbody tr th:only-of-type {\n        vertical-align: middle;\n    }\n\n    .dataframe tbody tr th {\n        vertical-align: top;\n    }\n\n    .dataframe thead th {\n        text-align: right;\n    }\n</style>\n<table border=\"1\" class=\"dataframe\">\n  <thead>\n    <tr style=\"text-align: right;\">\n      <th></th>\n      <th>View</th>\n      <th>dist</th>\n      <th>x</th>\n      <th>y</th>\n      <th>AxMean</th>\n      <th>AxMed</th>\n      <th>AxStd</th>\n      <th>AxVar</th>\n      <th>AxMax</th>\n      <th>AxMin</th>\n      <th>...</th>\n      <th>GrPitchStd</th>\n      <th>GrPitchVar</th>\n      <th>GrPitchMax</th>\n      <th>GrPitchMin</th>\n      <th>PreMean</th>\n      <th>PreMed</th>\n      <th>PreStd</th>\n      <th>PreVar</th>\n      <th>PreMax</th>\n      <th>PreMin</th>\n    </tr>\n  </thead>\n  <tbody>\n    <tr>\n      <th>0</th>\n      <td></td>\n      <td>4.031129</td>\n      <td>5.0</td>\n      <td>3</td>\n      <td>-0.159617</td>\n      <td>-0.154432</td>\n      <td>-0.821499</td>\n      <td>-0.968070</td>\n      <td>-0.166154</td>\n      <td>-0.121125</td>\n      <td>...</td>\n      <td>-0.800410</td>\n      <td>-0.964268</td>\n      <td>0.145335</td>\n      <td>0.183078</td>\n      <td>-1.0</td>\n      <td>-1.0</td>\n      <td>-1.0</td>\n      <td>-1.0</td>\n      <td>-1.0</td>\n      <td>-1.0</td>\n    </tr>\n    <tr>\n      <th>1</th>\n      <td>a</td>\n      <td>0.000000</td>\n      <td>1.5</td>\n      <td>1</td>\n      <td>-0.442607</td>\n      <td>-0.414158</td>\n      <td>-0.674681</td>\n      <td>-0.909059</td>\n      <td>-0.411576</td>\n      <td>-0.427211</td>\n      <td>...</td>\n      <td>-0.625560</td>\n      <td>-0.894337</td>\n      <td>0.422748</td>\n      <td>0.442984</td>\n      <td>-1.0</td>\n      <td>-1.0</td>\n      <td>-1.0</td>\n      <td>-1.0</td>\n      <td>-1.0</td>\n      <td>-1.0</td>\n    </tr>\n    <tr>\n      <th>2</th>\n      <td>b</td>\n      <td>4.609772</td>\n      <td>6.0</td>\n      <td>2</td>\n      <td>0.033203</td>\n      <td>0.023504</td>\n      <td>-0.788821</td>\n      <td>-0.954436</td>\n      <td>0.030797</td>\n      <td>0.058167</td>\n      <td>...</td>\n      <td>-0.754772</td>\n      <td>-0.945768</td>\n      <td>-0.026646</td>\n      <td>-0.001717</td>\n      <td>-1.0</td>\n      <td>-1.0</td>\n      <td>-1.0</td>\n      <td>-1.0</td>\n      <td>-1.0</td>\n      <td>-1.0</td>\n    </tr>\n    <tr>\n      <th>3</th>\n      <td>c</td>\n      <td>2.692582</td>\n      <td>4.0</td>\n      <td>2</td>\n      <td>-0.110353</td>\n      <td>-0.109572</td>\n      <td>-0.829623</td>\n      <td>-0.968095</td>\n      <td>-0.119691</td>\n      <td>-0.071302</td>\n      <td>...</td>\n      <td>-0.734215</td>\n      <td>-0.938614</td>\n      <td>0.108551</td>\n      <td>0.135588</td>\n      <td>-1.0</td>\n      <td>-1.0</td>\n      <td>-1.0</td>\n      <td>-1.0</td>\n      <td>-1.0</td>\n      <td>-1.0</td>\n    </tr>\n    <tr>\n      <th>4</th>\n      <td>d</td>\n      <td>2.000000</td>\n      <td>3.5</td>\n      <td>1</td>\n      <td>-0.171691</td>\n      <td>-0.166162</td>\n      <td>-0.843684</td>\n      <td>-0.974481</td>\n      <td>-0.181909</td>\n      <td>-0.127884</td>\n      <td>...</td>\n      <td>-0.738169</td>\n      <td>-0.943789</td>\n      <td>0.158329</td>\n      <td>0.187836</td>\n      <td>-1.0</td>\n      <td>-1.0</td>\n      <td>-1.0</td>\n      <td>-1.0</td>\n      <td>-1.0</td>\n      <td>-1.0</td>\n    </tr>\n    <tr>\n      <th>5</th>\n      <td>e</td>\n      <td>1.802776</td>\n      <td>3.0</td>\n      <td>0</td>\n      <td>-0.219282</td>\n      <td>-0.213487</td>\n      <td>-0.830212</td>\n      <td>-0.972243</td>\n      <td>-0.222810</td>\n      <td>-0.173440</td>\n      <td>...</td>\n      <td>-0.747517</td>\n      <td>-0.947119</td>\n      <td>0.197392</td>\n      <td>0.228557</td>\n      <td>-1.0</td>\n      <td>-1.0</td>\n      <td>-1.0</td>\n      <td>-1.0</td>\n      <td>-1.0</td>\n      <td>-1.0</td>\n    </tr>\n    <tr>\n      <th>6</th>\n      <td>f</td>\n      <td>3.000000</td>\n      <td>4.5</td>\n      <td>1</td>\n      <td>-0.110754</td>\n      <td>-0.111648</td>\n      <td>-0.824161</td>\n      <td>-0.969190</td>\n      <td>-0.118787</td>\n      <td>-0.072111</td>\n      <td>...</td>\n      <td>-0.755293</td>\n      <td>-0.951283</td>\n      <td>0.088726</td>\n      <td>0.117399</td>\n      <td>-1.0</td>\n      <td>-1.0</td>\n      <td>-1.0</td>\n      <td>-1.0</td>\n      <td>-1.0</td>\n      <td>-1.0</td>\n    </tr>\n    <tr>\n      <th>7</th>\n      <td>g</td>\n      <td>4.000000</td>\n      <td>5.5</td>\n      <td>1</td>\n      <td>-0.017499</td>\n      <td>-0.022905</td>\n      <td>-0.832367</td>\n      <td>-0.971224</td>\n      <td>-0.030099</td>\n      <td>0.015641</td>\n      <td>...</td>\n      <td>-0.781298</td>\n      <td>-0.958011</td>\n      <td>0.022183</td>\n      <td>0.052845</td>\n      <td>-1.0</td>\n      <td>-1.0</td>\n      <td>-1.0</td>\n      <td>-1.0</td>\n      <td>-1.0</td>\n      <td>-1.0</td>\n    </tr>\n    <tr>\n      <th>8</th>\n      <td>h</td>\n      <td>5.000000</td>\n      <td>6.5</td>\n      <td>1</td>\n      <td>0.102653</td>\n      <td>0.091987</td>\n      <td>-0.794797</td>\n      <td>-0.960715</td>\n      <td>0.092600</td>\n      <td>0.121151</td>\n      <td>...</td>\n      <td>-0.762427</td>\n      <td>-0.950764</td>\n      <td>-0.083734</td>\n      <td>-0.060005</td>\n      <td>-1.0</td>\n      <td>-1.0</td>\n      <td>-1.0</td>\n      <td>-1.0</td>\n      <td>-1.0</td>\n      <td>-1.0</td>\n    </tr>\n    <tr>\n      <th>9</th>\n      <td>i</td>\n      <td>6.576473</td>\n      <td>8.0</td>\n      <td>0</td>\n      <td>0.289857</td>\n      <td>0.268957</td>\n      <td>-0.735985</td>\n      <td>-0.930639</td>\n      <td>0.286954</td>\n      <td>0.288349</td>\n      <td>...</td>\n      <td>-0.725372</td>\n      <td>-0.934015</td>\n      <td>-0.264608</td>\n      <td>-0.252564</td>\n      <td>-1.0</td>\n      <td>-1.0</td>\n      <td>-1.0</td>\n      <td>-1.0</td>\n      <td>-1.0</td>\n      <td>-1.0</td>\n    </tr>\n    <tr>\n      <th>10</th>\n      <td>j</td>\n      <td>6.000000</td>\n      <td>7.5</td>\n      <td>1</td>\n      <td>0.203782</td>\n      <td>0.183908</td>\n      <td>-0.744169</td>\n      <td>-0.937484</td>\n      <td>0.204834</td>\n      <td>0.210062</td>\n      <td>...</td>\n      <td>-0.750580</td>\n      <td>-0.942825</td>\n      <td>-0.176624</td>\n      <td>-0.156995</td>\n      <td>-1.0</td>\n      <td>-1.0</td>\n      <td>-1.0</td>\n      <td>-1.0</td>\n      <td>-1.0</td>\n      <td>-1.0</td>\n    </tr>\n    <tr>\n      <th>11</th>\n      <td>k</td>\n      <td>7.000000</td>\n      <td>8.5</td>\n      <td>1</td>\n      <td>0.290610</td>\n      <td>0.274432</td>\n      <td>-0.714272</td>\n      <td>-0.921840</td>\n      <td>0.291558</td>\n      <td>0.282225</td>\n      <td>...</td>\n      <td>-0.718983</td>\n      <td>-0.931762</td>\n      <td>-0.249039</td>\n      <td>-0.237900</td>\n      <td>-1.0</td>\n      <td>-1.0</td>\n      <td>-1.0</td>\n      <td>-1.0</td>\n      <td>-1.0</td>\n      <td>-1.0</td>\n    </tr>\n    <tr>\n      <th>12</th>\n      <td>l</td>\n      <td>8.000000</td>\n      <td>9.5</td>\n      <td>1</td>\n      <td>0.362521</td>\n      <td>0.333457</td>\n      <td>-0.607098</td>\n      <td>-0.864886</td>\n      <td>0.392674</td>\n      <td>0.333926</td>\n      <td>...</td>\n      <td>-0.716321</td>\n      <td>-0.932508</td>\n      <td>-0.342132</td>\n      <td>-0.334865</td>\n      <td>-1.0</td>\n      <td>-1.0</td>\n      <td>-1.0</td>\n      <td>-1.0</td>\n      <td>-1.0</td>\n      <td>-1.0</td>\n    </tr>\n    <tr>\n      <th>13</th>\n      <td>m</td>\n      <td>6.576473</td>\n      <td>8.0</td>\n      <td>2</td>\n      <td>0.208654</td>\n      <td>0.184352</td>\n      <td>-0.710656</td>\n      <td>-0.917444</td>\n      <td>0.220686</td>\n      <td>0.208433</td>\n      <td>...</td>\n      <td>-0.757747</td>\n      <td>-0.946598</td>\n      <td>-0.205375</td>\n      <td>-0.186145</td>\n      <td>-1.0</td>\n      <td>-1.0</td>\n      <td>-1.0</td>\n      <td>-1.0</td>\n      <td>-1.0</td>\n      <td>-1.0</td>\n    </tr>\n    <tr>\n      <th>14</th>\n      <td>n</td>\n      <td>5.590170</td>\n      <td>7.0</td>\n      <td>2</td>\n      <td>0.068592</td>\n      <td>0.053889</td>\n      <td>-0.773316</td>\n      <td>-0.948108</td>\n      <td>0.071762</td>\n      <td>0.090965</td>\n      <td>...</td>\n      <td>-0.797187</td>\n      <td>-0.962993</td>\n      <td>-0.068985</td>\n      <td>-0.039082</td>\n      <td>-1.0</td>\n      <td>-1.0</td>\n      <td>-1.0</td>\n      <td>-1.0</td>\n      <td>-1.0</td>\n      <td>-1.0</td>\n    </tr>\n    <tr>\n      <th>15</th>\n      <td>o</td>\n      <td>7.566373</td>\n      <td>9.0</td>\n      <td>0</td>\n      <td>0.371027</td>\n      <td>0.345269</td>\n      <td>-0.653884</td>\n      <td>-0.892367</td>\n      <td>0.387984</td>\n      <td>0.349645</td>\n      <td>...</td>\n      <td>-0.710925</td>\n      <td>-0.931444</td>\n      <td>-0.341413</td>\n      <td>-0.335645</td>\n      <td>-1.0</td>\n      <td>-1.0</td>\n      <td>-1.0</td>\n      <td>-1.0</td>\n      <td>-1.0</td>\n      <td>-1.0</td>\n    </tr>\n    <tr>\n      <th>16</th>\n      <td>p</td>\n      <td>8.558621</td>\n      <td>10.0</td>\n      <td>0</td>\n      <td>0.514173</td>\n      <td>0.485435</td>\n      <td>-0.541115</td>\n      <td>-0.809638</td>\n      <td>0.547359</td>\n      <td>0.456878</td>\n      <td>...</td>\n      <td>-0.633513</td>\n      <td>-0.889970</td>\n      <td>-0.451970</td>\n      <td>-0.462430</td>\n      <td>-1.0</td>\n      <td>-1.0</td>\n      <td>-1.0</td>\n      <td>-1.0</td>\n      <td>-1.0</td>\n      <td>-1.0</td>\n    </tr>\n    <tr>\n      <th>17</th>\n      <td>q</td>\n      <td>1.118034</td>\n      <td>1.0</td>\n      <td>0</td>\n      <td>-0.491990</td>\n      <td>-0.460261</td>\n      <td>-0.645030</td>\n      <td>-0.902022</td>\n      <td>-0.451546</td>\n      <td>-0.483028</td>\n      <td>...</td>\n      <td>-0.593257</td>\n      <td>-0.880001</td>\n      <td>0.473229</td>\n      <td>0.488232</td>\n      <td>-1.0</td>\n      <td>-1.0</td>\n      <td>-1.0</td>\n      <td>-1.0</td>\n      <td>-1.0</td>\n      <td>-1.0</td>\n    </tr>\n    <tr>\n      <th>18</th>\n      <td>r</td>\n      <td>2.692582</td>\n      <td>4.0</td>\n      <td>0</td>\n      <td>-0.095784</td>\n      <td>-0.095631</td>\n      <td>-0.827752</td>\n      <td>-0.972050</td>\n      <td>-0.104678</td>\n      <td>-0.057278</td>\n      <td>...</td>\n      <td>-0.758218</td>\n      <td>-0.949282</td>\n      <td>0.084262</td>\n      <td>0.113292</td>\n      <td>-1.0</td>\n      <td>-1.0</td>\n      <td>-1.0</td>\n      <td>-1.0</td>\n      <td>-1.0</td>\n      <td>-1.0</td>\n    </tr>\n    <tr>\n      <th>19</th>\n      <td>s</td>\n      <td>1.000000</td>\n      <td>2.5</td>\n      <td>1</td>\n      <td>-0.253098</td>\n      <td>-0.239868</td>\n      <td>-0.801915</td>\n      <td>-0.961876</td>\n      <td>-0.254747</td>\n      <td>-0.216863</td>\n      <td>...</td>\n      <td>-0.686286</td>\n      <td>-0.922792</td>\n      <td>0.247783</td>\n      <td>0.272937</td>\n      <td>-1.0</td>\n      <td>-1.0</td>\n      <td>-1.0</td>\n      <td>-1.0</td>\n      <td>-1.0</td>\n      <td>-1.0</td>\n    </tr>\n    <tr>\n      <th>20</th>\n      <td>t</td>\n      <td>3.640055</td>\n      <td>5.0</td>\n      <td>0</td>\n      <td>-0.017209</td>\n      <td>-0.025598</td>\n      <td>-0.784171</td>\n      <td>-0.955580</td>\n      <td>-0.016020</td>\n      <td>0.009953</td>\n      <td>...</td>\n      <td>-0.752453</td>\n      <td>-0.946405</td>\n      <td>0.008669</td>\n      <td>0.033927</td>\n      <td>-1.0</td>\n      <td>-1.0</td>\n      <td>-1.0</td>\n      <td>-1.0</td>\n      <td>-1.0</td>\n      <td>-1.0</td>\n    </tr>\n    <tr>\n      <th>21</th>\n      <td>u</td>\n      <td>5.590170</td>\n      <td>7.0</td>\n      <td>0</td>\n      <td>0.189590</td>\n      <td>0.171600</td>\n      <td>-0.762683</td>\n      <td>-0.944200</td>\n      <td>0.187224</td>\n      <td>0.202541</td>\n      <td>...</td>\n      <td>-0.728503</td>\n      <td>-0.938528</td>\n      <td>-0.168419</td>\n      <td>-0.152817</td>\n      <td>-1.0</td>\n      <td>-1.0</td>\n      <td>-1.0</td>\n      <td>-1.0</td>\n      <td>-1.0</td>\n      <td>-1.0</td>\n    </tr>\n    <tr>\n      <th>22</th>\n      <td>v</td>\n      <td>3.640055</td>\n      <td>5.0</td>\n      <td>2</td>\n      <td>-0.026683</td>\n      <td>-0.029301</td>\n      <td>-0.804434</td>\n      <td>-0.964422</td>\n      <td>-0.034225</td>\n      <td>0.001689</td>\n      <td>...</td>\n      <td>-0.794487</td>\n      <td>-0.961904</td>\n      <td>0.030610</td>\n      <td>0.063340</td>\n      <td>-1.0</td>\n      <td>-1.0</td>\n      <td>-1.0</td>\n      <td>-1.0</td>\n      <td>-1.0</td>\n      <td>-1.0</td>\n    </tr>\n    <tr>\n      <th>23</th>\n      <td>w</td>\n      <td>1.118034</td>\n      <td>2.0</td>\n      <td>0</td>\n      <td>-0.290480</td>\n      <td>-0.277180</td>\n      <td>-0.811823</td>\n      <td>-0.964282</td>\n      <td>-0.290284</td>\n      <td>-0.248117</td>\n      <td>...</td>\n      <td>-0.689123</td>\n      <td>-0.922525</td>\n      <td>0.275227</td>\n      <td>0.301285</td>\n      <td>-1.0</td>\n      <td>-1.0</td>\n      <td>-1.0</td>\n      <td>-1.0</td>\n      <td>-1.0</td>\n      <td>-1.0</td>\n    </tr>\n    <tr>\n      <th>24</th>\n      <td>x</td>\n      <td>1.802776</td>\n      <td>3.0</td>\n      <td>2</td>\n      <td>-0.161558</td>\n      <td>-0.153478</td>\n      <td>-0.790553</td>\n      <td>-0.957638</td>\n      <td>-0.158937</td>\n      <td>-0.130475</td>\n      <td>...</td>\n      <td>-0.721780</td>\n      <td>-0.938717</td>\n      <td>0.149529</td>\n      <td>0.175831</td>\n      <td>-1.0</td>\n      <td>-1.0</td>\n      <td>-1.0</td>\n      <td>-1.0</td>\n      <td>-1.0</td>\n      <td>-1.0</td>\n    </tr>\n    <tr>\n      <th>25</th>\n      <td>y</td>\n      <td>4.609772</td>\n      <td>6.0</td>\n      <td>0</td>\n      <td>0.108119</td>\n      <td>0.095498</td>\n      <td>-0.829017</td>\n      <td>-0.967917</td>\n      <td>0.091622</td>\n      <td>0.137070</td>\n      <td>...</td>\n      <td>-0.788343</td>\n      <td>-0.958688</td>\n      <td>-0.103080</td>\n      <td>-0.075300</td>\n      <td>-1.0</td>\n      <td>-1.0</td>\n      <td>-1.0</td>\n      <td>-1.0</td>\n      <td>-1.0</td>\n      <td>-1.0</td>\n    </tr>\n    <tr>\n      <th>26</th>\n      <td>z</td>\n      <td>1.118034</td>\n      <td>2.0</td>\n      <td>2</td>\n      <td>-0.318231</td>\n      <td>-0.302339</td>\n      <td>-0.740874</td>\n      <td>-0.939725</td>\n      <td>-0.302288</td>\n      <td>-0.293202</td>\n      <td>...</td>\n      <td>-0.642970</td>\n      <td>-0.898474</td>\n      <td>0.307220</td>\n      <td>0.326634</td>\n      <td>-1.0</td>\n      <td>-1.0</td>\n      <td>-1.0</td>\n      <td>-1.0</td>\n      <td>-1.0</td>\n      <td>-1.0</td>\n    </tr>\n    <tr>\n      <th>27</th>\n      <td></td>\n      <td>4.031129</td>\n      <td>3.0</td>\n      <td>3</td>\n      <td>-0.159617</td>\n      <td>-0.154432</td>\n      <td>-0.821499</td>\n      <td>-0.968070</td>\n      <td>-0.166154</td>\n      <td>-0.121125</td>\n      <td>...</td>\n      <td>-0.800410</td>\n      <td>-0.964268</td>\n      <td>0.145335</td>\n      <td>0.183078</td>\n      <td>-1.0</td>\n      <td>-1.0</td>\n      <td>-1.0</td>\n      <td>-1.0</td>\n      <td>-1.0</td>\n      <td>-1.0</td>\n    </tr>\n    <tr>\n      <th>28</th>\n      <td></td>\n      <td>4.031129</td>\n      <td>3.5</td>\n      <td>3</td>\n      <td>-0.159617</td>\n      <td>-0.154432</td>\n      <td>-0.821499</td>\n      <td>-0.968070</td>\n      <td>-0.166154</td>\n      <td>-0.121125</td>\n      <td>...</td>\n      <td>-0.800410</td>\n      <td>-0.964268</td>\n      <td>0.145335</td>\n      <td>0.183078</td>\n      <td>-1.0</td>\n      <td>-1.0</td>\n      <td>-1.0</td>\n      <td>-1.0</td>\n      <td>-1.0</td>\n      <td>-1.0</td>\n    </tr>\n    <tr>\n      <th>29</th>\n      <td></td>\n      <td>4.031129</td>\n      <td>4.0</td>\n      <td>3</td>\n      <td>-0.159617</td>\n      <td>-0.154432</td>\n      <td>-0.821499</td>\n      <td>-0.968070</td>\n      <td>-0.166154</td>\n      <td>-0.121125</td>\n      <td>...</td>\n      <td>-0.800410</td>\n      <td>-0.964268</td>\n      <td>0.145335</td>\n      <td>0.183078</td>\n      <td>-1.0</td>\n      <td>-1.0</td>\n      <td>-1.0</td>\n      <td>-1.0</td>\n      <td>-1.0</td>\n      <td>-1.0</td>\n    </tr>\n    <tr>\n      <th>30</th>\n      <td></td>\n      <td>4.031129</td>\n      <td>4.5</td>\n      <td>3</td>\n      <td>-0.159617</td>\n      <td>-0.154432</td>\n      <td>-0.821499</td>\n      <td>-0.968070</td>\n      <td>-0.166154</td>\n      <td>-0.121125</td>\n      <td>...</td>\n      <td>-0.800410</td>\n      <td>-0.964268</td>\n      <td>0.145335</td>\n      <td>0.183078</td>\n      <td>-1.0</td>\n      <td>-1.0</td>\n      <td>-1.0</td>\n      <td>-1.0</td>\n      <td>-1.0</td>\n      <td>-1.0</td>\n    </tr>\n    <tr>\n      <th>31</th>\n      <td></td>\n      <td>4.031129</td>\n      <td>5.5</td>\n      <td>3</td>\n      <td>-0.159617</td>\n      <td>-0.154432</td>\n      <td>-0.821499</td>\n      <td>-0.968070</td>\n      <td>-0.166154</td>\n      <td>-0.121125</td>\n      <td>...</td>\n      <td>-0.800410</td>\n      <td>-0.964268</td>\n      <td>0.145335</td>\n      <td>0.183078</td>\n      <td>-1.0</td>\n      <td>-1.0</td>\n      <td>-1.0</td>\n      <td>-1.0</td>\n      <td>-1.0</td>\n      <td>-1.0</td>\n    </tr>\n    <tr>\n      <th>32</th>\n      <td></td>\n      <td>4.031129</td>\n      <td>6.0</td>\n      <td>3</td>\n      <td>-0.159617</td>\n      <td>-0.154432</td>\n      <td>-0.821499</td>\n      <td>-0.968070</td>\n      <td>-0.166154</td>\n      <td>-0.121125</td>\n      <td>...</td>\n      <td>-0.800410</td>\n      <td>-0.964268</td>\n      <td>0.145335</td>\n      <td>0.183078</td>\n      <td>-1.0</td>\n      <td>-1.0</td>\n      <td>-1.0</td>\n      <td>-1.0</td>\n      <td>-1.0</td>\n      <td>-1.0</td>\n    </tr>\n    <tr>\n      <th>33</th>\n      <td></td>\n      <td>4.031129</td>\n      <td>6.5</td>\n      <td>3</td>\n      <td>-0.159617</td>\n      <td>-0.154432</td>\n      <td>-0.821499</td>\n      <td>-0.968070</td>\n      <td>-0.166154</td>\n      <td>-0.121125</td>\n      <td>...</td>\n      <td>-0.800410</td>\n      <td>-0.964268</td>\n      <td>0.145335</td>\n      <td>0.183078</td>\n      <td>-1.0</td>\n      <td>-1.0</td>\n      <td>-1.0</td>\n      <td>-1.0</td>\n      <td>-1.0</td>\n      <td>-1.0</td>\n    </tr>\n    <tr>\n      <th>34</th>\n      <td></td>\n      <td>4.031129</td>\n      <td>7.0</td>\n      <td>3</td>\n      <td>-0.159617</td>\n      <td>-0.154432</td>\n      <td>-0.821499</td>\n      <td>-0.968070</td>\n      <td>-0.166154</td>\n      <td>-0.121125</td>\n      <td>...</td>\n      <td>-0.800410</td>\n      <td>-0.964268</td>\n      <td>0.145335</td>\n      <td>0.183078</td>\n      <td>-1.0</td>\n      <td>-1.0</td>\n      <td>-1.0</td>\n      <td>-1.0</td>\n      <td>-1.0</td>\n      <td>-1.0</td>\n    </tr>\n  </tbody>\n</table>\n<p>35 rows × 280 columns</p>\n</div>"
     },
     "execution_count": 8,
     "metadata": {},
     "output_type": "execute_result"
    }
   ],
   "source": [
    "# PREPARE A DATAFRAME FOR HEATMAPS: MULTIPLY SPACES TO SHOW MULTIPLE BLOCKS\n",
    "\n",
    "df_heat = df_mean.copy()\n",
    "\n",
    "# Duplicate spaces\n",
    "space_x = df_heat['x'][0]\n",
    "row = df_heat.iloc[[0],]\n",
    "SPACEBAR_LEN = 9\n",
    "BLOCK_SIZE = 0.5\n",
    "for i in range(SPACEBAR_LEN):\n",
    "    new_block = space_x - (SPACEBAR_LEN - 1) / 2 * BLOCK_SIZE + i * BLOCK_SIZE\n",
    "    print(space_x, new_block)\n",
    "    if new_block == space_x:\n",
    "        continue\n",
    "\n",
    "    # append the other rows for spacebar draw\n",
    "    df_heat = df_heat.append(df_heat.loc[[0] * 1].assign(**{'x': new_block}), ignore_index=True) # 1 is the number of repeats\n",
    "\n",
    "df_heat"
   ],
   "metadata": {
    "collapsed": false,
    "pycharm": {
     "name": "#%%\n"
    }
   }
  },
  {
   "cell_type": "code",
   "execution_count": 9,
   "outputs": [
    {
     "data": {
      "text/plain": "<AxesSubplot:title={'center':'Title'}, xlabel='x', ylabel='y'>"
     },
     "execution_count": 9,
     "metadata": {},
     "output_type": "execute_result"
    },
    {
     "data": {
      "text/plain": "<Figure size 720x216 with 2 Axes>",
      "image/png": "[encoded data removed]"
     },
     "metadata": {
      "needs_background": "light"
     },
     "output_type": "display_data"
    }
   ],
   "source": [
    "#HEATMAP - INTERACTIVE\n",
    "\n",
    "labz = [\n",
    "    ['q','','w','','e','','r','','t','','y','','u','','i','','o','','p'],\n",
    "    ['','a','','s','','d','','f','','g','','h','','j','','k','','l',''],\n",
    "    ['','','z','','x','','c','','v','','b','','n','','m','','','',''],\n",
    "    ['','','','','','','','','space','','','','','','','','','','']\n",
    "]\n",
    "\n",
    "# in pivot: 'y' is the index of rows, 'x' index of columns and 'dist' the value\n",
    "_ = df_heat.pivot('y', 'x', 'dist') # <--- Change here 'dist' to the column you want\n",
    "plt.figure(figsize=(10,3))\n",
    "plt.axis('off')\n",
    "plt.title(\"Title\")\n",
    "sns.heatmap(_, annot=labz, fmt='', square=True, cbar_kws = dict(use_gridspec=False,location=\"bottom\"))\n"
   ],
   "metadata": {
    "collapsed": false,
    "pycharm": {
     "name": "#%%\n"
    }
   }
  },
  {
   "cell_type": "code",
   "execution_count": 10,
   "outputs": [],
   "source": [
    "from sklearn.cluster import KMeans\n",
    "from sklearn.metrics import silhouette_score\n",
    "from numpy import unique\n",
    "from numpy import where"
   ],
   "metadata": {
    "collapsed": false,
    "pycharm": {
     "name": "#%%\n"
    }
   }
  },
  {
   "cell_type": "code",
   "execution_count": 11,
   "outputs": [],
   "source": [
    "# X_prova = df\n",
    "# X_prova = X_prova.loc[X_prova['View'] == 'a']\n",
    "#\n",
    "# X_prova = X_prova.mean(axis=0)\n",
    "# X_prova"
   ],
   "metadata": {
    "collapsed": false,
    "pycharm": {
     "name": "#%%\n"
    }
   }
  },
  {
   "cell_type": "code",
   "execution_count": 12,
   "outputs": [
    {
     "data": {
      "text/plain": "   View     x  y      dist\n0         5.0  3  4.031129\n1     a   1.5  1  0.000000\n2     b   6.0  2  4.609772\n3     c   4.0  2  2.692582\n4     d   3.5  1  2.000000\n5     e   3.0  0  1.802776\n6     f   4.5  1  3.000000\n7     g   5.5  1  4.000000\n8     h   6.5  1  5.000000\n9     i   8.0  0  6.576473\n10    j   7.5  1  6.000000\n11    k   8.5  1  7.000000\n12    l   9.5  1  8.000000\n13    m   8.0  2  6.576473\n14    n   7.0  2  5.590170\n15    o   9.0  0  7.566373\n16    p  10.0  0  8.558621\n17    q   1.0  0  1.118034\n18    r   4.0  0  2.692582\n19    s   2.5  1  1.000000\n20    t   5.0  0  3.640055\n21    u   7.0  0  5.590170\n22    v   5.0  2  3.640055\n23    w   2.0  0  1.118034\n24    x   3.0  2  1.802776\n25    y   6.0  0  4.609772\n26    z   2.0  2  1.118034",
      "text/html": "<div>\n<style scoped>\n    .dataframe tbody tr th:only-of-type {\n        vertical-align: middle;\n    }\n\n    .dataframe tbody tr th {\n        vertical-align: top;\n    }\n\n    .dataframe thead th {\n        text-align: right;\n    }\n</style>\n<table border=\"1\" class=\"dataframe\">\n  <thead>\n    <tr style=\"text-align: right;\">\n      <th></th>\n      <th>View</th>\n      <th>x</th>\n      <th>y</th>\n      <th>dist</th>\n    </tr>\n  </thead>\n  <tbody>\n    <tr>\n      <th>0</th>\n      <td></td>\n      <td>5.0</td>\n      <td>3</td>\n      <td>4.031129</td>\n    </tr>\n    <tr>\n      <th>1</th>\n      <td>a</td>\n      <td>1.5</td>\n      <td>1</td>\n      <td>0.000000</td>\n    </tr>\n    <tr>\n      <th>2</th>\n      <td>b</td>\n      <td>6.0</td>\n      <td>2</td>\n      <td>4.609772</td>\n    </tr>\n    <tr>\n      <th>3</th>\n      <td>c</td>\n      <td>4.0</td>\n      <td>2</td>\n      <td>2.692582</td>\n    </tr>\n    <tr>\n      <th>4</th>\n      <td>d</td>\n      <td>3.5</td>\n      <td>1</td>\n      <td>2.000000</td>\n    </tr>\n    <tr>\n      <th>5</th>\n      <td>e</td>\n      <td>3.0</td>\n      <td>0</td>\n      <td>1.802776</td>\n    </tr>\n    <tr>\n      <th>6</th>\n      <td>f</td>\n      <td>4.5</td>\n      <td>1</td>\n      <td>3.000000</td>\n    </tr>\n    <tr>\n      <th>7</th>\n      <td>g</td>\n      <td>5.5</td>\n      <td>1</td>\n      <td>4.000000</td>\n    </tr>\n    <tr>\n      <th>8</th>\n      <td>h</td>\n      <td>6.5</td>\n      <td>1</td>\n      <td>5.000000</td>\n    </tr>\n    <tr>\n      <th>9</th>\n      <td>i</td>\n      <td>8.0</td>\n      <td>0</td>\n      <td>6.576473</td>\n    </tr>\n    <tr>\n      <th>10</th>\n      <td>j</td>\n      <td>7.5</td>\n      <td>1</td>\n      <td>6.000000</td>\n    </tr>\n    <tr>\n      <th>11</th>\n      <td>k</td>\n      <td>8.5</td>\n      <td>1</td>\n      <td>7.000000</td>\n    </tr>\n    <tr>\n      <th>12</th>\n      <td>l</td>\n      <td>9.5</td>\n      <td>1</td>\n      <td>8.000000</td>\n    </tr>\n    <tr>\n      <th>13</th>\n      <td>m</td>\n      <td>8.0</td>\n      <td>2</td>\n      <td>6.576473</td>\n    </tr>\n    <tr>\n      <th>14</th>\n      <td>n</td>\n      <td>7.0</td>\n      <td>2</td>\n      <td>5.590170</td>\n    </tr>\n    <tr>\n      <th>15</th>\n      <td>o</td>\n      <td>9.0</td>\n      <td>0</td>\n      <td>7.566373</td>\n    </tr>\n    <tr>\n      <th>16</th>\n      <td>p</td>\n      <td>10.0</td>\n      <td>0</td>\n      <td>8.558621</td>\n    </tr>\n    <tr>\n      <th>17</th>\n      <td>q</td>\n      <td>1.0</td>\n      <td>0</td>\n      <td>1.118034</td>\n    </tr>\n    <tr>\n      <th>18</th>\n      <td>r</td>\n      <td>4.0</td>\n      <td>0</td>\n      <td>2.692582</td>\n    </tr>\n    <tr>\n      <th>19</th>\n      <td>s</td>\n      <td>2.5</td>\n      <td>1</td>\n      <td>1.000000</td>\n    </tr>\n    <tr>\n      <th>20</th>\n      <td>t</td>\n      <td>5.0</td>\n      <td>0</td>\n      <td>3.640055</td>\n    </tr>\n    <tr>\n      <th>21</th>\n      <td>u</td>\n      <td>7.0</td>\n      <td>0</td>\n      <td>5.590170</td>\n    </tr>\n    <tr>\n      <th>22</th>\n      <td>v</td>\n      <td>5.0</td>\n      <td>2</td>\n      <td>3.640055</td>\n    </tr>\n    <tr>\n      <th>23</th>\n      <td>w</td>\n      <td>2.0</td>\n      <td>0</td>\n      <td>1.118034</td>\n    </tr>\n    <tr>\n      <th>24</th>\n      <td>x</td>\n      <td>3.0</td>\n      <td>2</td>\n      <td>1.802776</td>\n    </tr>\n    <tr>\n      <th>25</th>\n      <td>y</td>\n      <td>6.0</td>\n      <td>0</td>\n      <td>4.609772</td>\n    </tr>\n    <tr>\n      <th>26</th>\n      <td>z</td>\n      <td>2.0</td>\n      <td>2</td>\n      <td>1.118034</td>\n    </tr>\n  </tbody>\n</table>\n</div>"
     },
     "execution_count": 12,
     "metadata": {},
     "output_type": "execute_result"
    }
   ],
   "source": [
    "df_kmeans = df.drop(['User','Hand', 'Smartphone'], axis=1)\n",
    "\n",
    "df_kmeans = df_kmeans.groupby(['View', 'x', 'y','dist'], as_index=False).agg('mean')\n",
    "\n",
    "col_heat = df_kmeans[['View', 'x', 'y','dist']]\n",
    "\n",
    "df_kmeans = df_kmeans.drop(['View', 'x', 'y','dist'], axis=1)\n",
    "\n",
    "col_heat"
   ],
   "metadata": {
    "collapsed": false,
    "pycharm": {
     "name": "#%%\n"
    }
   }
  },
  {
   "cell_type": "code",
   "execution_count": 13,
   "outputs": [
    {
     "data": {
      "text/plain": "      AxMean     AxMed     AxStd     AxVar     AxMax     AxMin    AyMean  \\\n0  -0.159617 -0.154432 -0.821499 -0.968070 -0.166154 -0.121125 -0.268387   \n1  -0.442607 -0.414158 -0.674681 -0.909059 -0.411576 -0.427211 -0.214514   \n2   0.033203  0.023504 -0.788821 -0.954436  0.030797  0.058167 -0.064265   \n3  -0.110353 -0.109572 -0.829623 -0.968095 -0.119691 -0.071302 -0.190139   \n4  -0.171691 -0.166162 -0.843684 -0.974481 -0.181909 -0.127884 -0.137639   \n5  -0.219282 -0.213487 -0.830212 -0.972243 -0.222810 -0.173440 -0.059955   \n6  -0.110754 -0.111648 -0.824161 -0.969190 -0.118787 -0.072111 -0.095583   \n7  -0.017499 -0.022905 -0.832367 -0.971224 -0.030099  0.015641 -0.078895   \n8   0.102653  0.091987 -0.794797 -0.960715  0.092600  0.121151  0.026417   \n9   0.289857  0.268957 -0.735985 -0.930639  0.286954  0.288349  0.284271   \n10  0.203782  0.183908 -0.744169 -0.937484  0.204834  0.210062  0.096186   \n11  0.290610  0.274432 -0.714272 -0.921840  0.291558  0.282225  0.179134   \n12  0.362521  0.333457 -0.607098 -0.864886  0.392674  0.333926  0.215923   \n13  0.208654  0.184352 -0.710656 -0.917444  0.220686  0.208433  0.021122   \n14  0.068592  0.053889 -0.773316 -0.948108  0.071762  0.090965 -0.091847   \n15  0.371027  0.345269 -0.653884 -0.892367  0.387984  0.349645  0.352918   \n16  0.514173  0.485435 -0.541115 -0.809638  0.547359  0.456878  0.352443   \n17 -0.491990 -0.460261 -0.645030 -0.902022 -0.451546 -0.483028 -0.105421   \n18 -0.095784 -0.095631 -0.827752 -0.972050 -0.104678 -0.057278  0.022311   \n19 -0.253098 -0.239868 -0.801915 -0.961876 -0.254747 -0.216863 -0.186979   \n20 -0.017209 -0.025598 -0.784171 -0.955580 -0.016020  0.009953  0.071865   \n21  0.189590  0.171600 -0.762683 -0.944200  0.187224  0.202541  0.221957   \n22 -0.026683 -0.029301 -0.804434 -0.964422 -0.034225  0.001689 -0.169833   \n23 -0.290480 -0.277180 -0.811823 -0.964282 -0.290284 -0.248117 -0.090688   \n24 -0.161558 -0.153478 -0.790553 -0.957638 -0.158937 -0.130475 -0.217517   \n25  0.108119  0.095498 -0.829017 -0.967917  0.091622  0.137070  0.137102   \n26 -0.318231 -0.302339 -0.740874 -0.939725 -0.302288 -0.293202 -0.330767   \n\n       AyMed     AyStd     AyVar  ...  18_clusters  19_clusters  20_clusters  \\\n0  -0.252487 -0.800617 -0.959769  ...            2            8            8   \n1  -0.204382 -0.782626 -0.956852  ...            3            0           15   \n2  -0.055183 -0.731566 -0.929734  ...            5            5            1   \n3  -0.176394 -0.775892 -0.949086  ...            4            2            4   \n4  -0.129050 -0.797555 -0.959752  ...            0            7            5   \n5  -0.056102 -0.783213 -0.954289  ...            0            7            5   \n6  -0.091578 -0.760467 -0.946641  ...            4            2            4   \n7  -0.075061 -0.739438 -0.928469  ...            5            5            1   \n8   0.029330 -0.703457 -0.917600  ...            9           15           13   \n9   0.274837 -0.723675 -0.922597  ...           13            1           17   \n10  0.098066 -0.677368 -0.899706  ...           10            4           18   \n11  0.177786 -0.756695 -0.941927  ...            7            6            3   \n12  0.214171 -0.715309 -0.926851  ...            7            6           19   \n13  0.027835 -0.735883 -0.930420  ...           17           17            6   \n14 -0.078484 -0.745284 -0.934237  ...            5            5            1   \n15  0.341307 -0.720324 -0.929671  ...           14           14           11   \n16  0.334086 -0.721727 -0.929723  ...           12           13           12   \n17 -0.099468 -0.748271 -0.948474  ...            3           18            0   \n18  0.023376 -0.771313 -0.946764  ...            1           11            9   \n19 -0.173897 -0.801370 -0.961493  ...            6            3           10   \n20  0.071249 -0.706451 -0.915001  ...            1           11            9   \n21  0.213754 -0.695733 -0.908880  ...           15           10           16   \n22 -0.158988 -0.737698 -0.939803  ...            4            2            4   \n23 -0.085752 -0.804482 -0.961607  ...            8           16            7   \n24 -0.203453 -0.795683 -0.960265  ...            2            8            8   \n25  0.129610 -0.752394 -0.931305  ...           16            9           14   \n26 -0.316523 -0.775590 -0.953988  ...           11           12            2   \n\n    21_clusters  22_clusters  23_clusters  24_clusters  25_clusters  \\\n0            10            8            4            8            0   \n1            13           15           13            2           15   \n2             3            3            3            9            3   \n3             7            1            1            1           24   \n4             0           21            5            0           10   \n5             0            4           21            7            8   \n6             7            1           22           21            2   \n7             3            3            3            9            3   \n8            16           13            7            5           20   \n9            15            5           17           17           12   \n10            5           12           10           22            7   \n11           14            2           15            4           13   \n12           19            9            2           18           22   \n13            4            0            8           13           16   \n14            3            3            3           23           23   \n15           12            6           14           10           21   \n16           11           11            9           12            1   \n17            9            7           12            6           17   \n18            1           18           19           11            6   \n19           18           20           11           19            4   \n20           20           19           18           20           19   \n21            2           10            6            3            9   \n22            7            1            1            1           14   \n23            8           17            0           14           11   \n24           10            8            4            8            0   \n25           17           16           20           16           18   \n26            6           14           16           15            5   \n\n    26_clusters  27_clusters  \n0             1           26  \n1            12           18  \n2            25           23  \n3             5           24  \n4            11           12  \n5            20            9  \n6             3            8  \n7             7           25  \n8             6            4  \n9             4           19  \n10           19           21  \n11           21           22  \n12           17            0  \n13           15            5  \n14           13           14  \n15           22           15  \n16           23           10  \n17            2           20  \n18            9            2  \n19           14           13  \n20           18            7  \n21           16           17  \n22           24            1  \n23           10           16  \n24            1            3  \n25            0            6  \n26            8           11  \n\n[27 rows x 303 columns]",
      "text/html": "<div>\n<style scoped>\n    .dataframe tbody tr th:only-of-type {\n        vertical-align: middle;\n    }\n\n    .dataframe tbody tr th {\n        vertical-align: top;\n    }\n\n    .dataframe thead th {\n        text-align: right;\n    }\n</style>\n<table border=\"1\" class=\"dataframe\">\n  <thead>\n    <tr style=\"text-align: right;\">\n      <th></th>\n      <th>AxMean</th>\n      <th>AxMed</th>\n      <th>AxStd</th>\n      <th>AxVar</th>\n      <th>AxMax</th>\n      <th>AxMin</th>\n      <th>AyMean</th>\n      <th>AyMed</th>\n      <th>AyStd</th>\n      <th>AyVar</th>\n      <th>...</th>\n      <th>18_clusters</th>\n      <th>19_clusters</th>\n      <th>20_clusters</th>\n      <th>21_clusters</th>\n      <th>22_clusters</th>\n      <th>23_clusters</th>\n      <th>24_clusters</th>\n      <th>25_clusters</th>\n      <th>26_clusters</th>\n      <th>27_clusters</th>\n    </tr>\n  </thead>\n  <tbody>\n    <tr>\n      <th>0</th>\n      <td>-0.159617</td>\n      <td>-0.154432</td>\n      <td>-0.821499</td>\n      <td>-0.968070</td>\n      <td>-0.166154</td>\n      <td>-0.121125</td>\n      <td>-0.268387</td>\n      <td>-0.252487</td>\n      <td>-0.800617</td>\n      <td>-0.959769</td>\n      <td>...</td>\n      <td>2</td>\n      <td>8</td>\n      <td>8</td>\n      <td>10</td>\n      <td>8</td>\n      <td>4</td>\n      <td>8</td>\n      <td>0</td>\n      <td>1</td>\n      <td>26</td>\n    </tr>\n    <tr>\n      <th>1</th>\n      <td>-0.442607</td>\n      <td>-0.414158</td>\n      <td>-0.674681</td>\n      <td>-0.909059</td>\n      <td>-0.411576</td>\n      <td>-0.427211</td>\n      <td>-0.214514</td>\n      <td>-0.204382</td>\n      <td>-0.782626</td>\n      <td>-0.956852</td>\n      <td>...</td>\n      <td>3</td>\n      <td>0</td>\n      <td>15</td>\n      <td>13</td>\n      <td>15</td>\n      <td>13</td>\n      <td>2</td>\n      <td>15</td>\n      <td>12</td>\n      <td>18</td>\n    </tr>\n    <tr>\n      <th>2</th>\n      <td>0.033203</td>\n      <td>0.023504</td>\n      <td>-0.788821</td>\n      <td>-0.954436</td>\n      <td>0.030797</td>\n      <td>0.058167</td>\n      <td>-0.064265</td>\n      <td>-0.055183</td>\n      <td>-0.731566</td>\n      <td>-0.929734</td>\n      <td>...</td>\n      <td>5</td>\n      <td>5</td>\n      <td>1</td>\n      <td>3</td>\n      <td>3</td>\n      <td>3</td>\n      <td>9</td>\n      <td>3</td>\n      <td>25</td>\n      <td>23</td>\n    </tr>\n    <tr>\n      <th>3</th>\n      <td>-0.110353</td>\n      <td>-0.109572</td>\n      <td>-0.829623</td>\n      <td>-0.968095</td>\n      <td>-0.119691</td>\n      <td>-0.071302</td>\n      <td>-0.190139</td>\n      <td>-0.176394</td>\n      <td>-0.775892</td>\n      <td>-0.949086</td>\n      <td>...</td>\n      <td>4</td>\n      <td>2</td>\n      <td>4</td>\n      <td>7</td>\n      <td>1</td>\n      <td>1</td>\n      <td>1</td>\n      <td>24</td>\n      <td>5</td>\n      <td>24</td>\n    </tr>\n    <tr>\n      <th>4</th>\n      <td>-0.171691</td>\n      <td>-0.166162</td>\n      <td>-0.843684</td>\n      <td>-0.974481</td>\n      <td>-0.181909</td>\n      <td>-0.127884</td>\n      <td>-0.137639</td>\n      <td>-0.129050</td>\n      <td>-0.797555</td>\n      <td>-0.959752</td>\n      <td>...</td>\n      <td>0</td>\n      <td>7</td>\n      <td>5</td>\n      <td>0</td>\n      <td>21</td>\n      <td>5</td>\n      <td>0</td>\n      <td>10</td>\n      <td>11</td>\n      <td>12</td>\n    </tr>\n    <tr>\n      <th>5</th>\n      <td>-0.219282</td>\n      <td>-0.213487</td>\n      <td>-0.830212</td>\n      <td>-0.972243</td>\n      <td>-0.222810</td>\n      <td>-0.173440</td>\n      <td>-0.059955</td>\n      <td>-0.056102</td>\n      <td>-0.783213</td>\n      <td>-0.954289</td>\n      <td>...</td>\n      <td>0</td>\n      <td>7</td>\n      <td>5</td>\n      <td>0</td>\n      <td>4</td>\n      <td>21</td>\n      <td>7</td>\n      <td>8</td>\n      <td>20</td>\n      <td>9</td>\n    </tr>\n    <tr>\n      <th>6</th>\n      <td>-0.110754</td>\n      <td>-0.111648</td>\n      <td>-0.824161</td>\n      <td>-0.969190</td>\n      <td>-0.118787</td>\n      <td>-0.072111</td>\n      <td>-0.095583</td>\n      <td>-0.091578</td>\n      <td>-0.760467</td>\n      <td>-0.946641</td>\n      <td>...</td>\n      <td>4</td>\n      <td>2</td>\n      <td>4</td>\n      <td>7</td>\n      <td>1</td>\n      <td>22</td>\n      <td>21</td>\n      <td>2</td>\n      <td>3</td>\n      <td>8</td>\n    </tr>\n    <tr>\n      <th>7</th>\n      <td>-0.017499</td>\n      <td>-0.022905</td>\n      <td>-0.832367</td>\n      <td>-0.971224</td>\n      <td>-0.030099</td>\n      <td>0.015641</td>\n      <td>-0.078895</td>\n      <td>-0.075061</td>\n      <td>-0.739438</td>\n      <td>-0.928469</td>\n      <td>...</td>\n      <td>5</td>\n      <td>5</td>\n      <td>1</td>\n      <td>3</td>\n      <td>3</td>\n      <td>3</td>\n      <td>9</td>\n      <td>3</td>\n      <td>7</td>\n      <td>25</td>\n    </tr>\n    <tr>\n      <th>8</th>\n      <td>0.102653</td>\n      <td>0.091987</td>\n      <td>-0.794797</td>\n      <td>-0.960715</td>\n      <td>0.092600</td>\n      <td>0.121151</td>\n      <td>0.026417</td>\n      <td>0.029330</td>\n      <td>-0.703457</td>\n      <td>-0.917600</td>\n      <td>...</td>\n      <td>9</td>\n      <td>15</td>\n      <td>13</td>\n      <td>16</td>\n      <td>13</td>\n      <td>7</td>\n      <td>5</td>\n      <td>20</td>\n      <td>6</td>\n      <td>4</td>\n    </tr>\n    <tr>\n      <th>9</th>\n      <td>0.289857</td>\n      <td>0.268957</td>\n      <td>-0.735985</td>\n      <td>-0.930639</td>\n      <td>0.286954</td>\n      <td>0.288349</td>\n      <td>0.284271</td>\n      <td>0.274837</td>\n      <td>-0.723675</td>\n      <td>-0.922597</td>\n      <td>...</td>\n      <td>13</td>\n      <td>1</td>\n      <td>17</td>\n      <td>15</td>\n      <td>5</td>\n      <td>17</td>\n      <td>17</td>\n      <td>12</td>\n      <td>4</td>\n      <td>19</td>\n    </tr>\n    <tr>\n      <th>10</th>\n      <td>0.203782</td>\n      <td>0.183908</td>\n      <td>-0.744169</td>\n      <td>-0.937484</td>\n      <td>0.204834</td>\n      <td>0.210062</td>\n      <td>0.096186</td>\n      <td>0.098066</td>\n      <td>-0.677368</td>\n      <td>-0.899706</td>\n      <td>...</td>\n      <td>10</td>\n      <td>4</td>\n      <td>18</td>\n      <td>5</td>\n      <td>12</td>\n      <td>10</td>\n      <td>22</td>\n      <td>7</td>\n      <td>19</td>\n      <td>21</td>\n    </tr>\n    <tr>\n      <th>11</th>\n      <td>0.290610</td>\n      <td>0.274432</td>\n      <td>-0.714272</td>\n      <td>-0.921840</td>\n      <td>0.291558</td>\n      <td>0.282225</td>\n      <td>0.179134</td>\n      <td>0.177786</td>\n      <td>-0.756695</td>\n      <td>-0.941927</td>\n      <td>...</td>\n      <td>7</td>\n      <td>6</td>\n      <td>3</td>\n      <td>14</td>\n      <td>2</td>\n      <td>15</td>\n      <td>4</td>\n      <td>13</td>\n      <td>21</td>\n      <td>22</td>\n    </tr>\n    <tr>\n      <th>12</th>\n      <td>0.362521</td>\n      <td>0.333457</td>\n      <td>-0.607098</td>\n      <td>-0.864886</td>\n      <td>0.392674</td>\n      <td>0.333926</td>\n      <td>0.215923</td>\n      <td>0.214171</td>\n      <td>-0.715309</td>\n      <td>-0.926851</td>\n      <td>...</td>\n      <td>7</td>\n      <td>6</td>\n      <td>19</td>\n      <td>19</td>\n      <td>9</td>\n      <td>2</td>\n      <td>18</td>\n      <td>22</td>\n      <td>17</td>\n      <td>0</td>\n    </tr>\n    <tr>\n      <th>13</th>\n      <td>0.208654</td>\n      <td>0.184352</td>\n      <td>-0.710656</td>\n      <td>-0.917444</td>\n      <td>0.220686</td>\n      <td>0.208433</td>\n      <td>0.021122</td>\n      <td>0.027835</td>\n      <td>-0.735883</td>\n      <td>-0.930420</td>\n      <td>...</td>\n      <td>17</td>\n      <td>17</td>\n      <td>6</td>\n      <td>4</td>\n      <td>0</td>\n      <td>8</td>\n      <td>13</td>\n      <td>16</td>\n      <td>15</td>\n      <td>5</td>\n    </tr>\n    <tr>\n      <th>14</th>\n      <td>0.068592</td>\n      <td>0.053889</td>\n      <td>-0.773316</td>\n      <td>-0.948108</td>\n      <td>0.071762</td>\n      <td>0.090965</td>\n      <td>-0.091847</td>\n      <td>-0.078484</td>\n      <td>-0.745284</td>\n      <td>-0.934237</td>\n      <td>...</td>\n      <td>5</td>\n      <td>5</td>\n      <td>1</td>\n      <td>3</td>\n      <td>3</td>\n      <td>3</td>\n      <td>23</td>\n      <td>23</td>\n      <td>13</td>\n      <td>14</td>\n    </tr>\n    <tr>\n      <th>15</th>\n      <td>0.371027</td>\n      <td>0.345269</td>\n      <td>-0.653884</td>\n      <td>-0.892367</td>\n      <td>0.387984</td>\n      <td>0.349645</td>\n      <td>0.352918</td>\n      <td>0.341307</td>\n      <td>-0.720324</td>\n      <td>-0.929671</td>\n      <td>...</td>\n      <td>14</td>\n      <td>14</td>\n      <td>11</td>\n      <td>12</td>\n      <td>6</td>\n      <td>14</td>\n      <td>10</td>\n      <td>21</td>\n      <td>22</td>\n      <td>15</td>\n    </tr>\n    <tr>\n      <th>16</th>\n      <td>0.514173</td>\n      <td>0.485435</td>\n      <td>-0.541115</td>\n      <td>-0.809638</td>\n      <td>0.547359</td>\n      <td>0.456878</td>\n      <td>0.352443</td>\n      <td>0.334086</td>\n      <td>-0.721727</td>\n      <td>-0.929723</td>\n      <td>...</td>\n      <td>12</td>\n      <td>13</td>\n      <td>12</td>\n      <td>11</td>\n      <td>11</td>\n      <td>9</td>\n      <td>12</td>\n      <td>1</td>\n      <td>23</td>\n      <td>10</td>\n    </tr>\n    <tr>\n      <th>17</th>\n      <td>-0.491990</td>\n      <td>-0.460261</td>\n      <td>-0.645030</td>\n      <td>-0.902022</td>\n      <td>-0.451546</td>\n      <td>-0.483028</td>\n      <td>-0.105421</td>\n      <td>-0.099468</td>\n      <td>-0.748271</td>\n      <td>-0.948474</td>\n      <td>...</td>\n      <td>3</td>\n      <td>18</td>\n      <td>0</td>\n      <td>9</td>\n      <td>7</td>\n      <td>12</td>\n      <td>6</td>\n      <td>17</td>\n      <td>2</td>\n      <td>20</td>\n    </tr>\n    <tr>\n      <th>18</th>\n      <td>-0.095784</td>\n      <td>-0.095631</td>\n      <td>-0.827752</td>\n      <td>-0.972050</td>\n      <td>-0.104678</td>\n      <td>-0.057278</td>\n      <td>0.022311</td>\n      <td>0.023376</td>\n      <td>-0.771313</td>\n      <td>-0.946764</td>\n      <td>...</td>\n      <td>1</td>\n      <td>11</td>\n      <td>9</td>\n      <td>1</td>\n      <td>18</td>\n      <td>19</td>\n      <td>11</td>\n      <td>6</td>\n      <td>9</td>\n      <td>2</td>\n    </tr>\n    <tr>\n      <th>19</th>\n      <td>-0.253098</td>\n      <td>-0.239868</td>\n      <td>-0.801915</td>\n      <td>-0.961876</td>\n      <td>-0.254747</td>\n      <td>-0.216863</td>\n      <td>-0.186979</td>\n      <td>-0.173897</td>\n      <td>-0.801370</td>\n      <td>-0.961493</td>\n      <td>...</td>\n      <td>6</td>\n      <td>3</td>\n      <td>10</td>\n      <td>18</td>\n      <td>20</td>\n      <td>11</td>\n      <td>19</td>\n      <td>4</td>\n      <td>14</td>\n      <td>13</td>\n    </tr>\n    <tr>\n      <th>20</th>\n      <td>-0.017209</td>\n      <td>-0.025598</td>\n      <td>-0.784171</td>\n      <td>-0.955580</td>\n      <td>-0.016020</td>\n      <td>0.009953</td>\n      <td>0.071865</td>\n      <td>0.071249</td>\n      <td>-0.706451</td>\n      <td>-0.915001</td>\n      <td>...</td>\n      <td>1</td>\n      <td>11</td>\n      <td>9</td>\n      <td>20</td>\n      <td>19</td>\n      <td>18</td>\n      <td>20</td>\n      <td>19</td>\n      <td>18</td>\n      <td>7</td>\n    </tr>\n    <tr>\n      <th>21</th>\n      <td>0.189590</td>\n      <td>0.171600</td>\n      <td>-0.762683</td>\n      <td>-0.944200</td>\n      <td>0.187224</td>\n      <td>0.202541</td>\n      <td>0.221957</td>\n      <td>0.213754</td>\n      <td>-0.695733</td>\n      <td>-0.908880</td>\n      <td>...</td>\n      <td>15</td>\n      <td>10</td>\n      <td>16</td>\n      <td>2</td>\n      <td>10</td>\n      <td>6</td>\n      <td>3</td>\n      <td>9</td>\n      <td>16</td>\n      <td>17</td>\n    </tr>\n    <tr>\n      <th>22</th>\n      <td>-0.026683</td>\n      <td>-0.029301</td>\n      <td>-0.804434</td>\n      <td>-0.964422</td>\n      <td>-0.034225</td>\n      <td>0.001689</td>\n      <td>-0.169833</td>\n      <td>-0.158988</td>\n      <td>-0.737698</td>\n      <td>-0.939803</td>\n      <td>...</td>\n      <td>4</td>\n      <td>2</td>\n      <td>4</td>\n      <td>7</td>\n      <td>1</td>\n      <td>1</td>\n      <td>1</td>\n      <td>14</td>\n      <td>24</td>\n      <td>1</td>\n    </tr>\n    <tr>\n      <th>23</th>\n      <td>-0.290480</td>\n      <td>-0.277180</td>\n      <td>-0.811823</td>\n      <td>-0.964282</td>\n      <td>-0.290284</td>\n      <td>-0.248117</td>\n      <td>-0.090688</td>\n      <td>-0.085752</td>\n      <td>-0.804482</td>\n      <td>-0.961607</td>\n      <td>...</td>\n      <td>8</td>\n      <td>16</td>\n      <td>7</td>\n      <td>8</td>\n      <td>17</td>\n      <td>0</td>\n      <td>14</td>\n      <td>11</td>\n      <td>10</td>\n      <td>16</td>\n    </tr>\n    <tr>\n      <th>24</th>\n      <td>-0.161558</td>\n      <td>-0.153478</td>\n      <td>-0.790553</td>\n      <td>-0.957638</td>\n      <td>-0.158937</td>\n      <td>-0.130475</td>\n      <td>-0.217517</td>\n      <td>-0.203453</td>\n      <td>-0.795683</td>\n      <td>-0.960265</td>\n      <td>...</td>\n      <td>2</td>\n      <td>8</td>\n      <td>8</td>\n      <td>10</td>\n      <td>8</td>\n      <td>4</td>\n      <td>8</td>\n      <td>0</td>\n      <td>1</td>\n      <td>3</td>\n    </tr>\n    <tr>\n      <th>25</th>\n      <td>0.108119</td>\n      <td>0.095498</td>\n      <td>-0.829017</td>\n      <td>-0.967917</td>\n      <td>0.091622</td>\n      <td>0.137070</td>\n      <td>0.137102</td>\n      <td>0.129610</td>\n      <td>-0.752394</td>\n      <td>-0.931305</td>\n      <td>...</td>\n      <td>16</td>\n      <td>9</td>\n      <td>14</td>\n      <td>17</td>\n      <td>16</td>\n      <td>20</td>\n      <td>16</td>\n      <td>18</td>\n      <td>0</td>\n      <td>6</td>\n    </tr>\n    <tr>\n      <th>26</th>\n      <td>-0.318231</td>\n      <td>-0.302339</td>\n      <td>-0.740874</td>\n      <td>-0.939725</td>\n      <td>-0.302288</td>\n      <td>-0.293202</td>\n      <td>-0.330767</td>\n      <td>-0.316523</td>\n      <td>-0.775590</td>\n      <td>-0.953988</td>\n      <td>...</td>\n      <td>11</td>\n      <td>12</td>\n      <td>2</td>\n      <td>6</td>\n      <td>14</td>\n      <td>16</td>\n      <td>15</td>\n      <td>5</td>\n      <td>8</td>\n      <td>11</td>\n    </tr>\n  </tbody>\n</table>\n<p>27 rows × 303 columns</p>\n</div>"
     },
     "execution_count": 13,
     "metadata": {},
     "output_type": "execute_result"
    }
   ],
   "source": [
    "clusters = []\n",
    "test = []\n",
    "\n",
    "for k in range(1, 28):\n",
    "\n",
    "    model_kmeans = KMeans(n_clusters=k)\n",
    "    # fit the model\n",
    "    model_kmeans.fit(df_kmeans)\n",
    "    train_labels = model_kmeans.labels_\n",
    "    # assign a cluster to each example\n",
    "    test_labels = model_kmeans.predict(df_kmeans)\n",
    "\n",
    "    df_kmeans[str(k) + '_clusters'] = test_labels\n",
    "    col_heat[str(k) + '_clusters'] = test_labels\n",
    "\n",
    "    test.append(test_labels)\n",
    "\n",
    "    # retrieve unique clusters\n",
    "    cluster = unique(test_labels)\n",
    "    clusters.append(cluster)\n",
    "\n",
    "\n",
    "\n",
    "col_heat.to_csv(r'C:\\Users\\giuli\\Desktop\\col_heat_left.csv', index = False, header=True)\n",
    "\n",
    "df_kmeans"
   ],
   "metadata": {
    "collapsed": false,
    "pycharm": {
     "name": "#%%\n"
    }
   }
  },
  {
   "cell_type": "code",
   "execution_count": 14,
   "outputs": [],
   "source": [
    "df_kmeans.index = col_heat.index\n",
    "\n",
    "df_kmeans[['View', 'x', 'y', 'dist']] = col_heat[['View', 'x', 'y', 'dist']]\n",
    "\n",
    "# df_kmeans"
   ],
   "metadata": {
    "collapsed": false,
    "pycharm": {
     "name": "#%%\n"
    }
   }
  },
  {
   "cell_type": "code",
   "execution_count": 15,
   "outputs": [
    {
     "name": "stdout",
     "output_type": "stream",
     "text": [
      "5.0 3.0\n",
      "5.0 3.5\n",
      "5.0 4.0\n",
      "5.0 4.5\n",
      "5.0 5.0\n",
      "5.0 5.5\n",
      "5.0 6.0\n",
      "5.0 6.5\n",
      "5.0 7.0\n"
     ]
    },
    {
     "data": {
      "text/plain": "   View     x  y      dist  1_clusters  2_clusters  3_clusters  4_clusters  \\\n0         5.0  3  4.031129           0           0           1           0   \n1     a   1.5  1  0.000000           0           0           1           3   \n2     b   6.0  2  4.609772           0           0           2           2   \n3     c   4.0  2  2.692582           0           0           1           0   \n4     d   3.5  1  2.000000           0           0           1           0   \n5     e   3.0  0  1.802776           0           0           1           0   \n6     f   4.5  1  3.000000           0           0           1           0   \n7     g   5.5  1  4.000000           0           0           2           2   \n8     h   6.5  1  5.000000           0           0           2           2   \n9     i   8.0  0  6.576473           0           1           0           1   \n10    j   7.5  1  6.000000           0           1           2           2   \n11    k   8.5  1  7.000000           0           1           0           1   \n12    l   9.5  1  8.000000           0           1           0           1   \n13    m   8.0  2  6.576473           0           1           2           2   \n14    n   7.0  2  5.590170           0           0           2           2   \n15    o   9.0  0  7.566373           0           1           0           1   \n16    p  10.0  0  8.558621           0           1           0           1   \n17    q   1.0  0  1.118034           0           0           1           3   \n18    r   4.0  0  2.692582           0           0           2           2   \n19    s   2.5  1  1.000000           0           0           1           0   \n20    t   5.0  0  3.640055           0           0           2           2   \n21    u   7.0  0  5.590170           0           1           0           1   \n22    v   5.0  2  3.640055           0           0           1           0   \n23    w   2.0  0  1.118034           0           0           1           3   \n24    x   3.0  2  1.802776           0           0           1           0   \n25    y   6.0  0  4.609772           0           1           2           2   \n26    z   2.0  2  1.118034           0           0           1           0   \n27        3.0  3  4.031129           0           0           1           0   \n28        3.5  3  4.031129           0           0           1           0   \n29        4.0  3  4.031129           0           0           1           0   \n30        4.5  3  4.031129           0           0           1           0   \n31        5.5  3  4.031129           0           0           1           0   \n32        6.0  3  4.031129           0           0           1           0   \n33        6.5  3  4.031129           0           0           1           0   \n34        7.0  3  4.031129           0           0           1           0   \n\n    5_clusters  6_clusters  ...  18_clusters  19_clusters  20_clusters  \\\n0            1           2  ...            2            8            8   \n1            3           4  ...            3            0           15   \n2            2           1  ...            5            5            1   \n3            1           2  ...            4            2            4   \n4            1           2  ...            0            7            5   \n5            1           2  ...            0            7            5   \n6            1           2  ...            4            2            4   \n7            2           1  ...            5            5            1   \n8            2           1  ...            9           15           13   \n9            0           3  ...           13            1           17   \n10           4           5  ...           10            4           18   \n11           0           3  ...            7            6            3   \n12           0           3  ...            7            6           19   \n13           4           5  ...           17           17            6   \n14           2           1  ...            5            5            1   \n15           0           0  ...           14           14           11   \n16           0           0  ...           12           13           12   \n17           3           4  ...            3           18            0   \n18           2           1  ...            1           11            9   \n19           1           2  ...            6            3           10   \n20           2           1  ...            1           11            9   \n21           0           3  ...           15           10           16   \n22           1           2  ...            4            2            4   \n23           3           4  ...            8           16            7   \n24           1           2  ...            2            8            8   \n25           4           5  ...           16            9           14   \n26           1           2  ...           11           12            2   \n27           1           2  ...            2            8            8   \n28           1           2  ...            2            8            8   \n29           1           2  ...            2            8            8   \n30           1           2  ...            2            8            8   \n31           1           2  ...            2            8            8   \n32           1           2  ...            2            8            8   \n33           1           2  ...            2            8            8   \n34           1           2  ...            2            8            8   \n\n    21_clusters  22_clusters  23_clusters  24_clusters  25_clusters  \\\n0            10            8            4            8            0   \n1            13           15           13            2           15   \n2             3            3            3            9            3   \n3             7            1            1            1           24   \n4             0           21            5            0           10   \n5             0            4           21            7            8   \n6             7            1           22           21            2   \n7             3            3            3            9            3   \n8            16           13            7            5           20   \n9            15            5           17           17           12   \n10            5           12           10           22            7   \n11           14            2           15            4           13   \n12           19            9            2           18           22   \n13            4            0            8           13           16   \n14            3            3            3           23           23   \n15           12            6           14           10           21   \n16           11           11            9           12            1   \n17            9            7           12            6           17   \n18            1           18           19           11            6   \n19           18           20           11           19            4   \n20           20           19           18           20           19   \n21            2           10            6            3            9   \n22            7            1            1            1           14   \n23            8           17            0           14           11   \n24           10            8            4            8            0   \n25           17           16           20           16           18   \n26            6           14           16           15            5   \n27           10            8            4            8            0   \n28           10            8            4            8            0   \n29           10            8            4            8            0   \n30           10            8            4            8            0   \n31           10            8            4            8            0   \n32           10            8            4            8            0   \n33           10            8            4            8            0   \n34           10            8            4            8            0   \n\n    26_clusters  27_clusters  \n0             1           26  \n1            12           18  \n2            25           23  \n3             5           24  \n4            11           12  \n5            20            9  \n6             3            8  \n7             7           25  \n8             6            4  \n9             4           19  \n10           19           21  \n11           21           22  \n12           17            0  \n13           15            5  \n14           13           14  \n15           22           15  \n16           23           10  \n17            2           20  \n18            9            2  \n19           14           13  \n20           18            7  \n21           16           17  \n22           24            1  \n23           10           16  \n24            1            3  \n25            0            6  \n26            8           11  \n27            1           26  \n28            1           26  \n29            1           26  \n30            1           26  \n31            1           26  \n32            1           26  \n33            1           26  \n34            1           26  \n\n[35 rows x 31 columns]",
      "text/html": "<div>\n<style scoped>\n    .dataframe tbody tr th:only-of-type {\n        vertical-align: middle;\n    }\n\n    .dataframe tbody tr th {\n        vertical-align: top;\n    }\n\n    .dataframe thead th {\n        text-align: right;\n    }\n</style>\n<table border=\"1\" class=\"dataframe\">\n  <thead>\n    <tr style=\"text-align: right;\">\n      <th></th>\n      <th>View</th>\n      <th>x</th>\n      <th>y</th>\n      <th>dist</th>\n      <th>1_clusters</th>\n      <th>2_clusters</th>\n      <th>3_clusters</th>\n      <th>4_clusters</th>\n      <th>5_clusters</th>\n      <th>6_clusters</th>\n      <th>...</th>\n      <th>18_clusters</th>\n      <th>19_clusters</th>\n      <th>20_clusters</th>\n      <th>21_clusters</th>\n      <th>22_clusters</th>\n      <th>23_clusters</th>\n      <th>24_clusters</th>\n      <th>25_clusters</th>\n      <th>26_clusters</th>\n      <th>27_clusters</th>\n    </tr>\n  </thead>\n  <tbody>\n    <tr>\n      <th>0</th>\n      <td></td>\n      <td>5.0</td>\n      <td>3</td>\n      <td>4.031129</td>\n      <td>0</td>\n      <td>0</td>\n      <td>1</td>\n      <td>0</td>\n      <td>1</td>\n      <td>2</td>\n      <td>...</td>\n      <td>2</td>\n      <td>8</td>\n      <td>8</td>\n      <td>10</td>\n      <td>8</td>\n      <td>4</td>\n      <td>8</td>\n      <td>0</td>\n      <td>1</td>\n      <td>26</td>\n    </tr>\n    <tr>\n      <th>1</th>\n      <td>a</td>\n      <td>1.5</td>\n      <td>1</td>\n      <td>0.000000</td>\n      <td>0</td>\n      <td>0</td>\n      <td>1</td>\n      <td>3</td>\n      <td>3</td>\n      <td>4</td>\n      <td>...</td>\n      <td>3</td>\n      <td>0</td>\n      <td>15</td>\n      <td>13</td>\n      <td>15</td>\n      <td>13</td>\n      <td>2</td>\n      <td>15</td>\n      <td>12</td>\n      <td>18</td>\n    </tr>\n    <tr>\n      <th>2</th>\n      <td>b</td>\n      <td>6.0</td>\n      <td>2</td>\n      <td>4.609772</td>\n      <td>0</td>\n      <td>0</td>\n      <td>2</td>\n      <td>2</td>\n      <td>2</td>\n      <td>1</td>\n      <td>...</td>\n      <td>5</td>\n      <td>5</td>\n      <td>1</td>\n      <td>3</td>\n      <td>3</td>\n      <td>3</td>\n      <td>9</td>\n      <td>3</td>\n      <td>25</td>\n      <td>23</td>\n    </tr>\n    <tr>\n      <th>3</th>\n      <td>c</td>\n      <td>4.0</td>\n      <td>2</td>\n      <td>2.692582</td>\n      <td>0</td>\n      <td>0</td>\n      <td>1</td>\n      <td>0</td>\n      <td>1</td>\n      <td>2</td>\n      <td>...</td>\n      <td>4</td>\n      <td>2</td>\n      <td>4</td>\n      <td>7</td>\n      <td>1</td>\n      <td>1</td>\n      <td>1</td>\n      <td>24</td>\n      <td>5</td>\n      <td>24</td>\n    </tr>\n    <tr>\n      <th>4</th>\n      <td>d</td>\n      <td>3.5</td>\n      <td>1</td>\n      <td>2.000000</td>\n      <td>0</td>\n      <td>0</td>\n      <td>1</td>\n      <td>0</td>\n      <td>1</td>\n      <td>2</td>\n      <td>...</td>\n      <td>0</td>\n      <td>7</td>\n      <td>5</td>\n      <td>0</td>\n      <td>21</td>\n      <td>5</td>\n      <td>0</td>\n      <td>10</td>\n      <td>11</td>\n      <td>12</td>\n    </tr>\n    <tr>\n      <th>5</th>\n      <td>e</td>\n      <td>3.0</td>\n      <td>0</td>\n      <td>1.802776</td>\n      <td>0</td>\n      <td>0</td>\n      <td>1</td>\n      <td>0</td>\n      <td>1</td>\n      <td>2</td>\n      <td>...</td>\n      <td>0</td>\n      <td>7</td>\n      <td>5</td>\n      <td>0</td>\n      <td>4</td>\n      <td>21</td>\n      <td>7</td>\n      <td>8</td>\n      <td>20</td>\n      <td>9</td>\n    </tr>\n    <tr>\n      <th>6</th>\n      <td>f</td>\n      <td>4.5</td>\n      <td>1</td>\n      <td>3.000000</td>\n      <td>0</td>\n      <td>0</td>\n      <td>1</td>\n      <td>0</td>\n      <td>1</td>\n      <td>2</td>\n      <td>...</td>\n      <td>4</td>\n      <td>2</td>\n      <td>4</td>\n      <td>7</td>\n      <td>1</td>\n      <td>22</td>\n      <td>21</td>\n      <td>2</td>\n      <td>3</td>\n      <td>8</td>\n    </tr>\n    <tr>\n      <th>7</th>\n      <td>g</td>\n      <td>5.5</td>\n      <td>1</td>\n      <td>4.000000</td>\n      <td>0</td>\n      <td>0</td>\n      <td>2</td>\n      <td>2</td>\n      <td>2</td>\n      <td>1</td>\n      <td>...</td>\n      <td>5</td>\n      <td>5</td>\n      <td>1</td>\n      <td>3</td>\n      <td>3</td>\n      <td>3</td>\n      <td>9</td>\n      <td>3</td>\n      <td>7</td>\n      <td>25</td>\n    </tr>\n    <tr>\n      <th>8</th>\n      <td>h</td>\n      <td>6.5</td>\n      <td>1</td>\n      <td>5.000000</td>\n      <td>0</td>\n      <td>0</td>\n      <td>2</td>\n      <td>2</td>\n      <td>2</td>\n      <td>1</td>\n      <td>...</td>\n      <td>9</td>\n      <td>15</td>\n      <td>13</td>\n      <td>16</td>\n      <td>13</td>\n      <td>7</td>\n      <td>5</td>\n      <td>20</td>\n      <td>6</td>\n      <td>4</td>\n    </tr>\n    <tr>\n      <th>9</th>\n      <td>i</td>\n      <td>8.0</td>\n      <td>0</td>\n      <td>6.576473</td>\n      <td>0</td>\n      <td>1</td>\n      <td>0</td>\n      <td>1</td>\n      <td>0</td>\n      <td>3</td>\n      <td>...</td>\n      <td>13</td>\n      <td>1</td>\n      <td>17</td>\n      <td>15</td>\n      <td>5</td>\n      <td>17</td>\n      <td>17</td>\n      <td>12</td>\n      <td>4</td>\n      <td>19</td>\n    </tr>\n    <tr>\n      <th>10</th>\n      <td>j</td>\n      <td>7.5</td>\n      <td>1</td>\n      <td>6.000000</td>\n      <td>0</td>\n      <td>1</td>\n      <td>2</td>\n      <td>2</td>\n      <td>4</td>\n      <td>5</td>\n      <td>...</td>\n      <td>10</td>\n      <td>4</td>\n      <td>18</td>\n      <td>5</td>\n      <td>12</td>\n      <td>10</td>\n      <td>22</td>\n      <td>7</td>\n      <td>19</td>\n      <td>21</td>\n    </tr>\n    <tr>\n      <th>11</th>\n      <td>k</td>\n      <td>8.5</td>\n      <td>1</td>\n      <td>7.000000</td>\n      <td>0</td>\n      <td>1</td>\n      <td>0</td>\n      <td>1</td>\n      <td>0</td>\n      <td>3</td>\n      <td>...</td>\n      <td>7</td>\n      <td>6</td>\n      <td>3</td>\n      <td>14</td>\n      <td>2</td>\n      <td>15</td>\n      <td>4</td>\n      <td>13</td>\n      <td>21</td>\n      <td>22</td>\n    </tr>\n    <tr>\n      <th>12</th>\n      <td>l</td>\n      <td>9.5</td>\n      <td>1</td>\n      <td>8.000000</td>\n      <td>0</td>\n      <td>1</td>\n      <td>0</td>\n      <td>1</td>\n      <td>0</td>\n      <td>3</td>\n      <td>...</td>\n      <td>7</td>\n      <td>6</td>\n      <td>19</td>\n      <td>19</td>\n      <td>9</td>\n      <td>2</td>\n      <td>18</td>\n      <td>22</td>\n      <td>17</td>\n      <td>0</td>\n    </tr>\n    <tr>\n      <th>13</th>\n      <td>m</td>\n      <td>8.0</td>\n      <td>2</td>\n      <td>6.576473</td>\n      <td>0</td>\n      <td>1</td>\n      <td>2</td>\n      <td>2</td>\n      <td>4</td>\n      <td>5</td>\n      <td>...</td>\n      <td>17</td>\n      <td>17</td>\n      <td>6</td>\n      <td>4</td>\n      <td>0</td>\n      <td>8</td>\n      <td>13</td>\n      <td>16</td>\n      <td>15</td>\n      <td>5</td>\n    </tr>\n    <tr>\n      <th>14</th>\n      <td>n</td>\n      <td>7.0</td>\n      <td>2</td>\n      <td>5.590170</td>\n      <td>0</td>\n      <td>0</td>\n      <td>2</td>\n      <td>2</td>\n      <td>2</td>\n      <td>1</td>\n      <td>...</td>\n      <td>5</td>\n      <td>5</td>\n      <td>1</td>\n      <td>3</td>\n      <td>3</td>\n      <td>3</td>\n      <td>23</td>\n      <td>23</td>\n      <td>13</td>\n      <td>14</td>\n    </tr>\n    <tr>\n      <th>15</th>\n      <td>o</td>\n      <td>9.0</td>\n      <td>0</td>\n      <td>7.566373</td>\n      <td>0</td>\n      <td>1</td>\n      <td>0</td>\n      <td>1</td>\n      <td>0</td>\n      <td>0</td>\n      <td>...</td>\n      <td>14</td>\n      <td>14</td>\n      <td>11</td>\n      <td>12</td>\n      <td>6</td>\n      <td>14</td>\n      <td>10</td>\n      <td>21</td>\n      <td>22</td>\n      <td>15</td>\n    </tr>\n    <tr>\n      <th>16</th>\n      <td>p</td>\n      <td>10.0</td>\n      <td>0</td>\n      <td>8.558621</td>\n      <td>0</td>\n      <td>1</td>\n      <td>0</td>\n      <td>1</td>\n      <td>0</td>\n      <td>0</td>\n      <td>...</td>\n      <td>12</td>\n      <td>13</td>\n      <td>12</td>\n      <td>11</td>\n      <td>11</td>\n      <td>9</td>\n      <td>12</td>\n      <td>1</td>\n      <td>23</td>\n      <td>10</td>\n    </tr>\n    <tr>\n      <th>17</th>\n      <td>q</td>\n      <td>1.0</td>\n      <td>0</td>\n      <td>1.118034</td>\n      <td>0</td>\n      <td>0</td>\n      <td>1</td>\n      <td>3</td>\n      <td>3</td>\n      <td>4</td>\n      <td>...</td>\n      <td>3</td>\n      <td>18</td>\n      <td>0</td>\n      <td>9</td>\n      <td>7</td>\n      <td>12</td>\n      <td>6</td>\n      <td>17</td>\n      <td>2</td>\n      <td>20</td>\n    </tr>\n    <tr>\n      <th>18</th>\n      <td>r</td>\n      <td>4.0</td>\n      <td>0</td>\n      <td>2.692582</td>\n      <td>0</td>\n      <td>0</td>\n      <td>2</td>\n      <td>2</td>\n      <td>2</td>\n      <td>1</td>\n      <td>...</td>\n      <td>1</td>\n      <td>11</td>\n      <td>9</td>\n      <td>1</td>\n      <td>18</td>\n      <td>19</td>\n      <td>11</td>\n      <td>6</td>\n      <td>9</td>\n      <td>2</td>\n    </tr>\n    <tr>\n      <th>19</th>\n      <td>s</td>\n      <td>2.5</td>\n      <td>1</td>\n      <td>1.000000</td>\n      <td>0</td>\n      <td>0</td>\n      <td>1</td>\n      <td>0</td>\n      <td>1</td>\n      <td>2</td>\n      <td>...</td>\n      <td>6</td>\n      <td>3</td>\n      <td>10</td>\n      <td>18</td>\n      <td>20</td>\n      <td>11</td>\n      <td>19</td>\n      <td>4</td>\n      <td>14</td>\n      <td>13</td>\n    </tr>\n    <tr>\n      <th>20</th>\n      <td>t</td>\n      <td>5.0</td>\n      <td>0</td>\n      <td>3.640055</td>\n      <td>0</td>\n      <td>0</td>\n      <td>2</td>\n      <td>2</td>\n      <td>2</td>\n      <td>1</td>\n      <td>...</td>\n      <td>1</td>\n      <td>11</td>\n      <td>9</td>\n      <td>20</td>\n      <td>19</td>\n      <td>18</td>\n      <td>20</td>\n      <td>19</td>\n      <td>18</td>\n      <td>7</td>\n    </tr>\n    <tr>\n      <th>21</th>\n      <td>u</td>\n      <td>7.0</td>\n      <td>0</td>\n      <td>5.590170</td>\n      <td>0</td>\n      <td>1</td>\n      <td>0</td>\n      <td>1</td>\n      <td>0</td>\n      <td>3</td>\n      <td>...</td>\n      <td>15</td>\n      <td>10</td>\n      <td>16</td>\n      <td>2</td>\n      <td>10</td>\n      <td>6</td>\n      <td>3</td>\n      <td>9</td>\n      <td>16</td>\n      <td>17</td>\n    </tr>\n    <tr>\n      <th>22</th>\n      <td>v</td>\n      <td>5.0</td>\n      <td>2</td>\n      <td>3.640055</td>\n      <td>0</td>\n      <td>0</td>\n      <td>1</td>\n      <td>0</td>\n      <td>1</td>\n      <td>2</td>\n      <td>...</td>\n      <td>4</td>\n      <td>2</td>\n      <td>4</td>\n      <td>7</td>\n      <td>1</td>\n      <td>1</td>\n      <td>1</td>\n      <td>14</td>\n      <td>24</td>\n      <td>1</td>\n    </tr>\n    <tr>\n      <th>23</th>\n      <td>w</td>\n      <td>2.0</td>\n      <td>0</td>\n      <td>1.118034</td>\n      <td>0</td>\n      <td>0</td>\n      <td>1</td>\n      <td>3</td>\n      <td>3</td>\n      <td>4</td>\n      <td>...</td>\n      <td>8</td>\n      <td>16</td>\n      <td>7</td>\n      <td>8</td>\n      <td>17</td>\n      <td>0</td>\n      <td>14</td>\n      <td>11</td>\n      <td>10</td>\n      <td>16</td>\n    </tr>\n    <tr>\n      <th>24</th>\n      <td>x</td>\n      <td>3.0</td>\n      <td>2</td>\n      <td>1.802776</td>\n      <td>0</td>\n      <td>0</td>\n      <td>1</td>\n      <td>0</td>\n      <td>1</td>\n      <td>2</td>\n      <td>...</td>\n      <td>2</td>\n      <td>8</td>\n      <td>8</td>\n      <td>10</td>\n      <td>8</td>\n      <td>4</td>\n      <td>8</td>\n      <td>0</td>\n      <td>1</td>\n      <td>3</td>\n    </tr>\n    <tr>\n      <th>25</th>\n      <td>y</td>\n      <td>6.0</td>\n      <td>0</td>\n      <td>4.609772</td>\n      <td>0</td>\n      <td>1</td>\n      <td>2</td>\n      <td>2</td>\n      <td>4</td>\n      <td>5</td>\n      <td>...</td>\n      <td>16</td>\n      <td>9</td>\n      <td>14</td>\n      <td>17</td>\n      <td>16</td>\n      <td>20</td>\n      <td>16</td>\n      <td>18</td>\n      <td>0</td>\n      <td>6</td>\n    </tr>\n    <tr>\n      <th>26</th>\n      <td>z</td>\n      <td>2.0</td>\n      <td>2</td>\n      <td>1.118034</td>\n      <td>0</td>\n      <td>0</td>\n      <td>1</td>\n      <td>0</td>\n      <td>1</td>\n      <td>2</td>\n      <td>...</td>\n      <td>11</td>\n      <td>12</td>\n      <td>2</td>\n      <td>6</td>\n      <td>14</td>\n      <td>16</td>\n      <td>15</td>\n      <td>5</td>\n      <td>8</td>\n      <td>11</td>\n    </tr>\n    <tr>\n      <th>27</th>\n      <td></td>\n      <td>3.0</td>\n      <td>3</td>\n      <td>4.031129</td>\n      <td>0</td>\n      <td>0</td>\n      <td>1</td>\n      <td>0</td>\n      <td>1</td>\n      <td>2</td>\n      <td>...</td>\n      <td>2</td>\n      <td>8</td>\n      <td>8</td>\n      <td>10</td>\n      <td>8</td>\n      <td>4</td>\n      <td>8</td>\n      <td>0</td>\n      <td>1</td>\n      <td>26</td>\n    </tr>\n    <tr>\n      <th>28</th>\n      <td></td>\n      <td>3.5</td>\n      <td>3</td>\n      <td>4.031129</td>\n      <td>0</td>\n      <td>0</td>\n      <td>1</td>\n      <td>0</td>\n      <td>1</td>\n      <td>2</td>\n      <td>...</td>\n      <td>2</td>\n      <td>8</td>\n      <td>8</td>\n      <td>10</td>\n      <td>8</td>\n      <td>4</td>\n      <td>8</td>\n      <td>0</td>\n      <td>1</td>\n      <td>26</td>\n    </tr>\n    <tr>\n      <th>29</th>\n      <td></td>\n      <td>4.0</td>\n      <td>3</td>\n      <td>4.031129</td>\n      <td>0</td>\n      <td>0</td>\n      <td>1</td>\n      <td>0</td>\n      <td>1</td>\n      <td>2</td>\n      <td>...</td>\n      <td>2</td>\n      <td>8</td>\n      <td>8</td>\n      <td>10</td>\n      <td>8</td>\n      <td>4</td>\n      <td>8</td>\n      <td>0</td>\n      <td>1</td>\n      <td>26</td>\n    </tr>\n    <tr>\n      <th>30</th>\n      <td></td>\n      <td>4.5</td>\n      <td>3</td>\n      <td>4.031129</td>\n      <td>0</td>\n      <td>0</td>\n      <td>1</td>\n      <td>0</td>\n      <td>1</td>\n      <td>2</td>\n      <td>...</td>\n      <td>2</td>\n      <td>8</td>\n      <td>8</td>\n      <td>10</td>\n      <td>8</td>\n      <td>4</td>\n      <td>8</td>\n      <td>0</td>\n      <td>1</td>\n      <td>26</td>\n    </tr>\n    <tr>\n      <th>31</th>\n      <td></td>\n      <td>5.5</td>\n      <td>3</td>\n      <td>4.031129</td>\n      <td>0</td>\n      <td>0</td>\n      <td>1</td>\n      <td>0</td>\n      <td>1</td>\n      <td>2</td>\n      <td>...</td>\n      <td>2</td>\n      <td>8</td>\n      <td>8</td>\n      <td>10</td>\n      <td>8</td>\n      <td>4</td>\n      <td>8</td>\n      <td>0</td>\n      <td>1</td>\n      <td>26</td>\n    </tr>\n    <tr>\n      <th>32</th>\n      <td></td>\n      <td>6.0</td>\n      <td>3</td>\n      <td>4.031129</td>\n      <td>0</td>\n      <td>0</td>\n      <td>1</td>\n      <td>0</td>\n      <td>1</td>\n      <td>2</td>\n      <td>...</td>\n      <td>2</td>\n      <td>8</td>\n      <td>8</td>\n      <td>10</td>\n      <td>8</td>\n      <td>4</td>\n      <td>8</td>\n      <td>0</td>\n      <td>1</td>\n      <td>26</td>\n    </tr>\n    <tr>\n      <th>33</th>\n      <td></td>\n      <td>6.5</td>\n      <td>3</td>\n      <td>4.031129</td>\n      <td>0</td>\n      <td>0</td>\n      <td>1</td>\n      <td>0</td>\n      <td>1</td>\n      <td>2</td>\n      <td>...</td>\n      <td>2</td>\n      <td>8</td>\n      <td>8</td>\n      <td>10</td>\n      <td>8</td>\n      <td>4</td>\n      <td>8</td>\n      <td>0</td>\n      <td>1</td>\n      <td>26</td>\n    </tr>\n    <tr>\n      <th>34</th>\n      <td></td>\n      <td>7.0</td>\n      <td>3</td>\n      <td>4.031129</td>\n      <td>0</td>\n      <td>0</td>\n      <td>1</td>\n      <td>0</td>\n      <td>1</td>\n      <td>2</td>\n      <td>...</td>\n      <td>2</td>\n      <td>8</td>\n      <td>8</td>\n      <td>10</td>\n      <td>8</td>\n      <td>4</td>\n      <td>8</td>\n      <td>0</td>\n      <td>1</td>\n      <td>26</td>\n    </tr>\n  </tbody>\n</table>\n<p>35 rows × 31 columns</p>\n</div>"
     },
     "execution_count": 15,
     "metadata": {},
     "output_type": "execute_result"
    }
   ],
   "source": [
    "SPACEBAR_LEN = 9\n",
    "BLOCK_SIZE = 0.5\n",
    "space_x_k = col_heat['x'][0]\n",
    "\n",
    "for i in range(SPACEBAR_LEN):\n",
    "    new_block_k = space_x_k - (SPACEBAR_LEN - 1) / 2 * BLOCK_SIZE + i * BLOCK_SIZE\n",
    "    print(space_x_k, new_block_k)\n",
    "    if new_block_k == space_x_k:\n",
    "        continue\n",
    "\n",
    "    # append the other rows for spacebar draw\n",
    "    col_heat = col_heat.append(col_heat.loc[[0] * 1].assign(**{'x': new_block_k}), ignore_index=True)\n",
    "\n",
    "col_heat"
   ],
   "metadata": {
    "collapsed": false,
    "pycharm": {
     "name": "#%%\n"
    }
   }
  },
  {
   "cell_type": "code",
   "execution_count": 16,
   "outputs": [],
   "source": [
    "# Create heatmap of KMeans\n",
    "\n",
    "take_out = ['x', 'y', 'dist', 'View']\n",
    "\n",
    "for col in col_heat.columns:\n",
    "    if col in take_out:\n",
    "        continue\n",
    "    name_split = col.split(\"_\")\n",
    "    n_cluster = int(name_split[0])\n",
    "    _ = col_heat.pivot('y', 'x', col) # col takes all values of letters\n",
    "    plt.figure(figsize=(24,14))\n",
    "    plt.axis('off')\n",
    "    plt.title(\"Heatmap: \" + col)\n",
    "    sns.heatmap(_, annot=labz, fmt='', square=True, cbar_kws = dict(use_gridspec=False, location=\"bottom\", ticks=range(0, n_cluster+1)))\n",
    "    plt.savefig(\"C:\\\\Users\\\\giuli\\\\Desktop\\\\imageLeft\\\\clusters_heatmap\\\\\" + col + \"_heat.png\", bbox_inches='tight')\n",
    "    plt.close()"
   ],
   "metadata": {
    "collapsed": false,
    "pycharm": {
     "name": "#%%\n"
    }
   }
  },
  {
   "cell_type": "code",
   "execution_count": 17,
   "outputs": [
    {
     "data": {
      "text/plain": "   View  1_clusters  2_clusters  3_clusters  4_clusters  5_clusters  \\\n0                 0           0           1           0           1   \n1     a           0           0           1           3           3   \n2     b           0           0           2           2           2   \n3     c           0           0           1           0           1   \n4     d           0           0           1           0           1   \n5     e           0           0           1           0           1   \n6     f           0           0           1           0           1   \n7     g           0           0           2           2           2   \n8     h           0           0           2           2           2   \n9     i           0           1           0           1           0   \n10    j           0           1           2           2           4   \n11    k           0           1           0           1           0   \n12    l           0           1           0           1           0   \n13    m           0           1           2           2           4   \n14    n           0           0           2           2           2   \n15    o           0           1           0           1           0   \n16    p           0           1           0           1           0   \n17    q           0           0           1           3           3   \n18    r           0           0           2           2           2   \n19    s           0           0           1           0           1   \n20    t           0           0           2           2           2   \n21    u           0           1           0           1           0   \n22    v           0           0           1           0           1   \n23    w           0           0           1           3           3   \n24    x           0           0           1           0           1   \n25    y           0           1           2           2           4   \n26    z           0           0           1           0           1   \n\n    6_clusters  7_clusters  8_clusters  9_clusters  ...  18_clusters  \\\n0            2           0           0           1  ...            2   \n1            4           2           4           4  ...            3   \n2            1           5           7           3  ...            5   \n3            2           0           0           8  ...            4   \n4            2           0           0           8  ...            0   \n5            2           0           0           8  ...            0   \n6            2           0           0           8  ...            4   \n7            1           5           7           3  ...            5   \n8            1           5           1           0  ...            9   \n9            3           4           3           5  ...           13   \n10           5           3           2           6  ...           10   \n11           3           4           3           5  ...            7   \n12           3           4           3           5  ...            7   \n13           5           3           2           6  ...           17   \n14           1           5           7           3  ...            5   \n15           0           1           5           2  ...           14   \n16           0           1           5           2  ...           12   \n17           4           2           4           4  ...            3   \n18           1           5           1           0  ...            1   \n19           2           0           0           1  ...            6   \n20           1           5           1           0  ...            1   \n21           3           4           3           5  ...           15   \n22           2           0           0           8  ...            4   \n23           4           2           4           4  ...            8   \n24           2           0           0           1  ...            2   \n25           5           3           2           6  ...           16   \n26           2           6           6           7  ...           11   \n\n    19_clusters  20_clusters  21_clusters  22_clusters  23_clusters  \\\n0             8            8           10            8            4   \n1             0           15           13           15           13   \n2             5            1            3            3            3   \n3             2            4            7            1            1   \n4             7            5            0           21            5   \n5             7            5            0            4           21   \n6             2            4            7            1           22   \n7             5            1            3            3            3   \n8            15           13           16           13            7   \n9             1           17           15            5           17   \n10            4           18            5           12           10   \n11            6            3           14            2           15   \n12            6           19           19            9            2   \n13           17            6            4            0            8   \n14            5            1            3            3            3   \n15           14           11           12            6           14   \n16           13           12           11           11            9   \n17           18            0            9            7           12   \n18           11            9            1           18           19   \n19            3           10           18           20           11   \n20           11            9           20           19           18   \n21           10           16            2           10            6   \n22            2            4            7            1            1   \n23           16            7            8           17            0   \n24            8            8           10            8            4   \n25            9           14           17           16           20   \n26           12            2            6           14           16   \n\n    24_clusters  25_clusters  26_clusters  27_clusters  \n0             8            0            1           26  \n1             2           15           12           18  \n2             9            3           25           23  \n3             1           24            5           24  \n4             0           10           11           12  \n5             7            8           20            9  \n6            21            2            3            8  \n7             9            3            7           25  \n8             5           20            6            4  \n9            17           12            4           19  \n10           22            7           19           21  \n11            4           13           21           22  \n12           18           22           17            0  \n13           13           16           15            5  \n14           23           23           13           14  \n15           10           21           22           15  \n16           12            1           23           10  \n17            6           17            2           20  \n18           11            6            9            2  \n19           19            4           14           13  \n20           20           19           18            7  \n21            3            9           16           17  \n22            1           14           24            1  \n23           14           11           10           16  \n24            8            0            1            3  \n25           16           18            0            6  \n26           15            5            8           11  \n\n[27 rows x 28 columns]",
      "text/html": "<div>\n<style scoped>\n    .dataframe tbody tr th:only-of-type {\n        vertical-align: middle;\n    }\n\n    .dataframe tbody tr th {\n        vertical-align: top;\n    }\n\n    .dataframe thead th {\n        text-align: right;\n    }\n</style>\n<table border=\"1\" class=\"dataframe\">\n  <thead>\n    <tr style=\"text-align: right;\">\n      <th></th>\n      <th>View</th>\n      <th>1_clusters</th>\n      <th>2_clusters</th>\n      <th>3_clusters</th>\n      <th>4_clusters</th>\n      <th>5_clusters</th>\n      <th>6_clusters</th>\n      <th>7_clusters</th>\n      <th>8_clusters</th>\n      <th>9_clusters</th>\n      <th>...</th>\n      <th>18_clusters</th>\n      <th>19_clusters</th>\n      <th>20_clusters</th>\n      <th>21_clusters</th>\n      <th>22_clusters</th>\n      <th>23_clusters</th>\n      <th>24_clusters</th>\n      <th>25_clusters</th>\n      <th>26_clusters</th>\n      <th>27_clusters</th>\n    </tr>\n  </thead>\n  <tbody>\n    <tr>\n      <th>0</th>\n      <td></td>\n      <td>0</td>\n      <td>0</td>\n      <td>1</td>\n      <td>0</td>\n      <td>1</td>\n      <td>2</td>\n      <td>0</td>\n      <td>0</td>\n      <td>1</td>\n      <td>...</td>\n      <td>2</td>\n      <td>8</td>\n      <td>8</td>\n      <td>10</td>\n      <td>8</td>\n      <td>4</td>\n      <td>8</td>\n      <td>0</td>\n      <td>1</td>\n      <td>26</td>\n    </tr>\n    <tr>\n      <th>1</th>\n      <td>a</td>\n      <td>0</td>\n      <td>0</td>\n      <td>1</td>\n      <td>3</td>\n      <td>3</td>\n      <td>4</td>\n      <td>2</td>\n      <td>4</td>\n      <td>4</td>\n      <td>...</td>\n      <td>3</td>\n      <td>0</td>\n      <td>15</td>\n      <td>13</td>\n      <td>15</td>\n      <td>13</td>\n      <td>2</td>\n      <td>15</td>\n      <td>12</td>\n      <td>18</td>\n    </tr>\n    <tr>\n      <th>2</th>\n      <td>b</td>\n      <td>0</td>\n      <td>0</td>\n      <td>2</td>\n      <td>2</td>\n      <td>2</td>\n      <td>1</td>\n      <td>5</td>\n      <td>7</td>\n      <td>3</td>\n      <td>...</td>\n      <td>5</td>\n      <td>5</td>\n      <td>1</td>\n      <td>3</td>\n      <td>3</td>\n      <td>3</td>\n      <td>9</td>\n      <td>3</td>\n      <td>25</td>\n      <td>23</td>\n    </tr>\n    <tr>\n      <th>3</th>\n      <td>c</td>\n      <td>0</td>\n      <td>0</td>\n      <td>1</td>\n      <td>0</td>\n      <td>1</td>\n      <td>2</td>\n      <td>0</td>\n      <td>0</td>\n      <td>8</td>\n      <td>...</td>\n      <td>4</td>\n      <td>2</td>\n      <td>4</td>\n      <td>7</td>\n      <td>1</td>\n      <td>1</td>\n      <td>1</td>\n      <td>24</td>\n      <td>5</td>\n      <td>24</td>\n    </tr>\n    <tr>\n      <th>4</th>\n      <td>d</td>\n      <td>0</td>\n      <td>0</td>\n      <td>1</td>\n      <td>0</td>\n      <td>1</td>\n      <td>2</td>\n      <td>0</td>\n      <td>0</td>\n      <td>8</td>\n      <td>...</td>\n      <td>0</td>\n      <td>7</td>\n      <td>5</td>\n      <td>0</td>\n      <td>21</td>\n      <td>5</td>\n      <td>0</td>\n      <td>10</td>\n      <td>11</td>\n      <td>12</td>\n    </tr>\n    <tr>\n      <th>5</th>\n      <td>e</td>\n      <td>0</td>\n      <td>0</td>\n      <td>1</td>\n      <td>0</td>\n      <td>1</td>\n      <td>2</td>\n      <td>0</td>\n      <td>0</td>\n      <td>8</td>\n      <td>...</td>\n      <td>0</td>\n      <td>7</td>\n      <td>5</td>\n      <td>0</td>\n      <td>4</td>\n      <td>21</td>\n      <td>7</td>\n      <td>8</td>\n      <td>20</td>\n      <td>9</td>\n    </tr>\n    <tr>\n      <th>6</th>\n      <td>f</td>\n      <td>0</td>\n      <td>0</td>\n      <td>1</td>\n      <td>0</td>\n      <td>1</td>\n      <td>2</td>\n      <td>0</td>\n      <td>0</td>\n      <td>8</td>\n      <td>...</td>\n      <td>4</td>\n      <td>2</td>\n      <td>4</td>\n      <td>7</td>\n      <td>1</td>\n      <td>22</td>\n      <td>21</td>\n      <td>2</td>\n      <td>3</td>\n      <td>8</td>\n    </tr>\n    <tr>\n      <th>7</th>\n      <td>g</td>\n      <td>0</td>\n      <td>0</td>\n      <td>2</td>\n      <td>2</td>\n      <td>2</td>\n      <td>1</td>\n      <td>5</td>\n      <td>7</td>\n      <td>3</td>\n      <td>...</td>\n      <td>5</td>\n      <td>5</td>\n      <td>1</td>\n      <td>3</td>\n      <td>3</td>\n      <td>3</td>\n      <td>9</td>\n      <td>3</td>\n      <td>7</td>\n      <td>25</td>\n    </tr>\n    <tr>\n      <th>8</th>\n      <td>h</td>\n      <td>0</td>\n      <td>0</td>\n      <td>2</td>\n      <td>2</td>\n      <td>2</td>\n      <td>1</td>\n      <td>5</td>\n      <td>1</td>\n      <td>0</td>\n      <td>...</td>\n      <td>9</td>\n      <td>15</td>\n      <td>13</td>\n      <td>16</td>\n      <td>13</td>\n      <td>7</td>\n      <td>5</td>\n      <td>20</td>\n      <td>6</td>\n      <td>4</td>\n    </tr>\n    <tr>\n      <th>9</th>\n      <td>i</td>\n      <td>0</td>\n      <td>1</td>\n      <td>0</td>\n      <td>1</td>\n      <td>0</td>\n      <td>3</td>\n      <td>4</td>\n      <td>3</td>\n      <td>5</td>\n      <td>...</td>\n      <td>13</td>\n      <td>1</td>\n      <td>17</td>\n      <td>15</td>\n      <td>5</td>\n      <td>17</td>\n      <td>17</td>\n      <td>12</td>\n      <td>4</td>\n      <td>19</td>\n    </tr>\n    <tr>\n      <th>10</th>\n      <td>j</td>\n      <td>0</td>\n      <td>1</td>\n      <td>2</td>\n      <td>2</td>\n      <td>4</td>\n      <td>5</td>\n      <td>3</td>\n      <td>2</td>\n      <td>6</td>\n      <td>...</td>\n      <td>10</td>\n      <td>4</td>\n      <td>18</td>\n      <td>5</td>\n      <td>12</td>\n      <td>10</td>\n      <td>22</td>\n      <td>7</td>\n      <td>19</td>\n      <td>21</td>\n    </tr>\n    <tr>\n      <th>11</th>\n      <td>k</td>\n      <td>0</td>\n      <td>1</td>\n      <td>0</td>\n      <td>1</td>\n      <td>0</td>\n      <td>3</td>\n      <td>4</td>\n      <td>3</td>\n      <td>5</td>\n      <td>...</td>\n      <td>7</td>\n      <td>6</td>\n      <td>3</td>\n      <td>14</td>\n      <td>2</td>\n      <td>15</td>\n      <td>4</td>\n      <td>13</td>\n      <td>21</td>\n      <td>22</td>\n    </tr>\n    <tr>\n      <th>12</th>\n      <td>l</td>\n      <td>0</td>\n      <td>1</td>\n      <td>0</td>\n      <td>1</td>\n      <td>0</td>\n      <td>3</td>\n      <td>4</td>\n      <td>3</td>\n      <td>5</td>\n      <td>...</td>\n      <td>7</td>\n      <td>6</td>\n      <td>19</td>\n      <td>19</td>\n      <td>9</td>\n      <td>2</td>\n      <td>18</td>\n      <td>22</td>\n      <td>17</td>\n      <td>0</td>\n    </tr>\n    <tr>\n      <th>13</th>\n      <td>m</td>\n      <td>0</td>\n      <td>1</td>\n      <td>2</td>\n      <td>2</td>\n      <td>4</td>\n      <td>5</td>\n      <td>3</td>\n      <td>2</td>\n      <td>6</td>\n      <td>...</td>\n      <td>17</td>\n      <td>17</td>\n      <td>6</td>\n      <td>4</td>\n      <td>0</td>\n      <td>8</td>\n      <td>13</td>\n      <td>16</td>\n      <td>15</td>\n      <td>5</td>\n    </tr>\n    <tr>\n      <th>14</th>\n      <td>n</td>\n      <td>0</td>\n      <td>0</td>\n      <td>2</td>\n      <td>2</td>\n      <td>2</td>\n      <td>1</td>\n      <td>5</td>\n      <td>7</td>\n      <td>3</td>\n      <td>...</td>\n      <td>5</td>\n      <td>5</td>\n      <td>1</td>\n      <td>3</td>\n      <td>3</td>\n      <td>3</td>\n      <td>23</td>\n      <td>23</td>\n      <td>13</td>\n      <td>14</td>\n    </tr>\n    <tr>\n      <th>15</th>\n      <td>o</td>\n      <td>0</td>\n      <td>1</td>\n      <td>0</td>\n      <td>1</td>\n      <td>0</td>\n      <td>0</td>\n      <td>1</td>\n      <td>5</td>\n      <td>2</td>\n      <td>...</td>\n      <td>14</td>\n      <td>14</td>\n      <td>11</td>\n      <td>12</td>\n      <td>6</td>\n      <td>14</td>\n      <td>10</td>\n      <td>21</td>\n      <td>22</td>\n      <td>15</td>\n    </tr>\n    <tr>\n      <th>16</th>\n      <td>p</td>\n      <td>0</td>\n      <td>1</td>\n      <td>0</td>\n      <td>1</td>\n      <td>0</td>\n      <td>0</td>\n      <td>1</td>\n      <td>5</td>\n      <td>2</td>\n      <td>...</td>\n      <td>12</td>\n      <td>13</td>\n      <td>12</td>\n      <td>11</td>\n      <td>11</td>\n      <td>9</td>\n      <td>12</td>\n      <td>1</td>\n      <td>23</td>\n      <td>10</td>\n    </tr>\n    <tr>\n      <th>17</th>\n      <td>q</td>\n      <td>0</td>\n      <td>0</td>\n      <td>1</td>\n      <td>3</td>\n      <td>3</td>\n      <td>4</td>\n      <td>2</td>\n      <td>4</td>\n      <td>4</td>\n      <td>...</td>\n      <td>3</td>\n      <td>18</td>\n      <td>0</td>\n      <td>9</td>\n      <td>7</td>\n      <td>12</td>\n      <td>6</td>\n      <td>17</td>\n      <td>2</td>\n      <td>20</td>\n    </tr>\n    <tr>\n      <th>18</th>\n      <td>r</td>\n      <td>0</td>\n      <td>0</td>\n      <td>2</td>\n      <td>2</td>\n      <td>2</td>\n      <td>1</td>\n      <td>5</td>\n      <td>1</td>\n      <td>0</td>\n      <td>...</td>\n      <td>1</td>\n      <td>11</td>\n      <td>9</td>\n      <td>1</td>\n      <td>18</td>\n      <td>19</td>\n      <td>11</td>\n      <td>6</td>\n      <td>9</td>\n      <td>2</td>\n    </tr>\n    <tr>\n      <th>19</th>\n      <td>s</td>\n      <td>0</td>\n      <td>0</td>\n      <td>1</td>\n      <td>0</td>\n      <td>1</td>\n      <td>2</td>\n      <td>0</td>\n      <td>0</td>\n      <td>1</td>\n      <td>...</td>\n      <td>6</td>\n      <td>3</td>\n      <td>10</td>\n      <td>18</td>\n      <td>20</td>\n      <td>11</td>\n      <td>19</td>\n      <td>4</td>\n      <td>14</td>\n      <td>13</td>\n    </tr>\n    <tr>\n      <th>20</th>\n      <td>t</td>\n      <td>0</td>\n      <td>0</td>\n      <td>2</td>\n      <td>2</td>\n      <td>2</td>\n      <td>1</td>\n      <td>5</td>\n      <td>1</td>\n      <td>0</td>\n      <td>...</td>\n      <td>1</td>\n      <td>11</td>\n      <td>9</td>\n      <td>20</td>\n      <td>19</td>\n      <td>18</td>\n      <td>20</td>\n      <td>19</td>\n      <td>18</td>\n      <td>7</td>\n    </tr>\n    <tr>\n      <th>21</th>\n      <td>u</td>\n      <td>0</td>\n      <td>1</td>\n      <td>0</td>\n      <td>1</td>\n      <td>0</td>\n      <td>3</td>\n      <td>4</td>\n      <td>3</td>\n      <td>5</td>\n      <td>...</td>\n      <td>15</td>\n      <td>10</td>\n      <td>16</td>\n      <td>2</td>\n      <td>10</td>\n      <td>6</td>\n      <td>3</td>\n      <td>9</td>\n      <td>16</td>\n      <td>17</td>\n    </tr>\n    <tr>\n      <th>22</th>\n      <td>v</td>\n      <td>0</td>\n      <td>0</td>\n      <td>1</td>\n      <td>0</td>\n      <td>1</td>\n      <td>2</td>\n      <td>0</td>\n      <td>0</td>\n      <td>8</td>\n      <td>...</td>\n      <td>4</td>\n      <td>2</td>\n      <td>4</td>\n      <td>7</td>\n      <td>1</td>\n      <td>1</td>\n      <td>1</td>\n      <td>14</td>\n      <td>24</td>\n      <td>1</td>\n    </tr>\n    <tr>\n      <th>23</th>\n      <td>w</td>\n      <td>0</td>\n      <td>0</td>\n      <td>1</td>\n      <td>3</td>\n      <td>3</td>\n      <td>4</td>\n      <td>2</td>\n      <td>4</td>\n      <td>4</td>\n      <td>...</td>\n      <td>8</td>\n      <td>16</td>\n      <td>7</td>\n      <td>8</td>\n      <td>17</td>\n      <td>0</td>\n      <td>14</td>\n      <td>11</td>\n      <td>10</td>\n      <td>16</td>\n    </tr>\n    <tr>\n      <th>24</th>\n      <td>x</td>\n      <td>0</td>\n      <td>0</td>\n      <td>1</td>\n      <td>0</td>\n      <td>1</td>\n      <td>2</td>\n      <td>0</td>\n      <td>0</td>\n      <td>1</td>\n      <td>...</td>\n      <td>2</td>\n      <td>8</td>\n      <td>8</td>\n      <td>10</td>\n      <td>8</td>\n      <td>4</td>\n      <td>8</td>\n      <td>0</td>\n      <td>1</td>\n      <td>3</td>\n    </tr>\n    <tr>\n      <th>25</th>\n      <td>y</td>\n      <td>0</td>\n      <td>1</td>\n      <td>2</td>\n      <td>2</td>\n      <td>4</td>\n      <td>5</td>\n      <td>3</td>\n      <td>2</td>\n      <td>6</td>\n      <td>...</td>\n      <td>16</td>\n      <td>9</td>\n      <td>14</td>\n      <td>17</td>\n      <td>16</td>\n      <td>20</td>\n      <td>16</td>\n      <td>18</td>\n      <td>0</td>\n      <td>6</td>\n    </tr>\n    <tr>\n      <th>26</th>\n      <td>z</td>\n      <td>0</td>\n      <td>0</td>\n      <td>1</td>\n      <td>0</td>\n      <td>1</td>\n      <td>2</td>\n      <td>6</td>\n      <td>6</td>\n      <td>7</td>\n      <td>...</td>\n      <td>11</td>\n      <td>12</td>\n      <td>2</td>\n      <td>6</td>\n      <td>14</td>\n      <td>16</td>\n      <td>15</td>\n      <td>5</td>\n      <td>8</td>\n      <td>11</td>\n    </tr>\n  </tbody>\n</table>\n<p>27 rows × 28 columns</p>\n</div>"
     },
     "execution_count": 17,
     "metadata": {},
     "output_type": "execute_result"
    }
   ],
   "source": [
    "# df = pd.merge(df, col_heat, how=\"left\", on=[\"View\"])\n",
    "col_heat_base = col_heat\n",
    "\n",
    "col_heat_base = col_heat_base.iloc[:-8, :] #remove rows for creation of spacebar\n",
    "col_heat_base = col_heat_base.drop(['x', 'y','dist'], axis=1)\n",
    "col_heat_base.to_csv(r'C:\\Users\\giuli\\Desktop\\col_heat_base_left.csv', index = False, header=True)\n",
    "col_heat_base"
   ],
   "metadata": {
    "collapsed": false,
    "pycharm": {
     "name": "#%%\n"
    }
   }
  },
  {
   "cell_type": "code",
   "execution_count": 18,
   "outputs": [],
   "source": [
    "dict_col_heat_base = {}\n",
    "\n",
    "dict_col_heat_base['View'] = col_heat_base['View'].tolist()\n",
    "for i in range(1, 28):\n",
    "    dict_col_heat_base[str(i) + '_clusters'] = col_heat_base[str(i) + '_clusters'].tolist()\n",
    "\n",
    "path_col_heat_base = 'C:\\\\Users\\\\giuli\\\\Desktop\\\\PythonTesi\\\\jsonFile\\\\col_heat_base_left.json'\n",
    "\n",
    "# Creat json and save to file\n",
    "json_col_heat_base = json.dumps(dict_col_heat_base, indent=4)\n",
    "with open(path_col_heat_base, 'w') as file:\n",
    "    file.write(json_col_heat_base)"
   ],
   "metadata": {
    "collapsed": false,
    "pycharm": {
     "name": "#%%\n"
    }
   }
  },
  {
   "cell_type": "code",
   "execution_count": 19,
   "outputs": [
    {
     "data": {
      "text/plain": "         AxMean     AxMed     AxStd     AxVar     AxMax     AxMin    AyMean  \\\n0     -0.132653 -0.147185 -0.603221 -0.921283  0.032926 -0.109151  0.273847   \n1     -0.021683 -0.003086 -0.550748 -0.899086  0.045203 -0.114663  0.140869   \n2     -0.085178 -0.086068 -0.557407 -0.902056  0.027346 -0.081589  0.209052   \n3     -0.276150 -0.278387 -0.611171 -0.924406 -0.190848 -0.311467  0.018891   \n4     -0.069426 -0.068126 -0.800858 -0.980171 -0.066965 -0.066703 -0.186420   \n...         ...       ...       ...       ...       ...       ...       ...   \n16757 -0.094617 -0.091114 -0.974706 -0.999680 -0.141182 -0.024254 -0.288535   \n16758 -0.337784 -0.329409 -0.968054 -0.999490 -0.364956 -0.248069 -0.052138   \n16759 -0.442860 -0.411833 -0.905203 -0.995507 -0.460381 -0.364941 -0.085882   \n16760 -0.058369 -0.059153 -1.000000 -1.000000 -0.109373  0.017642 -0.024612   \n16761  0.344708  0.353518 -0.772482 -0.974118  0.301341  0.341788  0.434587   \n\n          AyMed     AyStd     AyVar  ...  18_clusters  19_clusters  \\\n0      0.271777 -0.630290 -0.931657  ...            1           11   \n1      0.087105 -0.473945 -0.861633  ...            9           15   \n2      0.189288 -0.663520 -0.943391  ...            0            7   \n3      0.021238 -0.675163 -0.947240  ...            2            8   \n4     -0.175745 -0.781213 -0.976066  ...            1           11   \n...         ...       ...       ...  ...          ...          ...   \n16757 -0.281008 -0.975331 -0.999696  ...            2            8   \n16758 -0.015699 -0.662813 -0.943152  ...           11           12   \n16759 -0.088337 -0.983483 -0.999864  ...            3            0   \n16760 -0.027394 -1.000000 -1.000000  ...            4            2   \n16761  0.516161 -0.173809 -0.658705  ...            7            6   \n\n       20_clusters  21_clusters  22_clusters  23_clusters  24_clusters  \\\n0                9           20           19           18           20   \n1               13           16           13            7            5   \n2                5            0            4           21            7   \n3                8           10            8            4            8   \n4                9            1           18           19           11   \n...            ...          ...          ...          ...          ...   \n16757            8           10            8            4            8   \n16758            2            6           14           16           15   \n16759           15           13           15           13            2   \n16760            4            7            1            1            1   \n16761            3           14            2           15            4   \n\n       25_clusters  26_clusters  27_clusters  \n0               19           18            7  \n1               20            6            4  \n2                8           20            9  \n3                0            1           26  \n4                6            9            2  \n...            ...          ...          ...  \n16757            0            1           26  \n16758            5            8           11  \n16759           15           12           18  \n16760           24            5           24  \n16761           13           21           22  \n\n[16762 rows x 310 columns]",
      "text/html": "<div>\n<style scoped>\n    .dataframe tbody tr th:only-of-type {\n        vertical-align: middle;\n    }\n\n    .dataframe tbody tr th {\n        vertical-align: top;\n    }\n\n    .dataframe thead th {\n        text-align: right;\n    }\n</style>\n<table border=\"1\" class=\"dataframe\">\n  <thead>\n    <tr style=\"text-align: right;\">\n      <th></th>\n      <th>AxMean</th>\n      <th>AxMed</th>\n      <th>AxStd</th>\n      <th>AxVar</th>\n      <th>AxMax</th>\n      <th>AxMin</th>\n      <th>AyMean</th>\n      <th>AyMed</th>\n      <th>AyStd</th>\n      <th>AyVar</th>\n      <th>...</th>\n      <th>18_clusters</th>\n      <th>19_clusters</th>\n      <th>20_clusters</th>\n      <th>21_clusters</th>\n      <th>22_clusters</th>\n      <th>23_clusters</th>\n      <th>24_clusters</th>\n      <th>25_clusters</th>\n      <th>26_clusters</th>\n      <th>27_clusters</th>\n    </tr>\n  </thead>\n  <tbody>\n    <tr>\n      <th>0</th>\n      <td>-0.132653</td>\n      <td>-0.147185</td>\n      <td>-0.603221</td>\n      <td>-0.921283</td>\n      <td>0.032926</td>\n      <td>-0.109151</td>\n      <td>0.273847</td>\n      <td>0.271777</td>\n      <td>-0.630290</td>\n      <td>-0.931657</td>\n      <td>...</td>\n      <td>1</td>\n      <td>11</td>\n      <td>9</td>\n      <td>20</td>\n      <td>19</td>\n      <td>18</td>\n      <td>20</td>\n      <td>19</td>\n      <td>18</td>\n      <td>7</td>\n    </tr>\n    <tr>\n      <th>1</th>\n      <td>-0.021683</td>\n      <td>-0.003086</td>\n      <td>-0.550748</td>\n      <td>-0.899086</td>\n      <td>0.045203</td>\n      <td>-0.114663</td>\n      <td>0.140869</td>\n      <td>0.087105</td>\n      <td>-0.473945</td>\n      <td>-0.861633</td>\n      <td>...</td>\n      <td>9</td>\n      <td>15</td>\n      <td>13</td>\n      <td>16</td>\n      <td>13</td>\n      <td>7</td>\n      <td>5</td>\n      <td>20</td>\n      <td>6</td>\n      <td>4</td>\n    </tr>\n    <tr>\n      <th>2</th>\n      <td>-0.085178</td>\n      <td>-0.086068</td>\n      <td>-0.557407</td>\n      <td>-0.902056</td>\n      <td>0.027346</td>\n      <td>-0.081589</td>\n      <td>0.209052</td>\n      <td>0.189288</td>\n      <td>-0.663520</td>\n      <td>-0.943391</td>\n      <td>...</td>\n      <td>0</td>\n      <td>7</td>\n      <td>5</td>\n      <td>0</td>\n      <td>4</td>\n      <td>21</td>\n      <td>7</td>\n      <td>8</td>\n      <td>20</td>\n      <td>9</td>\n    </tr>\n    <tr>\n      <th>3</th>\n      <td>-0.276150</td>\n      <td>-0.278387</td>\n      <td>-0.611171</td>\n      <td>-0.924406</td>\n      <td>-0.190848</td>\n      <td>-0.311467</td>\n      <td>0.018891</td>\n      <td>0.021238</td>\n      <td>-0.675163</td>\n      <td>-0.947240</td>\n      <td>...</td>\n      <td>2</td>\n      <td>8</td>\n      <td>8</td>\n      <td>10</td>\n      <td>8</td>\n      <td>4</td>\n      <td>8</td>\n      <td>0</td>\n      <td>1</td>\n      <td>26</td>\n    </tr>\n    <tr>\n      <th>4</th>\n      <td>-0.069426</td>\n      <td>-0.068126</td>\n      <td>-0.800858</td>\n      <td>-0.980171</td>\n      <td>-0.066965</td>\n      <td>-0.066703</td>\n      <td>-0.186420</td>\n      <td>-0.175745</td>\n      <td>-0.781213</td>\n      <td>-0.976066</td>\n      <td>...</td>\n      <td>1</td>\n      <td>11</td>\n      <td>9</td>\n      <td>1</td>\n      <td>18</td>\n      <td>19</td>\n      <td>11</td>\n      <td>6</td>\n      <td>9</td>\n      <td>2</td>\n    </tr>\n    <tr>\n      <th>...</th>\n      <td>...</td>\n      <td>...</td>\n      <td>...</td>\n      <td>...</td>\n      <td>...</td>\n      <td>...</td>\n      <td>...</td>\n      <td>...</td>\n      <td>...</td>\n      <td>...</td>\n      <td>...</td>\n      <td>...</td>\n      <td>...</td>\n      <td>...</td>\n      <td>...</td>\n      <td>...</td>\n      <td>...</td>\n      <td>...</td>\n      <td>...</td>\n      <td>...</td>\n      <td>...</td>\n    </tr>\n    <tr>\n      <th>16757</th>\n      <td>-0.094617</td>\n      <td>-0.091114</td>\n      <td>-0.974706</td>\n      <td>-0.999680</td>\n      <td>-0.141182</td>\n      <td>-0.024254</td>\n      <td>-0.288535</td>\n      <td>-0.281008</td>\n      <td>-0.975331</td>\n      <td>-0.999696</td>\n      <td>...</td>\n      <td>2</td>\n      <td>8</td>\n      <td>8</td>\n      <td>10</td>\n      <td>8</td>\n      <td>4</td>\n      <td>8</td>\n      <td>0</td>\n      <td>1</td>\n      <td>26</td>\n    </tr>\n    <tr>\n      <th>16758</th>\n      <td>-0.337784</td>\n      <td>-0.329409</td>\n      <td>-0.968054</td>\n      <td>-0.999490</td>\n      <td>-0.364956</td>\n      <td>-0.248069</td>\n      <td>-0.052138</td>\n      <td>-0.015699</td>\n      <td>-0.662813</td>\n      <td>-0.943152</td>\n      <td>...</td>\n      <td>11</td>\n      <td>12</td>\n      <td>2</td>\n      <td>6</td>\n      <td>14</td>\n      <td>16</td>\n      <td>15</td>\n      <td>5</td>\n      <td>8</td>\n      <td>11</td>\n    </tr>\n    <tr>\n      <th>16759</th>\n      <td>-0.442860</td>\n      <td>-0.411833</td>\n      <td>-0.905203</td>\n      <td>-0.995507</td>\n      <td>-0.460381</td>\n      <td>-0.364941</td>\n      <td>-0.085882</td>\n      <td>-0.088337</td>\n      <td>-0.983483</td>\n      <td>-0.999864</td>\n      <td>...</td>\n      <td>3</td>\n      <td>0</td>\n      <td>15</td>\n      <td>13</td>\n      <td>15</td>\n      <td>13</td>\n      <td>2</td>\n      <td>15</td>\n      <td>12</td>\n      <td>18</td>\n    </tr>\n    <tr>\n      <th>16760</th>\n      <td>-0.058369</td>\n      <td>-0.059153</td>\n      <td>-1.000000</td>\n      <td>-1.000000</td>\n      <td>-0.109373</td>\n      <td>0.017642</td>\n      <td>-0.024612</td>\n      <td>-0.027394</td>\n      <td>-1.000000</td>\n      <td>-1.000000</td>\n      <td>...</td>\n      <td>4</td>\n      <td>2</td>\n      <td>4</td>\n      <td>7</td>\n      <td>1</td>\n      <td>1</td>\n      <td>1</td>\n      <td>24</td>\n      <td>5</td>\n      <td>24</td>\n    </tr>\n    <tr>\n      <th>16761</th>\n      <td>0.344708</td>\n      <td>0.353518</td>\n      <td>-0.772482</td>\n      <td>-0.974118</td>\n      <td>0.301341</td>\n      <td>0.341788</td>\n      <td>0.434587</td>\n      <td>0.516161</td>\n      <td>-0.173809</td>\n      <td>-0.658705</td>\n      <td>...</td>\n      <td>7</td>\n      <td>6</td>\n      <td>3</td>\n      <td>14</td>\n      <td>2</td>\n      <td>15</td>\n      <td>4</td>\n      <td>13</td>\n      <td>21</td>\n      <td>22</td>\n    </tr>\n  </tbody>\n</table>\n<p>16762 rows × 310 columns</p>\n</div>"
     },
     "execution_count": 19,
     "metadata": {},
     "output_type": "execute_result"
    }
   ],
   "source": [
    "#aggiunge al df le colonne dei cluster\n",
    "\n",
    "df_clus = df\n",
    "\n",
    "df_clus = pd.merge(df_clus, col_heat_base, how=\"left\", on=[\"View\"])\n",
    "\n",
    "df_clus.to_csv(r'C:\\Users\\giuli\\Desktop\\df_clus_left.csv', index = False, header=True)\n",
    "\n",
    "# df = df_clus\n",
    "#\n",
    "# df\n",
    "\n",
    "df_clus"
   ],
   "metadata": {
    "collapsed": false,
    "pycharm": {
     "name": "#%%\n"
    }
   }
  },
  {
   "cell_type": "code",
   "execution_count": 20,
   "outputs": [
    {
     "data": {
      "text/plain": "         AxMean     AxMed     AxStd     AxVar     AxMax     AxMin    AyMean  \\\n0     -0.132653 -0.147185 -0.603221 -0.921283  0.032926 -0.109151  0.273847   \n1     -0.021683 -0.003086 -0.550748 -0.899086  0.045203 -0.114663  0.140869   \n2     -0.085178 -0.086068 -0.557407 -0.902056  0.027346 -0.081589  0.209052   \n3     -0.276150 -0.278387 -0.611171 -0.924406 -0.190848 -0.311467  0.018891   \n4     -0.069426 -0.068126 -0.800858 -0.980171 -0.066965 -0.066703 -0.186420   \n...         ...       ...       ...       ...       ...       ...       ...   \n16757 -0.094617 -0.091114 -0.974706 -0.999680 -0.141182 -0.024254 -0.288535   \n16758 -0.337784 -0.329409 -0.968054 -0.999490 -0.364956 -0.248069 -0.052138   \n16759 -0.442860 -0.411833 -0.905203 -0.995507 -0.460381 -0.364941 -0.085882   \n16760 -0.058369 -0.059153 -1.000000 -1.000000 -0.109373  0.017642 -0.024612   \n16761  0.344708  0.353518 -0.772482 -0.974118  0.301341  0.341788  0.434587   \n\n          AyMed     AyStd     AyVar  ...  PreVar  PreMax  PreMin  View  \\\n0      0.271777 -0.630290 -0.931657  ...    -1.0    -1.0    -1.0     t   \n1      0.087105 -0.473945 -0.861633  ...    -1.0    -1.0    -1.0     h   \n2      0.189288 -0.663520 -0.943391  ...    -1.0    -1.0    -1.0     e   \n3      0.021238 -0.675163 -0.947240  ...    -1.0    -1.0    -1.0         \n4     -0.175745 -0.781213 -0.976066  ...    -1.0    -1.0    -1.0     r   \n...         ...       ...       ...  ...     ...     ...     ...   ...   \n16757 -0.281008 -0.975331 -0.999696  ...    -1.0    -1.0    -1.0         \n16758 -0.015699 -0.662813 -0.943152  ...    -1.0    -1.0    -1.0     z   \n16759 -0.088337 -0.983483 -0.999864  ...    -1.0    -1.0    -1.0     a   \n16760 -0.027394 -1.000000 -1.000000  ...    -1.0    -1.0    -1.0     c   \n16761  0.516161 -0.173809 -0.658705  ...    -1.0    -1.0    -1.0     k   \n\n         User  Hand  Smartphone    x  y      dist  \n0      Chiara  LEFT    REALME 7  5.0  0  3.640055  \n1      Chiara  LEFT    REALME 7  6.5  1  5.000000  \n2      Chiara  LEFT    REALME 7  3.0  0  1.802776  \n3      Chiara  LEFT    REALME 7  5.0  3  4.031129  \n4      Chiara  LEFT    REALME 7  4.0  0  2.692582  \n...       ...   ...         ...  ... ..       ...  \n16757  Chiara  LEFT    REALME 7  5.0  3  4.031129  \n16758  Chiara  LEFT    REALME 7  2.0  2  1.118034  \n16759  Chiara  LEFT    REALME 7  1.5  1  0.000000  \n16760  Chiara  LEFT    REALME 7  4.0  2  2.692582  \n16761  Chiara  LEFT    REALME 7  8.5  1  7.000000  \n\n[16762 rows x 283 columns]",
      "text/html": "<div>\n<style scoped>\n    .dataframe tbody tr th:only-of-type {\n        vertical-align: middle;\n    }\n\n    .dataframe tbody tr th {\n        vertical-align: top;\n    }\n\n    .dataframe thead th {\n        text-align: right;\n    }\n</style>\n<table border=\"1\" class=\"dataframe\">\n  <thead>\n    <tr style=\"text-align: right;\">\n      <th></th>\n      <th>AxMean</th>\n      <th>AxMed</th>\n      <th>AxStd</th>\n      <th>AxVar</th>\n      <th>AxMax</th>\n      <th>AxMin</th>\n      <th>AyMean</th>\n      <th>AyMed</th>\n      <th>AyStd</th>\n      <th>AyVar</th>\n      <th>...</th>\n      <th>PreVar</th>\n      <th>PreMax</th>\n      <th>PreMin</th>\n      <th>View</th>\n      <th>User</th>\n      <th>Hand</th>\n      <th>Smartphone</th>\n      <th>x</th>\n      <th>y</th>\n      <th>dist</th>\n    </tr>\n  </thead>\n  <tbody>\n    <tr>\n      <th>0</th>\n      <td>-0.132653</td>\n      <td>-0.147185</td>\n      <td>-0.603221</td>\n      <td>-0.921283</td>\n      <td>0.032926</td>\n      <td>-0.109151</td>\n      <td>0.273847</td>\n      <td>0.271777</td>\n      <td>-0.630290</td>\n      <td>-0.931657</td>\n      <td>...</td>\n      <td>-1.0</td>\n      <td>-1.0</td>\n      <td>-1.0</td>\n      <td>t</td>\n      <td>Chiara</td>\n      <td>LEFT</td>\n      <td>REALME 7</td>\n      <td>5.0</td>\n      <td>0</td>\n      <td>3.640055</td>\n    </tr>\n    <tr>\n      <th>1</th>\n      <td>-0.021683</td>\n      <td>-0.003086</td>\n      <td>-0.550748</td>\n      <td>-0.899086</td>\n      <td>0.045203</td>\n      <td>-0.114663</td>\n      <td>0.140869</td>\n      <td>0.087105</td>\n      <td>-0.473945</td>\n      <td>-0.861633</td>\n      <td>...</td>\n      <td>-1.0</td>\n      <td>-1.0</td>\n      <td>-1.0</td>\n      <td>h</td>\n      <td>Chiara</td>\n      <td>LEFT</td>\n      <td>REALME 7</td>\n      <td>6.5</td>\n      <td>1</td>\n      <td>5.000000</td>\n    </tr>\n    <tr>\n      <th>2</th>\n      <td>-0.085178</td>\n      <td>-0.086068</td>\n      <td>-0.557407</td>\n      <td>-0.902056</td>\n      <td>0.027346</td>\n      <td>-0.081589</td>\n      <td>0.209052</td>\n      <td>0.189288</td>\n      <td>-0.663520</td>\n      <td>-0.943391</td>\n      <td>...</td>\n      <td>-1.0</td>\n      <td>-1.0</td>\n      <td>-1.0</td>\n      <td>e</td>\n      <td>Chiara</td>\n      <td>LEFT</td>\n      <td>REALME 7</td>\n      <td>3.0</td>\n      <td>0</td>\n      <td>1.802776</td>\n    </tr>\n    <tr>\n      <th>3</th>\n      <td>-0.276150</td>\n      <td>-0.278387</td>\n      <td>-0.611171</td>\n      <td>-0.924406</td>\n      <td>-0.190848</td>\n      <td>-0.311467</td>\n      <td>0.018891</td>\n      <td>0.021238</td>\n      <td>-0.675163</td>\n      <td>-0.947240</td>\n      <td>...</td>\n      <td>-1.0</td>\n      <td>-1.0</td>\n      <td>-1.0</td>\n      <td></td>\n      <td>Chiara</td>\n      <td>LEFT</td>\n      <td>REALME 7</td>\n      <td>5.0</td>\n      <td>3</td>\n      <td>4.031129</td>\n    </tr>\n    <tr>\n      <th>4</th>\n      <td>-0.069426</td>\n      <td>-0.068126</td>\n      <td>-0.800858</td>\n      <td>-0.980171</td>\n      <td>-0.066965</td>\n      <td>-0.066703</td>\n      <td>-0.186420</td>\n      <td>-0.175745</td>\n      <td>-0.781213</td>\n      <td>-0.976066</td>\n      <td>...</td>\n      <td>-1.0</td>\n      <td>-1.0</td>\n      <td>-1.0</td>\n      <td>r</td>\n      <td>Chiara</td>\n      <td>LEFT</td>\n      <td>REALME 7</td>\n      <td>4.0</td>\n      <td>0</td>\n      <td>2.692582</td>\n    </tr>\n    <tr>\n      <th>...</th>\n      <td>...</td>\n      <td>...</td>\n      <td>...</td>\n      <td>...</td>\n      <td>...</td>\n      <td>...</td>\n      <td>...</td>\n      <td>...</td>\n      <td>...</td>\n      <td>...</td>\n      <td>...</td>\n      <td>...</td>\n      <td>...</td>\n      <td>...</td>\n      <td>...</td>\n      <td>...</td>\n      <td>...</td>\n      <td>...</td>\n      <td>...</td>\n      <td>...</td>\n      <td>...</td>\n    </tr>\n    <tr>\n      <th>16757</th>\n      <td>-0.094617</td>\n      <td>-0.091114</td>\n      <td>-0.974706</td>\n      <td>-0.999680</td>\n      <td>-0.141182</td>\n      <td>-0.024254</td>\n      <td>-0.288535</td>\n      <td>-0.281008</td>\n      <td>-0.975331</td>\n      <td>-0.999696</td>\n      <td>...</td>\n      <td>-1.0</td>\n      <td>-1.0</td>\n      <td>-1.0</td>\n      <td></td>\n      <td>Chiara</td>\n      <td>LEFT</td>\n      <td>REALME 7</td>\n      <td>5.0</td>\n      <td>3</td>\n      <td>4.031129</td>\n    </tr>\n    <tr>\n      <th>16758</th>\n      <td>-0.337784</td>\n      <td>-0.329409</td>\n      <td>-0.968054</td>\n      <td>-0.999490</td>\n      <td>-0.364956</td>\n      <td>-0.248069</td>\n      <td>-0.052138</td>\n      <td>-0.015699</td>\n      <td>-0.662813</td>\n      <td>-0.943152</td>\n      <td>...</td>\n      <td>-1.0</td>\n      <td>-1.0</td>\n      <td>-1.0</td>\n      <td>z</td>\n      <td>Chiara</td>\n      <td>LEFT</td>\n      <td>REALME 7</td>\n      <td>2.0</td>\n      <td>2</td>\n      <td>1.118034</td>\n    </tr>\n    <tr>\n      <th>16759</th>\n      <td>-0.442860</td>\n      <td>-0.411833</td>\n      <td>-0.905203</td>\n      <td>-0.995507</td>\n      <td>-0.460381</td>\n      <td>-0.364941</td>\n      <td>-0.085882</td>\n      <td>-0.088337</td>\n      <td>-0.983483</td>\n      <td>-0.999864</td>\n      <td>...</td>\n      <td>-1.0</td>\n      <td>-1.0</td>\n      <td>-1.0</td>\n      <td>a</td>\n      <td>Chiara</td>\n      <td>LEFT</td>\n      <td>REALME 7</td>\n      <td>1.5</td>\n      <td>1</td>\n      <td>0.000000</td>\n    </tr>\n    <tr>\n      <th>16760</th>\n      <td>-0.058369</td>\n      <td>-0.059153</td>\n      <td>-1.000000</td>\n      <td>-1.000000</td>\n      <td>-0.109373</td>\n      <td>0.017642</td>\n      <td>-0.024612</td>\n      <td>-0.027394</td>\n      <td>-1.000000</td>\n      <td>-1.000000</td>\n      <td>...</td>\n      <td>-1.0</td>\n      <td>-1.0</td>\n      <td>-1.0</td>\n      <td>c</td>\n      <td>Chiara</td>\n      <td>LEFT</td>\n      <td>REALME 7</td>\n      <td>4.0</td>\n      <td>2</td>\n      <td>2.692582</td>\n    </tr>\n    <tr>\n      <th>16761</th>\n      <td>0.344708</td>\n      <td>0.353518</td>\n      <td>-0.772482</td>\n      <td>-0.974118</td>\n      <td>0.301341</td>\n      <td>0.341788</td>\n      <td>0.434587</td>\n      <td>0.516161</td>\n      <td>-0.173809</td>\n      <td>-0.658705</td>\n      <td>...</td>\n      <td>-1.0</td>\n      <td>-1.0</td>\n      <td>-1.0</td>\n      <td>k</td>\n      <td>Chiara</td>\n      <td>LEFT</td>\n      <td>REALME 7</td>\n      <td>8.5</td>\n      <td>1</td>\n      <td>7.000000</td>\n    </tr>\n  </tbody>\n</table>\n<p>16762 rows × 283 columns</p>\n</div>"
     },
     "execution_count": 20,
     "metadata": {},
     "output_type": "execute_result"
    }
   ],
   "source": [
    "df_clus1 = df_clus\n",
    "labels_cluster = []\n",
    "\n",
    "dict_labels = {}\n",
    "\n",
    "for i in range(2, 28):\n",
    "    # save all columns of clusters\n",
    "    labels_cluster.append(df_clus1[str(i) + '_clusters'])\n",
    "    dict_labels[str(i) + '_clusters'] = df_clus1[str(i) + '_clusters'].tolist()\n",
    "\n",
    "df_clus1 = df_clus1.iloc[:, :-27]\n",
    "\n",
    "df_clus1\n",
    "# labels_cluster\n"
   ],
   "metadata": {
    "collapsed": false,
    "pycharm": {
     "name": "#%%\n"
    }
   }
  },
  {
   "cell_type": "code",
   "execution_count": 21,
   "outputs": [],
   "source": [
    "from sklearn.model_selection import StratifiedShuffleSplit, GridSearchCV\n",
    "from matplotlib import pyplot\n",
    "from sklearn.ensemble import RandomForestClassifier\n",
    "from sklearn.naive_bayes import GaussianNB\n",
    "from sklearn.svm import SVC\n",
    "from sklearn.tree import DecisionTreeClassifier\n",
    "from sklearn.ensemble import AdaBoostClassifier, GradientBoostingClassifier\n",
    "from sklearn.linear_model import LogisticRegression\n",
    "from sklearn.neighbors import KNeighborsClassifier\n",
    "from sklearn import metrics\n",
    "from sklearn.model_selection import GridSearchCV"
   ],
   "metadata": {
    "collapsed": false,
    "pycharm": {
     "name": "#%%\n"
    }
   }
  },
  {
   "cell_type": "code",
   "execution_count": 22,
   "outputs": [],
   "source": [
    "# compare machine learning algorithms\n",
    "\n",
    "models = []\n",
    "models.append(('RFC', \"RandomForestClassifier\", RandomForestClassifier(n_estimators = 100, random_state = 42)))\n",
    "models.append(('NB', \"GaussianNB\", GaussianNB()))\n",
    "models.append(('SVM', \"SVC\", SVC(C=1.0, kernel='linear', gamma='auto', random_state=42)))\n",
    "models.append(('CART', \"DecisionTreeClassifier\", DecisionTreeClassifier(random_state=42)))\n",
    "models.append(('ADA', \"AdaBoostClassifier\", AdaBoostClassifier(n_estimators=100, learning_rate=0.1)))\n",
    "models.append(('LR', \"LogisticRegression\", LogisticRegression(solver='liblinear', random_state = 42)))\n",
    "models.append(('KNN', \"KNeighborsClassifier\", KNeighborsClassifier(weights='distance', n_neighbors=30, n_jobs=-1)))"
   ],
   "metadata": {
    "collapsed": false,
    "pycharm": {
     "name": "#%%\n"
    }
   }
  },
  {
   "cell_type": "code",
   "execution_count": 23,
   "outputs": [],
   "source": [
    "# Compare clusters accuracy\n",
    "\n",
    "features = df_clus1.drop(['View','User','Hand', 'Smartphone', 'x', 'y','dist'], axis=1)\n",
    "feature_list = list(features.columns)\n",
    "\n",
    "# Convert to numpy array\n",
    "features = np.array(features)"
   ],
   "metadata": {
    "collapsed": false,
    "pycharm": {
     "name": "#%%\n"
    }
   }
  },
  {
   "cell_type": "code",
   "execution_count": 24,
   "outputs": [],
   "source": [
    "RFC = []\n",
    "NB = []\n",
    "SVM = []\n",
    "CART = []\n",
    "ADA = []\n",
    "LR = []\n",
    "KNN = []"
   ],
   "metadata": {
    "collapsed": false,
    "pycharm": {
     "name": "#%%\n"
    }
   }
  },
  {
   "cell_type": "code",
   "execution_count": 25,
   "outputs": [
    {
     "name": "stdout",
     "output_type": "stream",
     "text": [
      "(16762, 276) (16762,)\n",
      "Train: 11733 11733 Test: 5029 5029\n",
      "{0: 3597, 1: 1432}\n",
      "RFC: 93.100000\n",
      "NB: 89.780000\n",
      "SVM: 93.540000\n",
      "CART: 90.240000\n",
      "ADA: 92.880000\n",
      "LR: 93.440000\n",
      "KNN: 92.600000\n",
      "(16762, 276) (16762,)\n",
      "Train: 11733 11733 Test: 5029 5029\n",
      "{0: 1162, 1: 2568, 2: 1299}\n",
      "RFC: 84.830000\n",
      "NB: 77.150000\n",
      "SVM: 84.330000\n",
      "CART: 77.090000\n",
      "ADA: 82.720000\n",
      "LR: 83.930000\n",
      "KNN: 82.480000\n",
      "(16762, 276) (16762,)\n",
      "Train: 11733 11733 Test: 5029 5029\n",
      "{0: 2114, 1: 1162, 2: 1299, 3: 454}\n",
      "RFC: 79.580000\n",
      "NB: 70.890000\n",
      "SVM: 78.760000\n",
      "CART: 70.350000\n",
      "ADA: 73.750000\n",
      "LR: 78.640000\n",
      "KNN: 77.110000\n",
      "(16762, 276) (16762,)\n",
      "Train: 11733 11733 Test: 5029 5029\n",
      "{0: 1162, 1: 2114, 2: 1030, 3: 454, 4: 269}\n",
      "RFC: 75.980000\n",
      "NB: 64.310000\n",
      "SVM: 76.400000\n",
      "CART: 64.450000\n",
      "ADA: 70.790000\n",
      "LR: 75.320000\n",
      "KNN: 74.230000\n",
      "(16762, 276) (16762,)\n",
      "Train: 11733 11733 Test: 5029 5029\n",
      "{0: 407, 1: 1030, 2: 2113, 3: 756, 4: 454, 5: 269}\n",
      "RFC: 71.290000\n",
      "NB: 59.690000\n",
      "SVM: 70.510000\n",
      "CART: 57.940000\n",
      "ADA: 62.560000\n",
      "LR: 69.100000\n",
      "KNN: 67.610000\n",
      "(16762, 276) (16762,)\n",
      "Train: 11733 11733 Test: 5029 5029\n",
      "{0: 2030, 1: 407, 2: 454, 3: 269, 4: 756, 5: 1030, 6: 83}\n",
      "RFC: 69.160000\n",
      "NB: 50.610000\n",
      "SVM: 69.320000\n",
      "CART: 56.850000\n",
      "ADA: 58.300000\n",
      "LR: 68.340000\n",
      "KNN: 66.750000\n",
      "(16762, 276) (16762,)\n",
      "Train: 11733 11733 Test: 5029 5029\n",
      "{0: 2030, 1: 639, 2: 269, 3: 756, 4: 454, 5: 407, 6: 83, 7: 391}\n",
      "RFC: 66.000000\n",
      "NB: 51.180000\n",
      "SVM: 66.630000\n",
      "CART: 53.230000\n",
      "ADA: 55.940000\n",
      "LR: 64.840000\n",
      "KNN: 63.310000\n",
      "(16762, 276) (16762,)\n",
      "Train: 11733 11733 Test: 5029 5029\n",
      "{0: 639, 1: 1095, 2: 407, 3: 391, 4: 454, 5: 756, 6: 269, 7: 83, 8: 935}\n",
      "RFC: 56.330000\n",
      "NB: 45.480000\n",
      "SVM: 57.130000\n",
      "CART: 41.440000\n",
      "ADA: 42.830000\n",
      "LR: 55.720000\n",
      "KNN: 53.110000\n",
      "(16762, 276) (16762,)\n",
      "Train: 11733 11733 Test: 5029 5029\n",
      "{0: 1095, 1: 935, 2: 756, 3: 81, 4: 639, 5: 391, 6: 269, 7: 407, 8: 83, 9: 373}\n",
      "RFC: 55.300000\n",
      "NB: 45.000000\n",
      "SVM: 56.490000\n",
      "CART: 41.200000\n",
      "ADA: 43.610000\n",
      "LR: 55.300000\n",
      "KNN: 52.730000\n",
      "(16762, 276) (16762,)\n",
      "Train: 11733 11733 Test: 5029 5029\n",
      "{0: 373, 1: 540, 2: 935, 3: 391, 4: 1095, 5: 639, 6: 269, 7: 407, 8: 83, 9: 81, 10: 216}\n",
      "RFC: 53.490000\n",
      "NB: 40.700000\n",
      "SVM: 54.420000\n",
      "CART: 40.250000\n",
      "ADA: 40.640000\n",
      "LR: 52.580000\n",
      "KNN: 50.270000\n",
      "(16762, 276) (16762,)\n",
      "Train: 11733 11733 Test: 5029 5029\n",
      "{0: 391, 1: 296, 2: 81, 3: 639, 4: 373, 5: 1095, 6: 407, 7: 269, 8: 540, 9: 216, 10: 83, 11: 639}\n",
      "RFC: 52.810000\n",
      "NB: 40.820000\n",
      "SVM: 53.770000\n",
      "CART: 38.240000\n",
      "ADA: 40.920000\n",
      "LR: 52.520000\n",
      "KNN: 50.010000\n",
      "(16762, 276) (16762,)\n",
      "Train: 11733 11733 Test: 5029 5029\n",
      "{0: 639, 1: 165, 2: 391, 3: 1095, 4: 296, 5: 639, 6: 407, 7: 216, 8: 540, 9: 373, 10: 81, 11: 83, 12: 104}\n",
      "RFC: 53.870000\n",
      "NB: 39.390000\n",
      "SVM: 54.620000\n",
      "CART: 37.320000\n",
      "ADA: 41.520000\n",
      "LR: 53.370000\n",
      "KNN: 50.530000\n",
      "(16762, 276) (16762,)\n",
      "Train: 11733 11733 Test: 5029 5029\n",
      "{0: 165, 1: 639, 2: 296, 3: 216, 4: 391, 5: 373, 6: 540, 7: 123, 8: 639, 9: 1095, 10: 104, 11: 83, 12: 81, 13: 284}\n",
      "RFC: 51.500000\n",
      "NB: 38.020000\n",
      "SVM: 51.940000\n",
      "CART: 37.400000\n",
      "ADA: 40.250000\n",
      "LR: 51.440000\n",
      "KNN: 48.860000\n",
      "(16762, 276) (16762,)\n",
      "Train: 11733 11733 Test: 5029 5029\n",
      "{0: 83, 1: 540, 2: 296, 3: 151, 4: 1095, 5: 373, 6: 165, 7: 284, 8: 391, 9: 639, 10: 216, 11: 81, 12: 104, 13: 123, 14: 488}\n",
      "RFC: 50.110000\n",
      "NB: 38.140000\n",
      "SVM: 51.280000\n",
      "CART: 34.960000\n",
      "ADA: 39.270000\n",
      "LR: 49.430000\n",
      "KNN: 46.890000\n",
      "(16762, 276) (16762,)\n",
      "Train: 11733 11733 Test: 5029 5029\n",
      "{0: 296, 1: 284, 2: 391, 3: 362, 4: 165, 5: 1096, 6: 639, 7: 216, 8: 488, 9: 373, 10: 81, 11: 83, 12: 151, 13: 123, 14: 104, 15: 177}\n",
      "RFC: 47.310000\n",
      "NB: 36.530000\n",
      "SVM: 49.330000\n",
      "CART: 33.620000\n",
      "ADA: 37.960000\n",
      "LR: 48.460000\n",
      "KNN: 44.060000\n",
      "(16762, 276) (16762,)\n",
      "Train: 11733 11733 Test: 5029 5029\n",
      "{0: 877, 1: 123, 2: 165, 3: 391, 4: 373, 5: 296, 6: 488, 7: 216, 8: 83, 9: 177, 10: 104, 11: 639, 12: 284, 13: 362, 14: 151, 15: 81, 16: 219}\n",
      "RFC: 47.030000\n",
      "NB: 36.190000\n",
      "SVM: 48.040000\n",
      "CART: 31.910000\n",
      "ADA: 34.900000\n",
      "LR: 46.850000\n",
      "KNN: 43.550000\n",
      "(16762, 276) (16762,)\n",
      "Train: 11733 11733 Test: 5029 5029\n",
      "{0: 639, 1: 488, 2: 877, 3: 373, 4: 296, 5: 391, 6: 219, 7: 216, 8: 81, 9: 151, 10: 69, 11: 83, 12: 123, 13: 362, 14: 284, 15: 177, 16: 104, 17: 96}\n",
      "RFC: 46.150000\n",
      "NB: 34.880000\n",
      "SVM: 47.460000\n",
      "CART: 32.310000\n",
      "ADA: 33.880000\n",
      "LR: 45.750000\n",
      "KNN: 42.650000\n",
      "(16762, 276) (16762,)\n",
      "Train: 11733 11733 Test: 5029 5029\n",
      "{0: 312, 1: 362, 2: 296, 3: 219, 4: 69, 5: 391, 6: 216, 7: 639, 8: 877, 9: 104, 10: 177, 11: 488, 12: 83, 13: 123, 14: 284, 15: 151, 16: 81, 17: 96, 18: 61}\n",
      "RFC: 45.380000\n",
      "NB: 34.820000\n",
      "SVM: 47.350000\n",
      "CART: 30.500000\n",
      "ADA: 35.160000\n",
      "LR: 46.190000\n",
      "KNN: 41.860000\n",
      "(16762, 276) (16762,)\n",
      "Train: 11733 11733 Test: 5029 5029\n",
      "{0: 61, 1: 391, 2: 83, 3: 67, 4: 296, 5: 639, 6: 96, 7: 81, 8: 877, 9: 488, 10: 219, 11: 284, 12: 123, 13: 151, 14: 104, 15: 312, 16: 177, 17: 362, 18: 69, 19: 149}\n",
      "RFC: 45.040000\n",
      "NB: 33.090000\n",
      "SVM: 46.990000\n",
      "CART: 29.870000\n",
      "ADA: 32.610000\n",
      "LR: 45.200000\n",
      "KNN: 41.560000\n",
      "(16762, 276) (16762,)\n",
      "Train: 11733 11733 Test: 5029 5029\n",
      "{0: 639, 1: 198, 2: 177, 3: 391, 4: 96, 5: 69, 6: 83, 7: 296, 8: 81, 9: 61, 10: 877, 11: 123, 12: 284, 13: 312, 14: 67, 15: 362, 16: 151, 17: 104, 18: 219, 19: 149, 20: 290}\n",
      "RFC: 43.650000\n",
      "NB: 32.290000\n",
      "SVM: 44.780000\n",
      "CART: 28.670000\n",
      "ADA: 32.890000\n",
      "LR: 43.490000\n",
      "KNN: 39.410000\n",
      "(16762, 276) (16762,)\n",
      "Train: 11733 11733 Test: 5029 5029\n",
      "{0: 96, 1: 296, 2: 67, 3: 391, 4: 503, 5: 362, 6: 284, 7: 61, 8: 877, 9: 149, 10: 177, 11: 123, 12: 69, 13: 151, 14: 83, 15: 312, 16: 104, 17: 81, 18: 198, 19: 290, 20: 219, 21: 136}\n",
      "RFC: 41.860000\n",
      "NB: 30.540000\n",
      "SVM: 43.470000\n",
      "CART: 28.400000\n",
      "ADA: 31.880000\n",
      "LR: 42.590000\n",
      "KNN: 38.300000\n",
      "(16762, 276) (16762,)\n",
      "Train: 11733 11733 Test: 5029 5029\n",
      "{0: 81, 1: 207, 2: 149, 3: 391, 4: 877, 5: 137, 6: 177, 7: 151, 8: 96, 9: 123, 10: 69, 11: 219, 12: 61, 13: 312, 14: 284, 15: 67, 16: 83, 17: 362, 18: 290, 19: 198, 20: 104, 21: 503, 22: 88}\n",
      "RFC: 41.420000\n",
      "NB: 29.110000\n",
      "SVM: 42.350000\n",
      "CART: 26.920000\n",
      "ADA: 31.780000\n",
      "LR: 41.320000\n",
      "KNN: 37.720000\n",
      "(16762, 276) (16762,)\n",
      "Train: 11733 11733 Test: 5029 5029\n",
      "{0: 137, 1: 207, 2: 312, 3: 177, 4: 67, 5: 151, 6: 61, 7: 503, 8: 877, 9: 153, 10: 284, 11: 198, 12: 123, 13: 96, 14: 81, 15: 83, 16: 104, 17: 362, 18: 149, 19: 219, 20: 290, 21: 88, 22: 69, 23: 238}\n",
      "RFC: 40.940000\n",
      "NB: 29.170000\n",
      "SVM: 41.940000\n",
      "CART: 27.700000\n",
      "ADA: 29.890000\n",
      "LR: 41.160000\n",
      "KNN: 38.000000\n",
      "(16762, 276) (16762,)\n",
      "Train: 11733 11733 Test: 5029 5029\n",
      "{0: 877, 1: 123, 2: 88, 3: 153, 4: 219, 5: 83, 6: 198, 7: 69, 8: 503, 9: 177, 10: 137, 11: 81, 12: 362, 13: 67, 14: 70, 15: 312, 16: 96, 17: 61, 18: 104, 19: 290, 20: 151, 21: 284, 22: 149, 23: 238, 24: 137}\n",
      "RFC: 41.560000\n",
      "NB: 29.070000\n",
      "SVM: 42.730000\n",
      "CART: 26.110000\n",
      "ADA: 31.080000\n",
      "LR: 41.580000\n",
      "KNN: 38.280000\n",
      "(16762, 276) (16762,)\n",
      "Train: 11733 11733 Test: 5029 5029\n",
      "{0: 104, 1: 877, 2: 61, 3: 89, 4: 362, 5: 137, 6: 151, 7: 82, 8: 83, 9: 198, 10: 81, 11: 137, 12: 312, 13: 238, 14: 219, 15: 96, 16: 177, 17: 149, 18: 290, 19: 69, 20: 503, 21: 67, 22: 284, 23: 123, 24: 70, 25: 70}\n",
      "RFC: 41.020000\n",
      "NB: 28.610000\n",
      "SVM: 42.510000\n",
      "CART: 26.090000\n",
      "ADA: 31.140000\n",
      "LR: 41.100000\n",
      "KNN: 38.020000\n",
      "(16762, 276) (16762,)\n",
      "Train: 11733 11733 Test: 5029 5029\n",
      "{0: 149, 1: 70, 2: 198, 3: 65, 4: 151, 5: 96, 6: 104, 7: 290, 8: 89, 9: 503, 10: 123, 11: 83, 12: 137, 13: 219, 14: 238, 15: 284, 16: 81, 17: 177, 18: 312, 19: 362, 20: 61, 21: 69, 22: 67, 23: 70, 24: 137, 25: 82, 26: 812}\n",
      "RFC: 39.290000\n",
      "NB: 27.700000\n",
      "SVM: 40.720000\n",
      "CART: 26.010000\n",
      "ADA: 29.110000\n",
      "LR: 39.830000\n",
      "KNN: 37.380000\n"
     ]
    }
   ],
   "source": [
    "for idx, label in enumerate(labels_cluster):\n",
    "\n",
    "    labels = label\n",
    "\n",
    "    # print(features)\n",
    "    # print(labels)\n",
    "\n",
    "    print(features.shape, labels.shape)\n",
    "\n",
    "    # train test split\n",
    "    sss = StratifiedShuffleSplit(n_splits=1, test_size=0.3, random_state=0)\n",
    "    for train_index, test_index in sss.split(features, labels):\n",
    "        X_train, X_test = features[train_index], features[test_index]\n",
    "        y_train, y_test = labels[train_index], labels[test_index]\n",
    "\n",
    "    print(\"Train:\", len(X_train), len(y_train), \"Test:\", len(X_test), len(y_test))\n",
    "\n",
    "\n",
    "\n",
    "    # print number of occurrences for each letters\n",
    "    a, b = np.unique(y_test, return_counts=True)\n",
    "    print(dict(zip(a, b)))\n",
    "\n",
    "    # evaluate each model in turn\n",
    "    results = []\n",
    "    names = []\n",
    "    hue = []\n",
    "    predictions = []\n",
    "\n",
    "    y_pred_result = []\n",
    "\n",
    "    for name, full_name, model in models:\n",
    "\n",
    "        model.fit(X_train, y_train)\n",
    "        y_pred = model.predict(X_test)\n",
    "        accuracy = round(metrics.accuracy_score(y_test, y_pred) * 100, 2)\n",
    "\n",
    "        if name == 'RFC':\n",
    "            RFC.append(accuracy)\n",
    "        elif name == 'NB':\n",
    "            NB.append(accuracy)\n",
    "        elif name == 'SVM':\n",
    "            SVM.append(accuracy)\n",
    "        elif name == 'CART':\n",
    "            CART.append(accuracy)\n",
    "        elif name == 'ADA':\n",
    "            ADA.append(accuracy)\n",
    "        elif name == 'LR':\n",
    "            LR.append(accuracy)\n",
    "        elif name == 'KNN':\n",
    "            KNN.append(accuracy)\n",
    "\n",
    "        y_pred_result.append(y_pred)\n",
    "        predictions.append((full_name, y_pred))\n",
    "        results.append(accuracy)\n",
    "        names.append(name)\n",
    "        hue.append(full_name + \": \" + str(accuracy) + \"%\")\n",
    "\n",
    "        print('%s: %f' % (name, accuracy))\n",
    "\n",
    "        # print(y_pred)\n",
    "        # print(len(y_pred))\n",
    "\n",
    "\n",
    "    # plot ACCURACY of ML Algorithm\n",
    "    #\n",
    "    # graphData = pd.DataFrame({'names':names,'results':results, 'algorithm':hue})\n",
    "    # fig = pyplot.figure(figsize=(24,14), dpi=80)\n",
    "    # pyplot.title(str(idx+2) + ' Clusters Accuracy', fontweight='bold')\n",
    "    # plt_bar = sns.barplot(x='names', y='results', data=graphData, hue='algorithm', dodge=False)\n",
    "    # pyplot.xlabel(\"algorithm\", fontweight='bold')\n",
    "    # pyplot.ylabel(\"accuracy\", fontweight='bold')\n",
    "    # plt.yticks(np.arange(0, 105, 5))\n",
    "    # plt.setp(plt_bar.get_legend().get_texts(), fontsize='15') # for legend text\n",
    "    # plt.setp(plt_bar.get_legend().get_title(), fontsize='16', fontweight='bold') # for legend title\n",
    "    # pyplot.savefig(\"C:\\\\Users\\\\giuli\\\\Desktop\\\\image\\\\clusters_accuracy\\\\\" + str(idx+2) + \"_clusters_accuracy.png\",\n",
    "    #                bbox_inches='tight')\n",
    "    # # pyplot.show()\n",
    "    # pyplot.close()"
   ],
   "metadata": {
    "collapsed": false,
    "pycharm": {
     "name": "#%%\n"
    }
   }
  },
  {
   "cell_type": "code",
   "execution_count": 26,
   "outputs": [],
   "source": [
    "# set width of bars\n",
    "bar_width = 0.12\n",
    "xtick_distance = 0.35\n",
    "\n",
    "# Set position of bar on X axis\n",
    "r1 = np.arange(26)\n",
    "r2 = [xindex + bar_width for xindex in r1]\n",
    "r3 = [xindex + bar_width for xindex in r2]\n",
    "r4 = [xindex + bar_width for xindex in r3]\n",
    "r5 = [xindex + bar_width for xindex in r4]\n",
    "r6 = [xindex + bar_width for xindex in r5]\n",
    "r7 = [xindex + bar_width for xindex in r6]\n",
    "\n",
    "# Make the plot of all clusters\n",
    "plt.figure(figsize = (60,16), dpi=100)\n",
    "plt.bar(r1, RFC, width=bar_width, edgecolor='white', label='RandomForestClassifier')\n",
    "plt.bar(r2, NB, width=bar_width, edgecolor='white', label='GaussianNB')\n",
    "plt.bar(r3, SVM, width=bar_width, edgecolor='white', label='SVC')\n",
    "plt.bar(r4, CART, width=bar_width, edgecolor='white', label='DecisionTreeClassifier')\n",
    "plt.bar(r5, ADA, width=bar_width, edgecolor='white', label='AdaBoostClassifier')\n",
    "plt.bar(r6, LR, width=bar_width, edgecolor='white', label='LogisticRegression')\n",
    "plt.bar(r7, KNN, width=bar_width, edgecolor='white', label='KNeighborsClassifier')\n",
    "\n",
    "# Add xticks and yticks on the middle of the group bars\n",
    "plt.xlabel('clusters', fontweight='bold', fontsize=20)\n",
    "plt.title(\"Clusters Accuracy\", fontweight='bold', fontsize=20)\n",
    "plt.yticks(np.arange(0, 105, 5), fontsize=20)\n",
    "# plt.xticks(np.arange(0, 3, 1), range(2, 5))\n",
    "plt.xticks([r + xtick_distance for r in range(26)], range(2, 28), fontsize=20)\n",
    "# create legend, save graphic\n",
    "plt.legend(prop={\"size\":25})\n",
    "\n",
    "plt.savefig(\"C:\\\\Users\\\\giuli\\\\Desktop\\\\imageLeft\\\\\" + \"accuracy_clusters_bar.png\",\n",
    "                bbox_inches='tight')\n",
    "plt.close()"
   ],
   "metadata": {
    "collapsed": false,
    "pycharm": {
     "name": "#%%\n"
    }
   }
  },
  {
   "cell_type": "code",
   "execution_count": 27,
   "outputs": [],
   "source": [
    "# set width of bars\n",
    "bar_width = 0.10\n",
    "xtick_distance = 0.30\n",
    "\n",
    "# Set position of bar on X axis\n",
    "r1 = np.arange(13)\n",
    "r2 = [xindex + bar_width for xindex in r1]\n",
    "r3 = [xindex + bar_width for xindex in r2]\n",
    "r4 = [xindex + bar_width for xindex in r3]\n",
    "r5 = [xindex + bar_width for xindex in r4]\n",
    "r6 = [xindex + bar_width for xindex in r5]\n",
    "r7 = [xindex + bar_width for xindex in r6]\n",
    "\n",
    "# Make plot of first part of clusters\n",
    "plt.figure(figsize = (24, 10), dpi=100)\n",
    "plt.bar(r1, RFC[:13], width=bar_width, edgecolor='white', label='RandomForestClassifier')\n",
    "plt.bar(r2, NB[:13], width=bar_width, edgecolor='white', label='GaussianNB')\n",
    "plt.bar(r3, SVM[:13], width=bar_width, edgecolor='white', label='SVC')\n",
    "plt.bar(r4, CART[:13], width=bar_width, edgecolor='white', label='DecisionTreeClassifier')\n",
    "plt.bar(r5, ADA[:13], width=bar_width, edgecolor='white', label='AdaBoostClassifier')\n",
    "plt.bar(r6, LR[:13], width=bar_width, edgecolor='white', label='LogisticRegression')\n",
    "plt.bar(r7, KNN[:13], width=bar_width, edgecolor='white', label='KNeighborsClassifier')\n",
    "\n",
    "# Add xticks and yticks on the middle of the group bars\n",
    "plt.xlabel('clusters', fontweight='bold')\n",
    "plt.title(\"Clusters Accuracy\", fontweight='bold')\n",
    "plt.yticks(np.arange(0, 105, 5))\n",
    "# plt.xticks(np.arange(0, 3, 1), range(2, 5))\n",
    "plt.xticks([r + xtick_distance for r in range(13)], range(2, 15))\n",
    "# create legend, save graphic\n",
    "plt.legend(prop={\"size\":12})\n",
    "\n",
    "plt.savefig(\"C:\\\\Users\\\\giuli\\\\Desktop\\\\imageLeft\\\\\" + \"accuracy_clusters_bar_first.png\",\n",
    "                bbox_inches='tight')\n",
    "plt.close()\n",
    "\n",
    "\n",
    "# Make plot of second part of clusters\n",
    "plt.figure(figsize = (24, 10), dpi=100)\n",
    "plt.bar(r1, RFC[13:], width=bar_width, edgecolor='white', label='RandomForestClassifier')\n",
    "plt.bar(r2, NB[13:], width=bar_width, edgecolor='white', label='GaussianNB')\n",
    "plt.bar(r3, SVM[13:], width=bar_width, edgecolor='white', label='SVC')\n",
    "plt.bar(r4, CART[13:], width=bar_width, edgecolor='white', label='DecisionTreeClassifier')\n",
    "plt.bar(r5, ADA[13:], width=bar_width, edgecolor='white', label='AdaBoostClassifier')\n",
    "plt.bar(r6, LR[13:], width=bar_width, edgecolor='white', label='LogisticRegression')\n",
    "plt.bar(r7, KNN[13:], width=bar_width, edgecolor='white', label='KNeighborsClassifier')\n",
    "\n",
    "# Add xticks and yticks on the middle of the group bars\n",
    "plt.xlabel('clusters', fontweight='bold')\n",
    "plt.title(\"Clusters Accuracy\", fontweight='bold')\n",
    "plt.yticks(np.arange(0, 105, 5))\n",
    "# plt.xticks(np.arange(0, 3, 1), range(2, 5))\n",
    "plt.xticks([r + xtick_distance for r in range(13)], range(15, 28))\n",
    "# create legend, save graphic\n",
    "plt.legend(prop={\"size\":12})\n",
    "\n",
    "plt.savefig(\"C:\\\\Users\\\\giuli\\\\Desktop\\\\imageLeft\\\\\" + \"accuracy_clusters_bar_second.png\",\n",
    "                bbox_inches='tight')\n",
    "plt.close()"
   ],
   "metadata": {
    "collapsed": false,
    "pycharm": {
     "name": "#%%\n"
    }
   }
  },
  {
   "cell_type": "code",
   "execution_count": 28,
   "outputs": [],
   "source": [
    "path_accuracy_clusters = 'C:\\\\Users\\\\giuli\\\\Desktop\\\\PythonTesi\\\\jsonFile\\\\accuracy_clusters_left.json'\n",
    "\n",
    "dict_ = {'RFC': RFC, 'NB': NB, 'SVM': SVM, 'CART': CART, 'ADA': ADA, 'LR': LR, 'KNN': KNN}\n",
    "\n",
    "# Creat json and save to file\n",
    "json_accuracy = json.dumps(dict_, indent=4)\n",
    "with open(path_accuracy_clusters, 'w') as file:\n",
    "    file.write(json_accuracy)"
   ],
   "metadata": {
    "collapsed": false,
    "pycharm": {
     "name": "#%%\n"
    }
   }
  },
  {
   "cell_type": "code",
   "execution_count": 29,
   "outputs": [],
   "source": [
    "path_labels_clusters = 'C:\\\\Users\\\\giuli\\\\Desktop\\\\PythonTesi\\\\jsonFile\\\\labels_clusters_left.json'\n",
    "\n",
    "json_labels = json.dumps(dict_labels, indent=4)\n",
    "with open(path_labels_clusters, 'w') as file:\n",
    "    file.write(json_labels)"
   ],
   "metadata": {
    "collapsed": false,
    "pycharm": {
     "name": "#%%\n"
    }
   }
  },
  {
   "cell_type": "code",
   "execution_count": 30,
   "outputs": [
    {
     "data": {
      "text/plain": "       2_clusters  3_clusters  4_clusters  5_clusters  6_clusters  7_clusters  \\\n0               0           2           2           2           1           5   \n1               0           2           2           2           1           5   \n2               0           1           0           1           2           0   \n3               0           1           0           1           2           0   \n4               0           2           2           2           1           5   \n...           ...         ...         ...         ...         ...         ...   \n16757           0           1           0           1           2           0   \n16758           0           1           0           1           2           6   \n16759           0           1           3           3           4           2   \n16760           0           1           0           1           2           0   \n16761           1           0           1           0           3           4   \n\n       8_clusters  9_clusters  10_clusters  11_clusters  ...  18_clusters  \\\n0               1           0            4            5  ...            1   \n1               1           0            4            5  ...            9   \n2               0           8            1            2  ...            0   \n3               0           1            0            4  ...            2   \n4               1           0            4            5  ...            1   \n...           ...         ...          ...          ...  ...          ...   \n16757           0           1            0            4  ...            2   \n16758           6           7            8            8  ...           11   \n16759           4           4            9            0  ...            3   \n16760           0           8            1            2  ...            4   \n16761           3           5            2           10  ...            7   \n\n       19_clusters  20_clusters  21_clusters  22_clusters  23_clusters  \\\n0               11            9           20           19           18   \n1               15           13           16           13            7   \n2                7            5            0            4           21   \n3                8            8           10            8            4   \n4               11            9            1           18           19   \n...            ...          ...          ...          ...          ...   \n16757            8            8           10            8            4   \n16758           12            2            6           14           16   \n16759            0           15           13           15           13   \n16760            2            4            7            1            1   \n16761            6            3           14            2           15   \n\n       24_clusters  25_clusters  26_clusters  27_clusters  \n0               20           19           18            7  \n1                5           20            6            4  \n2                7            8           20            9  \n3                8            0            1           26  \n4               11            6            9            2  \n...            ...          ...          ...          ...  \n16757            8            0            1           26  \n16758           15            5            8           11  \n16759            2           15           12           18  \n16760            1           24            5           24  \n16761            4           13           21           22  \n\n[16762 rows x 26 columns]",
      "text/html": "<div>\n<style scoped>\n    .dataframe tbody tr th:only-of-type {\n        vertical-align: middle;\n    }\n\n    .dataframe tbody tr th {\n        vertical-align: top;\n    }\n\n    .dataframe thead th {\n        text-align: right;\n    }\n</style>\n<table border=\"1\" class=\"dataframe\">\n  <thead>\n    <tr style=\"text-align: right;\">\n      <th></th>\n      <th>2_clusters</th>\n      <th>3_clusters</th>\n      <th>4_clusters</th>\n      <th>5_clusters</th>\n      <th>6_clusters</th>\n      <th>7_clusters</th>\n      <th>8_clusters</th>\n      <th>9_clusters</th>\n      <th>10_clusters</th>\n      <th>11_clusters</th>\n      <th>...</th>\n      <th>18_clusters</th>\n      <th>19_clusters</th>\n      <th>20_clusters</th>\n      <th>21_clusters</th>\n      <th>22_clusters</th>\n      <th>23_clusters</th>\n      <th>24_clusters</th>\n      <th>25_clusters</th>\n      <th>26_clusters</th>\n      <th>27_clusters</th>\n    </tr>\n  </thead>\n  <tbody>\n    <tr>\n      <th>0</th>\n      <td>0</td>\n      <td>2</td>\n      <td>2</td>\n      <td>2</td>\n      <td>1</td>\n      <td>5</td>\n      <td>1</td>\n      <td>0</td>\n      <td>4</td>\n      <td>5</td>\n      <td>...</td>\n      <td>1</td>\n      <td>11</td>\n      <td>9</td>\n      <td>20</td>\n      <td>19</td>\n      <td>18</td>\n      <td>20</td>\n      <td>19</td>\n      <td>18</td>\n      <td>7</td>\n    </tr>\n    <tr>\n      <th>1</th>\n      <td>0</td>\n      <td>2</td>\n      <td>2</td>\n      <td>2</td>\n      <td>1</td>\n      <td>5</td>\n      <td>1</td>\n      <td>0</td>\n      <td>4</td>\n      <td>5</td>\n      <td>...</td>\n      <td>9</td>\n      <td>15</td>\n      <td>13</td>\n      <td>16</td>\n      <td>13</td>\n      <td>7</td>\n      <td>5</td>\n      <td>20</td>\n      <td>6</td>\n      <td>4</td>\n    </tr>\n    <tr>\n      <th>2</th>\n      <td>0</td>\n      <td>1</td>\n      <td>0</td>\n      <td>1</td>\n      <td>2</td>\n      <td>0</td>\n      <td>0</td>\n      <td>8</td>\n      <td>1</td>\n      <td>2</td>\n      <td>...</td>\n      <td>0</td>\n      <td>7</td>\n      <td>5</td>\n      <td>0</td>\n      <td>4</td>\n      <td>21</td>\n      <td>7</td>\n      <td>8</td>\n      <td>20</td>\n      <td>9</td>\n    </tr>\n    <tr>\n      <th>3</th>\n      <td>0</td>\n      <td>1</td>\n      <td>0</td>\n      <td>1</td>\n      <td>2</td>\n      <td>0</td>\n      <td>0</td>\n      <td>1</td>\n      <td>0</td>\n      <td>4</td>\n      <td>...</td>\n      <td>2</td>\n      <td>8</td>\n      <td>8</td>\n      <td>10</td>\n      <td>8</td>\n      <td>4</td>\n      <td>8</td>\n      <td>0</td>\n      <td>1</td>\n      <td>26</td>\n    </tr>\n    <tr>\n      <th>4</th>\n      <td>0</td>\n      <td>2</td>\n      <td>2</td>\n      <td>2</td>\n      <td>1</td>\n      <td>5</td>\n      <td>1</td>\n      <td>0</td>\n      <td>4</td>\n      <td>5</td>\n      <td>...</td>\n      <td>1</td>\n      <td>11</td>\n      <td>9</td>\n      <td>1</td>\n      <td>18</td>\n      <td>19</td>\n      <td>11</td>\n      <td>6</td>\n      <td>9</td>\n      <td>2</td>\n    </tr>\n    <tr>\n      <th>...</th>\n      <td>...</td>\n      <td>...</td>\n      <td>...</td>\n      <td>...</td>\n      <td>...</td>\n      <td>...</td>\n      <td>...</td>\n      <td>...</td>\n      <td>...</td>\n      <td>...</td>\n      <td>...</td>\n      <td>...</td>\n      <td>...</td>\n      <td>...</td>\n      <td>...</td>\n      <td>...</td>\n      <td>...</td>\n      <td>...</td>\n      <td>...</td>\n      <td>...</td>\n      <td>...</td>\n    </tr>\n    <tr>\n      <th>16757</th>\n      <td>0</td>\n      <td>1</td>\n      <td>0</td>\n      <td>1</td>\n      <td>2</td>\n      <td>0</td>\n      <td>0</td>\n      <td>1</td>\n      <td>0</td>\n      <td>4</td>\n      <td>...</td>\n      <td>2</td>\n      <td>8</td>\n      <td>8</td>\n      <td>10</td>\n      <td>8</td>\n      <td>4</td>\n      <td>8</td>\n      <td>0</td>\n      <td>1</td>\n      <td>26</td>\n    </tr>\n    <tr>\n      <th>16758</th>\n      <td>0</td>\n      <td>1</td>\n      <td>0</td>\n      <td>1</td>\n      <td>2</td>\n      <td>6</td>\n      <td>6</td>\n      <td>7</td>\n      <td>8</td>\n      <td>8</td>\n      <td>...</td>\n      <td>11</td>\n      <td>12</td>\n      <td>2</td>\n      <td>6</td>\n      <td>14</td>\n      <td>16</td>\n      <td>15</td>\n      <td>5</td>\n      <td>8</td>\n      <td>11</td>\n    </tr>\n    <tr>\n      <th>16759</th>\n      <td>0</td>\n      <td>1</td>\n      <td>3</td>\n      <td>3</td>\n      <td>4</td>\n      <td>2</td>\n      <td>4</td>\n      <td>4</td>\n      <td>9</td>\n      <td>0</td>\n      <td>...</td>\n      <td>3</td>\n      <td>0</td>\n      <td>15</td>\n      <td>13</td>\n      <td>15</td>\n      <td>13</td>\n      <td>2</td>\n      <td>15</td>\n      <td>12</td>\n      <td>18</td>\n    </tr>\n    <tr>\n      <th>16760</th>\n      <td>0</td>\n      <td>1</td>\n      <td>0</td>\n      <td>1</td>\n      <td>2</td>\n      <td>0</td>\n      <td>0</td>\n      <td>8</td>\n      <td>1</td>\n      <td>2</td>\n      <td>...</td>\n      <td>4</td>\n      <td>2</td>\n      <td>4</td>\n      <td>7</td>\n      <td>1</td>\n      <td>1</td>\n      <td>1</td>\n      <td>24</td>\n      <td>5</td>\n      <td>24</td>\n    </tr>\n    <tr>\n      <th>16761</th>\n      <td>1</td>\n      <td>0</td>\n      <td>1</td>\n      <td>0</td>\n      <td>3</td>\n      <td>4</td>\n      <td>3</td>\n      <td>5</td>\n      <td>2</td>\n      <td>10</td>\n      <td>...</td>\n      <td>7</td>\n      <td>6</td>\n      <td>3</td>\n      <td>14</td>\n      <td>2</td>\n      <td>15</td>\n      <td>4</td>\n      <td>13</td>\n      <td>21</td>\n      <td>22</td>\n    </tr>\n  </tbody>\n</table>\n<p>16762 rows × 26 columns</p>\n</div>"
     },
     "execution_count": 30,
     "metadata": {},
     "output_type": "execute_result"
    }
   ],
   "source": [
    "df_labels_clusters = pd.read_json('C:\\\\Users\\\\giuli\\\\Desktop\\\\PythonTesi\\\\jsonFile\\\\labels_clusters_left.json')\n",
    "df_labels_clusters\n",
    "# f = open('C:\\\\Users\\\\giuli\\\\Desktop\\\\PythonTesi\\\\jsonFile\\\\accuracy_clusters.json', )\n",
    "# data = json.load(f)\n",
    "# RRR = []\n",
    "# for i in data['RFC']:\n",
    "#     RFC.append(i)\n",
    "# for i in data['NB']:\n",
    "#     NB.append(i)\n",
    "# for i in data['SVM']:\n",
    "#     SVM.append(i)\n",
    "# for i in data['CART']:\n",
    "#     CART.append(i)\n",
    "# for i in data['ADA']:\n",
    "#     ADA.append(i)\n",
    "# for i in data['LR']:\n",
    "#     LR.append(i)\n",
    "# for i in data['KNN']:\n",
    "#     KNN.append(i)\n",
    "#\n",
    "# f.close()\n",
    "# print(RFC)"
   ],
   "metadata": {
    "collapsed": false,
    "pycharm": {
     "name": "#%%\n"
    }
   }
  },
  {
   "cell_type": "code",
   "execution_count": 4,
   "outputs": [
    {
     "data": {
      "text/plain": "      RFC     NB    SVM   CART    ADA     LR    KNN\n0   93.10  89.78  93.54  90.24  92.88  93.44  92.60\n1   84.83  77.15  84.33  77.09  82.72  83.93  82.48\n2   79.58  70.89  78.76  70.35  73.75  78.64  77.11\n3   75.98  64.31  76.40  64.45  70.79  75.32  74.23\n4   71.29  59.69  70.51  57.94  62.56  69.10  67.61\n5   69.16  50.61  69.32  56.85  58.30  68.34  66.75\n6   66.00  51.18  66.63  53.23  55.94  64.84  63.31\n7   56.33  45.48  57.13  41.44  42.83  55.72  53.11\n8   55.30  45.00  56.49  41.20  43.61  55.30  52.73\n9   53.49  40.70  54.42  40.25  40.64  52.58  50.27\n10  52.81  40.82  53.77  38.24  40.92  52.52  50.01\n11  53.87  39.39  54.62  37.32  41.52  53.37  50.53\n12  51.50  38.02  51.94  37.40  40.25  51.44  48.86\n13  50.11  38.14  51.28  34.96  39.27  49.43  46.89\n14  47.31  36.53  49.33  33.62  37.96  48.46  44.06\n15  47.03  36.19  48.04  31.91  34.90  46.85  43.55\n16  46.15  34.88  47.46  32.31  33.88  45.75  42.65\n17  45.38  34.82  47.35  30.50  35.16  46.19  41.86\n18  45.04  33.09  46.99  29.87  32.61  45.20  41.56\n19  43.65  32.29  44.78  28.67  32.89  43.49  39.41\n20  41.86  30.54  43.47  28.40  31.88  42.59  38.30\n21  41.42  29.11  42.35  26.92  31.78  41.32  37.72\n22  40.94  29.17  41.94  27.70  29.89  41.16  38.00\n23  41.56  29.07  42.73  26.11  31.08  41.58  38.28\n24  41.02  28.61  42.51  26.09  31.14  41.10  38.02\n25  39.29  27.70  40.72  26.01  29.11  39.83  37.38",
      "text/html": "<div>\n<style scoped>\n    .dataframe tbody tr th:only-of-type {\n        vertical-align: middle;\n    }\n\n    .dataframe tbody tr th {\n        vertical-align: top;\n    }\n\n    .dataframe thead th {\n        text-align: right;\n    }\n</style>\n<table border=\"1\" class=\"dataframe\">\n  <thead>\n    <tr style=\"text-align: right;\">\n      <th></th>\n      <th>RFC</th>\n      <th>NB</th>\n      <th>SVM</th>\n      <th>CART</th>\n      <th>ADA</th>\n      <th>LR</th>\n      <th>KNN</th>\n    </tr>\n  </thead>\n  <tbody>\n    <tr>\n      <th>0</th>\n      <td>93.10</td>\n      <td>89.78</td>\n      <td>93.54</td>\n      <td>90.24</td>\n      <td>92.88</td>\n      <td>93.44</td>\n      <td>92.60</td>\n    </tr>\n    <tr>\n      <th>1</th>\n      <td>84.83</td>\n      <td>77.15</td>\n      <td>84.33</td>\n      <td>77.09</td>\n      <td>82.72</td>\n      <td>83.93</td>\n      <td>82.48</td>\n    </tr>\n    <tr>\n      <th>2</th>\n      <td>79.58</td>\n      <td>70.89</td>\n      <td>78.76</td>\n      <td>70.35</td>\n      <td>73.75</td>\n      <td>78.64</td>\n      <td>77.11</td>\n    </tr>\n    <tr>\n      <th>3</th>\n      <td>75.98</td>\n      <td>64.31</td>\n      <td>76.40</td>\n      <td>64.45</td>\n      <td>70.79</td>\n      <td>75.32</td>\n      <td>74.23</td>\n    </tr>\n    <tr>\n      <th>4</th>\n      <td>71.29</td>\n      <td>59.69</td>\n      <td>70.51</td>\n      <td>57.94</td>\n      <td>62.56</td>\n      <td>69.10</td>\n      <td>67.61</td>\n    </tr>\n    <tr>\n      <th>5</th>\n      <td>69.16</td>\n      <td>50.61</td>\n      <td>69.32</td>\n      <td>56.85</td>\n      <td>58.30</td>\n      <td>68.34</td>\n      <td>66.75</td>\n    </tr>\n    <tr>\n      <th>6</th>\n      <td>66.00</td>\n      <td>51.18</td>\n      <td>66.63</td>\n      <td>53.23</td>\n      <td>55.94</td>\n      <td>64.84</td>\n      <td>63.31</td>\n    </tr>\n    <tr>\n      <th>7</th>\n      <td>56.33</td>\n      <td>45.48</td>\n      <td>57.13</td>\n      <td>41.44</td>\n      <td>42.83</td>\n      <td>55.72</td>\n      <td>53.11</td>\n    </tr>\n    <tr>\n      <th>8</th>\n      <td>55.30</td>\n      <td>45.00</td>\n      <td>56.49</td>\n      <td>41.20</td>\n      <td>43.61</td>\n      <td>55.30</td>\n      <td>52.73</td>\n    </tr>\n    <tr>\n      <th>9</th>\n      <td>53.49</td>\n      <td>40.70</td>\n      <td>54.42</td>\n      <td>40.25</td>\n      <td>40.64</td>\n      <td>52.58</td>\n      <td>50.27</td>\n    </tr>\n    <tr>\n      <th>10</th>\n      <td>52.81</td>\n      <td>40.82</td>\n      <td>53.77</td>\n      <td>38.24</td>\n      <td>40.92</td>\n      <td>52.52</td>\n      <td>50.01</td>\n    </tr>\n    <tr>\n      <th>11</th>\n      <td>53.87</td>\n      <td>39.39</td>\n      <td>54.62</td>\n      <td>37.32</td>\n      <td>41.52</td>\n      <td>53.37</td>\n      <td>50.53</td>\n    </tr>\n    <tr>\n      <th>12</th>\n      <td>51.50</td>\n      <td>38.02</td>\n      <td>51.94</td>\n      <td>37.40</td>\n      <td>40.25</td>\n      <td>51.44</td>\n      <td>48.86</td>\n    </tr>\n    <tr>\n      <th>13</th>\n      <td>50.11</td>\n      <td>38.14</td>\n      <td>51.28</td>\n      <td>34.96</td>\n      <td>39.27</td>\n      <td>49.43</td>\n      <td>46.89</td>\n    </tr>\n    <tr>\n      <th>14</th>\n      <td>47.31</td>\n      <td>36.53</td>\n      <td>49.33</td>\n      <td>33.62</td>\n      <td>37.96</td>\n      <td>48.46</td>\n      <td>44.06</td>\n    </tr>\n    <tr>\n      <th>15</th>\n      <td>47.03</td>\n      <td>36.19</td>\n      <td>48.04</td>\n      <td>31.91</td>\n      <td>34.90</td>\n      <td>46.85</td>\n      <td>43.55</td>\n    </tr>\n    <tr>\n      <th>16</th>\n      <td>46.15</td>\n      <td>34.88</td>\n      <td>47.46</td>\n      <td>32.31</td>\n      <td>33.88</td>\n      <td>45.75</td>\n      <td>42.65</td>\n    </tr>\n    <tr>\n      <th>17</th>\n      <td>45.38</td>\n      <td>34.82</td>\n      <td>47.35</td>\n      <td>30.50</td>\n      <td>35.16</td>\n      <td>46.19</td>\n      <td>41.86</td>\n    </tr>\n    <tr>\n      <th>18</th>\n      <td>45.04</td>\n      <td>33.09</td>\n      <td>46.99</td>\n      <td>29.87</td>\n      <td>32.61</td>\n      <td>45.20</td>\n      <td>41.56</td>\n    </tr>\n    <tr>\n      <th>19</th>\n      <td>43.65</td>\n      <td>32.29</td>\n      <td>44.78</td>\n      <td>28.67</td>\n      <td>32.89</td>\n      <td>43.49</td>\n      <td>39.41</td>\n    </tr>\n    <tr>\n      <th>20</th>\n      <td>41.86</td>\n      <td>30.54</td>\n      <td>43.47</td>\n      <td>28.40</td>\n      <td>31.88</td>\n      <td>42.59</td>\n      <td>38.30</td>\n    </tr>\n    <tr>\n      <th>21</th>\n      <td>41.42</td>\n      <td>29.11</td>\n      <td>42.35</td>\n      <td>26.92</td>\n      <td>31.78</td>\n      <td>41.32</td>\n      <td>37.72</td>\n    </tr>\n    <tr>\n      <th>22</th>\n      <td>40.94</td>\n      <td>29.17</td>\n      <td>41.94</td>\n      <td>27.70</td>\n      <td>29.89</td>\n      <td>41.16</td>\n      <td>38.00</td>\n    </tr>\n    <tr>\n      <th>23</th>\n      <td>41.56</td>\n      <td>29.07</td>\n      <td>42.73</td>\n      <td>26.11</td>\n      <td>31.08</td>\n      <td>41.58</td>\n      <td>38.28</td>\n    </tr>\n    <tr>\n      <th>24</th>\n      <td>41.02</td>\n      <td>28.61</td>\n      <td>42.51</td>\n      <td>26.09</td>\n      <td>31.14</td>\n      <td>41.10</td>\n      <td>38.02</td>\n    </tr>\n    <tr>\n      <th>25</th>\n      <td>39.29</td>\n      <td>27.70</td>\n      <td>40.72</td>\n      <td>26.01</td>\n      <td>29.11</td>\n      <td>39.83</td>\n      <td>37.38</td>\n    </tr>\n  </tbody>\n</table>\n</div>"
     },
     "execution_count": 4,
     "metadata": {},
     "output_type": "execute_result"
    }
   ],
   "source": [
    "df_accuracy_clusters = pd.read_json('C:\\\\Users\\\\giuli\\\\Desktop\\\\PythonTesi\\\\jsonFile\\\\accuracy_clusters_left.json')\n",
    "\n",
    "df_accuracy_clusters\n"
   ],
   "metadata": {
    "collapsed": false,
    "pycharm": {
     "name": "#%%\n"
    }
   }
  },
  {
   "cell_type": "code",
   "execution_count": 5,
   "outputs": [],
   "source": [
    "# Grafico a linee accuracy clusters\n",
    "\n",
    "x_line = np.linspace(2, 27, 26)\n",
    "y = df_accuracy_clusters\n",
    "\n",
    "plt.figure(figsize=(30,18))\n",
    "\n",
    "plt.plot(x_line, y, marker=\"x\")\n",
    "plt.yticks(fontsize=16)\n",
    "plt.xticks(np.linspace(2, 27, 26), range(2, 28), fontsize=18)\n",
    "\n",
    "plt.legend(['RandomForestClassifier', 'GaussianNB', 'SVC', 'DecisionTreeClassifier', 'AdaBoostClassifier',\n",
    "            'LogisticRegression', 'KNeighborsClassifier'], loc='upper right', prop={\"size\":20})\n",
    "\n",
    "plt.ylabel(\"Accuracy\", fontsize=\"10\")\n",
    "plt.xlabel(\"Clusters\", fontsize=\"10\")\n",
    "\n",
    "plt.savefig(\"C:\\\\Users\\\\giuli\\\\Desktop\\\\imageLeft\\\\\" + \"line_graph_clusters.png\",\n",
    "                bbox_inches='tight')\n",
    "\n",
    "plt.close()"
   ],
   "metadata": {
    "collapsed": false,
    "pycharm": {
     "name": "#%%\n"
    }
   }
  }
 ],
 "metadata": {
  "kernelspec": {
   "display_name": "Python 3",
   "language": "python",
   "name": "python3"
  },
  "language_info": {
   "codemirror_mode": {
    "name": "ipython",
    "version": 2
   },
   "file_extension": ".py",
   "mimetype": "text/x-python",
   "name": "python",
   "nbconvert_exporter": "python",
   "pygments_lexer": "ipython2",
   "version": "2.7.6"
  }
 },
 "nbformat": 4,
 "nbformat_minor": 0
}